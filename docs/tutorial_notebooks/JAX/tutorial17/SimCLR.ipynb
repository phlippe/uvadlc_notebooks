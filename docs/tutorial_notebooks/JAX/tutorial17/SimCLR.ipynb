{
 "cells": [
  {
   "cell_type": "markdown",
   "metadata": {},
   "source": [
    "# Tutorial 17: Self-Supervised Contrastive Learning with SimCLR\n",
    "\n",
    "![Status](https://img.shields.io/static/v1.svg?label=Status&message=Finished&color=green)\n",
    "\n",
    "**Filled notebook:** \n",
    "[![View on Github](https://img.shields.io/static/v1.svg?logo=github&label=Repo&message=View%20On%20Github&color=lightgrey)](https://github.com/phlippe/uvadlc_notebooks/blob/master/docs/tutorial_notebooks/JAX/tutorial17/SimCLR.ipynb)\n",
    "[![Open In Collab](https://colab.research.google.com/assets/colab-badge.svg)](https://colab.research.google.com/github/phlippe/uvadlc_notebooks/blob/master/docs/tutorial_notebooks/JAX/tutorial17/SimCLR.ipynb)  \n",
    "**Pre-trained models:** \n",
    "[![View files on Github](https://img.shields.io/static/v1.svg?logo=github&label=Repo&message=View%20On%20Github&color=lightgrey)](https://github.com/phlippe/saved_models/tree/main/JAX/tutorial17)     \n",
    "**PyTorch version:**\n",
    "[![View on RTD](https://img.shields.io/static/v1.svg?logo=readthedocs&label=RTD&message=View%20On%20RTD&color=8CA1AF)](https://uvadlc-notebooks.readthedocs.io/en/latest/tutorial_notebooks/tutorial17/SimCLR.html)   \n",
    "**Author:** Phillip Lippe"
   ]
  },
  {
   "cell_type": "markdown",
   "metadata": {},
   "source": [
    "<div class=\"alert alert-info\">\n",
    "\n",
    "**Note:** This notebook is written in JAX+Flax. It is a 1-to-1 translation of the original notebook written in PyTorch+PyTorch Lightning with almost identical results. For an introduction to JAX, check out our [Tutorial 2 (JAX): Introduction to JAX+Flax](https://uvadlc-notebooks.readthedocs.io/en/latest/tutorial_notebooks/JAX/tutorial2/Introduction_to_JAX.html). Further, throughout the notebook, we comment on major differences to the PyTorch version and provide explanations for the major parts of the JAX code.\n",
    "    \n",
    "</div>"
   ]
  },
  {
   "cell_type": "markdown",
   "metadata": {},
   "source": [
    "---\n",
    "\n",
    "**Speed comparison**: We will report the speed comparisons of the PyTorch and JAX implementation soon.\n",
    "    \n",
    "| Models                |   PyTorch   |     JAX     |\n",
    "|-----------------------|:-----------:|:-----------:|\n",
    "| SimCLR                |  -min  -sec |  -min  -sec |\n",
    "| Logistic Regression   |  -min  -sec |  -min  -sec |\n",
    "| Supervised ResNet-18  |  -min  -sec |  -min  -sec |\n",
    "\n",
    "---"
   ]
  },
  {
   "cell_type": "markdown",
   "metadata": {},
   "source": [
    "In this tutorial, we will take a closer look at self-supervised contrastive learning. Self-supervised learning, or also sometimes called unsupervised learning, describes the scenario where we have given input data, but no accompanying labels to train in a classical supervised way. However, this data still contains a lot of information from which we can learn: how are the images different from each other? What patterns are descriptive for certain images? Can we cluster the images? And so on. Methods for self-supervised learning try to learn as much as possible from the data alone, so it can quickly be finetuned for a specific classification task. \n",
    "The benefit of self-supervised learning is that a large dataset can often easily be obtained. For instance, if we want to train a vision model on semantic segmentation for autonomous driving, we can collect large amounts of data by simply installing a camera in a car, and driving through a city for an hour. In contrast, if we would want to do supervised learning, we would have to manually label all those images before training a model. This is extremely expensive, and would likely take a couple of months to manually label the same amount of data. Further, self-supervised learning can provide an alternative to transfer learning from models pretrained on ImageNet since we could pretrain a model on a specific dataset/situation, e.g. traffic scenarios for autonomous driving.\n",
    "\n",
    "Within the last two years, a lot of new approaches have been proposed for self-supervised learning, in particular for images, that have resulted in great improvements over supervised models when few labels are available. The subfield that we will focus on in this tutorial is contrastive learning. Contrastive learning is motivated by the question mentioned above: how are images different from each other? Specifically, contrastive learning methods train a model to cluster an image and its slightly augmented version in latent space, while the distance to other images should be maximized. A very recent and simple method for this is [SimCLR](https://arxiv.org/abs/2006.10029), which is visualized below (figure credit - [Ting Chen et al.](https://simclr.github.io/)).\n",
    "\n",
    "<center width=\"100%\"><img src=\"../../tutorial17/simclr_contrastive_learning.png\" width=\"500px\"></center>\n",
    "\n",
    "The general setup is that we are given a dataset of images without any labels, and want to train a model on this data such that it can quickly adapt to any image recognition task afterward. During each training iteration, we sample a batch of images as usual. For each image, we create two versions by applying data augmentation techniques like cropping, Gaussian noise, blurring, etc. An example of such is shown on the left with the image of the dog. We will go into the details and effects of the chosen augmentation techniques later. On those images, we apply a CNN like ResNet and obtain as output a 1D feature vector on which we apply a small MLP. The output features of the two augmented images are then trained to be close to each other, while all other images in that batch should be as different as possible. This way, the model has to learn to recognize the content of the image that remains unchanged under the data augmentations, such as objects which we usually care about in supervised tasks.\n",
    "\n",
    "We will now implement this framework ourselves and discuss further details along the way. Let's first start with importing our standard libraries below:"
   ]
  },
  {
   "cell_type": "code",
   "execution_count": 1,
   "metadata": {},
   "outputs": [
    {
     "name": "stderr",
     "output_type": "stream",
     "text": [
      "/var/folders/n2/p4m4lkjn60j1ky5sffq81s_m0000gn/T/ipykernel_4238/81899654.py:12: DeprecationWarning: `set_matplotlib_formats` is deprecated since IPython 7.23, directly use `matplotlib_inline.backend_inline.set_matplotlib_formats()`\n",
      "  set_matplotlib_formats('svg', 'pdf') # For export\n"
     ]
    },
    {
     "name": "stdout",
     "output_type": "stream",
     "text": [
      "Device: TFRT_CPU_0\n"
     ]
    }
   ],
   "source": [
    "## Standard libraries\n",
    "import os\n",
    "import numpy as np\n",
    "from typing import Sequence, Any\n",
    "from collections import defaultdict\n",
    "\n",
    "## Imports for plotting\n",
    "import matplotlib.pyplot as plt\n",
    "plt.set_cmap('cividis')\n",
    "%matplotlib inline\n",
    "from IPython.display import set_matplotlib_formats\n",
    "set_matplotlib_formats('svg', 'pdf') # For export\n",
    "import matplotlib\n",
    "matplotlib.rcParams['lines.linewidth'] = 2.0\n",
    "import seaborn as sns\n",
    "sns.set()\n",
    "\n",
    "## tqdm for loading bars\n",
    "from tqdm.auto import tqdm\n",
    "\n",
    "## To run JAX on TPU in Google Colab, uncomment the two lines below\n",
    "# import jax.tools.colab_tpu\n",
    "# jax.tools.colab_tpu.setup_tpu()\n",
    "\n",
    "## JAX\n",
    "import jax\n",
    "import jax.numpy as jnp\n",
    "from jax import random\n",
    "\n",
    "## Flax (NN in JAX)\n",
    "try:\n",
    "    import flax\n",
    "except ModuleNotFoundError: # Install flax if missing\n",
    "    !pip install --quiet flax\n",
    "    import flax\n",
    "from flax import linen as nn\n",
    "from flax.training import train_state, checkpoints\n",
    "\n",
    "## Optax (Optimizers in JAX)\n",
    "try:\n",
    "    import optax\n",
    "except ModuleNotFoundError: # Install optax if missing\n",
    "    !pip install --quiet optax\n",
    "    import optax\n",
    "\n",
    "## PyTorch\n",
    "import torch\n",
    "import torch.utils.data as data\n",
    "from torch.utils.tensorboard import SummaryWriter\n",
    "import torchvision\n",
    "from torchvision import transforms\n",
    "from torchvision.datasets import STL10\n",
    "\n",
    "# Import tensorboard\n",
    "%load_ext tensorboard\n",
    "\n",
    "# Path to the folder where the datasets are/should be downloaded (e.g. CIFAR10)\n",
    "DATASET_PATH = \"../../data\"\n",
    "# Path to the folder where the pretrained models are saved\n",
    "CHECKPOINT_PATH = \"../../saved_models/tutorial17_jax\"\n",
    "\n",
    "print('Device:', jax.devices()[0])"
   ]
  },
  {
   "cell_type": "markdown",
   "metadata": {},
   "source": [
    "As in many tutorials before, we provide pre-trained models. Note that those models are slightly larger as normal (~100MB overall) since we use the default ResNet-18 architecture. If you are running this notebook locally, make sure to have sufficient disk space available."
   ]
  },
  {
   "cell_type": "code",
   "execution_count": null,
   "metadata": {},
   "outputs": [],
   "source": [
    "import urllib.request\n",
    "from urllib.error import HTTPError\n",
    "# Github URL where saved models are stored for this tutorial\n",
    "base_url = \"https://raw.githubusercontent.com/phlippe/saved_models/main/JAX/tutorial17/\"\n",
    "# Files to download\n",
    "pretrained_files = [\"SimCLR.ckpt\", \"ResNet.ckpt\",\n",
    "                    \"tensorboards/SimCLR/events.out.tfevents.SimCLR\",\n",
    "                    \"tensorboards/classification/ResNet/events.out.tfevents.ResNet\"]\n",
    "pretrained_files += [f\"LogisticRegression_{size}.ckpt\" for size in [10, 20, 50, 100, 200, 500]]\n",
    "# Create checkpoint path if it doesn't exist yet\n",
    "os.makedirs(CHECKPOINT_PATH, exist_ok=True)\n",
    "\n",
    "# For each file, check whether it already exists. If not, try downloading it.\n",
    "for file_name in pretrained_files:\n",
    "    file_path = os.path.join(CHECKPOINT_PATH, file_name)\n",
    "    if \"/\" in file_name:\n",
    "        os.makedirs(file_path.rsplit(\"/\",1)[0], exist_ok=True)\n",
    "    if not os.path.isfile(file_path):\n",
    "        file_url = base_url + file_name\n",
    "        print(f\"Downloading {file_url}...\")\n",
    "        try:\n",
    "            urllib.request.urlretrieve(file_url, file_path)\n",
    "        except HTTPError as e:\n",
    "            print(\"Something went wrong. Please try to download the file from the GDrive folder, or contact the author with the full output including the following error:\\n\", e)"
   ]
  },
  {
   "cell_type": "markdown",
   "metadata": {},
   "source": [
    "## SimCLR\n",
    "\n",
    "We will start our exploration of contrastive learning by discussing the effect of different data augmentation techniques, and how we can implement an efficient data loader for such, specialized for JAX. Next, we implement SimCLR with Flax, and finally train it on a large, unlabeled dataset."
   ]
  },
  {
   "cell_type": "markdown",
   "metadata": {},
   "source": [
    "### Data Augmentation for Contrastive Learning\n",
    "\n",
    "To allow efficient training, we need to prepare the data loading such that we sample two different, random augmentations for each image in the batch. The easiest way to do this is by creating a transformation that, when being called, applies a set of data augmentations to an image twice. This is implemented in the class `ContrastiveTransformations` below:"
   ]
  },
  {
   "cell_type": "code",
   "execution_count": null,
   "metadata": {},
   "outputs": [],
   "source": [
    "class ContrastiveTransformations(object):\n",
    "    \n",
    "    def __init__(self, base_transforms, n_views=2):\n",
    "        self.base_transforms = base_transforms\n",
    "        self.n_views = n_views\n",
    "        \n",
    "    def __call__(self, x):\n",
    "        return [self.base_transforms(x) for i in range(self.n_views)]"
   ]
  },
  {
   "cell_type": "markdown",
   "metadata": {},
   "source": [
    "The contrastive learning framework can easily be extended to have more _positive_ examples by sampling more than two augmentations of the same image. However, the most efficient training is usually obtained by using only two.\n",
    "\n",
    "Next, we can look at the specific augmentations we want to apply. The choice of the data augmentation to use is the most crucial hyperparameter in SimCLR since it directly affects how the latent space is structured, and what patterns might be learned from the data. Let's first take a look at some of the most popular data augmentations (figure credit - [Ting Chen and Geoffrey Hinton](https://ai.googleblog.com/2020/04/advancing-self-supervised-and-semi.html)):\n",
    "\n",
    "<center width=\"100%\"><img src=\"../../tutorial17/simclr_data_augmentations.png\" width=\"800px\" style=\"padding-top: 10px; padding-bottom: 10px\"></center>\n",
    "\n",
    "All of them can be used, but it turns out that two augmentations stand out in their importance: crop-and-resize, and color distortion. Interestingly, however, they only lead to strong performance if they have been used together as discussed by [Ting Chen et al.](https://arxiv.org/abs/2006.10029) in their SimCLR paper. When performing randomly cropping and resizing, we can distinguish between two situations: (a) cropped image A provides a local view of cropped image B, or (b) cropped images C and D show neighboring views of the same image (figure credit - [Ting Chen and Geoffrey Hinton](https://ai.googleblog.com/2020/04/advancing-self-supervised-and-semi.html)).\n",
    "\n",
    "<center width=\"100%\"><img src=\"../../tutorial17/crop_views.svg\" width=\"400px\" style=\"padding-top: 20px; padding-bottom: 0px\"></center>\n",
    "\n",
    "While situation (a) requires the model to learn some sort of scale invariance to make crops A and B similar in latent space, situation (b) is more challenging since the model needs to recognize an object beyond its limited view. However, without color distortion, there is a loophole that the model can exploit, namely that different crops of the same image usually look very similar in color space. Consider the picture of the dog above. Simply from the color of the fur and the green color tone of the background, you can reason that two patches belong to the same image without actually recognizing the dog in the picture. In this case, the model might end up focusing only on the color histograms of the images, and ignore other more generalizable features. If, however, we distort the colors in the two patches randomly and independently of each other, the model cannot rely on this simple feature anymore. Hence, by combining random cropping and color distortions, the model can only match two patches by learning generalizable representations.\n",
    "\n",
    "Overall, for our experiments, we apply a set of 5 transformations following the original SimCLR setup: random horizontal flip, crop-and-resize, color distortion, random grayscale, and gaussian blur. In comparison to the [original implementation](https://github.com/google-research/simclr), we reduce the effect of the color jitter slightly (0.5 instead of 0.8 for brightness, contrast, and saturation, and 0.1 instead of 0.2 for hue). In our experiments, this setting obtained better performance and was faster and more stable to train. If, for instance, the brightness scale highly varies in a dataset, the original settings can be more beneficial since the model can't rely on this information anymore to distinguish between images."
   ]
  },
  {
   "cell_type": "markdown",
   "metadata": {},
   "source": [
    "### Image Augmentations with JAX\n",
    "\n",
    "In the [PyTorch version](https://uvadlc-notebooks.readthedocs.io/en/latest/tutorial_notebooks/tutorial17/SimCLR.html) of this tutorial, we implement all these augmentations with transformation from the [torchvision](https://pytorch.org/vision/stable/index.html) library. This requires a considerable amount of compute from the CPU to prepare the data in time for using it on the GPU. As alternative, we show here an implementation with JAX-native transformations in [Pix](https://dm-pix.readthedocs.io/en/latest/) that are executed on GPU on batch-level, using `jax.vmap` and `jax.jit`. Still, one transformation that can be difficult in JAX is resize-and-crop, since the resize creates arrays of dynamic shapes. Hence, we use the `RandomResizedCrop` transformation from torchvision:"
   ]
  },
  {
   "cell_type": "code",
   "execution_count": null,
   "metadata": {},
   "outputs": [],
   "source": [
    "def image_to_numpy(img):\n",
    "    img = np.array(img, dtype=np.float32)\n",
    "    img = img / 255.\n",
    "    return img\n",
    "    \n",
    "\n",
    "contrast_transforms = transforms.Compose([transforms.RandomResizedCrop(size=96),\n",
    "                                          image_to_numpy])"
   ]
  },
  {
   "cell_type": "markdown",
   "metadata": {},
   "source": [
    "[Pix](https://dm-pix.readthedocs.io/en/latest/) is an image-processing library in JAX, developed by Deep mind, that implements most common data augmentations. Let's first import it below:"
   ]
  },
  {
   "cell_type": "code",
   "execution_count": null,
   "metadata": {},
   "outputs": [],
   "source": [
    "try:\n",
    "    import dm_pix\n",
    "except ModuleNotFoundError: # Install pix if missing\n",
    "    !pip install --quiet dm_pix\n",
    "    import dm_pix"
   ]
  },
  {
   "cell_type": "markdown",
   "metadata": {},
   "source": [
    "As a first step, we implement a function that augments a single image and applies a random horizontal flip, color jitter (brightness, contrast, saturation, and hue), random grayscaling, and gaussian blur. Since these are operations with stochaticity/randomness, we also pass a random seed with it that we can split for each operation."
   ]
  },
  {
   "cell_type": "code",
   "execution_count": null,
   "metadata": {},
   "outputs": [],
   "source": [
    "def augment_image(rng, img):\n",
    "    rngs = random.split(rng, 8)\n",
    "    # Random left-right flip\n",
    "    img = dm_pix.random_flip_left_right(rngs[0], img)\n",
    "    # Color jitter\n",
    "    img_jt = img\n",
    "    img_jt = img_jt * random.uniform(rngs[1], shape=(1,), minval=0.5, maxval=1.5)  # Brightness\n",
    "    img_jt = jax.lax.clamp(0.0, img_jt, 1.0)\n",
    "    img_jt = dm_pix.random_contrast(rngs[2], img_jt, lower=0.5, upper=1.5)\n",
    "    img_jt = jax.lax.clamp(0.0, img_jt, 1.0)\n",
    "    img_jt = dm_pix.random_saturation(rngs[3], img_jt, lower=0.5, upper=1.5)\n",
    "    img_jt = jax.lax.clamp(0.0, img_jt, 1.0)\n",
    "    img_jt = dm_pix.random_hue(rngs[4], img_jt, max_delta=0.1)\n",
    "    img_jt = jax.lax.clamp(0.0, img_jt, 1.0)\n",
    "    should_jt = random.bernoulli(rngs[5], p=0.8)\n",
    "    img = jnp.where(should_jt, img_jt, img)\n",
    "    # Random grayscale\n",
    "    should_gs = random.bernoulli(rngs[6], p=0.2)\n",
    "    img = jax.lax.cond(should_gs,  # Only apply grayscale if true\n",
    "                       lambda x: dm_pix.rgb_to_grayscale(x, keep_dims=True),\n",
    "                       lambda x: x,\n",
    "                       img)\n",
    "    # Gaussian blur\n",
    "    sigma = random.uniform(rngs[7], shape=(1,), minval=0.1, maxval=2.0)\n",
    "    img = dm_pix.gaussian_blur(img, sigma=sigma[0], kernel_size=9)\n",
    "    # Normalization\n",
    "    img = img * 2.0 - 1.0\n",
    "    return img"
   ]
  },
  {
   "cell_type": "markdown",
   "metadata": {},
   "source": [
    "You might have noticed that we do not use the function `dm_pix.random_brightness` for the brightness augmentation. The reason is that the implementation follows TensorFlow's brightness augmentation by adding a constant value to each pixel, while the implementation in torchvision and [PIL](https://pillow.readthedocs.io/en/stable/) scales the pixel values by the factor. To stay closer to the PyTorch implementation, we implement it ourselves by scaling the pixel values.\n",
    "\n",
    "Now that we have a function to augment a single image, let's transform this function to allow for a batch of images. This can be done using `jax.vmap`, with which we can vectorize the function both over images and seeds, such that each image is differently augmented. To not have to pass $N$ seeds for a batch of $N$ images, we can simply split one seed $N$ times before calling the augmentation function. Finally, let's optimize the whole augmentation pipeline by just-in-time compilation:"
   ]
  },
  {
   "cell_type": "code",
   "execution_count": null,
   "metadata": {},
   "outputs": [],
   "source": [
    "parallel_augment = jax.jit(lambda rng, imgs: jax.vmap(augment_image)(random.split(rng, imgs.shape[0]), imgs))"
   ]
  },
  {
   "cell_type": "markdown",
   "metadata": {},
   "source": [
    "In contrast to the PyTorch implementation, this augmentation will be performed on GPU, integrated in the training step for contrastive learning. The benefit of this is that we require much less CPU compute power and don't have to worry much about having enough workers etc. in the data loader. However, the apparent disadvantage is that we strictly block the GPU for the augmentations. But will this even be noticable in practice? We can easily check that by timing the execution for our augmentations on an arbitrary batch of images:"
   ]
  },
  {
   "cell_type": "code",
   "execution_count": null,
   "metadata": {},
   "outputs": [],
   "source": [
    "img_rng, augm_rng = random.split(random.PRNGKey(42))\n",
    "rand_imgs = random.uniform(img_rng, (512, 96, 96, 3))\n",
    "_ = parallel_augment(augm_rng, rand_imgs)"
   ]
  },
  {
   "cell_type": "code",
   "execution_count": null,
   "metadata": {},
   "outputs": [],
   "source": [
    "%%timeit\n",
    "_ = parallel_augment(augm_rng, rand_imgs)"
   ]
  },
  {
   "cell_type": "markdown",
   "metadata": {},
   "source": [
    "Even for this very large batch of images, the augmentation takes only a fraction of a millisecond on a common GPU, while a training step of a ResNet-18, as we will see later, takes several magnitudes more (e.g. about 200ms on an NVIDIA GTX1080Ti). Hence, we will not notice this extra computation during training, while being much more efficient in CPU usage."
   ]
  },
  {
   "cell_type": "markdown",
   "metadata": {},
   "source": [
    "### STL10 dataset\n",
    "\n",
    "After discussing the data augmentation techniques, we can now focus on the dataset. In this tutorial, we will use the [STL10 dataset](https://cs.stanford.edu/~acoates/stl10/), which, similarly to CIFAR10, contains images of 10 classes: airplane, bird, car, cat, deer, dog, horse, monkey, ship, truck. However, the images have a higher resolution, namely $96\\times 96$ pixels, and we are only provided with 500 labeled images per class. Additionally, we have a much larger set of $100,000$ unlabeled images which are similar to the training images but are sampled from a wider range of animals and vehicles. This makes the dataset ideal to showcase the benefits that self-supervised learning offers.\n",
    "\n",
    "Luckily, the STL10 dataset is provided through torchvision. Keep in mind, however, that since this dataset is relatively large and has a considerably higher resolution than CIFAR10, it requires more disk space (~3GB) and takes a bit of time to download. For our initial discussion of self-supervised learning and SimCLR, we will create two data loaders with our contrastive transformations above: the `unlabeled_data` will be used to train our model via contrastive learning, and `train_data_contrast` will be used as a validation set in contrastive learning."
   ]
  },
  {
   "cell_type": "code",
   "execution_count": null,
   "metadata": {},
   "outputs": [],
   "source": [
    "unlabeled_data = STL10(root=DATASET_PATH, split='unlabeled', download=True, \n",
    "                       transform=ContrastiveTransformations(contrast_transforms, n_views=2))\n",
    "train_data_contrast = STL10(root=DATASET_PATH, split='train', download=True, \n",
    "                            transform=ContrastiveTransformations(contrast_transforms, n_views=2))"
   ]
  },
  {
   "cell_type": "markdown",
   "metadata": {},
   "source": [
    "Finally, before starting with our implementation of SimCLR, let's look at some example image pairs sampled with our augmentations:"
   ]
  },
  {
   "cell_type": "code",
   "execution_count": null,
   "metadata": {},
   "outputs": [],
   "source": [
    "# Visualize some examples\n",
    "NUM_IMAGES = 6\n",
    "imgs = np.stack([parallel_augment(random.PRNGKey(idx), np.stack(unlabeled_data[idx][0], axis=0)) for idx in range(NUM_IMAGES)], axis=2)\n",
    "imgs = (imgs + 1.0) / 2.0\n",
    "img_grid = np.pad(imgs, ((0,0), (2,2), (0,0), (2,2), (0,0)))\n",
    "img_grid = img_grid.reshape(img_grid.shape[0]*img_grid.shape[1],-1,img_grid.shape[-1])\n",
    "\n",
    "plt.figure(figsize=(10,5))\n",
    "plt.title('Augmented image examples of the STL10 dataset')\n",
    "plt.imshow(img_grid)\n",
    "plt.axis('off')\n",
    "plt.show()\n",
    "plt.close()"
   ]
  },
  {
   "cell_type": "markdown",
   "metadata": {},
   "source": [
    "We see the wide variety of our data augmentation, including randomly cropping, grayscaling, gaussian blur, and color distortion. Thus, it remains a challenging task for the model to match two, independently augmented patches of the same image."
   ]
  },
  {
   "cell_type": "markdown",
   "metadata": {},
   "source": [
    "### SimCLR implementation\n",
    "\n",
    "Using the data loader pipeline above, we can now implement SimCLR. At each iteration, we get for every image $x$ two differently augmented versions, which we refer to as $\\tilde{x}_i$ and $\\tilde{x}_j$. Both of these images are encoded into a one-dimensional feature vector, between which we want to maximize similarity which minimizes it to all other images in the batch. The encoder network is split into two parts: a base encoder network $f(\\cdot)$, and a projection head $g(\\cdot)$. The base network is usually a deep CNN as we have seen in e.g. [Tutorial 5](https://uvadlc-notebooks.readthedocs.io/en/latest/tutorial_notebooks/JAX/tutorial5/Inception_ResNet_DenseNet.html) before, and is responsible for extracting a representation vector from the augmented data examples. In our experiments, we will use the common ResNet-18 architecture as $f(\\cdot)$, and refer to the output as $f(\\tilde{x}_i)=h_i$. The projection head $g(\\cdot)$ maps the representation $h$ into a space where we apply the contrastive loss, i.e., compare similarities between vectors. It is often chosen to be a small MLP with non-linearities, and for simplicity, we follow the original SimCLR paper setup by defining it as a two-layer MLP with ReLU activation in the hidden layer. Note that in the follow-up paper, [SimCLRv2](https://arxiv.org/abs/2006.10029), the authors mention that larger/wider MLPs can boost the performance considerably. This is why we apply an MLP with four times larger hidden dimensions, but deeper MLPs showed to overfit on the given dataset. The general setup is visualized below (figure credit - [Ting Chen et al.](https://arxiv.org/abs/2006.10029)):\n",
    "\n",
    "<center width=\"100%\"><img src=\"../../tutorial17/simclr_network_setup.svg\" width=\"350px\"></center>\n",
    "\n",
    "After finishing the training with contrastive learning, we will remove the projection head $g(\\cdot)$, and use $f(\\cdot)$ as a pretrained feature extractor. The representations $z$ that come out of the projection head $g(\\cdot)$ have been shown to perform worse than those of the base network $f(\\cdot)$ when finetuning the network for a new task. This is likely because the representations $z$ are trained to become invariant to many features like the color that can be important for downstream tasks. Thus, $g(\\cdot)$ is only needed for the contrastive learning stage.\n",
    "\n",
    "Now that the architecture is described, let's take a closer look at how we train the model. As mentioned before, we want to maximize the similarity between the representations of the two augmented versions of the same image, i.e., $z_i$ and $z_j$ in the figure above, while minimizing it to all other examples in the batch. SimCLR thereby applies the InfoNCE loss, originally proposed by [Aaron van den Oord et al.](https://arxiv.org/abs/1807.03748) for contrastive learning. In short, the InfoNCE loss compares the similarity of $z_i$ and $z_j$ to the similarity of $z_i$ to any other representation in the batch by performing a softmax over the similarity values. The loss can be formally written as:\n",
    "\n",
    "$$\n",
    "\\ell_{i,j}=-\\log \\frac{\\exp(\\text{sim}(z_i,z_j)/\\tau)}{\\sum_{k=1}^{2N}\\mathbb{1}_{[k\\neq i]}\\exp(\\text{sim}(z_i,z_k)/\\tau)}=-\\text{sim}(z_i,z_j)/\\tau+\\log\\left[\\sum_{k=1}^{2N}\\mathbb{1}_{[k\\neq i]}\\exp(\\text{sim}(z_i,z_k)/\\tau)\\right]\n",
    "$$\n",
    "\n",
    "The function $\\text{sim}$ is a similarity metric, and the hyperparameter $\\tau$ is called temperature determining how peaked the distribution is. Since many similarity metrics are bounded, the temperature parameter allows us to balance the influence of many dissimilar image patches versus one similar patch. The similarity metric that is used in SimCLR is cosine similarity, as defined below:\n",
    "\n",
    "$$\n",
    "\\text{sim}(z_i,z_j) = \\frac{z_i^\\top \\cdot z_j}{||z_i||\\cdot||z_j||}\n",
    "$$\n",
    "\n",
    "The maximum cosine similarity possible is $1$, while the minimum is $-1$. In general, we will see that the features of two different images will converge to a cosine similarity around zero since the minimum, $-1$, would require $z_i$ and $z_j$ to be in the exact opposite direction in all feature dimensions, which does not allow for great flexibility.\n",
    "\n",
    "Finally, now that we have discussed all details, let's implement SimCLR below as a Flax module. To not implement ResNet-18 ourselves, we use [flaxmodels](https://github.com/matthias-wright/flaxmodels) as we have already done in [Tutorial 6](https://uvadlc-notebooks.readthedocs.io/en/latest/tutorial_notebooks/JAX/tutorial6/Transformers_and_MHAttention.html)."
   ]
  },
  {
   "cell_type": "code",
   "execution_count": null,
   "metadata": {},
   "outputs": [],
   "source": [
    "# Import and install flaxmodels if needed\n",
    "try:\n",
    "    import flaxmodels\n",
    "except ModuleNotFoundError:\n",
    "    !pip install --upgrade git+https://github.com/matthias-wright/flaxmodels.git\n",
    "    import flaxmodels"
   ]
  },
  {
   "cell_type": "code",
   "execution_count": null,
   "metadata": {},
   "outputs": [],
   "source": [
    "class SimCLR(nn.Module):\n",
    "    hidden_dim : int\n",
    "    temperature : float\n",
    "    \n",
    "    def setup(self):\n",
    "        # Base model f(.) - ResNet 18 with last layer being size of 4*hidden_dim\n",
    "        self.convnet = flaxmodels.ResNet18(output='activations', \n",
    "                                           pretrained=False, \n",
    "                                           normalize=False,\n",
    "                                           num_classes=4*self.hidden_dim)\n",
    "        # Network g(.) as MLP with last fc layer of convnet\n",
    "        self.head = nn.Sequential([\n",
    "            nn.relu,\n",
    "            nn.Dense(self.hidden_dim)\n",
    "        ])\n",
    "        \n",
    "    def __call__(self, imgs, train=True):\n",
    "        # Encode all images\n",
    "        model_feats = self.convnet(imgs, train=train)\n",
    "        feats = self.head(model_feats['fc'])\n",
    "        \n",
    "        # Calculate cosine similarity between all images\n",
    "        cos_sim = optax.cosine_similarity(feats[:,None,:], feats[None,:,:])\n",
    "        cos_sim /= self.temperature\n",
    "        # Masking cosine similarities to itself\n",
    "        diag_range = jnp.arange(feats.shape[0], dtype=jnp.int32)\n",
    "        cos_sim = cos_sim.at[diag_range, diag_range].set(-9e15)\n",
    "        # Find positive example -> batch_size//2 away from the original example\n",
    "        shifted_diag = jnp.roll(diag_range, imgs.shape[0]//2)\n",
    "        pos_logits = cos_sim[diag_range, shifted_diag]\n",
    "        # InfoNCE loss\n",
    "        nll = - pos_logits + nn.logsumexp(cos_sim, axis=-1)\n",
    "        nll = nll.mean()\n",
    "        \n",
    "        # Logging\n",
    "        metrics = {'loss': nll}\n",
    "        # Determine ranking position of positive example\n",
    "        comb_sim = jnp.concatenate([pos_logits[:,None],\n",
    "                                    cos_sim.at[shifted_diag, diag_range].set(-9e15)],\n",
    "                                   axis=-1)\n",
    "        sim_argsort = (-comb_sim).argsort(axis=-1).argmin(axis=-1)\n",
    "        # Logging of ranking position\n",
    "        metrics['acc_top1'] = (sim_argsort == 0).mean()\n",
    "        metrics['acc_top5'] = (sim_argsort < 5).mean()\n",
    "        metrics['acc_mean_pos'] = (sim_argsort + 1).mean()\n",
    "        \n",
    "        return nll, metrics\n",
    "    \n",
    "    def encode(self, imgs, train=False):\n",
    "        # Return features before g(.)\n",
    "        model_feats = self.convnet(imgs, train=train)\n",
    "        return model_feats['block4_1'].mean(axis=(1,2))"
   ]
  },
  {
   "cell_type": "markdown",
   "metadata": {},
   "source": [
    "Alternatively to performing the validation on the contrastive learning loss as well, we could also take a simple, small downstream task, and track the performance of the base network $f(\\cdot)$ on that. However, in this tutorial, we will restrict ourselves to the STL10 dataset where we use the task of image classification on STL10 as our test task."
   ]
  },
  {
   "cell_type": "markdown",
   "metadata": {},
   "source": [
    "### Training\n",
    "\n",
    "Now that we have implemented SimCLR and the data loading pipeline, we are ready to train the model. We will use the same training function setup as usual. We extend the TrainState with a `batch_stats` attribute for the batch statistics, and an PRNG key `rng` for the augmentations during training."
   ]
  },
  {
   "cell_type": "code",
   "execution_count": null,
   "metadata": {},
   "outputs": [],
   "source": [
    "class TrainState(train_state.TrainState):\n",
    "    # Batch statistics from BatchNorm\n",
    "    batch_stats : Any\n",
    "    # PRNGKey for augmentations\n",
    "    rng : Any"
   ]
  },
  {
   "cell_type": "markdown",
   "metadata": {},
   "source": [
    "The class `TrainerModule` will build the foundation for our training code and will be specialized for the different parts/models in this tutorial."
   ]
  },
  {
   "cell_type": "code",
   "execution_count": null,
   "metadata": {},
   "outputs": [],
   "source": [
    "class TrainerModule:\n",
    "\n",
    "    def __init__(self, \n",
    "                 model_name : str, \n",
    "                 model_class : Any, \n",
    "                 eval_key : str, \n",
    "                 exmp_imgs : Any, \n",
    "                 lr : float = 1e-3, \n",
    "                 weight_decay : float = 0.01, \n",
    "                 seed : int = 42, \n",
    "                 check_val_every_n_epoch : int = 1, \n",
    "                 **model_hparams):\n",
    "        \"\"\"\n",
    "        Module for summarizing all common training functionalities.\n",
    "\n",
    "        Inputs:\n",
    "            model_name - Folder name in which to save the checkpoints\n",
    "            model_class - Module class of the model to train\n",
    "            eval_key - Name of the metric to check for saving the best model\n",
    "            exmp_imgs - Example imgs, used as input to initialize the model\n",
    "            lr - Learning rate of the optimizer to use\n",
    "            weight_decay - Weight decay to use in the optimizer\n",
    "            seed - Seed to use in the model initialization\n",
    "            check_val_every_n_epoch - With which frequency to validate the model\n",
    "        \"\"\"\n",
    "        super().__init__()\n",
    "        self.lr = lr\n",
    "        self.weight_decay = weight_decay\n",
    "        self.seed = seed\n",
    "        self.check_val_every_n_epoch = check_val_every_n_epoch\n",
    "        # Create empty model. Note: no parameters yet\n",
    "        self.eval_key = eval_key\n",
    "        self.model_name = model_name\n",
    "        self.model = model_class(**model_hparams)\n",
    "        # Prepare logging\n",
    "        self.log_dir = os.path.join(CHECKPOINT_PATH, f'{self.model_name}/')\n",
    "        self.logger = SummaryWriter(log_dir=self.log_dir)\n",
    "        # Create jitted training and eval functions\n",
    "        self.create_functions()\n",
    "        # Initialize model\n",
    "        self.init_model(exmp_imgs)\n",
    "        \n",
    "    def create_functions(self):\n",
    "        # To be implemented in sub-classes\n",
    "        raise NotImplementedError\n",
    "\n",
    "    def init_model(self, exmp_imgs):\n",
    "        # Initialize model\n",
    "        rng = random.PRNGKey(self.seed)\n",
    "        rng, init_rng = random.split(rng)\n",
    "        variables = self.model.init(init_rng, exmp_imgs)\n",
    "        self.state = TrainState(step=0,\n",
    "                                apply_fn=self.model.apply,\n",
    "                                params=variables['params'],\n",
    "                                batch_stats=variables.get('batch_stats'),\n",
    "                                rng=rng,\n",
    "                                tx=None, opt_state=None)\n",
    "\n",
    "    def init_optimizer(self, num_epochs, num_steps_per_epoch):\n",
    "        # By default, we decrease the learning rate with cosine annealing\n",
    "        lr_schedule = optax.warmup_cosine_decay_schedule(\n",
    "            init_value=0.0,\n",
    "            peak_value=self.lr,\n",
    "            warmup_steps=0.0,\n",
    "            decay_steps=int(num_epochs * num_steps_per_epoch),\n",
    "            end_value=2e-2*self.lr\n",
    "        )\n",
    "        optimizer = optax.adamw(lr_schedule, weight_decay=self.weight_decay)\n",
    "        self.create_train_state(optimizer)\n",
    "        \n",
    "    def create_train_state(self, optimizer):\n",
    "        # Initialize training state\n",
    "        self.state = TrainState.create(apply_fn=self.state.apply_fn,\n",
    "                                       params=self.state.params,\n",
    "                                       batch_stats=self.state.params,\n",
    "                                       rng=self.state.rng,\n",
    "                                       tx=optimizer)\n",
    "\n",
    "    def train_model(self, train_loader, val_loader, num_epochs=200):\n",
    "        # Train model for defined number of epochs\n",
    "        # We first need to create optimizer and the scheduler for the given number of epochs\n",
    "        self.init_optimizer(num_epochs, len(train_loader))\n",
    "        # Track best eval metric\n",
    "        best_eval = 0.0\n",
    "        for epoch_idx in tqdm(range(1, num_epochs+1)):\n",
    "            self.train_epoch(train_loader, epoch=epoch_idx)\n",
    "            if epoch_idx % self.check_val_every_n_epoch == 0:\n",
    "                eval_metrics = self.eval_model(val_loader)\n",
    "                for key in eval_metrics:\n",
    "                    self.logger.add_scalar(f'val/{key}', eval_metrics[key], global_step=epoch_idx)\n",
    "                if eval_metrics[self.eval_key] >= best_eval:\n",
    "                    best_eval = eval_metrics[self.eval_key]\n",
    "                    self.save_model(step=epoch_idx)\n",
    "                self.logger.flush()\n",
    "\n",
    "    def train_epoch(self, data_loader, epoch):\n",
    "        # Train model for one epoch, and log avg metrics\n",
    "        metrics = defaultdict(float)\n",
    "        for batch in tqdm(data_loader, desc='Training', leave=False):\n",
    "            self.state, batch_metrics = self.train_step(self.state, batch)\n",
    "            for key in batch_metrics:\n",
    "                metrics[key] += batch_metrics[key]\n",
    "        num_train_steps = len(data_loader)\n",
    "        for key in metrics:\n",
    "            avg_val = metrics[key].item() / num_train_steps\n",
    "            self.logger.add_scalar('train/'+key, avg_val, global_step=epoch)\n",
    "\n",
    "    def eval_model(self, data_loader):\n",
    "        # Test model on all images of a data loader and return avg metrics\n",
    "        metrics = defaultdict(float)\n",
    "        count = 0\n",
    "        for batch_idx, batch in enumerate(data_loader):\n",
    "            batch_metrics = self.eval_step(self.state, random.PRNGKey(batch_idx), batch)\n",
    "            batch_size = (batch[0] if isinstance(batch, (tuple, list)) else batch).shape[0]\n",
    "            count += batch_size\n",
    "            for key in batch_metrics:\n",
    "                metrics[key] += batch_metrics[key] * batch_size\n",
    "        metrics = {key: metrics[key].item() / count for key in metrics}\n",
    "        return metrics\n",
    "\n",
    "    def save_model(self, step=0):\n",
    "        # Save current model at certain training iteration\n",
    "        checkpoints.save_checkpoint(ckpt_dir=self.log_dir,\n",
    "                                    target={'params': self.state.params, \n",
    "                                            'batch_stats': self.state.batch_stats},\n",
    "                                    step=step,\n",
    "                                    overwrite=True)\n",
    "\n",
    "    def load_model(self, pretrained=False):\n",
    "        # Load model. We use different checkpoint for pretrained models\n",
    "        if not pretrained:\n",
    "            state_dict = checkpoints.restore_checkpoint(ckpt_dir=self.log_dir, target=None)\n",
    "        else:\n",
    "            state_dict = checkpoints.restore_checkpoint(ckpt_dir=os.path.join(CHECKPOINT_PATH, f'{self.model_name}.ckpt'), target=None)\n",
    "        self.state = TrainState.create(apply_fn=self.state.apply_fn,\n",
    "                                       params=state_dict['params'],\n",
    "                                       batch_stats=state_dict['batch_stats'],\n",
    "                                       rng=self.state.rng,\n",
    "                                       tx=self.state.tx if self.state.tx else optax.sgd(self.lr)  # Default optimizer\n",
    "                                      )\n",
    "\n",
    "    def checkpoint_exists(self):\n",
    "        # Check whether a pretrained model exist\n",
    "        return os.path.isfile(os.path.join(CHECKPOINT_PATH, f'{self.model_name}.ckpt'))"
   ]
  },
  {
   "cell_type": "markdown",
   "metadata": {},
   "source": [
    "We specialize this training module for SimCLR below. For saving the best model checkpoint, we track the metric `acc_top5`, which describes how often the correct image patch is within the top-5 most similar examples in the batch. This is usually less noisy than the top-1 metric, making it a better metric to choose the best model from."
   ]
  },
  {
   "cell_type": "code",
   "execution_count": null,
   "metadata": {},
   "outputs": [],
   "source": [
    "class SimCLRTrainer(TrainerModule):\n",
    "    \n",
    "    def __init__(self, **kwargs):\n",
    "        super().__init__(model_name='SimCLR',\n",
    "                         model_class=SimCLR,\n",
    "                         eval_key='acc_top5',\n",
    "                         **kwargs)\n",
    "        \n",
    "    def create_functions(self):\n",
    "        # Function to calculate the InfoNCE loss for a batch of images\n",
    "        def calculate_loss(params, batch_stats, rng, batch, train):\n",
    "            batch = parallel_augment(rng, batch)\n",
    "            outs = self.model.apply({'params': params, 'batch_stats': batch_stats},\n",
    "                                    batch,\n",
    "                                    train=train,\n",
    "                                    mutable=['batch_stats'] if train else False)\n",
    "            (loss, metrics), new_model_state = outs if train else (outs, None)\n",
    "            return loss, (metrics, new_model_state)\n",
    "        # Training function\n",
    "        def train_step(state, batch):\n",
    "            rng, forward_rng = random.split(state.rng)\n",
    "            loss_fn = lambda params: calculate_loss(params, \n",
    "                                                    state.batch_stats, \n",
    "                                                    forward_rng, \n",
    "                                                    batch, \n",
    "                                                    train=True)\n",
    "            (_, (metrics, new_model_state)), grads = jax.value_and_grad(loss_fn, \n",
    "                                                                        has_aux=True)(state.params)\n",
    "            # Update parameters, batch statistics and PRNG key\n",
    "            state = state.apply_gradients(grads=grads, \n",
    "                                          batch_stats=new_model_state['batch_stats'],\n",
    "                                          rng=rng)\n",
    "            return state, metrics\n",
    "        # Eval function\n",
    "        def eval_step(state, rng, batch):\n",
    "            _, (metrics, _) = calculate_loss(state.params, \n",
    "                                             state.batch_stats, \n",
    "                                             rng, \n",
    "                                             batch, \n",
    "                                             train=False)\n",
    "            return metrics\n",
    "        # jit for efficiency\n",
    "        self.train_step = jax.jit(train_step)\n",
    "        self.eval_step = jax.jit(eval_step)"
   ]
  },
  {
   "cell_type": "markdown",
   "metadata": {},
   "source": [
    "Finally, let's prepare the data loaders and write a full training function:"
   ]
  },
  {
   "cell_type": "code",
   "execution_count": null,
   "metadata": {},
   "outputs": [],
   "source": [
    "def numpy_collate_contrastive(batch):\n",
    "    imgs1, imgs2 = [[b[0][i] for b in batch] for i in range(2)]\n",
    "    return np.stack(imgs1 + imgs2, axis=0)\n",
    "\n",
    "batch_size = 256\n",
    "simclr_train_loader = data.DataLoader(unlabeled_data, \n",
    "                                       batch_size=batch_size,\n",
    "                                       shuffle=True,\n",
    "                                       drop_last=True,\n",
    "                                       collate_fn=numpy_collate_contrastive,\n",
    "                                       num_workers=3,\n",
    "                                       persistent_workers=True,\n",
    "                                       generator=torch.Generator().manual_seed(42))\n",
    "simclr_val_loader   = data.DataLoader(train_data_contrast,\n",
    "                                       batch_size=batch_size,\n",
    "                                       shuffle=False,\n",
    "                                       drop_last=False,\n",
    "                                       collate_fn=numpy_collate_contrastive,\n",
    "                                       num_workers=3,\n",
    "                                       persistent_workers=True)"
   ]
  },
  {
   "cell_type": "markdown",
   "metadata": {},
   "source": [
    "A common observation in contrastive learning is that the larger the batch size, the better the models perform. A larger batch size allows us to compare each image to more negative examples, leading to overall smoother loss gradients. However, in our case, we experienced that a batch size of 256 was sufficient to get good results."
   ]
  },
  {
   "cell_type": "code",
   "execution_count": null,
   "metadata": {},
   "outputs": [],
   "source": [
    "def train_simclr(num_epochs=500, **kwargs):\n",
    "    # Create a trainer module with specified hyperparameters\n",
    "    trainer = SimCLRTrainer(exmp_imgs=parallel_augment(random.PRNGKey(0),\n",
    "                                                       next(iter(simclr_train_loader))),\n",
    "                            **kwargs)\n",
    "    if not trainer.checkpoint_exists():  # Skip training if pretrained model exists\n",
    "        trainer.train_model(simclr_train_loader, simclr_val_loader, num_epochs=num_epochs)\n",
    "        trainer.load_model()\n",
    "    else:\n",
    "        trainer.load_model(pretrained=True)\n",
    "    return trainer"
   ]
  },
  {
   "cell_type": "markdown",
   "metadata": {},
   "source": [
    "With everything ready, let's train the model:"
   ]
  },
  {
   "cell_type": "code",
   "execution_count": null,
   "metadata": {},
   "outputs": [],
   "source": [
    "simclr_trainer = train_simclr(hidden_dim=128, \n",
    "                              lr=5e-4, \n",
    "                              temperature=0.07, \n",
    "                              weight_decay=1e-4, \n",
    "                              num_epochs=500)"
   ]
  },
  {
   "cell_type": "markdown",
   "metadata": {},
   "source": [
    "To get an intuition of how training with contrastive learning behaves, we can take a look at the TensorBoard below:"
   ]
  },
  {
   "cell_type": "code",
   "execution_count": 3,
   "metadata": {},
   "outputs": [
    {
     "data": {
      "text/html": [
       "\n",
       "      <iframe id=\"tensorboard-frame-717b4a78b974624c\" width=\"100%\" height=\"800\" frameborder=\"0\">\n",
       "      </iframe>\n",
       "      <script>\n",
       "        (function() {\n",
       "          const frame = document.getElementById(\"tensorboard-frame-717b4a78b974624c\");\n",
       "          const url = new URL(\"/\", window.location);\n",
       "          const port = 6008;\n",
       "          if (port) {\n",
       "            url.port = port;\n",
       "          }\n",
       "          frame.src = url;\n",
       "        })();\n",
       "      </script>\n",
       "    "
      ],
      "text/plain": [
       "<IPython.core.display.HTML object>"
      ]
     },
     "metadata": {},
     "output_type": "display_data"
    }
   ],
   "source": [
    "%tensorboard --logdir ../../saved_models/tutorial17_jax/tensorboards/SimCLR/"
   ]
  },
  {
   "cell_type": "markdown",
   "metadata": {},
   "source": [
    "<center width=\"100%\"><img src=\"tensorboard_simclr.png\" width=\"1200px\"></center>\n",
    "\n",
    "One thing to note is that contrastive learning benefits a lot from long training. The shown plot above is from a training that took approx. 16 hrs on a NVIDIA GTX 1080Ti. Training the model for even longer might reduce its loss further, but we did not experience any gains from it for the downstream task on image classification. In general, contrastive learning can also benefit from using larger models, if sufficient unlabeled data is available."
   ]
  },
  {
   "cell_type": "markdown",
   "metadata": {},
   "source": [
    "## Logistic Regression\n",
    "\n",
    "After we have trained our model via contrastive learning, we can deploy it on downstream tasks and see how well it performs with little data. A common setup, which also verifies whether the model has learned generalized representations, is to perform Logistic Regression on the features. In other words, we learn a single, linear layer that maps the representations to a class prediction. Since the base network $f(\\cdot)$ is not changed during the training process, the model can only perform well if the representations of $h$ describe all features that might be necessary for the task. Further, we do not have to worry too much about overfitting since we have very few parameters that are trained. Hence, we might expect that the model can perform well even with very little data.\n",
    "\n",
    "First, let's implement a simple Logistic Regression setup for which we assume that the images already have been encoded in their feature vectors. If very little data is available, it might be beneficial to dynamically encode the images during training so that we can also apply data augmentations. However, the way we implement it here is much more efficient and can be trained within a few seconds. Further, using data augmentations did not show any significant gain in this simple setup."
   ]
  },
  {
   "cell_type": "code",
   "execution_count": null,
   "metadata": {},
   "outputs": [],
   "source": [
    "class LogisticRegression(nn.Module):\n",
    "    num_classes : int\n",
    "    \n",
    "    @nn.compact\n",
    "    def __call__(self, x):\n",
    "        return nn.Dense(self.num_classes)(x)"
   ]
  },
  {
   "cell_type": "code",
   "execution_count": null,
   "metadata": {},
   "outputs": [],
   "source": [
    "class LGTrainer(TrainerModule):\n",
    "    \n",
    "    def __init__(self, model_suffix, **kwargs):\n",
    "        super().__init__(model_name=f'LogisticRegression_{model_suffix}',\n",
    "                         model_class=LogisticRegression,\n",
    "                         eval_key='acc',\n",
    "                         check_val_every_n_epoch=10,\n",
    "                         **kwargs)\n",
    "\n",
    "    def init_optimizer(self, num_epochs, num_steps_per_epoch):\n",
    "        # We decrease the learning rate with a stepwise function\n",
    "        lr_schedule = optax.piecewise_constant_schedule(\n",
    "            init_value=self.lr,\n",
    "            boundaries_and_scales=\n",
    "                {int(num_steps_per_epoch*num_epochs*0.6): 0.1,\n",
    "                 int(num_steps_per_epoch*num_epochs*0.8): 0.1}\n",
    "        )\n",
    "        optimizer = optax.adamw(lr_schedule, weight_decay=self.weight_decay)\n",
    "        self.create_train_state(optimizer)\n",
    "        \n",
    "    def create_functions(self):\n",
    "        # Function to calculate the classification loss and accuracy\n",
    "        def calculate_loss(params, batch):\n",
    "            imgs, labels = batch\n",
    "            logits = self.model.apply({'params': params}, imgs)\n",
    "            labels_onehot = nn.one_hot(labels, logits.shape[-1])\n",
    "            loss = optax.softmax_cross_entropy(logits, labels_onehot).mean()\n",
    "            acc = (logits.argmax(axis=-1) == labels).mean()\n",
    "            metrics = {'loss': loss, 'acc': acc}\n",
    "            return loss, metrics\n",
    "        # Training function\n",
    "        def train_step(state, batch):\n",
    "            (_, metrics), grads = jax.value_and_grad(calculate_loss, \n",
    "                                                     has_aux=True)(state.params, batch)\n",
    "            state = state.apply_gradients(grads=grads)\n",
    "            return state, metrics\n",
    "        # Eval function\n",
    "        def eval_step(state, rng, batch):\n",
    "            _, metrics = calculate_loss(state.params, batch)\n",
    "            return metrics\n",
    "        # jit for efficiency\n",
    "        self.train_step = jax.jit(train_step)\n",
    "        self.eval_step = jax.jit(eval_step)"
   ]
  },
  {
   "cell_type": "markdown",
   "metadata": {},
   "source": [
    "The data we use is the training and test set of STL10. The training contains 500 images per class, while the test set has 800 images per class."
   ]
  },
  {
   "cell_type": "code",
   "execution_count": null,
   "metadata": {},
   "outputs": [],
   "source": [
    "def numpy_collate(batch):\n",
    "    if isinstance(batch[0], np.ndarray):\n",
    "        return np.stack(batch)\n",
    "    elif isinstance(batch[0], (tuple,list)):\n",
    "        transposed = zip(*batch)\n",
    "        return [numpy_collate(samples) for samples in transposed]\n",
    "    else:\n",
    "        return np.array(batch)\n",
    "\n",
    "\n",
    "img_transforms = transforms.Compose([image_to_numpy,\n",
    "                                     lambda img: (img * 2.0 - 1.0)])\n",
    "\n",
    "train_img_data = STL10(root=DATASET_PATH, split='train', download=True,\n",
    "                       transform=img_transforms)\n",
    "test_img_data = STL10(root=DATASET_PATH, split='test', download=True,\n",
    "                      transform=img_transforms)\n",
    "\n",
    "print(\"Number of training examples:\", len(train_img_data))\n",
    "print(\"Number of test examples:\", len(test_img_data))"
   ]
  },
  {
   "cell_type": "markdown",
   "metadata": {},
   "source": [
    "Next, we implement a small function to encode all images in our datasets. The output representations are then used as inputs to the Logistic Regression model."
   ]
  },
  {
   "cell_type": "code",
   "execution_count": null,
   "metadata": {},
   "outputs": [],
   "source": [
    "class NumpyDataset(data.Dataset):\n",
    "    # data.TensorDataset for numpy arrays\n",
    "    \n",
    "    def __init__(self, *arrays):\n",
    "        self.arrays = arrays\n",
    "        \n",
    "    def __len__(self):\n",
    "        return self.arrays[0].shape[0]\n",
    "    \n",
    "    def __getitem__(self, idx):\n",
    "        return (arr[idx] for arr in self.arrays)"
   ]
  },
  {
   "cell_type": "code",
   "execution_count": null,
   "metadata": {},
   "outputs": [],
   "source": [
    "def prepare_data_features(encode_fn, dataset):\n",
    "    # Encode all images\n",
    "    data_loader = data.DataLoader(dataset, batch_size=64, \n",
    "                                  shuffle=False, \n",
    "                                  drop_last=False,\n",
    "                                  collate_fn=numpy_collate)\n",
    "    feats, labels = [], []\n",
    "    for batch_imgs, batch_labels in tqdm(data_loader):\n",
    "        batch_feats = encode_fn(batch_imgs)\n",
    "        feats.append(jax.device_get(batch_feats))\n",
    "        labels.append(batch_labels)\n",
    "    \n",
    "    feats = np.concatenate(feats, axis=0)\n",
    "    labels = np.concatenate(labels, axis=0)\n",
    "    \n",
    "    # Sort images by labels for easier postprocessing later\n",
    "    idxs = labels.argsort()\n",
    "    labels, feats = labels[idxs], feats[idxs]\n",
    "    \n",
    "    return NumpyDataset(feats, labels)"
   ]
  },
  {
   "cell_type": "markdown",
   "metadata": {},
   "source": [
    "Let's apply the function to both training and test set below."
   ]
  },
  {
   "cell_type": "code",
   "execution_count": null,
   "metadata": {},
   "outputs": [],
   "source": [
    "simclr_model = simclr_trainer.model.bind({'params': simclr_trainer.state.params, \n",
    "                                          'batch_stats': simclr_trainer.state.batch_stats})\n",
    "encode_fn = jax.jit(lambda img: simclr_model.encode(img))\n",
    "train_feats_simclr = prepare_data_features(encode_fn, train_img_data)\n",
    "test_feats_simclr = prepare_data_features(encode_fn, test_img_data)"
   ]
  },
  {
   "cell_type": "markdown",
   "metadata": {},
   "source": [
    "Finally, we can write a training function as usual. We evaluate the model on the test set every 10 epochs to allow early stopping, but the low frequency of the validation ensures that we do not overfit too much on the test set."
   ]
  },
  {
   "cell_type": "code",
   "execution_count": null,
   "metadata": {},
   "outputs": [],
   "source": [
    "def train_logreg(batch_size, train_feats_data, test_feats_data, model_suffix, num_epochs=100, **kwargs):\n",
    "    # Data loaders\n",
    "    train_loader = data.DataLoader(train_feats_data, \n",
    "                                   batch_size=batch_size, \n",
    "                                   shuffle=True, \n",
    "                                   drop_last=False, \n",
    "                                   generator=torch.Generator().manual_seed(42),\n",
    "                                   collate_fn=numpy_collate)\n",
    "    test_loader = data.DataLoader(test_feats_data, \n",
    "                                  batch_size=batch_size, \n",
    "                                  shuffle=False, \n",
    "                                  drop_last=False,\n",
    "                                  collate_fn=numpy_collate)\n",
    "\n",
    "    # Create a trainer module with specified hyperparameters\n",
    "    trainer = LGTrainer(exmp_imgs=next(iter(train_loader))[0],\n",
    "                        model_suffix=model_suffix,\n",
    "                        **kwargs)\n",
    "    if not trainer.checkpoint_exists():  # Skip training if pretrained model exists\n",
    "        trainer.train_model(train_loader, test_loader, num_epochs=num_epochs)\n",
    "        trainer.load_model()\n",
    "    else:\n",
    "        trainer.load_model(pretrained=True)\n",
    "    \n",
    "    # Test best model on train and validation set\n",
    "    train_result = trainer.eval_model(train_loader)\n",
    "    test_result = trainer.eval_model(test_loader)\n",
    "    result = {\"train\": train_result[\"acc\"], \"test\": test_result[\"acc\"]}\n",
    "        \n",
    "    return trainer, result"
   ]
  },
  {
   "cell_type": "markdown",
   "metadata": {},
   "source": [
    "Despite the training dataset of STL10 already only having 500 labeled images per class, we will perform experiments with even smaller datasets. Specifically, we train a Logistic Regression model for datasets with only 10, 20, 50, 100, 200, and all 500 examples per class. This gives us an intuition on how well the representations learned by contrastive learning can be transfered to a image recognition task like this classification. First, let's define a function to create the intended sub-datasets from the full training set:"
   ]
  },
  {
   "cell_type": "code",
   "execution_count": null,
   "metadata": {},
   "outputs": [],
   "source": [
    "def get_smaller_dataset(original_dataset, num_imgs_per_label):\n",
    "    new_arrays = [t.reshape(10, -1, *t.shape[1:])[:,:num_imgs_per_label].reshape(-1, *t.shape[1:])\n",
    "                  for t in original_dataset.arrays]\n",
    "    new_dataset = NumpyDataset(*new_arrays)\n",
    "    return new_dataset"
   ]
  },
  {
   "cell_type": "markdown",
   "metadata": {},
   "source": [
    "Next, let's run all models. Despite us training 6 models, this cell could be run within a minute or two without the pretrained models. "
   ]
  },
  {
   "cell_type": "code",
   "execution_count": null,
   "metadata": {
    "scrolled": true
   },
   "outputs": [],
   "source": [
    "results = {}\n",
    "for num_imgs_per_label in [10, 20, 50, 100, 200, 500]:\n",
    "    sub_train_set = get_smaller_dataset(train_feats_simclr, num_imgs_per_label)\n",
    "    _, small_set_results = train_logreg(batch_size=64,\n",
    "                                        train_feats_data=sub_train_set,\n",
    "                                        test_feats_data=test_feats_simclr,\n",
    "                                        model_suffix=num_imgs_per_label,\n",
    "                                        num_classes=10,\n",
    "                                        lr=1e-3,\n",
    "                                        weight_decay=1e-3)\n",
    "    results[num_imgs_per_label] = small_set_results"
   ]
  },
  {
   "cell_type": "markdown",
   "metadata": {},
   "source": [
    "Finally, let's plot the results."
   ]
  },
  {
   "cell_type": "code",
   "execution_count": null,
   "metadata": {},
   "outputs": [],
   "source": [
    "dataset_sizes = sorted([k for k in results])\n",
    "test_scores = [results[k][\"test\"] for k in dataset_sizes]\n",
    "\n",
    "fig = plt.figure(figsize=(6,4))\n",
    "plt.plot(dataset_sizes, test_scores, '--', color=\"#000\", marker=\"*\", markeredgecolor=\"#000\", markerfacecolor=\"y\", markersize=16)\n",
    "plt.xscale(\"log\")\n",
    "plt.xticks(dataset_sizes, labels=dataset_sizes)\n",
    "plt.title(\"STL10 classification over dataset size\", fontsize=14)\n",
    "plt.xlabel(\"Number of images per class\")\n",
    "plt.ylabel(\"Test accuracy\")\n",
    "plt.minorticks_off()\n",
    "plt.show()\n",
    "\n",
    "for k, score in zip(dataset_sizes, test_scores):\n",
    "    print(f'Test accuracy for {k:3d} images per label: {100*score:4.2f}%')"
   ]
  },
  {
   "cell_type": "markdown",
   "metadata": {},
   "source": [
    "As one would expect, the classification performance improves the more data we have. However, with only 10 images per class, we can already classify more than 60% of the images correctly. This is quite impressive, considering that the images are also higher dimensional than e.g. CIFAR10. With the full dataset, we achieve an accuracy of 81%. The increase between 50 to 500 images per class might suggest a linear increase in performance with an exponentially larger dataset. However, with even more data, we could also finetune $f(\\cdot)$ in the training process, allowing for the representations to adapt more to the specific classification task given.\n",
    "\n",
    "To set the results above into perspective, we will train the base network, a ResNet-18, on the classification task from scratch."
   ]
  },
  {
   "cell_type": "markdown",
   "metadata": {},
   "source": [
    "## Baseline\n",
    "\n",
    "As a baseline to our results above, we will train a standard ResNet-18 with random initialization on the labeled training set of STL10. The results will give us an indication of the advantages that contrastive learning on unlabeled data has compared to using only supervised training. The implementation of the model is straightforward since the ResNet architecture is provided in the flaxmodels library."
   ]
  },
  {
   "cell_type": "code",
   "execution_count": null,
   "metadata": {},
   "outputs": [],
   "source": [
    "class ResNet(nn.Module):\n",
    "    num_classes : int\n",
    "\n",
    "    @nn.compact\n",
    "    def __call__(self, x, train=True):\n",
    "        return flaxmodels.ResNet18(output='logits', \n",
    "                                   pretrained=False, \n",
    "                                   normalize=False,\n",
    "                                   num_classes=self.num_classes)(x, train=train)"
   ]
  },
  {
   "cell_type": "markdown",
   "metadata": {},
   "source": [
    "It is clear that the ResNet easily overfits on the training data since its parameter count is more than 1000 times larger than the dataset size. To make the comparison to the contrastive learning models fair, we apply data augmentations similar to the ones we used before: horizontal flip, crop-and-resize, grayscale, and gaussian blur. Color distortions as before are not used because the color distribution of an image showed to be an important feature for the classification. Hence, we observed no noticeable performance gains when adding color distortions to the set of augmentations. Similarly, we restrict the resizing operation before cropping to the max. 125% of its original resolution, instead of 1250% as done in SimCLR. This is because, for classification, the model needs to recognize the full object, while in contrastive learning, we only want to check whether two patches belong to the same image/object. Hence, the chosen augmentations below are overall weaker than in the contrastive learning case.\n",
    "\n",
    "Following the same setup as for SimCLR, we apply the resizing augmentation in the data loading, and the remaining augmentations efficiently on GPU."
   ]
  },
  {
   "cell_type": "code",
   "execution_count": null,
   "metadata": {},
   "outputs": [],
   "source": [
    "train_transforms = transforms.Compose([transforms.RandomResizedCrop(size=96, scale=(0.8, 1.0)),\n",
    "                                       image_to_numpy])\n",
    "\n",
    "train_img_aug_data = STL10(root=DATASET_PATH, split='train', download=True,\n",
    "                           transform=train_transforms)"
   ]
  },
  {
   "cell_type": "code",
   "execution_count": null,
   "metadata": {},
   "outputs": [],
   "source": [
    "def augment_image_for_classification(rng, img):\n",
    "    rngs = random.split(rng, 3)\n",
    "    # Random left-right flip\n",
    "    img = dm_pix.random_flip_left_right(rngs[0], img)\n",
    "    # Random grayscale\n",
    "    should_gs = random.bernoulli(rngs[1], p=0.2)\n",
    "    img = jax.lax.cond(should_gs,  # Only apply grayscale if true\n",
    "                       lambda x: dm_pix.rgb_to_grayscale(x, keep_dims=True),\n",
    "                       lambda x: x,\n",
    "                       img)\n",
    "    # Gaussian blur\n",
    "    sigma = random.uniform(rngs[2], shape=(1,), minval=0.1, maxval=0.5)\n",
    "    img = dm_pix.gaussian_blur(img, sigma=sigma[0], kernel_size=9)\n",
    "    # Normalization\n",
    "    img = img * 2.0 - 1.0\n",
    "    return img\n",
    "\n",
    "resnet_augm = jax.jit(lambda rng, imgs: jax.vmap(augment_image_for_classification)(random.split(rng, imgs.shape[0]), imgs))"
   ]
  },
  {
   "cell_type": "markdown",
   "metadata": {},
   "source": [
    "Using this augmentation function, we can define our trainer module, which is an extension of the Logistic Regression trainer to tracking BatchNorm statistics and augmentations."
   ]
  },
  {
   "cell_type": "code",
   "execution_count": 1,
   "metadata": {},
   "outputs": [
    {
     "ename": "NameError",
     "evalue": "name 'TrainerModule' is not defined",
     "output_type": "error",
     "traceback": [
      "\u001b[0;31m---------------------------------------------------------------------------\u001b[0m",
      "\u001b[0;31mNameError\u001b[0m                                 Traceback (most recent call last)",
      "Input \u001b[0;32mIn [1]\u001b[0m, in \u001b[0;36m<cell line: 1>\u001b[0;34m()\u001b[0m\n\u001b[0;32m----> 1\u001b[0m \u001b[38;5;28;01mclass\u001b[39;00m \u001b[38;5;21;01mRNTrainer\u001b[39;00m(\u001b[43mTrainerModule\u001b[49m):\n\u001b[1;32m      3\u001b[0m     \u001b[38;5;28;01mdef\u001b[39;00m \u001b[38;5;21m__init__\u001b[39m(\u001b[38;5;28mself\u001b[39m, \u001b[38;5;241m*\u001b[39m\u001b[38;5;241m*\u001b[39mkwargs):\n\u001b[1;32m      4\u001b[0m         \u001b[38;5;28msuper\u001b[39m()\u001b[38;5;241m.\u001b[39m\u001b[38;5;21m__init__\u001b[39m(model_name\u001b[38;5;241m=\u001b[39m\u001b[38;5;124mf\u001b[39m\u001b[38;5;124m'\u001b[39m\u001b[38;5;124mResNet\u001b[39m\u001b[38;5;124m'\u001b[39m,\n\u001b[1;32m      5\u001b[0m                          model_class\u001b[38;5;241m=\u001b[39mResNet,\n\u001b[1;32m      6\u001b[0m                          eval_key\u001b[38;5;241m=\u001b[39m\u001b[38;5;124m'\u001b[39m\u001b[38;5;124macc\u001b[39m\u001b[38;5;124m'\u001b[39m,\n\u001b[1;32m      7\u001b[0m                          check_val_every_n_epoch\u001b[38;5;241m=\u001b[39m\u001b[38;5;241m10\u001b[39m,\n\u001b[1;32m      8\u001b[0m                          \u001b[38;5;241m*\u001b[39m\u001b[38;5;241m*\u001b[39mkwargs)\n",
      "\u001b[0;31mNameError\u001b[0m: name 'TrainerModule' is not defined"
     ]
    }
   ],
   "source": [
    "class RNTrainer(TrainerModule):\n",
    "    \n",
    "    def __init__(self, **kwargs):\n",
    "        super().__init__(model_name=f'ResNet',\n",
    "                         model_class=ResNet,\n",
    "                         eval_key='acc',\n",
    "                         check_val_every_n_epoch=2,\n",
    "                         **kwargs)\n",
    "\n",
    "    def init_optimizer(self, num_epochs, num_steps_per_epoch):\n",
    "        # We decrease the learning rate with a stepwise function\n",
    "        lr_schedule = optax.piecewise_constant_schedule(\n",
    "            init_value=self.lr,\n",
    "            boundaries_and_scales=\n",
    "                {int(num_steps_per_epoch*num_epochs*0.7): 0.1,\n",
    "                 int(num_steps_per_epoch*num_epochs*0.9): 0.1}\n",
    "        )\n",
    "        optimizer = optax.adamw(lr_schedule, weight_decay=self.weight_decay)\n",
    "        self.create_train_state(optimizer)\n",
    "        \n",
    "    def create_functions(self):\n",
    "        # Function to calculate the classification loss and accuracy\n",
    "        def calculate_loss(params, batch_stats, rng, batch, train):\n",
    "            imgs, labels = batch\n",
    "            if train:\n",
    "                imgs = resnet_augm(rng, imgs)\n",
    "            outs = self.model.apply({'params': params, 'batch_stats': batch_stats},\n",
    "                                    imgs,\n",
    "                                    train=train,\n",
    "                                    mutable=['batch_stats'] if train else False)\n",
    "            logits, new_model_state = outs if train else (outs, None)\n",
    "            labels_onehot = nn.one_hot(labels, logits.shape[-1])\n",
    "            loss = optax.softmax_cross_entropy(logits, labels_onehot).mean()\n",
    "            acc = (logits.argmax(axis=-1) == labels).mean()\n",
    "            metrics = {'loss': loss, 'acc': acc}\n",
    "            return loss, (metrics, new_model_state)\n",
    "        # Training function\n",
    "        def train_step(state, batch):\n",
    "            rng, forward_rng = random.split(state.rng)\n",
    "            loss_fn = lambda params: calculate_loss(params, \n",
    "                                                    state.batch_stats, \n",
    "                                                    forward_rng, \n",
    "                                                    batch, \n",
    "                                                    train=True)\n",
    "            # Get loss, gradients for loss, and other outputs of loss function\n",
    "            (_, (metrics, new_model_state)), grads = jax.value_and_grad(loss_fn, \n",
    "                                                                        has_aux=True)(state.params)\n",
    "            # Update parameters, batch statistics and PRNG key\n",
    "            state = state.apply_gradients(grads=grads, \n",
    "                                          batch_stats=new_model_state['batch_stats'],\n",
    "                                          rng=rng)\n",
    "            return state, metrics\n",
    "        # Eval function\n",
    "        def eval_step(state, rng, batch):\n",
    "            _, (metrics, _) = calculate_loss(state.params, \n",
    "                                             state.batch_stats, \n",
    "                                             rng, \n",
    "                                             batch, \n",
    "                                             train=False)\n",
    "            return metrics\n",
    "        # jit for efficiency\n",
    "        self.train_step = jax.jit(train_step)\n",
    "        self.eval_step = jax.jit(eval_step)"
   ]
  },
  {
   "cell_type": "markdown",
   "metadata": {},
   "source": [
    "The training function for the ResNet is almost identical to the Logistic Regression setup. Note that we allow the ResNet to perform validation every 2 epochs to also check whether the model overfits strongly in the first iterations or not."
   ]
  },
  {
   "cell_type": "code",
   "execution_count": null,
   "metadata": {},
   "outputs": [],
   "source": [
    "def train_resnet(batch_size, num_epochs=100, **kwargs):\n",
    "    # Data loaders\n",
    "    train_loader = data.DataLoader(train_img_aug_data, \n",
    "                                   batch_size=batch_size, \n",
    "                                   shuffle=True, \n",
    "                                   drop_last=False, \n",
    "                                   generator=torch.Generator().manual_seed(42),\n",
    "                                   num_workers=3,\n",
    "                                   persistent_workers=True,\n",
    "                                   collate_fn=numpy_collate)\n",
    "    test_loader = data.DataLoader(test_img_data, \n",
    "                                  batch_size=batch_size, \n",
    "                                  shuffle=False, \n",
    "                                  drop_last=False,\n",
    "                                  num_workers=3,\n",
    "                                  persistent_workers=True,\n",
    "                                  collate_fn=numpy_collate)\n",
    "\n",
    "    # Create a trainer module with specified hyperparameters\n",
    "    trainer = RNTrainer(exmp_imgs=next(iter(train_loader))[0],\n",
    "                        **kwargs)\n",
    "    if not trainer.checkpoint_exists():  # Skip training if pretrained model exists\n",
    "        trainer.train_model(train_loader, test_loader, num_epochs=num_epochs)\n",
    "        trainer.load_model()\n",
    "    else:\n",
    "        trainer.load_model(pretrained=True)\n",
    "    \n",
    "    # Test best model on validation/test set\n",
    "    test_result = trainer.eval_model(test_loader)\n",
    "    result = {\"test\": test_result[\"acc\"]}\n",
    "        \n",
    "    return trainer, result"
   ]
  },
  {
   "cell_type": "markdown",
   "metadata": {},
   "source": [
    "Finally, let's train the model and check its results:"
   ]
  },
  {
   "cell_type": "code",
   "execution_count": null,
   "metadata": {},
   "outputs": [],
   "source": [
    "resnet_model, resnet_result = train_resnet(batch_size=64,\n",
    "                                           num_classes=10,\n",
    "                                           lr=1e-3,\n",
    "                                           weight_decay=2e-4,\n",
    "                                           num_epochs=100)\n",
    "print(f\"Accuracy on test set: {resnet_result['test']:4.2%}\")"
   ]
  },
  {
   "cell_type": "markdown",
   "metadata": {},
   "source": [
    "The ResNet trained from scratch achieves 71.38% on the test set. This is almost 8% less than the contrastive learning model, and even slightly less than SimCLR achieves with 1/10 of the data. This shows that self-supervised, contrastive learning provides considerable performance gains by leveraging large amounts of unlabeled data when little labeled data is available."
   ]
  },
  {
   "cell_type": "markdown",
   "metadata": {},
   "source": [
    "## Conclusion\n",
    "\n",
    "In this tutorial, we have discussed self-supervised contrastive learning and implemented SimCLR as an example method. We have applied it to the STL10 dataset and showed that it can learn generalizable representations that we can use to train simple classification models. With 500 images per label, it achieved an 8% higher accuracy than a similar model solely trained from supervision and performs on par with it when only using a tenth of the labeled data. Our experimental results are limited to a single dataset, but recent works such as [Ting Chen et al.](https://arxiv.org/abs/2006.10029) showed similar trends for larger datasets like ImageNet. Besides the discussed hyperparameters, the size of the model seems to be important in contrastive learning as well. If a lot of unlabeled data is available, larger models can achieve much stronger results and come close to their supervised baselines. Further, there are also approaches for combining contrastive and supervised learning, leading to performance gains beyond supervision (see [Khosla et al.](https://arxiv.org/abs/2004.11362)). Moreover, contrastive learning is not the only approach to self-supervised learning that has come up in the last two years and showed great results. Other methods include distillation-based methods like [BYOL](https://arxiv.org/abs/2006.07733) and redundancy reduction techniques like [Barlow Twins](https://arxiv.org/abs/2103.03230). There is a lot more to explore in the self-supervised domain, and more, impressive steps ahead are to be expected.\n",
    "\n",
    "### References\n",
    "\n",
    "[1] Chen, T., Kornblith, S., Norouzi, M., and Hinton, G. (2020). A simple framework for contrastive learning of visual representations. In International conference on machine learning (pp. 1597-1607). PMLR. ([link](https://arxiv.org/abs/2002.05709))\n",
    "\n",
    "[2] Chen, T., Kornblith, S., Swersky, K., Norouzi, M., and Hinton, G. (2020). Big self-supervised models are strong semi-supervised learners. NeurIPS 2021 ([link](https://arxiv.org/abs/2006.10029)).\n",
    "\n",
    "[3] Oord, A. V. D., Li, Y., and Vinyals, O. (2018). Representation learning with contrastive predictive coding. arXiv preprint arXiv:1807.03748. ([link](https://arxiv.org/abs/1807.03748))\n",
    "\n",
    "[4] Grill, J.B., Strub, F., Altché, F., Tallec, C., Richemond, P.H., Buchatskaya, E., Doersch, C., Pires, B.A., Guo, Z.D., Azar, M.G. and Piot, B. (2020). Bootstrap your own latent: A new approach to self-supervised learning. arXiv preprint arXiv:2006.07733. ([link](https://arxiv.org/abs/2006.07733))\n",
    "\n",
    "[5] Khosla, P., Teterwak, P., Wang, C., Sarna, A., Tian, Y., Isola, P., Maschinot, A., Liu, C. and Krishnan, D. (2020). Supervised contrastive learning. arXiv preprint arXiv:2004.11362. ([link](https://arxiv.org/abs/2004.11362))\n",
    "\n",
    "[6] Zbontar, J., Jing, L., Misra, I., LeCun, Y. and Deny, S. (2021). Barlow twins: Self-supervised learning via redundancy reduction. arXiv preprint arXiv:2103.03230. ([link](https://arxiv.org/abs/2103.03230))"
   ]
  },
  {
   "cell_type": "markdown",
   "metadata": {},
   "source": [
    "---\n",
    "\n",
    "[![Star our repository](https://img.shields.io/static/v1.svg?logo=star&label=⭐&message=Star%20Our%20Repository&color=yellow)](https://github.com/phlippe/uvadlc_notebooks/)  If you found this tutorial helpful, consider ⭐-ing our repository.    \n",
    "[![Ask questions](https://img.shields.io/static/v1.svg?logo=star&label=❔&message=Ask%20Questions&color=9cf)](https://github.com/phlippe/uvadlc_notebooks/issues)  For any questions, typos, or bugs that you found, please raise an issue on GitHub. \n",
    "\n",
    "---"
   ]
  }
 ],
 "metadata": {
  "kernelspec": {
   "display_name": "Python 3 (ipykernel)",
   "language": "python",
   "name": "python3"
  },
  "language_info": {
   "codemirror_mode": {
    "name": "ipython",
    "version": 3
   },
   "file_extension": ".py",
   "mimetype": "text/x-python",
   "name": "python",
   "nbconvert_exporter": "python",
   "pygments_lexer": "ipython3",
   "version": "3.8.12"
  }
 },
 "nbformat": 4,
 "nbformat_minor": 4
}
