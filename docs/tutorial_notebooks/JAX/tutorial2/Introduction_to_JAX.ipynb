{
 "cells": [
  {
   "cell_type": "markdown",
   "metadata": {},
   "source": [
    "# Tutorial 2 (JAX): Introduction to JAX+Flax\n",
    "\n",
    "![Status](https://img.shields.io/static/v1.svg?label=Status&message=Finished&color=green)\n",
    "\n",
    "**Filled notebook:** \n",
    "[![View filled on Github](https://img.shields.io/static/v1.svg?logo=github&label=Repo&message=View%20On%20Github&color=lightgrey)](https://github.com/phlippe/uvadlc_notebooks/blob/master/docs/tutorial_notebooks/JAX/tutorial2/Introduction_to_JAX.ipynb)\n",
    "[![Open filled In Collab](https://colab.research.google.com/assets/colab-badge.svg)](https://colab.research.google.com/github/phlippe/uvadlc_notebooks/blob/master/docs/tutorial_notebooks/JAX/tutorial2/Introduction_to_JAX.ipynb)   \n",
    "**Author:** Phillip Lippe"
   ]
  },
  {
   "cell_type": "markdown",
   "metadata": {},
   "source": [
    "Welcome to our JAX tutorial for the Deep Learning course at the University of Amsterdam! The following notebook is meant to give a short introduction to JAX, including writing and training your own neural networks with [Flax](https://flax.readthedocs.io/en/latest/). But why should you learn JAX, if there are already so many other deep learning frameworks like [PyTorch](https://pytorch.org/) and [TensorFlow](https://www.tensorflow.org/)? The short answer: because it can be extremely fast. For instance, a small GoogleNet on CIFAR10, which we discuss in detail in [Tutorial 5](https://uvadlc-notebooks.readthedocs.io/en/latest/tutorial_notebooks/JAX/tutorial5/Inception_ResNet_DenseNet.html), can be trained in JAX 3x faster than in PyTorch with a similar setup. Note that for larger models, larger batch sizes, or smaller GPUs, a considerably smaller speedup is expected, and the code has not been designed for benchmarking. Nonetheless, JAX enables this speedup by compiling functions and numerical programs for accelerators (GPU/TPU) *just in time*, finding the optimal utilization of the hardware. Frameworks with dynamic computation graphs like PyTorch cannot achieve the same efficiency since they cannot anticipate the next operations before the user calls them. For example, in an Inception block of GoogleNet, we apply multiple convolutional layers in parallel on the same input. JAX can optimize the execution of this layer by compiling the whole forward pass for the available accelerator and parallelizing the convolutions where possible. In contrast, when calling the first convolutional layer in PyTorch, the framework does not know that multiple convolutions on the same feature map will follow. It sends each operation one by one to the GPU, and can only adapt the execution after seeing the next Python calls. Hence, JAX can make more efficient use of the GPU than, for instance, PyTorch. \n",
    "\n",
    "However, everything comes with a price. In order to efficiently compile programs just-in-time in JAX, the functions need to be written with certain constraints. Firstly, the functions are not allowed to have side-effects, meaning that they are not allowed to affect any variable outside of their namespaces. For instance, in-place operations affect a variable even outside of the function. Moreover, stochastic operations such as `torch.rand(...)` change the global state of pseudo random number generators, which is not allowed in functional JAX (we will see later how JAX handles random number generation). Secondly, JAX compiles the functions based on anticipated shapes of all arrays/tensors in the function. This becomes problematic if the shapes or the program flow within the function depends on the values of the tensor. For instance, in the operation `y = x[x>3]`, the shape of `y` depends on how many values of `x` are greater than 3. We will discuss more of these constraints in this notebook. Still, in most common cases of training neural networks, it is straightforward to write functions within these constraints.\n",
    "\n",
    "This tutorial is heavily inspired by many great JAX tutorials before, and a (non-exclusive) list of them are:\n",
    "\n",
    "* [JAX 101](https://jax.readthedocs.io/en/latest/jax-101/index.html) with many subtutorials on individual parts of JAX\n",
    "* [JAX - The Sharp Bits](https://jax.readthedocs.io/en/latest/notebooks/Common_Gotchas_in_JAX.html) discusses the constraints of JAX and how to overcome them\n",
    "* [Jax for the Impatient](https://flax.readthedocs.io/en/latest/notebooks/jax_for_the_impatient.html) for a quick intro to JAX with focus on deep learning\n",
    "* [Flax Basics](https://flax.readthedocs.io/en/latest/notebooks/flax_basics.html) as introduction to the Flax framework\n",
    "\n",
    "Throughout this tutorial, we will draw comparisons to PyTorch and also use its data loading library (see our [PyTorch tutorial](https://uvadlc-notebooks.readthedocs.io/en/latest/tutorial_notebooks/tutorial2/Introduction_to_PyTorch.html) for a refresher). JAX is not meant to 'redefine the wheel', so we can combine it framework-agnostic parts from PyTorch (e.g. data loading) and TensorFlow (e.g. logging in TensorBoard). Further, we use [Flax](https://flax.readthedocs.io/en/latest/) as a neural network library in JAX, and [Optax](https://optax.readthedocs.io/en/latest/index.html) to implement common deep learning optimizers. More on them later in the notebook. First, let's get started with some basic JAX operations."
   ]
  },
  {
   "cell_type": "code",
   "execution_count": 1,
   "metadata": {},
   "outputs": [],
   "source": [
    "## Standard libraries\n",
    "import os\n",
    "import math\n",
    "import numpy as np \n",
    "import time\n",
    "\n",
    "## Imports for plotting\n",
    "import matplotlib.pyplot as plt\n",
    "%matplotlib inline \n",
    "from IPython.display import set_matplotlib_formats\n",
    "set_matplotlib_formats('svg', 'pdf') # For export\n",
    "from matplotlib.colors import to_rgba\n",
    "import seaborn as sns\n",
    "sns.set()\n",
    "\n",
    "## Progress bar\n",
    "from tqdm.notebook import tqdm"
   ]
  },
  {
   "cell_type": "markdown",
   "metadata": {},
   "source": [
    "## JAX as NumPy on accelerators\n",
    "\n",
    "Every deep learning framework has its own API for dealing with data arrays. For example, PyTorch uses `torch.Tensor` as data arrays on which it defines several operations like matrix multiplication, taking the mean of the elements, etc. In JAX, this basic API strongly resembles the one of [NumPy](https://numpy.org/), and even has the same name in JAX (`jax.numpy`). So, for now, let's think of JAX as NumPy that runs on accelerators. As a first step, let's import JAX and its NumPy API:"
   ]
  },
  {
   "cell_type": "code",
   "execution_count": 2,
   "metadata": {},
   "outputs": [
    {
     "name": "stdout",
     "output_type": "stream",
     "text": [
      "Using jax 0.3.13\n"
     ]
    }
   ],
   "source": [
    "import jax\n",
    "import jax.numpy as jnp\n",
    "print(\"Using jax\", jax.__version__)"
   ]
  },
  {
   "cell_type": "markdown",
   "metadata": {},
   "source": [
    "At the current time of writing (June 2022), the newest JAX version is `0.3.13` which supports most of the common NumPy functionalities. The NumPy API of JAX is usually imported as `jnp`, to keep a resemblance to NumPy's import as `np`. In the following subsections, we will discuss the main differences between the classical NumPy API and the one of JAX."
   ]
  },
  {
   "cell_type": "markdown",
   "metadata": {},
   "source": [
    "### Device Arrays\n",
    "\n",
    "As a first test, let's create some arbitrary arrays like we would do in NumPy. For instance, let's create an array of zeros with shape `[2,5]`:"
   ]
  },
  {
   "cell_type": "code",
   "execution_count": 3,
   "metadata": {},
   "outputs": [
    {
     "name": "stdout",
     "output_type": "stream",
     "text": [
      "[[0. 0. 0. 0. 0.]\n",
      " [0. 0. 0. 0. 0.]]\n"
     ]
    }
   ],
   "source": [
    "a = jnp.zeros((2, 5), dtype=jnp.float32)\n",
    "print(a)"
   ]
  },
  {
   "cell_type": "markdown",
   "metadata": {},
   "source": [
    "Similarly, we can create an array with values of 0 to 5 by using `arange`:"
   ]
  },
  {
   "cell_type": "code",
   "execution_count": 4,
   "metadata": {},
   "outputs": [
    {
     "name": "stdout",
     "output_type": "stream",
     "text": [
      "[0 1 2 3 4 5]\n"
     ]
    }
   ],
   "source": [
    "b = jnp.arange(6)\n",
    "print(b)"
   ]
  },
  {
   "cell_type": "markdown",
   "metadata": {},
   "source": [
    "You might now wonder whether the arrays `a` and `b` are simply NumPy arrays. To check that, let's print out the class of `b`:"
   ]
  },
  {
   "cell_type": "code",
   "execution_count": 5,
   "metadata": {},
   "outputs": [
    {
     "data": {
      "text/plain": [
       "jaxlib.xla_extension.DeviceArray"
      ]
     },
     "execution_count": 5,
     "metadata": {},
     "output_type": "execute_result"
    }
   ],
   "source": [
    "b.__class__"
   ]
  },
  {
   "cell_type": "markdown",
   "metadata": {},
   "source": [
    "Instead of a simple NumPy array, it shows the type `DeviceArray` which is what JAX uses to represent arrays. In contrast to NumPy, JAX can execute the same code on different backends – CPU, GPU and TPU. A `DeviceArray` therefore represents an array which is on one of the backends. Similar to PyTorch, we can check the device of an array by calling `.device()`:"
   ]
  },
  {
   "cell_type": "code",
   "execution_count": 6,
   "metadata": {},
   "outputs": [
    {
     "data": {
      "text/plain": [
       "GpuDevice(id=0, process_index=0)"
      ]
     },
     "execution_count": 6,
     "metadata": {},
     "output_type": "execute_result"
    }
   ],
   "source": [
    "b.device()"
   ]
  },
  {
   "cell_type": "markdown",
   "metadata": {},
   "source": [
    "As you can see, the array `b` is already natively on a GPU although we did not specify this explicitly as you would do in PyTorch (on Colab, remember to select a GPU in your runtime environment). In order to change the device of an array, we can use `jax.device_get`:"
   ]
  },
  {
   "cell_type": "code",
   "execution_count": 7,
   "metadata": {},
   "outputs": [
    {
     "name": "stdout",
     "output_type": "stream",
     "text": [
      "<class 'numpy.ndarray'>\n"
     ]
    }
   ],
   "source": [
    "b_cpu = jax.device_get(b)\n",
    "print(b_cpu.__class__)"
   ]
  },
  {
   "cell_type": "markdown",
   "metadata": {},
   "source": [
    "Unsurprisingly, a simple CPU-based array is nothing else than a NumPy array, which allows for a simple conversion between the two frameworks! To explicitly push a NumPy array to the accelerator, you can use `jax.device_put`:"
   ]
  },
  {
   "cell_type": "code",
   "execution_count": 8,
   "metadata": {},
   "outputs": [
    {
     "name": "stdout",
     "output_type": "stream",
     "text": [
      "Device put: <class 'jaxlib.xla_extension.DeviceArray'> on gpu:0\n"
     ]
    }
   ],
   "source": [
    "b_gpu = jax.device_put(b_cpu)\n",
    "print(f'Device put: {b_gpu.__class__} on {b_gpu.device()}')"
   ]
  },
  {
   "cell_type": "markdown",
   "metadata": {},
   "source": [
    "Nicely enough, JAX will handle any device clash itself when you try to perform operations on a NumPy array and a DeviceArray by modeling the output as DeviceArray again:"
   ]
  },
  {
   "cell_type": "code",
   "execution_count": 9,
   "metadata": {},
   "outputs": [
    {
     "data": {
      "text/plain": [
       "DeviceArray([ 0,  2,  4,  6,  8, 10], dtype=int32)"
      ]
     },
     "execution_count": 9,
     "metadata": {},
     "output_type": "execute_result"
    }
   ],
   "source": [
    "b_cpu + b_gpu"
   ]
  },
  {
   "cell_type": "markdown",
   "metadata": {},
   "source": [
    "Finally, we can also print all our available devices using `jax.devices()`:"
   ]
  },
  {
   "cell_type": "code",
   "execution_count": 10,
   "metadata": {},
   "outputs": [
    {
     "data": {
      "text/plain": [
       "[GpuDevice(id=0, process_index=0), GpuDevice(id=1, process_index=0)]"
      ]
     },
     "execution_count": 10,
     "metadata": {},
     "output_type": "execute_result"
    }
   ],
   "source": [
    "jax.devices()"
   ]
  },
  {
   "cell_type": "markdown",
   "metadata": {},
   "source": [
    "A technical detail of running operations on DeviceArrays is that when a JAX function is called, the corresponding operation takes place asynchronously on the accelerator when possible. For instance, if we call `out = jnp.matmul(b, b)`, JAX first returns a placeholder array for `out` which may not be filled with the values as soon as the function calls finishes. This way, Python will not block the execution of follow-up statements, but instead only does it whenever we strictly need the value of `out`, for instance for printing or putting it on CPU. PyTorch uses a very similar principle to allow asynchronous computation. For more details, see [JAX - Asynchronous Dispatch](https://jax.readthedocs.io/en/latest/async_dispatch.html)."
   ]
  },
  {
   "cell_type": "markdown",
   "metadata": {},
   "source": [
    "### Immutable tensors\n",
    "\n",
    "When we would like to change a NumPy array in-place, like replacing the first element of `b` with `1` instead of `0`, we could simply write `b[0]=1`. However, in JAX, this is not possible. A `DeviceArray` object is *immutable*, which means that no in-place operations are possible. The reason for this goes back to our discussion in the introduction: JAX requires programs to be \"pure\" functions, i.e. no effects on variables outside of the function are allowed. Allowing in-place operations of variables would make the program analysis for JAX's just-in-time compilation difficult. Instead, we can use the expression `b.at[0].set(1)` which, analogous to the in-place operation, returns a new array which is identical to `b`, except that its value at the first position is 1. Let's try that out below:"
   ]
  },
  {
   "cell_type": "code",
   "execution_count": 11,
   "metadata": {},
   "outputs": [
    {
     "name": "stdout",
     "output_type": "stream",
     "text": [
      "Original array: [0 1 2 3 4 5]\n",
      "Changed array: [1 1 2 3 4 5]\n"
     ]
    }
   ],
   "source": [
    "b_new = b.at[0].set(1)\n",
    "print('Original array:', b)\n",
    "print('Changed array:', b_new)"
   ]
  },
  {
   "cell_type": "markdown",
   "metadata": {},
   "source": [
    "However, we said that JAX is very efficient. Isn't creating a new array in this case the opposite? While it is indeed less efficient, it can made much more efficient with JAX's just-in-time compilation. The compiler can recognize unnecessary array duplications, and replace them with in-place operations again. More on the just-in-time compilation later! "
   ]
  },
  {
   "cell_type": "markdown",
   "metadata": {},
   "source": [
    "### Pseudo Random Numbers in JAX\n",
    "\n",
    "In machine learning, we come across several situations where we need to generate pseudo random numbers: randomly shuffling a dataset, sampling a dropout mask for regularization, training a VAE by sampling from the approximate posterior, etc. In libraries like NumPy and PyTorch, the random number generator are controlled by a seed, which we set initially to obtain the same samples every time we run the code (this is why the numbers are not truly random, hence \"pseudo\"-random). However, if we call `np.random.normal()` 5 times consecutively, we will get 5 different numbers since every execution changes the state/seed of the pseudo random number generation (PRNG). In JAX, if we would try to generate a random number with this approach, a function creating pseudo-random number would have an effect outside of it. To prevent this, JAX takes a different approach by explicitly passing and iterating the PRNG state. First, let's create a PRNG for the seed 42:"
   ]
  },
  {
   "cell_type": "code",
   "execution_count": 12,
   "metadata": {},
   "outputs": [],
   "source": [
    "rng = jax.random.PRNGKey(42)"
   ]
  },
  {
   "cell_type": "markdown",
   "metadata": {},
   "source": [
    "Now, we can use this PRNG state to generate random numbers. Since with this state, the random number generation becomes deterministic, we sample the same number every time. This is not the case in NumPy if we set the seed once before both operations:"
   ]
  },
  {
   "cell_type": "code",
   "execution_count": 13,
   "metadata": {},
   "outputs": [
    {
     "name": "stdout",
     "output_type": "stream",
     "text": [
      "JAX - Random number 1: -0.18471177\n",
      "JAX - Random number 2: -0.18471177\n",
      "NumPy - Random number 1: 0.4967141530112327\n",
      "NumPy - Random number 2: -0.13826430117118466\n"
     ]
    }
   ],
   "source": [
    "# A non-desirable way of generating pseudo-random numbers...\n",
    "jax_random_number_1 = jax.random.normal(rng)\n",
    "jax_random_number_2 = jax.random.normal(rng)\n",
    "print('JAX - Random number 1:', jax_random_number_1)\n",
    "print('JAX - Random number 2:', jax_random_number_2)\n",
    "\n",
    "# Typical random numbers in NumPy\n",
    "np.random.seed(42)\n",
    "np_random_number_1 = np.random.normal()\n",
    "np_random_number_2 = np.random.normal()\n",
    "print('NumPy - Random number 1:', np_random_number_1)\n",
    "print('NumPy - Random number 2:', np_random_number_2)"
   ]
  },
  {
   "cell_type": "markdown",
   "metadata": {},
   "source": [
    "Usually, we want to have a behavior like NumPy where we get a different random number every time we sample. To achieve this, we can *split* the PRNG state to get usable subkeys every time we need a new pseudo-random number. We can do this with `jax.random.split(...)`:"
   ]
  },
  {
   "cell_type": "code",
   "execution_count": 14,
   "metadata": {},
   "outputs": [
    {
     "name": "stdout",
     "output_type": "stream",
     "text": [
      "JAX new - Random number 1: 0.107961535\n",
      "JAX new - Random number 2: -1.2226542\n"
     ]
    }
   ],
   "source": [
    "rng, subkey1, subkey2 = jax.random.split(rng, num=3)  # We create 3 new keys\n",
    "jax_random_number_1 = jax.random.normal(subkey1)\n",
    "jax_random_number_2 = jax.random.normal(subkey2)\n",
    "print('JAX new - Random number 1:', jax_random_number_1)\n",
    "print('JAX new - Random number 2:', jax_random_number_2)"
   ]
  },
  {
   "cell_type": "markdown",
   "metadata": {},
   "source": [
    "Every time you run this cell, you will obtain different random numbers for both operations since we create new PRNG states before sampling. In general, you want to split the PRNG key every time before generating a pseudo-number, to prevent accidentally obtaining the exact same numbers (for instance, sampling the exact same dropout mask every time you run the network makes dropout itself quite useless...). For a deeper dive into the ideas behind the random number generation in JAX, see JAX's tutorial on [Pseudo Random Numbers](https://jax.readthedocs.io/en/latest/jax-101/05-random-numbers.html)."
   ]
  },
  {
   "cell_type": "markdown",
   "metadata": {},
   "source": [
    "## Function transformations with Jaxpr\n",
    "\n",
    "Rosalia Schenider and Vladimir Mikulik summarize the key points of JAX in the [JAX 101 tutorial](https://jax.readthedocs.io/en/latest/jax-101/01-jax-basics.html) as follows: \n",
    "\n",
    "> The most important difference, and in some sense the root of all the rest, is that JAX is designed to be functional, as in functional programming. The reason behind this is that the kinds of program transformations that JAX enables are much more feasible in functional-style programs. [...] The important feature of functional programming to grok when working with JAX is very simple: don’t write code with side-effects.\n",
    "\n",
    "Essentially, we want to write our main code of JAX in functions that do not affect anything else besides its outputs. For instance, we do not want to change input arrays in-place, or access global variables. While this might seem limiting at first, you get used to this quite quickly and most JAX functions that need to fulfill these constraints can be written this way without problems. Note that not all possible functions in training a neural network need to fulfill the constraints. For instance, loading or saving of models, the logging, or the data generation can be done in naive functions. Only the network execution, which we want to do very efficiently on our accelerator (GPU or TPU), should strictly follow these constraints.\n",
    "\n",
    "What does make JAX functions so special, and how can we think about them? A good way of gaining understanding in how JAX handles function is to understand its intermediate representation: jaxpr. Conceptually, you can think of any operation that JAX does on a function, as first trace-specializing the Python function to be transformed into a small and well-behaved intermediate form. This means that we check which operations are performed on which array, and what shapes the arrays are. Based on this representation, JAX then interprets the function with transformation-specific interpretation rules, which includes automatic differentiation or compiling a function in XLA to efficiently use the accelerator.\n",
    "\n",
    "To illustrate this intermediate representation, let's consider the same simple function we used in the [PyTorch tutorial](https://uvadlc-notebooks.readthedocs.io/en/latest/tutorial_notebooks/tutorial2/Introduction_to_PyTorch.html) to discuss the concept of dynamic computation graphs:\n",
    "\n",
    "$$ y = \\frac{1}{|x|}\\sum_{i}\\left[\\left(x_i+2\\right)^2+3\\right]$$\n",
    "\n",
    "Using common NumPy operations in JAX, we can write it as follows:"
   ]
  },
  {
   "cell_type": "code",
   "execution_count": 15,
   "metadata": {},
   "outputs": [
    {
     "name": "stdout",
     "output_type": "stream",
     "text": [
      "Input [0. 1. 2.]\n",
      "Output 12.666667\n"
     ]
    }
   ],
   "source": [
    "def simple_graph(x):\n",
    "    x = x + 2\n",
    "    x = x ** 2\n",
    "    x = x + 3\n",
    "    y = x.mean()\n",
    "    return y\n",
    "\n",
    "inp = jnp.arange(3, dtype=jnp.float32)\n",
    "print('Input', inp)\n",
    "print('Output', simple_graph(inp))"
   ]
  },
  {
   "cell_type": "markdown",
   "metadata": {},
   "source": [
    "To view the jaxpr representation of this function, we can use `jax.make_jaxpr`. Since the tracing depends on the shape of the input, we need to pass an input to the function (here of shape `[3]`):"
   ]
  },
  {
   "cell_type": "code",
   "execution_count": 16,
   "metadata": {},
   "outputs": [
    {
     "data": {
      "text/plain": [
       "{ lambda ; a:f32[3]. let\n",
       "    b:f32[3] = add a 2.0\n",
       "    c:f32[3] = integer_pow[y=2] b\n",
       "    d:f32[3] = add c 3.0\n",
       "    e:f32[] = reduce_sum[axes=(0,)] d\n",
       "    f:f32[] = div e 3.0\n",
       "  in (f,) }"
      ]
     },
     "execution_count": 16,
     "metadata": {},
     "output_type": "execute_result"
    }
   ],
   "source": [
    "jax.make_jaxpr(simple_graph)(inp)"
   ]
  },
  {
   "cell_type": "markdown",
   "metadata": {},
   "source": [
    "A jaxpr representation follows the structure:\n",
    "\n",
    "```python\n",
    "jaxpr ::= { lambda Var* ; Var+.\n",
    "            let Eqn*\n",
    "            in  [Expr+] }\n",
    "```\n",
    "where `Var*` are constants and `Var+` are input arguments. In the cell above, this is `a:f32[3]`, i.e. an array of shape 3 with type `jnp.float32` (`inp`). The list of equations, `Eqn*`, define the intermediate results of the function. You can see that each operation in `simple_graph` is translated to a corresponding equation, like `x = x + 2` is translated to `b:f32[3] = add a 2.0`. Furthermore, you see the specialization of the operations on the input shape, like `x.mean()` being replacing in `e` and `f` with summing and dividing by 3. Finally, `Expr+` in the jaxpr representation are the outputs of the functions. In the example, this is `f`, i.e. the final result of the function.\n",
    "Based on these atomic operations, JAX offers all kind of function transformations, of which we will discuss the most important ones later in this section. \n",
    "\n",
    "The jaxpr representation is not , but rather an intermediate compilation stage of JAX. What happens if we actually try to look at the jaxpr representation of a function with side-effect? Let's consider the following function, which, as an illustrative example, appends the input to a global list:"
   ]
  },
  {
   "cell_type": "code",
   "execution_count": 17,
   "metadata": {},
   "outputs": [
    {
     "data": {
      "text/plain": [
       "{ lambda ; a:f32[3]. let\n",
       "    b:f32[3] = integer_pow[y=2] a\n",
       "    c:f32[] = reduce_sum[axes=(0,)] b\n",
       "    d:f32[] = sqrt c\n",
       "  in (d,) }"
      ]
     },
     "execution_count": 17,
     "metadata": {},
     "output_type": "execute_result"
    }
   ],
   "source": [
    "global_list = []\n",
    "\n",
    "# Invalid function with side-effect\n",
    "def norm(x):\n",
    "    global_list.append(x)\n",
    "    x = x ** 2\n",
    "    n = x.sum()\n",
    "    n = jnp.sqrt(n)\n",
    "    return n\n",
    "\n",
    "jax.make_jaxpr(norm)(inp)"
   ]
  },
  {
   "cell_type": "markdown",
   "metadata": {},
   "source": [
    "As you can see, the jaxpr representation of the function does not contain any operation for `global_list.append(x)`. This is because jaxpr only understand side-effect-free code, and cannot represent such effects. Thus, we need to stick with pure functions without any side effects, to prevent any unwanted errors in our functions. If you are interested in learning more about the jaxpr representation, check out the JAX [documentation](https://jax.readthedocs.io/en/latest/jaxpr.html) on it. But for this tutorial, we just need the basics as discussed above."
   ]
  },
  {
   "cell_type": "markdown",
   "metadata": {},
   "source": [
    "### Automatic differentiation\n",
    "\n",
    "The intermediate jaxpr representation defines a computation graph, on which we can perform an essential operation of deep learning framework: automatic differentiation. In frameworks like PyTorch with a dynamic computation graph, we would compute the gradients based on the loss tensor itself, e.g. by calling `loss.backward()`. However, JAX directly works with functions. Instead of backpropagating gradients through tensors, JAX takes as input a function, and outputs another function which directly calculates the gradients for it. While this might seem quite different to what you are used to from other frameworks, it is quite intuitive: your gradient of parameters is really a function of parameters and data.\n",
    "\n",
    "The transformation that allows us to do this is `jax.grad`, which takes as input the function, and returns another function representing the gradient calculation of the (first) input with respect to the output:"
   ]
  },
  {
   "cell_type": "code",
   "execution_count": 18,
   "metadata": {},
   "outputs": [
    {
     "name": "stdout",
     "output_type": "stream",
     "text": [
      "Gradient [1.3333334 2.        2.6666667]\n"
     ]
    }
   ],
   "source": [
    "grad_function = jax.grad(simple_graph)\n",
    "gradients = grad_function(inp)\n",
    "print('Gradient', gradients)"
   ]
  },
  {
   "cell_type": "markdown",
   "metadata": {},
   "source": [
    "The gradient we get here is exactly the one we would obtain when doing the calculation by hand. Moreover, we can also print the jaxpr representation of the gradient function:"
   ]
  },
  {
   "cell_type": "code",
   "execution_count": 19,
   "metadata": {},
   "outputs": [
    {
     "data": {
      "text/plain": [
       "{ lambda ; a:f32[3]. let\n",
       "    b:f32[3] = add a 2.0\n",
       "    c:f32[3] = integer_pow[y=2] b\n",
       "    d:f32[3] = integer_pow[y=1] b\n",
       "    e:f32[3] = mul 2.0 d\n",
       "    f:f32[3] = add c 3.0\n",
       "    g:f32[] = reduce_sum[axes=(0,)] f\n",
       "    _:f32[] = div g 3.0\n",
       "    h:f32[] = div 1.0 3.0\n",
       "    i:f32[3] = broadcast_in_dim[broadcast_dimensions=() shape=(3,)] h\n",
       "    j:f32[3] = mul i e\n",
       "  in (j,) }"
      ]
     },
     "execution_count": 19,
     "metadata": {},
     "output_type": "execute_result"
    }
   ],
   "source": [
    "jax.make_jaxpr(grad_function)(inp)"
   ]
  },
  {
   "cell_type": "markdown",
   "metadata": {},
   "source": [
    "This shows an unique property of JAX: we can print out the exact computation graph for determining the gradients. Compared to the original function, you can see new equations like `d:f32[3] = integer_pow[y=1] b` and `e:f32[3] = mul 2.0 d`, which model the intermediate gradient of $\\partial b_i^2/\\partial b_i = 2b_i$. Furthermore, the return value `j` is the multiplication of `e` with $1/3$, which maps to the gradient being:\n",
    "\n",
    "$$ \\frac{\\partial y}{\\partial x_i} = \\frac{2}{3}(x_i + 2)$$\n",
    "\n",
    "Hence, we can not only use JAX to estimate the gradients at a certain input value, but actually return the analytical gradient function which is quite a nice feature and highlights the properties of JAX!"
   ]
  },
  {
   "cell_type": "markdown",
   "metadata": {},
   "source": [
    "Often, we do not only want the gradients, but also the actual output of the function, for instance for logging the loss. This can be efficiently done using `jax.value_and_grad`:"
   ]
  },
  {
   "cell_type": "code",
   "execution_count": 20,
   "metadata": {},
   "outputs": [
    {
     "data": {
      "text/plain": [
       "(DeviceArray(12.666667, dtype=float32),\n",
       " DeviceArray([1.3333334, 2.       , 2.6666667], dtype=float32))"
      ]
     },
     "execution_count": 20,
     "metadata": {},
     "output_type": "execute_result"
    }
   ],
   "source": [
    "val_grad_function = jax.value_and_grad(simple_graph)\n",
    "val_grad_function(inp)"
   ]
  },
  {
   "cell_type": "markdown",
   "metadata": {},
   "source": [
    "Further, we can specialize the gradient function to consider multiple input arguments, and add extra outputs that we may not want to differentiate (for instance the accuracy in classification). We will visit the most important ones in the network training later in this section, and refer to other great resources for more details ([JAX Quickstart](https://jax.readthedocs.io/en/latest/notebooks/quickstart.html#taking-derivatives-with-grad), [Autodiff cookbook](https://jax.readthedocs.io/en/latest/notebooks/autodiff_cookbook.html), [Advanced autodiff](https://jax.readthedocs.io/en/latest/jax-101/04-advanced-autodiff.html)).\n",
    "\n",
    "To train neural networks, we need to determine the gradient for every parameter in the network with respect to the loss. Listing all parameters as input arguments quickly gets annoying and infeasible. JAX offers an elegant data structure to summarize all parameters: a pytree ([documentation](https://jax.readthedocs.io/en/latest/pytrees.html)). A pytree is a container-like object which structures its elements as a tree. For instance, a linear neural network might have its parameters organized similar to:\n",
    "\n",
    "```python\n",
    "params = {\n",
    "    'linear1': {\n",
    "        'weights': ...,\n",
    "        'bias': ...\n",
    "    },\n",
    "    ...\n",
    "}\n",
    "```\n",
    "JAX offers functions to process pytrees efficiently, such as obtaining all leafs (i.e. all parameters in a network) or applying a function on each element. We will come back to these structures when training a full network."
   ]
  },
  {
   "cell_type": "markdown",
   "metadata": {},
   "source": [
    "### Speeding up computation with Just-In-Time compilation\n",
    "\n",
    "Interestingly, from the previous code cell, you can see in the jaxpr representation of the gradient function that calculating the array `f` and scalar `g` are unnecessary. Intuitively, the gradient of taking the mean is independent of the actual output of the mean, hence we could drop `f` and `g` without any drawback. Finding such cases to improve efficiency and optimizing the code to take full advantage of the available accelerator hardware is one of the big selling points of JAX. It achieves that by *compiling functions just-in-time*, using their jaxpr representation, and finally executing the code in XLA. \n",
    "\n",
    "To compile a function, JAX provides the `jax.jit` transformation. We can either apply the transformation directly on a function (as we will do in the next cell), or use the decorator `@jax.jit` before a function."
   ]
  },
  {
   "cell_type": "code",
   "execution_count": 21,
   "metadata": {},
   "outputs": [],
   "source": [
    "jitted_function = jax.jit(simple_graph)"
   ]
  },
  {
   "cell_type": "markdown",
   "metadata": {},
   "source": [
    "The `jitted_function` takes the same input arguments as the original function `simple_graph`. Since the jaxpr representation of a function depends on the input shape, the compilation is started once we put the first input in. However, note that this also means that for every different shape we want to run the function, a new XLA compilation is needed. This is why it is recommended to use padding in cases where your input shape strongly varies (we revisit this topic in the final section of this tutorial). For now, let's create an array with 1000 random values, on which we apply the jitted function:"
   ]
  },
  {
   "cell_type": "code",
   "execution_count": 22,
   "metadata": {},
   "outputs": [],
   "source": [
    "# Create a new random subkey for generating new random values\n",
    "rng, normal_rng = jax.random.split(rng)\n",
    "large_input = jax.random.normal(normal_rng, (1000,))\n",
    "# Run the jitted function once to start compilation\n",
    "_ = jitted_function(large_input)"
   ]
  },
  {
   "cell_type": "markdown",
   "metadata": {},
   "source": [
    "The output is not any different from what you would get from the non-jitted function. However, how is it about the runtime? Let's time both the original and the jitted function. Due to the asynchronous execution on the GPU, we add `.block_until_ready()` on the output, which blocks the Python execution until the accelerator (here GPU) finished computing the result and hence get an accurate time estimate."
   ]
  },
  {
   "cell_type": "code",
   "execution_count": 23,
   "metadata": {},
   "outputs": [
    {
     "name": "stdout",
     "output_type": "stream",
     "text": [
      "598 µs ± 104 µs per loop (mean ± std. dev. of 7 runs, 1 loop each)\n"
     ]
    }
   ],
   "source": [
    "%%timeit\n",
    "simple_graph(large_input).block_until_ready()"
   ]
  },
  {
   "cell_type": "code",
   "execution_count": 24,
   "metadata": {},
   "outputs": [
    {
     "name": "stdout",
     "output_type": "stream",
     "text": [
      "19.5 µs ± 52.8 ns per loop (mean ± std. dev. of 7 runs, 100000 loops each)\n"
     ]
    }
   ],
   "source": [
    "%%timeit\n",
    "jitted_function(large_input).block_until_ready()"
   ]
  },
  {
   "cell_type": "markdown",
   "metadata": {},
   "source": [
    "We see that the compiled function is almost 10-15x faster! This is quite an improvement in performance, and shows the potential of compiling functions in XLA. Furthermore, we can also apply multiple transformations on the same function in JAX, such as applying `jax.jit` on a gradient function:"
   ]
  },
  {
   "cell_type": "code",
   "execution_count": 25,
   "metadata": {},
   "outputs": [],
   "source": [
    "jitted_grad_function = jax.jit(grad_function)\n",
    "_ = jitted_grad_function(large_input)  # Apply once to compile"
   ]
  },
  {
   "cell_type": "markdown",
   "metadata": {},
   "source": [
    "Let's time the functions once more:"
   ]
  },
  {
   "cell_type": "code",
   "execution_count": 26,
   "metadata": {},
   "outputs": [
    {
     "name": "stdout",
     "output_type": "stream",
     "text": [
      "2.55 ms ± 190 µs per loop (mean ± std. dev. of 7 runs, 1 loop each)\n"
     ]
    }
   ],
   "source": [
    "%%timeit\n",
    "grad_function(large_input).block_until_ready()"
   ]
  },
  {
   "cell_type": "code",
   "execution_count": 27,
   "metadata": {},
   "outputs": [
    {
     "name": "stdout",
     "output_type": "stream",
     "text": [
      "17.4 µs ± 60.6 ns per loop (mean ± std. dev. of 7 runs, 100000 loops each)\n"
     ]
    }
   ],
   "source": [
    "%%timeit\n",
    "jitted_grad_function(large_input).block_until_ready()"
   ]
  },
  {
   "cell_type": "markdown",
   "metadata": {},
   "source": [
    "Once more, the jitted function is much faster than the original one. Intuitively, this shows the potential speed up we can gain by using `jax.jit` to compile the whole training step of a network. Generally, we want to jit the largest possible chunk of computation to give the compiler maximum freedom. \n",
    "\n",
    "There are situations in which applying jit to a function is not straight-forward, for instance, if an input argument cannot be traced, or you need to use loops that depend on input arguments. To keep the tutorial simple, and since most neural network training functions do not run into these issues, we do not discuss such special cases here. Instead, we refer to the section on just-in-time compilation in the great tutorials of [JAX 101 Tutorial](https://jax.readthedocs.io/en/latest/jax-101/02-jitting.html), [JAX Quickstart](https://jax.readthedocs.io/en/latest/notebooks/quickstart.html#using-jit-to-speed-up-functions), and [Thinking in JAX](https://jax.readthedocs.io/en/latest/notebooks/thinking_in_jax.html#to-jit-or-not-to-jit)."
   ]
  },
  {
   "cell_type": "markdown",
   "metadata": {},
   "source": [
    "## Implementing a Neural Network with Flax\n",
    "\n",
    "With having reviewed the basics of JAX, we are now ready to implement our own neural network. Technically, we could implement our own neural network from scratch with JAX (see [here](https://jax.readthedocs.io/en/latest/notebooks/Neural_Network_and_Data_Loading.html) for an example), but we do not really want to do that every time. Similarly to PyTorch's `torch.nn` package, there exist neural network libraries based on JAX which provide such basic functionality. A (non-exclusive) collection of them are:\n",
    "\n",
    "* [Flax](https://flax.readthedocs.io/en/latest/index.html), started by the Google Brain Team, focuses on flexibility and clarity.\n",
    "* [Haiku](https://dm-haiku.readthedocs.io/en/latest/), from DeepMind, focuses on simplicity and compositionality.\n",
    "* [Trax](https://github.com/google/trax), maintained by the Google Brain Team, provides solutions for common training tasks\n",
    "* [Equinox](https://github.com/patrick-kidger/equinox), created by Patrick Kidger and Cristian Garcia, implements neural networks as callable PyTrees\n",
    "* [Jraph](https://github.com/deepmind/jraph), from DeepMind, is a graph neural network library (similar to PyTorch Geometric)\n",
    "\n",
    "For this tutorial series, we will use Flax due to its flexibility, intuitive API, and larger community. However, this should not mean that the other libraries are necessarily worse, and we recommend giving them a try as well to find the best library for yourself!\n",
    "\n",
    "We will introduce the libraries and all additional parts you might need to train a neural network in Flax, using a simple example classifier on a simple yet well known example: XOR. Given two binary inputs $x_1$ and $x_2$, the label to predict is $1$ if either $x_1$ or $x_2$ is $1$ while the other is $0$, or the label is $0$ in all other cases. The example became famous by the fact that a single neuron, i.e. a linear classifier, cannot learn this simple function. Hence, we will learn how to build a small neural network that can learn this function. \n",
    "To make it a little bit more interesting, we move the XOR into continuous space and introduce some gaussian noise on the binary inputs. Our desired separation of an XOR dataset could look as follows:\n",
    "\n",
    "<center style=\"width: 100%\"><img src=\"../../tutorial2/continuous_xor.svg\" width=\"350px\"></center>"
   ]
  },
  {
   "cell_type": "markdown",
   "metadata": {},
   "source": [
    "### The model\n",
    "\n",
    "The package `flax.linen` defines a series of useful classes like linear networks layers, convolutions, activation functions etc. A full list can be found [here](https://flax.readthedocs.io/en/latest/flax.linen.html). In case you need a certain network layer, check the documentation of the package first before writing the layer yourself as the package likely contains the code for it already. We import it below:"
   ]
  },
  {
   "cell_type": "code",
   "execution_count": 28,
   "metadata": {},
   "outputs": [],
   "source": [
    "try:\n",
    "    import flax\n",
    "except ModuleNotFoundError: # Install flax if missing\n",
    "    !pip install --quiet flax\n",
    "    import flax\n",
    "\n",
    "from flax import linen as nn"
   ]
  },
  {
   "cell_type": "markdown",
   "metadata": {},
   "source": [
    "#### nn.Module\n",
    "\n",
    "Similar to PyTorch, a neural network is built up out of modules. Modules can contain other modules, and a neural network is considered to be a module itself as well. The basic template of a module is as follows:"
   ]
  },
  {
   "cell_type": "code",
   "execution_count": 29,
   "metadata": {},
   "outputs": [],
   "source": [
    "class MyModule(nn.Module):\n",
    "    # Some dataclass attributes, like hidden dimension, number of layers, etc. of the form:\n",
    "    # varname : vartype\n",
    "        \n",
    "    def setup(self):\n",
    "        # Flax uses \"lazy\" initialization. This function is called once before you\n",
    "        # call the model, or try to access attributes. In here, define your submodules etc.\n",
    "        pass\n",
    "        \n",
    "    def __call__(self, x):\n",
    "        # Function for performing the calculation of the module.\n",
    "        pass"
   ]
  },
  {
   "cell_type": "markdown",
   "metadata": {},
   "source": [
    "The main, obvious difference to PyTorch is that Flax uses lazy initialization. The function `setup` is called once on a module instance before any other methods are called, or when you try to access a attribute of *self* defined in setup. Additional object attributes are defined below the class name. However, in contrast to PyTorch, the parameters are not part of the module. Instead, we can create a set of parameters of the module by calling its `init()` function. This function takes as input a PRNG state for sampling pseudo-random numbers and an example input to the model, and returns a set of parameters for the module as a pytree. Further, since the init function requires an input to the network, we can infer the input shape for all modules and do not need to explicitly define it during the module creation. This becomes more clear in the example we show in a second.\n",
    "\n",
    "The `__call__` method represents the `forward` function in PyTorch, and performs the actual computation of the module. It can take additional arguments if needed, like whether we are training or validation."
   ]
  },
  {
   "cell_type": "markdown",
   "metadata": {},
   "source": [
    "#### Simple classifier\n",
    "\n",
    "To get an intuition behind how we work with modules in Flax, let's define our own small neural network. We will use a minimal network with a input layer, one hidden layer with tanh as activation function, and a output layer. In other words, our networks should look something like this:\n",
    "\n",
    "<center width=\"100%\"><img src=\"../../tutorial2/small_neural_network.svg\" width=\"300px\"></center>\n",
    "\n",
    "The input neurons are shown in blue, which represent the coordinates $x_1$ and $x_2$ of a data point. The hidden neurons including a tanh activation are shown in white, and the output neuron in red.\n",
    "In Flax, we can define this as follows:"
   ]
  },
  {
   "cell_type": "code",
   "execution_count": 30,
   "metadata": {},
   "outputs": [],
   "source": [
    "class SimpleClassifier(nn.Module):\n",
    "    num_hidden : int   # Number of hidden neurons\n",
    "    num_outputs : int  # Number of output neurons\n",
    "\n",
    "    def setup(self):\n",
    "        # Create the modules we need to build the network\n",
    "        # nn.Dense is a linear layer\n",
    "        self.linear1 = nn.Dense(features=self.num_hidden)\n",
    "        self.linear2 = nn.Dense(features=self.num_outputs)\n",
    "\n",
    "    def __call__(self, x):\n",
    "        # Perform the calculation of the model to determine the prediction\n",
    "        x = self.linear1(x)\n",
    "        x = nn.tanh(x)\n",
    "        x = self.linear2(x)\n",
    "        return x"
   ]
  },
  {
   "cell_type": "markdown",
   "metadata": {},
   "source": [
    "One thing you may notice is that usually, all layers that we define in `setup` are also used in the `__call__` function. To reduce the code overhead, Flax provides an alternative, more compact network creation with `nn.compact`. With that, we can remove the setup function and instead our model as:"
   ]
  },
  {
   "cell_type": "code",
   "execution_count": 31,
   "metadata": {},
   "outputs": [],
   "source": [
    "class SimpleClassifierCompact(nn.Module):\n",
    "    num_hidden : int   # Number of hidden neurons\n",
    "    num_outputs : int  # Number of output neurons\n",
    "\n",
    "    @nn.compact  # Tells Flax to look for defined submodules\n",
    "    def __call__(self, x):\n",
    "        # Perform the calculation of the model to determine the prediction\n",
    "        # while defining necessary layers\n",
    "        x = nn.Dense(features=self.num_hidden)(x)\n",
    "        x = nn.tanh(x)\n",
    "        x = nn.Dense(features=self.num_outputs)(x)\n",
    "        return x"
   ]
  },
  {
   "cell_type": "markdown",
   "metadata": {},
   "source": [
    "The `nn.compact` annotation of the `__call__` method signals Flax to look for submodules that we define in the forward pass. These are automatically recognized as such, so that we can use them for initialization etc. Which of the two model definition you use is often up to you (see the [Flax documentation](https://flax.readthedocs.io/en/latest/design_notes/setup_or_nncompact.html) for some pros and cons for both methods). In the following tutorials, we will mostly use the compact version, but occasionally come back to the explicit setup function where necessary. For instance, if we define more functions on a module besides `__call__` and want to reuse some modules, it is recommended to use the setup version."
   ]
  },
  {
   "cell_type": "markdown",
   "metadata": {},
   "source": [
    "For the examples in this notebook, we will use a tiny neural network with two input neurons and eight hidden neurons. As we perform binary classification, we will use a single output neuron. Note that we do not apply a sigmoid on the output yet. This is because other functions, especially the loss, are more efficient and precise to calculate on the original outputs instead of the sigmoid output. We will discuss the detailed reason later.\n",
    "\n",
    "Now, let's create an instance of this network:"
   ]
  },
  {
   "cell_type": "code",
   "execution_count": 32,
   "metadata": {},
   "outputs": [
    {
     "name": "stdout",
     "output_type": "stream",
     "text": [
      "SimpleClassifier(\n",
      "    # attributes\n",
      "    num_hidden = 8\n",
      "    num_outputs = 1\n",
      ")\n"
     ]
    }
   ],
   "source": [
    "model = SimpleClassifier(num_hidden=8, num_outputs=1)\n",
    "# Printing the model shows its attributes\n",
    "print(model)"
   ]
  },
  {
   "cell_type": "markdown",
   "metadata": {},
   "source": [
    "At this stage, the model has no parameters initialized. To do this, let's create a random input of our dataset, and apply the init function:"
   ]
  },
  {
   "cell_type": "code",
   "execution_count": 33,
   "metadata": {},
   "outputs": [
    {
     "name": "stdout",
     "output_type": "stream",
     "text": [
      "FrozenDict({\n",
      "    params: {\n",
      "        linear1: {\n",
      "            kernel: DeviceArray([[ 0.31476864, -0.4647768 , -0.7862042 , -0.48842615,\n",
      "                          -0.65373844,  0.3892545 ,  0.3038056 ,  0.04179859],\n",
      "                         [-0.3298236 ,  1.1110363 ,  0.54909396, -0.8168818 ,\n",
      "                           0.40057245, -0.8665987 ,  1.2087964 ,  1.0364622 ]],            dtype=float32),\n",
      "            bias: DeviceArray([0., 0., 0., 0., 0., 0., 0., 0.], dtype=float32),\n",
      "        },\n",
      "        linear2: {\n",
      "            kernel: DeviceArray([[-0.27971813],\n",
      "                         [-0.7466775 ],\n",
      "                         [ 0.29791608],\n",
      "                         [-0.26267236],\n",
      "                         [-0.5084385 ],\n",
      "                         [ 0.04573093],\n",
      "                         [-0.47257012],\n",
      "                         [ 0.50458497]], dtype=float32),\n",
      "            bias: DeviceArray([0.], dtype=float32),\n",
      "        },\n",
      "    },\n",
      "})\n"
     ]
    }
   ],
   "source": [
    "rng, inp_rng, init_rng = jax.random.split(rng, 3)\n",
    "inp = jax.random.normal(inp_rng, (8, 2))  # Batch size 8, input size 2\n",
    "# Initialize the model\n",
    "params = model.init(init_rng, inp)\n",
    "print(params)"
   ]
  },
  {
   "cell_type": "markdown",
   "metadata": {},
   "source": [
    "Now, we have parameters with which we can apply the network. We see that the parameters follow the same structure as defined in our module, and each linear layer contains one `kernel`, i.e. the weights, and a bias parameter. With this, we could apply the model on an input using the `apply` function:"
   ]
  },
  {
   "cell_type": "code",
   "execution_count": 34,
   "metadata": {},
   "outputs": [
    {
     "data": {
      "text/plain": [
       "DeviceArray([[-0.48368204],\n",
       "             [ 0.04365474],\n",
       "             [ 0.06668529],\n",
       "             [-0.34203646],\n",
       "             [ 0.4835147 ],\n",
       "             [ 0.37424874],\n",
       "             [ 0.14232653],\n",
       "             [-0.5916512 ]], dtype=float32)"
      ]
     },
     "execution_count": 34,
     "metadata": {},
     "output_type": "execute_result"
    }
   ],
   "source": [
    "model.apply(params, inp)"
   ]
  },
  {
   "cell_type": "markdown",
   "metadata": {},
   "source": [
    "The model returns an output array of shape `[8,1]`, which corresponds to the one output neuron in the model for all 8 batch elements. With that, we now know how to initialize a model, and run a model. Next, let's look at the data."
   ]
  },
  {
   "cell_type": "markdown",
   "metadata": {},
   "source": [
    "### The data\n",
    "\n",
    "As mentioned before, JAX is not meant to 'reinvent the wheel' for every part of the deep learning pipeline. Hence, JAX and Flax do not natively provide a data loading functionality, but instead refer to other available libraries like Tensorflow and PyTorch. Here, let's use again the package `torch.utils.data` library."
   ]
  },
  {
   "cell_type": "code",
   "execution_count": 35,
   "metadata": {},
   "outputs": [],
   "source": [
    "import torch.utils.data as data"
   ]
  },
  {
   "cell_type": "markdown",
   "metadata": {},
   "source": [
    "The data package defines two classes which are the standard interface for handling data in PyTorch: `data.Dataset`, and `data.DataLoader`. The dataset class provides an uniform interface to access the training/test data, while the data loader makes sure to efficiently load and stack the data points from the dataset into batches during training."
   ]
  },
  {
   "cell_type": "markdown",
   "metadata": {},
   "source": [
    "#### The dataset class\n",
    "\n",
    "The dataset class summarizes the basic functionality of a dataset in a natural way. To define a dataset in PyTorch, we simply specify two functions: `__getitem__`, and `__len__`. The get-item function has to return the $i$-th data point in the dataset, while the len function returns the size of the dataset. For the XOR dataset, we can define the dataset class as follows:"
   ]
  },
  {
   "cell_type": "code",
   "execution_count": 36,
   "metadata": {},
   "outputs": [],
   "source": [
    "class XORDataset(data.Dataset):\n",
    "\n",
    "    def __init__(self, size, seed, std=0.1):\n",
    "        \"\"\"\n",
    "        Inputs:\n",
    "            size - Number of data points we want to generate\n",
    "            seed - The seed to use to create the PRNG state with which we want to generate the data points\n",
    "            std - Standard deviation of the noise (see generate_continuous_xor function)\n",
    "        \"\"\"\n",
    "        super().__init__()\n",
    "        self.size = size\n",
    "        self.np_rng = np.random.RandomState(seed=seed)\n",
    "        self.std = std\n",
    "        self.generate_continuous_xor()\n",
    "\n",
    "    def generate_continuous_xor(self):\n",
    "        # Each data point in the XOR dataset has two variables, x and y, that can be either 0 or 1\n",
    "        # The label is their XOR combination, i.e. 1 if only x or only y is 1 while the other is 0.\n",
    "        # If x=y, the label is 0.\n",
    "        data = self.np_rng.randint(low=0, high=2, size=(self.size, 2)).astype(np.float32)\n",
    "        label = (data.sum(axis=1) == 1).astype(np.int32)\n",
    "        # To make it slightly more challenging, we add a bit of gaussian noise to the data points.\n",
    "        data += self.np_rng.normal(loc=0.0, scale=self.std, size=data.shape)\n",
    "\n",
    "        self.data = data\n",
    "        self.label = label\n",
    "\n",
    "    def __len__(self):\n",
    "        # Number of data point we have. Alternatively self.data.shape[0], or self.label.shape[0]\n",
    "        return self.size\n",
    "\n",
    "    def __getitem__(self, idx):\n",
    "        # Return the idx-th data point of the dataset\n",
    "        # If we have multiple things to return (data point and label), we can return them as tuple\n",
    "        data_point = self.data[idx]\n",
    "        data_label = self.label[idx]\n",
    "        return data_point, data_label"
   ]
  },
  {
   "cell_type": "markdown",
   "metadata": {},
   "source": [
    "Note that in contrast to our [PyTorch tutorial](https://uvadlc-notebooks.readthedocs.io/en/latest/tutorial_notebooks/tutorial2/Introduction_to_PyTorch.html#The-data), we use NumPy to generate the random data. Similar to JAX, NumPy also allows the pseudo-number generation based on a PRNG state. Hence, for better reproducibility, we are doing the same here. Let's try to create such a dataset and inspect it:"
   ]
  },
  {
   "cell_type": "code",
   "execution_count": 37,
   "metadata": {},
   "outputs": [
    {
     "name": "stdout",
     "output_type": "stream",
     "text": [
      "Size of dataset: 200\n",
      "Data point 0: (array([-0.06800247,  1.0232254 ], dtype=float32), 1)\n"
     ]
    }
   ],
   "source": [
    "dataset = XORDataset(size=200, seed=42)\n",
    "print(\"Size of dataset:\", len(dataset))\n",
    "print(\"Data point 0:\", dataset[0])"
   ]
  },
  {
   "cell_type": "markdown",
   "metadata": {},
   "source": [
    "To better relate to the dataset, we visualize the samples below. "
   ]
  },
  {
   "cell_type": "code",
   "execution_count": 38,
   "metadata": {},
   "outputs": [],
   "source": [
    "def visualize_samples(data, label):\n",
    "    data_0 = data[label == 0]\n",
    "    data_1 = data[label == 1]\n",
    "    \n",
    "    plt.figure(figsize=(4,4))\n",
    "    plt.scatter(data_0[:,0], data_0[:,1], edgecolor=\"#333\", label=\"Class 0\")\n",
    "    plt.scatter(data_1[:,0], data_1[:,1], edgecolor=\"#333\", label=\"Class 1\")\n",
    "    plt.title(\"Dataset samples\")\n",
    "    plt.ylabel(r\"$x_2$\")\n",
    "    plt.xlabel(r\"$x_1$\")\n",
    "    plt.legend()"
   ]
  },
  {
   "cell_type": "code",
   "execution_count": 39,
   "metadata": {},
   "outputs": [
    {
     "data": {
      "application/pdf": "[encoded data removed]",
      "image/svg+xml": [
       "<?xml version=\"1.0\" encoding=\"utf-8\" standalone=\"no\"?>\n",
       "<!DOCTYPE svg PUBLIC \"-//W3C//DTD SVG 1.1//EN\"\n",
       "  \"http://www.w3.org/Graphics/SVG/1.1/DTD/svg11.dtd\">\n",
       "<!-- Created with matplotlib (https://matplotlib.org/) -->\n",
       "<svg height=\"280.963594pt\" version=\"1.1\" viewBox=\"0 0 283.789062 280.963594\" width=\"283.789062pt\" xmlns=\"http://www.w3.org/2000/svg\" xmlns:xlink=\"http://www.w3.org/1999/xlink\">\n",
       " <metadata>\n",
       "  <rdf:RDF xmlns:cc=\"http://creativecommons.org/ns#\" xmlns:dc=\"http://purl.org/dc/elements/1.1/\" xmlns:rdf=\"http://www.w3.org/1999/02/22-rdf-syntax-ns#\">\n",
       "   <cc:Work>\n",
       "    <dc:type rdf:resource=\"http://purl.org/dc/dcmitype/StillImage\"/>\n",
       "    <dc:date>2022-06-08T21:13:34.811143</dc:date>\n",
       "    <dc:format>image/svg+xml</dc:format>\n",
       "    <dc:creator>\n",
       "     <cc:Agent>\n",
       "      <dc:title>Matplotlib v3.3.2, https://matplotlib.org/</dc:title>\n",
       "     </cc:Agent>\n",
       "    </dc:creator>\n",
       "   </cc:Work>\n",
       "  </rdf:RDF>\n",
       " </metadata>\n",
       " <defs>\n",
       "  <style type=\"text/css\">*{stroke-linecap:butt;stroke-linejoin:round;}</style>\n",
       " </defs>\n",
       " <g id=\"figure_1\">\n",
       "  <g id=\"patch_1\">\n",
       "   <path d=\"M 0 280.963594 \n",
       "L 283.789062 280.963594 \n",
       "L 283.789062 0 \n",
       "L 0 0 \n",
       "z\n",
       "\" style=\"fill:#ffffff;\"/>\n",
       "  </g>\n",
       "  <g id=\"axes_1\">\n",
       "   <g id=\"patch_2\">\n",
       "    <path d=\"M 53.389062 239.229375 \n",
       "L 276.589063 239.229375 \n",
       "L 276.589063 21.789375 \n",
       "L 53.389062 21.789375 \n",
       "z\n",
       "\" style=\"fill:#eaeaf2;\"/>\n",
       "   </g>\n",
       "   <g id=\"matplotlib.axis_1\">\n",
       "    <g id=\"xtick_1\">\n",
       "     <g id=\"line2d_1\">\n",
       "      <path clip-path=\"url(#pd34a6e5a8d)\" d=\"M 92.702913 239.229375 \n",
       "L 92.702913 21.789375 \n",
       "\" style=\"fill:none;stroke:#ffffff;stroke-linecap:round;\"/>\n",
       "     </g>\n",
       "     <g id=\"text_1\">\n",
       "      <!-- 0.0 -->\n",
       "      <g style=\"fill:#262626;\" transform=\"translate(85.057913 256.602969)scale(0.11 -0.11)\">\n",
       "       <defs>\n",
       "        <path d=\"M 4.15625 35.296875 \n",
       "Q 4.15625 48 6.765625 55.734375 \n",
       "Q 9.375 63.484375 14.515625 67.671875 \n",
       "Q 19.671875 71.875 27.484375 71.875 \n",
       "Q 33.25 71.875 37.59375 69.546875 \n",
       "Q 41.9375 67.234375 44.765625 62.859375 \n",
       "Q 47.609375 58.5 49.21875 52.21875 \n",
       "Q 50.828125 45.953125 50.828125 35.296875 \n",
       "Q 50.828125 22.703125 48.234375 14.96875 \n",
       "Q 45.65625 7.234375 40.5 3 \n",
       "Q 35.359375 -1.21875 27.484375 -1.21875 \n",
       "Q 17.140625 -1.21875 11.234375 6.203125 \n",
       "Q 4.15625 15.140625 4.15625 35.296875 \n",
       "z\n",
       "M 13.1875 35.296875 \n",
       "Q 13.1875 17.671875 17.3125 11.828125 \n",
       "Q 21.4375 6 27.484375 6 \n",
       "Q 33.546875 6 37.671875 11.859375 \n",
       "Q 41.796875 17.71875 41.796875 35.296875 \n",
       "Q 41.796875 52.984375 37.671875 58.78125 \n",
       "Q 33.546875 64.59375 27.390625 64.59375 \n",
       "Q 21.34375 64.59375 17.71875 59.46875 \n",
       "Q 13.1875 52.9375 13.1875 35.296875 \n",
       "z\n",
       "\" id=\"ArialMT-48\"/>\n",
       "        <path d=\"M 9.078125 0 \n",
       "L 9.078125 10.015625 \n",
       "L 19.09375 10.015625 \n",
       "L 19.09375 0 \n",
       "z\n",
       "\" id=\"ArialMT-46\"/>\n",
       "       </defs>\n",
       "       <use xlink:href=\"#ArialMT-48\"/>\n",
       "       <use x=\"55.615234\" xlink:href=\"#ArialMT-46\"/>\n",
       "       <use x=\"83.398438\" xlink:href=\"#ArialMT-48\"/>\n",
       "      </g>\n",
       "     </g>\n",
       "    </g>\n",
       "    <g id=\"xtick_2\">\n",
       "     <g id=\"line2d_2\">\n",
       "      <path clip-path=\"url(#pd34a6e5a8d)\" d=\"M 163.245145 239.229375 \n",
       "L 163.245145 21.789375 \n",
       "\" style=\"fill:none;stroke:#ffffff;stroke-linecap:round;\"/>\n",
       "     </g>\n",
       "     <g id=\"text_2\">\n",
       "      <!-- 0.5 -->\n",
       "      <g style=\"fill:#262626;\" transform=\"translate(155.600145 256.602969)scale(0.11 -0.11)\">\n",
       "       <defs>\n",
       "        <path d=\"M 4.15625 18.75 \n",
       "L 13.375 19.53125 \n",
       "Q 14.40625 12.796875 18.140625 9.390625 \n",
       "Q 21.875 6 27.15625 6 \n",
       "Q 33.5 6 37.890625 10.78125 \n",
       "Q 42.28125 15.578125 42.28125 23.484375 \n",
       "Q 42.28125 31 38.0625 35.34375 \n",
       "Q 33.84375 39.703125 27 39.703125 \n",
       "Q 22.75 39.703125 19.328125 37.765625 \n",
       "Q 15.921875 35.84375 13.96875 32.765625 \n",
       "L 5.71875 33.84375 \n",
       "L 12.640625 70.609375 \n",
       "L 48.25 70.609375 \n",
       "L 48.25 62.203125 \n",
       "L 19.671875 62.203125 \n",
       "L 15.828125 42.96875 \n",
       "Q 22.265625 47.46875 29.34375 47.46875 \n",
       "Q 38.71875 47.46875 45.15625 40.96875 \n",
       "Q 51.609375 34.46875 51.609375 24.265625 \n",
       "Q 51.609375 14.546875 45.953125 7.46875 \n",
       "Q 39.0625 -1.21875 27.15625 -1.21875 \n",
       "Q 17.390625 -1.21875 11.203125 4.25 \n",
       "Q 5.03125 9.71875 4.15625 18.75 \n",
       "z\n",
       "\" id=\"ArialMT-53\"/>\n",
       "       </defs>\n",
       "       <use xlink:href=\"#ArialMT-48\"/>\n",
       "       <use x=\"55.615234\" xlink:href=\"#ArialMT-46\"/>\n",
       "       <use x=\"83.398438\" xlink:href=\"#ArialMT-53\"/>\n",
       "      </g>\n",
       "     </g>\n",
       "    </g>\n",
       "    <g id=\"xtick_3\">\n",
       "     <g id=\"line2d_3\">\n",
       "      <path clip-path=\"url(#pd34a6e5a8d)\" d=\"M 233.787377 239.229375 \n",
       "L 233.787377 21.789375 \n",
       "\" style=\"fill:none;stroke:#ffffff;stroke-linecap:round;\"/>\n",
       "     </g>\n",
       "     <g id=\"text_3\">\n",
       "      <!-- 1.0 -->\n",
       "      <g style=\"fill:#262626;\" transform=\"translate(226.142377 256.602969)scale(0.11 -0.11)\">\n",
       "       <defs>\n",
       "        <path d=\"M 37.25 0 \n",
       "L 28.46875 0 \n",
       "L 28.46875 56 \n",
       "Q 25.296875 52.984375 20.140625 49.953125 \n",
       "Q 14.984375 46.921875 10.890625 45.40625 \n",
       "L 10.890625 53.90625 \n",
       "Q 18.265625 57.375 23.78125 62.296875 \n",
       "Q 29.296875 67.234375 31.59375 71.875 \n",
       "L 37.25 71.875 \n",
       "z\n",
       "\" id=\"ArialMT-49\"/>\n",
       "       </defs>\n",
       "       <use xlink:href=\"#ArialMT-49\"/>\n",
       "       <use x=\"55.615234\" xlink:href=\"#ArialMT-46\"/>\n",
       "       <use x=\"83.398438\" xlink:href=\"#ArialMT-48\"/>\n",
       "      </g>\n",
       "     </g>\n",
       "    </g>\n",
       "    <g id=\"text_4\">\n",
       "     <!-- $x_1$ -->\n",
       "     <g style=\"fill:#262626;\" transform=\"translate(158.569063 271.378594)scale(0.12 -0.12)\">\n",
       "      <defs>\n",
       "       <path d=\"M 60.015625 54.6875 \n",
       "L 34.90625 27.875 \n",
       "L 50.296875 0 \n",
       "L 39.984375 0 \n",
       "L 28.421875 21.6875 \n",
       "L 8.296875 0 \n",
       "L -2.59375 0 \n",
       "L 24.3125 28.8125 \n",
       "L 10.015625 54.6875 \n",
       "L 20.3125 54.6875 \n",
       "L 30.8125 34.90625 \n",
       "L 49.125 54.6875 \n",
       "z\n",
       "\" id=\"DejaVuSans-Oblique-120\"/>\n",
       "       <path d=\"M 12.40625 8.296875 \n",
       "L 28.515625 8.296875 \n",
       "L 28.515625 63.921875 \n",
       "L 10.984375 60.40625 \n",
       "L 10.984375 69.390625 \n",
       "L 28.421875 72.90625 \n",
       "L 38.28125 72.90625 \n",
       "L 38.28125 8.296875 \n",
       "L 54.390625 8.296875 \n",
       "L 54.390625 0 \n",
       "L 12.40625 0 \n",
       "z\n",
       "\" id=\"DejaVuSans-49\"/>\n",
       "      </defs>\n",
       "      <use transform=\"translate(0 0.3125)\" xlink:href=\"#DejaVuSans-Oblique-120\"/>\n",
       "      <use transform=\"translate(59.179688 -16.09375)scale(0.7)\" xlink:href=\"#DejaVuSans-49\"/>\n",
       "     </g>\n",
       "    </g>\n",
       "   </g>\n",
       "   <g id=\"matplotlib.axis_2\">\n",
       "    <g id=\"ytick_1\">\n",
       "     <g id=\"line2d_4\">\n",
       "      <path clip-path=\"url(#pd34a6e5a8d)\" d=\"M 53.389062 229.991239 \n",
       "L 276.589063 229.991239 \n",
       "\" style=\"fill:none;stroke:#ffffff;stroke-linecap:round;\"/>\n",
       "     </g>\n",
       "     <g id=\"text_5\">\n",
       "      <!-- −0.2 -->\n",
       "      <g style=\"fill:#262626;\" transform=\"translate(22.174375 233.928036)scale(0.11 -0.11)\">\n",
       "       <defs>\n",
       "        <path d=\"M 52.828125 31.203125 \n",
       "L 5.5625 31.203125 \n",
       "L 5.5625 39.40625 \n",
       "L 52.828125 39.40625 \n",
       "z\n",
       "\" id=\"ArialMT-8722\"/>\n",
       "        <path d=\"M 50.34375 8.453125 \n",
       "L 50.34375 0 \n",
       "L 3.03125 0 \n",
       "Q 2.9375 3.171875 4.046875 6.109375 \n",
       "Q 5.859375 10.9375 9.828125 15.625 \n",
       "Q 13.8125 20.3125 21.34375 26.46875 \n",
       "Q 33.015625 36.03125 37.109375 41.625 \n",
       "Q 41.21875 47.21875 41.21875 52.203125 \n",
       "Q 41.21875 57.421875 37.46875 61 \n",
       "Q 33.734375 64.59375 27.734375 64.59375 \n",
       "Q 21.390625 64.59375 17.578125 60.78125 \n",
       "Q 13.765625 56.984375 13.71875 50.25 \n",
       "L 4.6875 51.171875 \n",
       "Q 5.609375 61.28125 11.65625 66.578125 \n",
       "Q 17.71875 71.875 27.9375 71.875 \n",
       "Q 38.234375 71.875 44.234375 66.15625 \n",
       "Q 50.25 60.453125 50.25 52 \n",
       "Q 50.25 47.703125 48.484375 43.546875 \n",
       "Q 46.734375 39.40625 42.65625 34.8125 \n",
       "Q 38.578125 30.21875 29.109375 22.21875 \n",
       "Q 21.1875 15.578125 18.9375 13.203125 \n",
       "Q 16.703125 10.84375 15.234375 8.453125 \n",
       "z\n",
       "\" id=\"ArialMT-50\"/>\n",
       "       </defs>\n",
       "       <use xlink:href=\"#ArialMT-8722\"/>\n",
       "       <use x=\"58.398438\" xlink:href=\"#ArialMT-48\"/>\n",
       "       <use x=\"114.013672\" xlink:href=\"#ArialMT-46\"/>\n",
       "       <use x=\"141.796875\" xlink:href=\"#ArialMT-50\"/>\n",
       "      </g>\n",
       "     </g>\n",
       "    </g>\n",
       "    <g id=\"ytick_2\">\n",
       "     <g id=\"line2d_5\">\n",
       "      <path clip-path=\"url(#pd34a6e5a8d)\" d=\"M 53.389062 203.046137 \n",
       "L 276.589063 203.046137 \n",
       "\" style=\"fill:none;stroke:#ffffff;stroke-linecap:round;\"/>\n",
       "     </g>\n",
       "     <g id=\"text_6\">\n",
       "      <!-- 0.0 -->\n",
       "      <g style=\"fill:#262626;\" transform=\"translate(28.599062 206.982934)scale(0.11 -0.11)\">\n",
       "       <use xlink:href=\"#ArialMT-48\"/>\n",
       "       <use x=\"55.615234\" xlink:href=\"#ArialMT-46\"/>\n",
       "       <use x=\"83.398438\" xlink:href=\"#ArialMT-48\"/>\n",
       "      </g>\n",
       "     </g>\n",
       "    </g>\n",
       "    <g id=\"ytick_3\">\n",
       "     <g id=\"line2d_6\">\n",
       "      <path clip-path=\"url(#pd34a6e5a8d)\" d=\"M 53.389062 176.101034 \n",
       "L 276.589063 176.101034 \n",
       "\" style=\"fill:none;stroke:#ffffff;stroke-linecap:round;\"/>\n",
       "     </g>\n",
       "     <g id=\"text_7\">\n",
       "      <!-- 0.2 -->\n",
       "      <g style=\"fill:#262626;\" transform=\"translate(28.599062 180.037831)scale(0.11 -0.11)\">\n",
       "       <use xlink:href=\"#ArialMT-48\"/>\n",
       "       <use x=\"55.615234\" xlink:href=\"#ArialMT-46\"/>\n",
       "       <use x=\"83.398438\" xlink:href=\"#ArialMT-50\"/>\n",
       "      </g>\n",
       "     </g>\n",
       "    </g>\n",
       "    <g id=\"ytick_4\">\n",
       "     <g id=\"line2d_7\">\n",
       "      <path clip-path=\"url(#pd34a6e5a8d)\" d=\"M 53.389062 149.155932 \n",
       "L 276.589063 149.155932 \n",
       "\" style=\"fill:none;stroke:#ffffff;stroke-linecap:round;\"/>\n",
       "     </g>\n",
       "     <g id=\"text_8\">\n",
       "      <!-- 0.4 -->\n",
       "      <g style=\"fill:#262626;\" transform=\"translate(28.599062 153.092729)scale(0.11 -0.11)\">\n",
       "       <defs>\n",
       "        <path d=\"M 32.328125 0 \n",
       "L 32.328125 17.140625 \n",
       "L 1.265625 17.140625 \n",
       "L 1.265625 25.203125 \n",
       "L 33.9375 71.578125 \n",
       "L 41.109375 71.578125 \n",
       "L 41.109375 25.203125 \n",
       "L 50.78125 25.203125 \n",
       "L 50.78125 17.140625 \n",
       "L 41.109375 17.140625 \n",
       "L 41.109375 0 \n",
       "z\n",
       "M 32.328125 25.203125 \n",
       "L 32.328125 57.46875 \n",
       "L 9.90625 25.203125 \n",
       "z\n",
       "\" id=\"ArialMT-52\"/>\n",
       "       </defs>\n",
       "       <use xlink:href=\"#ArialMT-48\"/>\n",
       "       <use x=\"55.615234\" xlink:href=\"#ArialMT-46\"/>\n",
       "       <use x=\"83.398438\" xlink:href=\"#ArialMT-52\"/>\n",
       "      </g>\n",
       "     </g>\n",
       "    </g>\n",
       "    <g id=\"ytick_5\">\n",
       "     <g id=\"line2d_8\">\n",
       "      <path clip-path=\"url(#pd34a6e5a8d)\" d=\"M 53.389062 122.21083 \n",
       "L 276.589063 122.21083 \n",
       "\" style=\"fill:none;stroke:#ffffff;stroke-linecap:round;\"/>\n",
       "     </g>\n",
       "     <g id=\"text_9\">\n",
       "      <!-- 0.6 -->\n",
       "      <g style=\"fill:#262626;\" transform=\"translate(28.599062 126.147627)scale(0.11 -0.11)\">\n",
       "       <defs>\n",
       "        <path d=\"M 49.75 54.046875 \n",
       "L 41.015625 53.375 \n",
       "Q 39.84375 58.546875 37.703125 60.890625 \n",
       "Q 34.125 64.65625 28.90625 64.65625 \n",
       "Q 24.703125 64.65625 21.53125 62.3125 \n",
       "Q 17.390625 59.28125 14.984375 53.46875 \n",
       "Q 12.59375 47.65625 12.5 36.921875 \n",
       "Q 15.671875 41.75 20.265625 44.09375 \n",
       "Q 24.859375 46.4375 29.890625 46.4375 \n",
       "Q 38.671875 46.4375 44.84375 39.96875 \n",
       "Q 51.03125 33.5 51.03125 23.25 \n",
       "Q 51.03125 16.5 48.125 10.71875 \n",
       "Q 45.21875 4.9375 40.140625 1.859375 \n",
       "Q 35.0625 -1.21875 28.609375 -1.21875 \n",
       "Q 17.625 -1.21875 10.6875 6.859375 \n",
       "Q 3.765625 14.9375 3.765625 33.5 \n",
       "Q 3.765625 54.25 11.421875 63.671875 \n",
       "Q 18.109375 71.875 29.4375 71.875 \n",
       "Q 37.890625 71.875 43.28125 67.140625 \n",
       "Q 48.6875 62.40625 49.75 54.046875 \n",
       "z\n",
       "M 13.875 23.1875 \n",
       "Q 13.875 18.65625 15.796875 14.5 \n",
       "Q 17.71875 10.359375 21.1875 8.171875 \n",
       "Q 24.65625 6 28.46875 6 \n",
       "Q 34.03125 6 38.03125 10.484375 \n",
       "Q 42.046875 14.984375 42.046875 22.703125 \n",
       "Q 42.046875 30.125 38.078125 34.390625 \n",
       "Q 34.125 38.671875 28.125 38.671875 \n",
       "Q 22.171875 38.671875 18.015625 34.390625 \n",
       "Q 13.875 30.125 13.875 23.1875 \n",
       "z\n",
       "\" id=\"ArialMT-54\"/>\n",
       "       </defs>\n",
       "       <use xlink:href=\"#ArialMT-48\"/>\n",
       "       <use x=\"55.615234\" xlink:href=\"#ArialMT-46\"/>\n",
       "       <use x=\"83.398438\" xlink:href=\"#ArialMT-54\"/>\n",
       "      </g>\n",
       "     </g>\n",
       "    </g>\n",
       "    <g id=\"ytick_6\">\n",
       "     <g id=\"line2d_9\">\n",
       "      <path clip-path=\"url(#pd34a6e5a8d)\" d=\"M 53.389062 95.265727 \n",
       "L 276.589063 95.265727 \n",
       "\" style=\"fill:none;stroke:#ffffff;stroke-linecap:round;\"/>\n",
       "     </g>\n",
       "     <g id=\"text_10\">\n",
       "      <!-- 0.8 -->\n",
       "      <g style=\"fill:#262626;\" transform=\"translate(28.599062 99.202524)scale(0.11 -0.11)\">\n",
       "       <defs>\n",
       "        <path d=\"M 17.671875 38.8125 \n",
       "Q 12.203125 40.828125 9.5625 44.53125 \n",
       "Q 6.9375 48.25 6.9375 53.421875 \n",
       "Q 6.9375 61.234375 12.546875 66.546875 \n",
       "Q 18.171875 71.875 27.484375 71.875 \n",
       "Q 36.859375 71.875 42.578125 66.421875 \n",
       "Q 48.296875 60.984375 48.296875 53.171875 \n",
       "Q 48.296875 48.1875 45.671875 44.5 \n",
       "Q 43.0625 40.828125 37.75 38.8125 \n",
       "Q 44.34375 36.671875 47.78125 31.875 \n",
       "Q 51.21875 27.09375 51.21875 20.453125 \n",
       "Q 51.21875 11.28125 44.71875 5.03125 \n",
       "Q 38.234375 -1.21875 27.640625 -1.21875 \n",
       "Q 17.046875 -1.21875 10.546875 5.046875 \n",
       "Q 4.046875 11.328125 4.046875 20.703125 \n",
       "Q 4.046875 27.6875 7.59375 32.390625 \n",
       "Q 11.140625 37.109375 17.671875 38.8125 \n",
       "z\n",
       "M 15.921875 53.71875 \n",
       "Q 15.921875 48.640625 19.1875 45.40625 \n",
       "Q 22.46875 42.1875 27.6875 42.1875 \n",
       "Q 32.765625 42.1875 36.015625 45.375 \n",
       "Q 39.265625 48.578125 39.265625 53.21875 \n",
       "Q 39.265625 58.0625 35.90625 61.359375 \n",
       "Q 32.5625 64.65625 27.59375 64.65625 \n",
       "Q 22.5625 64.65625 19.234375 61.421875 \n",
       "Q 15.921875 58.203125 15.921875 53.71875 \n",
       "z\n",
       "M 13.09375 20.65625 \n",
       "Q 13.09375 16.890625 14.875 13.375 \n",
       "Q 16.65625 9.859375 20.171875 7.921875 \n",
       "Q 23.6875 6 27.734375 6 \n",
       "Q 34.03125 6 38.125 10.046875 \n",
       "Q 42.234375 14.109375 42.234375 20.359375 \n",
       "Q 42.234375 26.703125 38.015625 30.859375 \n",
       "Q 33.796875 35.015625 27.4375 35.015625 \n",
       "Q 21.234375 35.015625 17.15625 30.90625 \n",
       "Q 13.09375 26.8125 13.09375 20.65625 \n",
       "z\n",
       "\" id=\"ArialMT-56\"/>\n",
       "       </defs>\n",
       "       <use xlink:href=\"#ArialMT-48\"/>\n",
       "       <use x=\"55.615234\" xlink:href=\"#ArialMT-46\"/>\n",
       "       <use x=\"83.398438\" xlink:href=\"#ArialMT-56\"/>\n",
       "      </g>\n",
       "     </g>\n",
       "    </g>\n",
       "    <g id=\"ytick_7\">\n",
       "     <g id=\"line2d_10\">\n",
       "      <path clip-path=\"url(#pd34a6e5a8d)\" d=\"M 53.389062 68.320625 \n",
       "L 276.589063 68.320625 \n",
       "\" style=\"fill:none;stroke:#ffffff;stroke-linecap:round;\"/>\n",
       "     </g>\n",
       "     <g id=\"text_11\">\n",
       "      <!-- 1.0 -->\n",
       "      <g style=\"fill:#262626;\" transform=\"translate(28.599062 72.257422)scale(0.11 -0.11)\">\n",
       "       <use xlink:href=\"#ArialMT-49\"/>\n",
       "       <use x=\"55.615234\" xlink:href=\"#ArialMT-46\"/>\n",
       "       <use x=\"83.398438\" xlink:href=\"#ArialMT-48\"/>\n",
       "      </g>\n",
       "     </g>\n",
       "    </g>\n",
       "    <g id=\"ytick_8\">\n",
       "     <g id=\"line2d_11\">\n",
       "      <path clip-path=\"url(#pd34a6e5a8d)\" d=\"M 53.389062 41.375523 \n",
       "L 276.589063 41.375523 \n",
       "\" style=\"fill:none;stroke:#ffffff;stroke-linecap:round;\"/>\n",
       "     </g>\n",
       "     <g id=\"text_12\">\n",
       "      <!-- 1.2 -->\n",
       "      <g style=\"fill:#262626;\" transform=\"translate(28.599062 45.31232)scale(0.11 -0.11)\">\n",
       "       <use xlink:href=\"#ArialMT-49\"/>\n",
       "       <use x=\"55.615234\" xlink:href=\"#ArialMT-46\"/>\n",
       "       <use x=\"83.398438\" xlink:href=\"#ArialMT-50\"/>\n",
       "      </g>\n",
       "     </g>\n",
       "    </g>\n",
       "    <g id=\"text_13\">\n",
       "     <!-- $x_2$ -->\n",
       "     <g style=\"fill:#262626;\" transform=\"translate(15.789375 136.929375)rotate(-90)scale(0.12 -0.12)\">\n",
       "      <defs>\n",
       "       <path d=\"M 19.1875 8.296875 \n",
       "L 53.609375 8.296875 \n",
       "L 53.609375 0 \n",
       "L 7.328125 0 \n",
       "L 7.328125 8.296875 \n",
       "Q 12.9375 14.109375 22.625 23.890625 \n",
       "Q 32.328125 33.6875 34.8125 36.53125 \n",
       "Q 39.546875 41.84375 41.421875 45.53125 \n",
       "Q 43.3125 49.21875 43.3125 52.78125 \n",
       "Q 43.3125 58.59375 39.234375 62.25 \n",
       "Q 35.15625 65.921875 28.609375 65.921875 \n",
       "Q 23.96875 65.921875 18.8125 64.3125 \n",
       "Q 13.671875 62.703125 7.8125 59.421875 \n",
       "L 7.8125 69.390625 \n",
       "Q 13.765625 71.78125 18.9375 73 \n",
       "Q 24.125 74.21875 28.421875 74.21875 \n",
       "Q 39.75 74.21875 46.484375 68.546875 \n",
       "Q 53.21875 62.890625 53.21875 53.421875 \n",
       "Q 53.21875 48.921875 51.53125 44.890625 \n",
       "Q 49.859375 40.875 45.40625 35.40625 \n",
       "Q 44.1875 33.984375 37.640625 27.21875 \n",
       "Q 31.109375 20.453125 19.1875 8.296875 \n",
       "z\n",
       "\" id=\"DejaVuSans-50\"/>\n",
       "      </defs>\n",
       "      <use transform=\"translate(0 0.3125)\" xlink:href=\"#DejaVuSans-Oblique-120\"/>\n",
       "      <use transform=\"translate(59.179688 -16.09375)scale(0.7)\" xlink:href=\"#DejaVuSans-50\"/>\n",
       "     </g>\n",
       "    </g>\n",
       "   </g>\n",
       "   <g id=\"PathCollection_1\">\n",
       "    <defs>\n",
       "     <path d=\"M 0 3 \n",
       "C 0.795609 3 1.55874 2.683901 2.12132 2.12132 \n",
       "C 2.683901 1.55874 3 0.795609 3 0 \n",
       "C 3 -0.795609 2.683901 -1.55874 2.12132 -2.12132 \n",
       "C 1.55874 -2.683901 0.795609 -3 0 -3 \n",
       "C -0.795609 -3 -1.55874 -2.683901 -2.12132 -2.12132 \n",
       "C -2.683901 -1.55874 -3 -0.795609 -3 0 \n",
       "C -3 0.795609 -2.683901 1.55874 -2.12132 2.12132 \n",
       "C -1.55874 2.683901 -0.795609 3 0 3 \n",
       "z\n",
       "\" id=\"mc2b0d7391d\" style=\"stroke:#333333;\"/>\n",
       "    </defs>\n",
       "    <g clip-path=\"url(#pd34a6e5a8d)\">\n",
       "     <use style=\"fill:#4c72b0;stroke:#333333;\" x=\"96.83771\" xlink:href=\"#mc2b0d7391d\" y=\"212.670272\"/>\n",
       "     <use style=\"fill:#4c72b0;stroke:#333333;\" x=\"75.895471\" xlink:href=\"#mc2b0d7391d\" y=\"194.200685\"/>\n",
       "     <use style=\"fill:#4c72b0;stroke:#333333;\" x=\"109.048897\" xlink:href=\"#mc2b0d7391d\" y=\"214.102822\"/>\n",
       "     <use style=\"fill:#4c72b0;stroke:#333333;\" x=\"106.294654\" xlink:href=\"#mc2b0d7391d\" y=\"197.484924\"/>\n",
       "     <use style=\"fill:#4c72b0;stroke:#333333;\" x=\"230.325332\" xlink:href=\"#mc2b0d7391d\" y=\"78.475371\"/>\n",
       "     <use style=\"fill:#4c72b0;stroke:#333333;\" x=\"237.691053\" xlink:href=\"#mc2b0d7391d\" y=\"57.17635\"/>\n",
       "     <use style=\"fill:#4c72b0;stroke:#333333;\" x=\"233.970817\" xlink:href=\"#mc2b0d7391d\" y=\"48.737809\"/>\n",
       "     <use style=\"fill:#4c72b0;stroke:#333333;\" x=\"230.053485\" xlink:href=\"#mc2b0d7391d\" y=\"31.673011\"/>\n",
       "     <use style=\"fill:#4c72b0;stroke:#333333;\" x=\"242.614575\" xlink:href=\"#mc2b0d7391d\" y=\"79.868726\"/>\n",
       "     <use style=\"fill:#4c72b0;stroke:#333333;\" x=\"77.594283\" xlink:href=\"#mc2b0d7391d\" y=\"196.546003\"/>\n",
       "     <use style=\"fill:#4c72b0;stroke:#333333;\" x=\"230.634667\" xlink:href=\"#mc2b0d7391d\" y=\"58.701217\"/>\n",
       "     <use style=\"fill:#4c72b0;stroke:#333333;\" x=\"86.403281\" xlink:href=\"#mc2b0d7391d\" y=\"191.50826\"/>\n",
       "     <use style=\"fill:#4c72b0;stroke:#333333;\" x=\"95.723443\" xlink:href=\"#mc2b0d7391d\" y=\"219.829416\"/>\n",
       "     <use style=\"fill:#4c72b0;stroke:#333333;\" x=\"236.230696\" xlink:href=\"#mc2b0d7391d\" y=\"63.129411\"/>\n",
       "     <use style=\"fill:#4c72b0;stroke:#333333;\" x=\"221.31752\" xlink:href=\"#mc2b0d7391d\" y=\"66.249555\"/>\n",
       "     <use style=\"fill:#4c72b0;stroke:#333333;\" x=\"238.835205\" xlink:href=\"#mc2b0d7391d\" y=\"60.765429\"/>\n",
       "     <use style=\"fill:#4c72b0;stroke:#333333;\" x=\"100.757291\" xlink:href=\"#mc2b0d7391d\" y=\"187.747171\"/>\n",
       "     <use style=\"fill:#4c72b0;stroke:#333333;\" x=\"106.162396\" xlink:href=\"#mc2b0d7391d\" y=\"194.270235\"/>\n",
       "     <use style=\"fill:#4c72b0;stroke:#333333;\" x=\"88.254954\" xlink:href=\"#mc2b0d7391d\" y=\"192.820886\"/>\n",
       "     <use style=\"fill:#4c72b0;stroke:#333333;\" x=\"266.443608\" xlink:href=\"#mc2b0d7391d\" y=\"93.47745\"/>\n",
       "     <use style=\"fill:#4c72b0;stroke:#333333;\" x=\"243.469446\" xlink:href=\"#mc2b0d7391d\" y=\"90.04802\"/>\n",
       "     <use style=\"fill:#4c72b0;stroke:#333333;\" x=\"223.695557\" xlink:href=\"#mc2b0d7391d\" y=\"59.164708\"/>\n",
       "     <use style=\"fill:#4c72b0;stroke:#333333;\" x=\"64.131297\" xlink:href=\"#mc2b0d7391d\" y=\"200.534121\"/>\n",
       "     <use style=\"fill:#4c72b0;stroke:#333333;\" x=\"222.606142\" xlink:href=\"#mc2b0d7391d\" y=\"69.866419\"/>\n",
       "     <use style=\"fill:#4c72b0;stroke:#333333;\" x=\"240.911963\" xlink:href=\"#mc2b0d7391d\" y=\"56.656695\"/>\n",
       "     <use style=\"fill:#4c72b0;stroke:#333333;\" x=\"216.853061\" xlink:href=\"#mc2b0d7391d\" y=\"72.827211\"/>\n",
       "     <use style=\"fill:#4c72b0;stroke:#333333;\" x=\"227.086637\" xlink:href=\"#mc2b0d7391d\" y=\"77.12264\"/>\n",
       "     <use style=\"fill:#4c72b0;stroke:#333333;\" x=\"258.695188\" xlink:href=\"#mc2b0d7391d\" y=\"62.864493\"/>\n",
       "     <use style=\"fill:#4c72b0;stroke:#333333;\" x=\"212.351426\" xlink:href=\"#mc2b0d7391d\" y=\"74.844494\"/>\n",
       "     <use style=\"fill:#4c72b0;stroke:#333333;\" x=\"251.661524\" xlink:href=\"#mc2b0d7391d\" y=\"77.854735\"/>\n",
       "     <use style=\"fill:#4c72b0;stroke:#333333;\" x=\"240.048985\" xlink:href=\"#mc2b0d7391d\" y=\"57.88433\"/>\n",
       "     <use style=\"fill:#4c72b0;stroke:#333333;\" x=\"230.224033\" xlink:href=\"#mc2b0d7391d\" y=\"85.13145\"/>\n",
       "     <use style=\"fill:#4c72b0;stroke:#333333;\" x=\"235.388926\" xlink:href=\"#mc2b0d7391d\" y=\"59.400043\"/>\n",
       "     <use style=\"fill:#4c72b0;stroke:#333333;\" x=\"122.796701\" xlink:href=\"#mc2b0d7391d\" y=\"229.345739\"/>\n",
       "     <use style=\"fill:#4c72b0;stroke:#333333;\" x=\"90.561461\" xlink:href=\"#mc2b0d7391d\" y=\"195.120003\"/>\n",
       "     <use style=\"fill:#4c72b0;stroke:#333333;\" x=\"96.667272\" xlink:href=\"#mc2b0d7391d\" y=\"211.435488\"/>\n",
       "     <use style=\"fill:#4c72b0;stroke:#333333;\" x=\"89.766631\" xlink:href=\"#mc2b0d7391d\" y=\"209.688117\"/>\n",
       "     <use style=\"fill:#4c72b0;stroke:#333333;\" x=\"238.824306\" xlink:href=\"#mc2b0d7391d\" y=\"77.655882\"/>\n",
       "     <use style=\"fill:#4c72b0;stroke:#333333;\" x=\"104.171135\" xlink:href=\"#mc2b0d7391d\" y=\"194.56343\"/>\n",
       "     <use style=\"fill:#4c72b0;stroke:#333333;\" x=\"103.246065\" xlink:href=\"#mc2b0d7391d\" y=\"194.822892\"/>\n",
       "     <use style=\"fill:#4c72b0;stroke:#333333;\" x=\"92.408024\" xlink:href=\"#mc2b0d7391d\" y=\"201.465438\"/>\n",
       "     <use style=\"fill:#4c72b0;stroke:#333333;\" x=\"104.348256\" xlink:href=\"#mc2b0d7391d\" y=\"192.086086\"/>\n",
       "     <use style=\"fill:#4c72b0;stroke:#333333;\" x=\"252.205655\" xlink:href=\"#mc2b0d7391d\" y=\"68.037655\"/>\n",
       "     <use style=\"fill:#4c72b0;stroke:#333333;\" x=\"250.126526\" xlink:href=\"#mc2b0d7391d\" y=\"57.654906\"/>\n",
       "     <use style=\"fill:#4c72b0;stroke:#333333;\" x=\"101.508274\" xlink:href=\"#mc2b0d7391d\" y=\"194.580719\"/>\n",
       "     <use style=\"fill:#4c72b0;stroke:#333333;\" x=\"92.53013\" xlink:href=\"#mc2b0d7391d\" y=\"215.134442\"/>\n",
       "     <use style=\"fill:#4c72b0;stroke:#333333;\" x=\"93.772398\" xlink:href=\"#mc2b0d7391d\" y=\"212.169233\"/>\n",
       "     <use style=\"fill:#4c72b0;stroke:#333333;\" x=\"81.05643\" xlink:href=\"#mc2b0d7391d\" y=\"207.376024\"/>\n",
       "     <use style=\"fill:#4c72b0;stroke:#333333;\" x=\"96.159011\" xlink:href=\"#mc2b0d7391d\" y=\"209.875955\"/>\n",
       "     <use style=\"fill:#4c72b0;stroke:#333333;\" x=\"86.057294\" xlink:href=\"#mc2b0d7391d\" y=\"199.919832\"/>\n",
       "     <use style=\"fill:#4c72b0;stroke:#333333;\" x=\"223.651249\" xlink:href=\"#mc2b0d7391d\" y=\"71.196304\"/>\n",
       "     <use style=\"fill:#4c72b0;stroke:#333333;\" x=\"97.089336\" xlink:href=\"#mc2b0d7391d\" y=\"183.169325\"/>\n",
       "     <use style=\"fill:#4c72b0;stroke:#333333;\" x=\"92.434624\" xlink:href=\"#mc2b0d7391d\" y=\"216.552765\"/>\n",
       "     <use style=\"fill:#4c72b0;stroke:#333333;\" x=\"238.340436\" xlink:href=\"#mc2b0d7391d\" y=\"79.465535\"/>\n",
       "     <use style=\"fill:#4c72b0;stroke:#333333;\" x=\"91.168476\" xlink:href=\"#mc2b0d7391d\" y=\"197.634055\"/>\n",
       "     <use style=\"fill:#4c72b0;stroke:#333333;\" x=\"102.439773\" xlink:href=\"#mc2b0d7391d\" y=\"208.4516\"/>\n",
       "     <use style=\"fill:#4c72b0;stroke:#333333;\" x=\"95.86451\" xlink:href=\"#mc2b0d7391d\" y=\"202.876485\"/>\n",
       "     <use style=\"fill:#4c72b0;stroke:#333333;\" x=\"113.176295\" xlink:href=\"#mc2b0d7391d\" y=\"190.122312\"/>\n",
       "     <use style=\"fill:#4c72b0;stroke:#333333;\" x=\"264.165431\" xlink:href=\"#mc2b0d7391d\" y=\"78.658758\"/>\n",
       "     <use style=\"fill:#4c72b0;stroke:#333333;\" x=\"246.094473\" xlink:href=\"#mc2b0d7391d\" y=\"65.850547\"/>\n",
       "     <use style=\"fill:#4c72b0;stroke:#333333;\" x=\"80.855742\" xlink:href=\"#mc2b0d7391d\" y=\"211.121485\"/>\n",
       "     <use style=\"fill:#4c72b0;stroke:#333333;\" x=\"203.822506\" xlink:href=\"#mc2b0d7391d\" y=\"75.40389\"/>\n",
       "     <use style=\"fill:#4c72b0;stroke:#333333;\" x=\"223.077197\" xlink:href=\"#mc2b0d7391d\" y=\"66.294444\"/>\n",
       "     <use style=\"fill:#4c72b0;stroke:#333333;\" x=\"238.609028\" xlink:href=\"#mc2b0d7391d\" y=\"43.04382\"/>\n",
       "     <use style=\"fill:#4c72b0;stroke:#333333;\" x=\"247.196376\" xlink:href=\"#mc2b0d7391d\" y=\"76.092991\"/>\n",
       "     <use style=\"fill:#4c72b0;stroke:#333333;\" x=\"91.086934\" xlink:href=\"#mc2b0d7391d\" y=\"186.369594\"/>\n",
       "     <use style=\"fill:#4c72b0;stroke:#333333;\" x=\"70.208016\" xlink:href=\"#mc2b0d7391d\" y=\"211.121248\"/>\n",
       "     <use style=\"fill:#4c72b0;stroke:#333333;\" x=\"77.640447\" xlink:href=\"#mc2b0d7391d\" y=\"204.964352\"/>\n",
       "     <use style=\"fill:#4c72b0;stroke:#333333;\" x=\"97.391347\" xlink:href=\"#mc2b0d7391d\" y=\"213.13016\"/>\n",
       "     <use style=\"fill:#4c72b0;stroke:#333333;\" x=\"250.425425\" xlink:href=\"#mc2b0d7391d\" y=\"67.410973\"/>\n",
       "     <use style=\"fill:#4c72b0;stroke:#333333;\" x=\"121.776864\" xlink:href=\"#mc2b0d7391d\" y=\"179.397217\"/>\n",
       "     <use style=\"fill:#4c72b0;stroke:#333333;\" x=\"230.274876\" xlink:href=\"#mc2b0d7391d\" y=\"55.231082\"/>\n",
       "     <use style=\"fill:#4c72b0;stroke:#333333;\" x=\"242.892636\" xlink:href=\"#mc2b0d7391d\" y=\"49.881672\"/>\n",
       "     <use style=\"fill:#4c72b0;stroke:#333333;\" x=\"229.986463\" xlink:href=\"#mc2b0d7391d\" y=\"58.653501\"/>\n",
       "     <use style=\"fill:#4c72b0;stroke:#333333;\" x=\"68.670833\" xlink:href=\"#mc2b0d7391d\" y=\"203.794506\"/>\n",
       "     <use style=\"fill:#4c72b0;stroke:#333333;\" x=\"63.534517\" xlink:href=\"#mc2b0d7391d\" y=\"204.246811\"/>\n",
       "     <use style=\"fill:#4c72b0;stroke:#333333;\" x=\"238.959511\" xlink:href=\"#mc2b0d7391d\" y=\"80.983207\"/>\n",
       "     <use style=\"fill:#4c72b0;stroke:#333333;\" x=\"78.79585\" xlink:href=\"#mc2b0d7391d\" y=\"196.255344\"/>\n",
       "     <use style=\"fill:#4c72b0;stroke:#333333;\" x=\"225.976249\" xlink:href=\"#mc2b0d7391d\" y=\"84.459099\"/>\n",
       "     <use style=\"fill:#4c72b0;stroke:#333333;\" x=\"261.506598\" xlink:href=\"#mc2b0d7391d\" y=\"67.845538\"/>\n",
       "     <use style=\"fill:#4c72b0;stroke:#333333;\" x=\"85.218366\" xlink:href=\"#mc2b0d7391d\" y=\"210.803877\"/>\n",
       "     <use style=\"fill:#4c72b0;stroke:#333333;\" x=\"256.995317\" xlink:href=\"#mc2b0d7391d\" y=\"71.675775\"/>\n",
       "     <use style=\"fill:#4c72b0;stroke:#333333;\" x=\"241.9217\" xlink:href=\"#mc2b0d7391d\" y=\"64.127284\"/>\n",
       "     <use style=\"fill:#4c72b0;stroke:#333333;\" x=\"136.141139\" xlink:href=\"#mc2b0d7391d\" y=\"187.962607\"/>\n",
       "     <use style=\"fill:#4c72b0;stroke:#333333;\" x=\"231.98266\" xlink:href=\"#mc2b0d7391d\" y=\"81.194194\"/>\n",
       "     <use style=\"fill:#4c72b0;stroke:#333333;\" x=\"70.038451\" xlink:href=\"#mc2b0d7391d\" y=\"200.304963\"/>\n",
       "     <use style=\"fill:#4c72b0;stroke:#333333;\" x=\"224.665241\" xlink:href=\"#mc2b0d7391d\" y=\"82.891832\"/>\n",
       "     <use style=\"fill:#4c72b0;stroke:#333333;\" x=\"116.505861\" xlink:href=\"#mc2b0d7391d\" y=\"191.1682\"/>\n",
       "     <use style=\"fill:#4c72b0;stroke:#333333;\" x=\"233.674895\" xlink:href=\"#mc2b0d7391d\" y=\"48.382004\"/>\n",
       "     <use style=\"fill:#4c72b0;stroke:#333333;\" x=\"78.068981\" xlink:href=\"#mc2b0d7391d\" y=\"205.610484\"/>\n",
       "     <use style=\"fill:#4c72b0;stroke:#333333;\" x=\"234.471944\" xlink:href=\"#mc2b0d7391d\" y=\"79.515643\"/>\n",
       "     <use style=\"fill:#4c72b0;stroke:#333333;\" x=\"96.518639\" xlink:href=\"#mc2b0d7391d\" y=\"203.722972\"/>\n",
       "     <use style=\"fill:#4c72b0;stroke:#333333;\" x=\"99.770076\" xlink:href=\"#mc2b0d7391d\" y=\"216.216299\"/>\n",
       "     <use style=\"fill:#4c72b0;stroke:#333333;\" x=\"235.188802\" xlink:href=\"#mc2b0d7391d\" y=\"58.197527\"/>\n",
       "     <use style=\"fill:#4c72b0;stroke:#333333;\" x=\"69.150198\" xlink:href=\"#mc2b0d7391d\" y=\"195.725689\"/>\n",
       "     <use style=\"fill:#4c72b0;stroke:#333333;\" x=\"224.438787\" xlink:href=\"#mc2b0d7391d\" y=\"60.633203\"/>\n",
       "     <use style=\"fill:#4c72b0;stroke:#333333;\" x=\"223.018979\" xlink:href=\"#mc2b0d7391d\" y=\"92.636994\"/>\n",
       "     <use style=\"fill:#4c72b0;stroke:#333333;\" x=\"232.85509\" xlink:href=\"#mc2b0d7391d\" y=\"84.636103\"/>\n",
       "     <use style=\"fill:#4c72b0;stroke:#333333;\" x=\"106.900141\" xlink:href=\"#mc2b0d7391d\" y=\"210.818342\"/>\n",
       "     <use style=\"fill:#4c72b0;stroke:#333333;\" x=\"104.493231\" xlink:href=\"#mc2b0d7391d\" y=\"218.26617\"/>\n",
       "     <use style=\"fill:#4c72b0;stroke:#333333;\" x=\"100.177627\" xlink:href=\"#mc2b0d7391d\" y=\"183.62453\"/>\n",
       "     <use style=\"fill:#4c72b0;stroke:#333333;\" x=\"198.916316\" xlink:href=\"#mc2b0d7391d\" y=\"79.056834\"/>\n",
       "     <use style=\"fill:#4c72b0;stroke:#333333;\" x=\"239.023674\" xlink:href=\"#mc2b0d7391d\" y=\"76.457846\"/>\n",
       "    </g>\n",
       "   </g>\n",
       "   <g id=\"PathCollection_2\">\n",
       "    <defs>\n",
       "     <path d=\"M 0 3 \n",
       "C 0.795609 3 1.55874 2.683901 2.12132 2.12132 \n",
       "C 2.683901 1.55874 3 0.795609 3 0 \n",
       "C 3 -0.795609 2.683901 -1.55874 2.12132 -2.12132 \n",
       "C 1.55874 -2.683901 0.795609 -3 0 -3 \n",
       "C -0.795609 -3 -1.55874 -2.683901 -2.12132 -2.12132 \n",
       "C -2.683901 -1.55874 -3 -0.795609 -3 0 \n",
       "C -3 0.795609 -2.683901 1.55874 -2.12132 2.12132 \n",
       "C -1.55874 2.683901 -0.795609 3 0 3 \n",
       "z\n",
       "\" id=\"m4852ad09f9\" style=\"stroke:#333333;\"/>\n",
       "    </defs>\n",
       "    <g clip-path=\"url(#pd34a6e5a8d)\">\n",
       "     <use style=\"fill:#dd8452;stroke:#333333;\" x=\"83.108821\" xlink:href=\"#m4852ad09f9\" y=\"65.191568\"/>\n",
       "     <use style=\"fill:#dd8452;stroke:#333333;\" x=\"119.026093\" xlink:href=\"#m4852ad09f9\" y=\"61.936885\"/>\n",
       "     <use style=\"fill:#dd8452;stroke:#333333;\" x=\"78.951669\" xlink:href=\"#m4852ad09f9\" y=\"57.716594\"/>\n",
       "     <use style=\"fill:#dd8452;stroke:#333333;\" x=\"245.385368\" xlink:href=\"#m4852ad09f9\" y=\"177.491497\"/>\n",
       "     <use style=\"fill:#dd8452;stroke:#333333;\" x=\"221.237707\" xlink:href=\"#m4852ad09f9\" y=\"214.037182\"/>\n",
       "     <use style=\"fill:#dd8452;stroke:#333333;\" x=\"232.699594\" xlink:href=\"#m4852ad09f9\" y=\"198.449949\"/>\n",
       "     <use style=\"fill:#dd8452;stroke:#333333;\" x=\"240.464017\" xlink:href=\"#m4852ad09f9\" y=\"204.027328\"/>\n",
       "     <use style=\"fill:#dd8452;stroke:#333333;\" x=\"221.840434\" xlink:href=\"#m4852ad09f9\" y=\"223.454994\"/>\n",
       "     <use style=\"fill:#dd8452;stroke:#333333;\" x=\"234.608612\" xlink:href=\"#m4852ad09f9\" y=\"218.444863\"/>\n",
       "     <use style=\"fill:#dd8452;stroke:#333333;\" x=\"107.983084\" xlink:href=\"#m4852ad09f9\" y=\"54.123227\"/>\n",
       "     <use style=\"fill:#dd8452;stroke:#333333;\" x=\"73.266138\" xlink:href=\"#m4852ad09f9\" y=\"80.955518\"/>\n",
       "     <use style=\"fill:#dd8452;stroke:#333333;\" x=\"99.969261\" xlink:href=\"#m4852ad09f9\" y=\"61.398616\"/>\n",
       "     <use style=\"fill:#dd8452;stroke:#333333;\" x=\"241.053895\" xlink:href=\"#m4852ad09f9\" y=\"151.140013\"/>\n",
       "     <use style=\"fill:#dd8452;stroke:#333333;\" x=\"81.79955\" xlink:href=\"#m4852ad09f9\" y=\"71.511178\"/>\n",
       "     <use style=\"fill:#dd8452;stroke:#333333;\" x=\"226.939651\" xlink:href=\"#m4852ad09f9\" y=\"201.943083\"/>\n",
       "     <use style=\"fill:#dd8452;stroke:#333333;\" x=\"86.044687\" xlink:href=\"#m4852ad09f9\" y=\"53.649682\"/>\n",
       "     <use style=\"fill:#dd8452;stroke:#333333;\" x=\"93.609804\" xlink:href=\"#m4852ad09f9\" y=\"82.840599\"/>\n",
       "     <use style=\"fill:#dd8452;stroke:#333333;\" x=\"82.398574\" xlink:href=\"#m4852ad09f9\" y=\"65.40437\"/>\n",
       "     <use style=\"fill:#dd8452;stroke:#333333;\" x=\"93.345861\" xlink:href=\"#m4852ad09f9\" y=\"77.099344\"/>\n",
       "     <use style=\"fill:#dd8452;stroke:#333333;\" x=\"122.950633\" xlink:href=\"#m4852ad09f9\" y=\"59.780116\"/>\n",
       "     <use style=\"fill:#dd8452;stroke:#333333;\" x=\"224.450602\" xlink:href=\"#m4852ad09f9\" y=\"191.561685\"/>\n",
       "     <use style=\"fill:#dd8452;stroke:#333333;\" x=\"215.998266\" xlink:href=\"#m4852ad09f9\" y=\"190.680194\"/>\n",
       "     <use style=\"fill:#dd8452;stroke:#333333;\" x=\"122.64324\" xlink:href=\"#m4852ad09f9\" y=\"54.410678\"/>\n",
       "     <use style=\"fill:#dd8452;stroke:#333333;\" x=\"220.709831\" xlink:href=\"#m4852ad09f9\" y=\"203.848095\"/>\n",
       "     <use style=\"fill:#dd8452;stroke:#333333;\" x=\"188.058133\" xlink:href=\"#m4852ad09f9\" y=\"216.847252\"/>\n",
       "     <use style=\"fill:#dd8452;stroke:#333333;\" x=\"115.733701\" xlink:href=\"#m4852ad09f9\" y=\"87.588277\"/>\n",
       "     <use style=\"fill:#dd8452;stroke:#333333;\" x=\"86.494569\" xlink:href=\"#m4852ad09f9\" y=\"66.559218\"/>\n",
       "     <use style=\"fill:#dd8452;stroke:#333333;\" x=\"254.12151\" xlink:href=\"#m4852ad09f9\" y=\"222.390864\"/>\n",
       "     <use style=\"fill:#dd8452;stroke:#333333;\" x=\"250.197803\" xlink:href=\"#m4852ad09f9\" y=\"202.908271\"/>\n",
       "     <use style=\"fill:#dd8452;stroke:#333333;\" x=\"219.939817\" xlink:href=\"#m4852ad09f9\" y=\"196.820424\"/>\n",
       "     <use style=\"fill:#dd8452;stroke:#333333;\" x=\"95.511336\" xlink:href=\"#m4852ad09f9\" y=\"76.407079\"/>\n",
       "     <use style=\"fill:#dd8452;stroke:#333333;\" x=\"234.772172\" xlink:href=\"#m4852ad09f9\" y=\"208.237294\"/>\n",
       "     <use style=\"fill:#dd8452;stroke:#333333;\" x=\"256.163605\" xlink:href=\"#m4852ad09f9\" y=\"219.722669\"/>\n",
       "     <use style=\"fill:#dd8452;stroke:#333333;\" x=\"225.472356\" xlink:href=\"#m4852ad09f9\" y=\"191.599829\"/>\n",
       "     <use style=\"fill:#dd8452;stroke:#333333;\" x=\"246.479333\" xlink:href=\"#m4852ad09f9\" y=\"198.906028\"/>\n",
       "     <use style=\"fill:#dd8452;stroke:#333333;\" x=\"81.007081\" xlink:href=\"#m4852ad09f9\" y=\"75.867694\"/>\n",
       "     <use style=\"fill:#dd8452;stroke:#333333;\" x=\"110.72878\" xlink:href=\"#m4852ad09f9\" y=\"76.2906\"/>\n",
       "     <use style=\"fill:#dd8452;stroke:#333333;\" x=\"100.421607\" xlink:href=\"#m4852ad09f9\" y=\"71.044676\"/>\n",
       "     <use style=\"fill:#dd8452;stroke:#333333;\" x=\"89.631769\" xlink:href=\"#m4852ad09f9\" y=\"53.517295\"/>\n",
       "     <use style=\"fill:#dd8452;stroke:#333333;\" x=\"243.408681\" xlink:href=\"#m4852ad09f9\" y=\"207.226222\"/>\n",
       "     <use style=\"fill:#dd8452;stroke:#333333;\" x=\"238.360853\" xlink:href=\"#m4852ad09f9\" y=\"204.799496\"/>\n",
       "     <use style=\"fill:#dd8452;stroke:#333333;\" x=\"94.071375\" xlink:href=\"#m4852ad09f9\" y=\"60.30234\"/>\n",
       "     <use style=\"fill:#dd8452;stroke:#333333;\" x=\"222.24355\" xlink:href=\"#m4852ad09f9\" y=\"174.856343\"/>\n",
       "     <use style=\"fill:#dd8452;stroke:#333333;\" x=\"78.50957\" xlink:href=\"#m4852ad09f9\" y=\"84.67884\"/>\n",
       "     <use style=\"fill:#dd8452;stroke:#333333;\" x=\"247.544806\" xlink:href=\"#m4852ad09f9\" y=\"205.027375\"/>\n",
       "     <use style=\"fill:#dd8452;stroke:#333333;\" x=\"239.613198\" xlink:href=\"#m4852ad09f9\" y=\"210.640945\"/>\n",
       "     <use style=\"fill:#dd8452;stroke:#333333;\" x=\"81.102661\" xlink:href=\"#m4852ad09f9\" y=\"65.037531\"/>\n",
       "     <use style=\"fill:#dd8452;stroke:#333333;\" x=\"72.272692\" xlink:href=\"#m4852ad09f9\" y=\"87.28275\"/>\n",
       "     <use style=\"fill:#dd8452;stroke:#333333;\" x=\"104.803158\" xlink:href=\"#m4852ad09f9\" y=\"70.475403\"/>\n",
       "     <use style=\"fill:#dd8452;stroke:#333333;\" x=\"233.526185\" xlink:href=\"#m4852ad09f9\" y=\"206.935105\"/>\n",
       "     <use style=\"fill:#dd8452;stroke:#333333;\" x=\"241.114542\" xlink:href=\"#m4852ad09f9\" y=\"182.396233\"/>\n",
       "     <use style=\"fill:#dd8452;stroke:#333333;\" x=\"235.165441\" xlink:href=\"#m4852ad09f9\" y=\"213.460551\"/>\n",
       "     <use style=\"fill:#dd8452;stroke:#333333;\" x=\"234.133184\" xlink:href=\"#m4852ad09f9\" y=\"196.336829\"/>\n",
       "     <use style=\"fill:#dd8452;stroke:#333333;\" x=\"123.597631\" xlink:href=\"#m4852ad09f9\" y=\"79.210461\"/>\n",
       "     <use style=\"fill:#dd8452;stroke:#333333;\" x=\"80.027677\" xlink:href=\"#m4852ad09f9\" y=\"61.693214\"/>\n",
       "     <use style=\"fill:#dd8452;stroke:#333333;\" x=\"215.160936\" xlink:href=\"#m4852ad09f9\" y=\"178.371714\"/>\n",
       "     <use style=\"fill:#dd8452;stroke:#333333;\" x=\"250.427444\" xlink:href=\"#m4852ad09f9\" y=\"209.36713\"/>\n",
       "     <use style=\"fill:#dd8452;stroke:#333333;\" x=\"68.533247\" xlink:href=\"#m4852ad09f9\" y=\"50.080518\"/>\n",
       "     <use style=\"fill:#dd8452;stroke:#333333;\" x=\"233.861362\" xlink:href=\"#m4852ad09f9\" y=\"202.413188\"/>\n",
       "     <use style=\"fill:#dd8452;stroke:#333333;\" x=\"227.437649\" xlink:href=\"#m4852ad09f9\" y=\"194.654759\"/>\n",
       "     <use style=\"fill:#dd8452;stroke:#333333;\" x=\"94.400097\" xlink:href=\"#m4852ad09f9\" y=\"61.389815\"/>\n",
       "     <use style=\"fill:#dd8452;stroke:#333333;\" x=\"243.827161\" xlink:href=\"#m4852ad09f9\" y=\"218.197935\"/>\n",
       "     <use style=\"fill:#dd8452;stroke:#333333;\" x=\"71.058945\" xlink:href=\"#m4852ad09f9\" y=\"51.107059\"/>\n",
       "     <use style=\"fill:#dd8452;stroke:#333333;\" x=\"114.587258\" xlink:href=\"#m4852ad09f9\" y=\"66.762191\"/>\n",
       "     <use style=\"fill:#dd8452;stroke:#333333;\" x=\"79.089343\" xlink:href=\"#m4852ad09f9\" y=\"59.077757\"/>\n",
       "     <use style=\"fill:#dd8452;stroke:#333333;\" x=\"107.635638\" xlink:href=\"#m4852ad09f9\" y=\"92.015331\"/>\n",
       "     <use style=\"fill:#dd8452;stroke:#333333;\" x=\"76.008974\" xlink:href=\"#m4852ad09f9\" y=\"95.794286\"/>\n",
       "     <use style=\"fill:#dd8452;stroke:#333333;\" x=\"254.983294\" xlink:href=\"#m4852ad09f9\" y=\"202.047891\"/>\n",
       "     <use style=\"fill:#dd8452;stroke:#333333;\" x=\"256.764617\" xlink:href=\"#m4852ad09f9\" y=\"221.639624\"/>\n",
       "     <use style=\"fill:#dd8452;stroke:#333333;\" x=\"98.12148\" xlink:href=\"#m4852ad09f9\" y=\"68.761109\"/>\n",
       "     <use style=\"fill:#dd8452;stroke:#333333;\" x=\"74.298874\" xlink:href=\"#m4852ad09f9\" y=\"59.298428\"/>\n",
       "     <use style=\"fill:#dd8452;stroke:#333333;\" x=\"226.53751\" xlink:href=\"#m4852ad09f9\" y=\"217.316445\"/>\n",
       "     <use style=\"fill:#dd8452;stroke:#333333;\" x=\"91.818608\" xlink:href=\"#m4852ad09f9\" y=\"55.452429\"/>\n",
       "     <use style=\"fill:#dd8452;stroke:#333333;\" x=\"85.221802\" xlink:href=\"#m4852ad09f9\" y=\"79.002646\"/>\n",
       "     <use style=\"fill:#dd8452;stroke:#333333;\" x=\"232.277346\" xlink:href=\"#m4852ad09f9\" y=\"216.993492\"/>\n",
       "     <use style=\"fill:#dd8452;stroke:#333333;\" x=\"223.915334\" xlink:href=\"#m4852ad09f9\" y=\"200.163282\"/>\n",
       "     <use style=\"fill:#dd8452;stroke:#333333;\" x=\"232.202605\" xlink:href=\"#m4852ad09f9\" y=\"206.023161\"/>\n",
       "     <use style=\"fill:#dd8452;stroke:#333333;\" x=\"101.367851\" xlink:href=\"#m4852ad09f9\" y=\"58.115056\"/>\n",
       "     <use style=\"fill:#dd8452;stroke:#333333;\" x=\"88.822361\" xlink:href=\"#m4852ad09f9\" y=\"99.333377\"/>\n",
       "     <use style=\"fill:#dd8452;stroke:#333333;\" x=\"212.410383\" xlink:href=\"#m4852ad09f9\" y=\"184.630853\"/>\n",
       "     <use style=\"fill:#dd8452;stroke:#333333;\" x=\"223.116443\" xlink:href=\"#m4852ad09f9\" y=\"222.207523\"/>\n",
       "     <use style=\"fill:#dd8452;stroke:#333333;\" x=\"93.79446\" xlink:href=\"#m4852ad09f9\" y=\"79.92432\"/>\n",
       "     <use style=\"fill:#dd8452;stroke:#333333;\" x=\"114.191828\" xlink:href=\"#m4852ad09f9\" y=\"61.060124\"/>\n",
       "     <use style=\"fill:#dd8452;stroke:#333333;\" x=\"80.3493\" xlink:href=\"#m4852ad09f9\" y=\"86.950465\"/>\n",
       "     <use style=\"fill:#dd8452;stroke:#333333;\" x=\"246.854303\" xlink:href=\"#m4852ad09f9\" y=\"177.321424\"/>\n",
       "     <use style=\"fill:#dd8452;stroke:#333333;\" x=\"214.055762\" xlink:href=\"#m4852ad09f9\" y=\"195.461505\"/>\n",
       "     <use style=\"fill:#dd8452;stroke:#333333;\" x=\"83.523357\" xlink:href=\"#m4852ad09f9\" y=\"74.883449\"/>\n",
       "     <use style=\"fill:#dd8452;stroke:#333333;\" x=\"225.42962\" xlink:href=\"#m4852ad09f9\" y=\"214.686297\"/>\n",
       "     <use style=\"fill:#dd8452;stroke:#333333;\" x=\"230.416194\" xlink:href=\"#m4852ad09f9\" y=\"215.273334\"/>\n",
       "     <use style=\"fill:#dd8452;stroke:#333333;\" x=\"84.565565\" xlink:href=\"#m4852ad09f9\" y=\"58.14358\"/>\n",
       "     <use style=\"fill:#dd8452;stroke:#333333;\" x=\"69.740819\" xlink:href=\"#m4852ad09f9\" y=\"67.672791\"/>\n",
       "     <use style=\"fill:#dd8452;stroke:#333333;\" x=\"237.451658\" xlink:href=\"#m4852ad09f9\" y=\"215.229589\"/>\n",
       "     <use style=\"fill:#dd8452;stroke:#333333;\" x=\"242.796922\" xlink:href=\"#m4852ad09f9\" y=\"225.43105\"/>\n",
       "     <use style=\"fill:#dd8452;stroke:#333333;\" x=\"224.590978\" xlink:href=\"#m4852ad09f9\" y=\"202.407556\"/>\n",
       "     <use style=\"fill:#dd8452;stroke:#333333;\" x=\"80.563817\" xlink:href=\"#m4852ad09f9\" y=\"73.501568\"/>\n",
       "     <use style=\"fill:#dd8452;stroke:#333333;\" x=\"100.844504\" xlink:href=\"#m4852ad09f9\" y=\"71.056167\"/>\n",
       "     <use style=\"fill:#dd8452;stroke:#333333;\" x=\"235.009028\" xlink:href=\"#m4852ad09f9\" y=\"205.143506\"/>\n",
       "    </g>\n",
       "   </g>\n",
       "   <g id=\"patch_3\">\n",
       "    <path d=\"M 53.389062 239.229375 \n",
       "L 53.389062 21.789375 \n",
       "\" style=\"fill:none;stroke:#ffffff;stroke-linecap:square;stroke-linejoin:miter;stroke-width:1.25;\"/>\n",
       "   </g>\n",
       "   <g id=\"patch_4\">\n",
       "    <path d=\"M 276.589063 239.229375 \n",
       "L 276.589063 21.789375 \n",
       "\" style=\"fill:none;stroke:#ffffff;stroke-linecap:square;stroke-linejoin:miter;stroke-width:1.25;\"/>\n",
       "   </g>\n",
       "   <g id=\"patch_5\">\n",
       "    <path d=\"M 53.389062 239.229375 \n",
       "L 276.589063 239.229375 \n",
       "\" style=\"fill:none;stroke:#ffffff;stroke-linecap:square;stroke-linejoin:miter;stroke-width:1.25;\"/>\n",
       "   </g>\n",
       "   <g id=\"patch_6\">\n",
       "    <path d=\"M 53.389062 21.789375 \n",
       "L 276.589063 21.789375 \n",
       "\" style=\"fill:none;stroke:#ffffff;stroke-linecap:square;stroke-linejoin:miter;stroke-width:1.25;\"/>\n",
       "   </g>\n",
       "   <g id=\"text_14\">\n",
       "    <!-- Dataset samples -->\n",
       "    <g style=\"fill:#262626;\" transform=\"translate(120.305 15.789375)scale(0.12 -0.12)\">\n",
       "     <defs>\n",
       "      <path d=\"M 7.71875 0 \n",
       "L 7.71875 71.578125 \n",
       "L 32.375 71.578125 \n",
       "Q 40.71875 71.578125 45.125 70.5625 \n",
       "Q 51.265625 69.140625 55.609375 65.4375 \n",
       "Q 61.28125 60.640625 64.078125 53.1875 \n",
       "Q 66.890625 45.75 66.890625 36.1875 \n",
       "Q 66.890625 28.03125 64.984375 21.734375 \n",
       "Q 63.09375 15.4375 60.109375 11.296875 \n",
       "Q 57.125 7.171875 53.578125 4.796875 \n",
       "Q 50.046875 2.4375 45.046875 1.21875 \n",
       "Q 40.046875 0 33.546875 0 \n",
       "z\n",
       "M 17.1875 8.453125 \n",
       "L 32.46875 8.453125 \n",
       "Q 39.546875 8.453125 43.578125 9.765625 \n",
       "Q 47.609375 11.078125 50 13.484375 \n",
       "Q 53.375 16.84375 55.25 22.53125 \n",
       "Q 57.125 28.21875 57.125 36.328125 \n",
       "Q 57.125 47.5625 53.4375 53.59375 \n",
       "Q 49.75 59.625 44.484375 61.671875 \n",
       "Q 40.671875 63.140625 32.234375 63.140625 \n",
       "L 17.1875 63.140625 \n",
       "z\n",
       "\" id=\"ArialMT-68\"/>\n",
       "      <path d=\"M 40.4375 6.390625 \n",
       "Q 35.546875 2.25 31.03125 0.53125 \n",
       "Q 26.515625 -1.171875 21.34375 -1.171875 \n",
       "Q 12.796875 -1.171875 8.203125 3 \n",
       "Q 3.609375 7.171875 3.609375 13.671875 \n",
       "Q 3.609375 17.484375 5.34375 20.625 \n",
       "Q 7.078125 23.78125 9.890625 25.6875 \n",
       "Q 12.703125 27.59375 16.21875 28.5625 \n",
       "Q 18.796875 29.25 24.03125 29.890625 \n",
       "Q 34.671875 31.15625 39.703125 32.90625 \n",
       "Q 39.75 34.71875 39.75 35.203125 \n",
       "Q 39.75 40.578125 37.25 42.78125 \n",
       "Q 33.890625 45.75 27.25 45.75 \n",
       "Q 21.046875 45.75 18.09375 43.578125 \n",
       "Q 15.140625 41.40625 13.71875 35.890625 \n",
       "L 5.125 37.0625 \n",
       "Q 6.296875 42.578125 8.984375 45.96875 \n",
       "Q 11.671875 49.359375 16.75 51.1875 \n",
       "Q 21.828125 53.03125 28.515625 53.03125 \n",
       "Q 35.15625 53.03125 39.296875 51.46875 \n",
       "Q 43.453125 49.90625 45.40625 47.53125 \n",
       "Q 47.359375 45.171875 48.140625 41.546875 \n",
       "Q 48.578125 39.3125 48.578125 33.453125 \n",
       "L 48.578125 21.734375 \n",
       "Q 48.578125 9.46875 49.140625 6.21875 \n",
       "Q 49.703125 2.984375 51.375 0 \n",
       "L 42.1875 0 \n",
       "Q 40.828125 2.734375 40.4375 6.390625 \n",
       "z\n",
       "M 39.703125 26.03125 \n",
       "Q 34.90625 24.078125 25.34375 22.703125 \n",
       "Q 19.921875 21.921875 17.671875 20.9375 \n",
       "Q 15.4375 19.96875 14.203125 18.09375 \n",
       "Q 12.984375 16.21875 12.984375 13.921875 \n",
       "Q 12.984375 10.40625 15.640625 8.0625 \n",
       "Q 18.3125 5.71875 23.4375 5.71875 \n",
       "Q 28.515625 5.71875 32.46875 7.9375 \n",
       "Q 36.421875 10.15625 38.28125 14.015625 \n",
       "Q 39.703125 17 39.703125 22.796875 \n",
       "z\n",
       "\" id=\"ArialMT-97\"/>\n",
       "      <path d=\"M 25.78125 7.859375 \n",
       "L 27.046875 0.09375 \n",
       "Q 23.34375 -0.6875 20.40625 -0.6875 \n",
       "Q 15.625 -0.6875 12.984375 0.828125 \n",
       "Q 10.359375 2.34375 9.28125 4.8125 \n",
       "Q 8.203125 7.28125 8.203125 15.1875 \n",
       "L 8.203125 45.015625 \n",
       "L 1.765625 45.015625 \n",
       "L 1.765625 51.859375 \n",
       "L 8.203125 51.859375 \n",
       "L 8.203125 64.703125 \n",
       "L 16.9375 69.96875 \n",
       "L 16.9375 51.859375 \n",
       "L 25.78125 51.859375 \n",
       "L 25.78125 45.015625 \n",
       "L 16.9375 45.015625 \n",
       "L 16.9375 14.703125 \n",
       "Q 16.9375 10.9375 17.40625 9.859375 \n",
       "Q 17.875 8.796875 18.921875 8.15625 \n",
       "Q 19.96875 7.515625 21.921875 7.515625 \n",
       "Q 23.390625 7.515625 25.78125 7.859375 \n",
       "z\n",
       "\" id=\"ArialMT-116\"/>\n",
       "      <path d=\"M 3.078125 15.484375 \n",
       "L 11.765625 16.84375 \n",
       "Q 12.5 11.625 15.84375 8.84375 \n",
       "Q 19.1875 6.0625 25.203125 6.0625 \n",
       "Q 31.25 6.0625 34.171875 8.515625 \n",
       "Q 37.109375 10.984375 37.109375 14.3125 \n",
       "Q 37.109375 17.28125 34.515625 19 \n",
       "Q 32.71875 20.171875 25.53125 21.96875 \n",
       "Q 15.875 24.421875 12.140625 26.203125 \n",
       "Q 8.40625 27.984375 6.46875 31.125 \n",
       "Q 4.546875 34.28125 4.546875 38.09375 \n",
       "Q 4.546875 41.546875 6.125 44.5 \n",
       "Q 7.71875 47.46875 10.453125 49.421875 \n",
       "Q 12.5 50.921875 16.03125 51.96875 \n",
       "Q 19.578125 53.03125 23.640625 53.03125 \n",
       "Q 29.734375 53.03125 34.34375 51.265625 \n",
       "Q 38.96875 49.515625 41.15625 46.5 \n",
       "Q 43.359375 43.5 44.1875 38.484375 \n",
       "L 35.59375 37.3125 \n",
       "Q 35.015625 41.3125 32.203125 43.546875 \n",
       "Q 29.390625 45.796875 24.265625 45.796875 \n",
       "Q 18.21875 45.796875 15.625 43.796875 \n",
       "Q 13.03125 41.796875 13.03125 39.109375 \n",
       "Q 13.03125 37.40625 14.109375 36.03125 \n",
       "Q 15.1875 34.625 17.484375 33.6875 \n",
       "Q 18.796875 33.203125 25.25 31.453125 \n",
       "Q 34.578125 28.953125 38.25 27.359375 \n",
       "Q 41.9375 25.78125 44.03125 22.75 \n",
       "Q 46.140625 19.734375 46.140625 15.234375 \n",
       "Q 46.140625 10.84375 43.578125 6.953125 \n",
       "Q 41.015625 3.078125 36.171875 0.953125 \n",
       "Q 31.34375 -1.171875 25.25 -1.171875 \n",
       "Q 15.140625 -1.171875 9.84375 3.03125 \n",
       "Q 4.546875 7.234375 3.078125 15.484375 \n",
       "z\n",
       "\" id=\"ArialMT-115\"/>\n",
       "      <path d=\"M 42.09375 16.703125 \n",
       "L 51.171875 15.578125 \n",
       "Q 49.03125 7.625 43.21875 3.21875 \n",
       "Q 37.40625 -1.171875 28.375 -1.171875 \n",
       "Q 17 -1.171875 10.328125 5.828125 \n",
       "Q 3.65625 12.84375 3.65625 25.484375 \n",
       "Q 3.65625 38.578125 10.390625 45.796875 \n",
       "Q 17.140625 53.03125 27.875 53.03125 \n",
       "Q 38.28125 53.03125 44.875 45.953125 \n",
       "Q 51.46875 38.875 51.46875 26.03125 \n",
       "Q 51.46875 25.25 51.421875 23.6875 \n",
       "L 12.75 23.6875 \n",
       "Q 13.234375 15.140625 17.578125 10.59375 \n",
       "Q 21.921875 6.0625 28.421875 6.0625 \n",
       "Q 33.25 6.0625 36.671875 8.59375 \n",
       "Q 40.09375 11.140625 42.09375 16.703125 \n",
       "z\n",
       "M 13.234375 30.90625 \n",
       "L 42.1875 30.90625 \n",
       "Q 41.609375 37.453125 38.875 40.71875 \n",
       "Q 34.671875 45.796875 27.984375 45.796875 \n",
       "Q 21.921875 45.796875 17.796875 41.75 \n",
       "Q 13.671875 37.703125 13.234375 30.90625 \n",
       "z\n",
       "\" id=\"ArialMT-101\"/>\n",
       "      <path id=\"ArialMT-32\"/>\n",
       "      <path d=\"M 6.59375 0 \n",
       "L 6.59375 51.859375 \n",
       "L 14.453125 51.859375 \n",
       "L 14.453125 44.578125 \n",
       "Q 16.890625 48.390625 20.9375 50.703125 \n",
       "Q 25 53.03125 30.171875 53.03125 \n",
       "Q 35.9375 53.03125 39.625 50.640625 \n",
       "Q 43.3125 48.25 44.828125 43.953125 \n",
       "Q 50.984375 53.03125 60.84375 53.03125 \n",
       "Q 68.5625 53.03125 72.703125 48.75 \n",
       "Q 76.859375 44.484375 76.859375 35.59375 \n",
       "L 76.859375 0 \n",
       "L 68.109375 0 \n",
       "L 68.109375 32.671875 \n",
       "Q 68.109375 37.9375 67.25 40.25 \n",
       "Q 66.40625 42.578125 64.15625 43.984375 \n",
       "Q 61.921875 45.40625 58.890625 45.40625 \n",
       "Q 53.421875 45.40625 49.796875 41.765625 \n",
       "Q 46.1875 38.140625 46.1875 30.125 \n",
       "L 46.1875 0 \n",
       "L 37.40625 0 \n",
       "L 37.40625 33.6875 \n",
       "Q 37.40625 39.546875 35.25 42.46875 \n",
       "Q 33.109375 45.40625 28.21875 45.40625 \n",
       "Q 24.515625 45.40625 21.359375 43.453125 \n",
       "Q 18.21875 41.5 16.796875 37.734375 \n",
       "Q 15.375 33.984375 15.375 26.90625 \n",
       "L 15.375 0 \n",
       "z\n",
       "\" id=\"ArialMT-109\"/>\n",
       "      <path d=\"M 6.59375 -19.875 \n",
       "L 6.59375 51.859375 \n",
       "L 14.59375 51.859375 \n",
       "L 14.59375 45.125 \n",
       "Q 17.4375 49.078125 21 51.046875 \n",
       "Q 24.5625 53.03125 29.640625 53.03125 \n",
       "Q 36.28125 53.03125 41.359375 49.609375 \n",
       "Q 46.4375 46.1875 49.015625 39.953125 \n",
       "Q 51.609375 33.734375 51.609375 26.3125 \n",
       "Q 51.609375 18.359375 48.75 11.984375 \n",
       "Q 45.90625 5.609375 40.453125 2.21875 \n",
       "Q 35.015625 -1.171875 29 -1.171875 \n",
       "Q 24.609375 -1.171875 21.109375 0.6875 \n",
       "Q 17.625 2.546875 15.375 5.375 \n",
       "L 15.375 -19.875 \n",
       "z\n",
       "M 14.546875 25.640625 \n",
       "Q 14.546875 15.625 18.59375 10.84375 \n",
       "Q 22.65625 6.0625 28.421875 6.0625 \n",
       "Q 34.28125 6.0625 38.453125 11.015625 \n",
       "Q 42.625 15.96875 42.625 26.375 \n",
       "Q 42.625 36.28125 38.546875 41.203125 \n",
       "Q 34.46875 46.140625 28.8125 46.140625 \n",
       "Q 23.1875 46.140625 18.859375 40.890625 \n",
       "Q 14.546875 35.640625 14.546875 25.640625 \n",
       "z\n",
       "\" id=\"ArialMT-112\"/>\n",
       "      <path d=\"M 6.390625 0 \n",
       "L 6.390625 71.578125 \n",
       "L 15.1875 71.578125 \n",
       "L 15.1875 0 \n",
       "z\n",
       "\" id=\"ArialMT-108\"/>\n",
       "     </defs>\n",
       "     <use xlink:href=\"#ArialMT-68\"/>\n",
       "     <use x=\"72.216797\" xlink:href=\"#ArialMT-97\"/>\n",
       "     <use x=\"127.832031\" xlink:href=\"#ArialMT-116\"/>\n",
       "     <use x=\"155.615234\" xlink:href=\"#ArialMT-97\"/>\n",
       "     <use x=\"211.230469\" xlink:href=\"#ArialMT-115\"/>\n",
       "     <use x=\"261.230469\" xlink:href=\"#ArialMT-101\"/>\n",
       "     <use x=\"316.845703\" xlink:href=\"#ArialMT-116\"/>\n",
       "     <use x=\"344.628906\" xlink:href=\"#ArialMT-32\"/>\n",
       "     <use x=\"372.412109\" xlink:href=\"#ArialMT-115\"/>\n",
       "     <use x=\"422.412109\" xlink:href=\"#ArialMT-97\"/>\n",
       "     <use x=\"478.027344\" xlink:href=\"#ArialMT-109\"/>\n",
       "     <use x=\"561.328125\" xlink:href=\"#ArialMT-112\"/>\n",
       "     <use x=\"616.943359\" xlink:href=\"#ArialMT-108\"/>\n",
       "     <use x=\"639.160156\" xlink:href=\"#ArialMT-101\"/>\n",
       "     <use x=\"694.775391\" xlink:href=\"#ArialMT-115\"/>\n",
       "    </g>\n",
       "   </g>\n",
       "   <g id=\"legend_1\">\n",
       "    <g id=\"patch_7\">\n",
       "     <path d=\"M 197.010937 147.719219 \n",
       "L 268.889063 147.719219 \n",
       "Q 271.089063 147.719219 271.089063 145.519219 \n",
       "L 271.089063 115.499531 \n",
       "Q 271.089063 113.299531 268.889063 113.299531 \n",
       "L 197.010937 113.299531 \n",
       "Q 194.810937 113.299531 194.810937 115.499531 \n",
       "L 194.810937 145.519219 \n",
       "Q 194.810937 147.719219 197.010937 147.719219 \n",
       "z\n",
       "\" style=\"fill:#eaeaf2;opacity:0.8;stroke:#cccccc;stroke-linejoin:miter;\"/>\n",
       "    </g>\n",
       "    <g id=\"PathCollection_3\">\n",
       "     <g>\n",
       "      <use style=\"fill:#4c72b0;stroke:#333333;\" x=\"210.210938\" xlink:href=\"#mc2b0d7391d\" y=\"122.685625\"/>\n",
       "     </g>\n",
       "    </g>\n",
       "    <g id=\"text_15\">\n",
       "     <!-- Class 0 -->\n",
       "     <g style=\"fill:#262626;\" transform=\"translate(230.010938 125.573125)scale(0.11 -0.11)\">\n",
       "      <defs>\n",
       "       <path d=\"M 58.796875 25.09375 \n",
       "L 68.265625 22.703125 \n",
       "Q 65.28125 11.03125 57.546875 4.90625 \n",
       "Q 49.8125 -1.21875 38.625 -1.21875 \n",
       "Q 27.046875 -1.21875 19.796875 3.484375 \n",
       "Q 12.546875 8.203125 8.765625 17.140625 \n",
       "Q 4.984375 26.078125 4.984375 36.328125 \n",
       "Q 4.984375 47.515625 9.25 55.828125 \n",
       "Q 13.53125 64.15625 21.40625 68.46875 \n",
       "Q 29.296875 72.796875 38.765625 72.796875 \n",
       "Q 49.515625 72.796875 56.828125 67.328125 \n",
       "Q 64.15625 61.859375 67.046875 51.953125 \n",
       "L 57.71875 49.75 \n",
       "Q 55.21875 57.5625 50.484375 61.125 \n",
       "Q 45.75 64.703125 38.578125 64.703125 \n",
       "Q 30.328125 64.703125 24.78125 60.734375 \n",
       "Q 19.234375 56.78125 16.984375 50.109375 \n",
       "Q 14.75 43.453125 14.75 36.375 \n",
       "Q 14.75 27.25 17.40625 20.4375 \n",
       "Q 20.0625 13.625 25.671875 10.25 \n",
       "Q 31.296875 6.890625 37.84375 6.890625 \n",
       "Q 45.796875 6.890625 51.3125 11.46875 \n",
       "Q 56.84375 16.0625 58.796875 25.09375 \n",
       "z\n",
       "\" id=\"ArialMT-67\"/>\n",
       "      </defs>\n",
       "      <use xlink:href=\"#ArialMT-67\"/>\n",
       "      <use x=\"72.216797\" xlink:href=\"#ArialMT-108\"/>\n",
       "      <use x=\"94.433594\" xlink:href=\"#ArialMT-97\"/>\n",
       "      <use x=\"150.048828\" xlink:href=\"#ArialMT-115\"/>\n",
       "      <use x=\"200.048828\" xlink:href=\"#ArialMT-115\"/>\n",
       "      <use x=\"250.048828\" xlink:href=\"#ArialMT-32\"/>\n",
       "      <use x=\"277.832031\" xlink:href=\"#ArialMT-48\"/>\n",
       "     </g>\n",
       "    </g>\n",
       "    <g id=\"PathCollection_4\">\n",
       "     <g>\n",
       "      <use style=\"fill:#dd8452;stroke:#333333;\" x=\"210.210938\" xlink:href=\"#m4852ad09f9\" y=\"138.245469\"/>\n",
       "     </g>\n",
       "    </g>\n",
       "    <g id=\"text_16\">\n",
       "     <!-- Class 1 -->\n",
       "     <g style=\"fill:#262626;\" transform=\"translate(230.010938 141.132969)scale(0.11 -0.11)\">\n",
       "      <use xlink:href=\"#ArialMT-67\"/>\n",
       "      <use x=\"72.216797\" xlink:href=\"#ArialMT-108\"/>\n",
       "      <use x=\"94.433594\" xlink:href=\"#ArialMT-97\"/>\n",
       "      <use x=\"150.048828\" xlink:href=\"#ArialMT-115\"/>\n",
       "      <use x=\"200.048828\" xlink:href=\"#ArialMT-115\"/>\n",
       "      <use x=\"250.048828\" xlink:href=\"#ArialMT-32\"/>\n",
       "      <use x=\"277.832031\" xlink:href=\"#ArialMT-49\"/>\n",
       "     </g>\n",
       "    </g>\n",
       "   </g>\n",
       "  </g>\n",
       " </g>\n",
       " <defs>\n",
       "  <clipPath id=\"pd34a6e5a8d\">\n",
       "   <rect height=\"217.44\" width=\"223.2\" x=\"53.389062\" y=\"21.789375\"/>\n",
       "  </clipPath>\n",
       " </defs>\n",
       "</svg>\n"
      ],
      "text/plain": [
       "<Figure size 288x288 with 1 Axes>"
      ]
     },
     "metadata": {},
     "output_type": "display_data"
    }
   ],
   "source": [
    "visualize_samples(dataset.data, dataset.label)\n",
    "plt.show()"
   ]
  },
  {
   "cell_type": "markdown",
   "metadata": {},
   "source": [
    "#### The data loader class\n",
    "\n",
    "The class `torch.utils.data.DataLoader` represents a Python iterable over a dataset with support for automatic batching, multi-process data loading and many more features. The data loader communicates with the dataset using the function `__getitem__`, and stacks its outputs as tensors over the first dimension to form a batch.\n",
    "In contrast to the dataset class, we usually don't have to define our own data loader class, but can just create an object of it with the dataset as input. Additionally, we can configure our data loader with the following input arguments (only a selection, see full list [here](https://pytorch.org/docs/stable/data.html#torch.utils.data.DataLoader)):\n",
    "\n",
    "* `batch_size`: Number of samples to stack per batch\n",
    "* `shuffle`: If True, the data is returned in a random order. This is important during training for introducing stochasticity. \n",
    "* `num_workers`: Number of subprocesses to use for data loading. The default, 0, means that the data will be loaded in the main process which can slow down training for datasets where loading a data point takes a considerable amount of time (e.g. large images). More workers are recommended for those, but can cause issues on Windows computers. For tiny datasets as ours, 0 workers are usually faster.\n",
    "* `persistent_workers`: If True, workers will not be shutdown after an iteration over the dataset has finished. This can be useful if the time per epoch is small, or if you face issues with workers being killed during training. \n",
    "* `drop_last`: If True, the last batch is dropped in case it is smaller than the specified batch size. This occurs when the dataset size is not a multiple of the batch size. Only potentially helpful during training to keep a consistent batch size.\n",
    "* `collate_fn`: A function that defines how the elements per batch are combined. By default, PyTorch stacks them as PyTorch tensors. For JAX, we will change it to NumPy arrays.\n",
    "\n",
    "Let's create a simple data loader below with a function that stacks batch elements as NumPy array instead of PyTorch Tensors:"
   ]
  },
  {
   "cell_type": "code",
   "execution_count": 40,
   "metadata": {},
   "outputs": [],
   "source": [
    "# This collate function is taken from the JAX tutorial with PyTorch Data Loading\n",
    "# https://jax.readthedocs.io/en/latest/notebooks/Neural_Network_and_Data_Loading.html\n",
    "def numpy_collate(batch):\n",
    "    if isinstance(batch[0], np.ndarray):\n",
    "        return np.stack(batch)\n",
    "    elif isinstance(batch[0], (tuple,list)):\n",
    "        transposed = zip(*batch)\n",
    "        return [numpy_collate(samples) for samples in transposed]\n",
    "    else:\n",
    "        return np.array(batch)\n",
    "\n",
    "data_loader = data.DataLoader(dataset, batch_size=8, shuffle=True, collate_fn=numpy_collate)"
   ]
  },
  {
   "cell_type": "code",
   "execution_count": 41,
   "metadata": {},
   "outputs": [
    {
     "name": "stdout",
     "output_type": "stream",
     "text": [
      "Data inputs (8, 2) \n",
      " [[ 1.0504987   1.0865755 ]\n",
      " [ 0.02809919 -0.06226995]\n",
      " [ 0.06141667  1.0757508 ]\n",
      " [ 0.08356921 -0.11297069]\n",
      " [ 1.0324166  -0.01301431]\n",
      " [ 1.0024511   0.04979983]\n",
      " [ 0.3078881   0.11195749]\n",
      " [ 1.0371146   0.9396015 ]]\n",
      "Data labels (8,) \n",
      " [0 0 1 0 1 1 0 0]\n"
     ]
    }
   ],
   "source": [
    "# next(iter(...)) catches the first batch of the data loader\n",
    "# If shuffle is True, this will return a different batch every time we run this cell\n",
    "# For iterating over the whole dataset, we can simple use \"for batch in data_loader: ...\"\n",
    "data_inputs, data_labels = next(iter(data_loader))\n",
    "\n",
    "# The shape of the outputs are [batch_size, d_1,...,d_N] where d_1,...,d_N are the \n",
    "# dimensions of the data point returned from the dataset class\n",
    "print(\"Data inputs\", data_inputs.shape, \"\\n\", data_inputs)\n",
    "print(\"Data labels\", data_labels.shape, \"\\n\", data_labels)"
   ]
  },
  {
   "cell_type": "markdown",
   "metadata": {},
   "source": [
    "### Optimization\n",
    "\n",
    "After defining the model and the dataset, it is time to prepare the optimization of the model. During training, we will perform the following steps:\n",
    "\n",
    "1. Get a batch from the data loader\n",
    "2. Obtain the predictions from the model for the batch\n",
    "3. Calculate the loss based on the difference between predictions and labels\n",
    "4. Backpropagation: calculate the gradients for every parameter with respect to the loss\n",
    "5. Update the parameters of the model in the direction of the gradients\n",
    "\n",
    "We have seen how we can do step 1, 2 and 4 in JAX and Flax. Now, we will look at step 3 and 5."
   ]
  },
  {
   "cell_type": "markdown",
   "metadata": {},
   "source": [
    "#### Stochastic Gradient Descent\n",
    "\n",
    "For updating the parameters, Flax does not directly provide support for optimizers, but instead refers to another package called `optax` ([documentation](https://optax.readthedocs.io/en/latest/index.html)). Optax is an optimization library for JAX, which offers most common deep learning optimizers (SGD, Adam, Adagrad, RMSProp, etc.) and utilities (gradient clipping, weight decay, etc.)."
   ]
  },
  {
   "cell_type": "code",
   "execution_count": 42,
   "metadata": {},
   "outputs": [],
   "source": [
    "try:\n",
    "    import optax\n",
    "except ModuleNotFoundError: # Install optax if missing\n",
    "    !pip install --quiet optax\n",
    "    import optax"
   ]
  },
  {
   "cell_type": "markdown",
   "metadata": {},
   "source": [
    "For now, we will use the simplest optimizer, namely `optax.sgd`. Stochastic Gradient Descent updates parameters by multiplying the gradients with a small constant, called learning rate, and subtracting those from the parameters (hence minimizing the loss). Therefore, we slowly move towards the direction of minimizing the loss. A good default value of the learning rate for a small network as ours is 0.1. Remember that we again aim to write functional code. Hence, the optimizer does not take as input the parameters, but only the optimizer hyperparameters."
   ]
  },
  {
   "cell_type": "code",
   "execution_count": 43,
   "metadata": {},
   "outputs": [],
   "source": [
    "# Input to the optimizer are optimizer settings like learning rate\n",
    "optimizer = optax.sgd(learning_rate=0.1)"
   ]
  },
  {
   "cell_type": "markdown",
   "metadata": {},
   "source": [
    "Since JAX calculates gradients via function transformations, we do not have functions like `backward()`, `optimizer.step()` or `optimizer.backward()` as in PyTorch. Instead, a optimizer is a function on the parameters and gradients. To simplify this step and bundle important parts of the training procedure, Flax offers the `flax.training` package. As a first step, we can create a `TrainState` which bundles the parameters, the optimizer, and the forward step of the model:"
   ]
  },
  {
   "cell_type": "code",
   "execution_count": 44,
   "metadata": {},
   "outputs": [],
   "source": [
    "from flax.training import train_state\n",
    "\n",
    "model_state = train_state.TrainState.create(apply_fn=model.apply,\n",
    "                                            params=params,\n",
    "                                            tx=optimizer)"
   ]
  },
  {
   "cell_type": "markdown",
   "metadata": {},
   "source": [
    "With this state object, it is easier to handle the training."
   ]
  },
  {
   "cell_type": "markdown",
   "metadata": {},
   "source": [
    "#### Loss function\n",
    "\n",
    "For performing gradient updates, we need a function that can calculate the loss for a batch. Afterwards, we can apply JAX's gradient transformation to obtain a gradient function of it. In our setting, which is binary classification, we can use Binary Cross Entropy (BCE) which is defined as follows:\n",
    "\n",
    "$$\\mathcal{L}_{BCE} = -\\sum_i \\left[ y_i \\log x_i + (1 - y_i) \\log (1 - x_i) \\right]$$\n",
    "\n",
    "where $y$ are our labels, and $x$ our predictions, both in the range of $[0,1]$. Similar to PyTorch, Optax already provides a function for this: `optax.sigmoid_binary_cross_entropy(logits, labels)`. We calculate the loss on the logits instead of the sigmoid outputs for numerical stability. Let's write a function that takes as input a state (for the forward function), parameters, and a batch, and return the binary cross entropy loss and accuracy: "
   ]
  },
  {
   "cell_type": "code",
   "execution_count": 45,
   "metadata": {},
   "outputs": [],
   "source": [
    "def calculate_loss_acc(state, params, batch):\n",
    "    data_input, labels = batch\n",
    "    # Obtain the logits and predictions of the model for the input data\n",
    "    logits = state.apply_fn(params, data_input).squeeze(axis=-1)\n",
    "    pred_labels = (logits > 0).astype(jnp.float32)\n",
    "    # Calculate the loss and accuracy\n",
    "    loss = optax.sigmoid_binary_cross_entropy(logits, labels).mean()\n",
    "    acc = (pred_labels == labels).mean()\n",
    "    return loss, acc"
   ]
  },
  {
   "cell_type": "markdown",
   "metadata": {},
   "source": [
    "Note that we explicitly add the parameters here as an input argument since we want to calculate the gradients with respect to them later. An example execution of the function would look like:"
   ]
  },
  {
   "cell_type": "code",
   "execution_count": 46,
   "metadata": {},
   "outputs": [
    {
     "data": {
      "text/plain": [
       "(DeviceArray(0.6830494, dtype=float32), DeviceArray(0.625, dtype=float32))"
      ]
     },
     "execution_count": 46,
     "metadata": {},
     "output_type": "execute_result"
    }
   ],
   "source": [
    "batch = next(iter(data_loader))\n",
    "calculate_loss_acc(model_state, model_state.params, batch)"
   ]
  },
  {
   "cell_type": "markdown",
   "metadata": {},
   "source": [
    "### Creating an efficient training and validation step\n",
    "\n",
    "With this loss function and the optimizer, we are now ready to create an efficient training and validation/test step. First, let's consider the training. As input to each training step, we have a training state and a batch. We then want to calculate the loss for the input and take the gradients of it. Finally, we update the parameters with our optimizer and return the new state. All this can be summarized in the following function:"
   ]
  },
  {
   "cell_type": "code",
   "execution_count": 47,
   "metadata": {},
   "outputs": [],
   "source": [
    "@jax.jit  # Jit the function for efficiency\n",
    "def train_step(state, batch):\n",
    "    # Gradient function\n",
    "    grad_fn = jax.value_and_grad(calculate_loss_acc,  # Function to calculate the loss\n",
    "                                 argnums=1,  # Parameters are second argument of the function\n",
    "                                 has_aux=True  # Function has additional outputs, here accuracy\n",
    "                                )\n",
    "    # Determine gradients for current model, parameters and batch\n",
    "    (loss, acc), grads = grad_fn(state, state.params, batch)\n",
    "    # Perform parameter update with gradients and optimizer\n",
    "    state = state.apply_gradients(grads=grads)\n",
    "    # Return state and any other value we might want\n",
    "    return state, loss, acc"
   ]
  },
  {
   "cell_type": "markdown",
   "metadata": {},
   "source": [
    "By using the transformation `jax.jit`, the whole gradient calculation and application is optimized in XLA, providing an efficient function for updating the model.\n",
    "\n",
    "Next, let's look at the evaluation function. Here, we do not need to calculate gradients, but only want to get the accuracy of the model for the batch. This becomes a simpler version of the training step:"
   ]
  },
  {
   "cell_type": "code",
   "execution_count": 48,
   "metadata": {},
   "outputs": [],
   "source": [
    "@jax.jit  # Jit the function for efficiency\n",
    "def eval_step(state, batch):\n",
    "    # Determine the accuracy\n",
    "    _, acc = calculate_loss_acc(state, state.params, batch)\n",
    "    return acc"
   ]
  },
  {
   "cell_type": "markdown",
   "metadata": {},
   "source": [
    "These two functions provide us now efficient utilities to train our model."
   ]
  },
  {
   "cell_type": "markdown",
   "metadata": {},
   "source": [
    "### Training\n",
    "\n",
    "Finally, we are ready to train our model. As a first step, we create a slightly larger dataset and specify a data loader with a larger batch size. "
   ]
  },
  {
   "cell_type": "code",
   "execution_count": 49,
   "metadata": {},
   "outputs": [],
   "source": [
    "train_dataset = XORDataset(size=2500, seed=42)\n",
    "train_data_loader = data.DataLoader(train_dataset, batch_size=128, shuffle=True, collate_fn=numpy_collate)"
   ]
  },
  {
   "cell_type": "markdown",
   "metadata": {},
   "source": [
    "Now, we can write a small training function. In contrast to PyTorch, we do not need to explicitly push our model to GPU, since the parameters are already automatically created on GPU. Further, since the model itself is stateless, we do not have a `train()` or `eval()` function to switch between modes of e.g. dropout. When necessary, we can add an argument `train : bool` to the model forward pass. For this simple network here, however, this is not necessary.\n",
    "\n",
    "Following the PyTorch tutorial, let's write a function here that trains a model for several epochs:"
   ]
  },
  {
   "cell_type": "code",
   "execution_count": 50,
   "metadata": {},
   "outputs": [],
   "source": [
    "def train_model(state, data_loader, num_epochs=100):\n",
    "    # Training loop\n",
    "    for epoch in tqdm(range(num_epochs)):\n",
    "        for batch in data_loader:\n",
    "            state, loss, acc = train_step(state, batch)\n",
    "            # We could use the loss and accuracy for logging here, e.g. in TensorBoard\n",
    "            # For simplicity, we skip this part here\n",
    "    return state"
   ]
  },
  {
   "cell_type": "code",
   "execution_count": 51,
   "metadata": {},
   "outputs": [
    {
     "data": {
      "application/vnd.jupyter.widget-view+json": {
       "model_id": "c9ddb028438c41c48d19fb9f532175b0",
       "version_major": 2,
       "version_minor": 0
      },
      "text/plain": [
       "  0%|          | 0/100 [00:00<?, ?it/s]"
      ]
     },
     "metadata": {},
     "output_type": "display_data"
    }
   ],
   "source": [
    "trained_model_state = train_model(model_state, train_data_loader, num_epochs=100)"
   ]
  },
  {
   "cell_type": "markdown",
   "metadata": {},
   "source": [
    "Training this model for 100 epochs does take barely a second... This shows the impressive speed JAX can reach, especially for small models!"
   ]
  },
  {
   "cell_type": "markdown",
   "metadata": {},
   "source": [
    "#### Saving a model\n",
    "\n",
    "After we finished training a model, we save the model to disk so that we can load the same weights at a later time. In JAX, this means we want to save the `state.params` dictionary. Luckily, the `flax.training` package again provides us with nice utilities for that, which uses TensorFlow as underlying framework."
   ]
  },
  {
   "cell_type": "code",
   "execution_count": 52,
   "metadata": {},
   "outputs": [],
   "source": [
    "from flax.training import checkpoints"
   ]
  },
  {
   "cell_type": "markdown",
   "metadata": {},
   "source": [
    "To save the whole model state, we can write:"
   ]
  },
  {
   "cell_type": "code",
   "execution_count": 53,
   "metadata": {},
   "outputs": [
    {
     "data": {
      "text/plain": [
       "'my_checkpoints/my_model100'"
      ]
     },
     "execution_count": 53,
     "metadata": {},
     "output_type": "execute_result"
    }
   ],
   "source": [
    "checkpoints.save_checkpoint(ckpt_dir='my_checkpoints/',  # Folder to save checkpoint in\n",
    "                            target=trained_model_state,  # What to save. To only save parameters, use model_state.params\n",
    "                            step=100,  # Training step or other metric to save best model on\n",
    "                            prefix='my_model',  # Checkpoint file name prefix\n",
    "                            overwrite=True   # Overwrite existing checkpoint files\n",
    "                           )"
   ]
  },
  {
   "cell_type": "markdown",
   "metadata": {},
   "source": [
    "To load this state dict again, we can use `checkpoints.restore_checkpoint`:"
   ]
  },
  {
   "cell_type": "code",
   "execution_count": 54,
   "metadata": {},
   "outputs": [],
   "source": [
    "loaded_model_state = checkpoints.restore_checkpoint(\n",
    "                                             ckpt_dir='my_checkpoints/',   # Folder with the checkpoints\n",
    "                                             target=model_state,   # (optional) matching object to rebuild state in\n",
    "                                             prefix='my_model'  # Checkpoint file name prefix\n",
    "                                            )"
   ]
  },
  {
   "cell_type": "markdown",
   "metadata": {},
   "source": [
    "The states `loaded_model_state` and `trained_model_state` have the identical parameter values."
   ]
  },
  {
   "cell_type": "markdown",
   "metadata": {},
   "source": [
    "### Evaluation\n",
    "\n",
    "Once we have trained a model, it is time to evaluate it on a held-out test set. As our dataset consist of randomly generated data points, we need to first create a test set with a corresponding data loader."
   ]
  },
  {
   "cell_type": "code",
   "execution_count": 55,
   "metadata": {},
   "outputs": [],
   "source": [
    "test_dataset = XORDataset(size=500, seed=123)\n",
    "# drop_last -> Don't drop the last batch although it is smaller than 128\n",
    "test_data_loader = data.DataLoader(test_dataset, \n",
    "                                   batch_size=128, \n",
    "                                   shuffle=False, \n",
    "                                   drop_last=False, \n",
    "                                   collate_fn=numpy_collate) "
   ]
  },
  {
   "cell_type": "markdown",
   "metadata": {},
   "source": [
    "We can use our `eval_step` function to efficiently evaluate our model:"
   ]
  },
  {
   "cell_type": "code",
   "execution_count": 56,
   "metadata": {},
   "outputs": [],
   "source": [
    "def eval_model(state, data_loader):\n",
    "    all_accs, batch_sizes = [], []\n",
    "    for batch in data_loader:\n",
    "        batch_acc = eval_step(state, batch)\n",
    "        all_accs.append(batch_acc)\n",
    "        batch_sizes.append(batch[0].shape[0])\n",
    "    # Weighted average since some batches might be smaller\n",
    "    acc = sum([a*b for a,b in zip(all_accs, batch_sizes)]) / sum(batch_sizes)\n",
    "    print(f\"Accuracy of the model: {100.0*acc:4.2f}%\")"
   ]
  },
  {
   "cell_type": "code",
   "execution_count": 57,
   "metadata": {},
   "outputs": [
    {
     "name": "stdout",
     "output_type": "stream",
     "text": [
      "Accuracy of the model: 100.00%\n"
     ]
    }
   ],
   "source": [
    "eval_model(trained_model_state, test_data_loader)"
   ]
  },
  {
   "cell_type": "markdown",
   "metadata": {},
   "source": [
    "If we trained our model correctly, we should see a score close to 100% accuracy. However, this is only possible because of our simple task, and unfortunately, we usually don't get such high scores on test sets of more complex tasks."
   ]
  },
  {
   "cell_type": "markdown",
   "metadata": {},
   "source": [
    "#### Binding model parameters\n",
    "\n",
    "Once we have trained the model, we might want to do multiple application of the same model and parameters. It can get a bit annoying to always write `model.apply(params, ...)` and keep track of the model and parameters separately. To prevent this, Flax's module can be bound to specific parameters to simplify our application. Specifically, we can bind the instance `model` of our `SimpleClassifier` class to our trained parameter as follows:"
   ]
  },
  {
   "cell_type": "code",
   "execution_count": 58,
   "metadata": {},
   "outputs": [],
   "source": [
    "trained_model = model.bind(trained_model_state.params)"
   ]
  },
  {
   "cell_type": "markdown",
   "metadata": {},
   "source": [
    "With the model being binded to the parameters, we can use it as we would any PyTorch module. For instance, to apply it to an input array, we can simply run:"
   ]
  },
  {
   "cell_type": "code",
   "execution_count": 59,
   "metadata": {},
   "outputs": [
    {
     "data": {
      "text/plain": [
       "(8, 1)"
      ]
     },
     "execution_count": 59,
     "metadata": {},
     "output_type": "execute_result"
    }
   ],
   "source": [
    "data_input, labels = next(iter(data_loader))\n",
    "out = trained_model(data_input)  # No explicit parameter passing necessary anymore\n",
    "out.shape"
   ]
  },
  {
   "cell_type": "markdown",
   "metadata": {},
   "source": [
    "This can simplify the analysis of models, and provide a more familiar interface to PyTorch users."
   ]
  },
  {
   "cell_type": "markdown",
   "metadata": {},
   "source": [
    "#### Visualizing classification boundaries\n",
    "\n",
    "To visualize what our model has learned, we can perform a prediction for every data point in a range of $[-0.5, 1.5]$, and visualize the predicted class as in the sample figure at the beginning of this section. This shows where the model has created decision boundaries, and which points would be classified as $0$, and which as $1$. We therefore get a background image out of blue (class 0) and orange (class 1). The spots where the model is uncertain we will see a blurry overlap. The specific code is less relevant compared to the output figure which should hopefully show us a clear separation of classes:"
   ]
  },
  {
   "cell_type": "code",
   "execution_count": 60,
   "metadata": {
    "scrolled": false
   },
   "outputs": [
    {
     "data": {
      "application/pdf": "[encoded data removed]",
      "image/svg+xml": [
       "<?xml version=\"1.0\" encoding=\"utf-8\" standalone=\"no\"?>\n",
       "<!DOCTYPE svg PUBLIC \"-//W3C//DTD SVG 1.1//EN\"\n",
       "  \"http://www.w3.org/Graphics/SVG/1.1/DTD/svg11.dtd\">\n",
       "<!-- Created with matplotlib (https://matplotlib.org/) -->\n",
       "<svg height=\"280.963594pt\" version=\"1.1\" viewBox=\"0 0 291.791094 280.963594\" width=\"291.791094pt\" xmlns=\"http://www.w3.org/2000/svg\" xmlns:xlink=\"http://www.w3.org/1999/xlink\">\n",
       " <metadata>\n",
       "  <rdf:RDF xmlns:cc=\"http://creativecommons.org/ns#\" xmlns:dc=\"http://purl.org/dc/elements/1.1/\" xmlns:rdf=\"http://www.w3.org/1999/02/22-rdf-syntax-ns#\">\n",
       "   <cc:Work>\n",
       "    <dc:type rdf:resource=\"http://purl.org/dc/dcmitype/StillImage\"/>\n",
       "    <dc:date>2022-06-08T21:13:40.515338</dc:date>\n",
       "    <dc:format>image/svg+xml</dc:format>\n",
       "    <dc:creator>\n",
       "     <cc:Agent>\n",
       "      <dc:title>Matplotlib v3.3.2, https://matplotlib.org/</dc:title>\n",
       "     </cc:Agent>\n",
       "    </dc:creator>\n",
       "   </cc:Work>\n",
       "  </rdf:RDF>\n",
       " </metadata>\n",
       " <defs>\n",
       "  <style type=\"text/css\">*{stroke-linecap:butt;stroke-linejoin:round;}</style>\n",
       " </defs>\n",
       " <g id=\"figure_1\">\n",
       "  <g id=\"patch_1\">\n",
       "   <path d=\"M 0 280.963594 \n",
       "L 291.791094 280.963594 \n",
       "L 291.791094 0 \n",
       "L 0 0 \n",
       "z\n",
       "\" style=\"fill:#ffffff;\"/>\n",
       "  </g>\n",
       "  <g id=\"axes_1\">\n",
       "   <g id=\"patch_2\">\n",
       "    <path d=\"M 59.506094 239.229375 \n",
       "L 276.946094 239.229375 \n",
       "L 276.946094 21.789375 \n",
       "L 59.506094 21.789375 \n",
       "z\n",
       "\" style=\"fill:#eaeaf2;\"/>\n",
       "   </g>\n",
       "   <g clip-path=\"url(#p0ec0c38424)\">\n",
       "    <image height=\"217.584\" id=\"image1bf0c5c938\" transform=\"scale(1 -1)translate(0 -217.584)\" width=\"217.44\" x=\"59.506094\" xlink:href=\"data:image/png;base64,\n",
       "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\" y=\"-21.645375\"/>\n",
       "   </g>\n",
       "   <g id=\"matplotlib.axis_1\">\n",
       "    <g id=\"xtick_1\">\n",
       "     <g id=\"text_1\">\n",
       "      <!-- −0.5 -->\n",
       "      <g style=\"fill:#262626;\" transform=\"translate(48.64875 256.602969)scale(0.11 -0.11)\">\n",
       "       <defs>\n",
       "        <path d=\"M 52.828125 31.203125 \n",
       "L 5.5625 31.203125 \n",
       "L 5.5625 39.40625 \n",
       "L 52.828125 39.40625 \n",
       "z\n",
       "\" id=\"ArialMT-8722\"/>\n",
       "        <path d=\"M 4.15625 35.296875 \n",
       "Q 4.15625 48 6.765625 55.734375 \n",
       "Q 9.375 63.484375 14.515625 67.671875 \n",
       "Q 19.671875 71.875 27.484375 71.875 \n",
       "Q 33.25 71.875 37.59375 69.546875 \n",
       "Q 41.9375 67.234375 44.765625 62.859375 \n",
       "Q 47.609375 58.5 49.21875 52.21875 \n",
       "Q 50.828125 45.953125 50.828125 35.296875 \n",
       "Q 50.828125 22.703125 48.234375 14.96875 \n",
       "Q 45.65625 7.234375 40.5 3 \n",
       "Q 35.359375 -1.21875 27.484375 -1.21875 \n",
       "Q 17.140625 -1.21875 11.234375 6.203125 \n",
       "Q 4.15625 15.140625 4.15625 35.296875 \n",
       "z\n",
       "M 13.1875 35.296875 \n",
       "Q 13.1875 17.671875 17.3125 11.828125 \n",
       "Q 21.4375 6 27.484375 6 \n",
       "Q 33.546875 6 37.671875 11.859375 \n",
       "Q 41.796875 17.71875 41.796875 35.296875 \n",
       "Q 41.796875 52.984375 37.671875 58.78125 \n",
       "Q 33.546875 64.59375 27.390625 64.59375 \n",
       "Q 21.34375 64.59375 17.71875 59.46875 \n",
       "Q 13.1875 52.9375 13.1875 35.296875 \n",
       "z\n",
       "\" id=\"ArialMT-48\"/>\n",
       "        <path d=\"M 9.078125 0 \n",
       "L 9.078125 10.015625 \n",
       "L 19.09375 10.015625 \n",
       "L 19.09375 0 \n",
       "z\n",
       "\" id=\"ArialMT-46\"/>\n",
       "        <path d=\"M 4.15625 18.75 \n",
       "L 13.375 19.53125 \n",
       "Q 14.40625 12.796875 18.140625 9.390625 \n",
       "Q 21.875 6 27.15625 6 \n",
       "Q 33.5 6 37.890625 10.78125 \n",
       "Q 42.28125 15.578125 42.28125 23.484375 \n",
       "Q 42.28125 31 38.0625 35.34375 \n",
       "Q 33.84375 39.703125 27 39.703125 \n",
       "Q 22.75 39.703125 19.328125 37.765625 \n",
       "Q 15.921875 35.84375 13.96875 32.765625 \n",
       "L 5.71875 33.84375 \n",
       "L 12.640625 70.609375 \n",
       "L 48.25 70.609375 \n",
       "L 48.25 62.203125 \n",
       "L 19.671875 62.203125 \n",
       "L 15.828125 42.96875 \n",
       "Q 22.265625 47.46875 29.34375 47.46875 \n",
       "Q 38.71875 47.46875 45.15625 40.96875 \n",
       "Q 51.609375 34.46875 51.609375 24.265625 \n",
       "Q 51.609375 14.546875 45.953125 7.46875 \n",
       "Q 39.0625 -1.21875 27.15625 -1.21875 \n",
       "Q 17.390625 -1.21875 11.203125 4.25 \n",
       "Q 5.03125 9.71875 4.15625 18.75 \n",
       "z\n",
       "\" id=\"ArialMT-53\"/>\n",
       "       </defs>\n",
       "       <use xlink:href=\"#ArialMT-8722\"/>\n",
       "       <use x=\"58.398438\" xlink:href=\"#ArialMT-48\"/>\n",
       "       <use x=\"114.013672\" xlink:href=\"#ArialMT-46\"/>\n",
       "       <use x=\"141.796875\" xlink:href=\"#ArialMT-53\"/>\n",
       "      </g>\n",
       "     </g>\n",
       "    </g>\n",
       "    <g id=\"xtick_2\">\n",
       "     <g id=\"text_2\">\n",
       "      <!-- 0.0 -->\n",
       "      <g style=\"fill:#262626;\" transform=\"translate(106.221094 256.602969)scale(0.11 -0.11)\">\n",
       "       <use xlink:href=\"#ArialMT-48\"/>\n",
       "       <use x=\"55.615234\" xlink:href=\"#ArialMT-46\"/>\n",
       "       <use x=\"83.398438\" xlink:href=\"#ArialMT-48\"/>\n",
       "      </g>\n",
       "     </g>\n",
       "    </g>\n",
       "    <g id=\"xtick_3\">\n",
       "     <g id=\"text_3\">\n",
       "      <!-- 0.5 -->\n",
       "      <g style=\"fill:#262626;\" transform=\"translate(160.581094 256.602969)scale(0.11 -0.11)\">\n",
       "       <use xlink:href=\"#ArialMT-48\"/>\n",
       "       <use x=\"55.615234\" xlink:href=\"#ArialMT-46\"/>\n",
       "       <use x=\"83.398438\" xlink:href=\"#ArialMT-53\"/>\n",
       "      </g>\n",
       "     </g>\n",
       "    </g>\n",
       "    <g id=\"xtick_4\">\n",
       "     <g id=\"text_4\">\n",
       "      <!-- 1.0 -->\n",
       "      <g style=\"fill:#262626;\" transform=\"translate(214.941094 256.602969)scale(0.11 -0.11)\">\n",
       "       <defs>\n",
       "        <path d=\"M 37.25 0 \n",
       "L 28.46875 0 \n",
       "L 28.46875 56 \n",
       "Q 25.296875 52.984375 20.140625 49.953125 \n",
       "Q 14.984375 46.921875 10.890625 45.40625 \n",
       "L 10.890625 53.90625 \n",
       "Q 18.265625 57.375 23.78125 62.296875 \n",
       "Q 29.296875 67.234375 31.59375 71.875 \n",
       "L 37.25 71.875 \n",
       "z\n",
       "\" id=\"ArialMT-49\"/>\n",
       "       </defs>\n",
       "       <use xlink:href=\"#ArialMT-49\"/>\n",
       "       <use x=\"55.615234\" xlink:href=\"#ArialMT-46\"/>\n",
       "       <use x=\"83.398438\" xlink:href=\"#ArialMT-48\"/>\n",
       "      </g>\n",
       "     </g>\n",
       "    </g>\n",
       "    <g id=\"xtick_5\">\n",
       "     <g id=\"text_5\">\n",
       "      <!-- 1.5 -->\n",
       "      <g style=\"fill:#262626;\" transform=\"translate(269.301094 256.602969)scale(0.11 -0.11)\">\n",
       "       <use xlink:href=\"#ArialMT-49\"/>\n",
       "       <use x=\"55.615234\" xlink:href=\"#ArialMT-46\"/>\n",
       "       <use x=\"83.398438\" xlink:href=\"#ArialMT-53\"/>\n",
       "      </g>\n",
       "     </g>\n",
       "    </g>\n",
       "    <g id=\"text_6\">\n",
       "     <!-- $x_1$ -->\n",
       "     <g style=\"fill:#262626;\" transform=\"translate(161.806094 271.378594)scale(0.12 -0.12)\">\n",
       "      <defs>\n",
       "       <path d=\"M 60.015625 54.6875 \n",
       "L 34.90625 27.875 \n",
       "L 50.296875 0 \n",
       "L 39.984375 0 \n",
       "L 28.421875 21.6875 \n",
       "L 8.296875 0 \n",
       "L -2.59375 0 \n",
       "L 24.3125 28.8125 \n",
       "L 10.015625 54.6875 \n",
       "L 20.3125 54.6875 \n",
       "L 30.8125 34.90625 \n",
       "L 49.125 54.6875 \n",
       "z\n",
       "\" id=\"DejaVuSans-Oblique-120\"/>\n",
       "       <path d=\"M 12.40625 8.296875 \n",
       "L 28.515625 8.296875 \n",
       "L 28.515625 63.921875 \n",
       "L 10.984375 60.40625 \n",
       "L 10.984375 69.390625 \n",
       "L 28.421875 72.90625 \n",
       "L 38.28125 72.90625 \n",
       "L 38.28125 8.296875 \n",
       "L 54.390625 8.296875 \n",
       "L 54.390625 0 \n",
       "L 12.40625 0 \n",
       "z\n",
       "\" id=\"DejaVuSans-49\"/>\n",
       "      </defs>\n",
       "      <use transform=\"translate(0 0.3125)\" xlink:href=\"#DejaVuSans-Oblique-120\"/>\n",
       "      <use transform=\"translate(59.179688 -16.09375)scale(0.7)\" xlink:href=\"#DejaVuSans-49\"/>\n",
       "     </g>\n",
       "    </g>\n",
       "   </g>\n",
       "   <g id=\"matplotlib.axis_2\">\n",
       "    <g id=\"ytick_1\">\n",
       "     <g id=\"text_7\">\n",
       "      <!-- −0.50 -->\n",
       "      <g style=\"fill:#262626;\" transform=\"translate(22.174375 243.166172)scale(0.11 -0.11)\">\n",
       "       <use xlink:href=\"#ArialMT-8722\"/>\n",
       "       <use x=\"58.398438\" xlink:href=\"#ArialMT-48\"/>\n",
       "       <use x=\"114.013672\" xlink:href=\"#ArialMT-46\"/>\n",
       "       <use x=\"141.796875\" xlink:href=\"#ArialMT-53\"/>\n",
       "       <use x=\"197.412109\" xlink:href=\"#ArialMT-48\"/>\n",
       "      </g>\n",
       "     </g>\n",
       "    </g>\n",
       "    <g id=\"ytick_2\">\n",
       "     <g id=\"text_8\">\n",
       "      <!-- −0.25 -->\n",
       "      <g style=\"fill:#262626;\" transform=\"translate(22.174375 215.986172)scale(0.11 -0.11)\">\n",
       "       <defs>\n",
       "        <path d=\"M 50.34375 8.453125 \n",
       "L 50.34375 0 \n",
       "L 3.03125 0 \n",
       "Q 2.9375 3.171875 4.046875 6.109375 \n",
       "Q 5.859375 10.9375 9.828125 15.625 \n",
       "Q 13.8125 20.3125 21.34375 26.46875 \n",
       "Q 33.015625 36.03125 37.109375 41.625 \n",
       "Q 41.21875 47.21875 41.21875 52.203125 \n",
       "Q 41.21875 57.421875 37.46875 61 \n",
       "Q 33.734375 64.59375 27.734375 64.59375 \n",
       "Q 21.390625 64.59375 17.578125 60.78125 \n",
       "Q 13.765625 56.984375 13.71875 50.25 \n",
       "L 4.6875 51.171875 \n",
       "Q 5.609375 61.28125 11.65625 66.578125 \n",
       "Q 17.71875 71.875 27.9375 71.875 \n",
       "Q 38.234375 71.875 44.234375 66.15625 \n",
       "Q 50.25 60.453125 50.25 52 \n",
       "Q 50.25 47.703125 48.484375 43.546875 \n",
       "Q 46.734375 39.40625 42.65625 34.8125 \n",
       "Q 38.578125 30.21875 29.109375 22.21875 \n",
       "Q 21.1875 15.578125 18.9375 13.203125 \n",
       "Q 16.703125 10.84375 15.234375 8.453125 \n",
       "z\n",
       "\" id=\"ArialMT-50\"/>\n",
       "       </defs>\n",
       "       <use xlink:href=\"#ArialMT-8722\"/>\n",
       "       <use x=\"58.398438\" xlink:href=\"#ArialMT-48\"/>\n",
       "       <use x=\"114.013672\" xlink:href=\"#ArialMT-46\"/>\n",
       "       <use x=\"141.796875\" xlink:href=\"#ArialMT-50\"/>\n",
       "       <use x=\"197.412109\" xlink:href=\"#ArialMT-53\"/>\n",
       "      </g>\n",
       "     </g>\n",
       "    </g>\n",
       "    <g id=\"ytick_3\">\n",
       "     <g id=\"text_9\">\n",
       "      <!-- 0.00 -->\n",
       "      <g style=\"fill:#262626;\" transform=\"translate(28.599062 188.806172)scale(0.11 -0.11)\">\n",
       "       <use xlink:href=\"#ArialMT-48\"/>\n",
       "       <use x=\"55.615234\" xlink:href=\"#ArialMT-46\"/>\n",
       "       <use x=\"83.398438\" xlink:href=\"#ArialMT-48\"/>\n",
       "       <use x=\"139.013672\" xlink:href=\"#ArialMT-48\"/>\n",
       "      </g>\n",
       "     </g>\n",
       "    </g>\n",
       "    <g id=\"ytick_4\">\n",
       "     <g id=\"text_10\">\n",
       "      <!-- 0.25 -->\n",
       "      <g style=\"fill:#262626;\" transform=\"translate(28.599062 161.626172)scale(0.11 -0.11)\">\n",
       "       <use xlink:href=\"#ArialMT-48\"/>\n",
       "       <use x=\"55.615234\" xlink:href=\"#ArialMT-46\"/>\n",
       "       <use x=\"83.398438\" xlink:href=\"#ArialMT-50\"/>\n",
       "       <use x=\"139.013672\" xlink:href=\"#ArialMT-53\"/>\n",
       "      </g>\n",
       "     </g>\n",
       "    </g>\n",
       "    <g id=\"ytick_5\">\n",
       "     <g id=\"text_11\">\n",
       "      <!-- 0.50 -->\n",
       "      <g style=\"fill:#262626;\" transform=\"translate(28.599062 134.446172)scale(0.11 -0.11)\">\n",
       "       <use xlink:href=\"#ArialMT-48\"/>\n",
       "       <use x=\"55.615234\" xlink:href=\"#ArialMT-46\"/>\n",
       "       <use x=\"83.398438\" xlink:href=\"#ArialMT-53\"/>\n",
       "       <use x=\"139.013672\" xlink:href=\"#ArialMT-48\"/>\n",
       "      </g>\n",
       "     </g>\n",
       "    </g>\n",
       "    <g id=\"ytick_6\">\n",
       "     <g id=\"text_12\">\n",
       "      <!-- 0.75 -->\n",
       "      <g style=\"fill:#262626;\" transform=\"translate(28.599062 107.266172)scale(0.11 -0.11)\">\n",
       "       <defs>\n",
       "        <path d=\"M 4.734375 62.203125 \n",
       "L 4.734375 70.65625 \n",
       "L 51.078125 70.65625 \n",
       "L 51.078125 63.8125 \n",
       "Q 44.234375 56.546875 37.515625 44.484375 \n",
       "Q 30.8125 32.421875 27.15625 19.671875 \n",
       "Q 24.515625 10.6875 23.78125 0 \n",
       "L 14.75 0 \n",
       "Q 14.890625 8.453125 18.0625 20.40625 \n",
       "Q 21.234375 32.375 27.171875 43.484375 \n",
       "Q 33.109375 54.59375 39.796875 62.203125 \n",
       "z\n",
       "\" id=\"ArialMT-55\"/>\n",
       "       </defs>\n",
       "       <use xlink:href=\"#ArialMT-48\"/>\n",
       "       <use x=\"55.615234\" xlink:href=\"#ArialMT-46\"/>\n",
       "       <use x=\"83.398438\" xlink:href=\"#ArialMT-55\"/>\n",
       "       <use x=\"139.013672\" xlink:href=\"#ArialMT-53\"/>\n",
       "      </g>\n",
       "     </g>\n",
       "    </g>\n",
       "    <g id=\"ytick_7\">\n",
       "     <g id=\"text_13\">\n",
       "      <!-- 1.00 -->\n",
       "      <g style=\"fill:#262626;\" transform=\"translate(28.599062 80.086172)scale(0.11 -0.11)\">\n",
       "       <use xlink:href=\"#ArialMT-49\"/>\n",
       "       <use x=\"55.615234\" xlink:href=\"#ArialMT-46\"/>\n",
       "       <use x=\"83.398438\" xlink:href=\"#ArialMT-48\"/>\n",
       "       <use x=\"139.013672\" xlink:href=\"#ArialMT-48\"/>\n",
       "      </g>\n",
       "     </g>\n",
       "    </g>\n",
       "    <g id=\"ytick_8\">\n",
       "     <g id=\"text_14\">\n",
       "      <!-- 1.25 -->\n",
       "      <g style=\"fill:#262626;\" transform=\"translate(28.599062 52.906172)scale(0.11 -0.11)\">\n",
       "       <use xlink:href=\"#ArialMT-49\"/>\n",
       "       <use x=\"55.615234\" xlink:href=\"#ArialMT-46\"/>\n",
       "       <use x=\"83.398438\" xlink:href=\"#ArialMT-50\"/>\n",
       "       <use x=\"139.013672\" xlink:href=\"#ArialMT-53\"/>\n",
       "      </g>\n",
       "     </g>\n",
       "    </g>\n",
       "    <g id=\"ytick_9\">\n",
       "     <g id=\"text_15\">\n",
       "      <!-- 1.50 -->\n",
       "      <g style=\"fill:#262626;\" transform=\"translate(28.599062 25.726172)scale(0.11 -0.11)\">\n",
       "       <use xlink:href=\"#ArialMT-49\"/>\n",
       "       <use x=\"55.615234\" xlink:href=\"#ArialMT-46\"/>\n",
       "       <use x=\"83.398438\" xlink:href=\"#ArialMT-53\"/>\n",
       "       <use x=\"139.013672\" xlink:href=\"#ArialMT-48\"/>\n",
       "      </g>\n",
       "     </g>\n",
       "    </g>\n",
       "    <g id=\"text_16\">\n",
       "     <!-- $x_2$ -->\n",
       "     <g style=\"fill:#262626;\" transform=\"translate(15.789375 136.929375)rotate(-90)scale(0.12 -0.12)\">\n",
       "      <defs>\n",
       "       <path d=\"M 19.1875 8.296875 \n",
       "L 53.609375 8.296875 \n",
       "L 53.609375 0 \n",
       "L 7.328125 0 \n",
       "L 7.328125 8.296875 \n",
       "Q 12.9375 14.109375 22.625 23.890625 \n",
       "Q 32.328125 33.6875 34.8125 36.53125 \n",
       "Q 39.546875 41.84375 41.421875 45.53125 \n",
       "Q 43.3125 49.21875 43.3125 52.78125 \n",
       "Q 43.3125 58.59375 39.234375 62.25 \n",
       "Q 35.15625 65.921875 28.609375 65.921875 \n",
       "Q 23.96875 65.921875 18.8125 64.3125 \n",
       "Q 13.671875 62.703125 7.8125 59.421875 \n",
       "L 7.8125 69.390625 \n",
       "Q 13.765625 71.78125 18.9375 73 \n",
       "Q 24.125 74.21875 28.421875 74.21875 \n",
       "Q 39.75 74.21875 46.484375 68.546875 \n",
       "Q 53.21875 62.890625 53.21875 53.421875 \n",
       "Q 53.21875 48.921875 51.53125 44.890625 \n",
       "Q 49.859375 40.875 45.40625 35.40625 \n",
       "Q 44.1875 33.984375 37.640625 27.21875 \n",
       "Q 31.109375 20.453125 19.1875 8.296875 \n",
       "z\n",
       "\" id=\"DejaVuSans-50\"/>\n",
       "      </defs>\n",
       "      <use transform=\"translate(0 0.3125)\" xlink:href=\"#DejaVuSans-Oblique-120\"/>\n",
       "      <use transform=\"translate(59.179688 -16.09375)scale(0.7)\" xlink:href=\"#DejaVuSans-50\"/>\n",
       "     </g>\n",
       "    </g>\n",
       "   </g>\n",
       "   <g id=\"PathCollection_1\">\n",
       "    <defs>\n",
       "     <path d=\"M 0 3 \n",
       "C 0.795609 3 1.55874 2.683901 2.12132 2.12132 \n",
       "C 2.683901 1.55874 3 0.795609 3 0 \n",
       "C 3 -0.795609 2.683901 -1.55874 2.12132 -2.12132 \n",
       "C 1.55874 -2.683901 0.795609 -3 0 -3 \n",
       "C -0.795609 -3 -1.55874 -2.683901 -2.12132 -2.12132 \n",
       "C -2.683901 -1.55874 -3 -0.795609 -3 0 \n",
       "C -3 0.795609 -2.683901 1.55874 -2.12132 2.12132 \n",
       "C -1.55874 2.683901 -0.795609 3 0 3 \n",
       "z\n",
       "\" id=\"m2f78a510a6\" style=\"stroke:#333333;\"/>\n",
       "    </defs>\n",
       "    <g clip-path=\"url(#p0ec0c38424)\">\n",
       "     <use style=\"fill:#4c72b0;stroke:#333333;\" x=\"117.052378\" xlink:href=\"#m2f78a510a6\" y=\"192.635803\"/>\n",
       "     <use style=\"fill:#4c72b0;stroke:#333333;\" x=\"100.914242\" xlink:href=\"#m2f78a510a6\" y=\"177.731324\"/>\n",
       "     <use style=\"fill:#4c72b0;stroke:#333333;\" x=\"126.462345\" xlink:href=\"#m2f78a510a6\" y=\"193.791833\"/>\n",
       "     <use style=\"fill:#4c72b0;stroke:#333333;\" x=\"124.339919\" xlink:href=\"#m2f78a510a6\" y=\"180.381621\"/>\n",
       "     <use style=\"fill:#4c72b0;stroke:#333333;\" x=\"219.918234\" xlink:href=\"#m2f78a510a6\" y=\"84.343992\"/>\n",
       "     <use style=\"fill:#4c72b0;stroke:#333333;\" x=\"225.594275\" xlink:href=\"#m2f78a510a6\" y=\"67.156234\"/>\n",
       "     <use style=\"fill:#4c72b0;stroke:#333333;\" x=\"222.727453\" xlink:href=\"#m2f78a510a6\" y=\"60.346549\"/>\n",
       "     <use style=\"fill:#4c72b0;stroke:#333333;\" x=\"219.708748\" xlink:href=\"#m2f78a510a6\" y=\"46.575699\"/>\n",
       "     <use style=\"fill:#4c72b0;stroke:#333333;\" x=\"229.388352\" xlink:href=\"#m2f78a510a6\" y=\"85.468394\"/>\n",
       "     <use style=\"fill:#4c72b0;stroke:#333333;\" x=\"102.22335\" xlink:href=\"#m2f78a510a6\" y=\"179.623935\"/>\n",
       "     <use style=\"fill:#4c72b0;stroke:#333333;\" x=\"220.156609\" xlink:href=\"#m2f78a510a6\" y=\"68.386762\"/>\n",
       "     <use style=\"fill:#4c72b0;stroke:#333333;\" x=\"109.011583\" xlink:href=\"#m2f78a510a6\" y=\"175.558607\"/>\n",
       "     <use style=\"fill:#4c72b0;stroke:#333333;\" x=\"116.193721\" xlink:href=\"#m2f78a510a6\" y=\"198.413047\"/>\n",
       "     <use style=\"fill:#4c72b0;stroke:#333333;\" x=\"224.468921\" xlink:href=\"#m2f78a510a6\" y=\"71.9602\"/>\n",
       "     <use style=\"fill:#4c72b0;stroke:#333333;\" x=\"212.976794\" xlink:href=\"#m2f78a510a6\" y=\"74.478075\"/>\n",
       "     <use style=\"fill:#4c72b0;stroke:#333333;\" x=\"226.475961\" xlink:href=\"#m2f78a510a6\" y=\"70.052528\"/>\n",
       "     <use style=\"fill:#4c72b0;stroke:#333333;\" x=\"120.072815\" xlink:href=\"#m2f78a510a6\" y=\"172.523505\"/>\n",
       "     <use style=\"fill:#4c72b0;stroke:#333333;\" x=\"124.238001\" xlink:href=\"#m2f78a510a6\" y=\"177.78745\"/>\n",
       "     <use style=\"fill:#4c72b0;stroke:#333333;\" x=\"110.438487\" xlink:href=\"#m2f78a510a6\" y=\"176.617862\"/>\n",
       "     <use style=\"fill:#4c72b0;stroke:#333333;\" x=\"247.751057\" xlink:href=\"#m2f78a510a6\" y=\"96.450281\"/>\n",
       "     <use style=\"fill:#4c72b0;stroke:#333333;\" x=\"230.047117\" xlink:href=\"#m2f78a510a6\" y=\"93.68282\"/>\n",
       "     <use style=\"fill:#4c72b0;stroke:#333333;\" x=\"214.809315\" xlink:href=\"#m2f78a510a6\" y=\"68.760787\"/>\n",
       "     <use style=\"fill:#4c72b0;stroke:#333333;\" x=\"91.848743\" xlink:href=\"#m2f78a510a6\" y=\"182.842244\"/>\n",
       "     <use style=\"fill:#4c72b0;stroke:#333333;\" x=\"213.969809\" xlink:href=\"#m2f78a510a6\" y=\"77.396791\"/>\n",
       "     <use style=\"fill:#4c72b0;stroke:#333333;\" x=\"228.076315\" xlink:href=\"#m2f78a510a6\" y=\"66.736886\"/>\n",
       "     <use style=\"fill:#4c72b0;stroke:#333333;\" x=\"209.536473\" xlink:href=\"#m2f78a510a6\" y=\"79.786073\"/>\n",
       "     <use style=\"fill:#4c72b0;stroke:#333333;\" x=\"217.422488\" xlink:href=\"#m2f78a510a6\" y=\"83.252373\"/>\n",
       "     <use style=\"fill:#4c72b0;stroke:#333333;\" x=\"241.780108\" xlink:href=\"#m2f78a510a6\" y=\"71.746417\"/>\n",
       "     <use style=\"fill:#4c72b0;stroke:#333333;\" x=\"206.067502\" xlink:href=\"#m2f78a510a6\" y=\"81.413968\"/>\n",
       "     <use style=\"fill:#4c72b0;stroke:#333333;\" x=\"236.35995\" xlink:href=\"#m2f78a510a6\" y=\"83.843155\"/>\n",
       "     <use style=\"fill:#4c72b0;stroke:#333333;\" x=\"227.411302\" xlink:href=\"#m2f78a510a6\" y=\"67.727555\"/>\n",
       "     <use style=\"fill:#4c72b0;stroke:#333333;\" x=\"219.840173\" xlink:href=\"#m2f78a510a6\" y=\"89.715275\"/>\n",
       "     <use style=\"fill:#4c72b0;stroke:#333333;\" x=\"223.820251\" xlink:href=\"#m2f78a510a6\" y=\"68.950696\"/>\n",
       "     <use style=\"fill:#4c72b0;stroke:#333333;\" x=\"137.056433\" xlink:href=\"#m2f78a510a6\" y=\"206.092473\"/>\n",
       "     <use style=\"fill:#4c72b0;stroke:#333333;\" x=\"112.215886\" xlink:href=\"#m2f78a510a6\" y=\"178.47319\"/>\n",
       "     <use style=\"fill:#4c72b0;stroke:#333333;\" x=\"116.921037\" xlink:href=\"#m2f78a510a6\" y=\"191.639364\"/>\n",
       "     <use style=\"fill:#4c72b0;stroke:#333333;\" x=\"111.603389\" xlink:href=\"#m2f78a510a6\" y=\"190.229281\"/>\n",
       "     <use style=\"fill:#4c72b0;stroke:#333333;\" x=\"226.467562\" xlink:href=\"#m2f78a510a6\" y=\"83.682686\"/>\n",
       "     <use style=\"fill:#4c72b0;stroke:#333333;\" x=\"122.703531\" xlink:href=\"#m2f78a510a6\" y=\"178.02405\"/>\n",
       "     <use style=\"fill:#4c72b0;stroke:#333333;\" x=\"121.99067\" xlink:href=\"#m2f78a510a6\" y=\"178.233429\"/>\n",
       "     <use style=\"fill:#4c72b0;stroke:#333333;\" x=\"113.638852\" xlink:href=\"#m2f78a510a6\" y=\"183.593792\"/>\n",
       "     <use style=\"fill:#4c72b0;stroke:#333333;\" x=\"122.840021\" xlink:href=\"#m2f78a510a6\" y=\"176.024898\"/>\n",
       "     <use style=\"fill:#4c72b0;stroke:#333333;\" x=\"236.779259\" xlink:href=\"#m2f78a510a6\" y=\"75.921025\"/>\n",
       "     <use style=\"fill:#4c72b0;stroke:#333333;\" x=\"235.177078\" xlink:href=\"#m2f78a510a6\" y=\"67.542416\"/>\n",
       "     <use style=\"fill:#4c72b0;stroke:#333333;\" x=\"120.651524\" xlink:href=\"#m2f78a510a6\" y=\"178.038002\"/>\n",
       "     <use style=\"fill:#4c72b0;stroke:#333333;\" x=\"113.732947\" xlink:href=\"#m2f78a510a6\" y=\"194.624324\"/>\n",
       "     <use style=\"fill:#4c72b0;stroke:#333333;\" x=\"114.690241\" xlink:href=\"#m2f78a510a6\" y=\"192.231477\"/>\n",
       "     <use style=\"fill:#4c72b0;stroke:#333333;\" x=\"104.891288\" xlink:href=\"#m2f78a510a6\" y=\"188.363482\"/>\n",
       "     <use style=\"fill:#4c72b0;stroke:#333333;\" x=\"116.52937\" xlink:href=\"#m2f78a510a6\" y=\"190.380861\"/>\n",
       "     <use style=\"fill:#4c72b0;stroke:#333333;\" x=\"108.744965\" xlink:href=\"#m2f78a510a6\" y=\"182.346528\"/>\n",
       "     <use style=\"fill:#4c72b0;stroke:#333333;\" x=\"214.775171\" xlink:href=\"#m2f78a510a6\" y=\"78.469973\"/>\n",
       "     <use style=\"fill:#4c72b0;stroke:#333333;\" x=\"117.246281\" xlink:href=\"#m2f78a510a6\" y=\"168.829302\"/>\n",
       "     <use style=\"fill:#4c72b0;stroke:#333333;\" x=\"113.65935\" xlink:href=\"#m2f78a510a6\" y=\"195.768874\"/>\n",
       "     <use style=\"fill:#4c72b0;stroke:#333333;\" x=\"226.094691\" xlink:href=\"#m2f78a510a6\" y=\"85.143028\"/>\n",
       "     <use style=\"fill:#4c72b0;stroke:#333333;\" x=\"112.683653\" xlink:href=\"#m2f78a510a6\" y=\"180.501965\"/>\n",
       "     <use style=\"fill:#4c72b0;stroke:#333333;\" x=\"121.369339\" xlink:href=\"#m2f78a510a6\" y=\"189.231444\"/>\n",
       "     <use style=\"fill:#4c72b0;stroke:#333333;\" x=\"116.302427\" xlink:href=\"#m2f78a510a6\" y=\"184.73247\"/>\n",
       "     <use style=\"fill:#4c72b0;stroke:#333333;\" x=\"129.642927\" xlink:href=\"#m2f78a510a6\" y=\"174.440183\"/>\n",
       "     <use style=\"fill:#4c72b0;stroke:#333333;\" x=\"245.995489\" xlink:href=\"#m2f78a510a6\" y=\"84.49198\"/>\n",
       "     <use style=\"fill:#4c72b0;stroke:#333333;\" x=\"232.069969\" xlink:href=\"#m2f78a510a6\" y=\"74.156086\"/>\n",
       "     <use style=\"fill:#4c72b0;stroke:#333333;\" x=\"104.736638\" xlink:href=\"#m2f78a510a6\" y=\"191.385972\"/>\n",
       "     <use style=\"fill:#4c72b0;stroke:#333333;\" x=\"199.495098\" xlink:href=\"#m2f78a510a6\" y=\"81.865386\"/>\n",
       "     <use style=\"fill:#4c72b0;stroke:#333333;\" x=\"214.332805\" xlink:href=\"#m2f78a510a6\" y=\"74.5143\"/>\n",
       "     <use style=\"fill:#4c72b0;stroke:#333333;\" x=\"226.301669\" xlink:href=\"#m2f78a510a6\" y=\"55.751648\"/>\n",
       "     <use style=\"fill:#4c72b0;stroke:#333333;\" x=\"232.919098\" xlink:href=\"#m2f78a510a6\" y=\"82.421473\"/>\n",
       "     <use style=\"fill:#4c72b0;stroke:#333333;\" x=\"112.620817\" xlink:href=\"#m2f78a510a6\" y=\"171.411836\"/>\n",
       "     <use style=\"fill:#4c72b0;stroke:#333333;\" x=\"96.531476\" xlink:href=\"#m2f78a510a6\" y=\"191.38578\"/>\n",
       "     <use style=\"fill:#4c72b0;stroke:#333333;\" x=\"102.258924\" xlink:href=\"#m2f78a510a6\" y=\"186.417325\"/>\n",
       "     <use style=\"fill:#4c72b0;stroke:#333333;\" x=\"117.479012\" xlink:href=\"#m2f78a510a6\" y=\"193.00692\"/>\n",
       "     <use style=\"fill:#4c72b0;stroke:#333333;\" x=\"235.40741\" xlink:href=\"#m2f78a510a6\" y=\"75.415309\"/>\n",
       "     <use style=\"fill:#4c72b0;stroke:#333333;\" x=\"136.270545\" xlink:href=\"#m2f78a510a6\" y=\"165.785309\"/>\n",
       "     <use style=\"fill:#4c72b0;stroke:#333333;\" x=\"219.879352\" xlink:href=\"#m2f78a510a6\" y=\"65.586453\"/>\n",
       "     <use style=\"fill:#4c72b0;stroke:#333333;\" x=\"229.602626\" xlink:href=\"#m2f78a510a6\" y=\"61.269617\"/>\n",
       "     <use style=\"fill:#4c72b0;stroke:#333333;\" x=\"219.6571\" xlink:href=\"#m2f78a510a6\" y=\"68.348257\"/>\n",
       "     <use style=\"fill:#4c72b0;stroke:#333333;\" x=\"95.34692\" xlink:href=\"#m2f78a510a6\" y=\"185.47329\"/>\n",
       "     <use style=\"fill:#4c72b0;stroke:#333333;\" x=\"91.388863\" xlink:href=\"#m2f78a510a6\" y=\"185.838288\"/>\n",
       "     <use style=\"fill:#4c72b0;stroke:#333333;\" x=\"226.571751\" xlink:href=\"#m2f78a510a6\" y=\"86.367751\"/>\n",
       "     <use style=\"fill:#4c72b0;stroke:#333333;\" x=\"103.14928\" xlink:href=\"#m2f78a510a6\" y=\"179.389381\"/>\n",
       "     <use style=\"fill:#4c72b0;stroke:#333333;\" x=\"216.566821\" xlink:href=\"#m2f78a510a6\" y=\"89.172706\"/>\n",
       "     <use style=\"fill:#4c72b0;stroke:#333333;\" x=\"243.946587\" xlink:href=\"#m2f78a510a6\" y=\"75.765992\"/>\n",
       "     <use style=\"fill:#4c72b0;stroke:#333333;\" x=\"108.098485\" xlink:href=\"#m2f78a510a6\" y=\"191.129671\"/>\n",
       "     <use style=\"fill:#4c72b0;stroke:#333333;\" x=\"240.470184\" xlink:href=\"#m2f78a510a6\" y=\"78.856894\"/>\n",
       "     <use style=\"fill:#4c72b0;stroke:#333333;\" x=\"228.854421\" xlink:href=\"#m2f78a510a6\" y=\"72.765458\"/>\n",
       "     <use style=\"fill:#4c72b0;stroke:#333333;\" x=\"147.339687\" xlink:href=\"#m2f78a510a6\" y=\"172.697357\"/>\n",
       "     <use style=\"fill:#4c72b0;stroke:#333333;\" x=\"221.195374\" xlink:href=\"#m2f78a510a6\" y=\"86.538012\"/>\n",
       "     <use style=\"fill:#4c72b0;stroke:#333333;\" x=\"96.400809\" xlink:href=\"#m2f78a510a6\" y=\"182.657318\"/>\n",
       "     <use style=\"fill:#4c72b0;stroke:#333333;\" x=\"215.556555\" xlink:href=\"#m2f78a510a6\" y=\"87.907962\"/>\n",
       "     <use style=\"fill:#4c72b0;stroke:#333333;\" x=\"132.208698\" xlink:href=\"#m2f78a510a6\" y=\"175.284187\"/>\n",
       "     <use style=\"fill:#4c72b0;stroke:#333333;\" x=\"222.499414\" xlink:href=\"#m2f78a510a6\" y=\"60.059424\"/>\n",
       "     <use style=\"fill:#4c72b0;stroke:#333333;\" x=\"102.589154\" xlink:href=\"#m2f78a510a6\" y=\"186.938737\"/>\n",
       "     <use style=\"fill:#4c72b0;stroke:#333333;\" x=\"223.113622\" xlink:href=\"#m2f78a510a6\" y=\"85.183465\"/>\n",
       "     <use style=\"fill:#4c72b0;stroke:#333333;\" x=\"116.8065\" xlink:href=\"#m2f78a510a6\" y=\"185.415564\"/>\n",
       "     <use style=\"fill:#4c72b0;stroke:#333333;\" x=\"119.312065\" xlink:href=\"#m2f78a510a6\" y=\"195.497355\"/>\n",
       "     <use style=\"fill:#4c72b0;stroke:#333333;\" x=\"223.666035\" xlink:href=\"#m2f78a510a6\" y=\"67.980297\"/>\n",
       "     <use style=\"fill:#4c72b0;stroke:#333333;\" x=\"95.71632\" xlink:href=\"#m2f78a510a6\" y=\"178.961963\"/>\n",
       "     <use style=\"fill:#4c72b0;stroke:#333333;\" x=\"215.382049\" xlink:href=\"#m2f78a510a6\" y=\"69.945824\"/>\n",
       "     <use style=\"fill:#4c72b0;stroke:#333333;\" x=\"214.287943\" xlink:href=\"#m2f78a510a6\" y=\"95.772055\"/>\n",
       "     <use style=\"fill:#4c72b0;stroke:#333333;\" x=\"221.867671\" xlink:href=\"#m2f78a510a6\" y=\"89.315543\"/>\n",
       "     <use style=\"fill:#4c72b0;stroke:#333333;\" x=\"124.806509\" xlink:href=\"#m2f78a510a6\" y=\"191.141343\"/>\n",
       "     <use style=\"fill:#4c72b0;stroke:#333333;\" x=\"122.951739\" xlink:href=\"#m2f78a510a6\" y=\"197.151548\"/>\n",
       "     <use style=\"fill:#4c72b0;stroke:#333333;\" x=\"119.626125\" xlink:href=\"#m2f78a510a6\" y=\"169.196641\"/>\n",
       "     <use style=\"fill:#4c72b0;stroke:#333333;\" x=\"195.714377\" xlink:href=\"#m2f78a510a6\" y=\"84.813218\"/>\n",
       "     <use style=\"fill:#4c72b0;stroke:#333333;\" x=\"226.621195\" xlink:href=\"#m2f78a510a6\" y=\"82.715902\"/>\n",
       "    </g>\n",
       "   </g>\n",
       "   <g id=\"PathCollection_2\">\n",
       "    <defs>\n",
       "     <path d=\"M 0 3 \n",
       "C 0.795609 3 1.55874 2.683901 2.12132 2.12132 \n",
       "C 2.683901 1.55874 3 0.795609 3 0 \n",
       "C 3 -0.795609 2.683901 -1.55874 2.12132 -2.12132 \n",
       "C 1.55874 -2.683901 0.795609 -3 0 -3 \n",
       "C -0.795609 -3 -1.55874 -2.683901 -2.12132 -2.12132 \n",
       "C -2.683901 -1.55874 -3 -0.795609 -3 0 \n",
       "C -3 0.795609 -2.683901 1.55874 -2.12132 2.12132 \n",
       "C -1.55874 2.683901 -0.795609 3 0 3 \n",
       "z\n",
       "\" id=\"ma241b391c0\" style=\"stroke:#333333;\"/>\n",
       "    </defs>\n",
       "    <g clip-path=\"url(#p0ec0c38424)\">\n",
       "     <use style=\"fill:#dd8452;stroke:#333333;\" x=\"106.472865\" xlink:href=\"#ma241b391c0\" y=\"73.624307\"/>\n",
       "     <use style=\"fill:#dd8452;stroke:#333333;\" x=\"134.150795\" xlink:href=\"#ma241b391c0\" y=\"70.997862\"/>\n",
       "     <use style=\"fill:#dd8452;stroke:#333333;\" x=\"103.269355\" xlink:href=\"#ma241b391c0\" y=\"67.592197\"/>\n",
       "     <use style=\"fill:#dd8452;stroke:#333333;\" x=\"231.523531\" xlink:href=\"#ma241b391c0\" y=\"164.247442\"/>\n",
       "     <use style=\"fill:#dd8452;stroke:#333333;\" x=\"212.91529\" xlink:href=\"#ma241b391c0\" y=\"193.738864\"/>\n",
       "     <use style=\"fill:#dd8452;stroke:#333333;\" x=\"221.747845\" xlink:href=\"#ma241b391c0\" y=\"181.160371\"/>\n",
       "     <use style=\"fill:#dd8452;stroke:#333333;\" x=\"227.731127\" xlink:href=\"#ma241b391c0\" y=\"185.661171\"/>\n",
       "     <use style=\"fill:#dd8452;stroke:#333333;\" x=\"213.379753\" xlink:href=\"#ma241b391c0\" y=\"201.338795\"/>\n",
       "     <use style=\"fill:#dd8452;stroke:#333333;\" x=\"223.218939\" xlink:href=\"#ma241b391c0\" y=\"197.295748\"/>\n",
       "     <use style=\"fill:#dd8452;stroke:#333333;\" x=\"125.641027\" xlink:href=\"#ma241b391c0\" y=\"64.692442\"/>\n",
       "     <use style=\"fill:#dd8452;stroke:#333333;\" x=\"98.888072\" xlink:href=\"#ma241b391c0\" y=\"86.345407\"/>\n",
       "     <use style=\"fill:#dd8452;stroke:#333333;\" x=\"119.465557\" xlink:href=\"#ma241b391c0\" y=\"70.563493\"/>\n",
       "     <use style=\"fill:#dd8452;stroke:#333333;\" x=\"228.185688\" xlink:href=\"#ma241b391c0\" y=\"142.982477\"/>\n",
       "     <use style=\"fill:#dd8452;stroke:#333333;\" x=\"105.463938\" xlink:href=\"#ma241b391c0\" y=\"78.724069\"/>\n",
       "     <use style=\"fill:#dd8452;stroke:#333333;\" x=\"217.309221\" xlink:href=\"#ma241b391c0\" y=\"183.979239\"/>\n",
       "     <use style=\"fill:#dd8452;stroke:#333333;\" x=\"108.73525\" xlink:href=\"#ma241b391c0\" y=\"64.310304\"/>\n",
       "     <use style=\"fill:#dd8452;stroke:#333333;\" x=\"114.564946\" xlink:href=\"#ma241b391c0\" y=\"87.866618\"/>\n",
       "     <use style=\"fill:#dd8452;stroke:#333333;\" x=\"105.925548\" xlink:href=\"#ma241b391c0\" y=\"73.796032\"/>\n",
       "     <use style=\"fill:#dd8452;stroke:#333333;\" x=\"114.361551\" xlink:href=\"#ma241b391c0\" y=\"83.233574\"/>\n",
       "     <use style=\"fill:#dd8452;stroke:#333333;\" x=\"137.175054\" xlink:href=\"#ma241b391c0\" y=\"69.257405\"/>\n",
       "     <use style=\"fill:#dd8452;stroke:#333333;\" x=\"215.391154\" xlink:href=\"#ma241b391c0\" y=\"175.601719\"/>\n",
       "     <use style=\"fill:#dd8452;stroke:#333333;\" x=\"208.877765\" xlink:href=\"#ma241b391c0\" y=\"174.89038\"/>\n",
       "     <use style=\"fill:#dd8452;stroke:#333333;\" x=\"136.938176\" xlink:href=\"#ma241b391c0\" y=\"64.924408\"/>\n",
       "     <use style=\"fill:#dd8452;stroke:#333333;\" x=\"212.508507\" xlink:href=\"#ma241b391c0\" y=\"185.516535\"/>\n",
       "     <use style=\"fill:#dd8452;stroke:#333333;\" x=\"187.347037\" xlink:href=\"#ma241b391c0\" y=\"196.006517\"/>\n",
       "     <use style=\"fill:#dd8452;stroke:#333333;\" x=\"131.61367\" xlink:href=\"#ma241b391c0\" y=\"91.697872\"/>\n",
       "     <use style=\"fill:#dd8452;stroke:#333333;\" x=\"109.08193\" xlink:href=\"#ma241b391c0\" y=\"74.727965\"/>\n",
       "     <use style=\"fill:#dd8452;stroke:#333333;\" x=\"238.255621\" xlink:href=\"#ma241b391c0\" y=\"200.480069\"/>\n",
       "     <use style=\"fill:#dd8452;stroke:#333333;\" x=\"235.232004\" xlink:href=\"#ma241b391c0\" y=\"184.758121\"/>\n",
       "     <use style=\"fill:#dd8452;stroke:#333333;\" x=\"211.915133\" xlink:href=\"#ma241b391c0\" y=\"179.845386\"/>\n",
       "     <use style=\"fill:#dd8452;stroke:#333333;\" x=\"116.030271\" xlink:href=\"#ma241b391c0\" y=\"82.674934\"/>\n",
       "     <use style=\"fill:#dd8452;stroke:#333333;\" x=\"223.344979\" xlink:href=\"#ma241b391c0\" y=\"189.058504\"/>\n",
       "     <use style=\"fill:#dd8452;stroke:#333333;\" x=\"239.829264\" xlink:href=\"#ma241b391c0\" y=\"198.326905\"/>\n",
       "     <use style=\"fill:#dd8452;stroke:#333333;\" x=\"216.17852\" xlink:href=\"#ma241b391c0\" y=\"175.632501\"/>\n",
       "     <use style=\"fill:#dd8452;stroke:#333333;\" x=\"232.366543\" xlink:href=\"#ma241b391c0\" y=\"181.528415\"/>\n",
       "     <use style=\"fill:#dd8452;stroke:#333333;\" x=\"104.85326\" xlink:href=\"#ma241b391c0\" y=\"82.239664\"/>\n",
       "     <use style=\"fill:#dd8452;stroke:#333333;\" x=\"127.756867\" xlink:href=\"#ma241b391c0\" y=\"82.580939\"/>\n",
       "     <use style=\"fill:#dd8452;stroke:#333333;\" x=\"119.814136\" xlink:href=\"#ma241b391c0\" y=\"78.347614\"/>\n",
       "     <use style=\"fill:#dd8452;stroke:#333333;\" x=\"111.499464\" xlink:href=\"#ma241b391c0\" y=\"64.203471\"/>\n",
       "     <use style=\"fill:#dd8452;stroke:#333333;\" x=\"230.000291\" xlink:href=\"#ma241b391c0\" y=\"188.242595\"/>\n",
       "     <use style=\"fill:#dd8452;stroke:#333333;\" x=\"226.110425\" xlink:href=\"#ma241b391c0\" y=\"186.28429\"/>\n",
       "     <use style=\"fill:#dd8452;stroke:#333333;\" x=\"114.920634\" xlink:href=\"#ma241b391c0\" y=\"69.678827\"/>\n",
       "     <use style=\"fill:#dd8452;stroke:#333333;\" x=\"213.690395\" xlink:href=\"#ma241b391c0\" y=\"162.120941\"/>\n",
       "     <use style=\"fill:#dd8452;stroke:#333333;\" x=\"102.928673\" xlink:href=\"#ma241b391c0\" y=\"89.350031\"/>\n",
       "     <use style=\"fill:#dd8452;stroke:#333333;\" x=\"233.187599\" xlink:href=\"#ma241b391c0\" y=\"186.468183\"/>\n",
       "     <use style=\"fill:#dd8452;stroke:#333333;\" x=\"227.075484\" xlink:href=\"#ma241b391c0\" y=\"190.998188\"/>\n",
       "     <use style=\"fill:#dd8452;stroke:#333333;\" x=\"104.926914\" xlink:href=\"#ma241b391c0\" y=\"73.500003\"/>\n",
       "     <use style=\"fill:#dd8452;stroke:#333333;\" x=\"98.12252\" xlink:href=\"#ma241b391c0\" y=\"91.451319\"/>\n",
       "     <use style=\"fill:#dd8452;stroke:#333333;\" x=\"123.190569\" xlink:href=\"#ma241b391c0\" y=\"77.888225\"/>\n",
       "     <use style=\"fill:#dd8452;stroke:#333333;\" x=\"222.384818\" xlink:href=\"#ma241b391c0\" y=\"188.007672\"/>\n",
       "     <use style=\"fill:#dd8452;stroke:#333333;\" x=\"228.232423\" xlink:href=\"#ma241b391c0\" y=\"168.205437\"/>\n",
       "     <use style=\"fill:#dd8452;stroke:#333333;\" x=\"223.648033\" xlink:href=\"#ma241b391c0\" y=\"193.273538\"/>\n",
       "     <use style=\"fill:#dd8452;stroke:#333333;\" x=\"222.852573\" xlink:href=\"#ma241b391c0\" y=\"179.455138\"/>\n",
       "     <use style=\"fill:#dd8452;stroke:#333333;\" x=\"137.673632\" xlink:href=\"#ma241b391c0\" y=\"84.937191\"/>\n",
       "     <use style=\"fill:#dd8452;stroke:#333333;\" x=\"104.098529\" xlink:href=\"#ma241b391c0\" y=\"70.801226\"/>\n",
       "     <use style=\"fill:#dd8452;stroke:#333333;\" x=\"208.232517\" xlink:href=\"#ma241b391c0\" y=\"164.957755\"/>\n",
       "     <use style=\"fill:#dd8452;stroke:#333333;\" x=\"235.408966\" xlink:href=\"#ma241b391c0\" y=\"189.970253\"/>\n",
       "     <use style=\"fill:#dd8452;stroke:#333333;\" x=\"95.240895\" xlink:href=\"#ma241b391c0\" y=\"61.430081\"/>\n",
       "     <use style=\"fill:#dd8452;stroke:#333333;\" x=\"222.643107\" xlink:href=\"#ma241b391c0\" y=\"184.358602\"/>\n",
       "     <use style=\"fill:#dd8452;stroke:#333333;\" x=\"217.692979\" xlink:href=\"#ma241b391c0\" y=\"178.09775\"/>\n",
       "     <use style=\"fill:#dd8452;stroke:#333333;\" x=\"115.173948\" xlink:href=\"#ma241b391c0\" y=\"70.55639\"/>\n",
       "     <use style=\"fill:#dd8452;stroke:#333333;\" x=\"230.322773\" xlink:href=\"#ma241b391c0\" y=\"197.096484\"/>\n",
       "     <use style=\"fill:#dd8452;stroke:#333333;\" x=\"97.187204\" xlink:href=\"#ma241b391c0\" y=\"62.258473\"/>\n",
       "     <use style=\"fill:#dd8452;stroke:#333333;\" x=\"130.730219\" xlink:href=\"#ma241b391c0\" y=\"74.891759\"/>\n",
       "     <use style=\"fill:#dd8452;stroke:#333333;\" x=\"103.375446\" xlink:href=\"#ma241b391c0\" y=\"68.690619\"/>\n",
       "     <use style=\"fill:#dd8452;stroke:#333333;\" x=\"125.373285\" xlink:href=\"#ma241b391c0\" y=\"95.270389\"/>\n",
       "     <use style=\"fill:#dd8452;stroke:#333333;\" x=\"101.001707\" xlink:href=\"#ma241b391c0\" y=\"98.319908\"/>\n",
       "     <use style=\"fill:#dd8452;stroke:#333333;\" x=\"238.919714\" xlink:href=\"#ma241b391c0\" y=\"184.063817\"/>\n",
       "     <use style=\"fill:#dd8452;stroke:#333333;\" x=\"240.292405\" xlink:href=\"#ma241b391c0\" y=\"199.873838\"/>\n",
       "     <use style=\"fill:#dd8452;stroke:#333333;\" x=\"118.041653\" xlink:href=\"#ma241b391c0\" y=\"76.504834\"/>\n",
       "     <use style=\"fill:#dd8452;stroke:#333333;\" x=\"99.683901\" xlink:href=\"#ma241b391c0\" y=\"68.868696\"/>\n",
       "     <use style=\"fill:#dd8452;stroke:#333333;\" x=\"216.99933\" xlink:href=\"#ma241b391c0\" y=\"196.385144\"/>\n",
       "     <use style=\"fill:#dd8452;stroke:#333333;\" x=\"113.184647\" xlink:href=\"#ma241b391c0\" y=\"65.765074\"/>\n",
       "     <use style=\"fill:#dd8452;stroke:#333333;\" x=\"108.101133\" xlink:href=\"#ma241b391c0\" y=\"84.769489\"/>\n",
       "     <use style=\"fill:#dd8452;stroke:#333333;\" x=\"221.422461\" xlink:href=\"#ma241b391c0\" y=\"196.124529\"/>\n",
       "     <use style=\"fill:#dd8452;stroke:#333333;\" x=\"214.978675\" xlink:href=\"#ma241b391c0\" y=\"182.542985\"/>\n",
       "     <use style=\"fill:#dd8452;stroke:#333333;\" x=\"221.364864\" xlink:href=\"#ma241b391c0\" y=\"187.271756\"/>\n",
       "     <use style=\"fill:#dd8452;stroke:#333333;\" x=\"120.543314\" xlink:href=\"#ma241b391c0\" y=\"67.913745\"/>\n",
       "     <use style=\"fill:#dd8452;stroke:#333333;\" x=\"110.875732\" xlink:href=\"#ma241b391c0\" y=\"101.175863\"/>\n",
       "     <use style=\"fill:#dd8452;stroke:#333333;\" x=\"206.112935\" xlink:href=\"#ma241b391c0\" y=\"170.008718\"/>\n",
       "     <use style=\"fill:#dd8452;stroke:#333333;\" x=\"214.363048\" xlink:href=\"#ma241b391c0\" y=\"200.332117\"/>\n",
       "     <use style=\"fill:#dd8452;stroke:#333333;\" x=\"114.707242\" xlink:href=\"#ma241b391c0\" y=\"85.513256\"/>\n",
       "     <use style=\"fill:#dd8452;stroke:#333333;\" x=\"130.425499\" xlink:href=\"#ma241b391c0\" y=\"70.290339\"/>\n",
       "     <use style=\"fill:#dd8452;stroke:#333333;\" x=\"104.346372\" xlink:href=\"#ma241b391c0\" y=\"91.183174\"/>\n",
       "     <use style=\"fill:#dd8452;stroke:#333333;\" x=\"232.655496\" xlink:href=\"#ma241b391c0\" y=\"164.110198\"/>\n",
       "     <use style=\"fill:#dd8452;stroke:#333333;\" x=\"207.380867\" xlink:href=\"#ma241b391c0\" y=\"178.748774\"/>\n",
       "     <use style=\"fill:#dd8452;stroke:#333333;\" x=\"106.792308\" xlink:href=\"#ma241b391c0\" y=\"81.445404\"/>\n",
       "     <use style=\"fill:#dd8452;stroke:#333333;\" x=\"216.145588\" xlink:href=\"#ma241b391c0\" y=\"194.262683\"/>\n",
       "     <use style=\"fill:#dd8452;stroke:#333333;\" x=\"219.988253\" xlink:href=\"#ma241b391c0\" y=\"194.736407\"/>\n",
       "     <use style=\"fill:#dd8452;stroke:#333333;\" x=\"107.595436\" xlink:href=\"#ma241b391c0\" y=\"67.936763\"/>\n",
       "     <use style=\"fill:#dd8452;stroke:#333333;\" x=\"96.171453\" xlink:href=\"#ma241b391c0\" y=\"75.62659\"/>\n",
       "     <use style=\"fill:#dd8452;stroke:#333333;\" x=\"225.409796\" xlink:href=\"#ma241b391c0\" y=\"194.701105\"/>\n",
       "     <use style=\"fill:#dd8452;stroke:#333333;\" x=\"229.528869\" xlink:href=\"#ma241b391c0\" y=\"202.93342\"/>\n",
       "     <use style=\"fill:#dd8452;stroke:#333333;\" x=\"215.499328\" xlink:href=\"#ma241b391c0\" y=\"184.354057\"/>\n",
       "     <use style=\"fill:#dd8452;stroke:#333333;\" x=\"104.511679\" xlink:href=\"#ma241b391c0\" y=\"80.330262\"/>\n",
       "     <use style=\"fill:#dd8452;stroke:#333333;\" x=\"120.140022\" xlink:href=\"#ma241b391c0\" y=\"78.356887\"/>\n",
       "     <use style=\"fill:#dd8452;stroke:#333333;\" x=\"223.527501\" xlink:href=\"#ma241b391c0\" y=\"186.561898\"/>\n",
       "    </g>\n",
       "   </g>\n",
       "   <g id=\"patch_3\">\n",
       "    <path d=\"M 59.506094 239.229375 \n",
       "L 59.506094 21.789375 \n",
       "\" style=\"fill:none;stroke:#ffffff;stroke-linecap:square;stroke-linejoin:miter;stroke-width:1.25;\"/>\n",
       "   </g>\n",
       "   <g id=\"patch_4\">\n",
       "    <path d=\"M 276.946094 239.229375 \n",
       "L 276.946094 21.789375 \n",
       "\" style=\"fill:none;stroke:#ffffff;stroke-linecap:square;stroke-linejoin:miter;stroke-width:1.25;\"/>\n",
       "   </g>\n",
       "   <g id=\"patch_5\">\n",
       "    <path d=\"M 59.506094 239.229375 \n",
       "L 276.946094 239.229375 \n",
       "\" style=\"fill:none;stroke:#ffffff;stroke-linecap:square;stroke-linejoin:miter;stroke-width:1.25;\"/>\n",
       "   </g>\n",
       "   <g id=\"patch_6\">\n",
       "    <path d=\"M 59.506094 21.789375 \n",
       "L 276.946094 21.789375 \n",
       "\" style=\"fill:none;stroke:#ffffff;stroke-linecap:square;stroke-linejoin:miter;stroke-width:1.25;\"/>\n",
       "   </g>\n",
       "   <g id=\"text_17\">\n",
       "    <!-- Dataset samples -->\n",
       "    <g style=\"fill:#262626;\" transform=\"translate(123.542031 15.789375)scale(0.12 -0.12)\">\n",
       "     <defs>\n",
       "      <path d=\"M 7.71875 0 \n",
       "L 7.71875 71.578125 \n",
       "L 32.375 71.578125 \n",
       "Q 40.71875 71.578125 45.125 70.5625 \n",
       "Q 51.265625 69.140625 55.609375 65.4375 \n",
       "Q 61.28125 60.640625 64.078125 53.1875 \n",
       "Q 66.890625 45.75 66.890625 36.1875 \n",
       "Q 66.890625 28.03125 64.984375 21.734375 \n",
       "Q 63.09375 15.4375 60.109375 11.296875 \n",
       "Q 57.125 7.171875 53.578125 4.796875 \n",
       "Q 50.046875 2.4375 45.046875 1.21875 \n",
       "Q 40.046875 0 33.546875 0 \n",
       "z\n",
       "M 17.1875 8.453125 \n",
       "L 32.46875 8.453125 \n",
       "Q 39.546875 8.453125 43.578125 9.765625 \n",
       "Q 47.609375 11.078125 50 13.484375 \n",
       "Q 53.375 16.84375 55.25 22.53125 \n",
       "Q 57.125 28.21875 57.125 36.328125 \n",
       "Q 57.125 47.5625 53.4375 53.59375 \n",
       "Q 49.75 59.625 44.484375 61.671875 \n",
       "Q 40.671875 63.140625 32.234375 63.140625 \n",
       "L 17.1875 63.140625 \n",
       "z\n",
       "\" id=\"ArialMT-68\"/>\n",
       "      <path d=\"M 40.4375 6.390625 \n",
       "Q 35.546875 2.25 31.03125 0.53125 \n",
       "Q 26.515625 -1.171875 21.34375 -1.171875 \n",
       "Q 12.796875 -1.171875 8.203125 3 \n",
       "Q 3.609375 7.171875 3.609375 13.671875 \n",
       "Q 3.609375 17.484375 5.34375 20.625 \n",
       "Q 7.078125 23.78125 9.890625 25.6875 \n",
       "Q 12.703125 27.59375 16.21875 28.5625 \n",
       "Q 18.796875 29.25 24.03125 29.890625 \n",
       "Q 34.671875 31.15625 39.703125 32.90625 \n",
       "Q 39.75 34.71875 39.75 35.203125 \n",
       "Q 39.75 40.578125 37.25 42.78125 \n",
       "Q 33.890625 45.75 27.25 45.75 \n",
       "Q 21.046875 45.75 18.09375 43.578125 \n",
       "Q 15.140625 41.40625 13.71875 35.890625 \n",
       "L 5.125 37.0625 \n",
       "Q 6.296875 42.578125 8.984375 45.96875 \n",
       "Q 11.671875 49.359375 16.75 51.1875 \n",
       "Q 21.828125 53.03125 28.515625 53.03125 \n",
       "Q 35.15625 53.03125 39.296875 51.46875 \n",
       "Q 43.453125 49.90625 45.40625 47.53125 \n",
       "Q 47.359375 45.171875 48.140625 41.546875 \n",
       "Q 48.578125 39.3125 48.578125 33.453125 \n",
       "L 48.578125 21.734375 \n",
       "Q 48.578125 9.46875 49.140625 6.21875 \n",
       "Q 49.703125 2.984375 51.375 0 \n",
       "L 42.1875 0 \n",
       "Q 40.828125 2.734375 40.4375 6.390625 \n",
       "z\n",
       "M 39.703125 26.03125 \n",
       "Q 34.90625 24.078125 25.34375 22.703125 \n",
       "Q 19.921875 21.921875 17.671875 20.9375 \n",
       "Q 15.4375 19.96875 14.203125 18.09375 \n",
       "Q 12.984375 16.21875 12.984375 13.921875 \n",
       "Q 12.984375 10.40625 15.640625 8.0625 \n",
       "Q 18.3125 5.71875 23.4375 5.71875 \n",
       "Q 28.515625 5.71875 32.46875 7.9375 \n",
       "Q 36.421875 10.15625 38.28125 14.015625 \n",
       "Q 39.703125 17 39.703125 22.796875 \n",
       "z\n",
       "\" id=\"ArialMT-97\"/>\n",
       "      <path d=\"M 25.78125 7.859375 \n",
       "L 27.046875 0.09375 \n",
       "Q 23.34375 -0.6875 20.40625 -0.6875 \n",
       "Q 15.625 -0.6875 12.984375 0.828125 \n",
       "Q 10.359375 2.34375 9.28125 4.8125 \n",
       "Q 8.203125 7.28125 8.203125 15.1875 \n",
       "L 8.203125 45.015625 \n",
       "L 1.765625 45.015625 \n",
       "L 1.765625 51.859375 \n",
       "L 8.203125 51.859375 \n",
       "L 8.203125 64.703125 \n",
       "L 16.9375 69.96875 \n",
       "L 16.9375 51.859375 \n",
       "L 25.78125 51.859375 \n",
       "L 25.78125 45.015625 \n",
       "L 16.9375 45.015625 \n",
       "L 16.9375 14.703125 \n",
       "Q 16.9375 10.9375 17.40625 9.859375 \n",
       "Q 17.875 8.796875 18.921875 8.15625 \n",
       "Q 19.96875 7.515625 21.921875 7.515625 \n",
       "Q 23.390625 7.515625 25.78125 7.859375 \n",
       "z\n",
       "\" id=\"ArialMT-116\"/>\n",
       "      <path d=\"M 3.078125 15.484375 \n",
       "L 11.765625 16.84375 \n",
       "Q 12.5 11.625 15.84375 8.84375 \n",
       "Q 19.1875 6.0625 25.203125 6.0625 \n",
       "Q 31.25 6.0625 34.171875 8.515625 \n",
       "Q 37.109375 10.984375 37.109375 14.3125 \n",
       "Q 37.109375 17.28125 34.515625 19 \n",
       "Q 32.71875 20.171875 25.53125 21.96875 \n",
       "Q 15.875 24.421875 12.140625 26.203125 \n",
       "Q 8.40625 27.984375 6.46875 31.125 \n",
       "Q 4.546875 34.28125 4.546875 38.09375 \n",
       "Q 4.546875 41.546875 6.125 44.5 \n",
       "Q 7.71875 47.46875 10.453125 49.421875 \n",
       "Q 12.5 50.921875 16.03125 51.96875 \n",
       "Q 19.578125 53.03125 23.640625 53.03125 \n",
       "Q 29.734375 53.03125 34.34375 51.265625 \n",
       "Q 38.96875 49.515625 41.15625 46.5 \n",
       "Q 43.359375 43.5 44.1875 38.484375 \n",
       "L 35.59375 37.3125 \n",
       "Q 35.015625 41.3125 32.203125 43.546875 \n",
       "Q 29.390625 45.796875 24.265625 45.796875 \n",
       "Q 18.21875 45.796875 15.625 43.796875 \n",
       "Q 13.03125 41.796875 13.03125 39.109375 \n",
       "Q 13.03125 37.40625 14.109375 36.03125 \n",
       "Q 15.1875 34.625 17.484375 33.6875 \n",
       "Q 18.796875 33.203125 25.25 31.453125 \n",
       "Q 34.578125 28.953125 38.25 27.359375 \n",
       "Q 41.9375 25.78125 44.03125 22.75 \n",
       "Q 46.140625 19.734375 46.140625 15.234375 \n",
       "Q 46.140625 10.84375 43.578125 6.953125 \n",
       "Q 41.015625 3.078125 36.171875 0.953125 \n",
       "Q 31.34375 -1.171875 25.25 -1.171875 \n",
       "Q 15.140625 -1.171875 9.84375 3.03125 \n",
       "Q 4.546875 7.234375 3.078125 15.484375 \n",
       "z\n",
       "\" id=\"ArialMT-115\"/>\n",
       "      <path d=\"M 42.09375 16.703125 \n",
       "L 51.171875 15.578125 \n",
       "Q 49.03125 7.625 43.21875 3.21875 \n",
       "Q 37.40625 -1.171875 28.375 -1.171875 \n",
       "Q 17 -1.171875 10.328125 5.828125 \n",
       "Q 3.65625 12.84375 3.65625 25.484375 \n",
       "Q 3.65625 38.578125 10.390625 45.796875 \n",
       "Q 17.140625 53.03125 27.875 53.03125 \n",
       "Q 38.28125 53.03125 44.875 45.953125 \n",
       "Q 51.46875 38.875 51.46875 26.03125 \n",
       "Q 51.46875 25.25 51.421875 23.6875 \n",
       "L 12.75 23.6875 \n",
       "Q 13.234375 15.140625 17.578125 10.59375 \n",
       "Q 21.921875 6.0625 28.421875 6.0625 \n",
       "Q 33.25 6.0625 36.671875 8.59375 \n",
       "Q 40.09375 11.140625 42.09375 16.703125 \n",
       "z\n",
       "M 13.234375 30.90625 \n",
       "L 42.1875 30.90625 \n",
       "Q 41.609375 37.453125 38.875 40.71875 \n",
       "Q 34.671875 45.796875 27.984375 45.796875 \n",
       "Q 21.921875 45.796875 17.796875 41.75 \n",
       "Q 13.671875 37.703125 13.234375 30.90625 \n",
       "z\n",
       "\" id=\"ArialMT-101\"/>\n",
       "      <path id=\"ArialMT-32\"/>\n",
       "      <path d=\"M 6.59375 0 \n",
       "L 6.59375 51.859375 \n",
       "L 14.453125 51.859375 \n",
       "L 14.453125 44.578125 \n",
       "Q 16.890625 48.390625 20.9375 50.703125 \n",
       "Q 25 53.03125 30.171875 53.03125 \n",
       "Q 35.9375 53.03125 39.625 50.640625 \n",
       "Q 43.3125 48.25 44.828125 43.953125 \n",
       "Q 50.984375 53.03125 60.84375 53.03125 \n",
       "Q 68.5625 53.03125 72.703125 48.75 \n",
       "Q 76.859375 44.484375 76.859375 35.59375 \n",
       "L 76.859375 0 \n",
       "L 68.109375 0 \n",
       "L 68.109375 32.671875 \n",
       "Q 68.109375 37.9375 67.25 40.25 \n",
       "Q 66.40625 42.578125 64.15625 43.984375 \n",
       "Q 61.921875 45.40625 58.890625 45.40625 \n",
       "Q 53.421875 45.40625 49.796875 41.765625 \n",
       "Q 46.1875 38.140625 46.1875 30.125 \n",
       "L 46.1875 0 \n",
       "L 37.40625 0 \n",
       "L 37.40625 33.6875 \n",
       "Q 37.40625 39.546875 35.25 42.46875 \n",
       "Q 33.109375 45.40625 28.21875 45.40625 \n",
       "Q 24.515625 45.40625 21.359375 43.453125 \n",
       "Q 18.21875 41.5 16.796875 37.734375 \n",
       "Q 15.375 33.984375 15.375 26.90625 \n",
       "L 15.375 0 \n",
       "z\n",
       "\" id=\"ArialMT-109\"/>\n",
       "      <path d=\"M 6.59375 -19.875 \n",
       "L 6.59375 51.859375 \n",
       "L 14.59375 51.859375 \n",
       "L 14.59375 45.125 \n",
       "Q 17.4375 49.078125 21 51.046875 \n",
       "Q 24.5625 53.03125 29.640625 53.03125 \n",
       "Q 36.28125 53.03125 41.359375 49.609375 \n",
       "Q 46.4375 46.1875 49.015625 39.953125 \n",
       "Q 51.609375 33.734375 51.609375 26.3125 \n",
       "Q 51.609375 18.359375 48.75 11.984375 \n",
       "Q 45.90625 5.609375 40.453125 2.21875 \n",
       "Q 35.015625 -1.171875 29 -1.171875 \n",
       "Q 24.609375 -1.171875 21.109375 0.6875 \n",
       "Q 17.625 2.546875 15.375 5.375 \n",
       "L 15.375 -19.875 \n",
       "z\n",
       "M 14.546875 25.640625 \n",
       "Q 14.546875 15.625 18.59375 10.84375 \n",
       "Q 22.65625 6.0625 28.421875 6.0625 \n",
       "Q 34.28125 6.0625 38.453125 11.015625 \n",
       "Q 42.625 15.96875 42.625 26.375 \n",
       "Q 42.625 36.28125 38.546875 41.203125 \n",
       "Q 34.46875 46.140625 28.8125 46.140625 \n",
       "Q 23.1875 46.140625 18.859375 40.890625 \n",
       "Q 14.546875 35.640625 14.546875 25.640625 \n",
       "z\n",
       "\" id=\"ArialMT-112\"/>\n",
       "      <path d=\"M 6.390625 0 \n",
       "L 6.390625 71.578125 \n",
       "L 15.1875 71.578125 \n",
       "L 15.1875 0 \n",
       "z\n",
       "\" id=\"ArialMT-108\"/>\n",
       "     </defs>\n",
       "     <use xlink:href=\"#ArialMT-68\"/>\n",
       "     <use x=\"72.216797\" xlink:href=\"#ArialMT-97\"/>\n",
       "     <use x=\"127.832031\" xlink:href=\"#ArialMT-116\"/>\n",
       "     <use x=\"155.615234\" xlink:href=\"#ArialMT-97\"/>\n",
       "     <use x=\"211.230469\" xlink:href=\"#ArialMT-115\"/>\n",
       "     <use x=\"261.230469\" xlink:href=\"#ArialMT-101\"/>\n",
       "     <use x=\"316.845703\" xlink:href=\"#ArialMT-116\"/>\n",
       "     <use x=\"344.628906\" xlink:href=\"#ArialMT-32\"/>\n",
       "     <use x=\"372.412109\" xlink:href=\"#ArialMT-115\"/>\n",
       "     <use x=\"422.412109\" xlink:href=\"#ArialMT-97\"/>\n",
       "     <use x=\"478.027344\" xlink:href=\"#ArialMT-109\"/>\n",
       "     <use x=\"561.328125\" xlink:href=\"#ArialMT-112\"/>\n",
       "     <use x=\"616.943359\" xlink:href=\"#ArialMT-108\"/>\n",
       "     <use x=\"639.160156\" xlink:href=\"#ArialMT-101\"/>\n",
       "     <use x=\"694.775391\" xlink:href=\"#ArialMT-115\"/>\n",
       "    </g>\n",
       "   </g>\n",
       "   <g id=\"legend_1\">\n",
       "    <g id=\"patch_7\">\n",
       "     <path d=\"M 67.206094 147.719219 \n",
       "L 139.084219 147.719219 \n",
       "Q 141.284219 147.719219 141.284219 145.519219 \n",
       "L 141.284219 115.499531 \n",
       "Q 141.284219 113.299531 139.084219 113.299531 \n",
       "L 67.206094 113.299531 \n",
       "Q 65.006094 113.299531 65.006094 115.499531 \n",
       "L 65.006094 145.519219 \n",
       "Q 65.006094 147.719219 67.206094 147.719219 \n",
       "z\n",
       "\" style=\"fill:#eaeaf2;opacity:0.8;stroke:#cccccc;stroke-linejoin:miter;\"/>\n",
       "    </g>\n",
       "    <g id=\"PathCollection_3\">\n",
       "     <g>\n",
       "      <use style=\"fill:#4c72b0;stroke:#333333;\" x=\"80.406094\" xlink:href=\"#m2f78a510a6\" y=\"122.685625\"/>\n",
       "     </g>\n",
       "    </g>\n",
       "    <g id=\"text_18\">\n",
       "     <!-- Class 0 -->\n",
       "     <g style=\"fill:#262626;\" transform=\"translate(100.206094 125.573125)scale(0.11 -0.11)\">\n",
       "      <defs>\n",
       "       <path d=\"M 58.796875 25.09375 \n",
       "L 68.265625 22.703125 \n",
       "Q 65.28125 11.03125 57.546875 4.90625 \n",
       "Q 49.8125 -1.21875 38.625 -1.21875 \n",
       "Q 27.046875 -1.21875 19.796875 3.484375 \n",
       "Q 12.546875 8.203125 8.765625 17.140625 \n",
       "Q 4.984375 26.078125 4.984375 36.328125 \n",
       "Q 4.984375 47.515625 9.25 55.828125 \n",
       "Q 13.53125 64.15625 21.40625 68.46875 \n",
       "Q 29.296875 72.796875 38.765625 72.796875 \n",
       "Q 49.515625 72.796875 56.828125 67.328125 \n",
       "Q 64.15625 61.859375 67.046875 51.953125 \n",
       "L 57.71875 49.75 \n",
       "Q 55.21875 57.5625 50.484375 61.125 \n",
       "Q 45.75 64.703125 38.578125 64.703125 \n",
       "Q 30.328125 64.703125 24.78125 60.734375 \n",
       "Q 19.234375 56.78125 16.984375 50.109375 \n",
       "Q 14.75 43.453125 14.75 36.375 \n",
       "Q 14.75 27.25 17.40625 20.4375 \n",
       "Q 20.0625 13.625 25.671875 10.25 \n",
       "Q 31.296875 6.890625 37.84375 6.890625 \n",
       "Q 45.796875 6.890625 51.3125 11.46875 \n",
       "Q 56.84375 16.0625 58.796875 25.09375 \n",
       "z\n",
       "\" id=\"ArialMT-67\"/>\n",
       "      </defs>\n",
       "      <use xlink:href=\"#ArialMT-67\"/>\n",
       "      <use x=\"72.216797\" xlink:href=\"#ArialMT-108\"/>\n",
       "      <use x=\"94.433594\" xlink:href=\"#ArialMT-97\"/>\n",
       "      <use x=\"150.048828\" xlink:href=\"#ArialMT-115\"/>\n",
       "      <use x=\"200.048828\" xlink:href=\"#ArialMT-115\"/>\n",
       "      <use x=\"250.048828\" xlink:href=\"#ArialMT-32\"/>\n",
       "      <use x=\"277.832031\" xlink:href=\"#ArialMT-48\"/>\n",
       "     </g>\n",
       "    </g>\n",
       "    <g id=\"PathCollection_4\">\n",
       "     <g>\n",
       "      <use style=\"fill:#dd8452;stroke:#333333;\" x=\"80.406094\" xlink:href=\"#ma241b391c0\" y=\"138.245469\"/>\n",
       "     </g>\n",
       "    </g>\n",
       "    <g id=\"text_19\">\n",
       "     <!-- Class 1 -->\n",
       "     <g style=\"fill:#262626;\" transform=\"translate(100.206094 141.132969)scale(0.11 -0.11)\">\n",
       "      <use xlink:href=\"#ArialMT-67\"/>\n",
       "      <use x=\"72.216797\" xlink:href=\"#ArialMT-108\"/>\n",
       "      <use x=\"94.433594\" xlink:href=\"#ArialMT-97\"/>\n",
       "      <use x=\"150.048828\" xlink:href=\"#ArialMT-115\"/>\n",
       "      <use x=\"200.048828\" xlink:href=\"#ArialMT-115\"/>\n",
       "      <use x=\"250.048828\" xlink:href=\"#ArialMT-32\"/>\n",
       "      <use x=\"277.832031\" xlink:href=\"#ArialMT-49\"/>\n",
       "     </g>\n",
       "    </g>\n",
       "   </g>\n",
       "  </g>\n",
       " </g>\n",
       " <defs>\n",
       "  <clipPath id=\"p0ec0c38424\">\n",
       "   <rect height=\"217.44\" width=\"217.44\" x=\"59.506094\" y=\"21.789375\"/>\n",
       "  </clipPath>\n",
       " </defs>\n",
       "</svg>\n"
      ],
      "text/plain": [
       "<Figure size 2000x2000 with 1 Axes>"
      ]
     },
     "metadata": {},
     "output_type": "display_data"
    }
   ],
   "source": [
    "def visualize_classification(model, data, label):\n",
    "    data_0 = data[label == 0]\n",
    "    data_1 = data[label == 1]\n",
    "    \n",
    "    fig = plt.figure(figsize=(4,4), dpi=500)\n",
    "    plt.scatter(data_0[:,0], data_0[:,1], edgecolor=\"#333\", label=\"Class 0\")\n",
    "    plt.scatter(data_1[:,0], data_1[:,1], edgecolor=\"#333\", label=\"Class 1\")\n",
    "    plt.title(\"Dataset samples\")\n",
    "    plt.ylabel(r\"$x_2$\")\n",
    "    plt.xlabel(r\"$x_1$\")\n",
    "    plt.legend()\n",
    "    \n",
    "    # Let's make use of a lot of operations we have learned above\n",
    "    c0 = np.array(to_rgba(\"C0\"))\n",
    "    c1 = np.array(to_rgba(\"C1\"))\n",
    "    x1 = jnp.arange(-0.5, 1.5, step=0.01)\n",
    "    x2 = jnp.arange(-0.5, 1.5, step=0.01)\n",
    "    xx1, xx2 = jnp.meshgrid(x1, x2, indexing='ij')  # Meshgrid function as in numpy\n",
    "    model_inputs = np.stack([xx1, xx2], axis=-1)\n",
    "    logits = model(model_inputs)\n",
    "    preds = nn.sigmoid(logits)\n",
    "    output_image = (1 - preds) * c0[None,None] + preds * c1[None,None]  # Specifying \"None\" in a dimension creates a new one\n",
    "    output_image = jax.device_get(output_image)  # Convert to numpy array. This only works for tensors on CPU, hence first push to CPU\n",
    "    plt.imshow(output_image, origin='lower', extent=(-0.5, 1.5, -0.5, 1.5))\n",
    "    plt.grid(False)\n",
    "    return fig\n",
    "\n",
    "_ = visualize_classification(trained_model, dataset.data, dataset.label)\n",
    "plt.show()"
   ]
  },
  {
   "cell_type": "markdown",
   "metadata": {},
   "source": [
    "The decision boundaries might not look exactly as in the figure in the preamble of this section, since this has been created with the PyTorch version of the tutorial. Nevertheless, the result on the accuracy metric should be the approximately the same. "
   ]
  },
  {
   "cell_type": "markdown",
   "metadata": {},
   "source": [
    "### Conclusion\n",
    "\n",
    "This concludes our tutorial on training a neural network with JAX. While the functional programming perspective of JAX may seem very different to PyTorch at first, it enables a considerable speedup in training, not only for tiny models like here. If you are interested in seeing more practical use cases of JAX, we recommend checking out our other JAX Tutorials, such as:\n",
    "\n",
    "* [Tutorial 5 (JAX): Inception, ResNet and DenseNet](https://uvadlc-notebooks.readthedocs.io/en/latest/tutorial_notebooks/JAX/tutorial5/Inception_ResNet_DenseNet.html) gives an intro to training convolutional classifiers on CIFAR10;\n",
    "* [Tutorial 6 (JAX): Transformers and Multi-Head Attention](https://uvadlc-notebooks.readthedocs.io/en/latest/tutorial_notebooks/JAX/tutorial6/Transformers_and_MHAttention.html) builds a Transformer from scratch with Flax;\n",
    "* [Tutorial 7 (JAX): Graph Neural Networks](https://uvadlc-notebooks.readthedocs.io/en/latest/tutorial_notebooks/JAX/tutorial7/GNN_overview.html) implements basic Graph Neural Network layers;\n",
    "* [Tutorial 9 (JAX): Deep Autoencoders](https://uvadlc-notebooks.readthedocs.io/en/latest/tutorial_notebooks/JAX/tutorial9/AE_CIFAR10.html) shows how to train autoencoders on CIFAR10;\n",
    "* [Tutorial 11 (JAX): Normalizing Flows for image modeling](https://uvadlc-notebooks.readthedocs.io/en/latest/tutorial_notebooks/JAX/tutorial11/NF_image_modeling.html) discusses Normalizing Flows as generative model on images;\n",
    "* [Tutorial 15 (JAX): Vision Transformers](https://uvadlc-notebooks.readthedocs.io/en/latest/tutorial_notebooks/JAX/tutorial15/Vision_Transformer.html) trains a Transformer on image classification for CIFAR10."
   ]
  },
  {
   "cell_type": "markdown",
   "metadata": {},
   "source": [
    "## ✨ The Fancy Bits ✨\n",
    "\n",
    "After reading this tutorial, you might wonder why we left out some key advertisement points of JAX: automatic vectorization, easy parallelization on multiple accelerators, etc. The reason why we did not include them in our previous discuss is that for building simple networks, and actual most models in our tutorials, you do not really need these methods. However, since they can be handy at some times, for instance, if you have access to a large cluster or are faced with functions that are annoying to vectorize, we review them here in a separate section: the Fancy Bits of JAX (the title is inspired by JAX's tutorial [🔪 JAX - The Sharp Bits 🔪](https://jax.readthedocs.io/en/latest/notebooks/Common_Gotchas_in_JAX.html))."
   ]
  },
  {
   "cell_type": "markdown",
   "metadata": {},
   "source": [
    "### Automatic Vectorization with vmap\n",
    "\n",
    "In machine learning, we often vectorize methods to efficiently process multiple inputs or batch elements at the same time. Usually, we have to write the code ourselves to support additional dimensions to vectorize over. However, since JAX can already transform functions to run efficiently on accelerators or calculate gradients, it can also automatically vectorize a function. For instance, let's consider a simple linear layer where we write a function for a single input `x` of shape `[c_in]`, a weight matrix `[c_in, c_out]`, and a bias vector `[c_out]`: "
   ]
  },
  {
   "cell_type": "code",
   "execution_count": 61,
   "metadata": {},
   "outputs": [],
   "source": [
    "def simple_linear(x, w, b):\n",
    "    # We could already vectorize this function with matmul, but as an example,\n",
    "    # let us use a non-vectorized function with same output\n",
    "    return (x[:,None] * w).sum(axis=0) + b"
   ]
  },
  {
   "cell_type": "code",
   "execution_count": 62,
   "metadata": {},
   "outputs": [
    {
     "data": {
      "text/plain": [
       "DeviceArray([-0.5393317,  1.4906642,  0.7108946], dtype=float32)"
      ]
     },
     "execution_count": 62,
     "metadata": {},
     "output_type": "execute_result"
    }
   ],
   "source": [
    "# Example inputs\n",
    "rng, x_rng, w_rng, b_rng = jax.random.split(rng, 4)\n",
    "x_in = jax.random.normal(x_rng, (4,))\n",
    "w_in = jax.random.normal(w_rng, (4, 3))\n",
    "b_in = jax.random.normal(b_rng, (3,))\n",
    "\n",
    "simple_linear(x_in, w_in, b_in)"
   ]
  },
  {
   "cell_type": "markdown",
   "metadata": {},
   "source": [
    "Now, we would like the function to support a batch dimension on `x`, i.e. `[batch, c_in]`. Our naive implementation above does not support this, since we specialzed the axis we sum over. So, let's make JAX do the work for us and vectorize the function by using `jax.vmap`:"
   ]
  },
  {
   "cell_type": "code",
   "execution_count": 63,
   "metadata": {},
   "outputs": [],
   "source": [
    "vectorized_linear = jax.vmap(simple_linear,\n",
    "                             in_axes=(0, None, None),  # Which axes to vectorize for each input\n",
    "                             out_axes=0  # Which axes to map to in the output\n",
    "                            )"
   ]
  },
  {
   "cell_type": "markdown",
   "metadata": {},
   "source": [
    "The function `vectorized_linear` now supports an extra batch dimension in `x`! Let's try it out:"
   ]
  },
  {
   "cell_type": "code",
   "execution_count": 64,
   "metadata": {},
   "outputs": [
    {
     "data": {
      "text/plain": [
       "DeviceArray([[-0.5393317,  1.4906642,  0.7108946],\n",
       "             [-0.5393317,  1.4906642,  0.7108946],\n",
       "             [-0.5393317,  1.4906642,  0.7108946],\n",
       "             [-0.5393317,  1.4906642,  0.7108946],\n",
       "             [-0.5393317,  1.4906642,  0.7108946]], dtype=float32)"
      ]
     },
     "execution_count": 64,
     "metadata": {},
     "output_type": "execute_result"
    }
   ],
   "source": [
    "x_vec_in = jnp.stack([x_in]*5, axis=0)\n",
    "\n",
    "vectorized_linear(x_vec_in, w_in, b_in)"
   ]
  },
  {
   "cell_type": "markdown",
   "metadata": {},
   "source": [
    "The new function indeed vectorized our code, calculating $N$ applications of the weights and bias to the input. We can also vectorize the code to run multiple inputs `x` on multiple weights `w` and biases `b` by changing the input argument `in_axes` to `(0, 0, 0)`, or simply `0`. Morever, we can again stack multiple function transformations, such as jitting a vectorized function. Further details on `jax.vmap` can be found in this [tutorial](\n",
    "https://jax.readthedocs.io/en/latest/jax-101/03-vectorization.html\n",
    ") and its [documentation](https://jax.readthedocs.io/en/latest/_autosummary/jax.vmap.html?highlight=vmap)."
   ]
  },
  {
   "cell_type": "markdown",
   "metadata": {},
   "source": [
    "### Parallel evaluation with pmap\n",
    "\n",
    "`jax.vmap` vectorizes a function on a single accelerator. But what if we have multiple GPUs or TPUs available? In PyTorch, we can parallelize a model over multiple GPUs using `nn.DistributedDataParallel`. In JAX, this is yet another function transformation: `jax.pmap`. Similar to `jax.vmap`, we can specify over which axes each input should be parallelized. In a network training, we usually want to parallelize over an extra batch dimension in the data, while the parameters are identical for all devices. For more details on `jax.pmap`, see [Parallel Evaluation in JAX](https://jax.readthedocs.io/en/latest/jax-101/06-parallelism.html)."
   ]
  },
  {
   "cell_type": "markdown",
   "metadata": {},
   "source": [
    "### Working with PyTrees\n",
    "\n",
    "Network parameters in Flax are stored in a PyTree. We have visited them before, but what we haven't discuss yet is JAX's utilities to operate on pytrees! One common application is to obtain a list of all parameters in the network. This corresponds to extracting all leafs from a PyTree, for which JAX provides the function `jax.tree_leaves`:"
   ]
  },
  {
   "cell_type": "code",
   "execution_count": 65,
   "metadata": {},
   "outputs": [
    {
     "name": "stdout",
     "output_type": "stream",
     "text": [
      "We have parameters with the following shapes: (8,), (2, 8), (1,), (8, 1)\n",
      "Overall parameter count: 33\n"
     ]
    }
   ],
   "source": [
    "parameters = jax.tree_leaves(model_state.params)\n",
    "print('We have parameters with the following shapes:', ', '.join([str(p.shape) for p in parameters]))\n",
    "print('Overall parameter count:', sum([np.prod(p.shape) for p in parameters]))"
   ]
  },
  {
   "cell_type": "markdown",
   "metadata": {},
   "source": [
    "We can also create new PyTrees that are the result of applying a function on all elements in the tree using `jax.tree_map`. For instance, let's obtain a PyTree with all parameter shapes:"
   ]
  },
  {
   "cell_type": "code",
   "execution_count": 66,
   "metadata": {},
   "outputs": [
    {
     "data": {
      "text/plain": [
       "FrozenDict({\n",
       "    params: {\n",
       "        linear1: {\n",
       "            bias: (8,),\n",
       "            kernel: (2, 8),\n",
       "        },\n",
       "        linear2: {\n",
       "            bias: (1,),\n",
       "            kernel: (8, 1),\n",
       "        },\n",
       "    },\n",
       "})"
      ]
     },
     "execution_count": 66,
     "metadata": {},
     "output_type": "execute_result"
    }
   ],
   "source": [
    "jax.tree_map(lambda p: p.shape, model_state.params)"
   ]
  },
  {
   "cell_type": "markdown",
   "metadata": {},
   "source": [
    "The nodes of PyTrees do not necessarily need to be NumPy or JAX arrays, but can be arbitrary objects. Overall, PyTrees provide a simple, structured representation of data useful in many applications. More details can be found in JAX's Tutorial [Working with PyTrees](https://jax.readthedocs.io/en/latest/jax-101/05.1-pytrees.html)."
   ]
  },
  {
   "cell_type": "markdown",
   "metadata": {},
   "source": [
    "## 🔪 The Sharp Bits 🔪\n",
    "\n",
    "Since JAX functions need to be written with certain constraints, there are situations where this can get annoying or difficult. A great overview of those, why they are needed, and most importantly, what to do about them, can be found in the original JAX tutorial [🔪 JAX - The Sharp Bits 🔪](https://jax.readthedocs.io/en/latest/notebooks/Common_Gotchas_in_JAX.html). In this final section of the tutorial, we want to visit a few of those points we have not explicitly discussed yet. Furthermore, we also focus on the combination with Flax, and what can be annoying when training models."
   ]
  },
  {
   "cell_type": "markdown",
   "metadata": {},
   "source": [
    "### Dynamic shapes\n",
    "\n",
    "JAX has the great advantage of providing just-in-time compilation of functions to speed up the computation. For this, it uses its intermediate representation jaxpr, which is specialized to the shapes of the input arguments. However, this also means that a jitted function is specialized to a certain shape, and running the jitted function with a different input shape requires recompiling the function. For instance, consider the following simple function:"
   ]
  },
  {
   "cell_type": "code",
   "execution_count": 67,
   "metadata": {},
   "outputs": [],
   "source": [
    "def my_function(x):\n",
    "    print('Running the function with shape', x.shape)\n",
    "    return x.mean()\n",
    "\n",
    "jitted_function = jax.jit(my_function)"
   ]
  },
  {
   "cell_type": "markdown",
   "metadata": {},
   "source": [
    "The print statement is only executed once when the function is compiled, and for all consecutive function calls, this print statement will be ignored since it is not part of the jaxpr representation. Let's run the function now with multiple different input shapes:"
   ]
  },
  {
   "cell_type": "code",
   "execution_count": 68,
   "metadata": {},
   "outputs": [
    {
     "name": "stdout",
     "output_type": "stream",
     "text": [
      "Running the function with shape (1,)\n",
      "Running the function with shape (2,)\n",
      "Running the function with shape (3,)\n",
      "Running the function with shape (4,)\n",
      "Running the function with shape (5,)\n",
      "Running the function with shape (6,)\n",
      "Running the function with shape (7,)\n",
      "Running the function with shape (8,)\n",
      "Running the function with shape (9,)\n",
      "Running the function with shape (10,)\n"
     ]
    }
   ],
   "source": [
    "for i in range(10):\n",
    "    jitted_function(jnp.zeros(i+1,))"
   ]
  },
  {
   "cell_type": "markdown",
   "metadata": {},
   "source": [
    "As we can see, the function is compiled for every different input we give it. This can become inefficient if we actually work with many different shapes. However, running the function again with one of the previous input shapes will not require another compilation:"
   ]
  },
  {
   "cell_type": "code",
   "execution_count": 69,
   "metadata": {},
   "outputs": [],
   "source": [
    "# Running the functions a second time will not print out anything since\n",
    "# the functions are already jitted for the respective input shapes.\n",
    "for i in range(10):\n",
    "    jitted_function(jnp.zeros(i+1,))"
   ]
  },
  {
   "cell_type": "markdown",
   "metadata": {},
   "source": [
    "If we have a very limited set of different shapes, we do not see a big performance difference. For instance, in our evaluation, the last batch size is smaller than the previous since we have a limited size of the evaluation dataset. However, for other applications, we might encounter this problem much more often: NLP and time series, and graphs. In these cases, it is recommend to pad the batches to prevent many re-compilations (see Flax's [padding guide](https://flax.readthedocs.io/en/latest/howtos/full_eval.html) for details). We briefly review the two scenarios below.\n",
    "\n",
    "#### NLP and time series\n",
    "\n",
    "In Natural Language Processing, our data consist of sentences which greatly vary in size. Already for batching the elements, we need to apply padding, such that the shape of the batch is determined by the largest sentence in the batch. However, this largest length can vary between batches, especially when we shuffle the dataset before each epoch. In PyTorch, this is not a problem since the dynamic computation graph allows us to stop the computation whenever we need to. In contrast, JAX would need to recompile the forward pass for every single largest sentence length, which can quickly become very expensive. Padding is needed to reduce the number of compilations, but at the same time introduces unnecessary computation. Hence, we have a tradeoff between number of compilations and extra compute per batch. In the extreme case, PyTorch may even become faster than JAX here.\n",
    "\n",
    "#### Graphs\n",
    "\n",
    "Similar to NLP, graphs can vary in their size. Often, graphs differ in their number of nodes, but especially in the number of edges. Furthermore, when we start batching the graphs, the variation of node sizes and edge count considerably increases. Again, padding is needed to reduce the number of compilations, and we will revisit this topic in Tutorial 7 (TBD)."
   ]
  },
  {
   "cell_type": "markdown",
   "metadata": {},
   "source": [
    "### Debugging in jitted functions\n",
    "\n",
    "During coding, we likely want to debug our model and sometimes print out intermediate values. In JAX, when jitting functions, this is not as straightforward. As we could see from the previous cells, a print statement is only executed once during compilation, and afterwards removed since it is not part of the jaxpr representation. Furthermore, there can be issues when tracking NaNs in your code (see the [sharp bits tutorial](https://jax.readthedocs.io/en/latest/notebooks/Common_Gotchas_in_JAX.html#debugging-nans)), and errors like out-of-bounds indexing are silently handled on accelerators by returning -1 instead of an error (see the corresponding section in the [sharp bits tutorial](https://jax.readthedocs.io/en/latest/notebooks/Common_Gotchas_in_JAX.html#out-of-bounds-indexing)). However, if necessary, one can either run the unjitted version of the forward pass first, and even introduce print statements to the jitted version where needed (see [here](https://github.com/google/jax/issues/196) for a great explanation). Still, it is not as straight-forward as in PyTorch, for example."
   ]
  },
  {
   "cell_type": "markdown",
   "metadata": {},
   "source": [
    "### Modules with different train and evaluation functions\n",
    "\n",
    "Certain deep learning layers have different behaviors under evaluation than during training. For instance, dropout randomly masks out a number of neurons during training, but leaves the graph untouched during evaluation. In PyTorch, we can easily switch between the two states via `model.train()` and `model.eval()` without having to manually specify it in the dropout module instance. However, in JAX, we do not have global states in the model, and thus need to pass this information to every module in the forward pass that may need it. In our example above, this was not needed since the forward pass of the simple classifier is identical during training and evaluation. Alternatively, since the parameters are not bound to a specific model during training, one can also create two models: one training model, and one evaluation model. Nonetheless, one still needs to add the information to every module with changing behaviors, which adds a certain overhead compared to PyTorch. We will discuss two common modules with such behaviors below: dropout and BatchNorm."
   ]
  },
  {
   "cell_type": "markdown",
   "metadata": {},
   "source": [
    "#### Dropout\n",
    "\n",
    "In Flax, [Dropout](https://flax.readthedocs.io/en/latest/_autosummary/flax.linen.Dropout.html) has an argument `deterministic` which turns off dropout when True, and otherwise applies the random masking as intended during training. This deterministic switch can either be defined in the constructor, or in every forward call. Furthermore, dropout has the special case that it is a random operation during training, meaning that it also needs a PRNG state. Fortunately, we do not have to pass this state in every PRNG state, but instead, can simply pass `rngs={'dropout': dropout_rng}` with `dropout_rng` being the PRNG state. For an example, see our [Tutorial 6](https://uvadlc-notebooks.readthedocs.io/en/latest/tutorial_notebooks/JAX/tutorial6/Transformers_and_MHAttention.html) on Transformers in which we use dropout in several occasions."
   ]
  },
  {
   "cell_type": "markdown",
   "metadata": {},
   "source": [
    "#### BatchNorm\n",
    "\n",
    "Batch Normalization transforms the input in two different ways. During training, we determine the mean and standard deviation of the input, and normalize the data with it to a zero mean and standard deviation of one. During evaluation, on the other hand, we take a running statistic over the previous several batches, and use those to estimate the mean and standard deviation. This is necessary to keep the evaluation stable and invariant to the specific batches we choose. Still, in the Flax module ([documentation](https://flax.readthedocs.io/en/latest/_autosummary/flax.linen.BatchNorm.html)), we need to give the argument `use_running_average` (bool) to either the constructor or each forward pass. Furthermore, BatchNorm has a specific property we haven't discussed yet and is a bit tricky in JAX: keeping track of the running average. During every forward pass, we want to record the mean and standard deviation of the current batch, and update our current average over the past batches. However, this requires changing an input tensor, and returning this changed tensor again. In Flax, we can do this by defining the batch statistics as a mutable tensor. Check out our [Tutorial 5](https://uvadlc-notebooks.readthedocs.io/en/latest/tutorial_notebooks/JAX/tutorial5/Inception_ResNet_DenseNet.html) to see BatchNorm being used in practice with Flax."
   ]
  },
  {
   "cell_type": "markdown",
   "metadata": {},
   "source": [
    "---\n",
    "\n",
    "[![Star our repository](https://img.shields.io/static/v1.svg?logo=star&label=⭐&message=Star%20Our%20Repository&color=yellow)](https://github.com/phlippe/uvadlc_notebooks/)  If you found this tutorial helpful, consider ⭐-ing our repository.    \n",
    "[![Ask questions](https://img.shields.io/static/v1.svg?logo=star&label=❔&message=Ask%20Questions&color=9cf)](https://github.com/phlippe/uvadlc_notebooks/issues)  For any questions, typos, or bugs that you found, please raise an issue on GitHub. \n",
    "\n",
    "---"
   ]
  }
 ],
 "metadata": {
  "kernelspec": {
   "display_name": "Python 3",
   "language": "python",
   "name": "python3"
  },
  "language_info": {
   "codemirror_mode": {
    "name": "ipython",
    "version": 3
   },
   "file_extension": ".py",
   "mimetype": "text/x-python",
   "name": "python",
   "nbconvert_exporter": "python",
   "pygments_lexer": "ipython3",
   "version": "3.7.9"
  }
 },
 "nbformat": 4,
 "nbformat_minor": 4
}
