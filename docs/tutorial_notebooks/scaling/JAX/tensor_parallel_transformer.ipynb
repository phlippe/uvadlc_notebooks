{
 "cells": [
  {
   "attachments": {},
   "cell_type": "markdown",
   "metadata": {},
   "source": [
    "# Part 4.3: Transformers with Tensor Parallelism\n",
    "\n",
    "**Filled notebook:** \n",
    "[![View filled on Github](https://img.shields.io/static/v1.svg?logo=github&label=Repo&message=View%20On%20Github&color=lightgrey)](https://github.com/phlippe/uvadlc_notebooks/blob/master/docs/tutorial_notebooks/scaling/JAX/tensor_parallel_transformer.ipynb)\n",
    "[![Open filled In Collab](https://colab.research.google.com/assets/colab-badge.svg)](https://colab.research.google.com/github/phlippe/uvadlc_notebooks/blob/master/docs/tutorial_notebooks/scaling/JAX/tensor_parallel_transformer.ipynb)   \n",
    "\n",
    "**Author:** [Phillip Lippe](https://phlippe.github.io/)"
   ]
  },
  {
   "cell_type": "markdown",
   "metadata": {},
   "source": [
    "In the previous two parts on tensor parallelism, we have seen how to parallelize simple models across multiple GPUs. In this part, we will see how to parallelize a transformer model across multiple GPUs. Transformer models are a common use case for tensor parallelism, as they are widely used in large-scale models for natural language processing and computer vision. For instance, it is the key architecture in [GPT-4](https://arxiv.org/abs/2303.08774), [Gemini](https://arxiv.org/abs/2312.11805), [PALM](https://arxiv.org/abs/2305.10403), and [ViT-22b](https://arxiv.org/abs/2302.05442). Hence, we will review the specific challenges of parallelizing transformers, how to address them, and how to maximize the efficiency of the parallelization. In the end, we will profile a 1-billion parameter model on 8 GPUs and discuss potential bottlenecks remaining."
   ]
  },
  {
   "cell_type": "markdown",
   "metadata": {},
   "source": [
    "## Prerequisites\n",
    "\n",
    "First, let's start with setting up the basic environment and utility functions we have seen from previous notebooks. We download the python scripts of the previous notebooks below. This is only needed when running on Google Colab, and local execution will skip this step automatically."
   ]
  },
  {
   "cell_type": "code",
   "execution_count": 1,
   "metadata": {},
   "outputs": [],
   "source": [
    "import os\n",
    "import urllib.request\n",
    "from urllib.error import HTTPError\n",
    "\n",
    "# Github URL where python scripts are stored.\n",
    "base_url = \"https://raw.githubusercontent.com/phlippe/uvadlc_notebooks/master/docs/tutorial_notebooks/scaling/JAX/\"\n",
    "# Files to download.\n",
    "python_files = [\n",
    "    \"single_gpu.py\",\n",
    "    \"data_parallel.py\",\n",
    "    \"pipeline_parallel.py\",\n",
    "    \"tensor_parallel.py\",\n",
    "    \"tensor_parallel_async.py\",\n",
    "    \"utils.py\",\n",
    "]\n",
    "# For each file, check whether it already exists. If not, try downloading it.\n",
    "for file_name in python_files:\n",
    "    if not os.path.isfile(file_name):\n",
    "        file_url = base_url + file_name\n",
    "        print(f\"Downloading {file_url}...\")\n",
    "        try:\n",
    "            urllib.request.urlretrieve(file_url, file_name)\n",
    "        except HTTPError as e:\n",
    "            print(\n",
    "                \"Something went wrong. Please try to download the file directly from the GitHub repository, or contact the author with the full output including the following error:\\n\",\n",
    "                e,\n",
    "            )"
   ]
  },
  {
   "cell_type": "markdown",
   "metadata": {},
   "source": [
    "As before, we simulate 8 devices on CPU to demonstrate the parallelism without the need for multiple GPUs or TPUs. If you are running on your local machine and have multiple GPUs available, you can comment out the lines below."
   ]
  },
  {
   "cell_type": "code",
   "execution_count": 2,
   "metadata": {},
   "outputs": [],
   "source": [
    "from utils import simulate_CPU_devices\n",
    "\n",
    "simulate_CPU_devices()"
   ]
  },
  {
   "cell_type": "markdown",
   "metadata": {},
   "source": [
    "We now import our standard libraries."
   ]
  },
  {
   "cell_type": "code",
   "execution_count": 3,
   "metadata": {},
   "outputs": [],
   "source": [
    "import functools\n",
    "from pprint import pprint\n",
    "from typing import Any, Callable, Dict, Tuple\n",
    "\n",
    "import flax.linen as nn\n",
    "import jax\n",
    "import jax.numpy as jnp\n",
    "import numpy as np\n",
    "import optax\n",
    "from jax.experimental.shard_map import shard_map\n",
    "from jax.sharding import Mesh\n",
    "from jax.sharding import PartitionSpec as P\n",
    "from ml_collections import ConfigDict\n",
    "from tqdm.auto import tqdm\n",
    "\n",
    "PyTree = Any\n",
    "Parameter = jax.Array | nn.Partitioned\n",
    "Metrics = Dict[str, Tuple[jax.Array, ...]]"
   ]
  },
  {
   "cell_type": "markdown",
   "metadata": {},
   "source": [
    "We also import the utility functions from the previous notebooks. Our notebook will rely on the `ModelParallelismWrapper` from the pipeline parallelism notebook. If you are not familiar with it, it is recommended to look at the implementation of this module before continuing."
   ]
  },
  {
   "cell_type": "code",
   "execution_count": 4,
   "metadata": {},
   "outputs": [],
   "source": [
    "from data_parallel import fold_rng_over_axis, shard_module_params\n",
    "from pipeline_parallel import ModelParallelismWrapper\n",
    "from single_gpu import Batch, TrainState, get_num_params, print_metrics\n",
    "from tensor_parallel import MLPBlockInput, MLPBlockOutput, train_step_tp\n",
    "from tensor_parallel_async import TPAsyncDense, TPAsyncMLPBlock, TPNorm"
   ]
  },
  {
   "cell_type": "markdown",
   "metadata": {},
   "source": [
    "## Tensor Parallelism in Transformer Models\n",
    "\n",
    "In this section, we will implement a transformer model with tensor parallelism and fully-sharded data parallelism. We will use the same async linear layer as before, but extend it to the full transformer model, including the attention layers. In that, we show common implementation strategies in tensor parallelism for transformers specifically."
   ]
  },
  {
   "cell_type": "markdown",
   "metadata": {},
   "source": [
    "### Attention Layer\n",
    "\n",
    "The attention layer is the key component of the transformer model, and is used to model the interactions between different input tokens. It consists of a query, key, and value projection, followed by a scaled dot-product attention, and a final linear layer. The computation graph of the attention layer is visualized below (figure credit - [Vaswani et al., 2017](https://arxiv.org/abs/1706.03762)).\n",
    "\n",
    "<center width=\"100%\" style=\"padding: 10px\"><img src=\"../figures/tensor_multihead_attention.svg\" width=\"300px\"></center>\n",
    "\n",
    "Splitting the query, key and value over hidden dimension would require several communications between devices, since all hidden dimensions are needed for calculating the attention scores. This would be inefficient, and we would like to avoid it if possible. Instead, we can exploit another key aspect of the attention layers in transformer models: multi-head attention. In multi-head attention, we project the input features into multiple heads, and perform the attention computation independently on each head. We then concatenate the outputs of each head, and project the concatenated output back to the original feature size. To reduce communication, we therefore split the attention calculation over the heads across devices, and only need to communicate the original input and the output of the individual heads. This becomes very similar to the MLP block we implemented earlier, and we can use the same async linear layers to implement the attention layer.\n",
    "\n",
    "Let's start with implementing the input layer. We first need to project the input features into the query, key, and value space, which we do with individual linear layer. The `DenseGeneral` layer allows us to directly output the reshaped array of `[..., num_heads, head_dim]` instead of a manual reshape. Following PALM and ViT-22b, we do not apply a bias term to the projection layers. Further, the ViT-22b model normalizes the query and key features before the attention computation. This prevents instability at large scale where the attention logits can become very large and cause a close-to one-hot attention distribution very early in the training. We adopt this normalization in our implementation below."
   ]
  },
  {
   "cell_type": "code",
   "execution_count": 5,
   "metadata": {},
   "outputs": [],
   "source": [
    "class QKVDense(nn.Module):\n",
    "    config: ConfigDict\n",
    "    num_heads: int\n",
    "    head_dim: int\n",
    "    kernel_init: Callable\n",
    "    use_bias: bool = False\n",
    "\n",
    "    @nn.compact\n",
    "    def __call__(self, x: jax.Array) -> Tuple[jax.Array, jax.Array, jax.Array]:\n",
    "        q = nn.DenseGeneral(\n",
    "            (self.num_heads, self.head_dim),\n",
    "            kernel_init=self.kernel_init,\n",
    "            use_bias=False,\n",
    "            dtype=self.config.dtype,\n",
    "            name=\"query\",\n",
    "        )(x)\n",
    "        k = nn.DenseGeneral(\n",
    "            (self.num_heads, self.head_dim),\n",
    "            kernel_init=self.kernel_init,\n",
    "            use_bias=False,\n",
    "            dtype=self.config.dtype,\n",
    "            name=\"key\",\n",
    "        )(x)\n",
    "        v = nn.DenseGeneral(\n",
    "            (self.num_heads, self.head_dim),\n",
    "            kernel_init=self.kernel_init,\n",
    "            use_bias=False,\n",
    "            dtype=self.config.dtype,\n",
    "            name=\"value\",\n",
    "        )(x)\n",
    "\n",
    "        if self.config.normalize_qk:\n",
    "            q = nn.RMSNorm(\n",
    "                dtype=self.config.dtype,\n",
    "                name=\"query_norm\",\n",
    "            )(q)\n",
    "            k = nn.RMSNorm(\n",
    "                dtype=self.config.dtype,\n",
    "                name=\"key_norm\",\n",
    "            )(k)\n",
    "        return q, k, v"
   ]
  },
  {
   "cell_type": "markdown",
   "metadata": {},
   "source": [
    "Since each device will calculate an independent set of heads, the dot product attention does not need to parallelized. Instead, we can simply reuse our implementation from the first notebook for single-GPU usage, where we adjusted the attention calculation to higher precision for numerical stability of the attention softmax."
   ]
  },
  {
   "cell_type": "code",
   "execution_count": 6,
   "metadata": {},
   "outputs": [],
   "source": [
    "def dot_product_attention(\n",
    "    query: jax.Array,\n",
    "    key: jax.Array,\n",
    "    value: jax.Array,\n",
    "    mask: jax.Array | None,\n",
    "    softmax_dtype: jnp.dtype = jnp.float32,\n",
    "):\n",
    "    \"\"\"Dot-product attention.\n",
    "\n",
    "    Follows the setup of https://flax.readthedocs.io/en/latest/api_reference/flax.linen/layers.html#flax.linen.dot_product_attention,\n",
    "    but supports switch to float32 for numerical stability during softmax.\n",
    "\n",
    "    Args:\n",
    "        query: The query array, shape [..., num queries, num heads, hidden size].\n",
    "        key: The key array, shape [..., num keys, num heads, hidden size].\n",
    "        value: The value array, shape [..., num keys, num heads, hidden size].\n",
    "        mask: The boolean mask array (0 for masked values, 1 for non-masked). If None, no masking is applied.\n",
    "        softmax_dtype: The dtype to use for the softmax operation.\n",
    "\n",
    "    Returns:\n",
    "        The attention output array, shape [..., num queries, num heads, hidden size].\n",
    "    \"\"\"\n",
    "    num_features = query.shape[-1]\n",
    "    dtype = query.dtype\n",
    "    scale = num_features**-0.5\n",
    "    query = query * scale\n",
    "    # Switch dtype right before the dot-product for numerical stability.\n",
    "    query = query.astype(softmax_dtype)\n",
    "    key = key.astype(softmax_dtype)\n",
    "    weights = jnp.einsum(\"...qhd,...khd->...hqk\", query, key)\n",
    "    if mask is not None:\n",
    "        weights = jnp.where(mask, weights, jnp.finfo(softmax_dtype).min)\n",
    "    weights = nn.softmax(weights, axis=-1)\n",
    "    # After softmax, switch back to the original dtype\n",
    "    weights = weights.astype(dtype)\n",
    "    new_vals = jnp.einsum(\"...hqk,...khd->...qhd\", weights, value)\n",
    "    new_vals = new_vals.astype(dtype)\n",
    "    return new_vals"
   ]
  },
  {
   "cell_type": "markdown",
   "metadata": {},
   "source": [
    "Finally, we apply the output layer, which is a linear layer with the same feature size as the input. Since the input will be a tensor of shape `[..., num_heads, head_dim]`, we apply the dense layer to the last two axis. This is equivalent to flattening the array over the last two dimensions before applying the dense layer."
   ]
  },
  {
   "cell_type": "code",
   "execution_count": 7,
   "metadata": {},
   "outputs": [],
   "source": [
    "class AttnOut(nn.Module):\n",
    "    config: ConfigDict\n",
    "    features: int\n",
    "    kernel_init: Callable = nn.initializers.lecun_normal()\n",
    "    use_bias: bool = True\n",
    "\n",
    "    @nn.compact\n",
    "    def __call__(self, x: jax.Array) -> jax.Array:\n",
    "        x = nn.DenseGeneral(\n",
    "            features=self.features,\n",
    "            axis=(-2, -1),\n",
    "            kernel_init=self.kernel_init,\n",
    "            use_bias=self.use_bias,\n",
    "            dtype=self.config.dtype,\n",
    "            name=\"out\",\n",
    "        )(x)\n",
    "        return x"
   ]
  },
  {
   "cell_type": "markdown",
   "metadata": {},
   "source": [
    "With these submodules in place, we can combine them to a full tensor-parallel attention layer. We first apply a normalization layer to the input, and then wrap the qkv input layer in an async dense layer. Each module application calculates all three q, k, and v arrays while only requiring a single communication of the input features, which is more efficient than using three separate async dense layers for the three outputs. Each device will calculate an independent set of heads, such that we split the dense layers over heads. We then apply the dot-product attention, which is done independently on each device. Finally, we apply the output layer, which is an async dense layer with the scatter strategy, as in the MLP block."
   ]
  },
  {
   "cell_type": "code",
   "execution_count": 8,
   "metadata": {},
   "outputs": [],
   "source": [
    "class TPMultiHeadAttn(nn.Module):\n",
    "    config: ConfigDict\n",
    "    train: bool\n",
    "    mask: jax.Array | None = None\n",
    "\n",
    "    @nn.compact\n",
    "    def __call__(self, x: jax.Array) -> jax.Array:\n",
    "        tp_size = jax.lax.psum(1, self.config.model_axis_name)\n",
    "        input_features = x.shape[-1]\n",
    "        head_dim = self.config.head_dim\n",
    "        num_heads = self.config.num_heads\n",
    "        # Normalize across devices before the input layer.\n",
    "        x = TPNorm(config=self.config, name=\"pre_norm\")(x)\n",
    "        # Calculate Q, K, V using async dense layers.\n",
    "        q, k, v = TPAsyncDense(\n",
    "            dense_fn=functools.partial(\n",
    "                QKVDense,\n",
    "                config=self.config,\n",
    "                num_heads=num_heads // tp_size,\n",
    "                head_dim=head_dim,\n",
    "            ),\n",
    "            model_axis_name=self.config.model_axis_name,\n",
    "            tp_mode=\"gather\",\n",
    "            kernel_init_adjustment=tp_size**-0.5,\n",
    "            name=\"qkv\",\n",
    "        )(x)\n",
    "        # Attention calculation.\n",
    "        x = dot_product_attention(q, k, v, self.mask)\n",
    "        # Output layer with async scatter.\n",
    "        x = TPAsyncDense(\n",
    "            dense_fn=functools.partial(\n",
    "                AttnOut,\n",
    "                config=self.config,\n",
    "                features=input_features,\n",
    "            ),\n",
    "            model_axis_name=self.config.model_axis_name,\n",
    "            tp_mode=\"scatter\",\n",
    "            kernel_init_adjustment=tp_size**-0.5,\n",
    "            name=\"out\",\n",
    "        )(x)\n",
    "        return x"
   ]
  },
  {
   "cell_type": "markdown",
   "metadata": {},
   "source": [
    "### Transformer Block\n",
    "\n",
    "With both the attention and MLP block implemented, we can now combine them to a full transformer block. As seen in our earlier notebooks, we may want to remat individual blocks to reduce the memory footprint, as well as shard the parameters across the data axis. We can do this by wrapping the attention and MLP block in a `remat` and `shard_module_params` function, respectively. We do this below, and will specify our intended strategy in the config."
   ]
  },
  {
   "cell_type": "code",
   "execution_count": 9,
   "metadata": {},
   "outputs": [],
   "source": [
    "def prepare_module(\n",
    "    layer: Callable[..., nn.Module], layer_name: str, config: ConfigDict\n",
    ") -> Callable[..., nn.Module]:\n",
    "    \"\"\"Remats and shards layer if needed.\n",
    "\n",
    "    This function wraps the layer function in a remat and/or sharding function if its layer name is present in the remat and fsdp configuration, respectively.\n",
    "\n",
    "    Args:\n",
    "        layer: The layer to prepare.\n",
    "        layer_name: The name of the layer.\n",
    "        config: The configuration to use.\n",
    "\n",
    "    Returns:\n",
    "        The layer with remat and sharding applied if needed.\n",
    "    \"\"\"\n",
    "    # Shard parameters over model axis. Performed before remat, such that the gathered parameters would not be kept under remat.\n",
    "    if config.get(\"fsdp\", None) is not None and layer_name in config.fsdp.modules:\n",
    "        layer = shard_module_params(\n",
    "            layer, axis_name=config.data_axis_name, min_weight_size=config.fsdp.min_weight_size\n",
    "        )\n",
    "    if config.get(\"remat\", None) is not None and layer_name in config.remat:\n",
    "        layer = nn.remat(layer, prevent_cse=False)\n",
    "    return layer"
   ]
  },
  {
   "cell_type": "markdown",
   "metadata": {},
   "source": [
    "We use this wrapper to define the full transformer block below. On an input `x`, we first apply an attention layer, and then apply a feed-forward layer. The implementation is the same as for the single device case, just that we use tensor-parallel block versions for the attention and MLP block."
   ]
  },
  {
   "cell_type": "code",
   "execution_count": 10,
   "metadata": {},
   "outputs": [],
   "source": [
    "class TPTransformerBlock(nn.Module):\n",
    "    config: ConfigDict\n",
    "    train: bool\n",
    "    mask: jax.Array | None = None\n",
    "\n",
    "    @nn.compact\n",
    "    def __call__(self, x: jax.Array) -> jax.Array:\n",
    "        # Attention layer\n",
    "        attn_layer = prepare_module(TPMultiHeadAttn, \"Attn\", self.config)\n",
    "        attn_out = attn_layer(\n",
    "            config=self.config,\n",
    "            train=self.train,\n",
    "            mask=self.mask,\n",
    "            name=\"attn\",\n",
    "        )(x)\n",
    "        attn_out = nn.Dropout(rate=self.config.dropout_rate, deterministic=not self.train)(\n",
    "            attn_out\n",
    "        )\n",
    "        x = x + attn_out\n",
    "        # MLP layer\n",
    "        mlp_layer = prepare_module(TPAsyncMLPBlock, \"MLP\", self.config)\n",
    "        mlp_out = mlp_layer(\n",
    "            config=self.config,\n",
    "            train=self.train,\n",
    "            name=\"mlp\",\n",
    "        )(x)\n",
    "        mlp_out = nn.Dropout(rate=self.config.dropout_rate, deterministic=not self.train)(mlp_out)\n",
    "        x = x + mlp_out\n",
    "        return x"
   ]
  },
  {
   "cell_type": "markdown",
   "metadata": {},
   "source": [
    "### Parallel Blocks\n",
    "\n",
    "To optimize the efficiency of our model on a large device mesh, we may also consider changing the architecture to further increase the overlap of communication and computation. For instance, a common efficiency trick introduced in [Wang and Komatsuzaki, 2021](https://github.com/kingoflolz/mesh-transformer-jax) is to parallelize the attention and MLP block, as shown below in the ViT-22b (figure credit: [Dehghani et al., 2023](https://arxiv.org/abs/2302.05442)).\n",
    "\n",
    "<center width=\"100%\" style=\"padding: 10px\"><img src=\"../figures/tensor_transformer_parallel_block.svg\" width=\"600px\"></center>\n",
    "\n",
    "The attention and the MLP work on the same input, and we follow them on two separate computation paths before combining them in the end. The main benefit of this parallelization is that we only need to communicate the input $x$ once and can then perform the attention and the MLP block independently. Furthermore, only one normalization layer with blocking communication is needed, and we can reuse the same normalized values for both paths.\n",
    "\n",
    "One should note though, by changing the architecture, we may also influence the expressiveness of the model. For instance, the attention and the MLP block may not be able to interact with each other as closely as in the sequential version. For small models, this can have a significant impact on the model's performance. However, for large models, the impact is usually much less significant since we have a lot of sequential layers (often well more than 20), and the parallelized version can be more efficient.\n",
    "\n",
    "Implementing the parallel block only requires minor changes to our current implementation and combine the two paths in the individual blocks. We start with implementing the input layer, which simply calls the `MLPBlockInput` and the `QKVDense` on the same input."
   ]
  },
  {
   "cell_type": "code",
   "execution_count": 11,
   "metadata": {},
   "outputs": [],
   "source": [
    "class QKVMLPDense(nn.Module):\n",
    "    config: ConfigDict\n",
    "    num_heads: int\n",
    "    head_dim: int\n",
    "    mlp_dim: int\n",
    "    kernel_init: Callable\n",
    "    use_bias: bool = False\n",
    "\n",
    "    @nn.compact\n",
    "    def __call__(self, x: jax.Array) -> Tuple[jax.Array, Tuple[jax.Array, jax.Array, jax.Array]]:\n",
    "        h = MLPBlockInput(\n",
    "            config=self.config,\n",
    "            features=self.mlp_dim,\n",
    "            kernel_init=self.kernel_init,\n",
    "            use_bias=self.use_bias,\n",
    "            use_norm=False,\n",
    "            name=\"mlp\",\n",
    "        )(x)\n",
    "        q, k, v = QKVDense(\n",
    "            config=self.config,\n",
    "            num_heads=self.num_heads,\n",
    "            head_dim=self.head_dim,\n",
    "            kernel_init=self.kernel_init,\n",
    "            use_bias=self.use_bias,\n",
    "            name=\"qkv\",\n",
    "        )(x)\n",
    "        return h, (q, k, v)"
   ]
  },
  {
   "cell_type": "markdown",
   "metadata": {},
   "source": [
    "In the output layer, we perform the same combination of layers. Taking two inputs, we apply the `MLPBlockOutput` and the `OutputDense` on their respective inputs. Since both share the same communication pattern, we can use the same async scatter strategy for both and make better use of the communication bandwidth."
   ]
  },
  {
   "cell_type": "code",
   "execution_count": 12,
   "metadata": {},
   "outputs": [],
   "source": [
    "class AttnMLPOut(nn.Module):\n",
    "    config: ConfigDict\n",
    "    features: int\n",
    "    kernel_init: Callable = nn.initializers.lecun_normal()\n",
    "    use_bias: bool = True\n",
    "\n",
    "    @nn.compact\n",
    "    def __call__(self, x: Tuple[jax.Array, jax.Array]) -> jax.Array:\n",
    "        mlp_h, attn_v = x\n",
    "        mlp_out = MLPBlockOutput(\n",
    "            config=self.config,\n",
    "            features=self.features,\n",
    "            kernel_init=self.kernel_init,\n",
    "            use_bias=self.use_bias,\n",
    "            name=\"mlp\",\n",
    "        )(mlp_h)\n",
    "        attn_out = AttnOut(\n",
    "            config=self.config,\n",
    "            features=self.features,\n",
    "            kernel_init=self.kernel_init,\n",
    "            use_bias=self.use_bias,\n",
    "            name=\"attn\",\n",
    "        )(attn_v)\n",
    "        out = mlp_out + attn_out\n",
    "        return out"
   ]
  },
  {
   "cell_type": "markdown",
   "metadata": {},
   "source": [
    "Let's combine the input and output layer to the full parallel block below. We start with normalizing the input $x$, which only has to be done once for the whole block. We then apply the input layer with an async gather strategy, and the attention layer on the qkv outputs. Then, we apply the output layer with an async scatter strategy, apply dropout to the two outputs. Finally, we combine all outputs, leading to the final output of the parallel block."
   ]
  },
  {
   "cell_type": "code",
   "execution_count": 13,
   "metadata": {},
   "outputs": [],
   "source": [
    "class TPTransformerParallelBlock(nn.Module):\n",
    "    config: ConfigDict\n",
    "    train: bool\n",
    "    mask: jax.Array | None = None\n",
    "\n",
    "    @nn.compact\n",
    "    def __call__(self, x: jax.Array) -> jax.Array:\n",
    "        tp_size = jax.lax.psum(1, self.config.model_axis_name)\n",
    "        input_features = x.shape[-1]\n",
    "        residual = x\n",
    "        # Normalize across devices before the input layer.\n",
    "        x = TPNorm(config=self.config, name=\"pre_norm\")(x)\n",
    "        # Calculate MLP hidden and q, k, v using async dense layers.\n",
    "        h, (q, k, v) = TPAsyncDense(\n",
    "            dense_fn=functools.partial(\n",
    "                QKVMLPDense,\n",
    "                config=self.config,\n",
    "                num_heads=self.config.num_heads // tp_size,\n",
    "                head_dim=self.config.head_dim,\n",
    "                mlp_dim=self.config.hidden_size * self.config.mlp_expansion // tp_size,\n",
    "            ),\n",
    "            model_axis_name=self.config.model_axis_name,\n",
    "            tp_mode=\"gather\",\n",
    "            kernel_init_adjustment=tp_size**-0.5,\n",
    "            name=\"hqkv\",\n",
    "        )(x)\n",
    "        # Attention calculation.\n",
    "        v = dot_product_attention(q, k, v, self.mask)\n",
    "        # MLP and attention layer with async scatter.\n",
    "        block_out = TPAsyncDense(\n",
    "            dense_fn=functools.partial(\n",
    "                AttnMLPOut,\n",
    "                config=self.config,\n",
    "                features=input_features,\n",
    "            ),\n",
    "            model_axis_name=self.config.model_axis_name,\n",
    "            tp_mode=\"scatter\",\n",
    "            kernel_init_adjustment=tp_size**-0.5,\n",
    "            name=\"out\",\n",
    "        )((h, v))\n",
    "        # Apply dropout and add residual.\n",
    "        block_out = nn.Dropout(rate=self.config.dropout_rate, deterministic=not self.train)(\n",
    "            block_out\n",
    "        )\n",
    "        out = residual + block_out\n",
    "        return out"
   ]
  },
  {
   "cell_type": "markdown",
   "metadata": {},
   "source": [
    "Both blocks can be used in the transformer model, and we may select the block type based on the size of the model, computation cost, expressiveness, and other factors. For the example in this notebook, we will use the parallel block."
   ]
  },
  {
   "cell_type": "markdown",
   "metadata": {},
   "source": [
    "### Full Model\n",
    "\n",
    "We can now combine the parallel block to a full transformer model. We will use the same config as before, and allow for wrapping the whole block in a `remat` and `shard_module_params` function to optimize the memory footprint and parameter sharding. Note that we usually only want to remat and shard parameters in either the internal modules or the full model, but not both (especially the module sharding only works once). For the parallel version, since both internal modules are applied at the same time, we would remat and shard the whole block. For a more aggressive remat strategy, we could also apply a `nn.remat_scan` and keep the output of only every second block, which would reduce the memory footprint further, but considerably increases computation time. Hence, we stick with the per-module remat strategy in this notebook."
   ]
  },
  {
   "cell_type": "code",
   "execution_count": 14,
   "metadata": {},
   "outputs": [],
   "source": [
    "class TransformerBackbone(nn.Module):\n",
    "    config: ConfigDict\n",
    "    train: bool\n",
    "    mask: jax.Array | None = None\n",
    "    block_fn: Any = TPTransformerBlock\n",
    "\n",
    "    @nn.compact\n",
    "    def __call__(self, x: jax.Array) -> jax.Array:\n",
    "        block_fn = prepare_module(\n",
    "            self.block_fn,\n",
    "            \"Block\",\n",
    "            self.config,\n",
    "        )\n",
    "        block = block_fn(config=self.config, train=self.train, mask=self.mask, name=\"block\")\n",
    "        # Scan version\n",
    "        x, _ = nn.scan(\n",
    "            lambda module, carry, _: (module(carry), None),\n",
    "            variable_axes={\"params\": 0},\n",
    "            split_rngs={\"params\": True, \"dropout\": True},\n",
    "            length=self.config.num_layers,\n",
    "            metadata_params={\n",
    "                \"partition_name\": None\n",
    "            },  # We do not need to partition over the layer axis.\n",
    "        )(block, x, ())\n",
    "        return x"
   ]
  },
  {
   "cell_type": "markdown",
   "metadata": {},
   "source": [
    "Besides the transformer blocks, we also need to implement the input and output layers. In this example, we focus on a transformer for natural language processing, such that the input layer consists of an embedding layer and a positional encoding layer. For efficiency, we will also want to parallelize them across model devices.\n",
    "\n",
    "For the positional encoding, we consider the two common variants of learned embeddings and fixed sinusoidal embeddings. For the learned embeddings, we do not require any adjustment to support tensor parallelism, since the model parallelism wrapper will split the parameters accordingly across devices. For the fixed sinusoidal embeddings, we need to determine the device index we are on, and calculate the corresponding part of the positional encodings. We adapt our previous [single-GPU implementation](https://uvadlc-notebooks.readthedocs.io/en/latest/tutorial_notebooks/tutorial6/Transformers_and_MHAttention.html#Positional-encoding) to support tensor parallelism below."
   ]
  },
  {
   "cell_type": "code",
   "execution_count": 15,
   "metadata": {},
   "outputs": [],
   "source": [
    "class PositionalEncoding(nn.Module):\n",
    "    config: ConfigDict\n",
    "\n",
    "    @nn.compact\n",
    "    def __call__(self, x: jax.Array) -> jax.Array:\n",
    "        tp_size = jax.lax.psum(1, self.config.model_axis_name)\n",
    "        tp_index = jax.lax.axis_index(self.config.model_axis_name)\n",
    "        seq_len, num_feats = x.shape[-2:]\n",
    "        if self.config.positional_encoding_type == \"learned\":\n",
    "            pos_emb = self.param(\n",
    "                \"pos_emb\",\n",
    "                nn.initializers.normal(stddev=0.02),\n",
    "                (seq_len, num_feats),\n",
    "            )\n",
    "        elif self.config.positional_encoding_type == \"sinusoidal\":\n",
    "            # Adjusted to multi-device setting.\n",
    "            position = jnp.arange(0, seq_len, dtype=jnp.float32)[:, None]\n",
    "            div_term = jnp.exp(\n",
    "                jnp.arange(tp_index * num_feats, (tp_index + 1) * num_feats, 2)\n",
    "                * (-np.log(10000.0) / (tp_size * num_feats))\n",
    "            )\n",
    "            pos_emb = jnp.stack(\n",
    "                [jnp.sin(position * div_term), jnp.cos(position * div_term)], axis=-1\n",
    "            )\n",
    "            pos_emb = jnp.reshape(pos_emb, (seq_len, num_feats))\n",
    "        else:\n",
    "            raise ValueError(\n",
    "                f\"Unknown positional encoding type: {self.config.positional_encoding_type}\"\n",
    "            )\n",
    "        pos_emb = pos_emb.astype(\n",
    "            x.dtype\n",
    "        )  # Cast to the same dtype as the input, e.g. support bfloat16.\n",
    "        pos_emb = jnp.expand_dims(pos_emb, axis=range(x.ndim - 2))\n",
    "        x = x + pos_emb\n",
    "        return x"
   ]
  },
  {
   "cell_type": "markdown",
   "metadata": {},
   "source": [
    "For the embedding layer, we simply split the features of the embedding matrix across the model axis, and apply the embedding layer on the input tokens. Each device will have the same input indices, such that we end up with the partitioned features over model devices as intended. We then apply our previous positional encoding layer to add the positional information to the embeddings."
   ]
  },
  {
   "cell_type": "code",
   "execution_count": 16,
   "metadata": {},
   "outputs": [],
   "source": [
    "class InputEmbedding(nn.Module):\n",
    "    config: ConfigDict\n",
    "\n",
    "    @nn.compact\n",
    "    def __call__(self, x: jax.Array) -> jax.Array:\n",
    "        tp_size = jax.lax.psum(1, self.config.model_axis_name)\n",
    "        x = nn.Embed(\n",
    "            num_embeddings=self.config.vocab_size,\n",
    "            features=self.config.hidden_size // tp_size,\n",
    "            embedding_init=nn.initializers.normal(stddev=1.0),\n",
    "            dtype=self.config.dtype,\n",
    "            name=\"token_emb\",\n",
    "        )(x)\n",
    "        x = PositionalEncoding(config=self.config, name=\"pos_enc\")(x)\n",
    "        return x"
   ]
  },
  {
   "cell_type": "markdown",
   "metadata": {},
   "source": [
    "We can now wrap the input layer in a model parallelism wrapper to parallelize it and initialize different parameters across model devices."
   ]
  },
  {
   "cell_type": "code",
   "execution_count": 17,
   "metadata": {},
   "outputs": [],
   "source": [
    "class TPInputEmbedding(nn.Module):\n",
    "    config: ConfigDict\n",
    "\n",
    "    @nn.compact\n",
    "    def __call__(self, x: jax.Array) -> jax.Array:\n",
    "        return ModelParallelismWrapper(\n",
    "            model_axis_name=self.config.model_axis_name,\n",
    "            module_fn=functools.partial(InputEmbedding, config=self.config),\n",
    "            name=\"module\",\n",
    "        )(x)"
   ]
  },
  {
   "cell_type": "markdown",
   "metadata": {},
   "source": [
    "The output layer consists of a normalization layer with subsequent linear layer. In our previous simple model, we decided to give all devices the same outputs by summing the outputs with `jax.lax.psum` instead of scattering. We could do the same here, but it may not be the most efficient way to handle the output. For instance, consider a Transformer with a vocabulary size of 32k, and a batch with size 64 per data device and sequence length 1024. The output per model device would be of shape `(64, 1024, 32k)`, which would be already 4GB per device with bfloat16. However, due to the numerical instability of the softmax operation, we may want to use float32 for the output, which would double the memory footprint. This requires a lot of memory on a single device. Instead, we can switch our strategy in the output layer to sequence parallelism. Before the layer, we gather the input over the feature axis, but split them over the sequence length. Since each token is independently processed by the output layer over the sequence length, we can parallelize the output layer over the sequence length. This way, we can reduce the memory footprint since each device will only need to process a part of the sequence length, reducing it by a factor of the number of devices. With this strategy, all model devices need to share the same parameters. To again reduce memory footprint, we shard the parameters across the model axis as we do in fully-sharded data parallelism. \n",
    "\n",
    "We start with an operation that splits the input over the sequence length. Note that we use a slightly inefficient way of switching between the two parallelism strategies, since we need to gather the input over the feature axis and then scatter it over the sequence length. While there are more efficient ways to do this, especially for a large model axis, we use this approach to keep the implementation simple and easy to understand."
   ]
  },
  {
   "cell_type": "code",
   "execution_count": 18,
   "metadata": {},
   "outputs": [],
   "source": [
    "def split_array_over_mesh(x: jax.Array, axis_name: str, split_axis: int) -> jax.Array:\n",
    "    axis_size = jax.lax.psum(1, axis_name)\n",
    "    axis_index = jax.lax.axis_index(axis_name)\n",
    "    slice_size = x.shape[split_axis] // axis_size\n",
    "    x = jax.lax.dynamic_slice_in_dim(\n",
    "        x,\n",
    "        axis_index * slice_size,\n",
    "        slice_size,\n",
    "        axis=split_axis,\n",
    "    )\n",
    "    return x"
   ]
  },
  {
   "cell_type": "markdown",
   "metadata": {},
   "source": [
    "Now we can implement the output layer module. We first gather over the feature axis, split over the sequence length, and then apply the output layer.Both normalization and dense layer are wrapped in a `shard_module_params` function to shard the parameters across the model axis."
   ]
  },
  {
   "cell_type": "code",
   "execution_count": 19,
   "metadata": {},
   "outputs": [],
   "source": [
    "class TPOutputLayer(nn.Module):\n",
    "    config: ConfigDict\n",
    "\n",
    "    @nn.compact\n",
    "    def __call__(self, x: jax.Array) -> jax.Array:\n",
    "        # Gather outputs over feature dimension and split over sequence length.\n",
    "        x = jax.lax.all_gather(x, axis_name=self.config.model_axis_name, axis=-1, tiled=True)\n",
    "        x = split_array_over_mesh(x, axis_name=self.config.model_axis_name, split_axis=1)\n",
    "        # Shard parameters over model axis.\n",
    "        norm_fn = shard_module_params(\n",
    "            nn.RMSNorm,\n",
    "            axis_name=self.config.model_axis_name,\n",
    "            min_weight_size=self.config.fsdp.min_weight_size,\n",
    "        )\n",
    "        dense_fn = shard_module_params(\n",
    "            nn.Dense,\n",
    "            axis_name=self.config.model_axis_name,\n",
    "            min_weight_size=self.config.fsdp.min_weight_size,\n",
    "        )\n",
    "        # Apply normalization and output layer.\n",
    "        x = norm_fn(dtype=self.config.dtype, name=\"out_norm\")(x)\n",
    "        x = dense_fn(\n",
    "            features=self.config.num_outputs,\n",
    "            dtype=jnp.float32,\n",
    "            name=\"output_layer\",\n",
    "        )(x)\n",
    "        return x"
   ]
  },
  {
   "cell_type": "markdown",
   "metadata": {},
   "source": [
    "Let's now combine all parts to the full transformer model below. We apply the input layer, the transformer blocks, and the output layer, and return the final output. If the mask is None, we further support the model to be used for autoregressive tasks, such as language modeling, by applying a causal mask to the attention layers."
   ]
  },
  {
   "cell_type": "code",
   "execution_count": 20,
   "metadata": {},
   "outputs": [],
   "source": [
    "class Transformer(nn.Module):\n",
    "    config: ConfigDict\n",
    "    block_fn: Any = TPTransformerBlock\n",
    "\n",
    "    @nn.compact\n",
    "    def __call__(self, x: jax.Array, train: bool, mask: jax.Array | None = None) -> jax.Array:\n",
    "        if mask is None and self.config.causal_mask:\n",
    "            mask = nn.make_causal_mask(x, dtype=jnp.bool_)\n",
    "        x = TPInputEmbedding(\n",
    "            config=self.config,\n",
    "            name=\"input_embedding\",\n",
    "        )(x)\n",
    "        x = TransformerBackbone(\n",
    "            config=self.config,\n",
    "            train=train,\n",
    "            mask=mask,\n",
    "            block_fn=self.block_fn,\n",
    "            name=\"backbone\",\n",
    "        )(x)\n",
    "        x = TPOutputLayer(\n",
    "            config=self.config,\n",
    "            name=\"output_layer\",\n",
    "        )(x)\n",
    "        return x"
   ]
  },
  {
   "cell_type": "markdown",
   "metadata": {},
   "source": [
    "### Initialization\n",
    "\n",
    "We can now initialize the model with the new transformer implementation. We start with defining a new config below. Feel free to adjust the config to experiment with different parallelization strategies and model sizes. By default, we shard the model parameters over the whole data axis on the outer module. This forces the optimizer states to be sharded, but each device needs the memory for storing the whole parameters. For larger models, we may want to change it to a per-module basis. We also remat the model on a per-module basis to reduce the memory footprint, and apply the parallel block to the transformer blocks. Since this notebook runs on CPU, we keep the model size small to avoid running out of memory and long computation times."
   ]
  },
  {
   "cell_type": "code",
   "execution_count": 21,
   "metadata": {},
   "outputs": [],
   "source": [
    "data_config = ConfigDict(\n",
    "    dict(\n",
    "        batch_size=8,\n",
    "        vocab_size=100,\n",
    "        seq_len=32,\n",
    "    )\n",
    ")\n",
    "fsdp = ConfigDict(\n",
    "    dict(\n",
    "        modules=(\"Transformer\",),\n",
    "        axis_name=\"data\",\n",
    "        min_weight_size=2**8,\n",
    "    )\n",
    ")\n",
    "model_config = ConfigDict(\n",
    "    dict(\n",
    "        hidden_size=256,\n",
    "        dropout_rate=0.1,\n",
    "        mlp_expansion=4,\n",
    "        num_layers=6,\n",
    "        head_dim=32,\n",
    "        normalize_qk=True,\n",
    "        positional_encoding_type=\"learned\",\n",
    "        parallel_block=True,\n",
    "        causal_mask=True,\n",
    "        vocab_size=data_config.vocab_size,\n",
    "        num_outputs=data_config.vocab_size,\n",
    "        dtype=jnp.bfloat16,\n",
    "        data_axis_name=\"data\",\n",
    "        model_axis_name=\"model\",\n",
    "        model_axis_size=4,\n",
    "        remat=(\"Block\",),\n",
    "        fsdp=fsdp,\n",
    "    )\n",
    ")\n",
    "model_config.num_heads = model_config.hidden_size // model_config.head_dim\n",
    "optimizer_config = ConfigDict(\n",
    "    dict(\n",
    "        learning_rate=1e-3,\n",
    "        num_minibatches=1,\n",
    "    )\n",
    ")\n",
    "config = ConfigDict(\n",
    "    dict(\n",
    "        model=model_config,\n",
    "        optimizer=optimizer_config,\n",
    "        data=data_config,\n",
    "        data_axis_name=model_config.data_axis_name,\n",
    "        model_axis_name=model_config.model_axis_name,\n",
    "        model_axis_size=model_config.model_axis_size,\n",
    "        seed=42,\n",
    "    )\n",
    ")"
   ]
  },
  {
   "cell_type": "code",
   "execution_count": 22,
   "metadata": {},
   "outputs": [
    {
     "name": "stderr",
     "output_type": "stream",
     "text": [
      "2024-03-07 10:49:03.334086: E external/xla/xla/stream_executor/cuda/cuda_driver.cc:273] failed call to cuInit: CUDA_ERROR_NO_DEVICE: no CUDA-capable device is detected\n",
      "CUDA backend failed to initialize: FAILED_PRECONDITION: No visible GPU devices. (Set TF_CPP_MIN_LOG_LEVEL=0 and rerun for more info.)\n"
     ]
    }
   ],
   "source": [
    "device_array = np.array(jax.devices()).reshape(-1, config.model_axis_size)\n",
    "mesh = Mesh(device_array, (config.data_axis_name, config.model_axis_name))"
   ]
  },
  {
   "cell_type": "markdown",
   "metadata": {},
   "source": [
    "We create the model below and wrap the whole model in a `prepare_module` function to support parameter sharding."
   ]
  },
  {
   "cell_type": "code",
   "execution_count": 23,
   "metadata": {},
   "outputs": [],
   "source": [
    "def get_transformer_module(config: ConfigDict):\n",
    "    module_class = Transformer\n",
    "    module_class = prepare_module(\n",
    "        module_class,\n",
    "        \"Transformer\",\n",
    "        config,\n",
    "    )\n",
    "    block_fn = TPTransformerParallelBlock if config.parallel_block else TPTransformerBlock\n",
    "    return module_class(config=config, block_fn=block_fn)"
   ]
  },
  {
   "cell_type": "markdown",
   "metadata": {},
   "source": [
    "Let's finally create the model."
   ]
  },
  {
   "cell_type": "code",
   "execution_count": 24,
   "metadata": {},
   "outputs": [],
   "source": [
    "model_transformer = get_transformer_module(config=config.model)"
   ]
  },
  {
   "cell_type": "markdown",
   "metadata": {},
   "source": [
    "We also create the optimizer below. As common in Transformer language models, we design it to be Adam with an exponential learning rate decay and a linear warmup. "
   ]
  },
  {
   "cell_type": "code",
   "execution_count": 25,
   "metadata": {},
   "outputs": [],
   "source": [
    "optimizer_transformer = optax.adam(\n",
    "    learning_rate=optax.warmup_exponential_decay_schedule(\n",
    "        init_value=0,\n",
    "        peak_value=config.optimizer.learning_rate,\n",
    "        warmup_steps=10,\n",
    "        transition_steps=1,\n",
    "        decay_rate=0.99,\n",
    "    )\n",
    ")"
   ]
  },
  {
   "cell_type": "markdown",
   "metadata": {},
   "source": [
    "Since we have implemented the transformer for natural language processing, we need to adjust our example task below. We will follow the autoregressive language modeling task, where we predict the next token given a sequence of tokens. We will use a small vocabulary size to run the model easily on a CPU-only system. The first token is a start-of-sentence token, and the labels are the input tokens shifted by one."
   ]
  },
  {
   "cell_type": "code",
   "execution_count": 26,
   "metadata": {},
   "outputs": [],
   "source": [
    "rng = jax.random.PRNGKey(config.seed)\n",
    "model_init_rng, data_inputs_rng = jax.random.split(rng)\n",
    "\n",
    "tokens = jax.random.randint(\n",
    "    data_inputs_rng,\n",
    "    (config.data.batch_size, config.data.seq_len),\n",
    "    1,\n",
    "    config.data.vocab_size,\n",
    ")\n",
    "batch_transformer = Batch(\n",
    "    inputs=jnp.pad(tokens[:, :-1], ((0, 0), (1, 0)), constant_values=0),\n",
    "    labels=tokens,\n",
    ")"
   ]
  },
  {
   "cell_type": "code",
   "execution_count": 27,
   "metadata": {},
   "outputs": [],
   "source": [
    "def init_transformer(rng: jax.random.PRNGKey, x: jax.Array) -> TrainState:\n",
    "    init_rng, rng = jax.random.split(rng)\n",
    "    variables = model_transformer.init({\"params\": init_rng}, x, train=False)\n",
    "    params = variables.pop(\"params\")\n",
    "    state = TrainState.create(\n",
    "        apply_fn=model_transformer.apply,\n",
    "        params=params,\n",
    "        tx=optimizer_transformer,\n",
    "        rng=rng,\n",
    "    )\n",
    "    return state"
   ]
  },
  {
   "cell_type": "markdown",
   "metadata": {},
   "source": [
    "As usual, we first determine the partitioning of the model parameters in the init function."
   ]
  },
  {
   "cell_type": "code",
   "execution_count": 28,
   "metadata": {},
   "outputs": [],
   "source": [
    "init_transformer_fn = jax.jit(\n",
    "    shard_map(\n",
    "        init_transformer,\n",
    "        mesh,\n",
    "        in_specs=(P(), P(config.data_axis_name)),\n",
    "        out_specs=P(),\n",
    "        check_rep=False,\n",
    "    ),\n",
    ")\n",
    "state_transformer_shapes = jax.eval_shape(\n",
    "    init_transformer_fn, model_init_rng, batch_transformer.inputs\n",
    ")\n",
    "state_transformer_specs = nn.get_partition_spec(state_transformer_shapes)"
   ]
  },
  {
   "cell_type": "markdown",
   "metadata": {},
   "source": [
    "We can inspect them below."
   ]
  },
  {
   "cell_type": "code",
   "execution_count": 29,
   "metadata": {},
   "outputs": [
    {
     "name": "stdout",
     "output_type": "stream",
     "text": [
      "Input Embedding\n",
      "{'module': {'sharded': {'pos_enc': {'pos_emb': PartitionSpec('model', None, 'data')},\n",
      "                        'token_emb': {'embedding': PartitionSpec('model', 'data', None)}}}}\n"
     ]
    }
   ],
   "source": [
    "print(\"Input Embedding\")\n",
    "pprint(state_transformer_specs.params[\"input_embedding\"])"
   ]
  },
  {
   "cell_type": "markdown",
   "metadata": {},
   "source": [
    "The input embedding is sharded over both model and data axis. The data sharding is done over the feature dimensions for the positional encoding and over the vocabulary size for the embedding layer. The axes are selected based on which is the largest one that is divisible by the number of devices. For the default config, the vocabulary size is larger than the per-model-device feature dimension (100 vs 64). For other setups, where the vocabulary size is non-divisible by the number of devices, the sharding would likely happen over the feature dimension as well."
   ]
  },
  {
   "cell_type": "code",
   "execution_count": 30,
   "metadata": {},
   "outputs": [
    {
     "name": "stdout",
     "output_type": "stream",
     "text": [
      "Output Layer\n",
      "{'out_norm': {'scale': PartitionSpec()},\n",
      " 'output_layer': {'bias': PartitionSpec(),\n",
      "                  'kernel': PartitionSpec('model', 'data')}}\n"
     ]
    }
   ],
   "source": [
    "print(\"Output Layer\")\n",
    "pprint(state_transformer_specs.params[\"output_layer\"])"
   ]
  },
  {
   "cell_type": "markdown",
   "metadata": {},
   "source": [
    "The parameters in the output layer can be partitioned over the data and model axis. However, due to the small size of the model, only the kernel is sharded over the both axis. The bias and the scale parameter of the normalization are duplicated over all devices."
   ]
  },
  {
   "cell_type": "code",
   "execution_count": 31,
   "metadata": {},
   "outputs": [
    {
     "name": "stdout",
     "output_type": "stream",
     "text": [
      "Transformer Block\n",
      "{'block': {'hqkv': {'shard_0': {'sharded': {'mlp': {'dense': {'bias': PartitionSpec(None, 'model', 'data'),\n",
      "                                                              'kernel': PartitionSpec(None, 'model', None, 'data')}},\n",
      "                                            'qkv': {'key': {'kernel': PartitionSpec(None, 'model', 'data', None, None)},\n",
      "                                                    'key_norm': {'scale': PartitionSpec(None, 'model', None)},\n",
      "                                                    'query': {'kernel': PartitionSpec(None, 'model', 'data', None, None)},\n",
      "                                                    'query_norm': {'scale': PartitionSpec(None, 'model', None)},\n",
      "                                                    'value': {'kernel': PartitionSpec(None, 'model', 'data', None, None)}}}},\n",
      "                    'shard_1': {'sharded': {'mlp': {'dense': {'kernel': PartitionSpec(None, 'model', None, 'data')}},\n",
      "                                            'qkv': {'key': {'kernel': PartitionSpec(None, 'model', 'data', None, None)},\n",
      "                                                    'key_norm': {'scale': PartitionSpec(None, 'model', None)},\n",
      "                                                    'query': {'kernel': PartitionSpec(None, 'model', 'data', None, None)},\n",
      "                                                    'query_norm': {'scale': PartitionSpec(None, 'model', None)},\n",
      "                                                    'value': {'kernel': PartitionSpec(None, 'model', 'data', None, None)}}}},\n",
      "                    'shard_2': {'sharded': {'mlp': {'dense': {'kernel': PartitionSpec(None, 'model', None, 'data')}},\n",
      "                                            'qkv': {'key': {'kernel': PartitionSpec(None, 'model', 'data', None, None)},\n",
      "                                                    'key_norm': {'scale': PartitionSpec(None, 'model', None)},\n",
      "                                                    'query': {'kernel': PartitionSpec(None, 'model', 'data', None, None)},\n",
      "                                                    'query_norm': {'scale': PartitionSpec(None, 'model', None)},\n",
      "                                                    'value': {'kernel': PartitionSpec(None, 'model', 'data', None, None)}}}},\n",
      "                    'shard_3': {'sharded': {'mlp': {'dense': {'kernel': PartitionSpec(None, 'model', None, 'data')}},\n",
      "                                            'qkv': {'key': {'kernel': PartitionSpec(None, 'model', 'data', None, None)},\n",
      "                                                    'key_norm': {'scale': PartitionSpec(None, 'model', None)},\n",
      "                                                    'query': {'kernel': PartitionSpec(None, 'model', 'data', None, None)},\n",
      "                                                    'query_norm': {'scale': PartitionSpec(None, 'model', None)},\n",
      "                                                    'value': {'kernel': PartitionSpec(None, 'model', 'data', None, None)}}}}},\n",
      "           'out': {'shard_0': {'sharded': {'attn': {'out': {'bias': PartitionSpec(None, 'model', 'data'),\n",
      "                                                            'kernel': PartitionSpec(None, 'model', None, None, 'data')}},\n",
      "                                           'mlp': {'dense': {'bias': PartitionSpec(None, 'model', 'data'),\n",
      "                                                             'kernel': PartitionSpec(None, 'model', 'data', None)}}}},\n",
      "                   'shard_1': {'sharded': {'attn': {'out': {'kernel': PartitionSpec(None, 'model', None, None, 'data')}},\n",
      "                                           'mlp': {'dense': {'kernel': PartitionSpec(None, 'model', 'data', None)}}}},\n",
      "                   'shard_2': {'sharded': {'attn': {'out': {'kernel': PartitionSpec(None, 'model', None, None, 'data')}},\n",
      "                                           'mlp': {'dense': {'kernel': PartitionSpec(None, 'model', 'data', None)}}}},\n",
      "                   'shard_3': {'sharded': {'attn': {'out': {'kernel': PartitionSpec(None, 'model', None, None, 'data')}},\n",
      "                                           'mlp': {'dense': {'kernel': PartitionSpec(None, 'model', 'data', None)}}}}},\n",
      "           'pre_norm': {'norm': {'sharded': {'scale': PartitionSpec(None, 'model', 'data')}}}}}\n"
     ]
    }
   ],
   "source": [
    "print(\"Transformer Block\")\n",
    "pprint(state_transformer_specs.params[\"backbone\"])"
   ]
  },
  {
   "cell_type": "markdown",
   "metadata": {},
   "source": [
    "For the transformer backbone, we see that the input layer `hqkv` is distributed over 4 shards, and each containing an MLP input layer and a QKV layer. The first axis is again the layer index, the second the model axis, and the remaining ones the parameter-specific axes. The output layer `out` shows a similar pattern, with only using biases in the first shard. Finally, the norm parameters in `pre_norm` are sharded over both the model and data axis.\n",
    "\n",
    "With this in mind, we can now initialize the model."
   ]
  },
  {
   "cell_type": "code",
   "execution_count": 32,
   "metadata": {},
   "outputs": [],
   "source": [
    "init_transformer_fn = jax.jit(\n",
    "    shard_map(\n",
    "        init_transformer,\n",
    "        mesh,\n",
    "        in_specs=(P(), P(config.data_axis_name)),\n",
    "        out_specs=state_transformer_specs,\n",
    "        check_rep=False,\n",
    "    ),\n",
    ")\n",
    "state_transformer = init_transformer_fn(model_init_rng, batch_transformer.inputs)"
   ]
  },
  {
   "cell_type": "markdown",
   "metadata": {},
   "source": [
    "Feel free to inspect the parameter shapes below. As an example, we will only inspect the parameters of the shard 0 of the output layer in the transformer block."
   ]
  },
  {
   "cell_type": "code",
   "execution_count": 33,
   "metadata": {},
   "outputs": [
    {
     "name": "stdout",
     "output_type": "stream",
     "text": [
      "Transformer Block - Output Layer, Shard 0\n",
      "{'attn': {'out': {'bias': Partitioned(value=(6, 4, 64),\n",
      "                                      names=(None, 'model', 'data'),\n",
      "                                      mesh=None),\n",
      "                  'kernel': Partitioned(value=(6, 4, 2, 32, 64),\n",
      "                                        names=(None,\n",
      "                                               'model',\n",
      "                                               None,\n",
      "                                               None,\n",
      "                                               'data'),\n",
      "                                        mesh=None)}},\n",
      " 'mlp': {'dense': {'bias': Partitioned(value=(6, 4, 64),\n",
      "                                       names=(None, 'model', 'data'),\n",
      "                                       mesh=None),\n",
      "                   'kernel': Partitioned(value=(6, 4, 256, 64),\n",
      "                                         names=(None, 'model', 'data', None),\n",
      "                                         mesh=None)}}}\n"
     ]
    }
   ],
   "source": [
    "print(\"Transformer Block - Output Layer, Shard 0\")\n",
    "if config.model.parallel_block:\n",
    "    shard_0_params = state_transformer.params[\"backbone\"][\"block\"][\"out\"][\"shard_0\"][\"sharded\"]\n",
    "else:\n",
    "    shard_0_params = {\n",
    "        \"attn\": state_transformer.params[\"backbone\"][\"block\"][\"attn\"][\"out\"][\"shard_0\"][\"sharded\"],\n",
    "        \"mlp\": state_transformer.params[\"backbone\"][\"block\"][\"mlp\"][\"output\"][\"shard_0\"][\n",
    "            \"sharded\"\n",
    "        ],\n",
    "    }\n",
    "pprint(\n",
    "    jax.tree_map(\n",
    "        lambda x: x.shape,\n",
    "        shard_0_params,\n",
    "    )\n",
    ")"
   ]
  },
  {
   "cell_type": "markdown",
   "metadata": {},
   "source": [
    "In the attention output layer, the kernel has 5 dimensions: number of layers, number of model devices, number of heads per device, head dimension, and feature dimension per device/shard. The full transformer has 8 heads, such that each device processes 2 heads. For the MLP, the kernel has 4 dimensions: number of layers, number of model devices, hidden dimensions of the MLP per device, and feature dimension per device/shard. Since we expand our MLP dimension by 4, the hidden dimension per MLP is 256, with the full MLP having 1024 hidden dimensions. Overall, the parameters have the expected shapes and are sharded as intended."
   ]
  },
  {
   "cell_type": "markdown",
   "metadata": {},
   "source": [
    "As one more small check which can be very helpful during development, let's print the number of parameters."
   ]
  },
  {
   "cell_type": "code",
   "execution_count": 34,
   "metadata": {},
   "outputs": [
    {
     "name": "stdout",
     "output_type": "stream",
     "text": [
      "Number of parameters: 4_795_236\n"
     ]
    }
   ],
   "source": [
    "print(f\"Number of parameters: {get_num_params(state_transformer):_}\")"
   ]
  },
  {
   "cell_type": "markdown",
   "metadata": {},
   "source": [
    "With 5 million parameters, the model at hand is of course very small due to running on CPU, but on a TPU superpod or GPU cluster, the model can be scaled up to billions of parameters. We can now continue with training the model."
   ]
  },
  {
   "cell_type": "markdown",
   "metadata": {},
   "source": [
    "### Training\n",
    "\n",
    "For training, we can reuse our previous loss function since it is a classical cross-entropy prediction task. However, since we split the output layer over the sequence length, we need to evaluate the loss on each device and select the right subset of labels per device. We do this below."
   ]
  },
  {
   "cell_type": "code",
   "execution_count": 35,
   "metadata": {},
   "outputs": [],
   "source": [
    "def loss_fn_transformer(\n",
    "    params: PyTree,\n",
    "    apply_fn: Any,\n",
    "    batch: Batch,\n",
    "    rng: jax.Array,\n",
    "    config: ConfigDict,\n",
    ") -> Tuple[jax.Array, Dict[str, Any]]:\n",
    "    # Since dropout masks vary across the batch dimension, we want each device to generate a\n",
    "    # different mask. We can achieve this by folding the rng over the data axis, so that each\n",
    "    # device gets a different rng and thus mask.\n",
    "    dropout_rng = fold_rng_over_axis(rng, (config.data_axis_name, config.model_axis_name))\n",
    "    # Remaining computation is the same as before for single device.\n",
    "    logits = apply_fn(\n",
    "        {\"params\": params},\n",
    "        batch.inputs,\n",
    "        train=True,\n",
    "        rngs={\"dropout\": dropout_rng},\n",
    "    )\n",
    "    labels = split_array_over_mesh(batch.labels, axis_name=config.model_axis_name, split_axis=1)\n",
    "    assert (\n",
    "        logits.shape[:-1] == labels.shape\n",
    "    ), f\"Logits and labels shapes do not match: {logits.shape} vs {labels.shape}\"\n",
    "    loss = optax.softmax_cross_entropy_with_integer_labels(logits, labels)\n",
    "    correct_pred = jnp.equal(jnp.argmax(logits, axis=-1), labels)\n",
    "    batch_size = np.prod(labels.shape)\n",
    "    # Collect metrics and return loss.\n",
    "    step_metrics = {\n",
    "        \"loss\": (loss.sum(), batch_size),\n",
    "        \"accuracy\": (correct_pred.sum(), batch_size),\n",
    "    }\n",
    "    loss = loss.mean()\n",
    "    return loss, step_metrics"
   ]
  },
  {
   "cell_type": "markdown",
   "metadata": {},
   "source": [
    "With this new loss function, we can now train the model. We will use the same training loop as before, and shard it with our previously determined partitioning specs."
   ]
  },
  {
   "cell_type": "code",
   "execution_count": 36,
   "metadata": {},
   "outputs": [
    {
     "name": "stderr",
     "output_type": "stream",
     "text": [
      "/home/plippe/anaconda3/envs/jax/lib/python3.10/site-packages/jax/_src/interpreters/mlir.py:761: UserWarning: Some donated buffers were not usable: ShapedArray(float32[6,1,128]), ShapedArray(float32[6,1,64,128]), ShapedArray(float32[6,1,32,2,32]), ShapedArray(float32[6,1,32]), ShapedArray(float32[6,1,32,2,32]), ShapedArray(float32[6,1,32]), ShapedArray(float32[6,1,32,2,32]), ShapedArray(float32[6,1,64,128]), ShapedArray(float32[6,1,32,2,32]), ShapedArray(float32[6,1,32]), ShapedArray(float32[6,1,32,2,32]), ShapedArray(float32[6,1,32]), ShapedArray(float32[6,1,32,2,32]), ShapedArray(float32[6,1,64,128]), ShapedArray(float32[6,1,32,2,32]), ShapedArray(float32[6,1,32]), ShapedArray(float32[6,1,32,2,32]), ShapedArray(float32[6,1,32]), ShapedArray(float32[6,1,32,2,32]), ShapedArray(float32[6,1,64,128]), ShapedArray(float32[6,1,32,2,32]), ShapedArray(float32[6,1,32]), ShapedArray(float32[6,1,32,2,32]), ShapedArray(float32[6,1,32]), ShapedArray(float32[6,1,32,2,32]), ShapedArray(float32[6,1,32]), ShapedArray(float32[6,1,2,32,32]), ShapedArray(float32[6,1,32]), ShapedArray(float32[6,1,128,64]), ShapedArray(float32[6,1,2,32,32]), ShapedArray(float32[6,1,128,64]), ShapedArray(float32[6,1,2,32,32]), ShapedArray(float32[6,1,128,64]), ShapedArray(float32[6,1,2,32,32]), ShapedArray(float32[6,1,128,64]), ShapedArray(float32[6,1,32]), ShapedArray(float32[1,32,32]), ShapedArray(float32[1,50,64]), ShapedArray(float32[64,50]), ShapedArray(float32[6,1,128]), ShapedArray(float32[6,1,64,128]), ShapedArray(float32[6,1,32,2,32]), ShapedArray(float32[6,1,32]), ShapedArray(float32[6,1,32,2,32]), ShapedArray(float32[6,1,32]), ShapedArray(float32[6,1,32,2,32]), ShapedArray(float32[6,1,64,128]), ShapedArray(float32[6,1,32,2,32]), ShapedArray(float32[6,1,32]), ShapedArray(float32[6,1,32,2,32]), ShapedArray(float32[6,1,32]), ShapedArray(float32[6,1,32,2,32]), ShapedArray(float32[6,1,64,128]), ShapedArray(float32[6,1,32,2,32]), ShapedArray(float32[6,1,32]), ShapedArray(float32[6,1,32,2,32]), ShapedArray(float32[6,1,32]), ShapedArray(float32[6,1,32,2,32]), ShapedArray(float32[6,1,64,128]), ShapedArray(float32[6,1,32,2,32]), ShapedArray(float32[6,1,32]), ShapedArray(float32[6,1,32,2,32]), ShapedArray(float32[6,1,32]), ShapedArray(float32[6,1,32,2,32]), ShapedArray(float32[6,1,32]), ShapedArray(float32[6,1,2,32,32]), ShapedArray(float32[6,1,32]), ShapedArray(float32[6,1,128,64]), ShapedArray(float32[6,1,2,32,32]), ShapedArray(float32[6,1,128,64]), ShapedArray(float32[6,1,2,32,32]), ShapedArray(float32[6,1,128,64]), ShapedArray(float32[6,1,2,32,32]), ShapedArray(float32[6,1,128,64]), ShapedArray(float32[6,1,32]), ShapedArray(float32[1,32,32]), ShapedArray(float32[1,50,64]), ShapedArray(float32[64,50]), ShapedArray(float32[6,1,128]), ShapedArray(float32[6,1,64,128]), ShapedArray(float32[6,1,32,2,32]), ShapedArray(float32[6,1,32]), ShapedArray(float32[6,1,32,2,32]), ShapedArray(float32[6,1,32]), ShapedArray(float32[6,1,32,2,32]), ShapedArray(float32[6,1,64,128]), ShapedArray(float32[6,1,32,2,32]), ShapedArray(float32[6,1,32]), ShapedArray(float32[6,1,32,2,32]), ShapedArray(float32[6,1,32]), ShapedArray(float32[6,1,32,2,32]), ShapedArray(float32[6,1,64,128]), ShapedArray(float32[6,1,32,2,32]), ShapedArray(float32[6,1,32]), ShapedArray(float32[6,1,32,2,32]), ShapedArray(float32[6,1,32]), ShapedArray(float32[6,1,32,2,32]), ShapedArray(float32[6,1,64,128]), ShapedArray(float32[6,1,32,2,32]), ShapedArray(float32[6,1,32]), ShapedArray(float32[6,1,32,2,32]), ShapedArray(float32[6,1,32]), ShapedArray(float32[6,1,32,2,32]), ShapedArray(float32[6,1,32]), ShapedArray(float32[6,1,2,32,32]), ShapedArray(float32[6,1,32]), ShapedArray(float32[6,1,128,64]), ShapedArray(float32[6,1,2,32,32]), ShapedArray(float32[6,1,128,64]), ShapedArray(float32[6,1,2,32,32]), ShapedArray(float32[6,1,128,64]), ShapedArray(float32[6,1,2,32,32]), ShapedArray(float32[6,1,128,64]), ShapedArray(float32[6,1,32]), ShapedArray(float32[1,32,32]), ShapedArray(float32[1,50,64]), ShapedArray(float32[64,50]).\n",
      "See an explanation at https://jax.readthedocs.io/en/latest/faq.html#buffer-donation.\n",
      "  warnings.warn(\"Some donated buffers were not usable:\"\n"
     ]
    }
   ],
   "source": [
    "train_step_transformer_fn = jax.jit(\n",
    "    shard_map(\n",
    "        functools.partial(train_step_tp, loss_fn=loss_fn_transformer, config=config),\n",
    "        mesh,\n",
    "        in_specs=(state_transformer_specs, P(), P(config.data_axis_name)),\n",
    "        out_specs=(state_transformer_specs, P()),\n",
    "        check_rep=False,\n",
    "    ),\n",
    "    donate_argnames=(\"state\", \"metrics\"),\n",
    ")\n",
    "state_shapes, metric_shapes = jax.eval_shape(\n",
    "    train_step_transformer_fn,\n",
    "    state_transformer,\n",
    "    None,\n",
    "    batch_transformer,\n",
    ")\n",
    "metrics_transformer = jax.tree_map(lambda x: jnp.zeros(x.shape, dtype=x.dtype), metric_shapes)\n",
    "state_transformer, metrics_transformer = train_step_transformer_fn(\n",
    "    state_transformer, metrics_transformer, batch_transformer\n",
    ")"
   ]
  },
  {
   "cell_type": "markdown",
   "metadata": {},
   "source": [
    "Let's train the model for 50 steps and print the final loss and accuracy."
   ]
  },
  {
   "cell_type": "code",
   "execution_count": 37,
   "metadata": {},
   "outputs": [
    {
     "data": {
      "application/vnd.jupyter.widget-view+json": {
       "model_id": "a8bcbc4d92cd4067bf3564dda4dc576c",
       "version_major": 2,
       "version_minor": 0
      },
      "text/plain": [
       "  0%|          | 0/50 [00:00<?, ?it/s]"
      ]
     },
     "metadata": {},
     "output_type": "display_data"
    },
    {
     "name": "stdout",
     "output_type": "stream",
     "text": [
      " Final Metrics - Transformer \n",
      "accuracy: 0.976562\n",
      "loss: 0.087221\n"
     ]
    }
   ],
   "source": [
    "for _ in tqdm(range(50)):\n",
    "    state_transformer, metrics_transformer = train_step_transformer_fn(\n",
    "        state_transformer, metrics_transformer, batch_transformer\n",
    "    )\n",
    "final_metrics_transformer = jax.tree_map(\n",
    "    lambda x: jnp.zeros(x.shape, dtype=x.dtype), metric_shapes\n",
    ")\n",
    "state_transformer, final_metrics_transformer = train_step_transformer_fn(\n",
    "    state_transformer, final_metrics_transformer, batch_transformer\n",
    ")\n",
    "print_metrics(final_metrics_transformer, title=\"Final Metrics - Transformer\")"
   ]
  },
  {
   "cell_type": "markdown",
   "metadata": {},
   "source": [
    "The transformer model is able to learn the task with high accuracy. However, note that in contrast to the previous tasks, the model not be able to reach 100% accuracy, even if we train it for much longer. This is because the first input token is by definition a start-of-sentence token, and the model cannot identify which token comes next. For subsequent tokens, we can use the previous tokens to identify the sequence we are on, such that the model on this single batch can likely achieve accuracies close to 96%. We have successfully implemented a transformer model with tensor parallelism and fully-sharded data parallelism, and trained it on a simple language modeling task."
   ]
  },
  {
   "cell_type": "markdown",
   "metadata": {},
   "source": [
    "## Profiling Large Model\n",
    "\n",
    "We can now profile the model to identify potential bottlenecks. We will use the same profiling functions as in our single GPU tutorial, and profile the model for 3 steps. The profiles are uploaded [here](https://drive.google.com/file/d/1iz8XpnZOtscpWiYz3AhsLUs02n9fNDIp/view?usp=sharing). \n",
    "\n",
    "We scale the model up to a hidden size of 2048, 16 layers, vocabulary size of 32k, sequence length 1k, and batch size 128. This results in a model with almost 1 billion parameters. We distribute the model over one node with 8 A5000 GPUs, and use a model axis size of 2. Every pair of GPUs in the model axis are connected via 4 NVLink connections with a measured communication speed of 60GB/s in each direction. The GPUs across the data axis are only connected via the PCIe bus, with significant lower communication speed. Since we require significantly more in-time communication across the model axis, we organize the mesh such that the GPUs in the model axis use the NVLinks.\n",
    "\n",
    "We start with showing the full trace for a model with a sequential Transformer block below.\n",
    "\n",
    "<center width=\"100%\" style=\"padding: 10px\"><img src=\"../figures/tensor_trace.png\" width=\"1000px\"></center>\n",
    "\n",
    "One difference to the single-GPU case is that we have a trace per GPU. In the figure above, we show the trace for GPU-4. A single step takes around 2.8 seconds, and consists of an initial weight gathering across the data axis, the forward pass, and finally the backward pass with remats. Each step in the forward and backward pass iterates over the 16 layers.\n",
    "\n",
    "Let's take a closer look at the forward pass below. Specifically, we look at the trace of the MLP block:\n",
    "\n",
    "<center width=\"100%\" style=\"padding: 10px\"><img src=\"../figures/tensor_trace_sequential_block_mlp_in.png\" width=\"400px\"></center>\n",
    "\n",
    "In the input dense layer, we can clearly see how well the communication (`ppermute`) and computation of `shard_0` overlaps. There is only a gap of a few microseconds in which the device is idle. \n",
    "\n",
    "<center width=\"100%\" style=\"padding: 10px\"><img src=\"../figures/tensor_trace_sequential_block_mlp_out.png\" width=\"400px\"></center>\n",
    "\n",
    "For the output dense layer, the communication fully overlaps with the computation of the `shard_1` output and the dropout. In the trace, the block for `ppermute` is overlapped with the `dot_general` operation of `shard_1`, which makes it a bit more tricky to read.\n",
    "\n",
    "Now let's take a look at the attention block below.\n",
    "\n",
    "<center width=\"100%\" style=\"padding: 10px\"><img src=\"../figures/tensor_trace_sequential_block_attn.png\" width=\"1000px\"></center>\n",
    "\n",
    "We see that the communication overlap is not as good as for the MLP, and there are some idle gaps in the input and output layer. This is due to the fact that the attention layer has lower computationally complexity in its input and output. For instance, in the input layer, we calculate 3/4-th of the hidden size of the MLP block, and in the output layer, we calculate 1/4-th of the hidden size. This means that the communication would need to be much faster for the attention layer, but our NVLink connections cannot keep up with the speed of the computation (our communication speed in the trace reach close to the 60GB/s limit). \n",
    "\n",
    "While we could improve it with better communication hardware or larger scale of the model, we can also reduce the communication by parallelizing the attention and the MLP block, as we have done in the parallel block. The trace for the parallel block is shown below.\n",
    "\n",
    "<center width=\"100%\" style=\"padding: 10px\"><img src=\"../figures/tensor_trace_parallel_block.png\" width=\"1000px\"></center>\n",
    "\n",
    "In the input layer, the compiler schedules the query, key and value computations to overlap with the communication. This leads to a small idle gap again in the block, but is overall small compared to the execution time of the block. On the output, however, the communication fully overlaps with the output dense layer of the MLP block. This way, we mitigate the communication gap in the previous version of the attention block, and can reduce the overall execution time of the block. We obtain a step time of 2.6 seconds, which is a 7% improvement over the sequential block.\n",
    "\n",
    "Still, in our execution, there are a few minor inefficiency in terms of communication, like the gathering and sharding of the model weights over the data axis. We could try to further optimize the model by overlapping communication and computation, and by optimizing the communication pattern. However, we have already reached a very good efficiency with the parallel block, and the remaining inefficiencies are minor compared to the overall execution time. Further, better hardware such as a TPU pod may significantly reduce the inefficiency. In summary, we have successfully profiled a large transformer model with tensor parallelism and fully-sharded data parallelism, and identified potential bottlenecks."
   ]
  },
  {
   "cell_type": "markdown",
   "metadata": {},
   "source": [
    "## Conclusion\n",
    "\n",
    "In this notebook, we did a deep-dive into tensor parallelism and how to implement it in JAX. Tensor parallelism is a powerful tool to scale up models to billions of parameters, and is widely used in state-of-the-art models. However, it requires careful consideration of the communication patterns and strategies, and may require adjustments to the model architecture to maximize the efficiency. We started our implementation with parallelizing a simple linear layer over multiple devices, and discussed the communication patterns and strategies to improve the efficiency of the model. In particular, we showed how asynchronous communication can help to overlap communication with compute. We then extended the async gather and scatter strategies to the full transformer model, and discussed the parallelization of the attention and MLP block. We implemented the transformer model with tensor parallelism and fully-sharded data parallelism, and trained it on a simple language modeling task. In the next notebook, we will combine all parallelization strategies we have learned so far to implement a full-scale model with tensor parallelism, pipeline parallelism, and data parallelism."
   ]
  },
  {
   "cell_type": "markdown",
   "metadata": {},
   "source": [
    "## References and Resources\n",
    "\n",
    "\\[Shoeybi et al., 2019\\] Shoeybi, M., Patwary, M., Puri, R., LeGresley, P., Casper, J. and Catanzaro, B., 2019. Megatron-lm: Training multi-billion parameter language models using model parallelism. arXiv preprint arXiv:1909.08053. [Paper link](https://arxiv.org/abs/1909.08053)\n",
    "\n",
    "\\[Wang and Komatsuzaki, 2021\\] Wang, B., and Komatsuzaki, A., 2021. Mesh transformer jax. [GitHub link](https://github.com/kingoflolz/mesh-transformer-jax)\n",
    "\n",
    "\\[Xu et al., 2021\\] Xu, Y., Lee, H., Chen, D., Hechtman, B., Huang, Y., Joshi, R., Krikun, M., Lepikhin, D., Ly, A., Maggioni, M. and Pang, R., 2021. GSPMD: general and scalable parallelization for ML computation graphs. arXiv preprint arXiv:2105.04663. [Paper link](https://arxiv.org/abs/2105.04663)\n",
    "\n",
    "\\[Dehghani et al., 2022\\] Dehghani, M., Gritsenko, A., Arnab, A., Minderer, M. and Tay, Y., 2022. Scenic: A JAX library for computer vision research and beyond. In Proceedings of the IEEE/CVF Conference on Computer Vision and Pattern Recognition (pp. 21393-21398). [Paper link](https://openaccess.thecvf.com/content/CVPR2022/html/Dehghani_Scenic_A_JAX_Library_for_Computer_Vision_Research_and_Beyond_CVPR_2022_paper.html)\n",
    "\n",
    "\\[Yoo et al., 2022\\] Yoo, J., Perlin, K., Kamalakara, S.R. and Araújo, J.G., 2022. Scalable training of language models using JAX pjit and TPUv4. arXiv preprint arXiv:2204.06514. [Paper link](https://arxiv.org/abs/2204.06514)\n",
    "\n",
    "\\[Chowdhery et al., 2023\\] Chowdhery, A., Narang, S., Devlin, J., Bosma, M., Mishra, G., Roberts, A., Barham, P., Chung, H.W., Sutton, C., Gehrmann, S., Schuh, P., et al., 2023. Palm: Scaling language modeling with pathways. Journal of Machine Learning Research, 24(240), pp.1-113. [Paper link](https://arxiv.org/abs/2204.02311v5)\n",
    "\n",
    "\\[Anil et al., 2023\\] Anil, R., Dai, A.M., Firat, O., Johnson, M., Lepikhin, D., Passos, A., Shakeri, S., Taropa, E., Bailey, P., Chen, Z. and Chu, E., 2023. Palm 2 technical report. arXiv preprint arXiv:2305.10403. [Paper link](https://arxiv.org/abs/2305.10403)\n",
    "\n",
    "\\[Dehghani et al., 2023\\] Dehghani, M., Djolonga, J., Mustafa, B., Padlewski, P., Heek, J., Gilmer, J., Steiner, A.P., Caron, M., Geirhos, R., Alabdulmohsin, I., Jenatton, R., et al., 2023. Scaling vision transformers to 22 billion parameters. In International Conference on Machine Learning (pp. 7480-7512). PMLR. [Paper link](https://arxiv.org/abs/2302.05442)\n",
    "\n",
    "\\[McKinney, 2023\\] McKinney, A., 2023. A Brief Overview of Parallelism Strategies in Deep Learning. [Blog post link](https://afmck.in/posts/2023-02-26-parallelism/)\n",
    "\n",
    "\\[Huggingface, 2024\\] Huggingface, 2024. Model Parallelism. [Documentation link](https://huggingface.co/transformers/v4.9.2/parallelism.html)\n",
    "\n",
    "\\[Google, 2024\\] JAX Team Google, 2024. SPMD multi-device parallelism with shard_map. [Notebook link](https://jax.readthedocs.io/en/latest/notebooks/shard_map.html)\n",
    "\n",
    "\\[OpenAI, 2024\\] OpenAI, 2024. GPT-4. [Technical Report](https://arxiv.org/abs/2303.08774)\n",
    "\n",
    "\\[Google, 2024\\] Gemini Team Google Deepmind, 2024. Gemini. [Technical Report](https://arxiv.org/abs/2312.11805)"
   ]
  },
  {
   "cell_type": "markdown",
   "metadata": {},
   "source": [
    "---\n",
    "\n",
    "[![Star our repository](https://img.shields.io/static/v1.svg?logo=star&label=⭐&message=Star%20Our%20Repository&color=yellow)](https://github.com/phlippe/uvadlc_notebooks/)  If you found this tutorial helpful, consider ⭐-ing our repository.    \n",
    "[![Ask questions](https://img.shields.io/static/v1.svg?logo=star&label=❔&message=Ask%20Questions&color=9cf)](https://github.com/phlippe/uvadlc_notebooks/issues)  For any questions, typos, or bugs that you found, please raise an issue on GitHub. \n",
    "\n",
    "---"
   ]
  }
 ],
 "metadata": {
  "kernelspec": {
   "display_name": "jax_new",
   "language": "python",
   "name": "python3"
  },
  "language_info": {
   "codemirror_mode": {
    "name": "ipython",
    "version": 3
   },
   "file_extension": ".py",
   "mimetype": "text/x-python",
   "name": "python",
   "nbconvert_exporter": "python",
   "pygments_lexer": "ipython3",
   "version": "3.10.12"
  },
  "vscode": {
   "interpreter": {
    "hash": "c33e04bee723a695c1f11263e2553ef63671975140823e2daf94a160823ca89a"
   }
  }
 },
 "nbformat": 4,
 "nbformat_minor": 2
}
