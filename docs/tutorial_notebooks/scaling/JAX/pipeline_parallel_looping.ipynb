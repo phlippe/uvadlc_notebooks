{
 "cells": [
  {
   "attachments": {},
   "cell_type": "markdown",
   "metadata": {},
   "source": [
    "# Part 3.2: Looping Pipelines\n",
    "\n",
    "**Filled notebook:** \n",
    "[![View filled on Github](https://img.shields.io/static/v1.svg?logo=github&label=Repo&message=View%20On%20Github&color=lightgrey)](https://github.com/phlippe/uvadlc_notebooks/blob/master/docs/tutorial_notebooks/scaling/JAX/pipeline_parallel_looping.ipynb)\n",
    "[![Open filled In Collab](https://colab.research.google.com/assets/colab-badge.svg)](https://colab.research.google.com/github/phlippe/uvadlc_notebooks/blob/master/docs/tutorial_notebooks/scaling/JAX/pipeline_parallel_looping.ipynb)   \n",
    "\n",
    "**Author:** [Phillip Lippe](https://phlippe.github.io/)"
   ]
  },
  {
   "cell_type": "markdown",
   "metadata": {},
   "source": [
    "In [Part 3.1](https://uvadlc-notebooks.readthedocs.io/en/latest/tutorial_notebooks/scaling/JAX/pipeline_parallel_simple.html), we have seen how we can use pipeline parallelism to distribute a model across multiple GPUs. A remaining difficulty in pipeline parallelism is the pipeline bubble, which is the time that devices are idle while waiting for the next stage to finish. Micro-batching, as discussed in [Part 3.1](https://uvadlc-notebooks.readthedocs.io/en/latest/tutorial_notebooks/scaling/JAX/pipeline_parallel_simple.html), improves the efficiency of pipeline parallelism, but some drawbacks still remain. For example, while the pipeline bubble has been reduced, our devices are still idle for `model_axis_size - 1` stage executions of a single microbatch. One way of reducing this idle time is by making the microbatches smaller and execute more in sequence, but as discussed before, it becomes difficult to fully utilize the devices with tiny batch sizes. So, can we instead reduce the time of the second factor, i.e. the stage execution? As it turns out, we can, and one option for it are *Looping Pipelines* introduced by [Narayanan et al., 2021](https://arxiv.org/abs/2104.04473), which will be the focus of this notebook.\n",
    "\n",
    "So far, we have split the model into consecutive stages of layers. For instance, for a model with 8 layers and 4 model devices, we would place the first two layers on the first device, the next two layers on the second device, and so on. However, we can also split the model into non-consecutive stages, and *loop* over our devices. For instance, we could place the first layer on the first device, the second layer on the second device, and so on, until we place the fifth layer on the first device again. This split of layers is shown in the figure below.\n",
    "\n",
    "<center width=\"100%\" style=\"padding: 10px\"><img src=\"../figures/pipeline_model_looping.svg\" width=\"600px\"></center>\n",
    "\n",
    "A microbatch is then passed through the looped pipeline in a similar way as before, but the output of the last stage, when it executes layer 4, is passed to the first stage again to continue with layer 5. Now, every stage execution takes only have the time as before, since we are executing half the layers. Furthermore, compared to reducing microbatch size, the stage reduction doesn't reduce efficiency since the layers would have been executed sequentially anyways.\n",
    "\n",
    "As long as we have more or an equal number of microbatches as number of model devices, which we anyways need to keep the pipeline efficient, we can keep the devices busy for a large amount of the time. This is because the output of the first stage is passed to the second stage, and so on, until the output of the last stage is passed to the first stage again. This way, the looping does not introduce an additional bubble while reducing the execution of the individual stages. The computation graph for the forward pass will look similar as in the figure below: \n",
    "\n",
    "<center width=\"100%\" style=\"padding: 10px\"><img src=\"../figures/pipeline_looping.svg\" width=\"800px\"></center>\n",
    "\n",
    "Note that if we have more microbatches than model devices, we can either decide to first finish all microbatches of its earlier layer before moving on to the next layer (breadth-first), or start with the next layer as early as possible (depth-first). We will discuss the differences between the two approaches below, but support both in our implementation.\n",
    "\n",
    "Compared to the estimated execution time of the original pipeline (shown in gray), the execution time of the looping pipeline is significantly reduced, and the devices are kept busy for a larger portion of the time. We have to note though, that this computation graph takes a strong simplification by ignoring the communication costs, which we discuss in more detail in the next section.\n",
    "\n",
    "In this notebook, we will implement a looping pipeline for a simple model and compare it to the original pipeline. We will also discuss the differences between the depth-first and breadth-first approaches, and how we can implement them."
   ]
  },
  {
   "cell_type": "markdown",
   "metadata": {},
   "source": [
    "## Prerequisites\n",
    "\n",
    "Before starting the implementation, we set up the basic environment and utility functions we have seen from previous notebooks. We download the python scripts of the previous notebooks below. This is only needed when running on Google Colab, and local execution will skip this step automatically."
   ]
  },
  {
   "cell_type": "code",
   "execution_count": 1,
   "metadata": {},
   "outputs": [],
   "source": [
    "import os\n",
    "import urllib.request\n",
    "from urllib.error import HTTPError\n",
    "\n",
    "# Github URL where python scripts are stored.\n",
    "base_url = \"https://raw.githubusercontent.com/phlippe/uvadlc_notebooks/master/docs/tutorial_notebooks/scaling/JAX/\"\n",
    "# Files to download.\n",
    "python_files = [\"single_gpu.py\", \"data_parallel.py\", \"pipeline_parallel.py\", \"utils.py\"]\n",
    "# For each file, check whether it already exists. If not, try downloading it.\n",
    "for file_name in python_files:\n",
    "    if not os.path.isfile(file_name):\n",
    "        file_url = base_url + file_name\n",
    "        print(f\"Downloading {file_url}...\")\n",
    "        try:\n",
    "            urllib.request.urlretrieve(file_url, file_name)\n",
    "        except HTTPError as e:\n",
    "            print(\n",
    "                \"Something went wrong. Please try to download the file directly from the GitHub repository, or contact the author with the full output including the following error:\\n\",\n",
    "                e,\n",
    "            )"
   ]
  },
  {
   "cell_type": "markdown",
   "metadata": {},
   "source": [
    "As before, we simulate 8 devices on CPU to demonstrate the parallelism without the need for multiple GPUs or TPUs. If you are running on your local machine and have multiple GPUs available, you can comment out the lines below."
   ]
  },
  {
   "cell_type": "code",
   "execution_count": 2,
   "metadata": {},
   "outputs": [],
   "source": [
    "from utils import simulate_CPU_devices\n",
    "\n",
    "simulate_CPU_devices()"
   ]
  },
  {
   "cell_type": "markdown",
   "metadata": {},
   "source": [
    "We now import our standard libraries."
   ]
  },
  {
   "cell_type": "code",
   "execution_count": 3,
   "metadata": {},
   "outputs": [],
   "source": [
    "import functools\n",
    "from pprint import pprint\n",
    "from typing import Any, Callable, Dict, Tuple\n",
    "\n",
    "import flax.linen as nn\n",
    "import jax\n",
    "import jax.numpy as jnp\n",
    "import numpy as np\n",
    "import optax\n",
    "from flax.struct import dataclass\n",
    "from jax.experimental.shard_map import shard_map\n",
    "from jax.sharding import Mesh\n",
    "from jax.sharding import PartitionSpec as P\n",
    "from ml_collections import ConfigDict\n",
    "\n",
    "# Helper types\n",
    "PyTree = Any\n",
    "Parameter = jax.Array | nn.Partitioned\n",
    "Metrics = Dict[str, Tuple[jax.Array, ...]]"
   ]
  },
  {
   "cell_type": "markdown",
   "metadata": {},
   "source": [
    "We also import the utility functions from the previous notebooks. We also import several functions from the previous notebook [Part 3.1](https://uvadlc-notebooks.readthedocs.io/en/latest/tutorial_notebooks/scaling/JAX/pipeline_parallel_simple.html), since many utilities like the model and the training step can be reused. It is recommended to have a look at the previous notebook to understand the details of the implementation."
   ]
  },
  {
   "cell_type": "code",
   "execution_count": 4,
   "metadata": {},
   "outputs": [],
   "source": [
    "from pipeline_parallel import (\n",
    "    PPClassifier,\n",
    "    get_default_pp_classifier_config,\n",
    "    train_pipeline_model,\n",
    "    train_step_pp,\n",
    ")\n",
    "from single_gpu import Batch, TrainState, get_num_params, print_metrics"
   ]
  },
  {
   "attachments": {},
   "cell_type": "markdown",
   "metadata": {},
   "source": [
    "## Looping Pipelines\n",
    "\n",
    "With all functions set up, we can now start implementing the looping pipeline. We first discuss the communication overlap in the looping pipeline, and then dive deeper into the implementation."
   ]
  },
  {
   "cell_type": "markdown",
   "metadata": {},
   "source": [
    "### Importance of Communication Overlap\n",
    "\n",
    "Looping pipelines reduce the pipeline bubble, but for the cost of increased communication overhead. Consider `num_loops` to be the number of separate layers per stage (a standard pipeline has `num_loops=1`). For a single microbatch, a standard pipeline requires `model_axis_size - 1` communications (i.e. once between each stage pair), while a looping pipeline requires `model_axis_size * num_loops - 1` communications (i.e. multiple loops over each stage pair). Many frameworks like JAX support asynchronous communication, which means that the communication can overlap with the computation. However, this is only possible if the computation does not depend on the communicated values. For instance, if the output of stage 1 is communicated to stage 2, stage 2 may not be able to start its computation before the communication is finished (if there are computations that are independent of the input, e.g. RoPE embeddings, they can be executed in parallel). Meanwhile, if stage 1 may not have to wait for stage 4 to finish its computation if it uses the original input and is not yet in the looping regime. Thus, while the looping pipeline seems always superior over the non-looping version in ideal conditions, we may not be able to ignore the communication cost in practice and need to take them into account. An example comparison of GPU utilization between (a) no communication cost versus (b) common communication cost is shown below (figure credit:[Joel Lamy-Poirier, 2023](https://arxiv.org/pdf/2211.05953.pdf)). We will have a closer discussion on this in the next notebook on tensor parallelism.\n",
    "\n",
    "<center width=\"100%\" style=\"padding: 10px\"><img src=\"../figures/pipeline_gpu_utilization.svg\" width=\"400px\"></center>\n",
    "\n",
    "Pipeline parallelism is usually combined with data parallelism to further increase the global batch size. This adds another layer of communication, since after having calculated the gradients for a stage, we need to communicate them across data devices. From our previous discussion, we know that overlapping communication with computation is crucial for efficient distributed training. In standard pipelines, we can only start communicating the gradients after the last microbatch per stage has finished. Depending on the communication cost, this can lead to a significant idle time of the devices, as shown in the computation diagram below (figure credit:[Joel Lamy-Poirier, 2023](https://arxiv.org/pdf/2211.05953.pdf)).\n",
    "\n",
    "<center width=\"100%\" style=\"padding: 10px\"><img src=\"../figures/pipeline_breadth_first.svg\" width=\"800px\"></center>\n",
    "\n",
    "In looping pipelines, we can instead structure our layer execution such that we can start communicating gradients earlier. For instance, the breadth-first strategy ([Joel Lamy-Poirier, 2023](https://arxiv.org/pdf/2211.05953.pdf)) follows the setup that each stage first finishes all microbatches of its earlier layer before moving on to the next layer. This way, in the backward pass, we finish calculating all gradients for the later layers before having done the computation of the earlier layers. This allows us to start communicating the gradients of the later layers earlier, and overlap it with the computation of the gradients of the early layers. The final communication of the earlier layers will be cheaper than the non-looped version, since significantly fewer gradients need to be communicated (specifically `1/num_loops`). The computation diagram for the backward pass of the breadth-first strategy is shown above. An alternative strategy is the depth-first strategy, which starts with the next layer as early as possible, but cannot take advantage of the early communication of the gradients as well as the breadth-first strategy. While we will mainly focus on the breadth-first strategy, our implementation is designed to support both strategies."
   ]
  },
  {
   "cell_type": "markdown",
   "metadata": {},
   "source": [
    "<div class=\"alert alert-info\">\n",
    "\n",
    "Note: in the current implementation version, we may not support asynchronous gradient communication on GPU. This is because the current implementation needs to stack the parameters over the looping axis within the pipeline, in order to support the SPMD jitting of the pipeline. Thus, the gradients are only communicated once the gradients for all parameters in the pipeline have been calculated. To keep the implementation simple, we will neglect the asynchronous gradient communication for now, and focus on the forward pass of the pipeline. A future version of the implementation may support asynchronous gradient communication once we find a simple way for it, and we will update the notebook accordingly.\n",
    "\n",
    "</div>"
   ]
  },
  {
   "cell_type": "markdown",
   "metadata": {},
   "source": [
    "### Looping Pipeline Implementation\n",
    "\n",
    "Let's focus now on the implementation of looping pipelines. Compared to the non-looped pipeline, we need to take care of two additional aspects: (1) the looping communication between the last and first stage, and (2) the execution of different layers on a single device over iterations. We will start with the first aspect, and then discuss the second aspect.\n",
    "\n",
    "If we had the same number of microbatches as model devices, the communication between the last stage and the first stage would not be any different from the communication between any other stage pair after we processed the original input batches. However, if we have more microbatches than model devices, we will need to buffer the outputs of the last stage until we have processed all microbatches of the earlier layers, since the first stage is not ready to process the output of the last stage yet. Thus, at each iteration, we need to check on device 0 which microbatch the communicated features of the last stage belong to and buffer accordingly. We can do this by simply determining the index of the microbatch by using the iteration index, and overwrite the respectively indexed subarray `inputs` of the first stage with the buffered features. For example, with four devices, the last stage will process the first microbatch at iteration 3 (zero-indexed). At the subsequent communication, we overwrite `inputs[0]` on device 0 with the communicated features from the last stage. We can then continue with the execution of the first stage as usual and continue iterating over the input array. This results in a computation graph similar to the one shown below (we show processing of 6 instead of 4 microbatches to visualize the buffering mechanism).\n",
    "\n",
    "<center width=\"100%\" style=\"padding: 10px\"><img src=\"../figures/pipeline_looping_implementation.svg\" width=\"1100px\"></center>\n",
    "\n",
    "The second aspect we need to take care of are the different layers we need to execute at different iterations. Note that these layer indices are not the same across stages: in the diagram above, the first stage will have to switch from layer 0 to layer 4 earlier than the last stage from layer 3 to 7. We can handle this by using the iteration index to determine the layer index we need to execute, and pass the sub-indexed parameters of the respective layer to the stage. \n",
    "\n",
    "To keep our implementation as general as possible, we will explicitly pass these \"switching\" indices to the pipeline function. For this, we implement a `PipelineState` below, which contains:\n",
    "* `inputs`: The input array, which is the original input array at the first iteration, and is used as buffer for the output of the last stage in subsequent loops.\n",
    "* `outputs`: The output array, which will store the output of the final layer of the last stage.\n",
    "* `input_indices`: The indices indicating which microbatch to process at each iteration on the first stage.\n",
    "* `output_indices`: The indices indicating into which output array to write the output of the last stage at each iteration. If -1, the features will not be stored in the `outputs` array.\n",
    "* `update_indices`: The indices indicating which input array index to buffer the last communicated features in. If -1, the features will not be buffered (e.g. initial iterations where the last stage has not received any viable input yet).\n",
    "* `params_indices`: The index of the layer to execute at each iteration.\n",
    "* `last_state`: The last communicated features between stages.\n",
    "* `rngs`: The random number generator keys for the layers (e.g. dropout)."
   ]
  },
  {
   "cell_type": "code",
   "execution_count": 5,
   "metadata": {},
   "outputs": [],
   "source": [
    "@dataclass\n",
    "class PipelineState:\n",
    "    inputs: jax.Array\n",
    "    outputs: jax.Array\n",
    "    input_indices: jax.Array\n",
    "    output_indices: jax.Array\n",
    "    update_indices: jax.Array\n",
    "    params_indices: jax.Array\n",
    "    last_state: jax.Array\n",
    "    rngs: PyTree"
   ]
  },
  {
   "cell_type": "markdown",
   "metadata": {},
   "source": [
    "Using this pipeline state, we can implement a single step of the looped pipeline in an SPMD fashion. We first check if we need to buffer the last communicated features, and if so, we do so. We then determine the input to the current stage, which is the last communicated features for all stages except the first. For the first stage, we use the original input array indexed at the current `input_indices`. We then execute the layer indexed at the current `params_indices`. For easiest selection of the parameters, we will stack the parameters over the first axis and select them before executing the `module.apply_fn`. Note that for easiests handling, we use an explicit `apply_fn` since initializing the right number of parameters within this function is not straightforward. More on it later. \n",
    "\n",
    "After applying the model, we determine whether the features need to be stored in the `outputs` array. If so, we do so. Finally, we communicate the last state to the next stage, and return the new pipeline state."
   ]
  },
  {
   "cell_type": "code",
   "execution_count": 6,
   "metadata": {},
   "outputs": [],
   "source": [
    "def execute_looping_pipeline_step(\n",
    "    index: jax.Array | int,\n",
    "    state: PipelineState,\n",
    "    *args,\n",
    "    module: nn.Module,\n",
    "    params: PyTree,\n",
    "    model_axis_name: str,\n",
    "    **kwargs,\n",
    ") -> PipelineState:\n",
    "    \"\"\"Single micro-batch pipeline step with loopback communication.\n",
    "\n",
    "    Args:\n",
    "        index: Pipeline step index (between 0 and num_loops * num_microbatches + num_stages - 2).\n",
    "        state: State of the pipeline, including indices for controlling the execution.\n",
    "        *args: Additional arguments to the module.\n",
    "        module: Flax module representing the stage layer to execute.\n",
    "        params: PyTree of parameters. The params for all layers should be stacked along the first axis.\n",
    "        model_axis_name: Name of the model axis in the mesh/shard_map.\n",
    "        **kwargs: Additional keyword arguments to the module.\n",
    "\n",
    "    Returns:\n",
    "        New state of the pipeline after the execution of the pipeline step, with potentially updated\n",
    "        inputs, outputs, rngs, and last_state arrays.\n",
    "    \"\"\"\n",
    "    num_stages = jax.lax.psum(1, model_axis_name)\n",
    "    input_index = state.input_indices[index]\n",
    "    output_index = state.output_indices[index]\n",
    "    update_index = state.update_indices[index]\n",
    "    params_index = state.params_indices[index]\n",
    "    # Update inputs with last state. If update_index is -1, do not update.\n",
    "    # This is used to buffer the communications back to first stage.\n",
    "    clipped_update_index = jnp.clip(update_index, 0, state.inputs.shape[0] - 1)\n",
    "    inputs = jax.lax.dynamic_update_index_in_dim(\n",
    "        state.inputs,\n",
    "        jnp.where(update_index >= 0, state.last_state, state.inputs[clipped_update_index]),\n",
    "        clipped_update_index,\n",
    "        axis=0,\n",
    "    )\n",
    "    # Select input of the current stage. For all stages except the first stage,\n",
    "    # the input is the last output of the previous stage (i.e. last_state).\n",
    "    step_input = jnp.where(\n",
    "        input_index >= 0,\n",
    "        inputs[input_index],\n",
    "        state.last_state,\n",
    "    )\n",
    "    # Apply the module to the input. Select the right set of parameters based\n",
    "    # on the loop index.\n",
    "    rngs = jax.tree_map(lambda rng: jax.random.split(rng, 2), state.rngs)\n",
    "    rngs, step_rngs = jax.tree_map(lambda x: x[0], rngs), jax.tree_map(lambda x: x[1], rngs)\n",
    "    params = jax.tree_map(lambda x: x[params_index], params)\n",
    "    output = module.apply(params, step_input, *args, **kwargs, rngs=step_rngs)\n",
    "    # Update outputs with the output of the current stage. If output_index is -1,\n",
    "    # do not update. This is used to buffer the final outputs of the last stage.\n",
    "    clipped_output_index = jnp.clip(output_index, 0, state.outputs.shape[0] - 1)\n",
    "    outputs = jax.lax.dynamic_update_index_in_dim(\n",
    "        state.outputs,\n",
    "        jnp.where(output_index >= 0, output, state.outputs[clipped_output_index]),\n",
    "        clipped_output_index,\n",
    "        axis=0,\n",
    "    )\n",
    "    # Communicate the last output to the next stage.\n",
    "    last_state = jax.lax.ppermute(\n",
    "        output,\n",
    "        model_axis_name,\n",
    "        perm=[(i, (i + 1) % num_stages) for i in range(num_stages)],\n",
    "    )\n",
    "    return state.replace(\n",
    "        inputs=inputs,\n",
    "        outputs=outputs,\n",
    "        last_state=last_state,\n",
    "        rngs=rngs,\n",
    "    )"
   ]
  },
  {
   "cell_type": "markdown",
   "metadata": {},
   "source": [
    "With the single step set up, we can now write a small helper function to prepare the `input_indices`, `output_indices`, `update_indices`, and `params_indices` for a respective device. We will use this function to prepare the indices for all devices, and then use them to initialize the pipeline state. The indices follow the breadth-first strategy, as discussed in the previous paragraphs."
   ]
  },
  {
   "cell_type": "code",
   "execution_count": 7,
   "metadata": {},
   "outputs": [],
   "source": [
    "def prepare_looping_pipeline_indices(\n",
    "    num_loops: int, num_microbatches: int, num_stages: int, stage_index: jax.Array | int\n",
    ") -> Dict[str, jax.Array]:\n",
    "    \"\"\"Prepare indices for controlling the execution of the looping pipeline.\n",
    "\n",
    "    Args:\n",
    "        num_loops: Number of loops in the pipeline, or separate stage layers per device. num_loops=1 is equivalent to a non-looping pipeline.\n",
    "        num_microbatches: Number of microbatches to split the batch into.\n",
    "        num_stages: Number of stages/devices the pipeline is distributed over.\n",
    "        stage_index: Index of the stage/device in the pipeline.\n",
    "\n",
    "    Returns:\n",
    "        Dictionary of indices for controlling the execution of the pipeline.\n",
    "    \"\"\"\n",
    "    num_iterations = num_loops * num_microbatches + num_stages - 1\n",
    "    index_array = -jnp.ones((num_iterations,), dtype=jnp.int32)\n",
    "    # Only first stage uses inputs. Looping communications from last\n",
    "    # stage are buffered in the inputs, so we repeatedly iterate over\n",
    "    # the inputs.\n",
    "    input_indices = jnp.where(\n",
    "        stage_index == 0,\n",
    "        index_array.at[: num_loops * num_microbatches].set(\n",
    "            jnp.tile(jnp.arange(num_microbatches), reps=(num_loops,))\n",
    "        ),\n",
    "        index_array,\n",
    "    )\n",
    "    # For the first stage, identify input indices that we use to buffer\n",
    "    # the communications from the last stage. For all other stages, we\n",
    "    # use the last state from the previous stage as input.\n",
    "    update_indices = jnp.where(\n",
    "        stage_index == 0,\n",
    "        index_array.at[num_stages : num_stages + (num_loops - 1) * num_microbatches].set(\n",
    "            jnp.tile(jnp.arange(num_microbatches), reps=(num_loops - 1,))\n",
    "        ),\n",
    "        index_array,\n",
    "    )\n",
    "    # For the last stage, we use the outputs of the last loop as the\n",
    "    # final outputs.\n",
    "    output_indices = jnp.where(\n",
    "        stage_index == num_stages - 1,\n",
    "        index_array.at[-num_microbatches:].set(jnp.arange(num_microbatches)),\n",
    "        index_array,\n",
    "    )\n",
    "    # For all stages, we iterate over the parameters of the different loops.\n",
    "    # We use the 0-index for indices that fall into the pipeline bubble.\n",
    "    params_indices = jnp.zeros_like(index_array)\n",
    "    for i in range(num_loops):\n",
    "        start_index = stage_index + i * num_microbatches\n",
    "        params_indices = jax.lax.dynamic_update_slice_in_dim(\n",
    "            params_indices,\n",
    "            jnp.full(shape=(num_microbatches,), fill_value=i, dtype=params_indices.dtype),\n",
    "            start_index,\n",
    "            axis=0,\n",
    "        )\n",
    "    return {\n",
    "        \"input\": input_indices,\n",
    "        \"output\": output_indices,\n",
    "        \"update\": update_indices,\n",
    "        \"params\": params_indices,\n",
    "    }"
   ]
  },
  {
   "cell_type": "markdown",
   "metadata": {},
   "source": [
    "The easiest way of understanding these indices is to print them for a simple example. Let's do this for a model with three devices, two loops, and four microbatches. In this setup, we get the following indices for the three devices:"
   ]
  },
  {
   "cell_type": "code",
   "execution_count": 8,
   "metadata": {},
   "outputs": [
    {
     "name": "stderr",
     "output_type": "stream",
     "text": [
      "2024-03-07 10:47:39.006121: E external/xla/xla/stream_executor/cuda/cuda_driver.cc:273] failed call to cuInit: CUDA_ERROR_NO_DEVICE: no CUDA-capable device is detected\n",
      "CUDA backend failed to initialize: FAILED_PRECONDITION: No visible GPU devices. (Set TF_CPP_MIN_LOG_LEVEL=0 and rerun for more info.)\n"
     ]
    },
    {
     "name": "stdout",
     "output_type": "stream",
     "text": [
      "=========== Stage Index 0 ===========\n",
      "step  :  0  1  2  3  4  5  6  7  8  9\n",
      "input :  0  1  2  3  0  1  2  3 -1 -1\n",
      "output: -1 -1 -1 -1 -1 -1 -1 -1 -1 -1\n",
      "update: -1 -1 -1  0  1  2  3 -1 -1 -1\n",
      "params:  0  0  0  0  1  1  1  1  0  0\n",
      "\n",
      "=========== Stage Index 1 ===========\n",
      "step  :  0  1  2  3  4  5  6  7  8  9\n",
      "input : -1 -1 -1 -1 -1 -1 -1 -1 -1 -1\n",
      "output: -1 -1 -1 -1 -1 -1 -1 -1 -1 -1\n",
      "update: -1 -1 -1 -1 -1 -1 -1 -1 -1 -1\n",
      "params:  0  0  0  0  0  1  1  1  1  0\n",
      "\n",
      "=========== Stage Index 2 ===========\n",
      "step  :  0  1  2  3  4  5  6  7  8  9\n",
      "input : -1 -1 -1 -1 -1 -1 -1 -1 -1 -1\n",
      "output: -1 -1 -1 -1 -1 -1  0  1  2  3\n",
      "update: -1 -1 -1 -1 -1 -1 -1 -1 -1 -1\n",
      "params:  0  0  0  0  0  0  1  1  1  1\n",
      "\n"
     ]
    }
   ],
   "source": [
    "num_stages = 3\n",
    "num_loops = 2\n",
    "num_microbatches = 4\n",
    "for i in range(num_stages):\n",
    "    indices = prepare_looping_pipeline_indices(\n",
    "        num_loops=num_loops,\n",
    "        num_microbatches=num_microbatches,\n",
    "        num_stages=num_stages,\n",
    "        stage_index=i,\n",
    "    )\n",
    "    s = [\"step  : \" + \" \".join(f\"{t:2d}\" for t in range(len(indices[\"input\"])))]\n",
    "    for k, v in indices.items():\n",
    "        s.append(f\"{k:6s}: \" + \" \".join(f\"{t:2d}\" for t in v))\n",
    "    max_len = max(map(len, s))\n",
    "    s.insert(0, (f\" Stage Index {i} \").center(max_len, \"=\"))\n",
    "    print(\"\\n\".join(s) + \"\\n\")"
   ]
  },
  {
   "cell_type": "markdown",
   "metadata": {},
   "source": [
    "The first device iterates over its input array as in a standard pipeline. Once the end is reached, it loops back to the first microbatch. At this point, the array will have been updated (seen by the `update_indices` being 0 at step 3) and contain the output features of the first microbatch after layer 2 on stage 2. In terms of the parameter indices, the first stage executes four times layer 0 (iterates over the four input microbatches), and then switches to layer 3. For the last two steps, we can arbitrarily select the layer since the output is not used anymore.\n",
    "\n",
    "For the second device, we see that it does not use the input, output or update indices, since it will always process the last communicated features and send them to the next stage. The parameter indices are shifted by one in comparison to the first device, since it needs to wait for the first device to process the microbatches by the first layer.\n",
    "\n",
    "Finally, the third device has the same `input` and `update` indices as the second device, since it always processes the last communicated features. The `output` indices are set to -1 for the first six steps, since these outputs are from layer 2 and not the final layer. The last four microbatches are processed by the final layer and hence stored in the output array. The parameter indices are shifted by two in comparison to the first device, since it needs to wait for the first and second device to process the microbatches by the first and second layer, respectively.\n",
    "\n",
    "With the indices prepared, we can now implement the full pipeline execution. In comparison to the previous implementation, we do not use a `nn.scan` operation since we need to handle the parameter indices explicitly. This is because we need multiple parameters for the same module, but fewer than the number of iterations and each device using different parameters at different iterations. Instead, we use a `jax.lax.fori_loop` operation, which allows us to handle the parameter indices explicitly. We also need to handle the RNGs explicitly, since we cannot arbitrarily mix JAX and Flax transformations. After finishing the loop, we reshape the output back to the original shape, and return the reshaped output."
   ]
  },
  {
   "cell_type": "code",
   "execution_count": 9,
   "metadata": {},
   "outputs": [],
   "source": [
    "@jax.named_scope(\"pipeline\")\n",
    "def execute_looping_pipeline(\n",
    "    module: nn.Module,\n",
    "    params: PyTree,\n",
    "    x: jax.Array,\n",
    "    rngs: PyTree,\n",
    "    *args,\n",
    "    num_loops: int,\n",
    "    num_microbatches: int,\n",
    "    model_axis_name: str,\n",
    "    **kwargs,\n",
    "):\n",
    "    \"\"\"Execute a looping pipeline of stages on a batch of data.\n",
    "\n",
    "    Uses a breadth-first strategy to execute the pipeline stages in parallel.\n",
    "\n",
    "    Args:\n",
    "        module: Flax module representing a single pipeline stage to execute.\n",
    "        params: PyTree of parameters for the pipeline stages.\n",
    "        x: Batch of input data, only needed on device of the first stage. Data will be split into micro-batches.\n",
    "        rngs: PyTree of random number generators for the pipeline stages.\n",
    "        *args: Additional arguments to the module.\n",
    "        num_loops: Number of loops in the pipeline, or separate stage layers per device. num_loops=1 is equivalent to a non-looping pipeline.\n",
    "        num_microbatches: Number of micro-batches to split the batch into.\n",
    "        model_axis_name: Name of the model axis in the mesh/shard_map.\n",
    "        **kwargs: Additional keyword arguments to the module.\n",
    "\n",
    "    Returns:\n",
    "        Output of the last stage of the pipeline, with equivalent shape to input x. For devices that are not\n",
    "        the last stage, the output is zeros.\n",
    "    \"\"\"\n",
    "    num_stages = jax.lax.psum(1, model_axis_name)\n",
    "    assert num_stages > 1, \"Pipeline must have at least 2 stages.\"\n",
    "    stage_index = jax.lax.axis_index(model_axis_name)\n",
    "    # Structure the input data into micro-batches.\n",
    "    batch_size = x.shape[0]\n",
    "    assert (\n",
    "        batch_size % num_microbatches == 0\n",
    "    ), f\"Batch size {batch_size} must be divisible by number of microbatches {num_microbatches}\"\n",
    "    microbatch_size = batch_size // num_microbatches\n",
    "    microbatches = jnp.reshape(x, (num_microbatches, microbatch_size, *x.shape[1:]))\n",
    "    last_state = jnp.zeros_like(microbatches[0])\n",
    "    outputs = jnp.zeros_like(microbatches)\n",
    "    # Prepare indices for each stage.\n",
    "    indices = prepare_looping_pipeline_indices(\n",
    "        num_loops=num_loops,\n",
    "        num_microbatches=num_microbatches,\n",
    "        num_stages=num_stages,\n",
    "        stage_index=stage_index,\n",
    "    )\n",
    "    num_iterations = indices[\"input\"].shape[0]\n",
    "    pipeline_state = PipelineState(\n",
    "        inputs=microbatches,\n",
    "        outputs=outputs,\n",
    "        input_indices=indices[\"input\"],\n",
    "        output_indices=indices[\"output\"],\n",
    "        update_indices=indices[\"update\"],\n",
    "        params_indices=indices[\"params\"],\n",
    "        last_state=last_state,\n",
    "        rngs=rngs,\n",
    "    )\n",
    "    # Execute the pipeline via a jax fori_loop. Alternatively, a\n",
    "    # scan could be used to execute the pipeline.\n",
    "    pipeline_fn = functools.partial(\n",
    "        execute_looping_pipeline_step,\n",
    "        *args,\n",
    "        module=module,\n",
    "        params=params,\n",
    "        model_axis_name=model_axis_name,\n",
    "        **kwargs,\n",
    "    )\n",
    "    pipeline_state = jax.lax.fori_loop(\n",
    "        0,\n",
    "        num_iterations,\n",
    "        body_fun=pipeline_fn,\n",
    "        init_val=pipeline_state,\n",
    "    )\n",
    "    # Return the final outputs, reshaped as original input.\n",
    "    outputs = pipeline_state.outputs\n",
    "    return jnp.reshape(outputs, (batch_size, *outputs.shape[2:]))"
   ]
  },
  {
   "cell_type": "markdown",
   "metadata": {},
   "source": [
    "The final piece we need to implement is the `LoopingPipelineModule` as an extension of the `PipelineModule` before. During training, we will create the module of the stage as before, but pass its variables and RNGs explicitly to the looping pipeline function. During initialization, we need to create the parameters for the different layers in the looping pipeline explicitly. We do this by simply using a `nn.scan` during init, which loops over the number of layers and creates the parameters for each layer while stacking them on the first dimension. Since we do not use the output of the initialization, we can ignore the output of the scan and simply return the initialized parameters. This also reduces initialization time, since we do not need to run the whole pipeline function during initialization."
   ]
  },
  {
   "cell_type": "code",
   "execution_count": 10,
   "metadata": {},
   "outputs": [],
   "source": [
    "class LoopingPipelineModule(nn.Module):\n",
    "    num_loops: int\n",
    "    model_axis_name: str\n",
    "    num_microbatches: int\n",
    "    module_fn: Callable[..., nn.Module]\n",
    "\n",
    "    @nn.compact\n",
    "    def __call__(self, x: jax.Array, *args, **kwargs):\n",
    "        if self.is_initializing():\n",
    "            # During initialization, we want to create a separate set of parameters\n",
    "            # for each loop. We do this by scanning the module during init. Note that\n",
    "            # we do not need to execute the pipeline, since we only need to create the\n",
    "            # parameters.\n",
    "            sample_microbatch = x[:: self.num_microbatches]\n",
    "            module = self.module_fn()\n",
    "            scan_fn = nn.scan(\n",
    "                lambda module, carry, _: (module(carry, *args, **kwargs), None),\n",
    "                variable_axes={\"params\": 0},\n",
    "                split_rngs={\"params\": True, \"dropout\": True},\n",
    "                length=self.num_loops,\n",
    "            )\n",
    "            out, _ = scan_fn(module, sample_microbatch, ())\n",
    "            return jnp.repeat(out, self.num_microbatches, axis=0)\n",
    "        else:\n",
    "            # During the forward pass, we extract the initialized parameters for\n",
    "            # all loops. In the pipeline, we then sub-index the parameters based on\n",
    "            # the loop index.\n",
    "            module = self.module_fn()\n",
    "            params = module.variables\n",
    "            # Since we make use of a non-flax transformation, we need to pass the\n",
    "            # RNGs explicitly to the pipeline.\n",
    "            rngs = {name: self.make_rng(name) for name in self.scope.rngs}\n",
    "            return execute_looping_pipeline(\n",
    "                module=module,\n",
    "                params=params,\n",
    "                x=x,\n",
    "                rngs=rngs,\n",
    "                *args,\n",
    "                num_loops=self.num_loops,\n",
    "                num_microbatches=self.num_microbatches,\n",
    "                model_axis_name=self.model_axis_name,\n",
    "                **kwargs,\n",
    "            )"
   ]
  },
  {
   "cell_type": "markdown",
   "metadata": {},
   "source": [
    "For the full model, we can then simply reuse the `PPClassifier` class, and pass the `LoopingPipelineModule` with the loops equal to the number of layers per device. Each module itself will then contain a single layer, with two modules per stage (with four model devices)."
   ]
  },
  {
   "cell_type": "code",
   "execution_count": 11,
   "metadata": {},
   "outputs": [],
   "source": [
    "def get_looping_classifier(config: ConfigDict) -> nn.Module:\n",
    "    looping_model_config = config.copy_and_resolve_references()\n",
    "    looping_model_config.num_layers = 1\n",
    "    looping_module_class = functools.partial(\n",
    "        LoopingPipelineModule,\n",
    "        num_loops=config.num_layers,\n",
    "    )\n",
    "    return PPClassifier(config=looping_model_config, pipeline_module_class=looping_module_class)\n",
    "\n",
    "\n",
    "config = get_default_pp_classifier_config()\n",
    "model_lpp = get_looping_classifier(config.model)\n",
    "optimizer = optax.adamw(\n",
    "    learning_rate=config.optimizer.learning_rate,\n",
    ")"
   ]
  },
  {
   "cell_type": "markdown",
   "metadata": {},
   "source": [
    "### Initialization\n",
    "\n",
    "The initialization of the looping pipeline follows the same principles as the non-looped pipeline. We first redefine the initialization function, the mesh and create the example batch, as done in the previous notebook."
   ]
  },
  {
   "cell_type": "code",
   "execution_count": 12,
   "metadata": {},
   "outputs": [],
   "source": [
    "device_array = np.array(jax.devices()).reshape(-1, config.model_axis_size)\n",
    "mesh = Mesh(device_array, (config.data_axis_name, config.model_axis_name))"
   ]
  },
  {
   "cell_type": "code",
   "execution_count": 13,
   "metadata": {},
   "outputs": [],
   "source": [
    "rng = jax.random.PRNGKey(config.seed)\n",
    "model_init_rng, data_inputs_rng, data_labels_rng = jax.random.split(rng, 3)\n",
    "batch = Batch(\n",
    "    inputs=jax.random.normal(data_inputs_rng, (config.data.batch_size, config.data.input_size)),\n",
    "    labels=jax.random.randint(\n",
    "        data_labels_rng, (config.data.batch_size,), 0, config.data.num_classes\n",
    "    ),\n",
    ")"
   ]
  },
  {
   "cell_type": "code",
   "execution_count": 14,
   "metadata": {},
   "outputs": [],
   "source": [
    "def init_fn(rng: jax.random.PRNGKey, x: jax.Array, model: nn.Module) -> TrainState:\n",
    "    init_rng, rng = jax.random.split(rng)\n",
    "    variables = model.init({\"params\": init_rng}, x, train=False)\n",
    "    params = variables.pop(\"params\")\n",
    "    state = TrainState.create(\n",
    "        apply_fn=model.apply,\n",
    "        params=params,\n",
    "        tx=optimizer,\n",
    "        rng=rng,\n",
    "    )\n",
    "    return state"
   ]
  },
  {
   "cell_type": "markdown",
   "metadata": {},
   "source": [
    "We then need to identify the partitioning of the parameters, which we do below."
   ]
  },
  {
   "cell_type": "code",
   "execution_count": 15,
   "metadata": {},
   "outputs": [
    {
     "name": "stdout",
     "output_type": "stream",
     "text": [
      "{'input_dense': {'sharded': {'bias': PartitionSpec('model', None),\n",
      "                             'kernel': PartitionSpec('model', None, None)}},\n",
      " 'output_dense': {'sharded': {'bias': PartitionSpec('model', None),\n",
      "                              'kernel': PartitionSpec('model', None, None)}},\n",
      " 'output_norm': {'sharded': {'bias': PartitionSpec('model', None),\n",
      "                             'scale': PartitionSpec('model', None)}},\n",
      " 'pipeline': {'sharded': {'mlp_layers': {'block': {'input_dense': {'bias': PartitionSpec('model', None, None, None),\n",
      "                                                                   'kernel': PartitionSpec('model', None, None, None, None)},\n",
      "                                                   'output_dense': {'bias': PartitionSpec('model', None, None, None),\n",
      "                                                                    'kernel': PartitionSpec('model', None, None, None, None)},\n",
      "                                                   'pre_norm': {'bias': PartitionSpec('model', None, None, None),\n",
      "                                                                'scale': PartitionSpec('model', None, None, None)}}}}}}\n"
     ]
    }
   ],
   "source": [
    "init_lpp_fn = shard_map(\n",
    "    functools.partial(init_fn, model=model_lpp),\n",
    "    mesh,\n",
    "    in_specs=(P(), P(config.data_axis_name)),\n",
    "    out_specs=P(),\n",
    "    check_rep=False,\n",
    ")\n",
    "state_lpp_shapes = jax.eval_shape(init_lpp_fn, model_init_rng, batch.inputs)\n",
    "state_lpp_specs = nn.get_partition_spec(state_lpp_shapes)\n",
    "pprint(state_lpp_specs.params)"
   ]
  },
  {
   "cell_type": "markdown",
   "metadata": {},
   "source": [
    "Since we use the same config for both the non-looped and the looped pipeline, the partitioning is the almost same as before, except that the pipeline parameters each have an additional axis. This is because each parameter in the pipeline has the structure `(model devices, stages per device, layers per stage, ...)` instead of `(model devices, layers per device, ...)`. We can see this by comparing the shapes of the parameters of the non-looped and looped pipeline after the full initialization:"
   ]
  },
  {
   "cell_type": "code",
   "execution_count": 16,
   "metadata": {},
   "outputs": [
    {
     "name": "stdout",
     "output_type": "stream",
     "text": [
      "{'input_dense': {'bias': Partitioned(value=(4, 2, 1, 512),\n",
      "                                     names=('model', None, None, None),\n",
      "                                     mesh=None),\n",
      "                 'kernel': Partitioned(value=(4, 2, 1, 512, 512),\n",
      "                                       names=('model', None, None, None, None),\n",
      "                                       mesh=None)},\n",
      " 'output_dense': {'bias': Partitioned(value=(4, 2, 1, 512),\n",
      "                                      names=('model', None, None, None),\n",
      "                                      mesh=None),\n",
      "                  'kernel': Partitioned(value=(4, 2, 1, 512, 512),\n",
      "                                        names=('model', None, None, None, None),\n",
      "                                        mesh=None)},\n",
      " 'pre_norm': {'bias': Partitioned(value=(4, 2, 1, 512),\n",
      "                                  names=('model', None, None, None),\n",
      "                                  mesh=None),\n",
      "              'scale': Partitioned(value=(4, 2, 1, 512),\n",
      "                                   names=('model', None, None, None),\n",
      "                                   mesh=None)}}\n"
     ]
    }
   ],
   "source": [
    "init_lpp_fn = jax.jit(\n",
    "    shard_map(\n",
    "        functools.partial(init_fn, model=model_lpp),\n",
    "        mesh,\n",
    "        in_specs=(P(), P(config.data_axis_name)),\n",
    "        out_specs=state_lpp_specs,\n",
    "        check_rep=False,\n",
    "    ),\n",
    ")\n",
    "state_lpp = init_lpp_fn(model_init_rng, batch.inputs)\n",
    "\n",
    "pprint(\n",
    "    jax.tree_map(lambda x: x.shape, state_lpp.params[\"pipeline\"][\"sharded\"][\"mlp_layers\"][\"block\"])\n",
    ")"
   ]
  },
  {
   "cell_type": "markdown",
   "metadata": {},
   "source": [
    "In the default config, we distribute the pipeline over 4 model devices, each having 2 stages and 1 layer per stage. The axis for the layer per stage is introduced by the scan in `MLPLayers`. This axis could also be removed by directly using `MLPBlock` in the `LoopingPipelineModule`, but we keep it for minimal changes between the non-looped and looped version.\n",
    "\n",
    "### Training\n",
    "\n",
    "Let's now compile the train step, which is again identical to the non-looped version and simply needs updated sharding specifications."
   ]
  },
  {
   "cell_type": "code",
   "execution_count": 17,
   "metadata": {},
   "outputs": [
    {
     "name": "stderr",
     "output_type": "stream",
     "text": [
      "/home/plippe/anaconda3/envs/jax/lib/python3.10/site-packages/jax/_src/interpreters/mlir.py:761: UserWarning: Some donated buffers were not usable: ShapedArray(float32[1,512]), ShapedArray(float32[1,784,512]), ShapedArray(float32[1,10]), ShapedArray(float32[1,512,10]), ShapedArray(float32[1,512]), ShapedArray(float32[1,512]), ShapedArray(float32[1,2,1,512]), ShapedArray(float32[1,2,1,512,512]), ShapedArray(float32[1,2,1,512]), ShapedArray(float32[1,2,1,512,512]), ShapedArray(float32[1,2,1,512]), ShapedArray(float32[1,2,1,512]), ShapedArray(float32[1,512]), ShapedArray(float32[1,784,512]), ShapedArray(float32[1,10]), ShapedArray(float32[1,512,10]), ShapedArray(float32[1,512]), ShapedArray(float32[1,512]), ShapedArray(float32[1,2,1,512]), ShapedArray(float32[1,2,1,512,512]), ShapedArray(float32[1,2,1,512]), ShapedArray(float32[1,2,1,512,512]), ShapedArray(float32[1,2,1,512]), ShapedArray(float32[1,2,1,512]), ShapedArray(float32[1,512]), ShapedArray(float32[1,784,512]), ShapedArray(float32[1,10]), ShapedArray(float32[1,512,10]), ShapedArray(float32[1,512]), ShapedArray(float32[1,512]), ShapedArray(float32[1,2,1,512]), ShapedArray(float32[1,2,1,512,512]), ShapedArray(float32[1,2,1,512]), ShapedArray(float32[1,2,1,512,512]), ShapedArray(float32[1,2,1,512]), ShapedArray(float32[1,2,1,512]).\n",
      "See an explanation at https://jax.readthedocs.io/en/latest/faq.html#buffer-donation.\n",
      "  warnings.warn(\"Some donated buffers were not usable:\"\n"
     ]
    }
   ],
   "source": [
    "train_step_lpp_fn = jax.jit(\n",
    "    shard_map(\n",
    "        functools.partial(train_step_pp, config=config),\n",
    "        mesh,\n",
    "        in_specs=(state_lpp_specs, P(), P(config.data_axis_name)),\n",
    "        out_specs=(state_lpp_specs, P()),\n",
    "        check_rep=False,\n",
    "    ),\n",
    "    donate_argnames=(\"state\", \"metrics\"),\n",
    ")\n",
    "state_shapes, metric_shapes = jax.eval_shape(\n",
    "    train_step_lpp_fn,\n",
    "    state_lpp,\n",
    "    None,\n",
    "    batch,\n",
    ")\n",
    "metrics_lpp = jax.tree_map(lambda x: jnp.zeros(x.shape, dtype=x.dtype), metric_shapes)\n",
    "state_lpp, metrics_lpp = train_step_lpp_fn(state_lpp, metrics_lpp, batch)"
   ]
  },
  {
   "cell_type": "markdown",
   "metadata": {},
   "source": [
    "We print the number of overall parameters to verify that it is the same as in the non-looped version."
   ]
  },
  {
   "cell_type": "code",
   "execution_count": 18,
   "metadata": {},
   "outputs": [
    {
     "name": "stdout",
     "output_type": "stream",
     "text": [
      "Number of parameters: 5_842_984\n"
     ]
    }
   ],
   "source": [
    "print(f\"Number of parameters: {get_num_params(state_lpp):_}\")"
   ]
  },
  {
   "cell_type": "markdown",
   "metadata": {},
   "source": [
    "We can also train the model on the random data classification task, and check if the model is training as expected."
   ]
  },
  {
   "cell_type": "code",
   "execution_count": 19,
   "metadata": {},
   "outputs": [
    {
     "name": "stdout",
     "output_type": "stream",
     "text": [
      " Final Metrics - Looping Pipeline \n",
      "accuracy: 1.000000\n",
      "loss: 0.000213\n"
     ]
    }
   ],
   "source": [
    "for _ in range(15):\n",
    "    state_lpp, metrics_lpp = train_step_lpp_fn(state_lpp, metrics_lpp, batch)\n",
    "final_metrics_lpp = jax.tree_map(lambda x: jnp.zeros(x.shape, dtype=x.dtype), metric_shapes)\n",
    "state_lpp, final_metrics_lpp = train_step_lpp_fn(state_lpp, final_metrics_lpp, batch)\n",
    "print_metrics(final_metrics_lpp, title=\"Final Metrics - Looping Pipeline\")"
   ]
  },
  {
   "cell_type": "markdown",
   "metadata": {},
   "source": [
    "The accuracy and loss of the model are as expected very similar to the non-looped pipeline, and the model is training as expected."
   ]
  },
  {
   "cell_type": "markdown",
   "metadata": {},
   "source": [
    "## Testing Pipeline Parallelism\n",
    "\n",
    "We have now implemented both the non-looped and looped pipeline parallelism, and trained the model on a simple random data classification task. We can now test if the model parallelized across devices works identically to the non-parallelized single-device model. We can do this by comparing the outputs of the non-parallelized and parallelized model for the same input and parameters. We will use the same random input for both models, and compare the outputs of the final layer. If the outputs are the same, we can conclude that the model parallelized across devices works identically to the non-parallelized single-device model.\n",
    "\n",
    "We start by training a non-looped pipeline model on the random data classification task as the base model."
   ]
  },
  {
   "cell_type": "code",
   "execution_count": 20,
   "metadata": {},
   "outputs": [
    {
     "name": "stderr",
     "output_type": "stream",
     "text": [
      "/home/plippe/anaconda3/envs/jax/lib/python3.10/site-packages/jax/_src/interpreters/mlir.py:761: UserWarning: Some donated buffers were not usable: ShapedArray(float32[1,512]), ShapedArray(float32[1,784,512]), ShapedArray(float32[1,10]), ShapedArray(float32[1,512,10]), ShapedArray(float32[1,512]), ShapedArray(float32[1,512]), ShapedArray(float32[1,2,512]), ShapedArray(float32[1,2,512,512]), ShapedArray(float32[1,2,512]), ShapedArray(float32[1,2,512,512]), ShapedArray(float32[1,2,512]), ShapedArray(float32[1,2,512]), ShapedArray(float32[1,512]), ShapedArray(float32[1,784,512]), ShapedArray(float32[1,10]), ShapedArray(float32[1,512,10]), ShapedArray(float32[1,512]), ShapedArray(float32[1,512]), ShapedArray(float32[1,2,512]), ShapedArray(float32[1,2,512,512]), ShapedArray(float32[1,2,512]), ShapedArray(float32[1,2,512,512]), ShapedArray(float32[1,2,512]), ShapedArray(float32[1,2,512]), ShapedArray(float32[1,512]), ShapedArray(float32[1,784,512]), ShapedArray(float32[1,10]), ShapedArray(float32[1,512,10]), ShapedArray(float32[1,512]), ShapedArray(float32[1,512]), ShapedArray(float32[1,2,512]), ShapedArray(float32[1,2,512,512]), ShapedArray(float32[1,2,512]), ShapedArray(float32[1,2,512,512]), ShapedArray(float32[1,2,512]), ShapedArray(float32[1,2,512]).\n",
      "See an explanation at https://jax.readthedocs.io/en/latest/faq.html#buffer-donation.\n",
      "  warnings.warn(\"Some donated buffers were not usable:\"\n"
     ]
    }
   ],
   "source": [
    "state_pp = train_pipeline_model(\n",
    "    config=config, mesh=mesh, batch=batch, model_init_rng=model_init_rng, num_steps=15\n",
    ")"
   ]
  },
  {
   "cell_type": "markdown",
   "metadata": {},
   "source": [
    "We then create the mesh for a single-device model parallelism."
   ]
  },
  {
   "cell_type": "code",
   "execution_count": 21,
   "metadata": {},
   "outputs": [],
   "source": [
    "single_device_mesh = Mesh(np.array(jax.devices()).reshape(-1, 1), (\"data\", \"model\"))"
   ]
  },
  {
   "cell_type": "markdown",
   "metadata": {},
   "source": [
    "We create the respective configuration and models. Since the different strategies may split the RNGs in different ways, we set the dropout to zero to remove the randomness from the model."
   ]
  },
  {
   "cell_type": "code",
   "execution_count": 22,
   "metadata": {},
   "outputs": [],
   "source": [
    "single_device_config = config.model.copy_and_resolve_references()\n",
    "single_device_config.model_axis_size = 1\n",
    "single_device_config.num_layers *= config.model.model_axis_size\n",
    "single_device_config.dropout_rate = 0.0\n",
    "multi_device_config = config.model.copy_and_resolve_references()\n",
    "multi_device_config.dropout_rate = 0.0\n",
    "single_device_model = PPClassifier(config=single_device_config)\n",
    "multi_device_pp_model = PPClassifier(config=multi_device_config)\n",
    "multi_device_lpp_model = get_looping_classifier(config=multi_device_config)"
   ]
  },
  {
   "cell_type": "markdown",
   "metadata": {},
   "source": [
    "We now create the parameters for each model. We will use the pretrained model from the pipeline model, and need to reshape them for the other setups."
   ]
  },
  {
   "cell_type": "code",
   "execution_count": 23,
   "metadata": {},
   "outputs": [],
   "source": [
    "plain_pipeline_params = state_pp.params"
   ]
  },
  {
   "cell_type": "markdown",
   "metadata": {},
   "source": [
    "In comparison to the standard pipeline, the looping pipeline needs to reorder the layers. While the standard pipeline has the first two layers on device 0, the looping pipeline has layer 0 and layer 4 on device 0. Hence, we reshape and transpose the parameters accordingly."
   ]
  },
  {
   "cell_type": "code",
   "execution_count": 24,
   "metadata": {},
   "outputs": [],
   "source": [
    "def plain_to_looping_params(p: jax.Array) -> jax.Array:\n",
    "    p = p.reshape(\n",
    "        (\n",
    "            p.shape[1],\n",
    "            p.shape[0],\n",
    "            1,\n",
    "        )\n",
    "        + p.shape[2:]\n",
    "    )\n",
    "    p = p.transpose((1, 0) + tuple(range(2, p.ndim)))\n",
    "    return p\n",
    "\n",
    "\n",
    "looping_pipeline_params = jax.device_get({k: v for k, v in state_pp.params.items()})\n",
    "looping_pipeline_params[\"pipeline\"] = jax.tree_map(\n",
    "    lambda x: nn.Partitioned(value=plain_to_looping_params(x.value), names=x.names),\n",
    "    looping_pipeline_params[\"pipeline\"],\n",
    "    is_leaf=lambda x: isinstance(x, nn.Partitioned),\n",
    ")"
   ]
  },
  {
   "cell_type": "markdown",
   "metadata": {},
   "source": [
    "For the single parameters, we need to set the model axis to 1, and move all layers to the second axis in the pipeline parameters. For the input and output layers, we select the device which has non-zero parameters."
   ]
  },
  {
   "cell_type": "code",
   "execution_count": 25,
   "metadata": {},
   "outputs": [],
   "source": [
    "single_params = jax.device_get({k: v for k, v in state_pp.params.items()})\n",
    "single_params[\"input_dense\"] = jax.tree_map(\n",
    "    lambda x: nn.Partitioned(value=x.value[0:1], names=x.names),\n",
    "    single_params[\"input_dense\"],\n",
    "    is_leaf=lambda x: isinstance(x, nn.Partitioned),\n",
    ")\n",
    "single_params[\"output_dense\"] = jax.tree_map(\n",
    "    lambda x: nn.Partitioned(value=x.value[-1:], names=x.names),\n",
    "    single_params[\"output_dense\"],\n",
    "    is_leaf=lambda x: isinstance(x, nn.Partitioned),\n",
    ")\n",
    "single_params[\"output_norm\"] = jax.tree_map(\n",
    "    lambda x: nn.Partitioned(value=x.value[-1:], names=x.names),\n",
    "    single_params[\"output_norm\"],\n",
    "    is_leaf=lambda x: isinstance(x, nn.Partitioned),\n",
    ")\n",
    "single_params[\"pipeline\"] = jax.tree_map(\n",
    "    lambda x: nn.Partitioned(value=x.value.reshape(1, -1, *x.value.shape[2:]), names=x.names),\n",
    "    single_params[\"pipeline\"],\n",
    "    is_leaf=lambda x: isinstance(x, nn.Partitioned),\n",
    ")"
   ]
  },
  {
   "cell_type": "markdown",
   "metadata": {},
   "source": [
    "We can now distribute the parameters on the respective meshes. We simply create the state with the passed parameters, and then use the `shard` function to distribute the parameters over the mesh."
   ]
  },
  {
   "cell_type": "code",
   "execution_count": 26,
   "metadata": {},
   "outputs": [],
   "source": [
    "def create_single_state_pp() -> TrainState:\n",
    "    return TrainState.create(\n",
    "        apply_fn=single_device_model.apply,\n",
    "        params=single_params,\n",
    "        tx=optimizer,\n",
    "        rng=jax.random.PRNGKey(0),\n",
    "    )\n",
    "\n",
    "\n",
    "create_single_state_pp_fn = jax.jit(\n",
    "    shard_map(\n",
    "        create_single_state_pp,\n",
    "        single_device_mesh,\n",
    "        in_specs=P(),\n",
    "        out_specs=P(),\n",
    "        check_rep=False,\n",
    "    ),\n",
    ")\n",
    "single_state_pp_shapes = jax.eval_shape(create_single_state_pp_fn)\n",
    "single_state_pp_specs = nn.get_partition_spec(single_state_pp_shapes)\n",
    "single_state_pp = jax.jit(\n",
    "    shard_map(\n",
    "        create_single_state_pp,\n",
    "        single_device_mesh,\n",
    "        in_specs=P(),\n",
    "        out_specs=single_state_pp_specs,\n",
    "        check_rep=False,\n",
    "    ),\n",
    ")()"
   ]
  },
  {
   "cell_type": "code",
   "execution_count": 27,
   "metadata": {},
   "outputs": [],
   "source": [
    "def create_multi_state_pp(state: TrainState) -> TrainState:\n",
    "    return TrainState.create(\n",
    "        apply_fn=multi_device_pp_model.apply,\n",
    "        params=state.params,\n",
    "        tx=state.tx,\n",
    "        rng=jax.random.PRNGKey(0),\n",
    "    )\n",
    "\n",
    "\n",
    "state_pp_specs = nn.get_partition_spec(state_pp)\n",
    "create_multi_state_pp_fn = jax.jit(\n",
    "    shard_map(\n",
    "        create_multi_state_pp,\n",
    "        mesh,\n",
    "        in_specs=(state_pp_specs,),\n",
    "        out_specs=P(),\n",
    "        check_rep=False,\n",
    "    ),\n",
    ")\n",
    "multi_state_pp_shapes = jax.eval_shape(create_multi_state_pp_fn, state_pp)\n",
    "multi_state_pp_specs = nn.get_partition_spec(multi_state_pp_shapes)\n",
    "multi_state_pp = jax.jit(\n",
    "    shard_map(\n",
    "        create_multi_state_pp,\n",
    "        mesh,\n",
    "        in_specs=(state_pp_specs,),\n",
    "        out_specs=multi_state_pp_specs,\n",
    "        check_rep=False,\n",
    "    ),\n",
    ")(state_pp)"
   ]
  },
  {
   "cell_type": "code",
   "execution_count": 28,
   "metadata": {},
   "outputs": [],
   "source": [
    "def create_multi_state_lpp(params: PyTree) -> TrainState:\n",
    "    return TrainState.create(\n",
    "        apply_fn=multi_device_lpp_model.apply,\n",
    "        params=params,\n",
    "        tx=optimizer,\n",
    "        rng=jax.random.PRNGKey(0),\n",
    "    )\n",
    "\n",
    "\n",
    "input_lpp_specs = nn.get_partition_spec(looping_pipeline_params)\n",
    "create_multi_state_lpp_fn = jax.jit(\n",
    "    shard_map(\n",
    "        create_multi_state_lpp,\n",
    "        mesh,\n",
    "        in_specs=(input_lpp_specs,),\n",
    "        out_specs=P(),\n",
    "        check_rep=False,\n",
    "    ),\n",
    ")\n",
    "multi_state_lpp_shapes = jax.eval_shape(create_multi_state_lpp_fn, looping_pipeline_params)\n",
    "multi_state_lpp_specs = nn.get_partition_spec(multi_state_lpp_shapes)\n",
    "multi_state_lpp = jax.jit(\n",
    "    shard_map(\n",
    "        create_multi_state_lpp,\n",
    "        mesh,\n",
    "        in_specs=(input_lpp_specs,),\n",
    "        out_specs=multi_state_lpp_specs,\n",
    "        check_rep=False,\n",
    "    ),\n",
    ")(looping_pipeline_params)"
   ]
  },
  {
   "cell_type": "markdown",
   "metadata": {},
   "source": [
    "Finally, we define the respective training steps."
   ]
  },
  {
   "cell_type": "code",
   "execution_count": 29,
   "metadata": {},
   "outputs": [],
   "source": [
    "train_step_single_pp_fn = jax.jit(\n",
    "    shard_map(\n",
    "        functools.partial(train_step_pp, config=config),\n",
    "        single_device_mesh,\n",
    "        in_specs=(single_state_pp_specs, P(), P(config.data_axis_name)),\n",
    "        out_specs=(single_state_pp_specs, P()),\n",
    "        check_rep=False,\n",
    "    ),\n",
    "    donate_argnames=(\"state\", \"metrics\"),\n",
    ")\n",
    "train_step_multi_pp_fn = jax.jit(\n",
    "    shard_map(\n",
    "        functools.partial(train_step_pp, config=config),\n",
    "        mesh,\n",
    "        in_specs=(multi_state_pp_specs, P(), P(config.data_axis_name)),\n",
    "        out_specs=(multi_state_pp_specs, P()),\n",
    "        check_rep=False,\n",
    "    ),\n",
    "    donate_argnames=(\"state\", \"metrics\"),\n",
    ")\n",
    "train_step_multi_lpp_fn = jax.jit(\n",
    "    shard_map(\n",
    "        functools.partial(train_step_pp, config=config),\n",
    "        mesh,\n",
    "        in_specs=(multi_state_lpp_specs, P(), P(config.data_axis_name)),\n",
    "        out_specs=(multi_state_lpp_specs, P()),\n",
    "        check_rep=False,\n",
    "    ),\n",
    "    donate_argnames=(\"state\", \"metrics\"),\n",
    ")\n",
    "\n",
    "metrics_single_pp = jax.tree_map(lambda x: jnp.zeros(x.shape, dtype=x.dtype), metric_shapes)\n",
    "metrics_multi_pp = jax.tree_map(lambda x: jnp.zeros(x.shape, dtype=x.dtype), metric_shapes)\n",
    "metrics_multi_lpp = jax.tree_map(lambda x: jnp.zeros(x.shape, dtype=x.dtype), metric_shapes)"
   ]
  },
  {
   "cell_type": "markdown",
   "metadata": {},
   "source": [
    "Below, we execute each training step three times, and compare the final metrics. If the metrics are the same, we can conclude that the pipeline versions work identically to the non-parallelized single-device model."
   ]
  },
  {
   "cell_type": "code",
   "execution_count": 30,
   "metadata": {},
   "outputs": [
    {
     "name": "stdout",
     "output_type": "stream",
     "text": [
      " Final Metrics - Single Device Pipeline \n",
      "accuracy: 1.000000\n",
      "loss: 0.002235\n",
      "\n",
      " Final Metrics - Multi Device Pipeline \n",
      "accuracy: 1.000000\n",
      "loss: 0.002235\n",
      "\n",
      " Final Metrics - Multi Device Looping Pipeline \n",
      "accuracy: 1.000000\n",
      "loss: 0.002235\n"
     ]
    }
   ],
   "source": [
    "for _ in range(3):\n",
    "    single_state_pp, metrics_single_pp = train_step_single_pp_fn(\n",
    "        single_state_pp, metrics_single_pp, batch\n",
    "    )\n",
    "    multi_state_pp, metrics_multi_pp = train_step_multi_pp_fn(\n",
    "        multi_state_pp, metrics_multi_pp, batch\n",
    "    )\n",
    "    multi_state_lpp, metrics_multi_lpp = train_step_multi_lpp_fn(\n",
    "        multi_state_lpp, metrics_multi_lpp, batch\n",
    "    )\n",
    "\n",
    "print_metrics(metrics_single_pp, title=\"Final Metrics - Single Device Pipeline\")\n",
    "print()\n",
    "print_metrics(metrics_multi_pp, title=\"Final Metrics - Multi Device Pipeline\")\n",
    "print()\n",
    "print_metrics(metrics_multi_lpp, title=\"Final Metrics - Multi Device Looping Pipeline\")"
   ]
  },
  {
   "cell_type": "markdown",
   "metadata": {},
   "source": [
    "All models have the same loss and accuracy, and we can conclude that the pipeline versions work identically to the non-parallelized single-device model. Note that with lower precision like bfloat16, the results may differ slightly due to different reduces happening in the train steps, but the difference should be negligible."
   ]
  },
  {
   "cell_type": "markdown",
   "metadata": {},
   "source": [
    "## Profiling\n",
    "\n",
    "We can now profile the model to see if the looping pipeline is more efficient than the non-looped pipeline. For simplicity, we use the MLP classifier in this notebook and scale it up to 16 layers with 2048 hidden size and mlp expansion of 4, and 8 microbatches. We distribute the model over one node with 8 A5000 GPUs, and use a model axis size of 2. Every pair of GPUs in the model axis are connected via 4 NVLink connections with a measured communication speed of 60GB/s in each direction. All other devices are connected via the PCIe bus, such that larger pipeline sizes would lead to a significant increase in communication cost. In general, we use the profiling to verify the working of the pipeline, and not to measure the absolute performance of the pipeline. All traces are uploaded [here](https://drive.google.com/file/d/1iz8XpnZOtscpWiYz3AhsLUs02n9fNDIp/view?usp=sharing). \n",
    "\n",
    "We first show the trace for the non-looped pipeline:\n",
    "\n",
    "<center width=\"100%\" style=\"padding: 10px\"><img src=\"../figures/pipeline_plain_trace.png\" width=\"1000px\"></center>\n",
    "\n",
    "Compared to the previous networks, we see many small operations and scans, which are difficult to see all from the image above. If you want to dive deeper into the trace, you can download the trace and open it in TensorBoard. We find the expected pattern of the forward pass being an outer loop of 9 steps (8 microbatches + 1 pipeline shift slot), and each step containing the execution of the 8 layers per stage with communication. The backward pass is similar with 9 outer steps and 8 inner steps. Although the communication is not overlapped with the computation, the communication between stages only takes 17$\\mu{}s$ compared to 5ms of a single stage forward pass. Where a lot of time is lost, though, is in the gradient synchronization after the backward pass. Since the gradients only finish computing in the last microbatch step, we need to wait almost until the end before we can start communicating the gradients. This is a significant bottleneck in the non-looped pipeline, especially on hardware with high communication costs over the data axis. We also note that in Transformer models, we would see a slightly different pattern, since the activations are significantly larger (additional sequence length) and reduce the relative communication cost of the gradients. Further, we find a significant amount of time is spent in the `dynamic_slice_update` operation of the inner `scan` operation over layers, which suggests that we may get a significant speedup by removing the scan as in the single-GPU setup.\n",
    "\n",
    "We now show the trace for the looped pipeline:\n",
    "\n",
    "<center width=\"100%\" style=\"padding: 10px\"><img src=\"../figures/pipeline_looping_trace.png\" width=\"1000px\"></center>\n",
    "\n",
    "This trace has even more small operations, which we need to zoom in to see. We find the expected pattern of the forward pass being an outer loop of $8 * 8 + 1=65$ steps, and each step containing the execution of only 1 layer. The backward pass is similar with 65 outer steps and 1 inner step. The communication again makes up only a small fraction of the total time, and the compiler overlaps the time with the `scan` operation computation. Still, we find a similar bottleneck in the gradient synchronization after the backward pass, which, in theory, the looping pipeline should be able to reduce. This is because the current implementation needs to stack the parameters over the looping axis within the pipeline, in order to support the SPMD jitting of the pipeline. Thus, the gradients are only communicated once the gradients for all parameters in the pipeline have been calculated. To obtain the maximum efficiency of the pipeline, we would need to support asynchronous gradient communication, which is left for future times. Nonetheless, already in its current version, the looping pipeline is 7% faster, taking 190ms for a full forward and backward pass versus 205ms for the non-looped pipeline."
   ]
  },
  {
   "cell_type": "markdown",
   "metadata": {},
   "source": [
    "## Conclusion\n",
    "\n",
    "In this notebook, we have discussed and implemented pipeline parallelism with micro-batching and looping pipelines. The main challenge of pipelines remains the pipeline bubble, which can reduce their efficiency. While looping pipelines and other strategies can improve its efficiency, we usually have to trade-off communication cost and computation time. Hence, the best trade-off depends on the specific model and hardware setup. We have also shown how to combine pipeline parallelism with data parallelism, and how to test the pipeline parallelism by comparing the outputs of the non-parallelized and parallelized model. For simplicity, we have not applied full sharding data parallelism, but the same principles apply and can be implemented without changes to the pipeline wrapper. We will show that in the final notebook on 3D parallelism. In the next notebook, we will discuss tensor parallelism, which is another strategy to parallelize the model across multiple devices."
   ]
  },
  {
   "cell_type": "markdown",
   "metadata": {},
   "source": [
    "## References and Resources\n",
    "\n",
    "\\[Huang et al., 2019\\] Huang, Y., Cheng, Y., Bapna, A., Firat, O., Chen, D., Chen, M., Lee, H., Ngiam, J., Le, Q.V. and Wu, Y., 2019. Gpipe: Efficient training of giant neural networks using pipeline parallelism. Advances in neural information processing systems, 32. [Paper link](https://arxiv.org/abs/1811.06965)\n",
    "\n",
    "\\[Narayanan et al., 2021\\] Narayanan, D., Shoeybi, M., Casper, J., LeGresley, P., Patwary, M., Korthikanti, V., Vainbrand, D., Kashinkunti, P., Bernauer, J., Catanzaro, B. and Phanishayee, A., 2021, November. Efficient large-scale language model training on gpu clusters using megatron-lm. In Proceedings of the International Conference for High Performance Computing, Networking, Storage and Analysis (pp. 1-15). [Paper link](https://arxiv.org/abs/2104.04473)\n",
    "\n",
    "\\[Lamy-Poirier, 2023\\] Lamy-Poirier, J., 2023. Breadth-First Pipeline Parallelism. Proceedings of Machine Learning and Systems, 5. [Paper link](https://arxiv.org/abs/2211.05953)\n",
    "\n",
    "\\[McKinney, 2023\\] McKinney, A., 2023. A Brief Overview of Parallelism Strategies in Deep Learning. [Blog post link](https://afmck.in/posts/2023-02-26-parallelism/)\n",
    "\n",
    "\\[Huggingface, 2024\\] Huggingface, 2024. Model Parallelism. [Documentation link](https://huggingface.co/transformers/v4.9.2/parallelism.html)\n",
    "\n",
    "\\[DeepSpeed, 2024\\] DeepSpeed, 2024. Pipeline Parallelism. [Documentation link](https://www.deepspeed.ai/tutorials/pipeline/)"
   ]
  },
  {
   "cell_type": "markdown",
   "metadata": {},
   "source": [
    "---\n",
    "\n",
    "[![Star our repository](https://img.shields.io/static/v1.svg?logo=star&label=⭐&message=Star%20Our%20Repository&color=yellow)](https://github.com/phlippe/uvadlc_notebooks/)  If you found this tutorial helpful, consider ⭐-ing our repository.    \n",
    "[![Ask questions](https://img.shields.io/static/v1.svg?logo=star&label=❔&message=Ask%20Questions&color=9cf)](https://github.com/phlippe/uvadlc_notebooks/issues)  For any questions, typos, or bugs that you found, please raise an issue on GitHub. \n",
    "\n",
    "---"
   ]
  }
 ],
 "metadata": {
  "kernelspec": {
   "display_name": "jax_new",
   "language": "python",
   "name": "python3"
  },
  "language_info": {
   "codemirror_mode": {
    "name": "ipython",
    "version": 3
   },
   "file_extension": ".py",
   "mimetype": "text/x-python",
   "name": "python",
   "nbconvert_exporter": "python",
   "pygments_lexer": "ipython3",
   "version": "3.10.12"
  },
  "vscode": {
   "interpreter": {
    "hash": "8a5edab282632443219e051e4ade2d1d5bbc671c781051bf1437897cbdfea0f1"
   }
  }
 },
 "nbformat": 4,
 "nbformat_minor": 2
}
