{
 "cells": [
  {
   "cell_type": "markdown",
   "metadata": {},
   "source": [
    "# Part 5: Language Modeling with 3D Parallelism\n",
    "\n",
    "**Filled notebook:** \n",
    "[![View filled on Github](https://img.shields.io/static/v1.svg?logo=github&label=Repo&message=View%20On%20Github&color=lightgrey)](https://github.com/phlippe/uvadlc_notebooks/blob/master/docs/tutorial_notebooks/scaling/JAX/3d_parallelism.ipynb)\n",
    "[![Open filled In Collab](https://colab.research.google.com/assets/colab-badge.svg)](https://colab.research.google.com/github/phlippe/uvadlc_notebooks/blob/master/docs/tutorial_notebooks/scaling/JAX/3d_parallelism.ipynb)   \n",
    "\n",
    "**Author:** [Phillip Lippe](https://phlippe.github.io/)"
   ]
  },
  {
   "cell_type": "markdown",
   "metadata": {},
   "source": [
    "In the previous tutorials, we have explored the concept of parallelism in the context of training large language models. We have seen how data parallelism can be used to distribute the training data across multiple devices, and how pipeline and tensor parallelism can be used to distribute the model across multiple devices. For training models with up to [trillion parameters](https://github.com/NVIDIA/Megatron-LM), one parallelism strategy alone will not be sufficient. Hence, in this tutorial, we will explore the concept of **3D parallelism**, which combines data, pipeline, and tensor parallelism to train models like large language models (LLM).\n",
    "\n",
    "To combine all parallelism strategies, we need to create a three-dimensional mesh of devices. Each axis will correspond to one of our parallelism strategies. The data parallelism axis will be responsible for distributing the training data across devices, the pipeline parallelism axis will be responsible for distributing the model's layers across devices, and the tensor parallelism axis will be responsible for parallelizing the individual layers across devices. Thereby, tensor parallelism requires the highest communication bandwidth, while data parallelism requires the lowest communication bandwidth. We need to take this communication bandwidth into account when designing the 3D parallelism mesh. For instance, GPUs that are within the same node and have a strong NVLink connection should be placed on the same tensor parallelism axis, while GPUs that are in different nodes should be placed on different tensor parallelism axes. Cross-node communication is much slower than the communication within a node, such that we may want to use data parallelism across nodes. Still, for nodes with a high communication bandwidth, we can use pipeline parallelism across nodes. This gives us the flexibility to design the 3D parallelism mesh according to the hardware we have available. An overview of the 3D parallelism mesh is shown in the figure below (figure credit: [DeepSpeed, 2024](https://www.deepspeed.ai/tutorials/pipeline/)).\n",
    "\n",
    "<center width=\"100%\" style=\"padding: 10px\"><img src=\"../figures/3d_parallelism.png\" width=\"1000px\"></center>\n",
    "\n",
    "In this notebook, we will combine the techniques we have implemented for data, pipeline and tensor parallelism to enable 3D parallelism. We demonstrate how easy it is in JAX to combine the different parallelism strategies, and experiment with different 3D parallelism configurations."
   ]
  },
  {
   "cell_type": "markdown",
   "metadata": {},
   "source": [
    "## Prerequisites\n",
    "\n",
    "First, let's start with setting up the basic environment and utility functions we have seen from previous notebooks. We download the python scripts of the previous notebooks below. This is only needed when running on Google Colab, and local execution will skip this step automatically."
   ]
  },
  {
   "cell_type": "code",
   "execution_count": 1,
   "metadata": {},
   "outputs": [],
   "source": [
    "import os\n",
    "import urllib.request\n",
    "from urllib.error import HTTPError\n",
    "\n",
    "# Github URL where python scripts are stored.\n",
    "base_url = \"https://raw.githubusercontent.com/phlippe/uvadlc_notebooks/master/docs/tutorial_notebooks/scaling/JAX/\"\n",
    "# Files to download.\n",
    "python_files = [\n",
    "    \"single_gpu.py\",\n",
    "    \"data_parallel.py\",\n",
    "    \"pipeline_parallel.py\",\n",
    "    \"tensor_parallel.py\",\n",
    "    \"tensor_parallel_async.py\",\n",
    "    \"tensor_parallel_transformer.py\",\n",
    "    \"utils.py\",\n",
    "]\n",
    "# For each file, check whether it already exists. If not, try downloading it.\n",
    "for file_name in python_files:\n",
    "    if not os.path.isfile(file_name):\n",
    "        file_url = base_url + file_name\n",
    "        print(f\"Downloading {file_url}...\")\n",
    "        try:\n",
    "            urllib.request.urlretrieve(file_url, file_name)\n",
    "        except HTTPError as e:\n",
    "            print(\n",
    "                \"Something went wrong. Please try to download the file directly from the GitHub repository, or contact the author with the full output including the following error:\\n\",\n",
    "                e,\n",
    "            )"
   ]
  },
  {
   "cell_type": "markdown",
   "metadata": {},
   "source": [
    "As before, we simulate 8 devices on CPU to demonstrate the parallelism without the need for multiple GPUs or TPUs. If you are running on your local machine and have multiple GPUs available, you can comment out the lines below."
   ]
  },
  {
   "cell_type": "code",
   "execution_count": 2,
   "metadata": {},
   "outputs": [],
   "source": [
    "from utils import simulate_CPU_devices\n",
    "\n",
    "simulate_CPU_devices()"
   ]
  },
  {
   "cell_type": "markdown",
   "metadata": {},
   "source": [
    "We now import our standard libraries."
   ]
  },
  {
   "cell_type": "code",
   "execution_count": 3,
   "metadata": {},
   "outputs": [],
   "source": [
    "import functools\n",
    "from pprint import pprint\n",
    "from typing import Any, Callable, Dict, Tuple\n",
    "\n",
    "import flax.linen as nn\n",
    "import jax\n",
    "import jax.numpy as jnp\n",
    "import numpy as np\n",
    "import optax\n",
    "from jax.experimental.shard_map import shard_map\n",
    "from jax.sharding import Mesh\n",
    "from jax.sharding import PartitionSpec as P\n",
    "from ml_collections import ConfigDict\n",
    "from tqdm.auto import tqdm\n",
    "\n",
    "PyTree = Any\n",
    "Parameter = jax.Array | nn.Partitioned\n",
    "Metrics = Dict[str, Tuple[jax.Array, ...]]"
   ]
  },
  {
   "cell_type": "markdown",
   "metadata": {},
   "source": [
    "We also import the utility functions from the previous notebooks. Our notebook will rely on many concepts of previous tutorials, such as `shard_module_params` and `sync_gradients` for handling fully-sharded data parallelism, `ModelParallelismWrapper` and `PipelineModule` for handling pipeline parallelism, and the transformer blocks from the tensor parallelism notebook. If you are not familiar with these functions and modules, we recommend to go through the previous tutorials first."
   ]
  },
  {
   "cell_type": "code",
   "execution_count": 4,
   "metadata": {},
   "outputs": [],
   "source": [
    "from data_parallel import fold_rng_over_axis, shard_module_params, sync_gradients\n",
    "from pipeline_parallel import ModelParallelismWrapper, PipelineModule\n",
    "from single_gpu import (\n",
    "    Batch,\n",
    "    TrainState,\n",
    "    accumulate_gradients,\n",
    "    get_num_params,\n",
    "    print_metrics,\n",
    ")\n",
    "from tensor_parallel_transformer import (\n",
    "    TPInputEmbedding,\n",
    "    TPTransformerBlock,\n",
    "    TPTransformerParallelBlock,\n",
    "    TransformerBackbone,\n",
    "    split_array_over_mesh,\n",
    ")"
   ]
  },
  {
   "cell_type": "markdown",
   "metadata": {},
   "source": [
    "## 3D Parallelism\n",
    "\n",
    "We will now combine the techniques we have implemented for data, pipeline and tensor parallelism to enable 3D parallelism. Most parallelization implementations we have done over the past tutorials have been designed with the idea that we may want to combine them in the future. For instance, the `ModelParallelismWrapper` supports nested model parallelism, where the module passed to the wrapper might also be partitioned over a different axis. Similarly, the `PipelineModule` operates independently of how the stages in the pipeline may be sharded. Moreover, our parameter sharding implementation in `shard_module_params` supports sharding over multiple axes at once, as we will see later on. All this together allows us to easily combine the different parallelism strategies.\n",
    "\n",
    "### Transformer Model\n",
    "\n",
    "We start by implementing the transformer model that we will use for our 3D parallelism experiments. We will use the same transformer model as in the tensor parallelism tutorial, but slightly adjust it to also support pipeline parallelism. For this, we first write a wrapper around the transformer backbone, i.e. the scan over layers, such that we can pass it to the `PipelineModule`. It is the same technique as we have seen in the pipeline parallelism notebook. Note that for simplicity, we will not use looping pipelines here, but only a single pipeline stage. However, the implementation would easily allow for looping pipelines as well."
   ]
  },
  {
   "cell_type": "code",
   "execution_count": 5,
   "metadata": {},
   "outputs": [],
   "source": [
    "class PipelineTransformerBackbone(nn.Module):\n",
    "    \"\"\"Transformer backbone with pipeline and tensor parallelism.\n",
    "\n",
    "    This module is a combination of the `TransformerBackbone` from the tensor parallelism tutorial\n",
    "    and the `PipelineModule` from the pipeline parallelism tutorial.\n",
    "    \"\"\"\n",
    "\n",
    "    config: ConfigDict\n",
    "    train: bool\n",
    "    mask: jax.Array | None = None\n",
    "    block_fn: Any = TPTransformerBlock\n",
    "    pipeline_module_class: Callable[..., nn.Module] = PipelineModule\n",
    "\n",
    "    @nn.compact\n",
    "    def __call__(self, x: jax.Array) -> jax.Array:\n",
    "        axis_size = jax.lax.psum(1, self.config.pipeline_axis_name)\n",
    "        # Define module per pipeline stage.\n",
    "        stage_module_fn = functools.partial(\n",
    "            TransformerBackbone,\n",
    "            config=self.config,\n",
    "            train=self.train,\n",
    "            mask=self.mask,\n",
    "            block_fn=self.block_fn,\n",
    "            name=\"layers\",\n",
    "        )\n",
    "        if axis_size == 1:\n",
    "            # If pipeline axis size is 1, we don't need to define a pipeline module.\n",
    "            module = stage_module_fn()\n",
    "        else:\n",
    "            # Define pipeline module.\n",
    "            pipeline_module_fn = functools.partial(\n",
    "                self.pipeline_module_class,\n",
    "                model_axis_name=self.config.pipeline_axis_name,\n",
    "                num_microbatches=self.config.num_microbatches,\n",
    "                module_fn=stage_module_fn,\n",
    "            )\n",
    "            # Wrap pipeline module in parallelism wrapper over pipeline axis.\n",
    "            # The tensor parallelism is handled within the TPTransformerBlock.\n",
    "            module = ModelParallelismWrapper(\n",
    "                module_fn=pipeline_module_fn,\n",
    "                model_axis_name=self.config.pipeline_axis_name,\n",
    "                name=\"pipeline\",\n",
    "            )\n",
    "        x = module(x)\n",
    "        return x"
   ]
  },
  {
   "cell_type": "markdown",
   "metadata": {},
   "source": [
    "Another component we want to adjust is the output layer. In the tensor parallelism tutorial, we have changed our parallelization strategy from tensor to sequence parallelism, since the output requires the full softmax, i.e. full output size, and this may lead unnecessary replication of large tensors. In the 3d parallelism, we follow the same setup, but also add the pipeline parallel axis to the sequence parallelism. Essentially, from a mesh of `(data, pipeline, tensor)`, we switch to `(data, sequence)` parallelism by combining the pipeline and tensor parallelism. \n",
    "\n",
    "We first reorganize the input tensors by summing over the pipeline axis and splitting the output. We sum instead of gathering, since in pipeline parallelism, all devices except the last one will have zero's in the output. Hence, summing across the pipeline axis is the equivalent to gathering and selecting only the output of the last stage. We then gather and split the data over the tensor axis as before. With that, each device across the joint pipeline and model axis will have a different subset of the input sequence. \n",
    "\n",
    "To reduce the parameters per device, we apply parameter sharding as in Zero over the two axis. JAX supports axis names which are tuples of other axis names, such that we can shard over multiple axes at once. We will shard over the pipeline and tensor axis, such that each device will only have a subset of the parameters. We implement this below:"
   ]
  },
  {
   "cell_type": "code",
   "execution_count": 6,
   "metadata": {},
   "outputs": [],
   "source": [
    "class TPPPOutputLayer(nn.Module):\n",
    "    config: ConfigDict\n",
    "\n",
    "    @nn.compact\n",
    "    def __call__(self, x: jax.Array) -> jax.Array:\n",
    "        # Pipeline outputs are zero's for all non-last stages.\n",
    "        # Summing results results in all stages having the same, correct output.\n",
    "        x = jax.lax.psum(x, axis_name=self.config.pipeline_axis_name)\n",
    "        x = split_array_over_mesh(x, axis_name=self.config.pipeline_axis_name, split_axis=1)\n",
    "        # Gather outputs over feature dimension and split over sequence length.\n",
    "        x = jax.lax.all_gather(x, axis_name=self.config.model_axis_name, axis=-1, tiled=True)\n",
    "        x = split_array_over_mesh(x, axis_name=self.config.model_axis_name, split_axis=1)\n",
    "        # Shard parameters over model axis.\n",
    "        norm_fn = shard_module_params(\n",
    "            nn.RMSNorm,\n",
    "            axis_name=(self.config.pipeline_axis_name, self.config.model_axis_name),\n",
    "            min_weight_size=self.config.fsdp.min_weight_size,\n",
    "        )\n",
    "        dense_fn = shard_module_params(\n",
    "            nn.Dense,\n",
    "            axis_name=(self.config.pipeline_axis_name, self.config.model_axis_name),\n",
    "            min_weight_size=self.config.fsdp.min_weight_size,\n",
    "        )\n",
    "        # Apply normalization and output layer.\n",
    "        x = norm_fn(dtype=self.config.dtype, name=\"out_norm\")(x)\n",
    "        x = dense_fn(\n",
    "            features=self.config.num_outputs,\n",
    "            dtype=jnp.float32,\n",
    "            name=\"output_layer\",\n",
    "        )(x)\n",
    "        return x"
   ]
  },
  {
   "cell_type": "markdown",
   "metadata": {},
   "source": [
    "Finally, we can combine everything together to create a Transformer model for 3D parallelism. Since every module requires different shardings in FSDP, we wrap each module below in its respective sharding. For instance, the input layer will receive the same input across the pipeline and tensor axis. We have already sharded the feature dimension over the tensor axis, such that the remaining parameter axes can be sharded over the data and pipeline axis jointly. We perform the same computation over the pipeline axis in the input layer, but since it only consists of an embedding lookup and adding of positional encoding, its computation is negligible.\n",
    "\n",
    "The transformer backbone will then process via a pipeline process, with each stage additionally sharded over the tensor axis. In FSDP, we can shard the parameters additionally over the data axis.\n",
    "\n",
    "Finally, the output layer already shards its parameters over the pipeline and tensor axis. Thus, we only need to shard them additionally over the data axis in FSDP.\n",
    "\n",
    "A small note on our FSDP implementation: for simplicity, we enforce each application of `shard_module_params` to look for parameter axis that have been unsharded before. This is not strictly necessary, as we already support `shard_module_params` to shard over multiple axes at once. For large arrays with few axes, like the input embeddings, it may be beneficial to support the double sharding in some cases. However, it simplifies the implementation and is sufficient for our purposes here. "
   ]
  },
  {
   "cell_type": "code",
   "execution_count": 7,
   "metadata": {},
   "outputs": [],
   "source": [
    "class Transformer(nn.Module):\n",
    "    config: ConfigDict\n",
    "    block_fn: Any = TPTransformerBlock\n",
    "\n",
    "    @nn.compact\n",
    "    def __call__(self, x: jax.Array, train: bool, mask: jax.Array | None = None) -> jax.Array:\n",
    "        if mask is None and self.config.causal_mask:\n",
    "            mask = nn.make_causal_mask(x[0:1], dtype=jnp.bool_)\n",
    "        # Input embedding. Replicated across pipeline axis.\n",
    "        input_layer = TPInputEmbedding\n",
    "        if \"Embed\" in self.config.fsdp.modules:\n",
    "            input_layer = shard_module_params(\n",
    "                input_layer,\n",
    "                axis_name=(self.config.data_axis_name, self.config.pipeline_axis_name),\n",
    "                min_weight_size=self.config.fsdp.min_weight_size,\n",
    "            )\n",
    "        x = input_layer(\n",
    "            config=self.config,\n",
    "            name=\"input_embedding\",\n",
    "        )(x)\n",
    "        # Backbone.\n",
    "        backbone_layer = PipelineTransformerBackbone\n",
    "        if \"Backbone\" in self.config.fsdp.modules:\n",
    "            backbone_layer = shard_module_params(\n",
    "                backbone_layer,\n",
    "                axis_name=self.config.data_axis_name,\n",
    "                min_weight_size=self.config.fsdp.min_weight_size,\n",
    "            )\n",
    "        x = backbone_layer(\n",
    "            config=self.config,\n",
    "            train=train,\n",
    "            mask=mask,\n",
    "            block_fn=self.block_fn,\n",
    "            name=\"backbone\",\n",
    "        )(x)\n",
    "        # Output layer.\n",
    "        output_layer = TPPPOutputLayer\n",
    "        if \"Output\" in self.config.fsdp.modules:\n",
    "            output_layer = shard_module_params(\n",
    "                output_layer,\n",
    "                axis_name=self.config.data_axis_name,\n",
    "                min_weight_size=self.config.fsdp.min_weight_size,\n",
    "            )\n",
    "        x = output_layer(\n",
    "            config=self.config,\n",
    "            name=\"output_layer\",\n",
    "        )(x)\n",
    "        return x"
   ]
  },
  {
   "cell_type": "markdown",
   "metadata": {},
   "source": [
    "And that's it. We have now implemented a transformer model that supports 3D parallelism with few adjustments from the original tensor-parallel model. We can set up the training of the model."
   ]
  },
  {
   "cell_type": "markdown",
   "metadata": {},
   "source": [
    "### Initialization\n",
    "\n",
    "We start by defining the config for our model. Since the notebook is supposed to also run on CPU, we choose a very small model here. However, on actual multi-accelerator hardware, we would scale up the model considerably. Feel free to test out different configurations."
   ]
  },
  {
   "cell_type": "code",
   "execution_count": 8,
   "metadata": {},
   "outputs": [],
   "source": [
    "data_config = ConfigDict(\n",
    "    dict(\n",
    "        batch_size=32,\n",
    "        vocab_size=100,\n",
    "        seq_len=8,\n",
    "    )\n",
    ")\n",
    "fsdp = ConfigDict(\n",
    "    dict(\n",
    "        modules=(\"Embed\", \"Backbone\", \"Output\"),\n",
    "        axis_name=\"data\",\n",
    "        min_weight_size=2**8,\n",
    "    )\n",
    ")\n",
    "model_config = ConfigDict(\n",
    "    dict(\n",
    "        hidden_size=256,\n",
    "        dropout_rate=0.1,\n",
    "        mlp_expansion=4,\n",
    "        num_layers=6,\n",
    "        head_dim=32,\n",
    "        normalize_qk=True,\n",
    "        positional_encoding_type=\"learned\",\n",
    "        parallel_block=True,\n",
    "        causal_mask=True,\n",
    "        vocab_size=data_config.vocab_size,\n",
    "        num_outputs=data_config.vocab_size,\n",
    "        dtype=jnp.bfloat16,\n",
    "        data_axis_name=\"data\",\n",
    "        model_axis_name=\"tensor\",\n",
    "        model_axis_size=2,\n",
    "        pipeline_axis_name=\"pipe\",\n",
    "        pipeline_axis_size=2,\n",
    "        num_microbatches=8,\n",
    "        remat=(\"Block\",),\n",
    "        fsdp=fsdp,\n",
    "    )\n",
    ")\n",
    "model_config.num_heads = model_config.hidden_size // model_config.head_dim\n",
    "model_config.num_layers //= model_config.pipeline_axis_size\n",
    "optimizer_config = ConfigDict(\n",
    "    dict(\n",
    "        learning_rate=2e-4,\n",
    "        num_minibatches=1,\n",
    "    )\n",
    ")\n",
    "config = ConfigDict(\n",
    "    dict(\n",
    "        model=model_config,\n",
    "        optimizer=optimizer_config,\n",
    "        data=data_config,\n",
    "        data_axis_name=model_config.data_axis_name,\n",
    "        model_axis_name=model_config.model_axis_name,\n",
    "        model_axis_size=model_config.model_axis_size,\n",
    "        pipeline_axis_name=model_config.pipeline_axis_name,\n",
    "        pipeline_axis_size=model_config.pipeline_axis_size,\n",
    "        seed=42,\n",
    "    )\n",
    ")"
   ]
  },
  {
   "cell_type": "markdown",
   "metadata": {},
   "source": [
    "We start by creating our device mesh. We will have three axis this time, which split the devices into a 2x2x2 grid (for 8 devices). The closest devices are on the same tensor axis (e.g. 0 and 1), the next closest devices are on the same pipeline axis (e.g. 0 and 2), and the last axis is the data parallel axis (e.g. 0 and 4). For your actual hardware, you should adjust the device order/mesh to optimally fit your communication hardware. On GPUs, you can find your NVLink connections with `nvidia-smi topo -m`."
   ]
  },
  {
   "cell_type": "code",
   "execution_count": 9,
   "metadata": {},
   "outputs": [
    {
     "name": "stderr",
     "output_type": "stream",
     "text": [
      "2024-03-07 10:49:34.624870: E external/xla/xla/stream_executor/cuda/cuda_driver.cc:273] failed call to cuInit: CUDA_ERROR_NO_DEVICE: no CUDA-capable device is detected\n",
      "CUDA backend failed to initialize: FAILED_PRECONDITION: No visible GPU devices. (Set TF_CPP_MIN_LOG_LEVEL=0 and rerun for more info.)\n"
     ]
    },
    {
     "data": {
      "text/plain": [
       "Mesh(device_ids=array([[[0, 1],\n",
       "        [2, 3]],\n",
       "\n",
       "       [[4, 5],\n",
       "        [6, 7]]]), axis_names=('data', 'pipe', 'tensor'))"
      ]
     },
     "execution_count": 9,
     "metadata": {},
     "output_type": "execute_result"
    }
   ],
   "source": [
    "device_array = np.array(jax.devices()).reshape(\n",
    "    -1, config.pipeline_axis_size, config.model_axis_size\n",
    ")\n",
    "mesh = Mesh(\n",
    "    device_array, (config.data_axis_name, config.pipeline_axis_name, config.model_axis_name)\n",
    ")\n",
    "mesh"
   ]
  },
  {
   "cell_type": "markdown",
   "metadata": {},
   "source": [
    "We next create the transformer module. There is nothing special about it, besides that we do not need to wrap it in a `shard_module_wrapper` since we already shard parameters within the model."
   ]
  },
  {
   "cell_type": "code",
   "execution_count": 10,
   "metadata": {},
   "outputs": [],
   "source": [
    "def get_transformer_module(config: ConfigDict):\n",
    "    block_fn = TPTransformerParallelBlock if config.parallel_block else TPTransformerBlock\n",
    "    return Transformer(config=config, block_fn=block_fn)\n",
    "\n",
    "\n",
    "model_transformer = get_transformer_module(config=config.model)"
   ]
  },
  {
   "cell_type": "markdown",
   "metadata": {},
   "source": [
    "We then create the optimizer. Again, we use the same exponential decay schedule with warmup as for the other tutorials, although for an actual training, you may want to consider other alternatives as well, like [LAMB](https://arxiv.org/abs/1904.00962) or [AdamW](https://arxiv.org/abs/1711.05101)."
   ]
  },
  {
   "cell_type": "code",
   "execution_count": 11,
   "metadata": {},
   "outputs": [],
   "source": [
    "optimizer_transformer = optax.adam(\n",
    "    learning_rate=optax.warmup_exponential_decay_schedule(\n",
    "        init_value=0,\n",
    "        peak_value=config.optimizer.learning_rate,\n",
    "        warmup_steps=10,\n",
    "        transition_steps=1,\n",
    "        decay_rate=0.99,\n",
    "    )\n",
    ")"
   ]
  },
  {
   "cell_type": "markdown",
   "metadata": {},
   "source": [
    "For this notebook, we still with our random token dataset, but you can replace it with any other dataset you like."
   ]
  },
  {
   "cell_type": "code",
   "execution_count": 12,
   "metadata": {},
   "outputs": [],
   "source": [
    "rng = jax.random.PRNGKey(config.seed)\n",
    "model_init_rng, data_inputs_rng = jax.random.split(rng)\n",
    "\n",
    "tokens = jax.random.randint(\n",
    "    data_inputs_rng,\n",
    "    (config.data.batch_size, config.data.seq_len),\n",
    "    1,\n",
    "    config.data.vocab_size,\n",
    ")\n",
    "batch_transformer = Batch(\n",
    "    inputs=jnp.pad(tokens[:, :-1], ((0, 0), (1, 0)), constant_values=0),\n",
    "    labels=tokens,\n",
    ")"
   ]
  },
  {
   "cell_type": "markdown",
   "metadata": {},
   "source": [
    "The initialization function is again the same as in the previous tutorials, and all parameter shardings are handled automatically."
   ]
  },
  {
   "cell_type": "code",
   "execution_count": 13,
   "metadata": {},
   "outputs": [],
   "source": [
    "def init_transformer(rng: jax.random.PRNGKey, x: jax.Array) -> TrainState:\n",
    "    init_rng, rng = jax.random.split(rng)\n",
    "    variables = model_transformer.init({\"params\": init_rng}, x, train=False)\n",
    "    params = variables.pop(\"params\")\n",
    "    state = TrainState.create(\n",
    "        apply_fn=model_transformer.apply,\n",
    "        params=params,\n",
    "        tx=optimizer_transformer,\n",
    "        rng=rng,\n",
    "    )\n",
    "    return state"
   ]
  },
  {
   "cell_type": "markdown",
   "metadata": {},
   "source": [
    "We first infer the partitioning for each parameter below."
   ]
  },
  {
   "cell_type": "code",
   "execution_count": 14,
   "metadata": {},
   "outputs": [],
   "source": [
    "init_transformer_fn = jax.jit(\n",
    "    shard_map(\n",
    "        init_transformer,\n",
    "        mesh,\n",
    "        in_specs=(P(), P(config.data_axis_name)),\n",
    "        out_specs=P(),\n",
    "        check_rep=False,\n",
    "    ),\n",
    ")\n",
    "state_transformer_shapes = jax.eval_shape(\n",
    "    init_transformer_fn, model_init_rng, batch_transformer.inputs\n",
    ")\n",
    "state_transformer_specs = nn.get_partition_spec(state_transformer_shapes)"
   ]
  },
  {
   "cell_type": "markdown",
   "metadata": {},
   "source": [
    "Let's check the partitioning and shapes of the parameters, to see if the sharding has been done correctly and understand the setup. We first extract the shapes, which are per-device since the out-specification is `P()` for now."
   ]
  },
  {
   "cell_type": "code",
   "execution_count": 15,
   "metadata": {},
   "outputs": [],
   "source": [
    "param_shapes = jax.tree_map(\n",
    "    lambda x: x.value.shape if hasattr(x, \"value\") else x.shape,\n",
    "    state_transformer_shapes.params,\n",
    "    is_leaf=lambda x: isinstance(x, nn.Partitioned),\n",
    ")"
   ]
  },
  {
   "cell_type": "markdown",
   "metadata": {},
   "source": [
    "For the input layer, we find the following shapes:"
   ]
  },
  {
   "cell_type": "code",
   "execution_count": 16,
   "metadata": {},
   "outputs": [
    {
     "name": "stdout",
     "output_type": "stream",
     "text": [
      "Input Embedding\n",
      "{'module': {'sharded': {'pos_enc': {'pos_emb': PartitionSpec('tensor', None, ('data', 'pipe'))},\n",
      "                        'token_emb': {'embedding': PartitionSpec('tensor', None, ('data', 'pipe'))}}}}\n",
      "Per-device shapes\n",
      "{'module': {'sharded': {'pos_enc': {'pos_emb': (1, 8, 32)},\n",
      "                        'token_emb': {'embedding': (1, 100, 32)}}}}\n"
     ]
    }
   ],
   "source": [
    "print(\"Input Embedding\")\n",
    "pprint(state_transformer_specs.params[\"input_embedding\"])\n",
    "print(\"Per-device shapes\")\n",
    "pprint(param_shapes[\"input_embedding\"])"
   ]
  },
  {
   "cell_type": "markdown",
   "metadata": {},
   "source": [
    "Both the positional encoding and embedding are split over the tensor axis, which results in the first axis being 1 per device and partitioned over `tensor`. The last axis is the feature dimension, which is 256 globally, but 128 after the split over the tensor axis. This axis is sharded over `data` and `pipe`, which results in 32 per device (4 devices over the joint axis)."
   ]
  },
  {
   "cell_type": "code",
   "execution_count": 17,
   "metadata": {},
   "outputs": [
    {
     "name": "stdout",
     "output_type": "stream",
     "text": [
      "Output Layer\n",
      "{'out_norm': {'scale': PartitionSpec()},\n",
      " 'output_layer': {'bias': PartitionSpec(),\n",
      "                  'kernel': PartitionSpec(('pipe', 'tensor'), 'data')}}\n",
      "Per-device shapes\n",
      "{'out_norm': {'scale': (256,)},\n",
      " 'output_layer': {'bias': (100,), 'kernel': (64, 50)}}\n"
     ]
    }
   ],
   "source": [
    "print(\"Output Layer\")\n",
    "pprint(state_transformer_specs.params[\"output_layer\"])\n",
    "print(\"Per-device shapes\")\n",
    "pprint(param_shapes[\"output_layer\"])"
   ]
  },
  {
   "cell_type": "markdown",
   "metadata": {},
   "source": [
    "The output layer has the norm and bias replicated over all devices, since in our configuration for the CPU, both of the tensors are very small and below the sharding threshold. The kernel weights are sharded over `pipe` and `tensor` on the first axis, which is the largest and originally 256, which results in 32 per device (4 devices over the joint axis). We additionally shard the last axis over `data`, which results in 50 per device (2 devices over the axis with 100 outputs).\n",
    "\n",
    "For the transformer backbone, we first look at the input layer of the parallel block. Since the tensor parallelism introduces multiple identical sublayers (shards), we only look at `shard_0` for simplicity. Note that if you are using the sequential block, the lines below need to be adjusted accordingly."
   ]
  },
  {
   "cell_type": "code",
   "execution_count": 18,
   "metadata": {},
   "outputs": [
    {
     "name": "stdout",
     "output_type": "stream",
     "text": [
      "Transformer Backbone - HQKV\n",
      "{'mlp': {'dense': {'bias': PartitionSpec('pipe', None, 'tensor', 'data'),\n",
      "                   'kernel': PartitionSpec('pipe', None, 'tensor', None, 'data')}},\n",
      " 'qkv': {'key': {'kernel': PartitionSpec('pipe', None, 'tensor', 'data', None, None)},\n",
      "         'key_norm': {'scale': PartitionSpec('pipe', None, 'tensor', None)},\n",
      "         'query': {'kernel': PartitionSpec('pipe', None, 'tensor', 'data', None, None)},\n",
      "         'query_norm': {'scale': PartitionSpec('pipe', None, 'tensor', None)},\n",
      "         'value': {'kernel': PartitionSpec('pipe', None, 'tensor', 'data', None, None)}}}\n",
      "Per-device shapes\n",
      "{'mlp': {'dense': {'bias': (1, 3, 1, 256), 'kernel': (1, 3, 1, 128, 256)}},\n",
      " 'qkv': {'key': {'kernel': (1, 3, 1, 64, 4, 32)},\n",
      "         'key_norm': {'scale': (1, 3, 1, 32)},\n",
      "         'query': {'kernel': (1, 3, 1, 64, 4, 32)},\n",
      "         'query_norm': {'scale': (1, 3, 1, 32)},\n",
      "         'value': {'kernel': (1, 3, 1, 64, 4, 32)}}}\n"
     ]
    }
   ],
   "source": [
    "print(\"Transformer Backbone - HQKV\")\n",
    "pprint(\n",
    "    state_transformer_specs.params[\"backbone\"][\"pipeline\"][\"sharded\"][\"layers\"][\"block\"][\"hqkv\"][\n",
    "        \"shard_0\"\n",
    "    ][\"sharded\"]\n",
    ")\n",
    "print(\"Per-device shapes\")\n",
    "pprint(\n",
    "    param_shapes[\"backbone\"][\"pipeline\"][\"sharded\"][\"layers\"][\"block\"][\"hqkv\"][\"shard_0\"][\n",
    "        \"sharded\"\n",
    "    ]\n",
    ")"
   ]
  },
  {
   "cell_type": "markdown",
   "metadata": {},
   "source": [
    "All parameters share the first three axes: pipeline device stacking (sharded over `pipe`), number of layer per pipeline stage (3 per device), and tensor device stacking (sharded over `tensor`). After that, we have the individual parameter shapes. For the MLP, the bias and kernel increase the feature size to 1024. This is split over the tensor axis, and sharded over the data axis (hence 1/4 of the feature size per device). The input axis of the kernel is split over different tensor shards, hence 1/2 of the original 256 feature dimension. \n",
    "\n",
    "For the key, query and value layers, we have the input size of 256, which is split over the tensor axis and sharded over the data axis. The output size is `(4, 32)` per device, since the head dimension is 32 and the number of heads is 8, split over the tensor axis (hence 1/2 of the head count per device)."
   ]
  },
  {
   "cell_type": "code",
   "execution_count": 19,
   "metadata": {},
   "outputs": [
    {
     "name": "stdout",
     "output_type": "stream",
     "text": [
      "Transformer Backbone - Output\n",
      "{'attn': {'out': {'bias': PartitionSpec('pipe', None, 'tensor', 'data'),\n",
      "                  'kernel': PartitionSpec('pipe', None, 'tensor', None, None, 'data')}},\n",
      " 'mlp': {'dense': {'bias': PartitionSpec('pipe', None, 'tensor', 'data'),\n",
      "                   'kernel': PartitionSpec('pipe', None, 'tensor', 'data', None)}}}\n",
      "Per-device shapes\n",
      "{'attn': {'out': {'bias': (1, 3, 1, 64), 'kernel': (1, 3, 1, 4, 32, 64)}},\n",
      " 'mlp': {'dense': {'bias': (1, 3, 1, 64), 'kernel': (1, 3, 1, 256, 128)}}}\n"
     ]
    }
   ],
   "source": [
    "print(\"Transformer Backbone - Output\")\n",
    "pprint(\n",
    "    state_transformer_specs.params[\"backbone\"][\"pipeline\"][\"sharded\"][\"layers\"][\"block\"][\"out\"][\n",
    "        \"shard_0\"\n",
    "    ][\"sharded\"]\n",
    ")\n",
    "print(\"Per-device shapes\")\n",
    "pprint(\n",
    "    param_shapes[\"backbone\"][\"pipeline\"][\"sharded\"][\"layers\"][\"block\"][\"out\"][\"shard_0\"][\"sharded\"]\n",
    ")"
   ]
  },
  {
   "cell_type": "markdown",
   "metadata": {},
   "source": [
    "On the output side of the transformer backbone, we have the same first three axes. The output kernel of the MLP model is the mirror image of the input size. The attention output kernel is of size `(4, 32, 64)`, where the first is again the number of heads per device, 32 the head dimension, and 64 the feature dimension split over both the tensor and data axis.\n",
    "\n",
    "With that, the sharding of the parameters appears to be correct. We can now proceed to fully initialize the model."
   ]
  },
  {
   "cell_type": "code",
   "execution_count": 20,
   "metadata": {},
   "outputs": [
    {
     "name": "stdout",
     "output_type": "stream",
     "text": [
      "Number of parameters: 4_784_484\n"
     ]
    }
   ],
   "source": [
    "init_transformer_fn = jax.jit(\n",
    "    shard_map(\n",
    "        init_transformer,\n",
    "        mesh,\n",
    "        in_specs=(P(), P(config.data_axis_name)),\n",
    "        out_specs=state_transformer_specs,\n",
    "        check_rep=False,\n",
    "    ),\n",
    ")\n",
    "state_transformer = init_transformer_fn(model_init_rng, batch_transformer.inputs)\n",
    "print(f\"Number of parameters: {get_num_params(state_transformer):_}\")"
   ]
  },
  {
   "cell_type": "markdown",
   "metadata": {},
   "source": [
    "The model is now fully initialized and ready for training. We can now proceed to the training loop. \n",
    "\n",
    "### Training\n",
    "\n",
    "The loss function will be the same as in the previous tensor parallelism tutorial, with small modifications to introduce the pipeline parallelism. On the input side, we split the dropout RNG also over the pipeline axis. This gives us a different RNG per device. On the output side, we need to find the labels that correspond to the correct output slice per device. We use again the `split_array_over_mesh` function to subselect the array over the sequence length axis. We then compute the loss as before."
   ]
  },
  {
   "cell_type": "code",
   "execution_count": 21,
   "metadata": {},
   "outputs": [],
   "source": [
    "def loss_fn(\n",
    "    params: PyTree,\n",
    "    apply_fn: Any,\n",
    "    batch: Batch,\n",
    "    rng: jax.Array,\n",
    ") -> Tuple[jax.Array, Dict[str, Any]]:\n",
    "    # Since dropout masks vary across the batch dimension, we want each device to generate a\n",
    "    # different mask. We can achieve this by folding the rng over the data axis, so that each\n",
    "    # device gets a different rng and thus mask.\n",
    "    dropout_rng = fold_rng_over_axis(\n",
    "        rng, (config.data_axis_name, config.pipeline_axis_name, config.model_axis_name)\n",
    "    )\n",
    "    # Remaining computation is the same as before for single device.\n",
    "    logits = apply_fn(\n",
    "        {\"params\": params},\n",
    "        batch.inputs,\n",
    "        train=True,\n",
    "        rngs={\"dropout\": dropout_rng},\n",
    "    )\n",
    "    # Select the labels per device.\n",
    "    labels = batch.labels\n",
    "    labels = split_array_over_mesh(labels, axis_name=config.pipeline_axis_name, split_axis=1)\n",
    "    labels = split_array_over_mesh(labels, axis_name=config.model_axis_name, split_axis=1)\n",
    "    assert (\n",
    "        logits.shape[:-1] == labels.shape\n",
    "    ), f\"Logits and labels shapes do not match: {logits.shape} vs {labels.shape}\"\n",
    "    loss = optax.softmax_cross_entropy_with_integer_labels(logits, labels)\n",
    "    correct_pred = jnp.equal(jnp.argmax(logits, axis=-1), labels)\n",
    "    batch_size = np.prod(labels.shape)\n",
    "    # Collect metrics and return loss.\n",
    "    step_metrics = {\n",
    "        \"loss\": (loss.sum(), batch_size),\n",
    "        \"accuracy\": (correct_pred.sum(), batch_size),\n",
    "    }\n",
    "    loss = loss.mean()\n",
    "    return loss, step_metrics"
   ]
  },
  {
   "cell_type": "markdown",
   "metadata": {},
   "source": [
    "The training step is similarly adjusted. The gradients and the metrics are synced over all three axes. The rest of the training loop is the same as in the previous tutorials."
   ]
  },
  {
   "cell_type": "code",
   "execution_count": 22,
   "metadata": {},
   "outputs": [],
   "source": [
    "def train_step(\n",
    "    state: TrainState,\n",
    "    metrics: Metrics | None,\n",
    "    batch: Batch,\n",
    ") -> Tuple[TrainState, Metrics]:\n",
    "    rng, step_rng = jax.random.split(state.rng)\n",
    "    grads, step_metrics = accumulate_gradients(\n",
    "        state,\n",
    "        batch,\n",
    "        step_rng,\n",
    "        config.optimizer.num_minibatches,\n",
    "        loss_fn=loss_fn,\n",
    "    )\n",
    "    # Update parameters. We need to sync the gradients across devices before updating.\n",
    "    with jax.named_scope(\"sync_gradients\"):\n",
    "        grads = sync_gradients(\n",
    "            grads, (config.data_axis_name, config.pipeline_axis_name, config.model_axis_name)\n",
    "        )\n",
    "    new_state = state.apply_gradients(grads=grads, rng=rng)\n",
    "    # Sum metrics across replicas. Alternatively, we could keep the metrics separate\n",
    "    # and only synchronize them before logging. For simplicity, we sum them here.\n",
    "    with jax.named_scope(\"sync_metrics\"):\n",
    "        step_metrics = jax.tree_map(\n",
    "            lambda x: jax.lax.psum(\n",
    "                x,\n",
    "                axis_name=(\n",
    "                    config.data_axis_name,\n",
    "                    config.pipeline_axis_name,\n",
    "                    config.model_axis_name,\n",
    "                ),\n",
    "            ),\n",
    "            step_metrics,\n",
    "        )\n",
    "    if metrics is None:\n",
    "        metrics = step_metrics\n",
    "    else:\n",
    "        metrics = jax.tree_map(jnp.add, metrics, step_metrics)\n",
    "    return new_state, metrics"
   ]
  },
  {
   "cell_type": "markdown",
   "metadata": {},
   "source": [
    "We are now ready to train our model. We shard the input batch over the data axis, and set the sharding specification as we have inferred during the initialization. Note that if we would run over multiple nodes/hosts and devices across the tensor or pipeline axis have different hosts, we may have difficulties to synchronize the hosts to input the same batch over the two parallelization axes. Alternatively, we can adjust the data input sharding to shard over all axes, and gather the input batch over the tensor and pipeline axis before starting our training step. However, for simplicity, we assume that all devices are on the same host in this notebook."
   ]
  },
  {
   "cell_type": "code",
   "execution_count": 23,
   "metadata": {},
   "outputs": [
    {
     "name": "stderr",
     "output_type": "stream",
     "text": [
      "/home/plippe/anaconda3/envs/jax/lib/python3.10/site-packages/jax/_src/interpreters/mlir.py:761: UserWarning: Some donated buffers were not usable: ShapedArray(float32[1,3,1,256]), ShapedArray(float32[1,3,1,128,256]), ShapedArray(float32[1,3,1,64,4,32]), ShapedArray(float32[1,3,1,32]), ShapedArray(float32[1,3,1,64,4,32]), ShapedArray(float32[1,3,1,32]), ShapedArray(float32[1,3,1,64,4,32]), ShapedArray(float32[1,3,1,128,256]), ShapedArray(float32[1,3,1,64,4,32]), ShapedArray(float32[1,3,1,32]), ShapedArray(float32[1,3,1,64,4,32]), ShapedArray(float32[1,3,1,32]), ShapedArray(float32[1,3,1,64,4,32]), ShapedArray(float32[1,3,1,64]), ShapedArray(float32[1,3,1,4,32,64]), ShapedArray(float32[1,3,1,64]), ShapedArray(float32[1,3,1,256,128]), ShapedArray(float32[1,3,1,4,32,64]), ShapedArray(float32[1,3,1,256,128]), ShapedArray(float32[1,3,1,64]), ShapedArray(float32[1,8,32]), ShapedArray(float32[1,100,32]), ShapedArray(float32[64,50]), ShapedArray(float32[1,3,1,256]), ShapedArray(float32[1,3,1,128,256]), ShapedArray(float32[1,3,1,64,4,32]), ShapedArray(float32[1,3,1,32]), ShapedArray(float32[1,3,1,64,4,32]), ShapedArray(float32[1,3,1,32]), ShapedArray(float32[1,3,1,64,4,32]), ShapedArray(float32[1,3,1,128,256]), ShapedArray(float32[1,3,1,64,4,32]), ShapedArray(float32[1,3,1,32]), ShapedArray(float32[1,3,1,64,4,32]), ShapedArray(float32[1,3,1,32]), ShapedArray(float32[1,3,1,64,4,32]), ShapedArray(float32[1,3,1,64]), ShapedArray(float32[1,3,1,4,32,64]), ShapedArray(float32[1,3,1,64]), ShapedArray(float32[1,3,1,256,128]), ShapedArray(float32[1,3,1,4,32,64]), ShapedArray(float32[1,3,1,256,128]), ShapedArray(float32[1,3,1,64]), ShapedArray(float32[1,8,32]), ShapedArray(float32[1,100,32]), ShapedArray(float32[64,50]), ShapedArray(float32[1,3,1,256]), ShapedArray(float32[1,3,1,128,256]), ShapedArray(float32[1,3,1,64,4,32]), ShapedArray(float32[1,3,1,32]), ShapedArray(float32[1,3,1,64,4,32]), ShapedArray(float32[1,3,1,32]), ShapedArray(float32[1,3,1,64,4,32]), ShapedArray(float32[1,3,1,128,256]), ShapedArray(float32[1,3,1,64,4,32]), ShapedArray(float32[1,3,1,32]), ShapedArray(float32[1,3,1,64,4,32]), ShapedArray(float32[1,3,1,32]), ShapedArray(float32[1,3,1,64,4,32]), ShapedArray(float32[1,3,1,64]), ShapedArray(float32[1,3,1,4,32,64]), ShapedArray(float32[1,3,1,64]), ShapedArray(float32[1,3,1,256,128]), ShapedArray(float32[1,3,1,4,32,64]), ShapedArray(float32[1,3,1,256,128]), ShapedArray(float32[1,3,1,64]), ShapedArray(float32[1,8,32]), ShapedArray(float32[1,100,32]), ShapedArray(float32[64,50]).\n",
      "See an explanation at https://jax.readthedocs.io/en/latest/faq.html#buffer-donation.\n",
      "  warnings.warn(\"Some donated buffers were not usable:\"\n"
     ]
    }
   ],
   "source": [
    "train_step_fn = jax.jit(\n",
    "    shard_map(\n",
    "        train_step,\n",
    "        mesh,\n",
    "        in_specs=(state_transformer_specs, P(), P(config.data_axis_name)),\n",
    "        out_specs=(state_transformer_specs, P()),\n",
    "        check_rep=False,\n",
    "    ),\n",
    "    donate_argnames=(\"state\", \"metrics\"),\n",
    ")\n",
    "_, metric_shapes = jax.eval_shape(\n",
    "    train_step_fn,\n",
    "    state_transformer,\n",
    "    None,\n",
    "    batch_transformer,\n",
    ")\n",
    "metrics_transformer = jax.tree_map(lambda x: jnp.zeros(x.shape, dtype=x.dtype), metric_shapes)\n",
    "state_transformer, metrics_transformer = train_step_fn(\n",
    "    state_transformer, metrics_transformer, batch_transformer\n",
    ")"
   ]
  },
  {
   "cell_type": "markdown",
   "metadata": {},
   "source": [
    "Finally, we run the model for a few steps. Feel free to adjust the number of steps. We will not run the model for a long time, since we are running on CPU and the model is very small. However, on actual multi-accelerator hardware, you can scale up the model and run for a longer time."
   ]
  },
  {
   "cell_type": "code",
   "execution_count": 24,
   "metadata": {},
   "outputs": [
    {
     "data": {
      "application/vnd.jupyter.widget-view+json": {
       "model_id": "832222322a3c444f80d87ed5b1c6d493",
       "version_major": 2,
       "version_minor": 0
      },
      "text/plain": [
       "  0%|          | 0/20 [00:00<?, ?it/s]"
      ]
     },
     "metadata": {},
     "output_type": "display_data"
    },
    {
     "name": "stdout",
     "output_type": "stream",
     "text": [
      " Final Metrics - Transformer \n",
      "accuracy: 0.855469\n",
      "loss: 1.063429\n"
     ]
    }
   ],
   "source": [
    "for _ in tqdm(range(20)):\n",
    "    state_transformer, metrics_transformer = train_step_fn(\n",
    "        state_transformer, metrics_transformer, batch_transformer\n",
    "    )\n",
    "final_metrics_transformer = jax.tree_map(\n",
    "    lambda x: jnp.zeros(x.shape, dtype=x.dtype), metric_shapes\n",
    ")\n",
    "state_transformer, final_metrics_transformer = train_step_fn(\n",
    "    state_transformer, final_metrics_transformer, batch_transformer\n",
    ")\n",
    "print_metrics(final_metrics_transformer, title=\"Final Metrics - Transformer\")"
   ]
  },
  {
   "cell_type": "markdown",
   "metadata": {},
   "source": [
    "The model achieves similar results as in the previous tutorials, but may be slightly lower due to the small sequence length (by default 8). You can increase the sequence length to get better results, but keep in mind that the memory requirements will increase as well."
   ]
  },
  {
   "cell_type": "markdown",
   "metadata": {},
   "source": [
    "## Profiling\n",
    "\n",
    "As a final step, we can profile a larger model to see the performance of the 3D parallelism and compare different configurations. We recreate the model from the tensor parallelism tutorial with around 1 billion parameters. We use the same input batch size of 128, sequence length 1024, and vocabulary size 32k. We run the experiments on a single node with 8 A5000 GPUs, each having 24GB memory and having an NVLink between pairs of GPUs with 60GB/s communication bandwidth.\n",
    "\n",
    "We first use the same 3D parallelism configuration as in the config up, using a 2x2x2 grid. We then profile the model and find a step time of 2.9 seconds. This is slower than the pure tensor parallelism model at 2.6 seconds. This is because the pipeline axis adds additional communication between devices, which are not well connected in our system and requires an additional microbatch of compute. In terms of memory, we only use 8.5GB per device, which is well within the 24GB memory of the A5000:\n",
    "\n",
    "<center width=\"100%\" style=\"padding: 10px\"><img src=\"../figures/3d_memory_fsdp.png\" width=\"1000px\"></center>\n",
    "\n",
    "The largest array are the output logits of size `(64, 256, 32000)` (batch size 128 split over 2 data devices, sequence length 1024 split over 4 tensor and pipeline devices). Further, it is in `float32` precision for numerical stability, which results in 2GB per device for this single array. The other arrays are much smaller and well within the memory limits. This highlights the importance of switching the parallelism strategies in the output to reduce the memory requirements.\n",
    "\n",
    "Nonetheless, using only 1/3 of our available GPU memory indicates that we can either scale up the model, or use techniques that speed up the training for larger memory usage. For instance, we can disable parameter sharding over the data axis, which increases the per-device memory usage since all parameters are replicated now. If we use a 4x1x2 grid (4 data, 1 pipeline, 2 tensor devices), we have 500 million parameters per device (1 billion parameters in total over the two tensor devices), which requires roughly 6GB extra memory per device. We profile the memory usage below:\n",
    "\n",
    "<center width=\"100%\" style=\"padding: 10px\"><img src=\"../figures/3d_memory_tensor_nofsdp.png\" width=\"1000px\"></center>\n",
    "\n",
    "Each device now uses 14.5GB, which is still within the 24GB memory of the A5000. The largest array is still the output logits, but more parameter and optimizer state arrays are on each device, as seen by the higher initial memory usage. Without FSDP, we reduce the communication needed over devices, and we have a step time of 2.5 seconds now. This is slightly faster than the 3D parallelism with FSDP, but we may want to use the memory for increased batch sizes or rematting fewer layers. In the end, the best configuration depends on the specific hardware at hand, and the requirements we have from the training (e.g. minimum batch size, sequence length, etc.)."
   ]
  },
  {
   "cell_type": "markdown",
   "metadata": {},
   "source": [
    "## Conclusion\n",
    "\n",
    "In this tutorial, we have combined the techniques we have implemented for data, pipeline and tensor parallelism to enable 3D parallelism. We have seen how easy it is in JAX to combine the different parallelism strategies using our previous implementations, and experiment with different 3D parallelism configurations. We have also seen how to profile the performance of the 3D parallelism and compare different configurations.\n",
    "\n",
    "With that, we conclude our tutorial series on parallelism in JAX. We hope you have gained a good understanding of the different parallelism strategies and how to implement them in JAX. We hope you have enjoyed the tutorials and learned something new. If you have any questions or feedback, feel free to reach out or create an issue on our GitHub repository. Happy scaling!"
   ]
  },
  {
   "cell_type": "markdown",
   "metadata": {},
   "source": [
    "## References and Resources\n",
    "\n",
    "\\[Shoeybi et al., 2019\\] Shoeybi, M., Patwary, M., Puri, R., LeGresley, P., Casper, J. and Catanzaro, B., 2019. Megatron-lm: Training multi-billion parameter language models using model parallelism. arXiv preprint arXiv:1909.08053. [Paper link](https://arxiv.org/abs/1909.08053)\n",
    "\n",
    "\\[Hagemann et al., 2023\\] Hagemann, J., Weinbach, S., Dobler, K., Schall, M. and de Melo, G., 2023, October. Efficient Parallelization Layouts for Large-Scale Distributed Model Training. In Workshop on Advancing Neural Network Training: Computational Efficiency, Scalability, and Resource Optimization (WANT@ NeurIPS 2023). [Paper link](https://arxiv.org/abs/2311.05610)\n",
    "\n",
    "\\[Huggingface, 2024\\] Huggingface, 2024. Model Parallelism. [Documentation link](https://huggingface.co/transformers/v4.9.2/parallelism.html)\n",
    "\n",
    "\\[DeepSpeed, 2024\\] DeepSpeed, 2024. Pipeline Parallelism. [Tutorial link](https://www.deepspeed.ai/tutorials/pipeline/)"
   ]
  },
  {
   "cell_type": "markdown",
   "metadata": {},
   "source": [
    "---\n",
    "\n",
    "[![Star our repository](https://img.shields.io/static/v1.svg?logo=star&label=⭐&message=Star%20Our%20Repository&color=yellow)](https://github.com/phlippe/uvadlc_notebooks/)  If you found this tutorial helpful, consider ⭐-ing our repository.    \n",
    "[![Ask questions](https://img.shields.io/static/v1.svg?logo=star&label=❔&message=Ask%20Questions&color=9cf)](https://github.com/phlippe/uvadlc_notebooks/issues)  For any questions, typos, or bugs that you found, please raise an issue on GitHub. \n",
    "\n",
    "---"
   ]
  }
 ],
 "metadata": {
  "kernelspec": {
   "display_name": "jax",
   "language": "python",
   "name": "python3"
  },
  "language_info": {
   "codemirror_mode": {
    "name": "ipython",
    "version": 3
   },
   "file_extension": ".py",
   "mimetype": "text/x-python",
   "name": "python",
   "nbconvert_exporter": "python",
   "pygments_lexer": "ipython3",
   "version": "3.10.12"
  }
 },
 "nbformat": 4,
 "nbformat_minor": 2
}
