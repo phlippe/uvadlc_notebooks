{
 "cells": [
  {
   "attachments": {},
   "cell_type": "markdown",
   "metadata": {},
   "source": [
    "# Part 4.1: Tensor Parallelism\n",
    "\n",
    "**Filled notebook:** \n",
    "[![View filled on Github](https://img.shields.io/static/v1.svg?logo=github&label=Repo&message=View%20On%20Github&color=lightgrey)](https://github.com/phlippe/uvadlc_notebooks/blob/master/docs/tutorial_notebooks/scaling/JAX/tensor_parallel_simple.ipynb)\n",
    "[![Open filled In Collab](https://colab.research.google.com/assets/colab-badge.svg)](https://colab.research.google.com/github/phlippe/uvadlc_notebooks/blob/master/docs/tutorial_notebooks/scaling/JAX/tensor_parallel_simple.ipynb)   \n",
    "\n",
    "**Author:** [Phillip Lippe](https://phlippe.github.io/)"
   ]
  },
  {
   "cell_type": "markdown",
   "metadata": {},
   "source": [
    "In this tutorial, we will discuss tensor parallelism, another important parallelism strategy for training large-scale deep learning models. Similar to pipeline parallelism, tensor parallelism is a model parallelism strategy, which means that it focuses on parallelizing the model itself, rather than the data. The key difference between pipeline and tensor parallelism is how they split the model over devices. In pipeline parallelism, the model is split over devices along the sequence of layers (i.e. vertically), while in tensor parallelism, the model is split over devices along the feature dimensions (i.e. horizontally). Each device will then process a different subset of features, and the model's forward and backward passes will be split over devices accordingly. A short overview of the parallelism strategies is shown below.\n",
    "\n",
    "<center width=\"100%\" style=\"padding: 10px\"><img src=\"../figures/parallelism_strategies_overview.svg\" width=\"1000px\"></center>\n",
    "\n",
    "Tensor parallelism can be applied on a per-module/per-layer basis. This gives more flexibility in how to split the model over devices than pipeline parallelism, and can even handle situations where a single layer is too big to fit on a single device. Furthermore, tensor parallelism does not suffer from the pipeline bubble problem, as all devices can work on the same batch of data at the same time. The key behind making tensor parallelism efficient will be, again, to overlap computation with communication, and to minimize the amount of communication required.\n",
    "\n",
    "Still, tensor parallelism relies on frequent communication between devices, such that it requires devices with high speed interconnects like TPUs or GPUs with [NVLink](https://www.nvidia.com/en-us/data-center/nvlink/), and is often restricted to devices within a node. For example, [Gemini v1](https://arxiv.org/abs/2312.11805) was trained with model parallelism within a node (TPU superpod), but applies only data parallelism across nodes.\n",
    "\n",
    "In this tutorial, we will discuss the principles of tensor parallelism, and how to implement it in JAX. We will first start with an implementation on a simple MLP model. In [Part 4.2](https://uvadlc-notebooks.readthedocs.io/en/latest/tutorial_notebooks/scaling/JAX/tensor_parallel_async.html), we discuss techniques from models like the [ViT-22b](https://arxiv.org/abs/2302.05442) to maximize efficiency of tensor parallelism with compute-communication overlaps. Finally, in [Part 4.3](https://uvadlc-notebooks.readthedocs.io/en/latest/tutorial_notebooks/scaling/JAX/tensor_parallel_transformer.html), we will discuss how to apply tensor parallelism to the transformer model specifically, and how to combine tensor parallelism with fully-sharded data parallelism."
   ]
  },
  {
   "cell_type": "markdown",
   "metadata": {},
   "source": [
    "## Prerequisites\n",
    "\n",
    "First, let's start with setting up the basic environment and utility functions we have seen from previous notebooks. We download the python scripts of the previous notebooks below. This is only needed when running on Google Colab, and local execution will skip this step automatically."
   ]
  },
  {
   "cell_type": "code",
   "execution_count": 1,
   "metadata": {},
   "outputs": [],
   "source": [
    "import os\n",
    "import urllib.request\n",
    "from urllib.error import HTTPError\n",
    "\n",
    "# Github URL where python scripts are stored.\n",
    "base_url = \"https://raw.githubusercontent.com/phlippe/uvadlc_notebooks/master/docs/tutorial_notebooks/scaling/JAX/\"\n",
    "# Files to download.\n",
    "python_files = [\"single_gpu.py\", \"data_parallel.py\", \"pipeline_parallel.py\", \"utils.py\"]\n",
    "# For each file, check whether it already exists. If not, try downloading it.\n",
    "for file_name in python_files:\n",
    "    if not os.path.isfile(file_name):\n",
    "        file_url = base_url + file_name\n",
    "        print(f\"Downloading {file_url}...\")\n",
    "        try:\n",
    "            urllib.request.urlretrieve(file_url, file_name)\n",
    "        except HTTPError as e:\n",
    "            print(\n",
    "                \"Something went wrong. Please try to download the file directly from the GitHub repository, or contact the author with the full output including the following error:\\n\",\n",
    "                e,\n",
    "            )"
   ]
  },
  {
   "cell_type": "markdown",
   "metadata": {},
   "source": [
    "As before, we simulate 8 devices on CPU to demonstrate the parallelism without the need for multiple GPUs or TPUs. If you are running on your local machine and have multiple GPUs available, you can comment out the lines below."
   ]
  },
  {
   "cell_type": "code",
   "execution_count": 2,
   "metadata": {},
   "outputs": [],
   "source": [
    "from utils import simulate_CPU_devices\n",
    "\n",
    "simulate_CPU_devices()"
   ]
  },
  {
   "cell_type": "markdown",
   "metadata": {},
   "source": [
    "We now import our standard libraries."
   ]
  },
  {
   "cell_type": "code",
   "execution_count": 3,
   "metadata": {},
   "outputs": [],
   "source": [
    "import functools\n",
    "from pprint import pprint\n",
    "from typing import Any, Callable, Dict, Literal, Tuple\n",
    "\n",
    "import flax.linen as nn\n",
    "import jax\n",
    "import jax.numpy as jnp\n",
    "import numpy as np\n",
    "import optax\n",
    "from jax.experimental.shard_map import shard_map\n",
    "from jax.sharding import Mesh\n",
    "from jax.sharding import PartitionSpec as P\n",
    "from ml_collections import ConfigDict\n",
    "\n",
    "PyTree = Any\n",
    "Parameter = jax.Array | nn.Partitioned\n",
    "Metrics = Dict[str, Tuple[jax.Array, ...]]"
   ]
  },
  {
   "cell_type": "markdown",
   "metadata": {},
   "source": [
    "We also import the utility functions from the previous notebooks. Our notebook will rely on the `ModelParallelismWrapper` from the pipeline parallelism notebook. If you are not familiar with it, it is recommended to look at the implementation of this module before continuing."
   ]
  },
  {
   "cell_type": "code",
   "execution_count": 4,
   "metadata": {},
   "outputs": [],
   "source": [
    "from data_parallel import fold_rng_over_axis, sync_gradients\n",
    "from pipeline_parallel import ModelParallelismWrapper\n",
    "from single_gpu import Batch, TrainState, accumulate_gradients, print_metrics"
   ]
  },
  {
   "attachments": {},
   "cell_type": "markdown",
   "metadata": {},
   "source": [
    "## Tensor Parallelism for Linear Layers\n",
    "\n",
    "The key design principle behind tensor parallelism is to split the model over devices along the feature dimensions. For instance, consider a Transformer model with a hidden size of 1024, and we want to split the model over 4 devices. We would then split the hidden size over the devices, such that device 0 will process features 0-255, device 1 will process features 256-511, and so on. However, as we know from basic deep learning principles, the hidden dimensions are rarely independently processed. Thus, we need to design the model layers such that they communicate features or outputs between devices efficiently, whenever it is needed. \n",
    "\n",
    "As the most basic neural network operations, let's consider a matrix multiplication as we would do it in an MLP. We can write it as $Ax=y$, with $A\\in\\mathbb{R}^{d_y\\times d_x}$ being the weight matrix, $x\\in\\mathbb{R}^{d_x\\times B}$ the input (batch last for simplicity), and $y\\in\\mathbb{R}^{d_y\\times B}$ the output. In tensor parallelism, each device will carry a subset of the input dimensions, e.g. $x$ is split into $x_0, x_1, x_2, x_3$ across devices. The goal is to end up with the same output $y$ as if we had computed it on a single device, but again partitioned across devices ($y_0, y_1, y_2, y_3$). This is visualized below.\n",
    "\n",
    "<center width=\"100%\" style=\"padding: 10px\"><img src=\"../figures/tensor_linear_basic_setup.svg\" width=\"800px\"></center>\n",
    "\n",
    "The question is now how to split $A$ such that we can compute $y$ in a distributed manner. There are two main strategies we can follow are communicating the input (gather) or the output (scatter). \n",
    "\n",
    "In the **gather** strategy, we communicate the input $x$ to all devices, such that each device has the full $x$ (this communication type is called [all_gather](https://jax.readthedocs.io/en/latest/_autosummary/jax.lax.all_gather.html)). Then, we can compute the output $y\\_i$ on each device $i$ independently by: $y_i = \\sum_{j} A_{i,j} x_j$. \n",
    "\n",
    "In the **scatter** strategy, we compute the sub-result of each input $x_i$ on the output $y$ independently on each device: $y^{(i)}_j=A_{i,j}x_{i}$. Afterwards, we communicate the results across devices and sum the needed result on each device: $y_i = \\sum_{j} y^{(j)}_i$. This communication type is called [(psum) scatter](https://jax.readthedocs.io/en/latest/_autosummary/jax.lax.psum_scatter.html#jax.lax.psum_scatter).\n",
    "\n",
    "In terms of the weight matrix $A$, the two strategies differ in that the gather strategy splits the rows of $A$ across devices, while the scatter strategy splits the columns of $A$ across devices. We visualize the two strategies below (for simplicity, the communication is not explicitly visualized).\n",
    "\n",
    "<center width=\"100%\" style=\"padding: 10px\"><img src=\"../figures/tensor_linear_gather_scatter.svg\" width=\"800px\"></center>\n",
    "\n",
    "Which of the two strategies is more efficient depends on the size of the input and output dimensions. In general, we want to communicate as little data as possible, and thus the gather strategy is more efficient if the input dimension is much larger than the output dimension, and vice versa. Since the dimensions will be different for each layer, we will need to decide on a per-layer basis which strategy to use. For example, in an MLP block of a Transformer where we expand the hidden dimension by 4x, we will want to use the gather strategy for the first linear layer, and the scatter strategy for the second linear layer. This way, we avoid communicating the large hidden dimensionality."
   ]
  },
  {
   "cell_type": "markdown",
   "metadata": {},
   "source": [
    "Let's now implement the two strategies in JAX. In the gather strategy, each device will hold $A_{i,:}\\in\\mathbb{R}^{d_y/4\\times d_x}$ of the weight matrix, and in the scatter strategy, each device will hold $A_{:,i}\\in\\mathbb{R}^{d_y\\times d_x/4}$ of the weight matrix. This raises a small difficulty during initialization. Many initialization strategies depend on the shape of the full weight matrix, and we need to adjust them to the shape of the split weight matrix. As a simple trick, we will implement a wrapper around the init function that will scale the values by a specified constant. We then leave it up the user to adjust the constant such that the initialization is appropriate for the split weight matrix. For instance, if we use a fan-in initialization (e.g. [He initialization](https://arxiv.org/abs/1502.01852)), we would scale the initialization by $\\sqrt{1/\\text{num}\\_\\text{devices}}$ for the scatter strategy to adjust for the $1/\\text{num}\\_\\text{devices}$ smaller input dimension. For the gather strategy, we would not need to scale the initialization, since all devices will process the full input dimension. For more details on network initialization, see our [initialization tutorial](https://uvadlc-notebooks.readthedocs.io/en/latest/tutorial_notebooks/JAX/tutorial4/Optimization_and_Initialization.html). As an alternative, we could implement our own initializer functions that directly take into account the split weight matrix dimensions (which may be tedious to support all initializations), or initialize the full weight matrix on each device and then split it. However, the latter would be less efficient and would potentially even fail if the weight matrix is too large to fit on a single device."
   ]
  },
  {
   "cell_type": "code",
   "execution_count": 5,
   "metadata": {},
   "outputs": [],
   "source": [
    "def scale_init(init_fn: Callable, scale_factor: float = 1.0):\n",
    "    \"\"\"Scales the output of the given init function by the given factor.\n",
    "\n",
    "    Args:\n",
    "        init_fn: The init function to scale.\n",
    "        scale_factor: The factor to scale the output of the init function by.\n",
    "\n",
    "    Returns:\n",
    "        A new init function that scales the output of the given init function by the given factor.\n",
    "    \"\"\"\n",
    "\n",
    "    def _init_fn(rng, *args, **kwargs):\n",
    "        return scale_factor * init_fn(rng, *args, **kwargs)\n",
    "\n",
    "    return _init_fn"
   ]
  },
  {
   "cell_type": "markdown",
   "metadata": {},
   "source": [
    "We implement the tensor parallelism for the linear layer below in a wrapper module `TPDense`. It takes as input a constructor `dense_fn` to create the linear layer. The `TPDense` module will then split the weight matrix over the devices, and implement the gather and scatter strategies for the forward and backward passes. For some layers, we may need to implement custom communications. For instance, the very first layer of the model may already have the input gather over devices, since we can prefetch the batch from the host to all devices. Similarly, in the last layer of the module, we may not want to scatter the output, but rather gather it to a single device to compute the loss. We will implement these custom communications in the full model later, and for now support them via the keyword `skip_communication`."
   ]
  },
  {
   "cell_type": "code",
   "execution_count": 6,
   "metadata": {},
   "outputs": [],
   "source": [
    "class TPDense(nn.Module):\n",
    "    \"\"\"Dense layer with Tensor Parallelism support.\n",
    "\n",
    "    This layer can be used to perform a dense layer with Tensor Parallelism support.\n",
    "\n",
    "    Attributes:\n",
    "        dense_fn: Constructor function of the dense layer to use. Needs to support the keyword argument `kernel_init`.\n",
    "        model_axis_name: The name of the model axis.\n",
    "        tp_mode: The Tensor Parallelism mode to use. Can be \"scatter\", \"gather\", or \"none\".\n",
    "        skip_communication: Whether to skip communication in the Tensor Parallelism strategy. Useful for layers with custom communication or where input has been already gathered beforehand.\n",
    "        kernel_init: The initializer to use for the kernel of the dense layer.\n",
    "        kernel_init_adjustment: The adjustment factor to use for the kernel initializer.\n",
    "        dense_name: The name of the dense layer module.\n",
    "    \"\"\"\n",
    "\n",
    "    dense_fn: Any\n",
    "    model_axis_name: str\n",
    "    tp_mode: Literal[\"scatter\", \"gather\", \"none\"] = \"none\"\n",
    "    skip_communication: bool = False\n",
    "    kernel_init: Callable = nn.initializers.lecun_normal()\n",
    "    kernel_init_adjustment: float = 1.0\n",
    "    dense_name: str = \"module\"\n",
    "\n",
    "    @nn.compact\n",
    "    def __call__(self, x: jax.Array) -> jax.Array:\n",
    "        tp_size = jax.lax.psum(1, self.model_axis_name)\n",
    "        tp_mode = self.tp_mode if tp_size > 1 else \"none\"\n",
    "        # Wrap the dense layer in a ModelParallelismWrapper to shard the parameters.\n",
    "        dense_fn = functools.partial(\n",
    "            ModelParallelismWrapper,\n",
    "            model_axis_name=self.model_axis_name,\n",
    "            module_fn=functools.partial(\n",
    "                self.dense_fn,\n",
    "                kernel_init=scale_init(self.kernel_init, self.kernel_init_adjustment),\n",
    "            ),\n",
    "            name=self.dense_name,\n",
    "        )\n",
    "\n",
    "        if tp_mode == \"none\":\n",
    "            # Vanilla dense layer.\n",
    "            x = self.dense_fn(kernel_init=self.kernel_init)(x)\n",
    "        elif tp_mode == \"gather\":\n",
    "            # Gather strategy: communicate all the inputs to all the devices, then perform the dense layer.\n",
    "            if not self.skip_communication:\n",
    "                x = jax.lax.all_gather(x, self.model_axis_name, axis=-1, tiled=True)\n",
    "            x = dense_fn()(x)\n",
    "        elif tp_mode == \"scatter\":\n",
    "            # Scatter strategy: perform the dense layer on each device, then communicate the outputs to all the devices.\n",
    "            x = dense_fn()(x)\n",
    "            if not self.skip_communication:\n",
    "                x = jax.lax.psum_scatter(\n",
    "                    x, axis_name=self.model_axis_name, scatter_dimension=x.ndim - 1, tiled=True\n",
    "                )\n",
    "        else:\n",
    "            raise ValueError(f\"Unknown Tensor Parallel mode: {tp_mode}\")\n",
    "        return x"
   ]
  },
  {
   "cell_type": "markdown",
   "metadata": {},
   "source": [
    "Note that one small difference we are skipping over for now is the bias term in the scatter strategy. In the current implementation, each device will hold a separate bias term, and we will sum the bias terms across devices in the forward pass. This gives the bias a four times higher learning rate, which may be undesirable. For simplicity, we will ignore this for now since this will not be our final module, but in later modules, we show how this is addressed."
   ]
  },
  {
   "cell_type": "markdown",
   "metadata": {},
   "source": [
    "### MLP Block\n",
    "\n",
    "As an example network, we will implement an MLP block of the same form as used in Transformers. It consists of a normalization layer, a linear layer scaling up the hidden dimensionality, a non-linearity, and a linear layer scaling down the hidden dimensionality again. As discussed before, we will use the gather strategy for the first linear layer, and the scatter strategy for the second linear layer. The computation graph per device is visualized below.\n",
    "\n",
    "<center width=\"100%\" style=\"padding: 10px\"><img src=\"../figures/tensor_mlp_block.svg\" width=\"1200px\"></center>\n",
    "\n",
    "Here, $h_0$ are the intermediate features in the MLP (can be of different dimensions than $x$), and $y^0$ the outputs calculated on $h_0$ alone. The gather and scatter operations are performed at the two ends of the MLP, such that no communication needs to performed within the MLP block, increasing efficiency.\n",
    "\n",
    "We start with implementing the input layer, which consists of the normalization and the first linear layer. Afterwards, we want to wrap this module in a `TPDense` module with the gather strategy. As an example, we use the `RMSNorm` layer which is used in several recent large models, including [ViT-22b](https://arxiv.org/abs/2302.05442) and [Gemma](https://ai.google.dev/gemma/docs/model_card). Compared to LayerNorm, it does not center the input and does not apply a bias parameter, leading to a small speed gain without degrading model performance. More details are given in the [paper](https://arxiv.org/abs/1910.07467). Further, for simplicity and following common practice, we do not apply Dropout within the MLP block."
   ]
  },
  {
   "cell_type": "code",
   "execution_count": 7,
   "metadata": {},
   "outputs": [],
   "source": [
    "class MLPBlockInput(nn.Module):\n",
    "    config: ConfigDict\n",
    "    features: int\n",
    "    kernel_init: Callable = nn.initializers.lecun_normal()\n",
    "    use_bias: bool = True\n",
    "    use_norm: bool = True\n",
    "\n",
    "    @nn.compact\n",
    "    def __call__(self, x: jax.Array) -> jax.Array:\n",
    "        if self.use_norm:\n",
    "            x = nn.RMSNorm(dtype=self.config.dtype, name=\"pre_norm\")(x)\n",
    "        x = nn.Dense(\n",
    "            features=self.features,\n",
    "            kernel_init=self.kernel_init,\n",
    "            use_bias=self.use_bias,\n",
    "            dtype=self.config.dtype,\n",
    "            name=\"dense\",\n",
    "        )(x)\n",
    "        return x"
   ]
  },
  {
   "cell_type": "markdown",
   "metadata": {},
   "source": [
    "The output layer will consist of the second linear layer and the non-linearity. We will wrap this module in a `TPDense` module with the scatter strategy. As an example, we use the `SiLU` non-linearity. Whether we apply the non-linearity in the output layer or input layer is a design choice in this case, since we use the gather strategy for the input layer. However, had we applied the scatter strategy for the input layer, we can only apply the non-linearity in the output layer, since we would have otherwise summed over the outputs of the activation function instead of the raw outputs in the scatter."
   ]
  },
  {
   "cell_type": "code",
   "execution_count": 8,
   "metadata": {},
   "outputs": [],
   "source": [
    "class MLPBlockOutput(nn.Module):\n",
    "    config: ConfigDict\n",
    "    features: int\n",
    "    kernel_init: Callable = nn.initializers.lecun_normal()\n",
    "    use_bias: bool = True\n",
    "\n",
    "    @nn.compact\n",
    "    def __call__(self, x: jax.Array) -> jax.Array:\n",
    "        x = nn.silu(x)\n",
    "        x = nn.Dense(\n",
    "            features=self.features,\n",
    "            kernel_init=self.kernel_init,\n",
    "            use_bias=self.use_bias,\n",
    "            dtype=self.config.dtype,\n",
    "            name=\"dense\",\n",
    "        )(x)\n",
    "        return x"
   ]
  },
  {
   "cell_type": "markdown",
   "metadata": {},
   "source": [
    "We can now combine the two modules in a single `MLPBlock` module. For the parallelism strategies to work correctly, we need to adjust the features count accordingly. Each device has $1/\\text{num}\\_\\text{devices}$ of the hidden features, and outputs the full hidden features. As mentioned earlier, we also adjust the initialization of the scatter layer by scaling the initialization by $\\sqrt{1/\\text{num}\\_\\text{devices}}$, since we use a fan-in initialization strategy."
   ]
  },
  {
   "cell_type": "code",
   "execution_count": 9,
   "metadata": {},
   "outputs": [],
   "source": [
    "class TPMLPBlock(nn.Module):\n",
    "    config: ConfigDict\n",
    "    train: bool\n",
    "\n",
    "    @nn.compact\n",
    "    def __call__(self, x: jax.Array) -> jax.Array:\n",
    "        tp_size = jax.lax.psum(1, self.config.model_axis_name)\n",
    "        input_features = x.shape[-1]\n",
    "        # Input layer\n",
    "        x = TPDense(\n",
    "            dense_fn=functools.partial(\n",
    "                MLPBlockInput,\n",
    "                config=self.config,\n",
    "                features=self.config.hidden_size * self.config.mlp_expansion // tp_size,\n",
    "            ),\n",
    "            model_axis_name=self.config.model_axis_name,\n",
    "            tp_mode=\"gather\",\n",
    "            name=\"input\",\n",
    "        )(x)\n",
    "        # Output layer\n",
    "        x = TPDense(\n",
    "            dense_fn=functools.partial(\n",
    "                MLPBlockOutput,\n",
    "                config=self.config,\n",
    "                features=input_features * tp_size,\n",
    "            ),\n",
    "            model_axis_name=self.config.model_axis_name,\n",
    "            tp_mode=\"scatter\",\n",
    "            kernel_init_adjustment=tp_size**-0.5,  # fan-in with tp_size fewer inputs.\n",
    "            name=\"output\",\n",
    "        )(x)\n",
    "        return x"
   ]
  },
  {
   "cell_type": "markdown",
   "metadata": {},
   "source": [
    "### MLP Classifier\n",
    "\n",
    "Our example model will consists of a stack of MLP blocks. For this, we write below a simple wrapper around the `MLPBlock` to stack multiple blocks. For efficient compilation, we use a `nn.scan` to apply the same MLP block structure in all layers. The carry between the modules is the sharded features over the model axis."
   ]
  },
  {
   "cell_type": "code",
   "execution_count": 10,
   "metadata": {},
   "outputs": [],
   "source": [
    "class TPMLPLayers(nn.Module):\n",
    "    config: ConfigDict\n",
    "    train: bool\n",
    "    block_class: Callable[..., nn.Module] = TPMLPBlock\n",
    "\n",
    "    @nn.compact\n",
    "    def __call__(self, x: jax.Array) -> jax.Array:\n",
    "        module = self.block_class(config=self.config, train=self.train, name=\"block\")\n",
    "        x, _ = nn.scan(\n",
    "            lambda module, carry, _: (module(carry) + carry, None),\n",
    "            variable_axes={\"params\": 0},\n",
    "            split_rngs={\"params\": True, \"dropout\": True},\n",
    "            length=self.config.num_layers,\n",
    "            metadata_params={\n",
    "                \"partition_name\": None\n",
    "            },  # We do not need to partition the parameters over the layer axis.\n",
    "        )(module, x, ())\n",
    "        return x"
   ]
  },
  {
   "cell_type": "markdown",
   "metadata": {},
   "source": [
    "Finally, we combine the MLP blocks with an input and output layer. We expect that the input to the model is duplicated over model devices and thus does not need to be gathered anymore. This is likely the best case for the input processing as well, since the batch can already be prefetched to all devices and we may not be able to split the input over model devices equally (e.g. text may be only single integers, so that we cannot split it over feature dimensions). If working with a mesh where the model axis goes across processes, we may want to split the input over model devices on the batch dimension as well, and gather it before applying the model. This ensures all model devices will start with the same input.\n",
    "\n",
    "The output layer will be a linear layer with the number of classes as output dimensions. We will wrap this layer in a `TPDense` module with the scatter strategy, but we will not scatter the output. Instead, to compute the loss, a device needs to have the full output features. Hence, we apply a `jax.lax.psum` to sum the final output over devices. Note that this gives all model devices the same tensor, and thus the same loss. We may want to then only calculate the loss on a single device, and broadcast it back to all devices via the `psum` operation. For models with large output sizes, this might be inefficient since a single device needs to be able to hold the entire output. For simplicity, we will ignore this for now here, but address it in the transformer model later. Finally, as usual, we convert the output to float32 to avoid numerical issues in the loss computation."
   ]
  },
  {
   "cell_type": "code",
   "execution_count": 11,
   "metadata": {},
   "outputs": [],
   "source": [
    "class TPClassifier(nn.Module):\n",
    "    config: ConfigDict\n",
    "    block_class: Callable[..., nn.Module] = TPMLPBlock\n",
    "\n",
    "    @nn.compact\n",
    "    def __call__(self, x: jax.Array, train: bool) -> jax.Array:\n",
    "        tp_size = jax.lax.psum(1, self.config.model_axis_name)\n",
    "        # Input layer\n",
    "        x = TPDense(\n",
    "            dense_fn=functools.partial(\n",
    "                nn.Dense,\n",
    "                features=self.config.hidden_size // tp_size,\n",
    "                dtype=self.config.dtype,\n",
    "            ),\n",
    "            model_axis_name=self.config.model_axis_name,\n",
    "            tp_mode=\"gather\",\n",
    "            skip_communication=True,  # Input already gathered.\n",
    "            name=\"input_layer\",\n",
    "        )(x)\n",
    "        # Backbone MLP blocks\n",
    "        x = TPMLPLayers(config=self.config, train=train, name=\"mlp\", block_class=self.block_class)(\n",
    "            x\n",
    "        )\n",
    "        # Output layer\n",
    "        x = TPDense(\n",
    "            dense_fn=functools.partial(\n",
    "                nn.Dense,\n",
    "                features=self.config.num_classes,\n",
    "                dtype=self.config.dtype,\n",
    "            ),\n",
    "            model_axis_name=self.config.model_axis_name,\n",
    "            tp_mode=\"scatter\",\n",
    "            skip_communication=True,  # Manual communication.\n",
    "            name=\"output_layer\",\n",
    "            kernel_init_adjustment=tp_size**-0.5,  # fan-in with tp_size fewer inputs.\n",
    "        )(x)\n",
    "        x = jax.lax.psum(x, axis_name=self.config.model_axis_name)\n",
    "        x = x.astype(jnp.float32)\n",
    "        return x"
   ]
  },
  {
   "cell_type": "markdown",
   "metadata": {},
   "source": [
    "### Initialization\n",
    "\n",
    "With the model implemented, we can now initialize the model. We start with the config definition, which is similar to previous notebooks. We parallelize the model over 4 devices, and for simplicity, keep the MLP expansion factor at 1. Feel free to experiment with different configurations."
   ]
  },
  {
   "cell_type": "code",
   "execution_count": 12,
   "metadata": {},
   "outputs": [],
   "source": [
    "data_config = ConfigDict(\n",
    "    dict(\n",
    "        batch_size=128,\n",
    "        num_classes=10,\n",
    "        input_size=784,\n",
    "    )\n",
    ")\n",
    "model_config = ConfigDict(\n",
    "    dict(\n",
    "        hidden_size=512,\n",
    "        dropout_rate=0.1,\n",
    "        mlp_expansion=1,\n",
    "        num_layers=3,\n",
    "        dtype=jnp.bfloat16,\n",
    "        num_classes=data_config.num_classes,\n",
    "        data_axis_name=\"data\",\n",
    "        model_axis_name=\"model\",\n",
    "        model_axis_size=4,\n",
    "    )\n",
    ")\n",
    "optimizer_config = ConfigDict(\n",
    "    dict(\n",
    "        learning_rate=1e-3,\n",
    "        num_minibatches=1,\n",
    "    )\n",
    ")\n",
    "config = ConfigDict(\n",
    "    dict(\n",
    "        model=model_config,\n",
    "        optimizer=optimizer_config,\n",
    "        data=data_config,\n",
    "        data_axis_name=model_config.data_axis_name,\n",
    "        model_axis_name=model_config.model_axis_name,\n",
    "        model_axis_size=model_config.model_axis_size,\n",
    "        seed=42,\n",
    "    )\n",
    ")"
   ]
  },
  {
   "cell_type": "markdown",
   "metadata": {},
   "source": [
    "The rest of the initialization is identical to the previous notebook on pipeline parallelism. We first create our mesh over data and model."
   ]
  },
  {
   "cell_type": "code",
   "execution_count": 13,
   "metadata": {},
   "outputs": [
    {
     "name": "stderr",
     "output_type": "stream",
     "text": [
      "2024-03-07 10:48:19.003795: E external/xla/xla/stream_executor/cuda/cuda_driver.cc:273] failed call to cuInit: CUDA_ERROR_NO_DEVICE: no CUDA-capable device is detected\n",
      "CUDA backend failed to initialize: FAILED_PRECONDITION: No visible GPU devices. (Set TF_CPP_MIN_LOG_LEVEL=0 and rerun for more info.)\n"
     ]
    }
   ],
   "source": [
    "device_array = np.array(jax.devices()).reshape(-1, config.model_axis_size)\n",
    "mesh = Mesh(device_array, (config.data_axis_name, config.model_axis_name))"
   ]
  },
  {
   "cell_type": "markdown",
   "metadata": {},
   "source": [
    "We then create the model object and the optimizer. We stick with simple Adam in this example, but feel free to change the optimizer setup."
   ]
  },
  {
   "cell_type": "code",
   "execution_count": 14,
   "metadata": {},
   "outputs": [],
   "source": [
    "model_tp = TPClassifier(config=config.model)\n",
    "optimizer = optax.adamw(\n",
    "    learning_rate=config.optimizer.learning_rate,\n",
    ")"
   ]
  },
  {
   "cell_type": "markdown",
   "metadata": {},
   "source": [
    "For simplicity, we will train the model on a simple random data classification task. This is mainly to demonstrate the pipeline parallelism, and not to achieve state-of-the-art results. In practice, one would instead create a dataset and dataloader at this point, and setup the data prefetching."
   ]
  },
  {
   "cell_type": "code",
   "execution_count": 15,
   "metadata": {},
   "outputs": [],
   "source": [
    "rng = jax.random.PRNGKey(config.seed)\n",
    "model_init_rng, data_inputs_rng, data_labels_rng = jax.random.split(rng, 3)\n",
    "batch = Batch(\n",
    "    inputs=jax.random.normal(data_inputs_rng, (config.data.batch_size, config.data.input_size)),\n",
    "    labels=jax.random.randint(\n",
    "        data_labels_rng, (config.data.batch_size,), 0, config.data.num_classes\n",
    "    ),\n",
    ")"
   ]
  },
  {
   "cell_type": "markdown",
   "metadata": {},
   "source": [
    "The initialization function follows the same principles as in the previous notebook, creating the parameters via `model.init` and the optimizer parameters in the `TrainState.create`."
   ]
  },
  {
   "cell_type": "code",
   "execution_count": 16,
   "metadata": {},
   "outputs": [],
   "source": [
    "def init_tp(rng: jax.random.PRNGKey, x: jax.Array, model: nn.Module) -> TrainState:\n",
    "    init_rng, rng = jax.random.split(rng)\n",
    "    variables = model.init({\"params\": init_rng}, x, train=False)\n",
    "    params = variables.pop(\"params\")\n",
    "    state = TrainState.create(\n",
    "        apply_fn=model.apply,\n",
    "        params=params,\n",
    "        tx=optimizer,\n",
    "        rng=rng,\n",
    "    )\n",
    "    return state"
   ]
  },
  {
   "cell_type": "markdown",
   "metadata": {},
   "source": [
    "Before we can run the full initialization, we need to identify the partitioning of the parameters. Since we annotated the partitioning of all parameters via `nn.Partitioned` in the model, we can obtain the partitioning by calling `jax.eval_shape` on the init function. This will return the state shapes, as well as the `nn.Partitioned` parameter leafs. From those, we can read out the partitioning using `nn.get_partition_spec`. For the initial call, we can leave the `out_specs` of the shard map empty, since we do not create the actual parameters during shape evaluation."
   ]
  },
  {
   "cell_type": "code",
   "execution_count": 17,
   "metadata": {},
   "outputs": [],
   "source": [
    "init_tp_fn = shard_map(\n",
    "    functools.partial(init_tp, model=model_tp),\n",
    "    mesh,\n",
    "    in_specs=(P(), P(config.data_axis_name)),\n",
    "    out_specs=P(),\n",
    "    check_rep=False,\n",
    ")\n",
    "state_tp_shapes = jax.eval_shape(init_tp_fn, model_init_rng, batch.inputs)\n",
    "state_tp_specs = nn.get_partition_spec(state_tp_shapes)"
   ]
  },
  {
   "cell_type": "markdown",
   "metadata": {},
   "source": [
    "Let's investigate the partitioning of the parameters."
   ]
  },
  {
   "cell_type": "code",
   "execution_count": 18,
   "metadata": {},
   "outputs": [
    {
     "name": "stdout",
     "output_type": "stream",
     "text": [
      "{'input_layer': {'module': {'sharded': {'bias': PartitionSpec('model', None),\n",
      "                                        'kernel': PartitionSpec('model', None, None)}}},\n",
      " 'mlp': {'block': {'input': {'module': {'sharded': {'dense': {'bias': PartitionSpec(None, 'model', None),\n",
      "                                                              'kernel': PartitionSpec(None, 'model', None, None)},\n",
      "                                                    'pre_norm': {'scale': PartitionSpec(None, 'model', None)}}}},\n",
      "                   'output': {'module': {'sharded': {'dense': {'bias': PartitionSpec(None, 'model', None),\n",
      "                                                               'kernel': PartitionSpec(None, 'model', None, None)}}}}}},\n",
      " 'output_layer': {'module': {'sharded': {'bias': PartitionSpec('model', None),\n",
      "                                         'kernel': PartitionSpec('model', None, None)}}}}\n"
     ]
    }
   ],
   "source": [
    "pprint(state_tp_specs.params)"
   ]
  },
  {
   "cell_type": "markdown",
   "metadata": {},
   "source": [
    "All parameters in the model have a partitioning over the `model` axis. For the input and output layer, this is over the first dimension, while for the MLP blocks, this is over the second dimension. This is because the first dimension of the MLPs are the number of layer (i.e. the scan). This also demonstrates how our implementation works well under function transformations like scan, vmap, etc. Since we do not apply FSDP for now, the parameters are not partitioned over the data axis. The several sub-keys in the parameter PyTree are due to the stacking and wrapping of the modules (e.g. `sharded` introduced by `ModelParallelismWrapper`, `module` introduced by `TPDense`). Alternatively, some of these wrapper could be rewritten into functions to avoid the sub-keys.\n",
    "\n",
    "We can now continue with the initialization:"
   ]
  },
  {
   "cell_type": "code",
   "execution_count": 19,
   "metadata": {},
   "outputs": [],
   "source": [
    "init_tp_fn = jax.jit(\n",
    "    shard_map(\n",
    "        functools.partial(init_tp, model=model_tp),\n",
    "        mesh,\n",
    "        in_specs=(P(), P(config.data_axis_name)),\n",
    "        out_specs=state_tp_specs,\n",
    "        check_rep=False,\n",
    "    ),\n",
    ")\n",
    "state_tp = init_tp_fn(model_init_rng, batch.inputs)"
   ]
  },
  {
   "cell_type": "markdown",
   "metadata": {},
   "source": [
    "We inspect the shapes of the parameters below."
   ]
  },
  {
   "cell_type": "code",
   "execution_count": 20,
   "metadata": {},
   "outputs": [
    {
     "name": "stdout",
     "output_type": "stream",
     "text": [
      "TP Parameters - Input Layer\n",
      "{'bias': Partitioned(value=(4, 128), names=('model', None), mesh=None),\n",
      " 'kernel': Partitioned(value=(4, 784, 128),\n",
      "                       names=('model', None, None),\n",
      "                       mesh=None)}\n"
     ]
    }
   ],
   "source": [
    "print(\"TP Parameters - Input Layer\")\n",
    "pprint(jax.tree_map(lambda x: x.shape, state_tp.params[\"input_layer\"][\"module\"][\"sharded\"]))"
   ]
  },
  {
   "cell_type": "markdown",
   "metadata": {},
   "source": [
    "The input layer uses a gather strategy, such that its input size is the full feature size (784), but its output is split over model devices ($512 / 4 = 128$)."
   ]
  },
  {
   "cell_type": "code",
   "execution_count": 21,
   "metadata": {},
   "outputs": [
    {
     "name": "stdout",
     "output_type": "stream",
     "text": [
      "TP Parameters - MLP Layers Input\n",
      "{'dense': {'bias': Partitioned(value=(3, 4, 128),\n",
      "                               names=(None, 'model', None),\n",
      "                               mesh=None),\n",
      "           'kernel': Partitioned(value=(3, 4, 512, 128),\n",
      "                                 names=(None, 'model', None, None),\n",
      "                                 mesh=None)},\n",
      " 'pre_norm': {'scale': Partitioned(value=(3, 4, 512),\n",
      "                                   names=(None, 'model', None),\n",
      "                                   mesh=None)}}\n",
      "\n",
      "TP Parameters - MLP Layers Output\n",
      "{'dense': {'bias': Partitioned(value=(3, 4, 512),\n",
      "                               names=(None, 'model', None),\n",
      "                               mesh=None),\n",
      "           'kernel': Partitioned(value=(3, 4, 128, 512),\n",
      "                                 names=(None, 'model', None, None),\n",
      "                                 mesh=None)}}\n"
     ]
    }
   ],
   "source": [
    "print(\"TP Parameters - MLP Layers Input\")\n",
    "pprint(\n",
    "    jax.tree_map(lambda x: x.shape, state_tp.params[\"mlp\"][\"block\"][\"input\"][\"module\"][\"sharded\"])\n",
    ")\n",
    "print()\n",
    "print(\"TP Parameters - MLP Layers Output\")\n",
    "pprint(\n",
    "    jax.tree_map(lambda x: x.shape, state_tp.params[\"mlp\"][\"block\"][\"output\"][\"module\"][\"sharded\"])\n",
    ")"
   ]
  },
  {
   "cell_type": "markdown",
   "metadata": {},
   "source": [
    "The MLP input layer uses a gather strategy, such that it also has the full feature size as input, but its output is split over model devices ($512 / 4 = 128$). Note that the norm layer has different scaling parameters for each device. This is usually not a problem, since the norm layer is usually followed by a linear layer, which allows for scaling of the weights. Still, it's a difference to the single device case, which is important to keep in mind, and could be shared across devices if needed.\n",
    "\n",
    "The MLP output layer follows the scatter pattern, such that its input is split over model devices ($512 / 4 = 128$), but its output is the full feature size."
   ]
  },
  {
   "cell_type": "code",
   "execution_count": 22,
   "metadata": {},
   "outputs": [
    {
     "name": "stdout",
     "output_type": "stream",
     "text": [
      "TP Parameters - Output Layer\n",
      "{'bias': Partitioned(value=(4, 10), names=('model', None), mesh=None),\n",
      " 'kernel': Partitioned(value=(4, 128, 10),\n",
      "                       names=('model', None, None),\n",
      "                       mesh=None)}\n"
     ]
    }
   ],
   "source": [
    "print(\"TP Parameters - Output Layer\")\n",
    "pprint(jax.tree_map(lambda x: x.shape, state_tp.params[\"output_layer\"][\"module\"][\"sharded\"]))"
   ]
  },
  {
   "cell_type": "markdown",
   "metadata": {},
   "source": [
    "Finally, the final output layer follows the scatter pattern, such that its input is split over model devices ($512 / 4 = 128$), but its output is the full number of classes. Note that whether we manually implement the communication or use the `TPDense` communication does not have an impact on the feature size.\n",
    "\n",
    "Another aspect to check is whether the initialization across devices works as expected. Since each device holds a different part of the weight matrix, we expect them to be initialized differently. We can check this by inspecting the parameters."
   ]
  },
  {
   "cell_type": "code",
   "execution_count": 23,
   "metadata": {},
   "outputs": [
    {
     "data": {
      "text/plain": [
       "Array([[-0.06087485, -0.04099965,  0.04802493, -0.00385336],\n",
       "       [ 0.0586801 , -0.01241772, -0.00626128,  0.00607279],\n",
       "       [-0.05654007,  0.02550504, -0.02855512, -0.08177456]],      dtype=float32)"
      ]
     },
     "execution_count": 23,
     "metadata": {},
     "output_type": "execute_result"
    }
   ],
   "source": [
    "state_tp.params[\"mlp\"][\"block\"][\"input\"][\"module\"][\"sharded\"][\"dense\"][\"kernel\"].value[:, :, 0, 0]"
   ]
  },
  {
   "cell_type": "markdown",
   "metadata": {},
   "source": [
    "The above cell prints the kernel of the MLP input layer over the layer axis and devices. We can see that the parameters are indeed initialized differently across devices, and thus we can continue to train the model."
   ]
  },
  {
   "cell_type": "markdown",
   "metadata": {},
   "source": [
    "### Training with Tensor Parallelism\n",
    "\n",
    "The training loop is identical to the examples in the previous notebooks. The loss function is a simple cross-entropy loss, where we only calculate the loss for the first device."
   ]
  },
  {
   "cell_type": "code",
   "execution_count": 24,
   "metadata": {},
   "outputs": [],
   "source": [
    "def loss_fn_tp(\n",
    "    params: PyTree,\n",
    "    apply_fn: Any,\n",
    "    batch: Batch,\n",
    "    rng: jax.Array,\n",
    ") -> Tuple[jax.Array, Dict[str, Any]]:\n",
    "    # Since dropout masks vary across the batch dimension, we want each device to generate a\n",
    "    # different mask. We can achieve this by folding the rng over the data axis, so that each\n",
    "    # device gets a different rng and thus mask.\n",
    "    dropout_rng = fold_rng_over_axis(rng, (config.data_axis_name, config.model_axis_name))\n",
    "    # Remaining computation is the same as before for single device.\n",
    "    logits = apply_fn(\n",
    "        {\"params\": params},\n",
    "        batch.inputs,\n",
    "        train=True,\n",
    "        rngs={\"dropout\": dropout_rng},\n",
    "    )\n",
    "    loss = optax.softmax_cross_entropy_with_integer_labels(logits, batch.labels)\n",
    "    correct_pred = jnp.equal(jnp.argmax(logits, axis=-1), batch.labels)\n",
    "    batch_size = np.prod(batch.labels.shape)\n",
    "    # Mask out loss and accuracy for model devices except first one.\n",
    "    model_idx = jax.lax.axis_index(config.model_axis_name)\n",
    "    loss = jnp.where(model_idx != 0, 0.0, loss)\n",
    "    correct_pred = jnp.where(model_idx != 0, False, correct_pred)\n",
    "    batch_size = jnp.where(model_idx != 0, 0, batch_size)\n",
    "    # Collect metrics and return loss.\n",
    "    step_metrics = {\n",
    "        \"loss\": (loss.sum(), batch_size),\n",
    "        \"accuracy\": (correct_pred.sum(), batch_size),\n",
    "    }\n",
    "    loss = loss.mean()\n",
    "    return loss, step_metrics"
   ]
  },
  {
   "cell_type": "markdown",
   "metadata": {},
   "source": [
    "In the training, we want to support 2D parallelism with (fully-sharded) data parallelism and tensor parallelism. Thus, after having determined the gradients per device, we need to sync them over the data axis accordingly. For this, we can reuse the `sync_gradients` functions from our fully-sharded data parallelism implementation. We then apply the optimizer update as usual."
   ]
  },
  {
   "cell_type": "markdown",
   "metadata": {},
   "source": [
    "Finally, we can summarize all in the training step below. It is identical to the fully-sharded data parallelism training step up to syncing gradients over the data and model axis (which is now 2D). We then apply the optimizer update as usual."
   ]
  },
  {
   "cell_type": "code",
   "execution_count": 25,
   "metadata": {},
   "outputs": [],
   "source": [
    "def train_step_tp(\n",
    "    state: TrainState,\n",
    "    metrics: Metrics | None,\n",
    "    batch: Batch,\n",
    "    loss_fn: Callable = loss_fn_tp,\n",
    ") -> Tuple[TrainState, Metrics]:\n",
    "    rng, step_rng = jax.random.split(state.rng)\n",
    "    grads, step_metrics = accumulate_gradients(\n",
    "        state,\n",
    "        batch,\n",
    "        step_rng,\n",
    "        config.optimizer.num_minibatches,\n",
    "        loss_fn=loss_fn,\n",
    "    )\n",
    "    # Update parameters. We need to sync the gradients across devices before updating.\n",
    "    with jax.named_scope(\"sync_gradients\"):\n",
    "        grads = sync_gradients(grads, (config.data_axis_name, config.model_axis_name))\n",
    "    new_state = state.apply_gradients(grads=grads, rng=rng)\n",
    "    # Sum metrics across replicas. Alternatively, we could keep the metrics separate\n",
    "    # and only synchronize them before logging. For simplicity, we sum them here.\n",
    "    with jax.named_scope(\"sync_metrics\"):\n",
    "        step_metrics = jax.tree_map(\n",
    "            lambda x: jax.lax.psum(x, axis_name=(config.data_axis_name, config.model_axis_name)),\n",
    "            step_metrics,\n",
    "        )\n",
    "    if metrics is None:\n",
    "        metrics = step_metrics\n",
    "    else:\n",
    "        metrics = jax.tree_map(jnp.add, metrics, step_metrics)\n",
    "    return new_state, metrics"
   ]
  },
  {
   "cell_type": "markdown",
   "metadata": {},
   "source": [
    "With the training loop implemented, we can now train the model. We will train the model on a simple random data classification task, and expect the model to learn to classify the data with high accuracy. We will use a small batch size to run the model easily on a CPU-only system."
   ]
  },
  {
   "cell_type": "code",
   "execution_count": 26,
   "metadata": {},
   "outputs": [
    {
     "name": "stderr",
     "output_type": "stream",
     "text": [
      "/home/plippe/anaconda3/envs/jax/lib/python3.10/site-packages/jax/_src/interpreters/mlir.py:761: UserWarning: Some donated buffers were not usable: ShapedArray(float32[1,128]), ShapedArray(float32[1,784,128]), ShapedArray(float32[3,1,128]), ShapedArray(float32[3,1,512,128]), ShapedArray(float32[3,1,512]), ShapedArray(float32[3,1,512]), ShapedArray(float32[3,1,128,512]), ShapedArray(float32[1,10]), ShapedArray(float32[1,128,10]), ShapedArray(float32[1,128]), ShapedArray(float32[1,784,128]), ShapedArray(float32[3,1,128]), ShapedArray(float32[3,1,512,128]), ShapedArray(float32[3,1,512]), ShapedArray(float32[3,1,512]), ShapedArray(float32[3,1,128,512]), ShapedArray(float32[1,10]), ShapedArray(float32[1,128,10]), ShapedArray(float32[1,128]), ShapedArray(float32[1,784,128]), ShapedArray(float32[3,1,128]), ShapedArray(float32[3,1,512,128]), ShapedArray(float32[3,1,512]), ShapedArray(float32[3,1,512]), ShapedArray(float32[3,1,128,512]), ShapedArray(float32[1,10]), ShapedArray(float32[1,128,10]).\n",
      "See an explanation at https://jax.readthedocs.io/en/latest/faq.html#buffer-donation.\n",
      "  warnings.warn(\"Some donated buffers were not usable:\"\n"
     ]
    }
   ],
   "source": [
    "train_step_tp_fn = jax.jit(\n",
    "    shard_map(\n",
    "        train_step_tp,\n",
    "        mesh,\n",
    "        in_specs=(state_tp_specs, P(), P(config.data_axis_name)),\n",
    "        out_specs=(state_tp_specs, P()),\n",
    "        check_rep=False,\n",
    "    ),\n",
    "    donate_argnames=(\"state\", \"metrics\"),\n",
    ")\n",
    "state_shapes, metric_shapes = jax.eval_shape(\n",
    "    train_step_tp_fn,\n",
    "    state_tp,\n",
    "    None,\n",
    "    batch,\n",
    ")\n",
    "metrics_tp = jax.tree_map(lambda x: jnp.zeros(x.shape, dtype=x.dtype), metric_shapes)\n",
    "state_tp, metrics_tp = train_step_tp_fn(state_tp, metrics_tp, batch)"
   ]
  },
  {
   "cell_type": "markdown",
   "metadata": {},
   "source": [
    "We run the model for 15 steps and print the final loss and accuracy."
   ]
  },
  {
   "cell_type": "code",
   "execution_count": 27,
   "metadata": {},
   "outputs": [
    {
     "name": "stdout",
     "output_type": "stream",
     "text": [
      " Final Metrics - Tensor Parallelism \n",
      "accuracy: 1.000000\n",
      "loss: 0.000030\n"
     ]
    }
   ],
   "source": [
    "for _ in range(15):\n",
    "    state_tp, metrics_tp = train_step_tp_fn(state_tp, metrics_tp, batch)\n",
    "final_metrics_tp = jax.tree_map(lambda x: jnp.zeros(x.shape, dtype=x.dtype), metric_shapes)\n",
    "state_tp, final_metrics_tp = train_step_tp_fn(state_tp, final_metrics_tp, batch)\n",
    "print_metrics(final_metrics_tp, title=\"Final Metrics - Tensor Parallelism\")"
   ]
  },
  {
   "cell_type": "markdown",
   "metadata": {},
   "source": [
    "As we expected, the model is able to learn the task with high accuracy. We can now continue to the next part, where we discuss a more efficient implementation exploiting the compute and communication overlap."
   ]
  },
  {
   "cell_type": "markdown",
   "metadata": {},
   "source": [
    "### Intermediate Summary\n",
    "\n",
    "In this part, we discussed the principles of tensor parallelism, and how to implement it in JAX. We implemented a simple MLP model with tensor parallelism, and trained it on a simple random data classification task. We also discussed the sharding of the parameters. In the next part, we will discuss how to maximize the efficiency of tensor parallelism with compute-communication overlaps."
   ]
  },
  {
   "cell_type": "markdown",
   "metadata": {},
   "source": [
    "## References and Resources\n",
    "\n",
    "\\[Shoeybi et al., 2019\\] Shoeybi, M., Patwary, M., Puri, R., LeGresley, P., Casper, J. and Catanzaro, B., 2019. Megatron-lm: Training multi-billion parameter language models using model parallelism. arXiv preprint arXiv:1909.08053. [Paper link](https://arxiv.org/abs/1909.08053)\n",
    "\n",
    "\\[Wang and Komatsuzaki, 2021\\] Wang, B., and Komatsuzaki, A., 2021. Mesh transformer jax. [GitHub link](https://github.com/kingoflolz/mesh-transformer-jax)\n",
    "\n",
    "\\[Xu et al., 2021\\] Xu, Y., Lee, H., Chen, D., Hechtman, B., Huang, Y., Joshi, R., Krikun, M., Lepikhin, D., Ly, A., Maggioni, M. and Pang, R., 2021. GSPMD: general and scalable parallelization for ML computation graphs. arXiv preprint arXiv:2105.04663. [Paper link](https://arxiv.org/abs/2105.04663)\n",
    "\n",
    "\\[Dehghani et al., 2022\\] Dehghani, M., Gritsenko, A., Arnab, A., Minderer, M. and Tay, Y., 2022. Scenic: A JAX library for computer vision research and beyond. In Proceedings of the IEEE/CVF Conference on Computer Vision and Pattern Recognition (pp. 21393-21398). [Paper link](https://openaccess.thecvf.com/content/CVPR2022/html/Dehghani_Scenic_A_JAX_Library_for_Computer_Vision_Research_and_Beyond_CVPR_2022_paper.html)\n",
    "\n",
    "\\[Yoo et al., 2022\\] Yoo, J., Perlin, K., Kamalakara, S.R. and Araújo, J.G., 2022. Scalable training of language models using JAX pjit and TPUv4. arXiv preprint arXiv:2204.06514. [Paper link](https://arxiv.org/abs/2204.06514)\n",
    "\n",
    "\\[Chowdhery et al., 2023\\] Chowdhery, A., Narang, S., Devlin, J., Bosma, M., Mishra, G., Roberts, A., Barham, P., Chung, H.W., Sutton, C., Gehrmann, S., Schuh, P., et al., 2023. Palm: Scaling language modeling with pathways. Journal of Machine Learning Research, 24(240), pp.1-113. [Paper link](https://arxiv.org/abs/2204.02311v5)\n",
    "\n",
    "\\[Anil et al., 2023\\] Anil, R., Dai, A.M., Firat, O., Johnson, M., Lepikhin, D., Passos, A., Shakeri, S., Taropa, E., Bailey, P., Chen, Z. and Chu, E., 2023. Palm 2 technical report. arXiv preprint arXiv:2305.10403. [Paper link](https://arxiv.org/abs/2305.10403)\n",
    "\n",
    "\\[Dehghani et al., 2023\\] Dehghani, M., Djolonga, J., Mustafa, B., Padlewski, P., Heek, J., Gilmer, J., Steiner, A.P., Caron, M., Geirhos, R., Alabdulmohsin, I., Jenatton, R., et al., 2023. Scaling vision transformers to 22 billion parameters. In International Conference on Machine Learning (pp. 7480-7512). PMLR. [Paper link](https://arxiv.org/abs/2302.05442)\n",
    "\n",
    "\\[McKinney, 2023\\] McKinney, A., 2023. A Brief Overview of Parallelism Strategies in Deep Learning. [Blog post link](https://afmck.in/posts/2023-02-26-parallelism/)\n",
    "\n",
    "\\[Huggingface, 2024\\] Huggingface, 2024. Model Parallelism. [Documentation link](https://huggingface.co/transformers/v4.9.2/parallelism.html)\n",
    "\n",
    "\\[Google, 2024\\] JAX Team Google, 2024. SPMD multi-device parallelism with shard_map. [Notebook link](https://jax.readthedocs.io/en/latest/notebooks/shard_map.html)\n",
    "\n",
    "\\[OpenAI, 2024\\] OpenAI, 2024. GPT-4. [Technical Report](https://arxiv.org/abs/2303.08774)\n",
    "\n",
    "\\[Google, 2024\\] Gemini Team Google Deepmind, 2024. Gemini. [Technical Report](https://arxiv.org/abs/2312.11805)"
   ]
  },
  {
   "cell_type": "markdown",
   "metadata": {},
   "source": [
    "---\n",
    "\n",
    "[![Star our repository](https://img.shields.io/static/v1.svg?logo=star&label=⭐&message=Star%20Our%20Repository&color=yellow)](https://github.com/phlippe/uvadlc_notebooks/)  If you found this tutorial helpful, consider ⭐-ing our repository.    \n",
    "[![Ask questions](https://img.shields.io/static/v1.svg?logo=star&label=❔&message=Ask%20Questions&color=9cf)](https://github.com/phlippe/uvadlc_notebooks/issues)  For any questions, typos, or bugs that you found, please raise an issue on GitHub. \n",
    "\n",
    "---"
   ]
  }
 ],
 "metadata": {
  "kernelspec": {
   "display_name": "jax_new",
   "language": "python",
   "name": "python3"
  },
  "language_info": {
   "codemirror_mode": {
    "name": "ipython",
    "version": 3
   },
   "file_extension": ".py",
   "mimetype": "text/x-python",
   "name": "python",
   "nbconvert_exporter": "python",
   "pygments_lexer": "ipython3",
   "version": "3.10.12"
  },
  "vscode": {
   "interpreter": {
    "hash": "c33e04bee723a695c1f11263e2553ef63671975140823e2daf94a160823ca89a"
   }
  }
 },
 "nbformat": 4,
 "nbformat_minor": 2
}
