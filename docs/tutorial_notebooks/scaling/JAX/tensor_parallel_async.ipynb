{
 "cells": [
  {
   "attachments": {},
   "cell_type": "markdown",
   "metadata": {},
   "source": [
    "# Part 4.2: Asynchronous Linear Layers with Tensor Parallelism\n",
    "\n",
    "**Filled notebook:** \n",
    "[![View filled on Github](https://img.shields.io/static/v1.svg?logo=github&label=Repo&message=View%20On%20Github&color=lightgrey)](https://github.com/phlippe/uvadlc_notebooks/blob/master/docs/tutorial_notebooks/scaling/JAX/tensor_parallel_async.ipynb)\n",
    "[![Open filled In Collab](https://colab.research.google.com/assets/colab-badge.svg)](https://colab.research.google.com/github/phlippe/uvadlc_notebooks/blob/master/docs/tutorial_notebooks/scaling/JAX/tensor_parallel_async.ipynb)   \n",
    "\n",
    "**Author:** [Phillip Lippe](https://phlippe.github.io/)"
   ]
  },
  {
   "cell_type": "markdown",
   "metadata": {},
   "source": [
    "In [Part 4.1](https://uvadlc-notebooks.readthedocs.io/en/latest/tutorial_notebooks/scaling/JAX/tensor_parallel_simple.html), we implemented a parallel linear layer using tensor parallelism. However, our implementation has one major inefficiency. In the gather strategy, we first need to communicate the features over all devices before we can compute the output. This means that all devices are idle until we finish the communication, and we do not overlap communication with computation. Similarly, in the scatter strategy, we first need to compute the output on all devices before we can communicate the results and sum them. This means that all devices are busy until we finish the computation, and then need to wait for the communication to finish before continuing with subsequent layers. This is a major inefficiency, and we would like to avoid it if possible.\n",
    "\n",
    "To tackle this challenge, we will implement asynchronous linear layers in this notebook. Using an asynchronous gather and scatter strategy, we will overlap communication with computation, which will allow us to hide the communication latency and improve the overall performance of our model. The techniques we will use in this notebook are inspired by the [ViT-22b](https://arxiv.org/abs/2302.05442) model, which used these techniques to scale up Vision Transformers. In [Part 4.3](https://uvadlc-notebooks.readthedocs.io/en/latest/tutorial_notebooks/scaling/JAX/tensor_parallel_transformer.html), we will apply these techniques to scale up our Transformer-based language model."
   ]
  },
  {
   "cell_type": "markdown",
   "metadata": {},
   "source": [
    "## Prerequisites\n",
    "\n",
    "First, let's start with setting up the basic environment and utility functions we have seen from previous notebooks. We download the python scripts of the previous notebooks below. This is only needed when running on Google Colab, and local execution will skip this step automatically."
   ]
  },
  {
   "cell_type": "code",
   "execution_count": 1,
   "metadata": {},
   "outputs": [],
   "source": [
    "import os\n",
    "import urllib.request\n",
    "from urllib.error import HTTPError\n",
    "\n",
    "# Github URL where python scripts are stored.\n",
    "base_url = \"https://raw.githubusercontent.com/phlippe/uvadlc_notebooks/master/docs/tutorial_notebooks/scaling/JAX/\"\n",
    "# Files to download.\n",
    "python_files = [\"single_gpu.py\", \"data_parallel.py\", \"pipeline_parallel.py\", \"tensor_parallel.py\", \"utils.py\"]\n",
    "# For each file, check whether it already exists. If not, try downloading it.\n",
    "for file_name in python_files:\n",
    "    if not os.path.isfile(file_name):\n",
    "        file_url = base_url + file_name\n",
    "        print(f\"Downloading {file_url}...\")\n",
    "        try:\n",
    "            urllib.request.urlretrieve(file_url, file_name)\n",
    "        except HTTPError as e:\n",
    "            print(\n",
    "                \"Something went wrong. Please try to download the file directly from the GitHub repository, or contact the author with the full output including the following error:\\n\",\n",
    "                e,\n",
    "            )"
   ]
  },
  {
   "cell_type": "markdown",
   "metadata": {},
   "source": [
    "As before, we simulate 8 devices on CPU to demonstrate the parallelism without the need for multiple GPUs or TPUs. If you are running on your local machine and have multiple GPUs available, you can comment out the lines below."
   ]
  },
  {
   "cell_type": "code",
   "execution_count": 2,
   "metadata": {},
   "outputs": [],
   "source": [
    "from utils import simulate_CPU_devices\n",
    "\n",
    "simulate_CPU_devices()"
   ]
  },
  {
   "cell_type": "markdown",
   "metadata": {},
   "source": [
    "We now import our standard libraries."
   ]
  },
  {
   "cell_type": "code",
   "execution_count": 3,
   "metadata": {},
   "outputs": [],
   "source": [
    "import functools\n",
    "from pprint import pprint\n",
    "from typing import Any, Callable, Dict, List, Literal, Sequence, Tuple\n",
    "\n",
    "import flax.linen as nn\n",
    "import jax\n",
    "import jax.numpy as jnp\n",
    "import numpy as np\n",
    "import optax\n",
    "from jax.experimental.shard_map import shard_map\n",
    "from jax.sharding import Mesh\n",
    "from jax.sharding import PartitionSpec as P\n",
    "from ml_collections import ConfigDict\n",
    "\n",
    "PyTree = Any\n",
    "Parameter = jax.Array | nn.Partitioned\n",
    "Metrics = Dict[str, Tuple[jax.Array, ...]]"
   ]
  },
  {
   "cell_type": "markdown",
   "metadata": {},
   "source": [
    "We also import the utility functions from the previous notebooks. Our notebook will rely on the `ModelParallelismWrapper` from the pipeline parallelism notebook and functions from [Part 4.1](https://uvadlc-notebooks.readthedocs.io/en/latest/tutorial_notebooks/scaling/JAX/tensor_parallel_simple.html). If you are not familiar with those modules, it is recommended to look at the implementation of this module before continuing."
   ]
  },
  {
   "cell_type": "code",
   "execution_count": 4,
   "metadata": {},
   "outputs": [],
   "source": [
    "from pipeline_parallel import ModelParallelismWrapper\n",
    "from single_gpu import Batch, print_metrics\n",
    "from tensor_parallel import (\n",
    "    MLPBlockInput,\n",
    "    MLPBlockOutput,\n",
    "    TPClassifier,\n",
    "    get_default_tp_classifier_config,\n",
    "    init_tp,\n",
    "    scale_init,\n",
    "    train_step_tp,\n",
    ")"
   ]
  },
  {
   "cell_type": "markdown",
   "metadata": {},
   "source": [
    "Additionally, we recreate the config, mesh, and batch from [Part 4.1](https://uvadlc-notebooks.readthedocs.io/en/latest/tutorial_notebooks/scaling/JAX/tensor_parallel_simple.html) to use the same task as before."
   ]
  },
  {
   "cell_type": "code",
   "execution_count": 5,
   "metadata": {},
   "outputs": [
    {
     "name": "stderr",
     "output_type": "stream",
     "text": [
      "2024-03-07 10:48:41.885331: E external/xla/xla/stream_executor/cuda/cuda_driver.cc:273] failed call to cuInit: CUDA_ERROR_NO_DEVICE: no CUDA-capable device is detected\n",
      "CUDA backend failed to initialize: FAILED_PRECONDITION: No visible GPU devices. (Set TF_CPP_MIN_LOG_LEVEL=0 and rerun for more info.)\n"
     ]
    }
   ],
   "source": [
    "# Load the default configuration for the classifier.\n",
    "config = get_default_tp_classifier_config()\n",
    "# Initialize multi-device mesh.\n",
    "device_array = np.array(jax.devices()).reshape(-1, config.model_axis_size)\n",
    "mesh = Mesh(device_array, (config.data_axis_name, config.model_axis_name))\n",
    "# Batch for random classification task.\n",
    "rng = jax.random.PRNGKey(config.seed)\n",
    "model_init_rng, data_inputs_rng, data_labels_rng = jax.random.split(rng, 3)\n",
    "batch = Batch(\n",
    "    inputs=jax.random.normal(data_inputs_rng, (config.data.batch_size, config.data.input_size)),\n",
    "    labels=jax.random.randint(\n",
    "        data_labels_rng, (config.data.batch_size,), 0, config.data.num_classes\n",
    "    ),\n",
    ")"
   ]
  },
  {
   "attachments": {},
   "cell_type": "markdown",
   "metadata": {},
   "source": [
    "## Tensor Parallelism with Compute-Communication Overlap\n",
    "\n",
    "In the previous notebook on pipeline parallelism, we discussed how one can overlap communication with computation by sending sub-results as soon as they become available. We can apply the same principle to tensor parallelism. At the start of the linear layer, each device has a subset of the input features. We can directly start computing the output with respect to these features, which corresponds to $A_{i,i}x_{i}$ in our original notation. While we do that, we can already communicate the features to the next device, such that we overlap communication with computation. As soon as the next device receives the features, it can start computing the output with respect to these features, and continue the process. This way, we save the time of waiting for the communication to finish before we can start computing the output, and we improve the efficiency of the model, closer to the theoretical maximum.\n",
    "\n",
    "Before we can implement this strategy, we need to have a way of performing the communication efficiently and asynchronously with respect to the computation. In JAX, we can do this with `jax.lax.ppermute`, which is a parallel permutation operation and we have seen in previous notebooks before. It allows us to send an array to the next device in a ring topology, and receive an array from the previous device. As long as we do not try to access the array before it has been fully communicated, we can continue with the computation and overlap communication with computation. We will use this operation to implement an asynchronous version of our gather and scatter-sum operations."
   ]
  },
  {
   "cell_type": "markdown",
   "metadata": {},
   "source": [
    "### Async Gather\n",
    "\n",
    "We start with the gather strategy. Each device holds a subset of the input features, and we want to communicate the input features asynchronously to all devices. We start by performing a `jax.lax.ppermute` to send the current features to the next device in our ring topology. This means device 0 sends the features to device 1, device 1 sends the features to device 2, and so on, until the last device sends its features to device 0. However, instead of concatenating the communicated features with the current features, as we would get with `jax.lax.all_gather`, we collect the communicated arrays in a list. This way, the features present on the device and the communicated features become two independent arrays, on which we can perform independent operations. For instance, we could already start computing the output with respect to the current features, while waiting for the communication to finish.\n",
    "\n",
    "At this point, each device has its own features and those of its neighbor. However, we want all features to be gathered on all devices. We achieve this by communicating the newly communicated features to the next device as soon as they become available. For example, device 0 sends the communicated features from device 3 to device 1, device 1 sends the communicated features from device 0 to device 2, and so on. By continuining this pattern, we can ensure that all devices have all features by using the minimal amount of communication (each device only sends and receives $N-1$ features, where $N$ is the number of devices). \n",
    "\n",
    "The communication pattern is visualized below. The first column shows the initial features on each device, and each block represents the list of features per device. The second column shows the communicated features after a single `jax.lax.ppermute`, and so on. The arrows indicate the communication pattern.\n",
    "\n",
    "<center width=\"100%\" style=\"padding: 10px\"><img src=\"../figures/tensor_async_gather.svg\" width=\"1000px\"></center>\n",
    "\n",
    "We note that in contrast to the all-gather operation, each device ends up with a different order of the features. This is not a problem for our purposes, since our final operation of performing a matrix multiplication with the weight matrix is independent of the order of the features. We will sum the outputs of each feature and learn the weight matrix from scratch, thus being able to handle the different order of the features. Still, one should keep in mind that this might lead to a different weight matrix order than in the all-gather operation, and converting between the two operations requires a permutation of the weight matrix.\n",
    "\n",
    "Let's now implement the async gather strategy below. In implementation, we can decide which direction of the ring we communicate along (device 0 to device 1, or device 1 to device 0). More on this later. We further write the implementation general enough such that it also supports PyTree's that we need to communicate across devices. This becomes helpful when we have a more complex model, and the module's input or output is a PyTree."
   ]
  },
  {
   "cell_type": "code",
   "execution_count": 6,
   "metadata": {},
   "outputs": [],
   "source": [
    "def async_gather(x: PyTree, axis_name: str, shift_up: bool = True) -> List[PyTree]:\n",
    "    \"\"\"All gather using ring permutation.\n",
    "\n",
    "    Args:\n",
    "        x: The input to gather.\n",
    "        axis_name: The axis name to gather along.\n",
    "        shift_up: Whether to shift up (device 0 send to device 1) or down (device 1 send to device 0).\n",
    "\n",
    "    Returns:\n",
    "        List of gathered inputs.\n",
    "    \"\"\"\n",
    "    tp_size = jax.lax.psum(1, axis_name)\n",
    "    # Determine communication permutation.\n",
    "    if shift_up:\n",
    "        shift_perm = [(j, (j + 1) % tp_size) for j in range(tp_size)]\n",
    "    else:\n",
    "        shift_perm = [(j, (j - 1) % tp_size) for j in range(tp_size)]\n",
    "    ps = [x]\n",
    "    p = x\n",
    "    # Perform all-gather using ring permutation.\n",
    "    for _ in range(1, tp_size):\n",
    "        p = jax.lax.ppermute(p, axis_name, perm=shift_perm)\n",
    "        ps.append(p)\n",
    "    return ps"
   ]
  },
  {
   "cell_type": "markdown",
   "metadata": {},
   "source": [
    "The output is now a list of arrays, on which we can perform independent, asynchronous operations. We can schedule each operation as the features become available, and are only blocked once we want to access an array that has not finished communicating yet. As long as the individual operations are sufficiently making use of the device, we can overlap communication with computation."
   ]
  },
  {
   "cell_type": "markdown",
   "metadata": {},
   "source": [
    "#### Example\n",
    "\n",
    "Let's make a small example to illustrate the async gather strategy. We will use a simple feature array of shape `(2, 4, 1)` (data axis, model axis, feature axis), and split it over our 8 devices."
   ]
  },
  {
   "cell_type": "code",
   "execution_count": 7,
   "metadata": {},
   "outputs": [
    {
     "data": {
      "text/plain": [
       "array([[[0.],\n",
       "        [1.],\n",
       "        [2.],\n",
       "        [3.]],\n",
       "\n",
       "       [[4.],\n",
       "        [5.],\n",
       "        [6.],\n",
       "        [7.]]], dtype=float32)"
      ]
     },
     "execution_count": 7,
     "metadata": {},
     "output_type": "execute_result"
    }
   ],
   "source": [
    "x = np.arange(jax.local_device_count(), dtype=jnp.float32)\n",
    "x = np.reshape(x, (-1, config.model_axis_size, 1))\n",
    "x"
   ]
  },
  {
   "cell_type": "markdown",
   "metadata": {},
   "source": [
    "We now call the async gather function with the feature array over the model axis. We will use the default communication direction, which is from device 0 to device 1."
   ]
  },
  {
   "cell_type": "code",
   "execution_count": 8,
   "metadata": {},
   "outputs": [
    {
     "name": "stdout",
     "output_type": "stream",
     "text": [
      "Device 0: [0.0, 3.0, 2.0, 1.0]\n",
      "Device 1: [1.0, 0.0, 3.0, 2.0]\n",
      "Device 2: [2.0, 1.0, 0.0, 3.0]\n",
      "Device 3: [3.0, 2.0, 1.0, 0.0]\n",
      "Device 4: [4.0, 7.0, 6.0, 5.0]\n",
      "Device 5: [5.0, 4.0, 7.0, 6.0]\n",
      "Device 6: [6.0, 5.0, 4.0, 7.0]\n",
      "Device 7: [7.0, 6.0, 5.0, 4.0]\n"
     ]
    }
   ],
   "source": [
    "gather_model_fn = shard_map(\n",
    "    functools.partial(async_gather, axis_name=config.model_axis_name),\n",
    "    mesh=mesh,\n",
    "    in_specs=P(config.data_axis_name, config.model_axis_name),\n",
    "    out_specs=P(config.data_axis_name, config.model_axis_name),\n",
    ")\n",
    "x_gather_model = gather_model_fn(x)\n",
    "x_gather_model = jax.device_get(x_gather_model)\n",
    "for idx in range(jax.local_device_count()):\n",
    "    print(\n",
    "        f\"Device {idx}: {[feat.reshape(-1, feat.shape[-1])[idx].item() for feat in x_gather_model]}\"\n",
    "    )"
   ]
  },
  {
   "cell_type": "markdown",
   "metadata": {},
   "source": [
    "The output is a list of arrays, where each array is the communicated features from the previous device. Device 0 to device 3 show the same communication pattern as we have visualized above. Device 0 sends its first features to device 1, and receives the first features from device 3. If we had flipped the direction, device 0 would have `1.0` as its first feature. Meanwhile, device 4 to device 7 are an independent model group, since they are stacked over the data axis. Thus, device 4 communicates its first features to device 5, and receives the first features from device 7."
   ]
  },
  {
   "cell_type": "markdown",
   "metadata": {},
   "source": [
    "#### Bidirectional Communication"
   ]
  },
  {
   "cell_type": "markdown",
   "metadata": {},
   "source": [
    "Our implementation of the async gather strategy allows us to communicate the features in both directions, which we can exploit further. For instance, in TPU superpods, TPUs are connected in a 2D/3D torus mesh, such that each TPU has an interconnect to all its neighbors. Therefore, we can communicate the features in both directions at the same time to maximize our usage of bandwidth (more details [here](https://jax.readthedocs.io/en/latest/notebooks/shard_map.html#example-1-all-gather-on-one-side)). Similarly, [NVLink](https://www.nvidia.com/en-us/data-center/nvlink/) connections between GPUs allow for bidirectional communication, which we can exploit.\n",
    "\n",
    "At each step, we perform a `jax.lax.ppermute` in both directions, and collect the communicated features. Note that we need to keep track of the features we send in both directions separately, since in the second step, device 1 will send device 0's features to device 2 and not accidentally back to device 0. Further, we can ensure the same order in the list as the non-bidirectional version by keeping two separate lists and merge them afterwards. The communication pattern is visualized below.\n",
    "\n",
    "<center width=\"100%\" style=\"padding: 10px\"><img src=\"../figures/tensor_async_bidir_gather.svg\" width=\"700px\"></center>\n",
    "\n",
    "We can now implement the bidirectional async gather strategy below, with the same principles as the non-bidirectional version."
   ]
  },
  {
   "cell_type": "code",
   "execution_count": 9,
   "metadata": {},
   "outputs": [],
   "source": [
    "def async_gather_bidirectional(\n",
    "    x: jax.Array, axis_name: str, shift_up: bool = True\n",
    ") -> List[jax.Array]:\n",
    "    \"\"\"All gather using ring permutation with bidirectional communication.\n",
    "\n",
    "    Args:\n",
    "        x: The input to gather.\n",
    "        axis_name: The axis name to gather along.\n",
    "        shift_up: Whether to return the order of tensors that complies with the unidrectional version of shift up (device 0 send to device 1) or down (device 1 send to device 0).\n",
    "\n",
    "    Returns:\n",
    "        List of gathered inputs.\n",
    "    \"\"\"\n",
    "    tp_size = jax.lax.psum(1, axis_name)\n",
    "    shift_up_perm = [(j, (j + 1) % tp_size) for j in range(tp_size)]\n",
    "    shift_down_perm = [(j, (j - 1) % tp_size) for j in range(tp_size)]\n",
    "    ps_up = []\n",
    "    ps_down = []\n",
    "    p_up = x\n",
    "    p_down = x\n",
    "    for i in range(1, tp_size):\n",
    "        if i % 2 == 0:\n",
    "            p_down = jax.lax.ppermute(p_down, axis_name=axis_name, perm=shift_down_perm)\n",
    "            ps_down.append(p_down)\n",
    "        else:\n",
    "            p_up = jax.lax.ppermute(p_up, axis_name=axis_name, perm=shift_up_perm)\n",
    "            ps_up.append(p_up)\n",
    "    # Combine communication in both directions.\n",
    "    # This list will have the same order as the unidirectional up version.\n",
    "    if shift_up:\n",
    "        ps = [x] + ps_up + ps_down[::-1]\n",
    "    else:\n",
    "        ps = [x] + ps_down + ps_up[::-1]\n",
    "    return ps"
   ]
  },
  {
   "cell_type": "markdown",
   "metadata": {},
   "source": [
    "As before, we can make a small example to illustrate the bidirectional async gather strategy. We will use the same feature array as before."
   ]
  },
  {
   "cell_type": "code",
   "execution_count": 10,
   "metadata": {},
   "outputs": [
    {
     "name": "stdout",
     "output_type": "stream",
     "text": [
      "Device 0: [0.0, 3.0, 2.0, 1.0]\n",
      "Device 1: [1.0, 0.0, 3.0, 2.0]\n",
      "Device 2: [2.0, 1.0, 0.0, 3.0]\n",
      "Device 3: [3.0, 2.0, 1.0, 0.0]\n",
      "Device 4: [4.0, 7.0, 6.0, 5.0]\n",
      "Device 5: [5.0, 4.0, 7.0, 6.0]\n",
      "Device 6: [6.0, 5.0, 4.0, 7.0]\n",
      "Device 7: [7.0, 6.0, 5.0, 4.0]\n"
     ]
    }
   ],
   "source": [
    "gather_bidir_model_fn = shard_map(\n",
    "    functools.partial(async_gather_bidirectional, axis_name=config.model_axis_name),\n",
    "    mesh=mesh,\n",
    "    in_specs=P(config.data_axis_name, config.model_axis_name),\n",
    "    out_specs=P(config.data_axis_name, config.model_axis_name),\n",
    ")\n",
    "x_gather_model = gather_bidir_model_fn(x)\n",
    "x_gather_model = jax.device_get(x_gather_model)\n",
    "for idx in range(jax.local_device_count()):\n",
    "    print(\n",
    "        f\"Device {idx}: {[feat.reshape(-1, feat.shape[-1])[idx].item() for feat in x_gather_model]}\"\n",
    "    )"
   ]
  },
  {
   "cell_type": "markdown",
   "metadata": {},
   "source": [
    "The result is identical to the unidirectional version, but we have communicated the features in both directions at the same time. This can be useful to maximize the usage of the interconnect bandwidth, and is especially useful in TPU nodes."
   ]
  },
  {
   "cell_type": "markdown",
   "metadata": {},
   "source": [
    "If you look carefully at the diagram, you spot another minor inefficiency. If we have an even number of devices, the last communication cycle will be unidirectional again since we require an uneven amount of communication cycles. An alternative bidirectional communication strategy that overcomes this inefficiency is to split the features over the hidden dimension, and communicate half in one direction and half in the other direction. This way, we can ensure that we always communicate in both directions, and may speed up the latency of the first feature to be communicated, since the features are smaller. However, this strategy requires more communication cycles and may require operations on smaller arrays, which may have a lower utilization of the devices depending on the feature and operation size. Additionally, it gives a strictly different list structure of the features than the unidirectional version. We implement this strategy below."
   ]
  },
  {
   "cell_type": "code",
   "execution_count": 11,
   "metadata": {},
   "outputs": [],
   "source": [
    "def async_gather_split(x: jax.Array, axis_name: str) -> List[jax.Array]:\n",
    "    \"\"\"All gather using ring permutation with features split for bidirectional communication.\n",
    "\n",
    "    Args:\n",
    "        x: The input to gather.\n",
    "        axis_name: The axis name to gather along.\n",
    "\n",
    "    Returns:\n",
    "        List of gathered inputs. Length is 2 * axis size - 1.\n",
    "    \"\"\"\n",
    "    x1, x2 = jax.tree_map(lambda x: jnp.split(x, 2, axis=-1), x)\n",
    "    return async_gather(x1, axis_name, shift_up=True) + async_gather(x2, axis_name, shift_up=False)"
   ]
  },
  {
   "cell_type": "markdown",
   "metadata": {},
   "source": [
    "We can make a small example again, where we double the feature dimension of `x` to allow for splitting over the hidden dimension."
   ]
  },
  {
   "cell_type": "code",
   "execution_count": 12,
   "metadata": {},
   "outputs": [
    {
     "name": "stdout",
     "output_type": "stream",
     "text": [
      "Device 0: [0.0, 3.0, 2.0, 1.0, 0.5, 1.5, 2.5, 3.5]\n",
      "Device 1: [1.0, 0.0, 3.0, 2.0, 1.5, 2.5, 3.5, 0.5]\n",
      "Device 2: [2.0, 1.0, 0.0, 3.0, 2.5, 3.5, 0.5, 1.5]\n",
      "Device 3: [3.0, 2.0, 1.0, 0.0, 3.5, 0.5, 1.5, 2.5]\n",
      "Device 4: [4.0, 7.0, 6.0, 5.0, 4.5, 5.5, 6.5, 7.5]\n",
      "Device 5: [5.0, 4.0, 7.0, 6.0, 5.5, 6.5, 7.5, 4.5]\n",
      "Device 6: [6.0, 5.0, 4.0, 7.0, 6.5, 7.5, 4.5, 5.5]\n",
      "Device 7: [7.0, 6.0, 5.0, 4.0, 7.5, 4.5, 5.5, 6.5]\n"
     ]
    }
   ],
   "source": [
    "gather_split_model_fn = shard_map(\n",
    "    functools.partial(async_gather_split, axis_name=config.model_axis_name),\n",
    "    mesh=mesh,\n",
    "    in_specs=P(config.data_axis_name, config.model_axis_name),\n",
    "    out_specs=P(config.data_axis_name, config.model_axis_name),\n",
    ")\n",
    "x_double = np.concatenate([x, x + 0.5], axis=-1)\n",
    "x_gather_model = gather_split_model_fn(x_double)\n",
    "x_gather_model = jax.device_get(x_gather_model)\n",
    "for idx in range(jax.local_device_count()):\n",
    "    print(\n",
    "        f\"Device {idx}: {[feat.reshape(-1, feat.shape[-1])[idx].item() for feat in x_gather_model]}\"\n",
    "    )"
   ]
  },
  {
   "cell_type": "markdown",
   "metadata": {},
   "source": [
    "As one can see, the communication pattern is different than the unidirectional version, and we have communicated the features in both directions at the same time. Due to the different setup and need for more operations, we will focus on the other bidirectional communication strategy in the following."
   ]
  },
  {
   "cell_type": "markdown",
   "metadata": {},
   "source": [
    "### Async Scatter\n",
    "\n",
    "We now turn to the scatter implementation. In scatter, we have the opposite situation than in gather: all inputs are already available at the start of the operation, and instead, we want to communicate the output to all devices. Thus, we want to start communicating as soon as we have computed a part of the output needed on another device. The asynchronous scatter strategy is visualized below.\n",
    "\n",
    "<center width=\"100%\" style=\"padding: 10px\"><img src=\"../figures/tensor_async_scatter.svg\" width=\"1000px\"></center>\n",
    "\n",
    "As input, we have the full output features on each device. For clarity, we denote the arrays as $a_0,...,a_3$ for device 0 and so on, where $a_i$ corresponds to $y^{(0)}_i$ in our earlier notation. Note that not all arrays need to be ready at this point, and mainly start with a list of arrays to indicate the computation graph to the compiler. In eager mode, this can correspond to the setup where the CPU offloaded the computation of the array to the GPU, but can already continue with the next operation until the values of the array are needed. \n",
    "\n",
    "In the first step, we communicate the first outputs of all devices in a round robin fashion. This communication can be performed as soon as $a_0$, $b_0$, $c_0$, and $d_0$ are available (highlighted in red), and will be overlapped with the computation of $a_1$, $b_1$, $c_1$, and $d_1$. The communicated arrays will then be added to the output arrays $a_1$, $b_1$, $c_1$, and $d_1$ as soon as they become available, and we start the next round of communication. This round overlaps with the computation of $a_2$, $b_2$, $c_2$, and $d_2$, and so on. This way, we can overlap communication with computation and improve the efficiency of the model. The final output on each device will be the sum of some output part of all devices, which follows the scatter pattern. However, in comparison to the non-async scatter, the order of the output parts will be different: device 0 has the sum $a_3+b_0+c_1+d_2$, while in the non-async scatter, it would have been $a_0+b_0+c_0+d_0$. As for the async gather operation, this is usually not a problem, since the order of the output parts is not important for the learned linear layer.\n",
    "\n",
    "We can now implement the async scatter strategy below. Given a list of arrays, we will communicate the arrays in a round robin fashion, and add the communicated arrays to the output arrays as soon as they become available. The output is the sum of all communicated arrays and the last output array."
   ]
  },
  {
   "cell_type": "code",
   "execution_count": 13,
   "metadata": {},
   "outputs": [],
   "source": [
    "def async_scatter(xs: Sequence[PyTree], axis_name: str, shift_up: bool = True) -> PyTree:\n",
    "    \"\"\"Scatter sum using ring permutation.\n",
    "\n",
    "    Args:\n",
    "        xs: The inputs to scatter sum. The length of the list should match the size of the axis.\n",
    "        axis_name: The axis name to scatter sum along.\n",
    "        shift_up: Whether to shift up (device 0 send to device 1) or down (device 1 send to device 0).\n",
    "\n",
    "    Returns:\n",
    "        The scatter summed output.\n",
    "    \"\"\"\n",
    "    tp_size = jax.lax.psum(1, axis_name)\n",
    "    assert (\n",
    "        len(xs) == tp_size\n",
    "    ), f\"Number of shards needs to match axis size, but got {len(xs)} with {axis_name} axis size {tp_size}.\"\n",
    "    if shift_up:\n",
    "        shift_perm = [(j, (j + 1) % tp_size) for j in range(tp_size)]\n",
    "    else:\n",
    "        shift_perm = [(j, (j - 1) % tp_size) for j in range(tp_size)]\n",
    "    y = xs[0]\n",
    "    for x in xs[1:]:\n",
    "        y = jax.lax.ppermute(y, axis_name, perm=shift_perm)\n",
    "        y = jax.tree_map(jnp.add, y, x)\n",
    "    return y"
   ]
  },
  {
   "cell_type": "markdown",
   "metadata": {},
   "source": [
    "#### Example\n",
    "\n",
    "Let's make a small example to illustrate the async scatter strategy. We will use a simple feature array of shape `(2, 4, 4)` (data axis, model axis, feature axis), and split it over our 8 devices."
   ]
  },
  {
   "cell_type": "code",
   "execution_count": 14,
   "metadata": {},
   "outputs": [
    {
     "name": "stdout",
     "output_type": "stream",
     "text": [
      "array([[[0, 7, 6, 4],\n",
      "        [4, 8, 0, 6],\n",
      "        [2, 0, 5, 9],\n",
      "        [7, 7, 7, 7]],\n",
      "\n",
      "       [[5, 1, 8, 4],\n",
      "        [5, 3, 1, 9],\n",
      "        [7, 6, 4, 8],\n",
      "        [5, 4, 4, 2]]])\n"
     ]
    }
   ],
   "source": [
    "np_rng = np.random.default_rng(42)\n",
    "x = np_rng.integers(\n",
    "    low=0,\n",
    "    high=10,\n",
    "    size=(\n",
    "        jax.local_device_count() // config.model_axis_size,\n",
    "        config.model_axis_size,\n",
    "        config.model_axis_size,\n",
    "    ),\n",
    ")\n",
    "pprint(x)"
   ]
  },
  {
   "cell_type": "markdown",
   "metadata": {},
   "source": [
    "In this example, we have device 0 with $a_0=0, a_1=0, a_2=2, a_3=7$, and so on. We call the async scatter function with the feature array over the model axis."
   ]
  },
  {
   "cell_type": "code",
   "execution_count": 15,
   "metadata": {},
   "outputs": [
    {
     "name": "stdout",
     "output_type": "stream",
     "text": [
      "Device 0: [15]\n",
      "Device 1: [21]\n",
      "Device 2: [23]\n",
      "Device 3: [20]\n",
      "Device 4: [19]\n",
      "Device 5: [28]\n",
      "Device 6: [15]\n",
      "Device 7: [14]\n"
     ]
    }
   ],
   "source": [
    "scatter_model_fn = shard_map(\n",
    "    lambda x: async_scatter(x, axis_name=config.model_axis_name),\n",
    "    mesh=mesh,\n",
    "    in_specs=P(config.data_axis_name, config.model_axis_name),\n",
    "    out_specs=P(config.data_axis_name, config.model_axis_name),\n",
    ")\n",
    "xs = np.split(x, x.shape[-1], axis=-1)\n",
    "y_scatter_model = scatter_model_fn(xs)\n",
    "for idx in range(jax.local_device_count()):\n",
    "    print(f\"Device {idx}: {y_scatter_model.reshape(-1, y_scatter_model.shape[-1])[idx]}\")"
   ]
  },
  {
   "cell_type": "markdown",
   "metadata": {},
   "source": [
    "To check the result, we can do the operation by hand using the figure above, and get:\n",
    "\n",
    "- Output on device 0: $a_3 + b_0 + c_1 + d_2 = 4 + 4 + 0 + 7 = 15$\n",
    "- Output on device 1: $a_2 + b_3 + c_0 + d_1 = 6 + 6 + 2 + 7 = 21$\n",
    "- Output on device 2: $a_1 + b_2 + c_3 + d_0 = 7 + 0 + 9 + 7 = 23$\n",
    "- Output on device 3: $a_0 + b_1 + c_2 + d_3 = 0 + 8 + 5 + 7 = 20$\n",
    "\n",
    "The result is identical to the expected output, suggesting we have successfully implemented the async scatter strategy."
   ]
  },
  {
   "cell_type": "markdown",
   "metadata": {},
   "source": [
    "#### Bidirectional Communication\n",
    "\n",
    "Similar to the async gather strategy, we can also communicate the features in both directions at the same time by splitting the features over the hidden dimension. This way, we can ensure that we always communicate in both directions, and may improve efficiency. We implement this strategy below."
   ]
  },
  {
   "cell_type": "code",
   "execution_count": 16,
   "metadata": {},
   "outputs": [],
   "source": [
    "def async_scatter_split(xs: Sequence[PyTree], axis_name: str) -> PyTree:\n",
    "    \"\"\"Scatter sum using ring permutation with features split for bidirectional communication.\n",
    "\n",
    "    Args:\n",
    "        xs: The inputs to scatter sum. The length of the list should match the size of the axis.\n",
    "        axis_name: The axis name to scatter sum along.\n",
    "\n",
    "    Returns:\n",
    "        The scatter summed output.\n",
    "    \"\"\"\n",
    "\n",
    "    def _split(x: PyTree) -> Tuple[PyTree, PyTree]:\n",
    "        return (\n",
    "            jax.tree_map(lambda x: x[..., : x.shape[-1] // 2], x),\n",
    "            jax.tree_map(lambda x: x[..., x.shape[-1] // 2 :], x),\n",
    "        )\n",
    "\n",
    "    tp_size = jax.lax.psum(1, axis_name)\n",
    "    assert (\n",
    "        len(xs) == tp_size\n",
    "    ), f\"Number of shards needs to match axis size, but got {len(xs)} with {axis_name} axis size {tp_size}.\"\n",
    "    shift_perm_up = [(j, (j + 1) % tp_size) for j in range(tp_size)]\n",
    "    shift_perm_down = [(j, (j - 1) % tp_size) for j in range(tp_size)]\n",
    "    y_up, y_down = _split(xs[0])\n",
    "    for x in xs[1:]:\n",
    "        y_up = jax.lax.ppermute(y_up, axis_name, perm=shift_perm_up)\n",
    "        y_down = jax.lax.ppermute(y_down, axis_name, perm=shift_perm_down)\n",
    "        x_up, x_down = _split(x)\n",
    "        y_up = jax.tree_map(jnp.add, y_up, x_up)\n",
    "        y_down = jax.tree_map(jnp.add, y_down, x_down)\n",
    "    return jax.tree_map(lambda y1, y2: jnp.concatenate([y1, y2], axis=-1), y_up, y_down)"
   ]
  },
  {
   "cell_type": "markdown",
   "metadata": {},
   "source": [
    "The first half of the features are processed in the same way as in the unidirectional version with `shift_up=True`, and the second half of the features are processed in the same way as in the unidirectional version with `shift_up=False`. We can verify this by repeating our example array over the last axis and check the output."
   ]
  },
  {
   "cell_type": "code",
   "execution_count": 17,
   "metadata": {},
   "outputs": [
    {
     "name": "stdout",
     "output_type": "stream",
     "text": [
      "Device 0: [15 11]\n",
      "Device 1: [21 18]\n",
      "Device 2: [23 27]\n",
      "Device 3: [20 23]\n",
      "Device 4: [19 16]\n",
      "Device 5: [28 22]\n",
      "Device 6: [15 18]\n",
      "Device 7: [14 20]\n"
     ]
    }
   ],
   "source": [
    "scatter_model_fn = shard_map(\n",
    "    lambda x: async_scatter_split(x, axis_name=config.model_axis_name),\n",
    "    mesh=mesh,\n",
    "    in_specs=P(config.data_axis_name, config.model_axis_name),\n",
    "    out_specs=P(config.data_axis_name, config.model_axis_name),\n",
    ")\n",
    "x_double = np.repeat(x, 2, axis=-1)\n",
    "xs = np.split(x_double, x.shape[-1], axis=-1)\n",
    "y_scatter_model = scatter_model_fn(xs)\n",
    "for idx in range(jax.local_device_count()):\n",
    "    print(f\"Device {idx}: {y_scatter_model.reshape(-1, y_scatter_model.shape[-1])[idx]}\")"
   ]
  },
  {
   "cell_type": "markdown",
   "metadata": {},
   "source": [
    "The first feature dimension is indeed the same as in the unidirectional version above. We can verify the second feature dimension by hand or running the previous example with `shift_up=False`. The result is identical to the expected output, suggesting we have successfully implemented the bidirectional async scatter strategy. Due to the different setup and need for more operations, we will focus on the unidirectional scatter version in the following, but the bidirectional version can be more efficient in some cases."
   ]
  },
  {
   "cell_type": "markdown",
   "metadata": {},
   "source": [
    "### Asynchronous Linear Layer\n",
    "\n",
    "We can now implement the async gather and scatter strategies in a linear layer, as for example used in the ViT-22b model. Both follow very closely the asynchronous communication functions we implemented above, just with added computation.\n",
    "\n",
    "In the gather strategy, we start with computing the output with respect to the current features (i.e. $A_{i,i}x_i$ on device $i$), since they are already available on each device. At the same time, we communicate the features to the next device. Once the features are communicated and we finished the computation, we can start computing the output with respect to the communicated features, and continue the process. All outputs are summed to obtain the final output. This process is visualized below (figure credit: [Dehghani et al., 2023](https://arxiv.org/abs/2302.05442)).\n",
    "\n",
    "<center width=\"100%\" style=\"padding: 10px\"><img src=\"../figures/tensor_linear_async_gather.svg\" width=\"800px\"></center>\n",
    "\n",
    "In the scatter strategy, we start with computing the output that will require the longest path of communication. Once computed, we send the output to the next device, and calculate the next output. We then sum the output with the communicated features, and continue the process. As the final output, we compute the features for the current device. This process is visualized below (figure credit: [Dehghani et al., 2023](https://arxiv.org/abs/2302.05442)).\n",
    "\n",
    "<center width=\"100%\" style=\"padding: 10px\"><img src=\"../figures/tensor_linear_async_scatter.svg\" width=\"800px\"></center>\n",
    "\n",
    "We extend our previous `TPDense` class to implement the asynchronous version. Instead of applying the dense layer only once, we apply it in a loop over the sub-features in the two strategies. We let the compiler figure out when to optimally schedule the individual communication and computation operations, which is expected to be close to our computation diagrams above. By splitting the dense layer into multiple smaller layers, each weight matrix will be of size $d_y / \\text{num}\\_\\text{devices} \\times d_x / \\text{num}\\_\\text{devices}$, such that we may need to adjust the kernel differently (e.g. fan-in adjustment in both scatter and gather). Further, we ensure that for each final output feature, we only use a single bias parameter to remain consistent with the non-parallelised models."
   ]
  },
  {
   "cell_type": "code",
   "execution_count": 18,
   "metadata": {},
   "outputs": [],
   "source": [
    "class TPAsyncDense(nn.Module):\n",
    "    \"\"\"Tensor-Parallel Dense Layer with Asynchronous Communication.\n",
    "\n",
    "    This layer can be used to perform a dense layer with Tensor Parallelism support, and overlaps communication with computation whenever possible.\n",
    "\n",
    "    Attributes:\n",
    "        dense_fn: Constructor function of the dense layer to use. Needs to support the keyword argument `kernel_init`.\n",
    "        model_axis_name: The name of the model axis.\n",
    "        tp_mode: The Tensor Parallelism mode to use. Can be \"scatter\", \"gather\", or \"none\".\n",
    "        kernel_init: The initializer to use for the kernel of the dense layer.\n",
    "        kernel_init_adjustment: The adjustment factor to use for the kernel initializer.\n",
    "        dense_name: The name of the dense layer module.\n",
    "        use_bidirectional_gather: Whether to use bidirectional or unidirectional gather over the device ring for communication.\n",
    "    \"\"\"\n",
    "\n",
    "    dense_fn: Any\n",
    "    model_axis_name: str\n",
    "    tp_mode: Literal[\"scatter\", \"gather\", \"none\"] = \"none\"\n",
    "    kernel_init: Callable = nn.initializers.lecun_normal()\n",
    "    kernel_init_adjustment: float = 1.0\n",
    "    dense_name: str = \"module\"\n",
    "    use_bidirectional_gather: bool = True\n",
    "\n",
    "    @nn.compact\n",
    "    def __call__(self, x: jax.Array) -> jax.Array:\n",
    "        tp_size = jax.lax.psum(1, self.model_axis_name)\n",
    "        tp_mode = self.tp_mode if tp_size > 1 else \"none\"\n",
    "\n",
    "        dense_fn = functools.partial(\n",
    "            ModelParallelismWrapper,\n",
    "            model_axis_name=self.model_axis_name,\n",
    "            module_fn=functools.partial(\n",
    "                self.dense_fn,\n",
    "                kernel_init=scale_init(self.kernel_init, self.kernel_init_adjustment),\n",
    "            ),\n",
    "            name=self.dense_name,\n",
    "        )\n",
    "\n",
    "        if tp_mode == \"none\":\n",
    "            y = self.dense_fn(kernel_init=self.kernel_init, name=\"shard_0\")(x)\n",
    "        elif tp_mode == \"gather\":\n",
    "            # Async gathering of all inputs.\n",
    "            async_op = (\n",
    "                async_gather_bidirectional if self.use_bidirectional_gather else async_gather\n",
    "            )\n",
    "            xs = async_op(x, axis_name=self.model_axis_name)\n",
    "            # Compute output per input (scheduled as communication makes inputs available).\n",
    "            ys = [\n",
    "                dense_fn(\n",
    "                    module_kwargs={\n",
    "                        \"use_bias\": (i == 0)\n",
    "                    },  # Only need a single per final output feature.\n",
    "                    name=f\"shard_{i}\",\n",
    "                )(x)\n",
    "                for i, x in enumerate(xs)\n",
    "            ]\n",
    "            # Final sum of all outputs.\n",
    "            y = jax.tree_map(lambda *args: sum(args), *ys)\n",
    "        elif tp_mode == \"scatter\":\n",
    "            # Calculate all outputs per device.\n",
    "            ys = [\n",
    "                dense_fn(\n",
    "                    module_kwargs={\n",
    "                        \"use_bias\": (i == 0)\n",
    "                    },  # Only need a single per final output feature.\n",
    "                    name=f\"shard_{i}\",\n",
    "                )(x)\n",
    "                for i in range(tp_size)\n",
    "            ]\n",
    "            # Async scatter sum of all outputs (communication already starts after first output is ready).\n",
    "            y = async_scatter(ys, axis_name=self.model_axis_name)\n",
    "        else:\n",
    "            raise ValueError(f\"Unknown Tensor Parallel mode: {tp_mode}\")\n",
    "        return y"
   ]
  },
  {
   "cell_type": "markdown",
   "metadata": {},
   "source": [
    "Now, let's use these asynchronous linear layers to improve the efficiency of our MLP blocks. We will implement the same MLP block as before, but replace the `TPDense` layers with `TPAsyncDense` layers. We will use the gather strategy for the first linear layer, and the scatter strategy for the second linear layer. For the input layer, we also need to adjust the initialization by scaling the values by $\\sqrt{1/\\text{num}\\_\\text{devices}}$, since the input to each layer will be $1/\\text{num}\\_\\text{devices}$ of the full feature size.\n",
    "\n",
    "While the splitting of the dense layer into multiple smaller layers works without problems, we also need to apply other layers in the same way. For instance, the activation function can be applied independently on each input, such that we do not need to adjust for it. However, the normalization layer commonly contains statistics that are computed over the full feature size, and we cannot do it anymore within the input layer (in the non-async implementation, the gather strategy allowed for it). Instead, we first apply the normalization layer and compute the statistics across devices. Luckily, in Flax, this is already supported by passing an `axis_name` to the normalization layer (see e.g. the docs for [RMSNorm](https://flax.readthedocs.io/en/latest/api_reference/flax.linen/_autosummary/flax.linen.RMSNorm.html)). We only need to wrap it in a model parallelism wrapper since each device will have scaling parameters for its respective features. This gives us the same result as if we had computed the statistics over the full feature size on a single device, and we can continue with the rest of the operations. Let's implement this norm class below."
   ]
  },
  {
   "cell_type": "code",
   "execution_count": 19,
   "metadata": {},
   "outputs": [],
   "source": [
    "class TPNorm(nn.Module):\n",
    "    config: ConfigDict\n",
    "\n",
    "    @nn.compact\n",
    "    def __call__(self, x: jax.Array) -> jax.Array:\n",
    "        x = ModelParallelismWrapper(\n",
    "            model_axis_name=self.config.model_axis_name,\n",
    "            module_fn=functools.partial(\n",
    "                nn.RMSNorm,\n",
    "                dtype=self.config.dtype,\n",
    "                axis_name=self.config.model_axis_name,\n",
    "            ),\n",
    "            name=\"norm\",\n",
    "        )(x)\n",
    "        return x"
   ]
  },
  {
   "cell_type": "markdown",
   "metadata": {},
   "source": [
    "We use this normalization layer in the `TPAsyncMLPBlock` class below to define the whole block."
   ]
  },
  {
   "cell_type": "code",
   "execution_count": 20,
   "metadata": {},
   "outputs": [],
   "source": [
    "class TPAsyncMLPBlock(nn.Module):\n",
    "    config: ConfigDict\n",
    "    train: bool\n",
    "\n",
    "    @nn.compact\n",
    "    def __call__(self, x: jax.Array) -> jax.Array:\n",
    "        tp_size = jax.lax.psum(1, self.config.model_axis_name)\n",
    "        input_features = x.shape[-1]\n",
    "        # Normalize across devices before the input layer.\n",
    "        x = TPNorm(config=self.config, name=\"pre_norm\")(x)\n",
    "        # Input dense layer with async gather.\n",
    "        x = TPAsyncDense(\n",
    "            dense_fn=functools.partial(\n",
    "                MLPBlockInput,\n",
    "                config=self.config,\n",
    "                features=self.config.hidden_size * self.config.mlp_expansion // tp_size,\n",
    "                use_norm=False,\n",
    "            ),\n",
    "            model_axis_name=self.config.model_axis_name,\n",
    "            tp_mode=\"gather\",\n",
    "            kernel_init_adjustment=tp_size**-0.5,\n",
    "            name=\"input\",\n",
    "        )(x)\n",
    "        # Output dense layer with async scatter.\n",
    "        x = TPAsyncDense(\n",
    "            dense_fn=functools.partial(\n",
    "                MLPBlockOutput,\n",
    "                config=self.config,\n",
    "                features=input_features,\n",
    "            ),\n",
    "            model_axis_name=self.config.model_axis_name,\n",
    "            tp_mode=\"scatter\",\n",
    "            kernel_init_adjustment=tp_size**-0.5,\n",
    "            name=\"output\",\n",
    "        )(x)\n",
    "        return x"
   ]
  },
  {
   "cell_type": "markdown",
   "metadata": {},
   "source": [
    "### Initialization\n",
    "\n",
    "The rest of the model is identical to the non-async version. Let's first create the classifier model with the new async MLP block. Note that the input and output layer do not require the async strategy. The input layer has already features gathered, such that no communication is needed. For the output, we require all outputs to be available on all devices (or at least device), which we ensure via `jax.lax.psum` and requires blocking communications."
   ]
  },
  {
   "cell_type": "code",
   "execution_count": 21,
   "metadata": {},
   "outputs": [],
   "source": [
    "model_tp_async = TPClassifier(config.model, block_class=TPAsyncMLPBlock)\n",
    "optimizer = optax.adamw(learning_rate=config.optimizer.learning_rate)"
   ]
  },
  {
   "cell_type": "markdown",
   "metadata": {},
   "source": [
    "We reuse the same initialization function with the new model."
   ]
  },
  {
   "cell_type": "code",
   "execution_count": 22,
   "metadata": {},
   "outputs": [],
   "source": [
    "init_tp_async_fn = shard_map(\n",
    "    functools.partial(init_tp, model=model_tp_async, optimizer=optimizer),\n",
    "    mesh,\n",
    "    in_specs=(P(), P(config.data_axis_name)),\n",
    "    out_specs=P(),\n",
    "    check_rep=False,\n",
    ")\n",
    "state_tp_async_shapes = jax.eval_shape(init_tp_async_fn, model_init_rng, batch.inputs)\n",
    "state_tp_async_specs = nn.get_partition_spec(state_tp_async_shapes)"
   ]
  },
  {
   "cell_type": "markdown",
   "metadata": {},
   "source": [
    "Let's inspect how the async layers have impacted the parameter sharding in the MLP block."
   ]
  },
  {
   "cell_type": "code",
   "execution_count": 23,
   "metadata": {},
   "outputs": [
    {
     "name": "stdout",
     "output_type": "stream",
     "text": [
      "{'input_layer': {'module': {'sharded': {'bias': PartitionSpec('model', None),\n",
      "                                        'kernel': PartitionSpec('model', None, None)}}},\n",
      " 'mlp': {'block': {'input': {'shard_0': {'sharded': {'dense': {'bias': PartitionSpec(None, 'model', None),\n",
      "                                                               'kernel': PartitionSpec(None, 'model', None, None)}}},\n",
      "                             'shard_1': {'sharded': {'dense': {'kernel': PartitionSpec(None, 'model', None, None)}}},\n",
      "                             'shard_2': {'sharded': {'dense': {'kernel': PartitionSpec(None, 'model', None, None)}}},\n",
      "                             'shard_3': {'sharded': {'dense': {'kernel': PartitionSpec(None, 'model', None, None)}}}},\n",
      "                   'output': {'shard_0': {'sharded': {'dense': {'bias': PartitionSpec(None, 'model', None),\n",
      "                                                                'kernel': PartitionSpec(None, 'model', None, None)}}},\n",
      "                              'shard_1': {'sharded': {'dense': {'kernel': PartitionSpec(None, 'model', None, None)}}},\n",
      "                              'shard_2': {'sharded': {'dense': {'kernel': PartitionSpec(None, 'model', None, None)}}},\n",
      "                              'shard_3': {'sharded': {'dense': {'kernel': PartitionSpec(None, 'model', None, None)}}}},\n",
      "                   'pre_norm': {'norm': {'sharded': {'scale': PartitionSpec(None, 'model', None)}}}}},\n",
      " 'output_layer': {'module': {'sharded': {'bias': PartitionSpec('model', None),\n",
      "                                         'kernel': PartitionSpec('model', None, None)}}}}\n"
     ]
    }
   ],
   "source": [
    "pprint(state_tp_async_specs.params)"
   ]
  },
  {
   "cell_type": "markdown",
   "metadata": {},
   "source": [
    "Each input and output layer of the MLP block contains several sub-modules now, one per smaller dense layer (equivalent to number of devices). Each has a kernel with the same sharding as before, but only the first layer has a bias term. The normalization layer is now outside of the input layer, with the same sharding as before. The input and output layers of the whole model did not change.\n",
    "\n",
    "We can now continue with the initialization."
   ]
  },
  {
   "cell_type": "code",
   "execution_count": 24,
   "metadata": {},
   "outputs": [],
   "source": [
    "init_tp_async_fn = jax.jit(\n",
    "    shard_map(\n",
    "        functools.partial(init_tp, model=model_tp_async, optimizer=optimizer),\n",
    "        mesh,\n",
    "        in_specs=(P(), P(config.data_axis_name)),\n",
    "        out_specs=state_tp_async_specs,\n",
    "        check_rep=False,\n",
    "    ),\n",
    ")\n",
    "state_tp_async = init_tp_async_fn(model_init_rng, batch.inputs)"
   ]
  },
  {
   "cell_type": "markdown",
   "metadata": {},
   "source": [
    "Let's also inspect the parameter shapes to ensure the initialization worked as expected."
   ]
  },
  {
   "cell_type": "code",
   "execution_count": 25,
   "metadata": {},
   "outputs": [
    {
     "name": "stdout",
     "output_type": "stream",
     "text": [
      "TP Parameters - MLP Layers Pre-Norm\n",
      "{'scale': Partitioned(value=(3, 4, 128),\n",
      "                      names=(None, 'model', None),\n",
      "                      mesh=None)}\n",
      "\n",
      "TP Parameters - MLP Layers Input\n",
      "{'dense': {'bias': Partitioned(value=(3, 4, 128),\n",
      "                               names=(None, 'model', None),\n",
      "                               mesh=None),\n",
      "           'kernel': Partitioned(value=(3, 4, 128, 128),\n",
      "                                 names=(None, 'model', None, None),\n",
      "                                 mesh=None)}}\n",
      "\n",
      "TP Parameters - MLP Layers Output\n",
      "{'dense': {'bias': Partitioned(value=(3, 4, 128),\n",
      "                               names=(None, 'model', None),\n",
      "                               mesh=None),\n",
      "           'kernel': Partitioned(value=(3, 4, 128, 128),\n",
      "                                 names=(None, 'model', None, None),\n",
      "                                 mesh=None)}}\n"
     ]
    }
   ],
   "source": [
    "print(\"TP Parameters - MLP Layers Pre-Norm\")\n",
    "pprint(\n",
    "    jax.tree_map(\n",
    "        lambda x: x.shape, state_tp_async.params[\"mlp\"][\"block\"][\"pre_norm\"][\"norm\"][\"sharded\"]\n",
    "    )\n",
    ")\n",
    "print()\n",
    "print(\"TP Parameters - MLP Layers Input\")\n",
    "pprint(\n",
    "    jax.tree_map(\n",
    "        lambda x: x.shape, state_tp_async.params[\"mlp\"][\"block\"][\"input\"][\"shard_0\"][\"sharded\"]\n",
    "    )\n",
    ")\n",
    "print()\n",
    "print(\"TP Parameters - MLP Layers Output\")\n",
    "pprint(\n",
    "    jax.tree_map(\n",
    "        lambda x: x.shape, state_tp_async.params[\"mlp\"][\"block\"][\"output\"][\"shard_0\"][\"sharded\"]\n",
    "    )\n",
    ")"
   ]
  },
  {
   "cell_type": "markdown",
   "metadata": {},
   "source": [
    "Each dense layer has now a smaller kernel ($512 / 4 = 128$), which is why we needed the adjusted initialization schemes. The scale parameter of the pre-norm also has the same sharding, such that the parameters are consistent with the expected shapes."
   ]
  },
  {
   "cell_type": "markdown",
   "metadata": {},
   "source": [
    "### Training\n",
    "\n",
    "We can now train the model with the async MLP block. The training loop is identical to the non-async version, and we expect the model to learn the task with high accuracy."
   ]
  },
  {
   "cell_type": "code",
   "execution_count": 26,
   "metadata": {},
   "outputs": [
    {
     "name": "stderr",
     "output_type": "stream",
     "text": [
      "/home/plippe/anaconda3/envs/jax/lib/python3.10/site-packages/jax/_src/interpreters/mlir.py:761: UserWarning: Some donated buffers were not usable: ShapedArray(float32[1,128]), ShapedArray(float32[1,784,128]), ShapedArray(float32[3,1,128]), ShapedArray(float32[3,1,128,128]), ShapedArray(float32[3,1,128,128]), ShapedArray(float32[3,1,128,128]), ShapedArray(float32[3,1,128,128]), ShapedArray(float32[3,1,128]), ShapedArray(float32[3,1,128,128]), ShapedArray(float32[3,1,128,128]), ShapedArray(float32[3,1,128,128]), ShapedArray(float32[3,1,128,128]), ShapedArray(float32[3,1,128]), ShapedArray(float32[1,10]), ShapedArray(float32[1,128,10]), ShapedArray(float32[1,128]), ShapedArray(float32[1,784,128]), ShapedArray(float32[3,1,128]), ShapedArray(float32[3,1,128,128]), ShapedArray(float32[3,1,128,128]), ShapedArray(float32[3,1,128,128]), ShapedArray(float32[3,1,128,128]), ShapedArray(float32[3,1,128]), ShapedArray(float32[3,1,128,128]), ShapedArray(float32[3,1,128,128]), ShapedArray(float32[3,1,128,128]), ShapedArray(float32[3,1,128,128]), ShapedArray(float32[3,1,128]), ShapedArray(float32[1,10]), ShapedArray(float32[1,128,10]), ShapedArray(float32[1,128]), ShapedArray(float32[1,784,128]), ShapedArray(float32[3,1,128]), ShapedArray(float32[3,1,128,128]), ShapedArray(float32[3,1,128,128]), ShapedArray(float32[3,1,128,128]), ShapedArray(float32[3,1,128,128]), ShapedArray(float32[3,1,128]), ShapedArray(float32[3,1,128,128]), ShapedArray(float32[3,1,128,128]), ShapedArray(float32[3,1,128,128]), ShapedArray(float32[3,1,128,128]), ShapedArray(float32[3,1,128]), ShapedArray(float32[1,10]), ShapedArray(float32[1,128,10]).\n",
      "See an explanation at https://jax.readthedocs.io/en/latest/faq.html#buffer-donation.\n",
      "  warnings.warn(\"Some donated buffers were not usable:\"\n"
     ]
    }
   ],
   "source": [
    "train_step_tp_async_fn = jax.jit(\n",
    "    shard_map(\n",
    "        functools.partial(train_step_tp, config=config),\n",
    "        mesh,\n",
    "        in_specs=(state_tp_async_specs, P(), P(config.data_axis_name)),\n",
    "        out_specs=(state_tp_async_specs, P()),\n",
    "        check_rep=False,\n",
    "    ),\n",
    "    donate_argnames=(\"state\", \"metrics\"),\n",
    ")\n",
    "state_shapes, metric_shapes = jax.eval_shape(\n",
    "    train_step_tp_async_fn,\n",
    "    state_tp_async,\n",
    "    None,\n",
    "    batch,\n",
    ")\n",
    "metrics_tp_async = jax.tree_map(lambda x: jnp.zeros(x.shape, dtype=x.dtype), metric_shapes)\n",
    "state_tp_async, metrics_tp_async = train_step_tp_async_fn(state_tp_async, metrics_tp_async, batch)"
   ]
  },
  {
   "cell_type": "markdown",
   "metadata": {},
   "source": [
    "We train the model again for 15 steps and print the final loss and accuracy."
   ]
  },
  {
   "cell_type": "code",
   "execution_count": 27,
   "metadata": {},
   "outputs": [
    {
     "name": "stdout",
     "output_type": "stream",
     "text": [
      " Final Metrics - Tensor Parallelism Async \n",
      "accuracy: 1.000000\n",
      "loss: 0.000022\n"
     ]
    }
   ],
   "source": [
    "for _ in range(15):\n",
    "    state_tp_async, metrics_tp_async = train_step_tp_async_fn(\n",
    "        state_tp_async, metrics_tp_async, batch\n",
    "    )\n",
    "final_metrics_tp_async = jax.tree_map(lambda x: jnp.zeros(x.shape, dtype=x.dtype), metric_shapes)\n",
    "state_tp_async, final_metrics_tp_async = train_step_tp_async_fn(\n",
    "    state_tp_async, final_metrics_tp_async, batch\n",
    ")\n",
    "print_metrics(final_metrics_tp_async, title=\"Final Metrics - Tensor Parallelism Async\")"
   ]
  },
  {
   "cell_type": "markdown",
   "metadata": {},
   "source": [
    "As we expected, the model is able to learn the task with high accuracy. We have successfully implemented the async gather and scatter strategies in our linear layer, and improved the efficiency of our model. We can now continue to the next section, where we discuss the implementation of a full transformer model with tensor parallelism and fully-sharded data parallelism."
   ]
  },
  {
   "cell_type": "markdown",
   "metadata": {},
   "source": [
    "## Intermediate Summary\n",
    "\n",
    "In this notebook, we discussed the principles of tensor parallelism with compute-communication overlap. We implemented the asynchronous communication patterns of gather and scatter, and applied them to a linear layer distributed over multiple devices. We then used these layers to implement an asynchronous MLP block, and trained a model with it. In the next notebook, we will discuss how to implement tensor parallelism in a transformer model. Furthermore, we will profile the model to show the efficiency of the async communication patterns in such models."
   ]
  },
  {
   "cell_type": "markdown",
   "metadata": {},
   "source": [
    "## References and Resources\n",
    "\n",
    "\\[Shoeybi et al., 2019\\] Shoeybi, M., Patwary, M., Puri, R., LeGresley, P., Casper, J. and Catanzaro, B., 2019. Megatron-lm: Training multi-billion parameter language models using model parallelism. arXiv preprint arXiv:1909.08053. [Paper link](https://arxiv.org/abs/1909.08053)\n",
    "\n",
    "\\[Wang and Komatsuzaki, 2021\\] Wang, B., and Komatsuzaki, A., 2021. Mesh transformer jax. [GitHub link](https://github.com/kingoflolz/mesh-transformer-jax)\n",
    "\n",
    "\\[Xu et al., 2021\\] Xu, Y., Lee, H., Chen, D., Hechtman, B., Huang, Y., Joshi, R., Krikun, M., Lepikhin, D., Ly, A., Maggioni, M. and Pang, R., 2021. GSPMD: general and scalable parallelization for ML computation graphs. arXiv preprint arXiv:2105.04663. [Paper link](https://arxiv.org/abs/2105.04663)\n",
    "\n",
    "\\[Dehghani et al., 2022\\] Dehghani, M., Gritsenko, A., Arnab, A., Minderer, M. and Tay, Y., 2022. Scenic: A JAX library for computer vision research and beyond. In Proceedings of the IEEE/CVF Conference on Computer Vision and Pattern Recognition (pp. 21393-21398). [Paper link](https://openaccess.thecvf.com/content/CVPR2022/html/Dehghani_Scenic_A_JAX_Library_for_Computer_Vision_Research_and_Beyond_CVPR_2022_paper.html)\n",
    "\n",
    "\\[Yoo et al., 2022\\] Yoo, J., Perlin, K., Kamalakara, S.R. and Araújo, J.G., 2022. Scalable training of language models using JAX pjit and TPUv4. arXiv preprint arXiv:2204.06514. [Paper link](https://arxiv.org/abs/2204.06514)\n",
    "\n",
    "\\[Chowdhery et al., 2023\\] Chowdhery, A., Narang, S., Devlin, J., Bosma, M., Mishra, G., Roberts, A., Barham, P., Chung, H.W., Sutton, C., Gehrmann, S., Schuh, P., et al., 2023. Palm: Scaling language modeling with pathways. Journal of Machine Learning Research, 24(240), pp.1-113. [Paper link](https://arxiv.org/abs/2204.02311v5)\n",
    "\n",
    "\\[Anil et al., 2023\\] Anil, R., Dai, A.M., Firat, O., Johnson, M., Lepikhin, D., Passos, A., Shakeri, S., Taropa, E., Bailey, P., Chen, Z. and Chu, E., 2023. Palm 2 technical report. arXiv preprint arXiv:2305.10403. [Paper link](https://arxiv.org/abs/2305.10403)\n",
    "\n",
    "\\[Dehghani et al., 2023\\] Dehghani, M., Djolonga, J., Mustafa, B., Padlewski, P., Heek, J., Gilmer, J., Steiner, A.P., Caron, M., Geirhos, R., Alabdulmohsin, I., Jenatton, R., et al., 2023. Scaling vision transformers to 22 billion parameters. In International Conference on Machine Learning (pp. 7480-7512). PMLR. [Paper link](https://arxiv.org/abs/2302.05442)\n",
    "\n",
    "\\[McKinney, 2023\\] McKinney, A., 2023. A Brief Overview of Parallelism Strategies in Deep Learning. [Blog post link](https://afmck.in/posts/2023-02-26-parallelism/)\n",
    "\n",
    "\\[Huggingface, 2024\\] Huggingface, 2024. Model Parallelism. [Documentation link](https://huggingface.co/transformers/v4.9.2/parallelism.html)\n",
    "\n",
    "\\[Google, 2024\\] JAX Team Google, 2024. SPMD multi-device parallelism with shard_map. [Notebook link](https://jax.readthedocs.io/en/latest/notebooks/shard_map.html)\n",
    "\n",
    "\\[OpenAI, 2024\\] OpenAI, 2024. GPT-4. [Technical Report](https://arxiv.org/abs/2303.08774)\n",
    "\n",
    "\\[Google, 2024\\] Gemini Team Google Deepmind, 2024. Gemini. [Technical Report](https://arxiv.org/abs/2312.11805)"
   ]
  },
  {
   "cell_type": "markdown",
   "metadata": {},
   "source": [
    "---\n",
    "\n",
    "[![Star our repository](https://img.shields.io/static/v1.svg?logo=star&label=⭐&message=Star%20Our%20Repository&color=yellow)](https://github.com/phlippe/uvadlc_notebooks/)  If you found this tutorial helpful, consider ⭐-ing our repository.    \n",
    "[![Ask questions](https://img.shields.io/static/v1.svg?logo=star&label=❔&message=Ask%20Questions&color=9cf)](https://github.com/phlippe/uvadlc_notebooks/issues)  For any questions, typos, or bugs that you found, please raise an issue on GitHub. \n",
    "\n",
    "---"
   ]
  }
 ],
 "metadata": {
  "kernelspec": {
   "display_name": "jax_new",
   "language": "python",
   "name": "python3"
  },
  "language_info": {
   "codemirror_mode": {
    "name": "ipython",
    "version": 3
   },
   "file_extension": ".py",
   "mimetype": "text/x-python",
   "name": "python",
   "nbconvert_exporter": "python",
   "pygments_lexer": "ipython3",
   "version": "3.10.12"
  },
  "vscode": {
   "interpreter": {
    "hash": "c33e04bee723a695c1f11263e2553ef63671975140823e2daf94a160823ca89a"
   }
  }
 },
 "nbformat": 4,
 "nbformat_minor": 2
}
