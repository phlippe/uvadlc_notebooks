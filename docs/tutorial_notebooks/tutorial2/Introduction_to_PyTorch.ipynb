{
 "cells": [
  {
   "cell_type": "markdown",
   "metadata": {},
   "source": [
    "# Tutorial 2: Introduction to PyTorch\n",
    "\n",
    "![Status](https://img.shields.io/static/v1.svg?label=Status&message=Finished&color=green)\n",
    "\n",
    "**Filled notebook:** \n",
    "[![View filled on Github](https://img.shields.io/static/v1.svg?logo=github&label=Repo&message=View%20On%20Github&color=lightgrey)](https://github.com/phlippe/uvadlc_notebooks/blob/master/docs/tutorial_notebooks/tutorial2/Introduction_to_PyTorch.ipynb)\n",
    "[![Open filled In Collab](https://colab.research.google.com/assets/colab-badge.svg)](https://colab.research.google.com/github/phlippe/uvadlc_notebooks/blob/master/docs/tutorial_notebooks/tutorial2/Introduction_to_PyTorch.ipynb)   \n",
    "**Recordings:** \n",
    "[![YouTube - Part 1](https://img.shields.io/static/v1.svg?logo=youtube&label=YouTube&message=Part%201&color=red)](https://youtu.be/wnKZZgFQY-E)\n",
    "[![YouTube - Part 2](https://img.shields.io/static/v1.svg?logo=youtube&label=YouTube&message=Part%202&color=red)](https://youtu.be/schbjeU5X2g)    \n",
    "**Author:** Phillip Lippe"
   ]
  },
  {
   "cell_type": "markdown",
   "metadata": {},
   "source": [
    "Welcome to our PyTorch tutorial for the Deep Learning course 2021 at the University of Amsterdam! The following notebook is meant to give a short introduction to PyTorch basics, and get you setup for writing your own neural networks. PyTorch is an open source machine learning framework that allows you to write your own neural networks and optimize them efficiently. However, PyTorch is not the only framework of its kind. Alternatives to PyTorch include [TensorFlow](https://www.tensorflow.org/), [JAX](https://github.com/google/jax#quickstart-colab-in-the-cloud) and [Caffe](http://caffe.berkeleyvision.org/). We choose to teach PyTorch at the University of Amsterdam because it is well established, has a huge developer community (originally developed by Facebook), is very flexible and especially used in research. Many current papers publish their code in PyTorch, and thus it is good to be familiar with PyTorch as well. \n",
    "Meanwhile, TensorFlow (developed by Google) is usually known for being a production-grade deep learning library. Still, if you know one machine learning framework in depth, it is very easy to learn another one because many of them use the same concepts and ideas. For instance, TensorFlow's version 2 was heavily inspired by the most popular features of PyTorch, making the frameworks even more similar. \n",
    "If you are already familiar with PyTorch and have created your own neural network projects, feel free to just skim this notebook.\n",
    "\n",
    "We are of course not the first ones to create a PyTorch tutorial. There are many great tutorials online, including the [\"60-min blitz\"](https://pytorch.org/tutorials/beginner/deep_learning_60min_blitz.html) on the official [PyTorch website](https://pytorch.org/tutorials/). Yet, we choose to create our own tutorial which is designed to give you the basics particularly necessary for the practicals, but still understand how PyTorch works under the hood. Over the next few weeks, we will also keep exploring new PyTorch features in the series of Jupyter notebook tutorials about deep learning. \n",
    "\n",
    "We will use a set of standard libraries that are often used in machine learning projects. If you are running this notebook on Google Colab, all libraries should be pre-installed. If you are running this notebook locally, make sure you have installed our `dl2021` environment and have activated it."
   ]
  },
  {
   "cell_type": "code",
   "execution_count": 1,
   "metadata": {},
   "outputs": [],
   "source": [
    "## Standard libraries\n",
    "import os\n",
    "import math\n",
    "import numpy as np \n",
    "import time\n",
    "\n",
    "## Imports for plotting\n",
    "import matplotlib.pyplot as plt\n",
    "%matplotlib inline \n",
    "from IPython.display import set_matplotlib_formats\n",
    "set_matplotlib_formats('svg', 'pdf') # For export\n",
    "from matplotlib.colors import to_rgba\n",
    "import seaborn as sns\n",
    "sns.set()\n",
    "\n",
    "## Progress bar\n",
    "from tqdm.notebook import tqdm"
   ]
  },
  {
   "cell_type": "markdown",
   "metadata": {},
   "source": [
    "## The Basics of PyTorch\n",
    "\n",
    "We will start with reviewing the very basic concepts of PyTorch. As a prerequisite, we recommend to be familiar with the `numpy` package as most machine learning frameworks are based on very similar concepts. If you are not familiar with numpy yet, don't worry: here is a [tutorial](https://numpy.org/devdocs/user/quickstart.html) to go through. \n",
    "\n",
    "So, let's start with importing PyTorch. The package is called `torch`, based on its original framework [Torch](http://torch.ch/). As a first step, we can check its version:"
   ]
  },
  {
   "cell_type": "code",
   "execution_count": 2,
   "metadata": {},
   "outputs": [
    {
     "name": "stdout",
     "output_type": "stream",
     "text": [
      "Using torch 1.10.0\n"
     ]
    }
   ],
   "source": [
    "import torch\n",
    "print(\"Using torch\", torch.__version__)"
   ]
  },
  {
   "cell_type": "markdown",
   "metadata": {},
   "source": [
    "At the time of writing this tutorial (mid of October 2021), the current stable version is 1.10. You should therefore see the output `Using torch 1.10.0` or `Using torch 1.9.0`, eventually with some extension for the CUDA version on Colab. In case you use the `dl2021` environment, you should see `Using torch 1.10.0`. In general, it is recommended to keep the PyTorch version updated to the newest one. If you see a lower version number than 1.9, make sure you have installed the correct environment, or ask one of your TAs. In case PyTorch 1.11 or newer will be published during the time of the course, don't worry. The interface between PyTorch versions doesn't change too much, and hence all code should also be runnable with newer versions.\n",
    "\n",
    "As in every machine learning framework, PyTorch provides functions that are stochastic like generating random numbers. However, a very good practice is to setup your code to be reproducible with the exact same random numbers. This is why we set a seed below. "
   ]
  },
  {
   "cell_type": "code",
   "execution_count": 3,
   "metadata": {},
   "outputs": [
    {
     "data": {
      "text/plain": [
       "<torch._C.Generator at 0x7fad896113d0>"
      ]
     },
     "execution_count": 3,
     "metadata": {},
     "output_type": "execute_result"
    }
   ],
   "source": [
    "torch.manual_seed(42) # Setting the seed"
   ]
  },
  {
   "cell_type": "markdown",
   "metadata": {},
   "source": [
    "### Tensors\n",
    "\n",
    "Tensors are the PyTorch equivalent to Numpy arrays, with the addition to also have support for GPU acceleration (more on that later).\n",
    "The name \"tensor\" is a generalization of concepts you already know. For instance, a vector is a 1-D tensor, and a matrix a 2-D tensor. When working with neural networks, we will use tensors of various shapes and number of dimensions.\n",
    "\n",
    "Most common functions you know from numpy can be used on tensors as well. Actually, since numpy arrays are so similar to tensors, we can convert most tensors to numpy arrays (and back) but we don't need it too often.\n",
    "\n",
    "#### Initialization\n",
    "\n",
    "Let's first start by looking at different ways of creating a tensor. There are many possible options, the simplest one is to call `torch.Tensor` passing the desired shape as input argument:"
   ]
  },
  {
   "cell_type": "code",
   "execution_count": 4,
   "metadata": {},
   "outputs": [
    {
     "name": "stdout",
     "output_type": "stream",
     "text": [
      "tensor([[[-2.0921e+00,  9.9902e-33, -6.8406e-19,  4.5803e-41],\n",
      "         [-6.8419e-19,  4.5803e-41,  1.9552e-04,  4.2477e+15],\n",
      "         [-2.1203e-19,  4.5803e-41, -2.1213e-19,  4.5803e-41]],\n",
      "\n",
      "        [[-5.8784e-05,  2.4339e-24, -2.1203e-19,  4.5803e-41],\n",
      "         [ 1.3498e+14,  3.0680e-41,  9.9128e-23,  3.6741e-28],\n",
      "         [-2.1170e-19,  4.5803e-41, -2.1283e-19,  4.5803e-41]]])\n"
     ]
    }
   ],
   "source": [
    "x = torch.Tensor(2, 3, 4)\n",
    "print(x)"
   ]
  },
  {
   "cell_type": "markdown",
   "metadata": {},
   "source": [
    "The function `torch.Tensor` allocates memory for the desired tensor, but reuses any values that have already been in the memory. To directly assign values to the tensor during initialization, there are many alternatives including:\n",
    "\n",
    "* `torch.zeros`: Creates a tensor filled with zeros\n",
    "* `torch.ones`: Creates a tensor filled with ones\n",
    "* `torch.rand`: Creates a tensor with random values uniformly sampled between 0 and 1\n",
    "* `torch.randn`: Creates a tensor with random values sampled from a normal distribution with mean 0 and variance 1\n",
    "* `torch.arange`: Creates a tensor containing the values $N,N+1,N+2,...,M$\n",
    "* `torch.Tensor` (input list): Creates a tensor from the list elements you provide"
   ]
  },
  {
   "cell_type": "code",
   "execution_count": 5,
   "metadata": {},
   "outputs": [
    {
     "name": "stdout",
     "output_type": "stream",
     "text": [
      "tensor([[1., 2.],\n",
      "        [3., 4.]])\n"
     ]
    }
   ],
   "source": [
    "# Create a tensor from a (nested) list\n",
    "x = torch.Tensor([[1, 2], [3, 4]])\n",
    "print(x)"
   ]
  },
  {
   "cell_type": "code",
   "execution_count": 6,
   "metadata": {},
   "outputs": [
    {
     "name": "stdout",
     "output_type": "stream",
     "text": [
      "tensor([[[0.8823, 0.9150, 0.3829, 0.9593],\n",
      "         [0.3904, 0.6009, 0.2566, 0.7936],\n",
      "         [0.9408, 0.1332, 0.9346, 0.5936]],\n",
      "\n",
      "        [[0.8694, 0.5677, 0.7411, 0.4294],\n",
      "         [0.8854, 0.5739, 0.2666, 0.6274],\n",
      "         [0.2696, 0.4414, 0.2969, 0.8317]]])\n"
     ]
    }
   ],
   "source": [
    "# Create a tensor with random values between 0 and 1 with the shape [2, 3, 4]\n",
    "x = torch.rand(2, 3, 4)\n",
    "print(x)"
   ]
  },
  {
   "cell_type": "markdown",
   "metadata": {},
   "source": [
    "You can obtain the shape of a tensor in the same way as in numpy (`x.shape`), or using the `.size` method:"
   ]
  },
  {
   "cell_type": "code",
   "execution_count": 7,
   "metadata": {},
   "outputs": [
    {
     "name": "stdout",
     "output_type": "stream",
     "text": [
      "Shape: torch.Size([2, 3, 4])\n",
      "Size: torch.Size([2, 3, 4])\n",
      "Size: 2 3 4\n"
     ]
    }
   ],
   "source": [
    "shape = x.shape\n",
    "print(\"Shape:\", x.shape)\n",
    "\n",
    "size = x.size()\n",
    "print(\"Size:\", size)\n",
    "\n",
    "dim1, dim2, dim3 = x.size()\n",
    "print(\"Size:\", dim1, dim2, dim3)"
   ]
  },
  {
   "cell_type": "markdown",
   "metadata": {},
   "source": [
    "#### Tensor to Numpy, and Numpy to Tensor\n",
    "\n",
    "Tensors can be converted to numpy arrays, and numpy arrays back to tensors. To transform a numpy array into a tensor, we can use the function `torch.from_numpy`:"
   ]
  },
  {
   "cell_type": "code",
   "execution_count": 8,
   "metadata": {},
   "outputs": [
    {
     "name": "stdout",
     "output_type": "stream",
     "text": [
      "Numpy array: [[1 2]\n",
      " [3 4]]\n",
      "PyTorch tensor: tensor([[1, 2],\n",
      "        [3, 4]])\n"
     ]
    }
   ],
   "source": [
    "np_arr = np.array([[1, 2], [3, 4]])\n",
    "tensor = torch.from_numpy(np_arr)\n",
    "\n",
    "print(\"Numpy array:\", np_arr)\n",
    "print(\"PyTorch tensor:\", tensor)"
   ]
  },
  {
   "cell_type": "markdown",
   "metadata": {},
   "source": [
    "To transform a PyTorch tensor back to a numpy array, we can use the function `.numpy()` on tensors:"
   ]
  },
  {
   "cell_type": "code",
   "execution_count": 9,
   "metadata": {},
   "outputs": [
    {
     "name": "stdout",
     "output_type": "stream",
     "text": [
      "PyTorch tensor: tensor([0, 1, 2, 3])\n",
      "Numpy array: [0 1 2 3]\n"
     ]
    }
   ],
   "source": [
    "tensor = torch.arange(4)\n",
    "np_arr = tensor.numpy()\n",
    "\n",
    "print(\"PyTorch tensor:\", tensor)\n",
    "print(\"Numpy array:\", np_arr)"
   ]
  },
  {
   "cell_type": "markdown",
   "metadata": {},
   "source": [
    "The conversion of tensors to numpy require the tensor to be on the CPU, and not the GPU (more on GPU support in a later section). In case you have a tensor on GPU, you need to call `.cpu()` on the tensor beforehand. Hence, you get a line like `np_arr = tensor.cpu().numpy()`."
   ]
  },
  {
   "cell_type": "markdown",
   "metadata": {},
   "source": [
    "#### Operations\n",
    "\n",
    "Most operations that exist in numpy, also exist in PyTorch. A full list of operations can be found in the [PyTorch documentation](https://pytorch.org/docs/stable/tensors.html#), but we will review the most important ones here.\n",
    "\n",
    "The simplest operation is to add two tensors:"
   ]
  },
  {
   "cell_type": "code",
   "execution_count": 10,
   "metadata": {},
   "outputs": [
    {
     "name": "stdout",
     "output_type": "stream",
     "text": [
      "X1 tensor([[0.1053, 0.2695, 0.3588],\n",
      "        [0.1994, 0.5472, 0.0062]])\n",
      "X2 tensor([[0.9516, 0.0753, 0.8860],\n",
      "        [0.5832, 0.3376, 0.8090]])\n",
      "Y tensor([[1.0569, 0.3448, 1.2448],\n",
      "        [0.7826, 0.8848, 0.8151]])\n"
     ]
    }
   ],
   "source": [
    "x1 = torch.rand(2, 3)\n",
    "x2 = torch.rand(2, 3)\n",
    "y = x1 + x2\n",
    "\n",
    "print(\"X1\", x1)\n",
    "print(\"X2\", x2)\n",
    "print(\"Y\", y)"
   ]
  },
  {
   "cell_type": "markdown",
   "metadata": {},
   "source": [
    "Calling `x1 + x2` creates a new tensor containing the sum of the two inputs. However, we can also use in-place operations that are applied directly on the memory of a tensor. We therefore change the values of `x2` without the chance to re-accessing the values of `x2` before the operation. An example is shown below:"
   ]
  },
  {
   "cell_type": "code",
   "execution_count": 11,
   "metadata": {},
   "outputs": [
    {
     "name": "stdout",
     "output_type": "stream",
     "text": [
      "X1 (before) tensor([[0.5779, 0.9040, 0.5547],\n",
      "        [0.3423, 0.6343, 0.3644]])\n",
      "X2 (before) tensor([[0.7104, 0.9464, 0.7890],\n",
      "        [0.2814, 0.7886, 0.5895]])\n",
      "X1 (after) tensor([[0.5779, 0.9040, 0.5547],\n",
      "        [0.3423, 0.6343, 0.3644]])\n",
      "X2 (after) tensor([[1.2884, 1.8504, 1.3437],\n",
      "        [0.6237, 1.4230, 0.9539]])\n"
     ]
    }
   ],
   "source": [
    "x1 = torch.rand(2, 3)\n",
    "x2 = torch.rand(2, 3)\n",
    "print(\"X1 (before)\", x1)\n",
    "print(\"X2 (before)\", x2)\n",
    "\n",
    "x2.add_(x1)\n",
    "print(\"X1 (after)\", x1)\n",
    "print(\"X2 (after)\", x2)"
   ]
  },
  {
   "cell_type": "markdown",
   "metadata": {},
   "source": [
    "In-place operations are usually marked with a underscore postfix (e.g. \"add_\" instead of \"add\").\n",
    "\n",
    "Another common operation aims at changing the shape of a tensor. A tensor of size (2,3) can be re-organized to any other shape with the same number of elements (e.g. a tensor of size (6), or (3,2), ...). In PyTorch, this operation is called `view`:"
   ]
  },
  {
   "cell_type": "code",
   "execution_count": 12,
   "metadata": {},
   "outputs": [
    {
     "name": "stdout",
     "output_type": "stream",
     "text": [
      "X tensor([0, 1, 2, 3, 4, 5])\n"
     ]
    }
   ],
   "source": [
    "x = torch.arange(6)\n",
    "print(\"X\", x)"
   ]
  },
  {
   "cell_type": "code",
   "execution_count": 13,
   "metadata": {},
   "outputs": [
    {
     "name": "stdout",
     "output_type": "stream",
     "text": [
      "X tensor([[0, 1, 2],\n",
      "        [3, 4, 5]])\n"
     ]
    }
   ],
   "source": [
    "x = x.view(2, 3)\n",
    "print(\"X\", x)"
   ]
  },
  {
   "cell_type": "code",
   "execution_count": 14,
   "metadata": {},
   "outputs": [
    {
     "name": "stdout",
     "output_type": "stream",
     "text": [
      "X tensor([[0, 3],\n",
      "        [1, 4],\n",
      "        [2, 5]])\n"
     ]
    }
   ],
   "source": [
    "x = x.permute(1, 0) # Swapping dimension 0 and 1\n",
    "print(\"X\", x)"
   ]
  },
  {
   "cell_type": "markdown",
   "metadata": {},
   "source": [
    "Other commonly used operations include matrix multiplications, which are essential for neural networks. Quite often, we have an input vector $\\mathbf{x}$, which is transformed using a learned weight matrix $\\mathbf{W}$. There are multiple ways and functions to perform matrix multiplication, some of which we list below:\n",
    "\n",
    "* `torch.matmul`: Performs the matrix product over two tensors, where the specific behavior depends on the dimensions. If both inputs are matrices (2-dimensional tensors), it performs the standard matrix product. For higher dimensional inputs, the function supports broadcasting (for details see the [documentation](https://pytorch.org/docs/stable/generated/torch.matmul.html?highlight=matmul#torch.matmul)). Can also be written as `a @ b`, similar to numpy. \n",
    "* `torch.mm`: Performs the matrix product over two matrices, but doesn't support broadcasting (see [documentation](https://pytorch.org/docs/stable/generated/torch.mm.html?highlight=torch%20mm#torch.mm))\n",
    "* `torch.bmm`: Performs the matrix product with a support batch dimension. If the first tensor $T$ is of shape ($b\\times n\\times m$), and the second tensor $R$ ($b\\times m\\times p$), the output $O$ is of shape ($b\\times n\\times p$), and has been calculated by performing $b$ matrix multiplications of the submatrices of $T$ and $R$: $O_i = T_i @ R_i$\n",
    "* `torch.einsum`: Performs matrix multiplications and more (i.e. sums of products) using the Einstein summation convention. Explanation of the Einstein sum can be found in assignment 1.\n",
    "\n",
    "Usually, we use `torch.matmul` or `torch.bmm`. We can try a matrix multiplication with `torch.matmul` below."
   ]
  },
  {
   "cell_type": "code",
   "execution_count": 15,
   "metadata": {},
   "outputs": [
    {
     "name": "stdout",
     "output_type": "stream",
     "text": [
      "X tensor([[0, 1, 2],\n",
      "        [3, 4, 5]])\n"
     ]
    }
   ],
   "source": [
    "x = torch.arange(6)\n",
    "x = x.view(2, 3)\n",
    "print(\"X\", x)"
   ]
  },
  {
   "cell_type": "code",
   "execution_count": 16,
   "metadata": {},
   "outputs": [
    {
     "name": "stdout",
     "output_type": "stream",
     "text": [
      "W tensor([[0, 1, 2],\n",
      "        [3, 4, 5],\n",
      "        [6, 7, 8]])\n"
     ]
    }
   ],
   "source": [
    "W = torch.arange(9).view(3, 3) # We can also stack multiple operations in a single line\n",
    "print(\"W\", W)"
   ]
  },
  {
   "cell_type": "code",
   "execution_count": 17,
   "metadata": {},
   "outputs": [
    {
     "name": "stdout",
     "output_type": "stream",
     "text": [
      "h tensor([[15, 18, 21],\n",
      "        [42, 54, 66]])\n"
     ]
    }
   ],
   "source": [
    "h = torch.matmul(x, W) # Verify the result by calculating it by hand too!\n",
    "print(\"h\", h)"
   ]
  },
  {
   "cell_type": "markdown",
   "metadata": {},
   "source": [
    "#### Indexing\n",
    "\n",
    "We often have the situation where we need to select a part of a tensor. Indexing works just like in numpy, so let's try it:"
   ]
  },
  {
   "cell_type": "code",
   "execution_count": 18,
   "metadata": {},
   "outputs": [
    {
     "name": "stdout",
     "output_type": "stream",
     "text": [
      "X tensor([[ 0,  1,  2,  3],\n",
      "        [ 4,  5,  6,  7],\n",
      "        [ 8,  9, 10, 11]])\n"
     ]
    }
   ],
   "source": [
    "x = torch.arange(12).view(3, 4)\n",
    "print(\"X\", x)"
   ]
  },
  {
   "cell_type": "code",
   "execution_count": 19,
   "metadata": {},
   "outputs": [
    {
     "name": "stdout",
     "output_type": "stream",
     "text": [
      "tensor([1, 5, 9])\n"
     ]
    }
   ],
   "source": [
    "print(x[:, 1])   # Second column"
   ]
  },
  {
   "cell_type": "code",
   "execution_count": 20,
   "metadata": {},
   "outputs": [
    {
     "name": "stdout",
     "output_type": "stream",
     "text": [
      "tensor([0, 1, 2, 3])\n"
     ]
    }
   ],
   "source": [
    "print(x[0])      # First row"
   ]
  },
  {
   "cell_type": "code",
   "execution_count": 21,
   "metadata": {},
   "outputs": [
    {
     "name": "stdout",
     "output_type": "stream",
     "text": [
      "tensor([3, 7])\n"
     ]
    }
   ],
   "source": [
    "print(x[:2, -1]) # First two rows, last column"
   ]
  },
  {
   "cell_type": "code",
   "execution_count": 22,
   "metadata": {},
   "outputs": [
    {
     "name": "stdout",
     "output_type": "stream",
     "text": [
      "tensor([[ 4,  5,  6,  7],\n",
      "        [ 8,  9, 10, 11]])\n"
     ]
    }
   ],
   "source": [
    "print(x[1:3, :]) # Middle two rows"
   ]
  },
  {
   "cell_type": "markdown",
   "metadata": {},
   "source": [
    "### Dynamic Computation Graph and Backpropagation\n",
    "\n",
    "One of the main reasons for using PyTorch in Deep Learning projects is that we can automatically get **gradients/derivatives** of functions that we define. We will mainly use PyTorch for implementing neural networks, and they are just fancy functions. If we use weight matrices in our function that we want to learn, then those are called the **parameters** or simply the **weights**.\n",
    "\n",
    "If our neural network would output a single scalar value, we would talk about taking the **derivative**, but you will see that quite often we will have **multiple** output variables (\"values\"); in that case we talk about **gradients**. It's a more general term.\n",
    "\n",
    "Given an input $\\mathbf{x}$, we define our function by **manipulating** that input, usually by matrix-multiplications with weight matrices and additions with so-called bias vectors. As we manipulate our input, we are automatically creating a **computational graph**. This graph shows how to arrive at our output from our input. \n",
    "PyTorch is a **define-by-run** framework; this means that we can just do our manipulations, and PyTorch will keep track of that graph for us. Thus, we create a dynamic computation graph along the way.\n",
    "\n",
    "So, to recap: the only thing we have to do is to compute the **output**, and then we can ask PyTorch to automatically get the **gradients**. \n",
    "\n",
    "> **Note:  Why do we want gradients?** Consider that we have defined a function, a neural net, that is supposed to compute a certain output $y$ for an input vector $\\mathbf{x}$. We then define an **error measure** that tells us how wrong our network is; how bad it is in predicting output $y$ from input $\\mathbf{x}$. Based on this error measure, we can use the gradients to **update** the weights $\\mathbf{W}$ that were responsible for the output, so that the next time we present input $\\mathbf{x}$ to our network, the output will be closer to what we want.\n",
    "\n",
    "The first thing we have to do is to specify which tensors require gradients. By default, when we create a tensor, it does not require gradients."
   ]
  },
  {
   "cell_type": "code",
   "execution_count": 23,
   "metadata": {},
   "outputs": [
    {
     "name": "stdout",
     "output_type": "stream",
     "text": [
      "False\n"
     ]
    }
   ],
   "source": [
    "x = torch.ones((3,))\n",
    "print(x.requires_grad)"
   ]
  },
  {
   "cell_type": "markdown",
   "metadata": {},
   "source": [
    "We can change this for an existing tensor using the function `requires_grad_()` (underscore indicating that this is a in-place operation). Alternatively, when creating a tensor, you can pass the argument `requires_grad=True` to most initializers we have seen above."
   ]
  },
  {
   "cell_type": "code",
   "execution_count": 24,
   "metadata": {},
   "outputs": [
    {
     "name": "stdout",
     "output_type": "stream",
     "text": [
      "True\n"
     ]
    }
   ],
   "source": [
    "x.requires_grad_(True)\n",
    "print(x.requires_grad)"
   ]
  },
  {
   "cell_type": "markdown",
   "metadata": {},
   "source": [
    "In order to get familiar with the concept of a computation graph, we will create one for the following function:\n",
    "\n",
    "$$y = \\frac{1}{|x|}\\sum_i \\left[(x_i + 2)^2 + 3\\right]$$\n",
    "\n",
    "You could imagine that $x$ are our parameters, and we want to optimize (either maximize or minimize) the output $y$. For this, we want to obtain the gradients $\\partial y / \\partial \\mathbf{x}$. For our example, we'll use $\\mathbf{x}=[0,1,2]$ as our input."
   ]
  },
  {
   "cell_type": "code",
   "execution_count": 25,
   "metadata": {},
   "outputs": [
    {
     "name": "stdout",
     "output_type": "stream",
     "text": [
      "X tensor([0., 1., 2.], requires_grad=True)\n"
     ]
    }
   ],
   "source": [
    "x = torch.arange(3, dtype=torch.float32, requires_grad=True) # Only float tensors can have gradients\n",
    "print(\"X\", x)"
   ]
  },
  {
   "cell_type": "markdown",
   "metadata": {},
   "source": [
    "Now let's build the computation graph step by step. You can combine multiple operations in a single line, but we will separate them here to get a better understanding of how each operation is added to the computation graph."
   ]
  },
  {
   "cell_type": "code",
   "execution_count": 26,
   "metadata": {},
   "outputs": [
    {
     "name": "stdout",
     "output_type": "stream",
     "text": [
      "Y tensor(12.6667, grad_fn=<MeanBackward0>)\n"
     ]
    }
   ],
   "source": [
    "a = x + 2\n",
    "b = a ** 2\n",
    "c = b + 3\n",
    "y = c.mean()\n",
    "print(\"Y\", y)"
   ]
  },
  {
   "cell_type": "markdown",
   "metadata": {},
   "source": [
    "Using the statements above, we have created a computation graph that looks similar to the figure below:\n",
    "\n",
    "<center style=\"width: 100%\"><img src=\"pytorch_computation_graph.svg\" width=\"200px\"></center>\n",
    "\n",
    "We calculate $a$ based on the inputs $x$ and the constant $2$, $b$ is $a$ squared, and so on. The visualization is an abstraction of the dependencies between inputs and outputs of the operations we have applied.\n",
    "Each node of the computation graph has automatically defined a function for calculating the gradients with respect to its inputs, `grad_fn`. You can see this when we printed the output tensor $y$. This is why the computation graph is usually visualized in the reverse direction (arrows point from the result to the inputs). We can perform backpropagation on the computation graph by calling the function `backward()` on the last output, which effectively calculates the gradients for each tensor that has the property `requires_grad=True`:"
   ]
  },
  {
   "cell_type": "code",
   "execution_count": 27,
   "metadata": {},
   "outputs": [],
   "source": [
    "y.backward()"
   ]
  },
  {
   "cell_type": "markdown",
   "metadata": {},
   "source": [
    "`x.grad` will now contain the gradient $\\partial y/ \\partial \\mathcal{x}$, and this gradient indicates how a change in $\\mathbf{x}$ will affect output $y$ given the current input $\\mathbf{x}=[0,1,2]$:"
   ]
  },
  {
   "cell_type": "code",
   "execution_count": 28,
   "metadata": {},
   "outputs": [
    {
     "name": "stdout",
     "output_type": "stream",
     "text": [
      "tensor([1.3333, 2.0000, 2.6667])\n"
     ]
    }
   ],
   "source": [
    "print(x.grad)"
   ]
  },
  {
   "cell_type": "markdown",
   "metadata": {},
   "source": [
    "We can also verify these gradients by hand. We will calculate the gradients using the chain rule, in the same way as PyTorch did it:\n",
    "\n",
    "$$\\frac{\\partial y}{\\partial x_i} = \\frac{\\partial y}{\\partial c_i}\\frac{\\partial c_i}{\\partial b_i}\\frac{\\partial b_i}{\\partial a_i}\\frac{\\partial a_i}{\\partial x_i}$$\n",
    "\n",
    "Note that we have simplified this equation to index notation, and by using the fact that all operation besides the mean do not combine the elements in the tensor. The partial derivatives are:\n",
    "\n",
    "$$\n",
    "\\frac{\\partial a_i}{\\partial x_i} = 1,\\hspace{1cm}\n",
    "\\frac{\\partial b_i}{\\partial a_i} = 2\\cdot a_i\\hspace{1cm}\n",
    "\\frac{\\partial c_i}{\\partial b_i} = 1\\hspace{1cm}\n",
    "\\frac{\\partial y}{\\partial c_i} = \\frac{1}{3}\n",
    "$$\n",
    "\n",
    "Hence, with the input being $\\mathbf{x}=[0,1,2]$, our gradients are $\\partial y/\\partial \\mathbf{x}=[4/3,2,8/3]$. The previous code cell should have printed the same result."
   ]
  },
  {
   "cell_type": "markdown",
   "metadata": {},
   "source": [
    "### GPU support\n",
    "\n",
    "A crucial feature of PyTorch is the support of GPUs, short for Graphics Processing Unit. A GPU can perform many thousands of small operations in parallel, making it very well suitable for performing large matrix operations in neural networks. When comparing GPUs to CPUs, we can list the following main differences (credit: [Kevin Krewell, 2009](https://blogs.nvidia.com/blog/2009/12/16/whats-the-difference-between-a-cpu-and-a-gpu/)) \n",
    "\n",
    "<center style=\"width: 100%\"><img src=\"comparison_CPU_GPU.png\" width=\"700px\"></center>\n",
    "\n",
    "CPUs and GPUs have both different advantages and disadvantages, which is why many computers contain both components and use them for different tasks. In case you are not familiar with GPUs, you can read up more details in this [NVIDIA blog post](https://blogs.nvidia.com/blog/2009/12/16/whats-the-difference-between-a-cpu-and-a-gpu/) or [here](https://www.intel.com/content/www/us/en/products/docs/processors/what-is-a-gpu.html). \n",
    "\n",
    "GPUs can accelerate the training of your network up to a factor of $100$ which is essential for large neural networks. PyTorch implements a lot of functionality for supporting GPUs (mostly those of NVIDIA due to the libraries [CUDA](https://developer.nvidia.com/cuda-zone) and [cuDNN](https://developer.nvidia.com/cudnn)). First, let's check whether you have a GPU available:"
   ]
  },
  {
   "cell_type": "code",
   "execution_count": 29,
   "metadata": {},
   "outputs": [
    {
     "name": "stdout",
     "output_type": "stream",
     "text": [
      "Is the GPU available? True\n"
     ]
    }
   ],
   "source": [
    "gpu_avail = torch.cuda.is_available()\n",
    "print(f\"Is the GPU available? {gpu_avail}\")"
   ]
  },
  {
   "cell_type": "markdown",
   "metadata": {},
   "source": [
    "If you have a GPU on your computer but the command above returns False, make sure you have the correct CUDA-version installed. The `dl2021` environment comes with the CUDA-toolkit 11.3, which is selected for the Lisa supercomputer. Please change it if necessary (CUDA 11.1 is currently common on Colab). On Google Colab, make sure that you have selected a GPU in your runtime setup (in the menu, check under `Runtime -> Change runtime type`). \n",
    "\n",
    "By default, all tensors you create are stored on the CPU. We can push a tensor to the GPU by using the function `.to(...)`, or `.cuda()`. However, it is often a good practice to define a `device` object in your code which points to the GPU if you have one, and otherwise to the CPU. Then, you can write your code with respect to this device object, and it allows you to run the same code on both a CPU-only system, and one with a GPU. Let's try it below. We can specify the device as follows: "
   ]
  },
  {
   "cell_type": "code",
   "execution_count": 30,
   "metadata": {},
   "outputs": [
    {
     "name": "stdout",
     "output_type": "stream",
     "text": [
      "Device cuda\n"
     ]
    }
   ],
   "source": [
    "device = torch.device(\"cuda\") if torch.cuda.is_available() else torch.device(\"cpu\")\n",
    "print(\"Device\", device)"
   ]
  },
  {
   "cell_type": "markdown",
   "metadata": {},
   "source": [
    "Now let's create a tensor and push it to the device:"
   ]
  },
  {
   "cell_type": "code",
   "execution_count": 31,
   "metadata": {},
   "outputs": [
    {
     "name": "stdout",
     "output_type": "stream",
     "text": [
      "X tensor([[0., 0., 0.],\n",
      "        [0., 0., 0.]], device='cuda:0')\n"
     ]
    }
   ],
   "source": [
    "x = torch.zeros(2, 3)\n",
    "x = x.to(device)\n",
    "print(\"X\", x)"
   ]
  },
  {
   "cell_type": "markdown",
   "metadata": {},
   "source": [
    "In case you have a GPU, you should now see the attribute `device='cuda:0'` being printed next to your tensor. The zero next to cuda indicates that this is the zero-th GPU device on your computer. PyTorch also supports multi-GPU systems, but this you will only need once you have very big networks to train (if interested, see the [PyTorch documentation](https://pytorch.org/docs/stable/distributed.html#distributed-basics)). We can also compare the runtime of a large matrix multiplication on the CPU with a operation on the GPU:"
   ]
  },
  {
   "cell_type": "code",
   "execution_count": 32,
   "metadata": {},
   "outputs": [
    {
     "name": "stdout",
     "output_type": "stream",
     "text": [
      "CPU time: 0.20055s\n",
      "GPU time: 0.00760s\n"
     ]
    }
   ],
   "source": [
    "x = torch.randn(5000, 5000)\n",
    "\n",
    "## CPU version\n",
    "start_time = time.time()\n",
    "_ = torch.matmul(x, x)\n",
    "end_time = time.time()\n",
    "print(f\"CPU time: {(end_time - start_time):6.5f}s\")\n",
    "\n",
    "## GPU version\n",
    "x = x.to(device)\n",
    "# CUDA is asynchronous, so we need to use different timing functions\n",
    "start = torch.cuda.Event(enable_timing=True)\n",
    "end = torch.cuda.Event(enable_timing=True)\n",
    "start.record()\n",
    "_ = torch.matmul(x, x)\n",
    "end.record()\n",
    "torch.cuda.synchronize()  # Waits for everything to finish running on the GPU\n",
    "print(f\"GPU time: {0.001 * start.elapsed_time(end):6.5f}s\")  # Milliseconds to seconds"
   ]
  },
  {
   "cell_type": "markdown",
   "metadata": {},
   "source": [
    "Depending on the size of the operation and the CPU/GPU in your system, the speedup of this operation can be >50x. As `matmul` operations are very common in neural networks, we can already see the great benefit of training a NN on a GPU. The time estimate can be relatively noisy here because we haven't run it for multiple times. Feel free to extend this, but it also takes longer to run.\n",
    "\n",
    "When generating random numbers, the seed between CPU and GPU is not synchronized. Hence, we need to set the seed on the GPU separately to ensure a reproducible code. Note that due to different GPU architectures, running the same code on different GPUs does not guarantee the same random numbers. Still, we don't want that our code gives us a different output every time we run it on the exact same hardware. Hence, we also set the seed on the GPU:"
   ]
  },
  {
   "cell_type": "code",
   "execution_count": 33,
   "metadata": {},
   "outputs": [],
   "source": [
    "# GPU operations have a separate seed we also want to set\n",
    "if torch.cuda.is_available(): \n",
    "    torch.cuda.manual_seed(42)\n",
    "    torch.cuda.manual_seed_all(42)\n",
    "    \n",
    "# Additionally, some operations on a GPU are implemented stochastic for efficiency\n",
    "# We want to ensure that all operations are deterministic on GPU (if used) for reproducibility\n",
    "torch.backends.cudnn.deterministic = True\n",
    "torch.backends.cudnn.benchmark = False"
   ]
  },
  {
   "cell_type": "markdown",
   "metadata": {},
   "source": [
    "## Learning by example: Continuous XOR\n",
    "\n",
    "If we want to build a neural network in PyTorch, we could specify all our parameters (weight matrices, bias vectors) using `Tensors` (with `requires_grad=True`), ask PyTorch to calculate the gradients and then adjust the parameters. But things can quickly get cumbersome if we have a lot of parameters. In PyTorch, there is a package called `torch.nn` that makes building neural networks more convenient. \n",
    "\n",
    "We will introduce the libraries and all additional parts you might need to train a neural network in PyTorch, using a simple example classifier on a simple yet well known example: XOR. Given two binary inputs $x_1$ and $x_2$, the label to predict is $1$ if either $x_1$ or $x_2$ is $1$ while the other is $0$, or the label is $0$ in all other cases. The example became famous by the fact that a single neuron, i.e. a linear classifier, cannot learn this simple function.\n",
    "Hence, we will learn how to build a small neural network that can learn this function. \n",
    "To make it a little bit more interesting, we move the XOR into continuous space and introduce some gaussian noise on the binary inputs. Our desired separation of an XOR dataset could look as follows:\n",
    "\n",
    "<center style=\"width: 100%\"><img src=\"continuous_xor.svg\" width=\"350px\"></center>"
   ]
  },
  {
   "cell_type": "markdown",
   "metadata": {},
   "source": [
    "### The model\n",
    "\n",
    "The package `torch.nn` defines a series of useful classes like linear networks layers, activation functions, loss functions etc. A full list can be found [here](https://pytorch.org/docs/stable/nn.html). In case you need a certain network layer, check the documentation of the package first before writing the layer yourself as the package likely contains the code for it already. We import it below:"
   ]
  },
  {
   "cell_type": "code",
   "execution_count": 34,
   "metadata": {},
   "outputs": [],
   "source": [
    "import torch.nn as nn"
   ]
  },
  {
   "cell_type": "markdown",
   "metadata": {},
   "source": [
    "Additionally to `torch.nn`, there is also `torch.nn.functional`. It contains functions that are used in network layers. This is in contrast to `torch.nn` which defines them as `nn.Modules` (more on it below), and `torch.nn` actually uses a lot of functionalities from `torch.nn.functional`. Hence, the functional package is useful in many situations, and so we import it as well here."
   ]
  },
  {
   "cell_type": "code",
   "execution_count": 35,
   "metadata": {},
   "outputs": [],
   "source": [
    "import torch.nn.functional as F"
   ]
  },
  {
   "cell_type": "markdown",
   "metadata": {},
   "source": [
    "#### nn.Module\n",
    "\n",
    "In PyTorch, a neural network is built up out of modules. Modules can contain other modules, and a neural network is considered to be a module itself as well. The basic template of a module is as follows:"
   ]
  },
  {
   "cell_type": "code",
   "execution_count": 36,
   "metadata": {},
   "outputs": [],
   "source": [
    "class MyModule(nn.Module):\n",
    "    \n",
    "    def __init__(self):\n",
    "        super().__init__()\n",
    "        # Some init for my module\n",
    "        \n",
    "    def forward(self, x):\n",
    "        # Function for performing the calculation of the module.\n",
    "        pass"
   ]
  },
  {
   "cell_type": "markdown",
   "metadata": {},
   "source": [
    "The forward function is where the computation of the module is taken place, and is executed when you call the module (`nn = MyModule(); nn(x)`). In the init function, we usually create the parameters of the module, using `nn.Parameter`, or defining other modules that are used in the forward function. The backward calculation is done automatically, but could be overwritten as well if wanted.\n",
    "\n",
    "#### Simple classifier\n",
    "We can now make use of the pre-defined modules in the `torch.nn` package, and define our own small neural network. We will use a minimal network with a input layer, one hidden layer with tanh as activation function, and a output layer. In other words, our networks should look something like this:\n",
    "\n",
    "<center width=\"100%\"><img src=\"small_neural_network.svg\" width=\"300px\"></center>\n",
    "\n",
    "The input neurons are shown in blue, which represent the coordinates $x_1$ and $x_2$ of a data point. The hidden neurons including a tanh activation are shown in white, and the output neuron in red.\n",
    "In PyTorch, we can define this as follows:"
   ]
  },
  {
   "cell_type": "code",
   "execution_count": 37,
   "metadata": {},
   "outputs": [],
   "source": [
    "class SimpleClassifier(nn.Module):\n",
    "\n",
    "    def __init__(self, num_inputs, num_hidden, num_outputs):\n",
    "        super().__init__()\n",
    "        # Initialize the modules we need to build the network\n",
    "        self.linear1 = nn.Linear(num_inputs, num_hidden)\n",
    "        self.act_fn = nn.Tanh()\n",
    "        self.linear2 = nn.Linear(num_hidden, num_outputs)\n",
    "\n",
    "    def forward(self, x):\n",
    "        # Perform the calculation of the model to determine the prediction\n",
    "        x = self.linear1(x)\n",
    "        x = self.act_fn(x)\n",
    "        x = self.linear2(x)\n",
    "        return x"
   ]
  },
  {
   "cell_type": "markdown",
   "metadata": {},
   "source": [
    "For the examples in this notebook, we will use a tiny neural network with two input neurons and four hidden neurons. As we perform binary classification, we will use a single output neuron. Note that we do not apply a sigmoid on the output yet. This is because other functions, especially the loss, are more efficient and precise to calculate on the original outputs instead of the sigmoid output. We will discuss the detailed reason later."
   ]
  },
  {
   "cell_type": "code",
   "execution_count": 38,
   "metadata": {},
   "outputs": [
    {
     "name": "stdout",
     "output_type": "stream",
     "text": [
      "SimpleClassifier(\n",
      "  (linear1): Linear(in_features=2, out_features=4, bias=True)\n",
      "  (act_fn): Tanh()\n",
      "  (linear2): Linear(in_features=4, out_features=1, bias=True)\n",
      ")\n"
     ]
    }
   ],
   "source": [
    "model = SimpleClassifier(num_inputs=2, num_hidden=4, num_outputs=1)\n",
    "# Printing a module shows all its submodules\n",
    "print(model)"
   ]
  },
  {
   "cell_type": "markdown",
   "metadata": {},
   "source": [
    "Printing the model lists all submodules it contains. The parameters of a module can be obtained by using its `parameters()` functions, or `named_parameters()` to get a name to each parameter object. For our small neural network, we have the following parameters:"
   ]
  },
  {
   "cell_type": "code",
   "execution_count": 39,
   "metadata": {},
   "outputs": [
    {
     "name": "stdout",
     "output_type": "stream",
     "text": [
      "Parameter linear1.weight, shape torch.Size([4, 2])\n",
      "Parameter linear1.bias, shape torch.Size([4])\n",
      "Parameter linear2.weight, shape torch.Size([1, 4])\n",
      "Parameter linear2.bias, shape torch.Size([1])\n"
     ]
    }
   ],
   "source": [
    "for name, param in model.named_parameters():\n",
    "    print(f\"Parameter {name}, shape {param.shape}\")"
   ]
  },
  {
   "cell_type": "markdown",
   "metadata": {},
   "source": [
    "Each linear layer has a weight matrix of the shape `[output, input]`, and a bias of the shape `[output]`. The tanh activation function does not have any parameters. Note that parameters are only registered for `nn.Module` objects that are direct object attributes, i.e. `self.a = ...`. If you define a list of modules, the parameters of those are not registered for the outer module and can cause some issues when you try to optimize your module. There are alternatives, like `nn.ModuleList`, `nn.ModuleDict` and `nn.Sequential`, that allow you to have different data structures of modules. We will use them in a few later tutorials and explain them there. "
   ]
  },
  {
   "cell_type": "markdown",
   "metadata": {},
   "source": [
    "### The data\n",
    "\n",
    "PyTorch also provides a few functionalities to load the training and test data efficiently, summarized in the package `torch.utils.data`."
   ]
  },
  {
   "cell_type": "code",
   "execution_count": 40,
   "metadata": {},
   "outputs": [],
   "source": [
    "import torch.utils.data as data"
   ]
  },
  {
   "cell_type": "markdown",
   "metadata": {},
   "source": [
    "The data package defines two classes which are the standard interface for handling data in PyTorch: `data.Dataset`, and `data.DataLoader`. The dataset class provides an uniform interface to access the training/test data, while the data loader makes sure to efficiently load and stack the data points from the dataset into batches during training."
   ]
  },
  {
   "cell_type": "markdown",
   "metadata": {},
   "source": [
    "#### The dataset class\n",
    "\n",
    "The dataset class summarizes the basic functionality of a dataset in a natural way. To define a dataset in PyTorch, we simply specify two functions: `__getitem__`, and `__len__`. The get-item function has to return the $i$-th data point in the dataset, while the len function returns the size of the dataset. For the XOR dataset, we can define the dataset class as follows:"
   ]
  },
  {
   "cell_type": "code",
   "execution_count": 41,
   "metadata": {},
   "outputs": [],
   "source": [
    "class XORDataset(data.Dataset):\n",
    "\n",
    "    def __init__(self, size, std=0.1):\n",
    "        \"\"\"\n",
    "        Inputs:\n",
    "            size - Number of data points we want to generate\n",
    "            std - Standard deviation of the noise (see generate_continuous_xor function)\n",
    "        \"\"\"\n",
    "        super().__init__()\n",
    "        self.size = size\n",
    "        self.std = std\n",
    "        self.generate_continuous_xor()\n",
    "\n",
    "    def generate_continuous_xor(self):\n",
    "        # Each data point in the XOR dataset has two variables, x and y, that can be either 0 or 1\n",
    "        # The label is their XOR combination, i.e. 1 if only x or only y is 1 while the other is 0.\n",
    "        # If x=y, the label is 0.\n",
    "        data = torch.randint(low=0, high=2, size=(self.size, 2), dtype=torch.float32)\n",
    "        label = (data.sum(dim=1) == 1).to(torch.long)\n",
    "        # To make it slightly more challenging, we add a bit of gaussian noise to the data points.\n",
    "        data += self.std * torch.randn(data.shape)\n",
    "\n",
    "        self.data = data\n",
    "        self.label = label\n",
    "\n",
    "    def __len__(self):\n",
    "        # Number of data point we have. Alternatively self.data.shape[0], or self.label.shape[0]\n",
    "        return self.size\n",
    "\n",
    "    def __getitem__(self, idx):\n",
    "        # Return the idx-th data point of the dataset\n",
    "        # If we have multiple things to return (data point and label), we can return them as tuple\n",
    "        data_point = self.data[idx]\n",
    "        data_label = self.label[idx]\n",
    "        return data_point, data_label"
   ]
  },
  {
   "cell_type": "markdown",
   "metadata": {},
   "source": [
    "Let's try to create such a dataset and inspect it:"
   ]
  },
  {
   "cell_type": "code",
   "execution_count": 42,
   "metadata": {},
   "outputs": [
    {
     "name": "stdout",
     "output_type": "stream",
     "text": [
      "Size of dataset: 200\n",
      "Data point 0: (tensor([0.9632, 0.1117]), tensor(1))\n"
     ]
    }
   ],
   "source": [
    "dataset = XORDataset(size=200)\n",
    "print(\"Size of dataset:\", len(dataset))\n",
    "print(\"Data point 0:\", dataset[0])"
   ]
  },
  {
   "cell_type": "markdown",
   "metadata": {},
   "source": [
    "To better relate to the dataset, we visualize the samples below. "
   ]
  },
  {
   "cell_type": "code",
   "execution_count": 43,
   "metadata": {},
   "outputs": [],
   "source": [
    "def visualize_samples(data, label):\n",
    "    if isinstance(data, torch.Tensor):\n",
    "        data = data.cpu().numpy()\n",
    "    if isinstance(label, torch.Tensor):\n",
    "        label = label.cpu().numpy()\n",
    "    data_0 = data[label == 0]\n",
    "    data_1 = data[label == 1]\n",
    "    \n",
    "    plt.figure(figsize=(4,4))\n",
    "    plt.scatter(data_0[:,0], data_0[:,1], edgecolor=\"#333\", label=\"Class 0\")\n",
    "    plt.scatter(data_1[:,0], data_1[:,1], edgecolor=\"#333\", label=\"Class 1\")\n",
    "    plt.title(\"Dataset samples\")\n",
    "    plt.ylabel(r\"$x_2$\")\n",
    "    plt.xlabel(r\"$x_1$\")\n",
    "    plt.legend()"
   ]
  },
  {
   "cell_type": "code",
   "execution_count": 44,
   "metadata": {},
   "outputs": [
    {
     "data": {
      "application/pdf": "[encoded data removed]",
      "image/svg+xml": [
       "<?xml version=\"1.0\" encoding=\"utf-8\" standalone=\"no\"?>\n",
       "<!DOCTYPE svg PUBLIC \"-//W3C//DTD SVG 1.1//EN\"\n",
       "  \"http://www.w3.org/Graphics/SVG/1.1/DTD/svg11.dtd\">\n",
       "<!-- Created with matplotlib (https://matplotlib.org/) -->\n",
       "<svg height=\"282.717813pt\" version=\"1.1\" viewBox=\"0 0 289.424844 282.717813\" width=\"289.424844pt\" xmlns=\"http://www.w3.org/2000/svg\" xmlns:xlink=\"http://www.w3.org/1999/xlink\">\n",
       " <metadata>\n",
       "  <rdf:RDF xmlns:cc=\"http://creativecommons.org/ns#\" xmlns:dc=\"http://purl.org/dc/elements/1.1/\" xmlns:rdf=\"http://www.w3.org/1999/02/22-rdf-syntax-ns#\">\n",
       "   <cc:Work>\n",
       "    <dc:type rdf:resource=\"http://purl.org/dc/dcmitype/StillImage\"/>\n",
       "    <dc:date>2021-10-22T11:30:29.058185</dc:date>\n",
       "    <dc:format>image/svg+xml</dc:format>\n",
       "    <dc:creator>\n",
       "     <cc:Agent>\n",
       "      <dc:title>Matplotlib v3.3.4, https://matplotlib.org/</dc:title>\n",
       "     </cc:Agent>\n",
       "    </dc:creator>\n",
       "   </cc:Work>\n",
       "  </rdf:RDF>\n",
       " </metadata>\n",
       " <defs>\n",
       "  <style type=\"text/css\">*{stroke-linecap:butt;stroke-linejoin:round;}</style>\n",
       " </defs>\n",
       " <g id=\"figure_1\">\n",
       "  <g id=\"patch_1\">\n",
       "   <path d=\"M 0 282.717813 \n",
       "L 289.424844 282.717813 \n",
       "L 289.424844 0 \n",
       "L 0 0 \n",
       "z\n",
       "\" style=\"fill:#ffffff;\"/>\n",
       "  </g>\n",
       "  <g id=\"axes_1\">\n",
       "   <g id=\"patch_2\">\n",
       "    <path d=\"M 59.024844 239.758125 \n",
       "L 282.224844 239.758125 \n",
       "L 282.224844 22.318125 \n",
       "L 59.024844 22.318125 \n",
       "z\n",
       "\" style=\"fill:#eaeaf2;\"/>\n",
       "   </g>\n",
       "   <g id=\"matplotlib.axis_1\">\n",
       "    <g id=\"xtick_1\">\n",
       "     <g id=\"line2d_1\">\n",
       "      <path clip-path=\"url(#p35d18f9bb0)\" d=\"M 104.136211 239.758125 \n",
       "L 104.136211 22.318125 \n",
       "\" style=\"fill:none;stroke:#ffffff;stroke-linecap:round;\"/>\n",
       "     </g>\n",
       "     <g id=\"text_1\">\n",
       "      <!-- 0.0 -->\n",
       "      <g style=\"fill:#262626;\" transform=\"translate(95.389492 257.616406)scale(0.11 -0.11)\">\n",
       "       <defs>\n",
       "        <path d=\"M 31.78125 66.40625 \n",
       "Q 24.171875 66.40625 20.328125 58.90625 \n",
       "Q 16.5 51.421875 16.5 36.375 \n",
       "Q 16.5 21.390625 20.328125 13.890625 \n",
       "Q 24.171875 6.390625 31.78125 6.390625 \n",
       "Q 39.453125 6.390625 43.28125 13.890625 \n",
       "Q 47.125 21.390625 47.125 36.375 \n",
       "Q 47.125 51.421875 43.28125 58.90625 \n",
       "Q 39.453125 66.40625 31.78125 66.40625 \n",
       "z\n",
       "M 31.78125 74.21875 \n",
       "Q 44.046875 74.21875 50.515625 64.515625 \n",
       "Q 56.984375 54.828125 56.984375 36.375 \n",
       "Q 56.984375 17.96875 50.515625 8.265625 \n",
       "Q 44.046875 -1.421875 31.78125 -1.421875 \n",
       "Q 19.53125 -1.421875 13.0625 8.265625 \n",
       "Q 6.59375 17.96875 6.59375 36.375 \n",
       "Q 6.59375 54.828125 13.0625 64.515625 \n",
       "Q 19.53125 74.21875 31.78125 74.21875 \n",
       "z\n",
       "\" id=\"DejaVuSans-48\"/>\n",
       "        <path d=\"M 10.6875 12.40625 \n",
       "L 21 12.40625 \n",
       "L 21 0 \n",
       "L 10.6875 0 \n",
       "z\n",
       "\" id=\"DejaVuSans-46\"/>\n",
       "       </defs>\n",
       "       <use xlink:href=\"#DejaVuSans-48\"/>\n",
       "       <use x=\"63.623047\" xlink:href=\"#DejaVuSans-46\"/>\n",
       "       <use x=\"95.410156\" xlink:href=\"#DejaVuSans-48\"/>\n",
       "      </g>\n",
       "     </g>\n",
       "    </g>\n",
       "    <g id=\"xtick_2\">\n",
       "     <g id=\"line2d_2\">\n",
       "      <path clip-path=\"url(#p35d18f9bb0)\" d=\"M 173.488267 239.758125 \n",
       "L 173.488267 22.318125 \n",
       "\" style=\"fill:none;stroke:#ffffff;stroke-linecap:round;\"/>\n",
       "     </g>\n",
       "     <g id=\"text_2\">\n",
       "      <!-- 0.5 -->\n",
       "      <g style=\"fill:#262626;\" transform=\"translate(164.741548 257.616406)scale(0.11 -0.11)\">\n",
       "       <defs>\n",
       "        <path d=\"M 10.796875 72.90625 \n",
       "L 49.515625 72.90625 \n",
       "L 49.515625 64.59375 \n",
       "L 19.828125 64.59375 \n",
       "L 19.828125 46.734375 \n",
       "Q 21.96875 47.46875 24.109375 47.828125 \n",
       "Q 26.265625 48.1875 28.421875 48.1875 \n",
       "Q 40.625 48.1875 47.75 41.5 \n",
       "Q 54.890625 34.8125 54.890625 23.390625 \n",
       "Q 54.890625 11.625 47.5625 5.09375 \n",
       "Q 40.234375 -1.421875 26.90625 -1.421875 \n",
       "Q 22.3125 -1.421875 17.546875 -0.640625 \n",
       "Q 12.796875 0.140625 7.71875 1.703125 \n",
       "L 7.71875 11.625 \n",
       "Q 12.109375 9.234375 16.796875 8.0625 \n",
       "Q 21.484375 6.890625 26.703125 6.890625 \n",
       "Q 35.15625 6.890625 40.078125 11.328125 \n",
       "Q 45.015625 15.765625 45.015625 23.390625 \n",
       "Q 45.015625 31 40.078125 35.4375 \n",
       "Q 35.15625 39.890625 26.703125 39.890625 \n",
       "Q 22.75 39.890625 18.8125 39.015625 \n",
       "Q 14.890625 38.140625 10.796875 36.28125 \n",
       "z\n",
       "\" id=\"DejaVuSans-53\"/>\n",
       "       </defs>\n",
       "       <use xlink:href=\"#DejaVuSans-48\"/>\n",
       "       <use x=\"63.623047\" xlink:href=\"#DejaVuSans-46\"/>\n",
       "       <use x=\"95.410156\" xlink:href=\"#DejaVuSans-53\"/>\n",
       "      </g>\n",
       "     </g>\n",
       "    </g>\n",
       "    <g id=\"xtick_3\">\n",
       "     <g id=\"line2d_3\">\n",
       "      <path clip-path=\"url(#p35d18f9bb0)\" d=\"M 242.840324 239.758125 \n",
       "L 242.840324 22.318125 \n",
       "\" style=\"fill:none;stroke:#ffffff;stroke-linecap:round;\"/>\n",
       "     </g>\n",
       "     <g id=\"text_3\">\n",
       "      <!-- 1.0 -->\n",
       "      <g style=\"fill:#262626;\" transform=\"translate(234.093605 257.616406)scale(0.11 -0.11)\">\n",
       "       <defs>\n",
       "        <path d=\"M 12.40625 8.296875 \n",
       "L 28.515625 8.296875 \n",
       "L 28.515625 63.921875 \n",
       "L 10.984375 60.40625 \n",
       "L 10.984375 69.390625 \n",
       "L 28.421875 72.90625 \n",
       "L 38.28125 72.90625 \n",
       "L 38.28125 8.296875 \n",
       "L 54.390625 8.296875 \n",
       "L 54.390625 0 \n",
       "L 12.40625 0 \n",
       "z\n",
       "\" id=\"DejaVuSans-49\"/>\n",
       "       </defs>\n",
       "       <use xlink:href=\"#DejaVuSans-49\"/>\n",
       "       <use x=\"63.623047\" xlink:href=\"#DejaVuSans-46\"/>\n",
       "       <use x=\"95.410156\" xlink:href=\"#DejaVuSans-48\"/>\n",
       "      </g>\n",
       "     </g>\n",
       "    </g>\n",
       "    <g id=\"text_4\">\n",
       "     <!-- $x_1$ -->\n",
       "     <g style=\"fill:#262626;\" transform=\"translate(164.204844 273.022188)scale(0.12 -0.12)\">\n",
       "      <defs>\n",
       "       <path d=\"M 60.015625 54.6875 \n",
       "L 34.90625 27.875 \n",
       "L 50.296875 0 \n",
       "L 39.984375 0 \n",
       "L 28.421875 21.6875 \n",
       "L 8.296875 0 \n",
       "L -2.59375 0 \n",
       "L 24.3125 28.8125 \n",
       "L 10.015625 54.6875 \n",
       "L 20.3125 54.6875 \n",
       "L 30.8125 34.90625 \n",
       "L 49.125 54.6875 \n",
       "z\n",
       "\" id=\"DejaVuSans-Oblique-120\"/>\n",
       "      </defs>\n",
       "      <use transform=\"translate(0 0.3125)\" xlink:href=\"#DejaVuSans-Oblique-120\"/>\n",
       "      <use transform=\"translate(59.179688 -16.09375)scale(0.7)\" xlink:href=\"#DejaVuSans-49\"/>\n",
       "     </g>\n",
       "    </g>\n",
       "   </g>\n",
       "   <g id=\"matplotlib.axis_2\">\n",
       "    <g id=\"ytick_1\">\n",
       "     <g id=\"line2d_4\">\n",
       "      <path clip-path=\"url(#p35d18f9bb0)\" d=\"M 59.024844 223.94267 \n",
       "L 282.224844 223.94267 \n",
       "\" style=\"fill:none;stroke:#ffffff;stroke-linecap:round;\"/>\n",
       "     </g>\n",
       "     <g id=\"text_5\">\n",
       "      <!-- −0.2 -->\n",
       "      <g style=\"fill:#262626;\" transform=\"translate(22.81375 228.121811)scale(0.11 -0.11)\">\n",
       "       <defs>\n",
       "        <path d=\"M 10.59375 35.5 \n",
       "L 73.1875 35.5 \n",
       "L 73.1875 27.203125 \n",
       "L 10.59375 27.203125 \n",
       "z\n",
       "\" id=\"DejaVuSans-8722\"/>\n",
       "        <path d=\"M 19.1875 8.296875 \n",
       "L 53.609375 8.296875 \n",
       "L 53.609375 0 \n",
       "L 7.328125 0 \n",
       "L 7.328125 8.296875 \n",
       "Q 12.9375 14.109375 22.625 23.890625 \n",
       "Q 32.328125 33.6875 34.8125 36.53125 \n",
       "Q 39.546875 41.84375 41.421875 45.53125 \n",
       "Q 43.3125 49.21875 43.3125 52.78125 \n",
       "Q 43.3125 58.59375 39.234375 62.25 \n",
       "Q 35.15625 65.921875 28.609375 65.921875 \n",
       "Q 23.96875 65.921875 18.8125 64.3125 \n",
       "Q 13.671875 62.703125 7.8125 59.421875 \n",
       "L 7.8125 69.390625 \n",
       "Q 13.765625 71.78125 18.9375 73 \n",
       "Q 24.125 74.21875 28.421875 74.21875 \n",
       "Q 39.75 74.21875 46.484375 68.546875 \n",
       "Q 53.21875 62.890625 53.21875 53.421875 \n",
       "Q 53.21875 48.921875 51.53125 44.890625 \n",
       "Q 49.859375 40.875 45.40625 35.40625 \n",
       "Q 44.1875 33.984375 37.640625 27.21875 \n",
       "Q 31.109375 20.453125 19.1875 8.296875 \n",
       "z\n",
       "\" id=\"DejaVuSans-50\"/>\n",
       "       </defs>\n",
       "       <use xlink:href=\"#DejaVuSans-8722\"/>\n",
       "       <use x=\"83.789062\" xlink:href=\"#DejaVuSans-48\"/>\n",
       "       <use x=\"147.412109\" xlink:href=\"#DejaVuSans-46\"/>\n",
       "       <use x=\"179.199219\" xlink:href=\"#DejaVuSans-50\"/>\n",
       "      </g>\n",
       "     </g>\n",
       "    </g>\n",
       "    <g id=\"ytick_2\">\n",
       "     <g id=\"line2d_5\">\n",
       "      <path clip-path=\"url(#p35d18f9bb0)\" d=\"M 59.024844 196.335617 \n",
       "L 282.224844 196.335617 \n",
       "\" style=\"fill:none;stroke:#ffffff;stroke-linecap:round;\"/>\n",
       "     </g>\n",
       "     <g id=\"text_6\">\n",
       "      <!-- 0.0 -->\n",
       "      <g style=\"fill:#262626;\" transform=\"translate(32.031406 200.514758)scale(0.11 -0.11)\">\n",
       "       <use xlink:href=\"#DejaVuSans-48\"/>\n",
       "       <use x=\"63.623047\" xlink:href=\"#DejaVuSans-46\"/>\n",
       "       <use x=\"95.410156\" xlink:href=\"#DejaVuSans-48\"/>\n",
       "      </g>\n",
       "     </g>\n",
       "    </g>\n",
       "    <g id=\"ytick_3\">\n",
       "     <g id=\"line2d_6\">\n",
       "      <path clip-path=\"url(#p35d18f9bb0)\" d=\"M 59.024844 168.728564 \n",
       "L 282.224844 168.728564 \n",
       "\" style=\"fill:none;stroke:#ffffff;stroke-linecap:round;\"/>\n",
       "     </g>\n",
       "     <g id=\"text_7\">\n",
       "      <!-- 0.2 -->\n",
       "      <g style=\"fill:#262626;\" transform=\"translate(32.031406 172.907704)scale(0.11 -0.11)\">\n",
       "       <use xlink:href=\"#DejaVuSans-48\"/>\n",
       "       <use x=\"63.623047\" xlink:href=\"#DejaVuSans-46\"/>\n",
       "       <use x=\"95.410156\" xlink:href=\"#DejaVuSans-50\"/>\n",
       "      </g>\n",
       "     </g>\n",
       "    </g>\n",
       "    <g id=\"ytick_4\">\n",
       "     <g id=\"line2d_7\">\n",
       "      <path clip-path=\"url(#p35d18f9bb0)\" d=\"M 59.024844 141.12151 \n",
       "L 282.224844 141.12151 \n",
       "\" style=\"fill:none;stroke:#ffffff;stroke-linecap:round;\"/>\n",
       "     </g>\n",
       "     <g id=\"text_8\">\n",
       "      <!-- 0.4 -->\n",
       "      <g style=\"fill:#262626;\" transform=\"translate(32.031406 145.300651)scale(0.11 -0.11)\">\n",
       "       <defs>\n",
       "        <path d=\"M 37.796875 64.3125 \n",
       "L 12.890625 25.390625 \n",
       "L 37.796875 25.390625 \n",
       "z\n",
       "M 35.203125 72.90625 \n",
       "L 47.609375 72.90625 \n",
       "L 47.609375 25.390625 \n",
       "L 58.015625 25.390625 \n",
       "L 58.015625 17.1875 \n",
       "L 47.609375 17.1875 \n",
       "L 47.609375 0 \n",
       "L 37.796875 0 \n",
       "L 37.796875 17.1875 \n",
       "L 4.890625 17.1875 \n",
       "L 4.890625 26.703125 \n",
       "z\n",
       "\" id=\"DejaVuSans-52\"/>\n",
       "       </defs>\n",
       "       <use xlink:href=\"#DejaVuSans-48\"/>\n",
       "       <use x=\"63.623047\" xlink:href=\"#DejaVuSans-46\"/>\n",
       "       <use x=\"95.410156\" xlink:href=\"#DejaVuSans-52\"/>\n",
       "      </g>\n",
       "     </g>\n",
       "    </g>\n",
       "    <g id=\"ytick_5\">\n",
       "     <g id=\"line2d_8\">\n",
       "      <path clip-path=\"url(#p35d18f9bb0)\" d=\"M 59.024844 113.514457 \n",
       "L 282.224844 113.514457 \n",
       "\" style=\"fill:none;stroke:#ffffff;stroke-linecap:round;\"/>\n",
       "     </g>\n",
       "     <g id=\"text_9\">\n",
       "      <!-- 0.6 -->\n",
       "      <g style=\"fill:#262626;\" transform=\"translate(32.031406 117.693598)scale(0.11 -0.11)\">\n",
       "       <defs>\n",
       "        <path d=\"M 33.015625 40.375 \n",
       "Q 26.375 40.375 22.484375 35.828125 \n",
       "Q 18.609375 31.296875 18.609375 23.390625 \n",
       "Q 18.609375 15.53125 22.484375 10.953125 \n",
       "Q 26.375 6.390625 33.015625 6.390625 \n",
       "Q 39.65625 6.390625 43.53125 10.953125 \n",
       "Q 47.40625 15.53125 47.40625 23.390625 \n",
       "Q 47.40625 31.296875 43.53125 35.828125 \n",
       "Q 39.65625 40.375 33.015625 40.375 \n",
       "z\n",
       "M 52.59375 71.296875 \n",
       "L 52.59375 62.3125 \n",
       "Q 48.875 64.0625 45.09375 64.984375 \n",
       "Q 41.3125 65.921875 37.59375 65.921875 \n",
       "Q 27.828125 65.921875 22.671875 59.328125 \n",
       "Q 17.53125 52.734375 16.796875 39.40625 \n",
       "Q 19.671875 43.65625 24.015625 45.921875 \n",
       "Q 28.375 48.1875 33.59375 48.1875 \n",
       "Q 44.578125 48.1875 50.953125 41.515625 \n",
       "Q 57.328125 34.859375 57.328125 23.390625 \n",
       "Q 57.328125 12.15625 50.6875 5.359375 \n",
       "Q 44.046875 -1.421875 33.015625 -1.421875 \n",
       "Q 20.359375 -1.421875 13.671875 8.265625 \n",
       "Q 6.984375 17.96875 6.984375 36.375 \n",
       "Q 6.984375 53.65625 15.1875 63.9375 \n",
       "Q 23.390625 74.21875 37.203125 74.21875 \n",
       "Q 40.921875 74.21875 44.703125 73.484375 \n",
       "Q 48.484375 72.75 52.59375 71.296875 \n",
       "z\n",
       "\" id=\"DejaVuSans-54\"/>\n",
       "       </defs>\n",
       "       <use xlink:href=\"#DejaVuSans-48\"/>\n",
       "       <use x=\"63.623047\" xlink:href=\"#DejaVuSans-46\"/>\n",
       "       <use x=\"95.410156\" xlink:href=\"#DejaVuSans-54\"/>\n",
       "      </g>\n",
       "     </g>\n",
       "    </g>\n",
       "    <g id=\"ytick_6\">\n",
       "     <g id=\"line2d_9\">\n",
       "      <path clip-path=\"url(#p35d18f9bb0)\" d=\"M 59.024844 85.907404 \n",
       "L 282.224844 85.907404 \n",
       "\" style=\"fill:none;stroke:#ffffff;stroke-linecap:round;\"/>\n",
       "     </g>\n",
       "     <g id=\"text_10\">\n",
       "      <!-- 0.8 -->\n",
       "      <g style=\"fill:#262626;\" transform=\"translate(32.031406 90.086545)scale(0.11 -0.11)\">\n",
       "       <defs>\n",
       "        <path d=\"M 31.78125 34.625 \n",
       "Q 24.75 34.625 20.71875 30.859375 \n",
       "Q 16.703125 27.09375 16.703125 20.515625 \n",
       "Q 16.703125 13.921875 20.71875 10.15625 \n",
       "Q 24.75 6.390625 31.78125 6.390625 \n",
       "Q 38.8125 6.390625 42.859375 10.171875 \n",
       "Q 46.921875 13.96875 46.921875 20.515625 \n",
       "Q 46.921875 27.09375 42.890625 30.859375 \n",
       "Q 38.875 34.625 31.78125 34.625 \n",
       "z\n",
       "M 21.921875 38.8125 \n",
       "Q 15.578125 40.375 12.03125 44.71875 \n",
       "Q 8.5 49.078125 8.5 55.328125 \n",
       "Q 8.5 64.0625 14.71875 69.140625 \n",
       "Q 20.953125 74.21875 31.78125 74.21875 \n",
       "Q 42.671875 74.21875 48.875 69.140625 \n",
       "Q 55.078125 64.0625 55.078125 55.328125 \n",
       "Q 55.078125 49.078125 51.53125 44.71875 \n",
       "Q 48 40.375 41.703125 38.8125 \n",
       "Q 48.828125 37.15625 52.796875 32.3125 \n",
       "Q 56.78125 27.484375 56.78125 20.515625 \n",
       "Q 56.78125 9.90625 50.3125 4.234375 \n",
       "Q 43.84375 -1.421875 31.78125 -1.421875 \n",
       "Q 19.734375 -1.421875 13.25 4.234375 \n",
       "Q 6.78125 9.90625 6.78125 20.515625 \n",
       "Q 6.78125 27.484375 10.78125 32.3125 \n",
       "Q 14.796875 37.15625 21.921875 38.8125 \n",
       "z\n",
       "M 18.3125 54.390625 \n",
       "Q 18.3125 48.734375 21.84375 45.5625 \n",
       "Q 25.390625 42.390625 31.78125 42.390625 \n",
       "Q 38.140625 42.390625 41.71875 45.5625 \n",
       "Q 45.3125 48.734375 45.3125 54.390625 \n",
       "Q 45.3125 60.0625 41.71875 63.234375 \n",
       "Q 38.140625 66.40625 31.78125 66.40625 \n",
       "Q 25.390625 66.40625 21.84375 63.234375 \n",
       "Q 18.3125 60.0625 18.3125 54.390625 \n",
       "z\n",
       "\" id=\"DejaVuSans-56\"/>\n",
       "       </defs>\n",
       "       <use xlink:href=\"#DejaVuSans-48\"/>\n",
       "       <use x=\"63.623047\" xlink:href=\"#DejaVuSans-46\"/>\n",
       "       <use x=\"95.410156\" xlink:href=\"#DejaVuSans-56\"/>\n",
       "      </g>\n",
       "     </g>\n",
       "    </g>\n",
       "    <g id=\"ytick_7\">\n",
       "     <g id=\"line2d_10\">\n",
       "      <path clip-path=\"url(#p35d18f9bb0)\" d=\"M 59.024844 58.300351 \n",
       "L 282.224844 58.300351 \n",
       "\" style=\"fill:none;stroke:#ffffff;stroke-linecap:round;\"/>\n",
       "     </g>\n",
       "     <g id=\"text_11\">\n",
       "      <!-- 1.0 -->\n",
       "      <g style=\"fill:#262626;\" transform=\"translate(32.031406 62.479491)scale(0.11 -0.11)\">\n",
       "       <use xlink:href=\"#DejaVuSans-49\"/>\n",
       "       <use x=\"63.623047\" xlink:href=\"#DejaVuSans-46\"/>\n",
       "       <use x=\"95.410156\" xlink:href=\"#DejaVuSans-48\"/>\n",
       "      </g>\n",
       "     </g>\n",
       "    </g>\n",
       "    <g id=\"ytick_8\">\n",
       "     <g id=\"line2d_11\">\n",
       "      <path clip-path=\"url(#p35d18f9bb0)\" d=\"M 59.024844 30.693297 \n",
       "L 282.224844 30.693297 \n",
       "\" style=\"fill:none;stroke:#ffffff;stroke-linecap:round;\"/>\n",
       "     </g>\n",
       "     <g id=\"text_12\">\n",
       "      <!-- 1.2 -->\n",
       "      <g style=\"fill:#262626;\" transform=\"translate(32.031406 34.872438)scale(0.11 -0.11)\">\n",
       "       <use xlink:href=\"#DejaVuSans-49\"/>\n",
       "       <use x=\"63.623047\" xlink:href=\"#DejaVuSans-46\"/>\n",
       "       <use x=\"95.410156\" xlink:href=\"#DejaVuSans-50\"/>\n",
       "      </g>\n",
       "     </g>\n",
       "    </g>\n",
       "    <g id=\"text_13\">\n",
       "     <!-- $x_2$ -->\n",
       "     <g style=\"fill:#262626;\" transform=\"translate(16.318125 137.458125)rotate(-90)scale(0.12 -0.12)\">\n",
       "      <use transform=\"translate(0 0.3125)\" xlink:href=\"#DejaVuSans-Oblique-120\"/>\n",
       "      <use transform=\"translate(59.179688 -16.09375)scale(0.7)\" xlink:href=\"#DejaVuSans-50\"/>\n",
       "     </g>\n",
       "    </g>\n",
       "   </g>\n",
       "   <g id=\"PathCollection_1\">\n",
       "    <defs>\n",
       "     <path d=\"M 0 3 \n",
       "C 0.795609 3 1.55874 2.683901 2.12132 2.12132 \n",
       "C 2.683901 1.55874 3 0.795609 3 0 \n",
       "C 3 -0.795609 2.683901 -1.55874 2.12132 -2.12132 \n",
       "C 1.55874 -2.683901 0.795609 -3 0 -3 \n",
       "C -0.795609 -3 -1.55874 -2.683901 -2.12132 -2.12132 \n",
       "C -2.683901 -1.55874 -3 -0.795609 -3 0 \n",
       "C -3 0.795609 -2.683901 1.55874 -2.12132 2.12132 \n",
       "C -1.55874 2.683901 -0.795609 3 0 3 \n",
       "z\n",
       "\" id=\"mbf6b692b43\" style=\"stroke:#333333;\"/>\n",
       "    </defs>\n",
       "    <g clip-path=\"url(#p35d18f9bb0)\">\n",
       "     <use style=\"fill:#4c72b0;stroke:#333333;\" x=\"103.175587\" xlink:href=\"#mbf6b692b43\" y=\"193.325344\"/>\n",
       "     <use style=\"fill:#4c72b0;stroke:#333333;\" x=\"238.921563\" xlink:href=\"#mbf6b692b43\" y=\"62.145049\"/>\n",
       "     <use style=\"fill:#4c72b0;stroke:#333333;\" x=\"265.843348\" xlink:href=\"#mbf6b692b43\" y=\"63.780462\"/>\n",
       "     <use style=\"fill:#4c72b0;stroke:#333333;\" x=\"115.777274\" xlink:href=\"#mbf6b692b43\" y=\"204.409578\"/>\n",
       "     <use style=\"fill:#4c72b0;stroke:#333333;\" x=\"108.189714\" xlink:href=\"#mbf6b692b43\" y=\"205.043015\"/>\n",
       "     <use style=\"fill:#4c72b0;stroke:#333333;\" x=\"77.84736\" xlink:href=\"#mbf6b692b43\" y=\"189.560429\"/>\n",
       "     <use style=\"fill:#4c72b0;stroke:#333333;\" x=\"249.749447\" xlink:href=\"#mbf6b692b43\" y=\"58.566133\"/>\n",
       "     <use style=\"fill:#4c72b0;stroke:#333333;\" x=\"238.880615\" xlink:href=\"#mbf6b692b43\" y=\"51.440521\"/>\n",
       "     <use style=\"fill:#4c72b0;stroke:#333333;\" x=\"100.84285\" xlink:href=\"#mbf6b692b43\" y=\"204.550687\"/>\n",
       "     <use style=\"fill:#4c72b0;stroke:#333333;\" x=\"244.40288\" xlink:href=\"#mbf6b692b43\" y=\"53.572047\"/>\n",
       "     <use style=\"fill:#4c72b0;stroke:#333333;\" x=\"110.407015\" xlink:href=\"#mbf6b692b43\" y=\"200.309835\"/>\n",
       "     <use style=\"fill:#4c72b0;stroke:#333333;\" x=\"262.419004\" xlink:href=\"#mbf6b692b43\" y=\"32.201761\"/>\n",
       "     <use style=\"fill:#4c72b0;stroke:#333333;\" x=\"244.921908\" xlink:href=\"#mbf6b692b43\" y=\"62.589723\"/>\n",
       "     <use style=\"fill:#4c72b0;stroke:#333333;\" x=\"239.033967\" xlink:href=\"#mbf6b692b43\" y=\"57.754453\"/>\n",
       "     <use style=\"fill:#4c72b0;stroke:#333333;\" x=\"101.128083\" xlink:href=\"#mbf6b692b43\" y=\"212.626168\"/>\n",
       "     <use style=\"fill:#4c72b0;stroke:#333333;\" x=\"96.095741\" xlink:href=\"#mbf6b692b43\" y=\"185.037671\"/>\n",
       "     <use style=\"fill:#4c72b0;stroke:#333333;\" x=\"258.131327\" xlink:href=\"#mbf6b692b43\" y=\"90.813692\"/>\n",
       "     <use style=\"fill:#4c72b0;stroke:#333333;\" x=\"261.679385\" xlink:href=\"#mbf6b692b43\" y=\"83.753102\"/>\n",
       "     <use style=\"fill:#4c72b0;stroke:#333333;\" x=\"232.969243\" xlink:href=\"#mbf6b692b43\" y=\"59.138235\"/>\n",
       "     <use style=\"fill:#4c72b0;stroke:#333333;\" x=\"88.886799\" xlink:href=\"#mbf6b692b43\" y=\"209.202243\"/>\n",
       "     <use style=\"fill:#4c72b0;stroke:#333333;\" x=\"260.837035\" xlink:href=\"#mbf6b692b43\" y=\"32.62492\"/>\n",
       "     <use style=\"fill:#4c72b0;stroke:#333333;\" x=\"252.014817\" xlink:href=\"#mbf6b692b43\" y=\"59.955798\"/>\n",
       "     <use style=\"fill:#4c72b0;stroke:#333333;\" x=\"121.285893\" xlink:href=\"#mbf6b692b43\" y=\"175.83743\"/>\n",
       "     <use style=\"fill:#4c72b0;stroke:#333333;\" x=\"235.52169\" xlink:href=\"#mbf6b692b43\" y=\"32.336249\"/>\n",
       "     <use style=\"fill:#4c72b0;stroke:#333333;\" x=\"106.644921\" xlink:href=\"#mbf6b692b43\" y=\"194.777215\"/>\n",
       "     <use style=\"fill:#4c72b0;stroke:#333333;\" x=\"234.671081\" xlink:href=\"#mbf6b692b43\" y=\"51.50491\"/>\n",
       "     <use style=\"fill:#4c72b0;stroke:#333333;\" x=\"93.74526\" xlink:href=\"#mbf6b692b43\" y=\"179.492748\"/>\n",
       "     <use style=\"fill:#4c72b0;stroke:#333333;\" x=\"257.590969\" xlink:href=\"#mbf6b692b43\" y=\"48.77409\"/>\n",
       "     <use style=\"fill:#4c72b0;stroke:#333333;\" x=\"253.260186\" xlink:href=\"#mbf6b692b43\" y=\"61.512745\"/>\n",
       "     <use style=\"fill:#4c72b0;stroke:#333333;\" x=\"247.043425\" xlink:href=\"#mbf6b692b43\" y=\"43.69401\"/>\n",
       "     <use style=\"fill:#4c72b0;stroke:#333333;\" x=\"99.204887\" xlink:href=\"#mbf6b692b43\" y=\"184.373252\"/>\n",
       "     <use style=\"fill:#4c72b0;stroke:#333333;\" x=\"111.370021\" xlink:href=\"#mbf6b692b43\" y=\"209.709719\"/>\n",
       "     <use style=\"fill:#4c72b0;stroke:#333333;\" x=\"94.224345\" xlink:href=\"#mbf6b692b43\" y=\"169.625602\"/>\n",
       "     <use style=\"fill:#4c72b0;stroke:#333333;\" x=\"104.609392\" xlink:href=\"#mbf6b692b43\" y=\"201.318829\"/>\n",
       "     <use style=\"fill:#4c72b0;stroke:#333333;\" x=\"119.066364\" xlink:href=\"#mbf6b692b43\" y=\"200.867622\"/>\n",
       "     <use style=\"fill:#4c72b0;stroke:#333333;\" x=\"100.250642\" xlink:href=\"#mbf6b692b43\" y=\"195.701852\"/>\n",
       "     <use style=\"fill:#4c72b0;stroke:#333333;\" x=\"119.826314\" xlink:href=\"#mbf6b692b43\" y=\"212.211753\"/>\n",
       "     <use style=\"fill:#4c72b0;stroke:#333333;\" x=\"220.787431\" xlink:href=\"#mbf6b692b43\" y=\"39.620323\"/>\n",
       "     <use style=\"fill:#4c72b0;stroke:#333333;\" x=\"260.272851\" xlink:href=\"#mbf6b692b43\" y=\"64.604829\"/>\n",
       "     <use style=\"fill:#4c72b0;stroke:#333333;\" x=\"245.066505\" xlink:href=\"#mbf6b692b43\" y=\"63.759786\"/>\n",
       "     <use style=\"fill:#4c72b0;stroke:#333333;\" x=\"100.198665\" xlink:href=\"#mbf6b692b43\" y=\"205.410605\"/>\n",
       "     <use style=\"fill:#4c72b0;stroke:#333333;\" x=\"229.560921\" xlink:href=\"#mbf6b692b43\" y=\"89.092646\"/>\n",
       "     <use style=\"fill:#4c72b0;stroke:#333333;\" x=\"252.931424\" xlink:href=\"#mbf6b692b43\" y=\"56.781365\"/>\n",
       "     <use style=\"fill:#4c72b0;stroke:#333333;\" x=\"104.772263\" xlink:href=\"#mbf6b692b43\" y=\"212.127081\"/>\n",
       "     <use style=\"fill:#4c72b0;stroke:#333333;\" x=\"117.472818\" xlink:href=\"#mbf6b692b43\" y=\"217.677792\"/>\n",
       "     <use style=\"fill:#4c72b0;stroke:#333333;\" x=\"126.142513\" xlink:href=\"#mbf6b692b43\" y=\"177.02797\"/>\n",
       "     <use style=\"fill:#4c72b0;stroke:#333333;\" x=\"236.295181\" xlink:href=\"#mbf6b692b43\" y=\"71.868079\"/>\n",
       "     <use style=\"fill:#4c72b0;stroke:#333333;\" x=\"223.971929\" xlink:href=\"#mbf6b692b43\" y=\"44.358713\"/>\n",
       "     <use style=\"fill:#4c72b0;stroke:#333333;\" x=\"97.284907\" xlink:href=\"#mbf6b692b43\" y=\"205.813556\"/>\n",
       "     <use style=\"fill:#4c72b0;stroke:#333333;\" x=\"237.50152\" xlink:href=\"#mbf6b692b43\" y=\"68.485687\"/>\n",
       "     <use style=\"fill:#4c72b0;stroke:#333333;\" x=\"105.506427\" xlink:href=\"#mbf6b692b43\" y=\"201.033344\"/>\n",
       "     <use style=\"fill:#4c72b0;stroke:#333333;\" x=\"249.16046\" xlink:href=\"#mbf6b692b43\" y=\"33.609264\"/>\n",
       "     <use style=\"fill:#4c72b0;stroke:#333333;\" x=\"102.030951\" xlink:href=\"#mbf6b692b43\" y=\"188.760034\"/>\n",
       "     <use style=\"fill:#4c72b0;stroke:#333333;\" x=\"234.523839\" xlink:href=\"#mbf6b692b43\" y=\"76.575953\"/>\n",
       "     <use style=\"fill:#4c72b0;stroke:#333333;\" x=\"246.0265\" xlink:href=\"#mbf6b692b43\" y=\"47.436505\"/>\n",
       "     <use style=\"fill:#4c72b0;stroke:#333333;\" x=\"77.849441\" xlink:href=\"#mbf6b692b43\" y=\"190.609003\"/>\n",
       "     <use style=\"fill:#4c72b0;stroke:#333333;\" x=\"223.848588\" xlink:href=\"#mbf6b692b43\" y=\"47.197067\"/>\n",
       "     <use style=\"fill:#4c72b0;stroke:#333333;\" x=\"254.206341\" xlink:href=\"#mbf6b692b43\" y=\"65.6149\"/>\n",
       "     <use style=\"fill:#4c72b0;stroke:#333333;\" x=\"89.806419\" xlink:href=\"#mbf6b692b43\" y=\"196.823089\"/>\n",
       "     <use style=\"fill:#4c72b0;stroke:#333333;\" x=\"101.474114\" xlink:href=\"#mbf6b692b43\" y=\"229.874489\"/>\n",
       "     <use style=\"fill:#4c72b0;stroke:#333333;\" x=\"100.92905\" xlink:href=\"#mbf6b692b43\" y=\"199.872245\"/>\n",
       "     <use style=\"fill:#4c72b0;stroke:#333333;\" x=\"82.790407\" xlink:href=\"#mbf6b692b43\" y=\"200.007537\"/>\n",
       "     <use style=\"fill:#4c72b0;stroke:#333333;\" x=\"268.426038\" xlink:href=\"#mbf6b692b43\" y=\"65.752612\"/>\n",
       "     <use style=\"fill:#4c72b0;stroke:#333333;\" x=\"234.515365\" xlink:href=\"#mbf6b692b43\" y=\"73.759575\"/>\n",
       "     <use style=\"fill:#4c72b0;stroke:#333333;\" x=\"260.429931\" xlink:href=\"#mbf6b692b43\" y=\"39.679857\"/>\n",
       "     <use style=\"fill:#4c72b0;stroke:#333333;\" x=\"83.354631\" xlink:href=\"#mbf6b692b43\" y=\"185.321057\"/>\n",
       "     <use style=\"fill:#4c72b0;stroke:#333333;\" x=\"245.761431\" xlink:href=\"#mbf6b692b43\" y=\"82.429587\"/>\n",
       "     <use style=\"fill:#4c72b0;stroke:#333333;\" x=\"256.086995\" xlink:href=\"#mbf6b692b43\" y=\"89.661589\"/>\n",
       "     <use style=\"fill:#4c72b0;stroke:#333333;\" x=\"125.251842\" xlink:href=\"#mbf6b692b43\" y=\"218.303568\"/>\n",
       "     <use style=\"fill:#4c72b0;stroke:#333333;\" x=\"115.574613\" xlink:href=\"#mbf6b692b43\" y=\"207.070547\"/>\n",
       "     <use style=\"fill:#4c72b0;stroke:#333333;\" x=\"101.824266\" xlink:href=\"#mbf6b692b43\" y=\"190.023846\"/>\n",
       "     <use style=\"fill:#4c72b0;stroke:#333333;\" x=\"102.668211\" xlink:href=\"#mbf6b692b43\" y=\"187.711556\"/>\n",
       "     <use style=\"fill:#4c72b0;stroke:#333333;\" x=\"246.373252\" xlink:href=\"#mbf6b692b43\" y=\"53.869424\"/>\n",
       "     <use style=\"fill:#4c72b0;stroke:#333333;\" x=\"233.834924\" xlink:href=\"#mbf6b692b43\" y=\"88.154106\"/>\n",
       "     <use style=\"fill:#4c72b0;stroke:#333333;\" x=\"101.780765\" xlink:href=\"#mbf6b692b43\" y=\"195.521558\"/>\n",
       "     <use style=\"fill:#4c72b0;stroke:#333333;\" x=\"113.855176\" xlink:href=\"#mbf6b692b43\" y=\"186.850471\"/>\n",
       "     <use style=\"fill:#4c72b0;stroke:#333333;\" x=\"115.431864\" xlink:href=\"#mbf6b692b43\" y=\"194.117803\"/>\n",
       "     <use style=\"fill:#4c72b0;stroke:#333333;\" x=\"246.091317\" xlink:href=\"#mbf6b692b43\" y=\"37.590473\"/>\n",
       "     <use style=\"fill:#4c72b0;stroke:#333333;\" x=\"245.18129\" xlink:href=\"#mbf6b692b43\" y=\"35.754283\"/>\n",
       "     <use style=\"fill:#4c72b0;stroke:#333333;\" x=\"103.858405\" xlink:href=\"#mbf6b692b43\" y=\"208.108344\"/>\n",
       "     <use style=\"fill:#4c72b0;stroke:#333333;\" x=\"256.895945\" xlink:href=\"#mbf6b692b43\" y=\"37.701594\"/>\n",
       "     <use style=\"fill:#4c72b0;stroke:#333333;\" x=\"239.223307\" xlink:href=\"#mbf6b692b43\" y=\"72.374698\"/>\n",
       "     <use style=\"fill:#4c72b0;stroke:#333333;\" x=\"255.063622\" xlink:href=\"#mbf6b692b43\" y=\"33.573869\"/>\n",
       "     <use style=\"fill:#4c72b0;stroke:#333333;\" x=\"95.292954\" xlink:href=\"#mbf6b692b43\" y=\"192.95304\"/>\n",
       "     <use style=\"fill:#4c72b0;stroke:#333333;\" x=\"241.134476\" xlink:href=\"#mbf6b692b43\" y=\"47.995435\"/>\n",
       "     <use style=\"fill:#4c72b0;stroke:#333333;\" x=\"105.39991\" xlink:href=\"#mbf6b692b43\" y=\"212.515425\"/>\n",
       "     <use style=\"fill:#4c72b0;stroke:#333333;\" x=\"114.664014\" xlink:href=\"#mbf6b692b43\" y=\"204.310706\"/>\n",
       "     <use style=\"fill:#4c72b0;stroke:#333333;\" x=\"94.590702\" xlink:href=\"#mbf6b692b43\" y=\"191.216589\"/>\n",
       "     <use style=\"fill:#4c72b0;stroke:#333333;\" x=\"219.680904\" xlink:href=\"#mbf6b692b43\" y=\"53.841351\"/>\n",
       "     <use style=\"fill:#4c72b0;stroke:#333333;\" x=\"232.032075\" xlink:href=\"#mbf6b692b43\" y=\"47.841136\"/>\n",
       "     <use style=\"fill:#4c72b0;stroke:#333333;\" x=\"209.50665\" xlink:href=\"#mbf6b692b43\" y=\"44.693113\"/>\n",
       "     <use style=\"fill:#4c72b0;stroke:#333333;\" x=\"93.845438\" xlink:href=\"#mbf6b692b43\" y=\"191.534849\"/>\n",
       "     <use style=\"fill:#4c72b0;stroke:#333333;\" x=\"123.551329\" xlink:href=\"#mbf6b692b43\" y=\"206.975146\"/>\n",
       "     <use style=\"fill:#4c72b0;stroke:#333333;\" x=\"98.640687\" xlink:href=\"#mbf6b692b43\" y=\"209.817871\"/>\n",
       "     <use style=\"fill:#4c72b0;stroke:#333333;\" x=\"232.756002\" xlink:href=\"#mbf6b692b43\" y=\"90.705434\"/>\n",
       "     <use style=\"fill:#4c72b0;stroke:#333333;\" x=\"108.951144\" xlink:href=\"#mbf6b692b43\" y=\"195.303274\"/>\n",
       "     <use style=\"fill:#4c72b0;stroke:#333333;\" x=\"101.769149\" xlink:href=\"#mbf6b692b43\" y=\"189.148117\"/>\n",
       "     <use style=\"fill:#4c72b0;stroke:#333333;\" x=\"96.379894\" xlink:href=\"#mbf6b692b43\" y=\"200.223394\"/>\n",
       "     <use style=\"fill:#4c72b0;stroke:#333333;\" x=\"106.03107\" xlink:href=\"#mbf6b692b43\" y=\"208.206126\"/>\n",
       "     <use style=\"fill:#4c72b0;stroke:#333333;\" x=\"218.441851\" xlink:href=\"#mbf6b692b43\" y=\"57.867977\"/>\n",
       "     <use style=\"fill:#4c72b0;stroke:#333333;\" x=\"227.615319\" xlink:href=\"#mbf6b692b43\" y=\"41.469595\"/>\n",
       "     <use style=\"fill:#4c72b0;stroke:#333333;\" x=\"79.001684\" xlink:href=\"#mbf6b692b43\" y=\"214.445482\"/>\n",
       "     <use style=\"fill:#4c72b0;stroke:#333333;\" x=\"242.780269\" xlink:href=\"#mbf6b692b43\" y=\"80.464924\"/>\n",
       "    </g>\n",
       "   </g>\n",
       "   <g id=\"PathCollection_2\">\n",
       "    <defs>\n",
       "     <path d=\"M 0 3 \n",
       "C 0.795609 3 1.55874 2.683901 2.12132 2.12132 \n",
       "C 2.683901 1.55874 3 0.795609 3 0 \n",
       "C 3 -0.795609 2.683901 -1.55874 2.12132 -2.12132 \n",
       "C 1.55874 -2.683901 0.795609 -3 0 -3 \n",
       "C -0.795609 -3 -1.55874 -2.683901 -2.12132 -2.12132 \n",
       "C -2.683901 -1.55874 -3 -0.795609 -3 0 \n",
       "C -3 0.795609 -2.683901 1.55874 -2.12132 2.12132 \n",
       "C -1.55874 2.683901 -0.795609 3 0 3 \n",
       "z\n",
       "\" id=\"mdb3228f51c\" style=\"stroke:#333333;\"/>\n",
       "    </defs>\n",
       "    <g clip-path=\"url(#p35d18f9bb0)\">\n",
       "     <use style=\"fill:#dd8452;stroke:#333333;\" x=\"237.740969\" xlink:href=\"#mdb3228f51c\" y=\"180.913557\"/>\n",
       "     <use style=\"fill:#dd8452;stroke:#333333;\" x=\"250.706334\" xlink:href=\"#mdb3228f51c\" y=\"181.183986\"/>\n",
       "     <use style=\"fill:#dd8452;stroke:#333333;\" x=\"238.881003\" xlink:href=\"#mdb3228f51c\" y=\"198.932324\"/>\n",
       "     <use style=\"fill:#dd8452;stroke:#333333;\" x=\"96.610282\" xlink:href=\"#mdb3228f51c\" y=\"45.392998\"/>\n",
       "     <use style=\"fill:#dd8452;stroke:#333333;\" x=\"257.550343\" xlink:href=\"#mdb3228f51c\" y=\"201.599728\"/>\n",
       "     <use style=\"fill:#dd8452;stroke:#333333;\" x=\"107.264311\" xlink:href=\"#mdb3228f51c\" y=\"63.553489\"/>\n",
       "     <use style=\"fill:#dd8452;stroke:#333333;\" x=\"226.725944\" xlink:href=\"#mdb3228f51c\" y=\"211.350014\"/>\n",
       "     <use style=\"fill:#dd8452;stroke:#333333;\" x=\"137.462566\" xlink:href=\"#mdb3228f51c\" y=\"59.599027\"/>\n",
       "     <use style=\"fill:#dd8452;stroke:#333333;\" x=\"254.399964\" xlink:href=\"#mdb3228f51c\" y=\"217.196966\"/>\n",
       "     <use style=\"fill:#dd8452;stroke:#333333;\" x=\"221.661073\" xlink:href=\"#mdb3228f51c\" y=\"185.557909\"/>\n",
       "     <use style=\"fill:#dd8452;stroke:#333333;\" x=\"236.770813\" xlink:href=\"#mdb3228f51c\" y=\"173.017888\"/>\n",
       "     <use style=\"fill:#dd8452;stroke:#333333;\" x=\"72.595048\" xlink:href=\"#mdb3228f51c\" y=\"44.566804\"/>\n",
       "     <use style=\"fill:#dd8452;stroke:#333333;\" x=\"123.449481\" xlink:href=\"#mdb3228f51c\" y=\"45.533014\"/>\n",
       "     <use style=\"fill:#dd8452;stroke:#333333;\" x=\"103.341406\" xlink:href=\"#mdb3228f51c\" y=\"76.495825\"/>\n",
       "     <use style=\"fill:#dd8452;stroke:#333333;\" x=\"103.652293\" xlink:href=\"#mdb3228f51c\" y=\"42.091466\"/>\n",
       "     <use style=\"fill:#dd8452;stroke:#333333;\" x=\"82.572453\" xlink:href=\"#mdb3228f51c\" y=\"39.030573\"/>\n",
       "     <use style=\"fill:#dd8452;stroke:#333333;\" x=\"240.785963\" xlink:href=\"#mdb3228f51c\" y=\"201.757218\"/>\n",
       "     <use style=\"fill:#dd8452;stroke:#333333;\" x=\"223.146677\" xlink:href=\"#mdb3228f51c\" y=\"180.766731\"/>\n",
       "     <use style=\"fill:#dd8452;stroke:#333333;\" x=\"232.809459\" xlink:href=\"#mdb3228f51c\" y=\"182.832732\"/>\n",
       "     <use style=\"fill:#dd8452;stroke:#333333;\" x=\"114.75275\" xlink:href=\"#mdb3228f51c\" y=\"59.25904\"/>\n",
       "     <use style=\"fill:#dd8452;stroke:#333333;\" x=\"219.13022\" xlink:href=\"#mdb3228f51c\" y=\"192.147409\"/>\n",
       "     <use style=\"fill:#dd8452;stroke:#333333;\" x=\"263.953319\" xlink:href=\"#mdb3228f51c\" y=\"200.542537\"/>\n",
       "     <use style=\"fill:#dd8452;stroke:#333333;\" x=\"255.392004\" xlink:href=\"#mdb3228f51c\" y=\"198.107913\"/>\n",
       "     <use style=\"fill:#dd8452;stroke:#333333;\" x=\"230.139566\" xlink:href=\"#mdb3228f51c\" y=\"202.11576\"/>\n",
       "     <use style=\"fill:#dd8452;stroke:#333333;\" x=\"261.488557\" xlink:href=\"#mdb3228f51c\" y=\"176.456154\"/>\n",
       "     <use style=\"fill:#dd8452;stroke:#333333;\" x=\"90.064639\" xlink:href=\"#mdb3228f51c\" y=\"70.175377\"/>\n",
       "     <use style=\"fill:#dd8452;stroke:#333333;\" x=\"258.588002\" xlink:href=\"#mdb3228f51c\" y=\"179.390064\"/>\n",
       "     <use style=\"fill:#dd8452;stroke:#333333;\" x=\"117.683193\" xlink:href=\"#mdb3228f51c\" y=\"55.123203\"/>\n",
       "     <use style=\"fill:#dd8452;stroke:#333333;\" x=\"238.990257\" xlink:href=\"#mdb3228f51c\" y=\"178.669064\"/>\n",
       "     <use style=\"fill:#dd8452;stroke:#333333;\" x=\"75.361809\" xlink:href=\"#mdb3228f51c\" y=\"56.973626\"/>\n",
       "     <use style=\"fill:#dd8452;stroke:#333333;\" x=\"102.090572\" xlink:href=\"#mdb3228f51c\" y=\"66.120244\"/>\n",
       "     <use style=\"fill:#dd8452;stroke:#333333;\" x=\"230.25688\" xlink:href=\"#mdb3228f51c\" y=\"208.672634\"/>\n",
       "     <use style=\"fill:#dd8452;stroke:#333333;\" x=\"221.809167\" xlink:href=\"#mdb3228f51c\" y=\"183.133722\"/>\n",
       "     <use style=\"fill:#dd8452;stroke:#333333;\" x=\"107.069524\" xlink:href=\"#mdb3228f51c\" y=\"60.661631\"/>\n",
       "     <use style=\"fill:#dd8452;stroke:#333333;\" x=\"250.99108\" xlink:href=\"#mdb3228f51c\" y=\"183.85959\"/>\n",
       "     <use style=\"fill:#dd8452;stroke:#333333;\" x=\"107.646006\" xlink:href=\"#mdb3228f51c\" y=\"68.534007\"/>\n",
       "     <use style=\"fill:#dd8452;stroke:#333333;\" x=\"104.549879\" xlink:href=\"#mdb3228f51c\" y=\"71.284393\"/>\n",
       "     <use style=\"fill:#dd8452;stroke:#333333;\" x=\"268.105097\" xlink:href=\"#mdb3228f51c\" y=\"209.357586\"/>\n",
       "     <use style=\"fill:#dd8452;stroke:#333333;\" x=\"238.400187\" xlink:href=\"#mdb3228f51c\" y=\"180.074569\"/>\n",
       "     <use style=\"fill:#dd8452;stroke:#333333;\" x=\"91.295948\" xlink:href=\"#mdb3228f51c\" y=\"55.826098\"/>\n",
       "     <use style=\"fill:#dd8452;stroke:#333333;\" x=\"121.568333\" xlink:href=\"#mdb3228f51c\" y=\"57.881371\"/>\n",
       "     <use style=\"fill:#dd8452;stroke:#333333;\" x=\"125.003489\" xlink:href=\"#mdb3228f51c\" y=\"40.282525\"/>\n",
       "     <use style=\"fill:#dd8452;stroke:#333333;\" x=\"251.195219\" xlink:href=\"#mdb3228f51c\" y=\"206.328325\"/>\n",
       "     <use style=\"fill:#dd8452;stroke:#333333;\" x=\"91.801361\" xlink:href=\"#mdb3228f51c\" y=\"59.985039\"/>\n",
       "     <use style=\"fill:#dd8452;stroke:#333333;\" x=\"235.974935\" xlink:href=\"#mdb3228f51c\" y=\"185.254639\"/>\n",
       "     <use style=\"fill:#dd8452;stroke:#333333;\" x=\"106.729752\" xlink:href=\"#mdb3228f51c\" y=\"73.50443\"/>\n",
       "     <use style=\"fill:#dd8452;stroke:#333333;\" x=\"114.638428\" xlink:href=\"#mdb3228f51c\" y=\"50.128195\"/>\n",
       "     <use style=\"fill:#dd8452;stroke:#333333;\" x=\"113.545439\" xlink:href=\"#mdb3228f51c\" y=\"53.57626\"/>\n",
       "     <use style=\"fill:#dd8452;stroke:#333333;\" x=\"227.164001\" xlink:href=\"#mdb3228f51c\" y=\"186.154142\"/>\n",
       "     <use style=\"fill:#dd8452;stroke:#333333;\" x=\"91.795046\" xlink:href=\"#mdb3228f51c\" y=\"77.508109\"/>\n",
       "     <use style=\"fill:#dd8452;stroke:#333333;\" x=\"112.355405\" xlink:href=\"#mdb3228f51c\" y=\"48.161599\"/>\n",
       "     <use style=\"fill:#dd8452;stroke:#333333;\" x=\"218.881785\" xlink:href=\"#mdb3228f51c\" y=\"182.204423\"/>\n",
       "     <use style=\"fill:#dd8452;stroke:#333333;\" x=\"245.64443\" xlink:href=\"#mdb3228f51c\" y=\"210.592034\"/>\n",
       "     <use style=\"fill:#dd8452;stroke:#333333;\" x=\"109.784851\" xlink:href=\"#mdb3228f51c\" y=\"48.671279\"/>\n",
       "     <use style=\"fill:#dd8452;stroke:#333333;\" x=\"116.091024\" xlink:href=\"#mdb3228f51c\" y=\"67.791241\"/>\n",
       "     <use style=\"fill:#dd8452;stroke:#333333;\" x=\"225.780417\" xlink:href=\"#mdb3228f51c\" y=\"195.110735\"/>\n",
       "     <use style=\"fill:#dd8452;stroke:#333333;\" x=\"217.276378\" xlink:href=\"#mdb3228f51c\" y=\"197.807546\"/>\n",
       "     <use style=\"fill:#dd8452;stroke:#333333;\" x=\"113.27314\" xlink:href=\"#mdb3228f51c\" y=\"62.370039\"/>\n",
       "     <use style=\"fill:#dd8452;stroke:#333333;\" x=\"69.170298\" xlink:href=\"#mdb3228f51c\" y=\"69.539331\"/>\n",
       "     <use style=\"fill:#dd8452;stroke:#333333;\" x=\"98.698359\" xlink:href=\"#mdb3228f51c\" y=\"77.469177\"/>\n",
       "     <use style=\"fill:#dd8452;stroke:#333333;\" x=\"116.347165\" xlink:href=\"#mdb3228f51c\" y=\"52.116365\"/>\n",
       "     <use style=\"fill:#dd8452;stroke:#333333;\" x=\"94.391267\" xlink:href=\"#mdb3228f51c\" y=\"63.223243\"/>\n",
       "     <use style=\"fill:#dd8452;stroke:#333333;\" x=\"100.898505\" xlink:href=\"#mdb3228f51c\" y=\"55.768785\"/>\n",
       "     <use style=\"fill:#dd8452;stroke:#333333;\" x=\"116.977273\" xlink:href=\"#mdb3228f51c\" y=\"68.261083\"/>\n",
       "     <use style=\"fill:#dd8452;stroke:#333333;\" x=\"264.182211\" xlink:href=\"#mdb3228f51c\" y=\"202.317721\"/>\n",
       "     <use style=\"fill:#dd8452;stroke:#333333;\" x=\"86.626022\" xlink:href=\"#mdb3228f51c\" y=\"39.847979\"/>\n",
       "     <use style=\"fill:#dd8452;stroke:#333333;\" x=\"264.912405\" xlink:href=\"#mdb3228f51c\" y=\"185.012766\"/>\n",
       "     <use style=\"fill:#dd8452;stroke:#333333;\" x=\"251.653068\" xlink:href=\"#mdb3228f51c\" y=\"171.865302\"/>\n",
       "     <use style=\"fill:#dd8452;stroke:#333333;\" x=\"221.338296\" xlink:href=\"#mdb3228f51c\" y=\"211.299351\"/>\n",
       "     <use style=\"fill:#dd8452;stroke:#333333;\" x=\"225.251741\" xlink:href=\"#mdb3228f51c\" y=\"227.253664\"/>\n",
       "     <use style=\"fill:#dd8452;stroke:#333333;\" x=\"105.110938\" xlink:href=\"#mdb3228f51c\" y=\"41.347367\"/>\n",
       "     <use style=\"fill:#dd8452;stroke:#333333;\" x=\"227.955126\" xlink:href=\"#mdb3228f51c\" y=\"178.959826\"/>\n",
       "     <use style=\"fill:#dd8452;stroke:#333333;\" x=\"214.647143\" xlink:href=\"#mdb3228f51c\" y=\"165.02484\"/>\n",
       "     <use style=\"fill:#dd8452;stroke:#333333;\" x=\"91.350295\" xlink:href=\"#mdb3228f51c\" y=\"47.120304\"/>\n",
       "     <use style=\"fill:#dd8452;stroke:#333333;\" x=\"115.184403\" xlink:href=\"#mdb3228f51c\" y=\"59.847104\"/>\n",
       "     <use style=\"fill:#dd8452;stroke:#333333;\" x=\"253.888856\" xlink:href=\"#mdb3228f51c\" y=\"184.293941\"/>\n",
       "     <use style=\"fill:#dd8452;stroke:#333333;\" x=\"98.888029\" xlink:href=\"#mdb3228f51c\" y=\"51.399993\"/>\n",
       "     <use style=\"fill:#dd8452;stroke:#333333;\" x=\"110.839939\" xlink:href=\"#mdb3228f51c\" y=\"61.578541\"/>\n",
       "     <use style=\"fill:#dd8452;stroke:#333333;\" x=\"109.239359\" xlink:href=\"#mdb3228f51c\" y=\"64.816787\"/>\n",
       "     <use style=\"fill:#dd8452;stroke:#333333;\" x=\"237.390927\" xlink:href=\"#mdb3228f51c\" y=\"177.171327\"/>\n",
       "     <use style=\"fill:#dd8452;stroke:#333333;\" x=\"245.348705\" xlink:href=\"#mdb3228f51c\" y=\"167.950176\"/>\n",
       "     <use style=\"fill:#dd8452;stroke:#333333;\" x=\"254.203911\" xlink:href=\"#mdb3228f51c\" y=\"185.179964\"/>\n",
       "     <use style=\"fill:#dd8452;stroke:#333333;\" x=\"141.672506\" xlink:href=\"#mdb3228f51c\" y=\"59.304711\"/>\n",
       "     <use style=\"fill:#dd8452;stroke:#333333;\" x=\"220.590559\" xlink:href=\"#mdb3228f51c\" y=\"213.578161\"/>\n",
       "     <use style=\"fill:#dd8452;stroke:#333333;\" x=\"272.079389\" xlink:href=\"#mdb3228f51c\" y=\"212.626448\"/>\n",
       "     <use style=\"fill:#dd8452;stroke:#333333;\" x=\"233.703348\" xlink:href=\"#mdb3228f51c\" y=\"209.593202\"/>\n",
       "     <use style=\"fill:#dd8452;stroke:#333333;\" x=\"95.318892\" xlink:href=\"#mdb3228f51c\" y=\"69.802283\"/>\n",
       "     <use style=\"fill:#dd8452;stroke:#333333;\" x=\"93.064547\" xlink:href=\"#mdb3228f51c\" y=\"59.30147\"/>\n",
       "     <use style=\"fill:#dd8452;stroke:#333333;\" x=\"256.572474\" xlink:href=\"#mdb3228f51c\" y=\"212.467168\"/>\n",
       "     <use style=\"fill:#dd8452;stroke:#333333;\" x=\"93.50362\" xlink:href=\"#mdb3228f51c\" y=\"66.734504\"/>\n",
       "     <use style=\"fill:#dd8452;stroke:#333333;\" x=\"79.412994\" xlink:href=\"#mdb3228f51c\" y=\"61.78785\"/>\n",
       "     <use style=\"fill:#dd8452;stroke:#333333;\" x=\"123.191141\" xlink:href=\"#mdb3228f51c\" y=\"48.616483\"/>\n",
       "     <use style=\"fill:#dd8452;stroke:#333333;\" x=\"96.488538\" xlink:href=\"#mdb3228f51c\" y=\"51.591563\"/>\n",
       "     <use style=\"fill:#dd8452;stroke:#333333;\" x=\"264.233882\" xlink:href=\"#mdb3228f51c\" y=\"209.982902\"/>\n",
       "     <use style=\"fill:#dd8452;stroke:#333333;\" x=\"216.198134\" xlink:href=\"#mdb3228f51c\" y=\"191.955712\"/>\n",
       "     <use style=\"fill:#dd8452;stroke:#333333;\" x=\"105.002662\" xlink:href=\"#mdb3228f51c\" y=\"44.566278\"/>\n",
       "     <use style=\"fill:#dd8452;stroke:#333333;\" x=\"261.482984\" xlink:href=\"#mdb3228f51c\" y=\"207.56031\"/>\n",
       "    </g>\n",
       "   </g>\n",
       "   <g id=\"patch_3\">\n",
       "    <path d=\"M 59.024844 239.758125 \n",
       "L 59.024844 22.318125 \n",
       "\" style=\"fill:none;stroke:#ffffff;stroke-linecap:square;stroke-linejoin:miter;stroke-width:1.25;\"/>\n",
       "   </g>\n",
       "   <g id=\"patch_4\">\n",
       "    <path d=\"M 282.224844 239.758125 \n",
       "L 282.224844 22.318125 \n",
       "\" style=\"fill:none;stroke:#ffffff;stroke-linecap:square;stroke-linejoin:miter;stroke-width:1.25;\"/>\n",
       "   </g>\n",
       "   <g id=\"patch_5\">\n",
       "    <path d=\"M 59.024844 239.758125 \n",
       "L 282.224844 239.758125 \n",
       "\" style=\"fill:none;stroke:#ffffff;stroke-linecap:square;stroke-linejoin:miter;stroke-width:1.25;\"/>\n",
       "   </g>\n",
       "   <g id=\"patch_6\">\n",
       "    <path d=\"M 59.024844 22.318125 \n",
       "L 282.224844 22.318125 \n",
       "\" style=\"fill:none;stroke:#ffffff;stroke-linecap:square;stroke-linejoin:miter;stroke-width:1.25;\"/>\n",
       "   </g>\n",
       "   <g id=\"text_14\">\n",
       "    <!-- Dataset samples -->\n",
       "    <g style=\"fill:#262626;\" transform=\"translate(120.282031 16.318125)scale(0.12 -0.12)\">\n",
       "     <defs>\n",
       "      <path d=\"M 19.671875 64.796875 \n",
       "L 19.671875 8.109375 \n",
       "L 31.59375 8.109375 \n",
       "Q 46.6875 8.109375 53.6875 14.9375 \n",
       "Q 60.6875 21.78125 60.6875 36.53125 \n",
       "Q 60.6875 51.171875 53.6875 57.984375 \n",
       "Q 46.6875 64.796875 31.59375 64.796875 \n",
       "z\n",
       "M 9.8125 72.90625 \n",
       "L 30.078125 72.90625 \n",
       "Q 51.265625 72.90625 61.171875 64.09375 \n",
       "Q 71.09375 55.28125 71.09375 36.53125 \n",
       "Q 71.09375 17.671875 61.125 8.828125 \n",
       "Q 51.171875 0 30.078125 0 \n",
       "L 9.8125 0 \n",
       "z\n",
       "\" id=\"DejaVuSans-68\"/>\n",
       "      <path d=\"M 34.28125 27.484375 \n",
       "Q 23.390625 27.484375 19.1875 25 \n",
       "Q 14.984375 22.515625 14.984375 16.5 \n",
       "Q 14.984375 11.71875 18.140625 8.90625 \n",
       "Q 21.296875 6.109375 26.703125 6.109375 \n",
       "Q 34.1875 6.109375 38.703125 11.40625 \n",
       "Q 43.21875 16.703125 43.21875 25.484375 \n",
       "L 43.21875 27.484375 \n",
       "z\n",
       "M 52.203125 31.203125 \n",
       "L 52.203125 0 \n",
       "L 43.21875 0 \n",
       "L 43.21875 8.296875 \n",
       "Q 40.140625 3.328125 35.546875 0.953125 \n",
       "Q 30.953125 -1.421875 24.3125 -1.421875 \n",
       "Q 15.921875 -1.421875 10.953125 3.296875 \n",
       "Q 6 8.015625 6 15.921875 \n",
       "Q 6 25.140625 12.171875 29.828125 \n",
       "Q 18.359375 34.515625 30.609375 34.515625 \n",
       "L 43.21875 34.515625 \n",
       "L 43.21875 35.40625 \n",
       "Q 43.21875 41.609375 39.140625 45 \n",
       "Q 35.0625 48.390625 27.6875 48.390625 \n",
       "Q 23 48.390625 18.546875 47.265625 \n",
       "Q 14.109375 46.140625 10.015625 43.890625 \n",
       "L 10.015625 52.203125 \n",
       "Q 14.9375 54.109375 19.578125 55.046875 \n",
       "Q 24.21875 56 28.609375 56 \n",
       "Q 40.484375 56 46.34375 49.84375 \n",
       "Q 52.203125 43.703125 52.203125 31.203125 \n",
       "z\n",
       "\" id=\"DejaVuSans-97\"/>\n",
       "      <path d=\"M 18.3125 70.21875 \n",
       "L 18.3125 54.6875 \n",
       "L 36.8125 54.6875 \n",
       "L 36.8125 47.703125 \n",
       "L 18.3125 47.703125 \n",
       "L 18.3125 18.015625 \n",
       "Q 18.3125 11.328125 20.140625 9.421875 \n",
       "Q 21.96875 7.515625 27.59375 7.515625 \n",
       "L 36.8125 7.515625 \n",
       "L 36.8125 0 \n",
       "L 27.59375 0 \n",
       "Q 17.1875 0 13.234375 3.875 \n",
       "Q 9.28125 7.765625 9.28125 18.015625 \n",
       "L 9.28125 47.703125 \n",
       "L 2.6875 47.703125 \n",
       "L 2.6875 54.6875 \n",
       "L 9.28125 54.6875 \n",
       "L 9.28125 70.21875 \n",
       "z\n",
       "\" id=\"DejaVuSans-116\"/>\n",
       "      <path d=\"M 44.28125 53.078125 \n",
       "L 44.28125 44.578125 \n",
       "Q 40.484375 46.53125 36.375 47.5 \n",
       "Q 32.28125 48.484375 27.875 48.484375 \n",
       "Q 21.1875 48.484375 17.84375 46.4375 \n",
       "Q 14.5 44.390625 14.5 40.28125 \n",
       "Q 14.5 37.15625 16.890625 35.375 \n",
       "Q 19.28125 33.59375 26.515625 31.984375 \n",
       "L 29.59375 31.296875 \n",
       "Q 39.15625 29.25 43.1875 25.515625 \n",
       "Q 47.21875 21.78125 47.21875 15.09375 \n",
       "Q 47.21875 7.46875 41.1875 3.015625 \n",
       "Q 35.15625 -1.421875 24.609375 -1.421875 \n",
       "Q 20.21875 -1.421875 15.453125 -0.5625 \n",
       "Q 10.6875 0.296875 5.421875 2 \n",
       "L 5.421875 11.28125 \n",
       "Q 10.40625 8.6875 15.234375 7.390625 \n",
       "Q 20.0625 6.109375 24.8125 6.109375 \n",
       "Q 31.15625 6.109375 34.5625 8.28125 \n",
       "Q 37.984375 10.453125 37.984375 14.40625 \n",
       "Q 37.984375 18.0625 35.515625 20.015625 \n",
       "Q 33.0625 21.96875 24.703125 23.78125 \n",
       "L 21.578125 24.515625 \n",
       "Q 13.234375 26.265625 9.515625 29.90625 \n",
       "Q 5.8125 33.546875 5.8125 39.890625 \n",
       "Q 5.8125 47.609375 11.28125 51.796875 \n",
       "Q 16.75 56 26.8125 56 \n",
       "Q 31.78125 56 36.171875 55.265625 \n",
       "Q 40.578125 54.546875 44.28125 53.078125 \n",
       "z\n",
       "\" id=\"DejaVuSans-115\"/>\n",
       "      <path d=\"M 56.203125 29.59375 \n",
       "L 56.203125 25.203125 \n",
       "L 14.890625 25.203125 \n",
       "Q 15.484375 15.921875 20.484375 11.0625 \n",
       "Q 25.484375 6.203125 34.421875 6.203125 \n",
       "Q 39.59375 6.203125 44.453125 7.46875 \n",
       "Q 49.3125 8.734375 54.109375 11.28125 \n",
       "L 54.109375 2.78125 \n",
       "Q 49.265625 0.734375 44.1875 -0.34375 \n",
       "Q 39.109375 -1.421875 33.890625 -1.421875 \n",
       "Q 20.796875 -1.421875 13.15625 6.1875 \n",
       "Q 5.515625 13.8125 5.515625 26.8125 \n",
       "Q 5.515625 40.234375 12.765625 48.109375 \n",
       "Q 20.015625 56 32.328125 56 \n",
       "Q 43.359375 56 49.78125 48.890625 \n",
       "Q 56.203125 41.796875 56.203125 29.59375 \n",
       "z\n",
       "M 47.21875 32.234375 \n",
       "Q 47.125 39.59375 43.09375 43.984375 \n",
       "Q 39.0625 48.390625 32.421875 48.390625 \n",
       "Q 24.90625 48.390625 20.390625 44.140625 \n",
       "Q 15.875 39.890625 15.1875 32.171875 \n",
       "z\n",
       "\" id=\"DejaVuSans-101\"/>\n",
       "      <path id=\"DejaVuSans-32\"/>\n",
       "      <path d=\"M 52 44.1875 \n",
       "Q 55.375 50.25 60.0625 53.125 \n",
       "Q 64.75 56 71.09375 56 \n",
       "Q 79.640625 56 84.28125 50.015625 \n",
       "Q 88.921875 44.046875 88.921875 33.015625 \n",
       "L 88.921875 0 \n",
       "L 79.890625 0 \n",
       "L 79.890625 32.71875 \n",
       "Q 79.890625 40.578125 77.09375 44.375 \n",
       "Q 74.3125 48.1875 68.609375 48.1875 \n",
       "Q 61.625 48.1875 57.5625 43.546875 \n",
       "Q 53.515625 38.921875 53.515625 30.90625 \n",
       "L 53.515625 0 \n",
       "L 44.484375 0 \n",
       "L 44.484375 32.71875 \n",
       "Q 44.484375 40.625 41.703125 44.40625 \n",
       "Q 38.921875 48.1875 33.109375 48.1875 \n",
       "Q 26.21875 48.1875 22.15625 43.53125 \n",
       "Q 18.109375 38.875 18.109375 30.90625 \n",
       "L 18.109375 0 \n",
       "L 9.078125 0 \n",
       "L 9.078125 54.6875 \n",
       "L 18.109375 54.6875 \n",
       "L 18.109375 46.1875 \n",
       "Q 21.1875 51.21875 25.484375 53.609375 \n",
       "Q 29.78125 56 35.6875 56 \n",
       "Q 41.65625 56 45.828125 52.96875 \n",
       "Q 50 49.953125 52 44.1875 \n",
       "z\n",
       "\" id=\"DejaVuSans-109\"/>\n",
       "      <path d=\"M 18.109375 8.203125 \n",
       "L 18.109375 -20.796875 \n",
       "L 9.078125 -20.796875 \n",
       "L 9.078125 54.6875 \n",
       "L 18.109375 54.6875 \n",
       "L 18.109375 46.390625 \n",
       "Q 20.953125 51.265625 25.265625 53.625 \n",
       "Q 29.59375 56 35.59375 56 \n",
       "Q 45.5625 56 51.78125 48.09375 \n",
       "Q 58.015625 40.1875 58.015625 27.296875 \n",
       "Q 58.015625 14.40625 51.78125 6.484375 \n",
       "Q 45.5625 -1.421875 35.59375 -1.421875 \n",
       "Q 29.59375 -1.421875 25.265625 0.953125 \n",
       "Q 20.953125 3.328125 18.109375 8.203125 \n",
       "z\n",
       "M 48.6875 27.296875 \n",
       "Q 48.6875 37.203125 44.609375 42.84375 \n",
       "Q 40.53125 48.484375 33.40625 48.484375 \n",
       "Q 26.265625 48.484375 22.1875 42.84375 \n",
       "Q 18.109375 37.203125 18.109375 27.296875 \n",
       "Q 18.109375 17.390625 22.1875 11.75 \n",
       "Q 26.265625 6.109375 33.40625 6.109375 \n",
       "Q 40.53125 6.109375 44.609375 11.75 \n",
       "Q 48.6875 17.390625 48.6875 27.296875 \n",
       "z\n",
       "\" id=\"DejaVuSans-112\"/>\n",
       "      <path d=\"M 9.421875 75.984375 \n",
       "L 18.40625 75.984375 \n",
       "L 18.40625 0 \n",
       "L 9.421875 0 \n",
       "z\n",
       "\" id=\"DejaVuSans-108\"/>\n",
       "     </defs>\n",
       "     <use xlink:href=\"#DejaVuSans-68\"/>\n",
       "     <use x=\"77.001953\" xlink:href=\"#DejaVuSans-97\"/>\n",
       "     <use x=\"138.28125\" xlink:href=\"#DejaVuSans-116\"/>\n",
       "     <use x=\"177.490234\" xlink:href=\"#DejaVuSans-97\"/>\n",
       "     <use x=\"238.769531\" xlink:href=\"#DejaVuSans-115\"/>\n",
       "     <use x=\"290.869141\" xlink:href=\"#DejaVuSans-101\"/>\n",
       "     <use x=\"352.392578\" xlink:href=\"#DejaVuSans-116\"/>\n",
       "     <use x=\"391.601562\" xlink:href=\"#DejaVuSans-32\"/>\n",
       "     <use x=\"423.388672\" xlink:href=\"#DejaVuSans-115\"/>\n",
       "     <use x=\"475.488281\" xlink:href=\"#DejaVuSans-97\"/>\n",
       "     <use x=\"536.767578\" xlink:href=\"#DejaVuSans-109\"/>\n",
       "     <use x=\"634.179688\" xlink:href=\"#DejaVuSans-112\"/>\n",
       "     <use x=\"697.65625\" xlink:href=\"#DejaVuSans-108\"/>\n",
       "     <use x=\"725.439453\" xlink:href=\"#DejaVuSans-101\"/>\n",
       "     <use x=\"786.962891\" xlink:href=\"#DejaVuSans-115\"/>\n",
       "    </g>\n",
       "   </g>\n",
       "   <g id=\"legend_1\">\n",
       "    <g id=\"patch_7\">\n",
       "     <path d=\"M 199.891562 148.834063 \n",
       "L 274.524844 148.834063 \n",
       "Q 276.724844 148.834063 276.724844 146.634063 \n",
       "L 276.724844 115.442187 \n",
       "Q 276.724844 113.242188 274.524844 113.242188 \n",
       "L 199.891562 113.242188 \n",
       "Q 197.691562 113.242188 197.691562 115.442187 \n",
       "L 197.691562 146.634063 \n",
       "Q 197.691562 148.834063 199.891562 148.834063 \n",
       "z\n",
       "\" style=\"fill:#eaeaf2;opacity:0.8;stroke:#cccccc;stroke-linejoin:miter;\"/>\n",
       "    </g>\n",
       "    <g id=\"PathCollection_3\">\n",
       "     <g>\n",
       "      <use style=\"fill:#4c72b0;stroke:#333333;\" x=\"213.091562\" xlink:href=\"#mbf6b692b43\" y=\"123.112969\"/>\n",
       "     </g>\n",
       "    </g>\n",
       "    <g id=\"text_15\">\n",
       "     <!-- Class 0 -->\n",
       "     <g style=\"fill:#262626;\" transform=\"translate(232.891562 126.000469)scale(0.11 -0.11)\">\n",
       "      <defs>\n",
       "       <path d=\"M 64.40625 67.28125 \n",
       "L 64.40625 56.890625 \n",
       "Q 59.421875 61.53125 53.78125 63.8125 \n",
       "Q 48.140625 66.109375 41.796875 66.109375 \n",
       "Q 29.296875 66.109375 22.65625 58.46875 \n",
       "Q 16.015625 50.828125 16.015625 36.375 \n",
       "Q 16.015625 21.96875 22.65625 14.328125 \n",
       "Q 29.296875 6.6875 41.796875 6.6875 \n",
       "Q 48.140625 6.6875 53.78125 8.984375 \n",
       "Q 59.421875 11.28125 64.40625 15.921875 \n",
       "L 64.40625 5.609375 \n",
       "Q 59.234375 2.09375 53.4375 0.328125 \n",
       "Q 47.65625 -1.421875 41.21875 -1.421875 \n",
       "Q 24.65625 -1.421875 15.125 8.703125 \n",
       "Q 5.609375 18.84375 5.609375 36.375 \n",
       "Q 5.609375 53.953125 15.125 64.078125 \n",
       "Q 24.65625 74.21875 41.21875 74.21875 \n",
       "Q 47.75 74.21875 53.53125 72.484375 \n",
       "Q 59.328125 70.75 64.40625 67.28125 \n",
       "z\n",
       "\" id=\"DejaVuSans-67\"/>\n",
       "      </defs>\n",
       "      <use xlink:href=\"#DejaVuSans-67\"/>\n",
       "      <use x=\"69.824219\" xlink:href=\"#DejaVuSans-108\"/>\n",
       "      <use x=\"97.607422\" xlink:href=\"#DejaVuSans-97\"/>\n",
       "      <use x=\"158.886719\" xlink:href=\"#DejaVuSans-115\"/>\n",
       "      <use x=\"210.986328\" xlink:href=\"#DejaVuSans-115\"/>\n",
       "      <use x=\"263.085938\" xlink:href=\"#DejaVuSans-32\"/>\n",
       "      <use x=\"294.873047\" xlink:href=\"#DejaVuSans-48\"/>\n",
       "     </g>\n",
       "    </g>\n",
       "    <g id=\"PathCollection_4\">\n",
       "     <g>\n",
       "      <use style=\"fill:#dd8452;stroke:#333333;\" x=\"213.091562\" xlink:href=\"#mdb3228f51c\" y=\"139.258906\"/>\n",
       "     </g>\n",
       "    </g>\n",
       "    <g id=\"text_16\">\n",
       "     <!-- Class 1 -->\n",
       "     <g style=\"fill:#262626;\" transform=\"translate(232.891562 142.146406)scale(0.11 -0.11)\">\n",
       "      <use xlink:href=\"#DejaVuSans-67\"/>\n",
       "      <use x=\"69.824219\" xlink:href=\"#DejaVuSans-108\"/>\n",
       "      <use x=\"97.607422\" xlink:href=\"#DejaVuSans-97\"/>\n",
       "      <use x=\"158.886719\" xlink:href=\"#DejaVuSans-115\"/>\n",
       "      <use x=\"210.986328\" xlink:href=\"#DejaVuSans-115\"/>\n",
       "      <use x=\"263.085938\" xlink:href=\"#DejaVuSans-32\"/>\n",
       "      <use x=\"294.873047\" xlink:href=\"#DejaVuSans-49\"/>\n",
       "     </g>\n",
       "    </g>\n",
       "   </g>\n",
       "  </g>\n",
       " </g>\n",
       " <defs>\n",
       "  <clipPath id=\"p35d18f9bb0\">\n",
       "   <rect height=\"217.44\" width=\"223.2\" x=\"59.024844\" y=\"22.318125\"/>\n",
       "  </clipPath>\n",
       " </defs>\n",
       "</svg>\n"
      ],
      "text/plain": [
       "<Figure size 288x288 with 1 Axes>"
      ]
     },
     "metadata": {},
     "output_type": "display_data"
    }
   ],
   "source": [
    "visualize_samples(dataset.data, dataset.label)\n",
    "plt.show()"
   ]
  },
  {
   "cell_type": "markdown",
   "metadata": {},
   "source": [
    "#### The data loader class\n",
    "\n",
    "The class `torch.utils.data.DataLoader` represents a Python iterable over a dataset with support for automatic batching, multi-process data loading and many more features. The data loader communicates with the dataset using the function `__getitem__`, and stacks its outputs as tensors over the first dimension to form a batch.\n",
    "In contrast to the dataset class, we usually don't have to define our own data loader class, but can just create an object of it with the dataset as input. Additionally, we can configure our data loader with the following input arguments (only a selection, see full list [here](https://pytorch.org/docs/stable/data.html#torch.utils.data.DataLoader)):\n",
    "\n",
    "* `batch_size`: Number of samples to stack per batch\n",
    "* `shuffle`: If True, the data is returned in a random order. This is important during training for introducing stochasticity. \n",
    "* `num_workers`: Number of subprocesses to use for data loading. The default, 0, means that the data will be loaded in the main process which can slow down training for datasets where loading a data point takes a considerable amount of time (e.g. large images). More workers are recommended for those, but can cause issues on Windows computers. For tiny datasets as ours, 0 workers are usually faster.\n",
    "* `pin_memory`: If True, the data loader will copy Tensors into CUDA pinned memory before returning them. This can save some time for large data points on GPUs. Usually a good practice to use for a training set, but not necessarily for validation and test to save memory on the GPU.\n",
    "* `drop_last`: If True, the last batch is dropped in case it is smaller than the specified batch size. This occurs when the dataset size is not a multiple of the batch size. Only potentially helpful during training to keep a consistent batch size.\n",
    "\n",
    "Let's create a simple data loader below:"
   ]
  },
  {
   "cell_type": "code",
   "execution_count": 45,
   "metadata": {},
   "outputs": [],
   "source": [
    "data_loader = data.DataLoader(dataset, batch_size=8, shuffle=True)"
   ]
  },
  {
   "cell_type": "code",
   "execution_count": 46,
   "metadata": {},
   "outputs": [
    {
     "name": "stdout",
     "output_type": "stream",
     "text": [
      "Data inputs torch.Size([8, 2]) \n",
      " tensor([[-0.0890,  0.8608],\n",
      "        [ 1.0905, -0.0128],\n",
      "        [ 0.7967,  0.2268],\n",
      "        [-0.0688,  0.0371],\n",
      "        [ 0.8732, -0.2240],\n",
      "        [-0.0559, -0.0282],\n",
      "        [ 0.9277,  0.0978],\n",
      "        [ 1.0150,  0.9689]])\n",
      "Data labels torch.Size([8]) \n",
      " tensor([1, 1, 1, 0, 1, 0, 1, 0])\n"
     ]
    }
   ],
   "source": [
    "# next(iter(...)) catches the first batch of the data loader\n",
    "# If shuffle is True, this will return a different batch every time we run this cell\n",
    "# For iterating over the whole dataset, we can simple use \"for batch in data_loader: ...\"\n",
    "data_inputs, data_labels = next(iter(data_loader))\n",
    "\n",
    "# The shape of the outputs are [batch_size, d_1,...,d_N] where d_1,...,d_N are the \n",
    "# dimensions of the data point returned from the dataset class\n",
    "print(\"Data inputs\", data_inputs.shape, \"\\n\", data_inputs)\n",
    "print(\"Data labels\", data_labels.shape, \"\\n\", data_labels)"
   ]
  },
  {
   "cell_type": "markdown",
   "metadata": {},
   "source": [
    "### Optimization\n",
    "\n",
    "After defining the model and the dataset, it is time to prepare the optimization of the model. During training, we will perform the following steps:\n",
    "\n",
    "1. Get a batch from the data loader\n",
    "2. Obtain the predictions from the model for the batch\n",
    "3. Calculate the loss based on the difference between predictions and labels\n",
    "4. Backpropagation: calculate the gradients for every parameter with respect to the loss\n",
    "5. Update the parameters of the model in the direction of the gradients\n",
    "\n",
    "We have seen how we can do step 1, 2 and 4 in PyTorch. Now, we will look at step 3 and 5."
   ]
  },
  {
   "cell_type": "markdown",
   "metadata": {},
   "source": [
    "#### Loss modules\n",
    "\n",
    "We can calculate the loss for a batch by simply performing a few tensor operations as those are automatically added to the computation graph. For instance, for binary classification, we can use Binary Cross Entropy (BCE) which is defined as follows:\n",
    "\n",
    "$$\\mathcal{L}_{BCE} = -\\sum_i \\left[ y_i \\log x_i + (1 - y_i) \\log (1 - x_i) \\right]$$\n",
    "\n",
    "where $y$ are our labels, and $x$ our predictions, both in the range of $[0,1]$. However, PyTorch already provides a list of predefined loss functions which we can use (see [here](https://pytorch.org/docs/stable/nn.html#loss-functions) for a full list). For instance, for BCE, PyTorch has two modules: `nn.BCELoss()`, `nn.BCEWithLogitsLoss()`. While `nn.BCELoss` expects the inputs $x$ to be in the range $[0,1]$, i.e. the output of a sigmoid, `nn.BCEWithLogitsLoss` combines a sigmoid layer and the BCE loss in a single class. This version is numerically more stable than using a plain Sigmoid followed by a BCE loss because of the logarithms applied in the loss function. Hence, it is adviced to use loss functions applied on \"logits\" where possible (remember to not apply a sigmoid on the output of the model in this case!). For our model defined above, we therefore use the module `nn.BCEWithLogitsLoss`. "
   ]
  },
  {
   "cell_type": "code",
   "execution_count": 47,
   "metadata": {},
   "outputs": [],
   "source": [
    "loss_module = nn.BCEWithLogitsLoss()"
   ]
  },
  {
   "cell_type": "markdown",
   "metadata": {},
   "source": [
    "#### Stochastic Gradient Descent\n",
    "\n",
    "For updating the parameters, PyTorch provides the package `torch.optim` that has most popular optimizers implemented. We will discuss the specific optimizers and their differences later in the course, but will for now use the simplest of them: `torch.optim.SGD`. Stochastic Gradient Descent updates parameters by multiplying the gradients with a small constant, called learning rate, and subtracting those from the parameters (hence minimizing the loss). Therefore, we slowly move towards the direction of minimizing the loss. A good default value of the learning rate for a small network as ours is 0.1. "
   ]
  },
  {
   "cell_type": "code",
   "execution_count": 48,
   "metadata": {},
   "outputs": [],
   "source": [
    "# Input to the optimizer are the parameters of the model: model.parameters()\n",
    "optimizer = torch.optim.SGD(model.parameters(), lr=0.1)"
   ]
  },
  {
   "cell_type": "markdown",
   "metadata": {},
   "source": [
    "The optimizer provides two useful functions: `optimizer.step()`, and `optimizer.zero_grad()`. The step function updates the parameters based on the gradients as explained above. The function `optimizer.zero_grad()` sets the gradients of all parameters to zero. While this function seems less relevant at first, it is a crucial pre-step before performing backpropagation. If we call the `backward` function on the loss while the parameter gradients are non-zero from the previous batch, the new gradients would actually be added to the previous ones instead of overwriting them. This is done because a parameter might occur multiple times in a computation graph, and we need to sum the gradients in this case instead of replacing them. Hence, remember to call `optimizer.zero_grad()` before calculating the gradients of a batch."
   ]
  },
  {
   "cell_type": "markdown",
   "metadata": {},
   "source": [
    "### Training\n",
    "\n",
    "Finally, we are ready to train our model. As a first step, we create a slightly larger dataset and specify a data loader with a larger batch size. "
   ]
  },
  {
   "cell_type": "code",
   "execution_count": 49,
   "metadata": {},
   "outputs": [],
   "source": [
    "train_dataset = XORDataset(size=2500)\n",
    "train_data_loader = data.DataLoader(train_dataset, batch_size=128, shuffle=True)"
   ]
  },
  {
   "cell_type": "markdown",
   "metadata": {},
   "source": [
    "Now, we can write a small training function. Remember our five steps: load a batch, obtain the predictions, calculate the loss, backpropagate, and update. Additionally, we have to push all data and model parameters to the device of our choice (GPU if available). For the tiny neural network we have, communicating the data to the GPU actually takes much more time than we could save from running the operation on GPU. For large networks, the communication time is significantly smaller than the actual runtime making a GPU crucial in these cases. Still, to practice, we will push the data to GPU here. "
   ]
  },
  {
   "cell_type": "code",
   "execution_count": 50,
   "metadata": {},
   "outputs": [
    {
     "data": {
      "text/plain": [
       "SimpleClassifier(\n",
       "  (linear1): Linear(in_features=2, out_features=4, bias=True)\n",
       "  (act_fn): Tanh()\n",
       "  (linear2): Linear(in_features=4, out_features=1, bias=True)\n",
       ")"
      ]
     },
     "execution_count": 50,
     "metadata": {},
     "output_type": "execute_result"
    }
   ],
   "source": [
    "# Push model to device. Has to be only done once\n",
    "model.to(device)"
   ]
  },
  {
   "cell_type": "markdown",
   "metadata": {},
   "source": [
    "In addition, we set our model to training mode. This is done by calling `model.train()`. There exist certain modules that need to perform a different forward step during training than during testing (e.g. BatchNorm and Dropout), and we can switch between them using `model.train()` and `model.eval()`."
   ]
  },
  {
   "cell_type": "code",
   "execution_count": 51,
   "metadata": {},
   "outputs": [],
   "source": [
    "def train_model(model, optimizer, data_loader, loss_module, num_epochs=100):\n",
    "    # Set model to train mode\n",
    "    model.train() \n",
    "    \n",
    "    # Training loop\n",
    "    for epoch in tqdm(range(num_epochs)):\n",
    "        for data_inputs, data_labels in data_loader:\n",
    "            \n",
    "            ## Step 1: Move input data to device (only strictly necessary if we use GPU)\n",
    "            data_inputs = data_inputs.to(device)\n",
    "            data_labels = data_labels.to(device)\n",
    "            \n",
    "            ## Step 2: Run the model on the input data\n",
    "            preds = model(data_inputs)\n",
    "            preds = preds.squeeze(dim=1) # Output is [Batch size, 1], but we want [Batch size]\n",
    "            \n",
    "            ## Step 3: Calculate the loss\n",
    "            loss = loss_module(preds, data_labels.float())\n",
    "            \n",
    "            ## Step 4: Perform backpropagation\n",
    "            # Before calculating the gradients, we need to ensure that they are all zero. \n",
    "            # The gradients would not be overwritten, but actually added to the existing ones.\n",
    "            optimizer.zero_grad() \n",
    "            # Perform backpropagation\n",
    "            loss.backward()\n",
    "            \n",
    "            ## Step 5: Update the parameters\n",
    "            optimizer.step()"
   ]
  },
  {
   "cell_type": "code",
   "execution_count": 52,
   "metadata": {},
   "outputs": [
    {
     "data": {
      "application/vnd.jupyter.widget-view+json": {
       "model_id": "0c981b6159ea4efda9227d7aeef11afa",
       "version_major": 2,
       "version_minor": 0
      },
      "text/plain": [
       "  0%|          | 0/100 [00:00<?, ?it/s]"
      ]
     },
     "metadata": {},
     "output_type": "display_data"
    }
   ],
   "source": [
    "train_model(model, optimizer, train_data_loader, loss_module)"
   ]
  },
  {
   "cell_type": "markdown",
   "metadata": {},
   "source": [
    "#### Saving a model\n",
    "\n",
    "After finish training a model, we save the model to disk so that we can load the same weights at a later time. For this, we extract the so-called `state_dict` from the model which contains all learnable parameters. For our simple model, the state dict contains the following entries:"
   ]
  },
  {
   "cell_type": "code",
   "execution_count": 53,
   "metadata": {},
   "outputs": [
    {
     "name": "stdout",
     "output_type": "stream",
     "text": [
      "OrderedDict([('linear1.weight', tensor([[-2.6034, -3.3293],\n",
      "        [ 1.9773, -2.4074],\n",
      "        [-2.5968, -1.5909],\n",
      "        [-0.5714, -0.8096]], device='cuda:0')), ('linear1.bias', tensor([ 1.4459, -1.3992,  2.9883, -0.1376], device='cuda:0')), ('linear2.weight', tensor([[-4.4624,  3.0882,  4.4031, -0.1372]], device='cuda:0')), ('linear2.bias', tensor([-1.6854], device='cuda:0'))])\n"
     ]
    }
   ],
   "source": [
    "state_dict = model.state_dict()\n",
    "print(state_dict)"
   ]
  },
  {
   "cell_type": "markdown",
   "metadata": {},
   "source": [
    "To save the state dictionary, we can use `torch.save`:"
   ]
  },
  {
   "cell_type": "code",
   "execution_count": 54,
   "metadata": {},
   "outputs": [],
   "source": [
    "# torch.save(object, filename). For the filename, any extension can be used\n",
    "torch.save(state_dict, \"our_model.tar\")"
   ]
  },
  {
   "cell_type": "markdown",
   "metadata": {},
   "source": [
    "To load a model from a state dict, we use the function `torch.load` to load the state dict from the disk, and the module function `load_state_dict` to overwrite our parameters with the new values:"
   ]
  },
  {
   "cell_type": "code",
   "execution_count": 55,
   "metadata": {},
   "outputs": [
    {
     "name": "stdout",
     "output_type": "stream",
     "text": [
      "Original model\n",
      " OrderedDict([('linear1.weight', tensor([[-2.6034, -3.3293],\n",
      "        [ 1.9773, -2.4074],\n",
      "        [-2.5968, -1.5909],\n",
      "        [-0.5714, -0.8096]], device='cuda:0')), ('linear1.bias', tensor([ 1.4459, -1.3992,  2.9883, -0.1376], device='cuda:0')), ('linear2.weight', tensor([[-4.4624,  3.0882,  4.4031, -0.1372]], device='cuda:0')), ('linear2.bias', tensor([-1.6854], device='cuda:0'))])\n",
      "\n",
      "Loaded model\n",
      " OrderedDict([('linear1.weight', tensor([[-2.6034, -3.3293],\n",
      "        [ 1.9773, -2.4074],\n",
      "        [-2.5968, -1.5909],\n",
      "        [-0.5714, -0.8096]])), ('linear1.bias', tensor([ 1.4459, -1.3992,  2.9883, -0.1376])), ('linear2.weight', tensor([[-4.4624,  3.0882,  4.4031, -0.1372]])), ('linear2.bias', tensor([-1.6854]))])\n"
     ]
    }
   ],
   "source": [
    "# Load state dict from the disk (make sure it is the same name as above)\n",
    "state_dict = torch.load(\"our_model.tar\")\n",
    "\n",
    "# Create a new model and load the state\n",
    "new_model = SimpleClassifier(num_inputs=2, num_hidden=4, num_outputs=1)\n",
    "new_model.load_state_dict(state_dict)\n",
    "\n",
    "# Verify that the parameters are the same\n",
    "print(\"Original model\\n\", model.state_dict())\n",
    "print(\"\\nLoaded model\\n\", new_model.state_dict())"
   ]
  },
  {
   "cell_type": "markdown",
   "metadata": {},
   "source": [
    "A detailed tutorial on saving and loading models in PyTorch can be found [here](https://pytorch.org/tutorials/beginner/saving_loading_models.html)."
   ]
  },
  {
   "cell_type": "markdown",
   "metadata": {},
   "source": [
    "### Evaluation\n",
    "\n",
    "Once we have trained a model, it is time to evaluate it on a held-out test set. As our dataset consist of randomly generated data points, we need to first create a test set with a corresponding data loader."
   ]
  },
  {
   "cell_type": "code",
   "execution_count": 56,
   "metadata": {},
   "outputs": [],
   "source": [
    "test_dataset = XORDataset(size=500)\n",
    "# drop_last -> Don't drop the last batch although it is smaller than 128\n",
    "test_data_loader = data.DataLoader(test_dataset, batch_size=128, shuffle=False, drop_last=False) "
   ]
  },
  {
   "cell_type": "markdown",
   "metadata": {},
   "source": [
    "As metric, we will use accuracy which is calculated as follows:\n",
    "\n",
    "$$acc = \\frac{\\#\\text{correct predictions}}{\\#\\text{all predictions}} = \\frac{TP+TN}{TP+TN+FP+FN}$$\n",
    "\n",
    "where TP are the true positives, TN true negatives, FP false positives, and FN the fale negatives. \n",
    "\n",
    "When evaluating the model, we don't need to keep track of the computation graph as we don't intend to calculate the gradients. This reduces the required memory and speed up the model. In PyTorch, we can deactivate the computation graph using `with torch.no_grad(): ...`. Remember to additionally set the model to eval mode."
   ]
  },
  {
   "cell_type": "code",
   "execution_count": 57,
   "metadata": {},
   "outputs": [],
   "source": [
    "def eval_model(model, data_loader):\n",
    "    model.eval() # Set model to eval mode\n",
    "    true_preds, num_preds = 0., 0.\n",
    "    \n",
    "    with torch.no_grad(): # Deactivate gradients for the following code\n",
    "        for data_inputs, data_labels in data_loader:\n",
    "            \n",
    "            # Determine prediction of model on dev set\n",
    "            data_inputs, data_labels = data_inputs.to(device), data_labels.to(device)\n",
    "            preds = model(data_inputs)\n",
    "            preds = preds.squeeze(dim=1)\n",
    "            preds = torch.sigmoid(preds) # Sigmoid to map predictions between 0 and 1\n",
    "            pred_labels = (preds >= 0.5).long() # Binarize predictions to 0 and 1\n",
    "            \n",
    "            # Keep records of predictions for the accuracy metric (true_preds=TP+TN, num_preds=TP+TN+FP+FN)\n",
    "            true_preds += (pred_labels == data_labels).sum()\n",
    "            num_preds += data_labels.shape[0]\n",
    "            \n",
    "    acc = true_preds / num_preds\n",
    "    print(f\"Accuracy of the model: {100.0*acc:4.2f}%\")"
   ]
  },
  {
   "cell_type": "code",
   "execution_count": 58,
   "metadata": {},
   "outputs": [
    {
     "name": "stdout",
     "output_type": "stream",
     "text": [
      "Accuracy of the model: 100.00%\n"
     ]
    }
   ],
   "source": [
    "eval_model(model, test_data_loader)"
   ]
  },
  {
   "cell_type": "markdown",
   "metadata": {},
   "source": [
    "If we trained our model correctly, we should see a score close to 100% accuracy. However, this is only possible because of our simple task, and unfortunately, we usually don't get such high scores on test sets of more complex tasks."
   ]
  },
  {
   "cell_type": "markdown",
   "metadata": {},
   "source": [
    "#### Visualizing classification boundaries\n",
    "\n",
    "To visualize what our model has learned, we can perform a prediction for every data point in a range of $[-0.5, 1.5]$, and visualize the predicted class as in the sample figure at the beginning of this section. This shows where the model has created decision boundaries, and which points would be classified as $0$, and which as $1$. We therefore get a background image out of blue (class 0) and orange (class 1). The spots where the model is uncertain we will see a blurry overlap. The specific code is less relevant compared to the output figure which should hopefully show us a clear separation of classes:"
   ]
  },
  {
   "cell_type": "code",
   "execution_count": 59,
   "metadata": {},
   "outputs": [
    {
     "data": {
      "application/pdf": "[encoded data removed]",
      "image/svg+xml": [
       "<?xml version=\"1.0\" encoding=\"utf-8\" standalone=\"no\"?>\n",
       "<!DOCTYPE svg PUBLIC \"-//W3C//DTD SVG 1.1//EN\"\n",
       "  \"http://www.w3.org/Graphics/SVG/1.1/DTD/svg11.dtd\">\n",
       "<!-- Created with matplotlib (https://matplotlib.org/) -->\n",
       "<svg height=\"282.717813pt\" version=\"1.1\" viewBox=\"0 0 299.410312 282.717813\" width=\"299.410312pt\" xmlns=\"http://www.w3.org/2000/svg\" xmlns:xlink=\"http://www.w3.org/1999/xlink\">\n",
       " <metadata>\n",
       "  <rdf:RDF xmlns:cc=\"http://creativecommons.org/ns#\" xmlns:dc=\"http://purl.org/dc/elements/1.1/\" xmlns:rdf=\"http://www.w3.org/1999/02/22-rdf-syntax-ns#\">\n",
       "   <cc:Work>\n",
       "    <dc:type rdf:resource=\"http://purl.org/dc/dcmitype/StillImage\"/>\n",
       "    <dc:date>2021-10-22T11:30:31.370687</dc:date>\n",
       "    <dc:format>image/svg+xml</dc:format>\n",
       "    <dc:creator>\n",
       "     <cc:Agent>\n",
       "      <dc:title>Matplotlib v3.3.4, https://matplotlib.org/</dc:title>\n",
       "     </cc:Agent>\n",
       "    </dc:creator>\n",
       "   </cc:Work>\n",
       "  </rdf:RDF>\n",
       " </metadata>\n",
       " <defs>\n",
       "  <style type=\"text/css\">*{stroke-linecap:butt;stroke-linejoin:round;}</style>\n",
       " </defs>\n",
       " <g id=\"figure_1\">\n",
       "  <g id=\"patch_1\">\n",
       "   <path d=\"M 0 282.717813 \n",
       "L 299.410312 282.717813 \n",
       "L 299.410312 0 \n",
       "L 0 0 \n",
       "z\n",
       "\" style=\"fill:#ffffff;\"/>\n",
       "  </g>\n",
       "  <g id=\"axes_1\">\n",
       "   <g id=\"patch_2\">\n",
       "    <path d=\"M 66.023594 239.758125 \n",
       "L 283.463594 239.758125 \n",
       "L 283.463594 22.318125 \n",
       "L 66.023594 22.318125 \n",
       "z\n",
       "\" style=\"fill:#eaeaf2;\"/>\n",
       "   </g>\n",
       "   <g clip-path=\"url(#pe8982c0c32)\">\n",
       "    <image height=\"218\" id=\"imagebf939f5a45\" transform=\"scale(1 -1)translate(0 -218)\" width=\"218\" x=\"66.023594\" xlink:href=\"data:image/png;base64,\n",
       "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\" y=\"-21.758125\"/>\n",
       "   </g>\n",
       "   <g id=\"matplotlib.axis_1\">\n",
       "    <g id=\"xtick_1\">\n",
       "     <g id=\"text_1\">\n",
       "      <!-- −0.5 -->\n",
       "      <g style=\"fill:#262626;\" transform=\"translate(52.668047 257.616406)scale(0.11 -0.11)\">\n",
       "       <defs>\n",
       "        <path d=\"M 10.59375 35.5 \n",
       "L 73.1875 35.5 \n",
       "L 73.1875 27.203125 \n",
       "L 10.59375 27.203125 \n",
       "z\n",
       "\" id=\"DejaVuSans-8722\"/>\n",
       "        <path d=\"M 31.78125 66.40625 \n",
       "Q 24.171875 66.40625 20.328125 58.90625 \n",
       "Q 16.5 51.421875 16.5 36.375 \n",
       "Q 16.5 21.390625 20.328125 13.890625 \n",
       "Q 24.171875 6.390625 31.78125 6.390625 \n",
       "Q 39.453125 6.390625 43.28125 13.890625 \n",
       "Q 47.125 21.390625 47.125 36.375 \n",
       "Q 47.125 51.421875 43.28125 58.90625 \n",
       "Q 39.453125 66.40625 31.78125 66.40625 \n",
       "z\n",
       "M 31.78125 74.21875 \n",
       "Q 44.046875 74.21875 50.515625 64.515625 \n",
       "Q 56.984375 54.828125 56.984375 36.375 \n",
       "Q 56.984375 17.96875 50.515625 8.265625 \n",
       "Q 44.046875 -1.421875 31.78125 -1.421875 \n",
       "Q 19.53125 -1.421875 13.0625 8.265625 \n",
       "Q 6.59375 17.96875 6.59375 36.375 \n",
       "Q 6.59375 54.828125 13.0625 64.515625 \n",
       "Q 19.53125 74.21875 31.78125 74.21875 \n",
       "z\n",
       "\" id=\"DejaVuSans-48\"/>\n",
       "        <path d=\"M 10.6875 12.40625 \n",
       "L 21 12.40625 \n",
       "L 21 0 \n",
       "L 10.6875 0 \n",
       "z\n",
       "\" id=\"DejaVuSans-46\"/>\n",
       "        <path d=\"M 10.796875 72.90625 \n",
       "L 49.515625 72.90625 \n",
       "L 49.515625 64.59375 \n",
       "L 19.828125 64.59375 \n",
       "L 19.828125 46.734375 \n",
       "Q 21.96875 47.46875 24.109375 47.828125 \n",
       "Q 26.265625 48.1875 28.421875 48.1875 \n",
       "Q 40.625 48.1875 47.75 41.5 \n",
       "Q 54.890625 34.8125 54.890625 23.390625 \n",
       "Q 54.890625 11.625 47.5625 5.09375 \n",
       "Q 40.234375 -1.421875 26.90625 -1.421875 \n",
       "Q 22.3125 -1.421875 17.546875 -0.640625 \n",
       "Q 12.796875 0.140625 7.71875 1.703125 \n",
       "L 7.71875 11.625 \n",
       "Q 12.109375 9.234375 16.796875 8.0625 \n",
       "Q 21.484375 6.890625 26.703125 6.890625 \n",
       "Q 35.15625 6.890625 40.078125 11.328125 \n",
       "Q 45.015625 15.765625 45.015625 23.390625 \n",
       "Q 45.015625 31 40.078125 35.4375 \n",
       "Q 35.15625 39.890625 26.703125 39.890625 \n",
       "Q 22.75 39.890625 18.8125 39.015625 \n",
       "Q 14.890625 38.140625 10.796875 36.28125 \n",
       "z\n",
       "\" id=\"DejaVuSans-53\"/>\n",
       "       </defs>\n",
       "       <use xlink:href=\"#DejaVuSans-8722\"/>\n",
       "       <use x=\"83.789062\" xlink:href=\"#DejaVuSans-48\"/>\n",
       "       <use x=\"147.412109\" xlink:href=\"#DejaVuSans-46\"/>\n",
       "       <use x=\"179.199219\" xlink:href=\"#DejaVuSans-53\"/>\n",
       "      </g>\n",
       "     </g>\n",
       "    </g>\n",
       "    <g id=\"xtick_2\">\n",
       "     <g id=\"text_2\">\n",
       "      <!-- 0.0 -->\n",
       "      <g style=\"fill:#262626;\" transform=\"translate(111.636875 257.616406)scale(0.11 -0.11)\">\n",
       "       <use xlink:href=\"#DejaVuSans-48\"/>\n",
       "       <use x=\"63.623047\" xlink:href=\"#DejaVuSans-46\"/>\n",
       "       <use x=\"95.410156\" xlink:href=\"#DejaVuSans-48\"/>\n",
       "      </g>\n",
       "     </g>\n",
       "    </g>\n",
       "    <g id=\"xtick_3\">\n",
       "     <g id=\"text_3\">\n",
       "      <!-- 0.5 -->\n",
       "      <g style=\"fill:#262626;\" transform=\"translate(165.996875 257.616406)scale(0.11 -0.11)\">\n",
       "       <use xlink:href=\"#DejaVuSans-48\"/>\n",
       "       <use x=\"63.623047\" xlink:href=\"#DejaVuSans-46\"/>\n",
       "       <use x=\"95.410156\" xlink:href=\"#DejaVuSans-53\"/>\n",
       "      </g>\n",
       "     </g>\n",
       "    </g>\n",
       "    <g id=\"xtick_4\">\n",
       "     <g id=\"text_4\">\n",
       "      <!-- 1.0 -->\n",
       "      <g style=\"fill:#262626;\" transform=\"translate(220.356875 257.616406)scale(0.11 -0.11)\">\n",
       "       <defs>\n",
       "        <path d=\"M 12.40625 8.296875 \n",
       "L 28.515625 8.296875 \n",
       "L 28.515625 63.921875 \n",
       "L 10.984375 60.40625 \n",
       "L 10.984375 69.390625 \n",
       "L 28.421875 72.90625 \n",
       "L 38.28125 72.90625 \n",
       "L 38.28125 8.296875 \n",
       "L 54.390625 8.296875 \n",
       "L 54.390625 0 \n",
       "L 12.40625 0 \n",
       "z\n",
       "\" id=\"DejaVuSans-49\"/>\n",
       "       </defs>\n",
       "       <use xlink:href=\"#DejaVuSans-49\"/>\n",
       "       <use x=\"63.623047\" xlink:href=\"#DejaVuSans-46\"/>\n",
       "       <use x=\"95.410156\" xlink:href=\"#DejaVuSans-48\"/>\n",
       "      </g>\n",
       "     </g>\n",
       "    </g>\n",
       "    <g id=\"xtick_5\">\n",
       "     <g id=\"text_5\">\n",
       "      <!-- 1.5 -->\n",
       "      <g style=\"fill:#262626;\" transform=\"translate(274.716875 257.616406)scale(0.11 -0.11)\">\n",
       "       <use xlink:href=\"#DejaVuSans-49\"/>\n",
       "       <use x=\"63.623047\" xlink:href=\"#DejaVuSans-46\"/>\n",
       "       <use x=\"95.410156\" xlink:href=\"#DejaVuSans-53\"/>\n",
       "      </g>\n",
       "     </g>\n",
       "    </g>\n",
       "    <g id=\"text_6\">\n",
       "     <!-- $x_1$ -->\n",
       "     <g style=\"fill:#262626;\" transform=\"translate(168.323594 273.022188)scale(0.12 -0.12)\">\n",
       "      <defs>\n",
       "       <path d=\"M 60.015625 54.6875 \n",
       "L 34.90625 27.875 \n",
       "L 50.296875 0 \n",
       "L 39.984375 0 \n",
       "L 28.421875 21.6875 \n",
       "L 8.296875 0 \n",
       "L -2.59375 0 \n",
       "L 24.3125 28.8125 \n",
       "L 10.015625 54.6875 \n",
       "L 20.3125 54.6875 \n",
       "L 30.8125 34.90625 \n",
       "L 49.125 54.6875 \n",
       "z\n",
       "\" id=\"DejaVuSans-Oblique-120\"/>\n",
       "      </defs>\n",
       "      <use transform=\"translate(0 0.3125)\" xlink:href=\"#DejaVuSans-Oblique-120\"/>\n",
       "      <use transform=\"translate(59.179688 -16.09375)scale(0.7)\" xlink:href=\"#DejaVuSans-49\"/>\n",
       "     </g>\n",
       "    </g>\n",
       "   </g>\n",
       "   <g id=\"matplotlib.axis_2\">\n",
       "    <g id=\"ytick_1\">\n",
       "     <g id=\"text_7\">\n",
       "      <!-- −0.50 -->\n",
       "      <g style=\"fill:#262626;\" transform=\"translate(22.81375 243.937266)scale(0.11 -0.11)\">\n",
       "       <use xlink:href=\"#DejaVuSans-8722\"/>\n",
       "       <use x=\"83.789062\" xlink:href=\"#DejaVuSans-48\"/>\n",
       "       <use x=\"147.412109\" xlink:href=\"#DejaVuSans-46\"/>\n",
       "       <use x=\"179.199219\" xlink:href=\"#DejaVuSans-53\"/>\n",
       "       <use x=\"242.822266\" xlink:href=\"#DejaVuSans-48\"/>\n",
       "      </g>\n",
       "     </g>\n",
       "    </g>\n",
       "    <g id=\"ytick_2\">\n",
       "     <g id=\"text_8\">\n",
       "      <!-- −0.25 -->\n",
       "      <g style=\"fill:#262626;\" transform=\"translate(22.81375 216.757266)scale(0.11 -0.11)\">\n",
       "       <defs>\n",
       "        <path d=\"M 19.1875 8.296875 \n",
       "L 53.609375 8.296875 \n",
       "L 53.609375 0 \n",
       "L 7.328125 0 \n",
       "L 7.328125 8.296875 \n",
       "Q 12.9375 14.109375 22.625 23.890625 \n",
       "Q 32.328125 33.6875 34.8125 36.53125 \n",
       "Q 39.546875 41.84375 41.421875 45.53125 \n",
       "Q 43.3125 49.21875 43.3125 52.78125 \n",
       "Q 43.3125 58.59375 39.234375 62.25 \n",
       "Q 35.15625 65.921875 28.609375 65.921875 \n",
       "Q 23.96875 65.921875 18.8125 64.3125 \n",
       "Q 13.671875 62.703125 7.8125 59.421875 \n",
       "L 7.8125 69.390625 \n",
       "Q 13.765625 71.78125 18.9375 73 \n",
       "Q 24.125 74.21875 28.421875 74.21875 \n",
       "Q 39.75 74.21875 46.484375 68.546875 \n",
       "Q 53.21875 62.890625 53.21875 53.421875 \n",
       "Q 53.21875 48.921875 51.53125 44.890625 \n",
       "Q 49.859375 40.875 45.40625 35.40625 \n",
       "Q 44.1875 33.984375 37.640625 27.21875 \n",
       "Q 31.109375 20.453125 19.1875 8.296875 \n",
       "z\n",
       "\" id=\"DejaVuSans-50\"/>\n",
       "       </defs>\n",
       "       <use xlink:href=\"#DejaVuSans-8722\"/>\n",
       "       <use x=\"83.789062\" xlink:href=\"#DejaVuSans-48\"/>\n",
       "       <use x=\"147.412109\" xlink:href=\"#DejaVuSans-46\"/>\n",
       "       <use x=\"179.199219\" xlink:href=\"#DejaVuSans-50\"/>\n",
       "       <use x=\"242.822266\" xlink:href=\"#DejaVuSans-53\"/>\n",
       "      </g>\n",
       "     </g>\n",
       "    </g>\n",
       "    <g id=\"ytick_3\">\n",
       "     <g id=\"text_9\">\n",
       "      <!-- 0.00 -->\n",
       "      <g style=\"fill:#262626;\" transform=\"translate(32.031406 189.577266)scale(0.11 -0.11)\">\n",
       "       <use xlink:href=\"#DejaVuSans-48\"/>\n",
       "       <use x=\"63.623047\" xlink:href=\"#DejaVuSans-46\"/>\n",
       "       <use x=\"95.410156\" xlink:href=\"#DejaVuSans-48\"/>\n",
       "       <use x=\"159.033203\" xlink:href=\"#DejaVuSans-48\"/>\n",
       "      </g>\n",
       "     </g>\n",
       "    </g>\n",
       "    <g id=\"ytick_4\">\n",
       "     <g id=\"text_10\">\n",
       "      <!-- 0.25 -->\n",
       "      <g style=\"fill:#262626;\" transform=\"translate(32.031406 162.397266)scale(0.11 -0.11)\">\n",
       "       <use xlink:href=\"#DejaVuSans-48\"/>\n",
       "       <use x=\"63.623047\" xlink:href=\"#DejaVuSans-46\"/>\n",
       "       <use x=\"95.410156\" xlink:href=\"#DejaVuSans-50\"/>\n",
       "       <use x=\"159.033203\" xlink:href=\"#DejaVuSans-53\"/>\n",
       "      </g>\n",
       "     </g>\n",
       "    </g>\n",
       "    <g id=\"ytick_5\">\n",
       "     <g id=\"text_11\">\n",
       "      <!-- 0.50 -->\n",
       "      <g style=\"fill:#262626;\" transform=\"translate(32.031406 135.217266)scale(0.11 -0.11)\">\n",
       "       <use xlink:href=\"#DejaVuSans-48\"/>\n",
       "       <use x=\"63.623047\" xlink:href=\"#DejaVuSans-46\"/>\n",
       "       <use x=\"95.410156\" xlink:href=\"#DejaVuSans-53\"/>\n",
       "       <use x=\"159.033203\" xlink:href=\"#DejaVuSans-48\"/>\n",
       "      </g>\n",
       "     </g>\n",
       "    </g>\n",
       "    <g id=\"ytick_6\">\n",
       "     <g id=\"text_12\">\n",
       "      <!-- 0.75 -->\n",
       "      <g style=\"fill:#262626;\" transform=\"translate(32.031406 108.037266)scale(0.11 -0.11)\">\n",
       "       <defs>\n",
       "        <path d=\"M 8.203125 72.90625 \n",
       "L 55.078125 72.90625 \n",
       "L 55.078125 68.703125 \n",
       "L 28.609375 0 \n",
       "L 18.3125 0 \n",
       "L 43.21875 64.59375 \n",
       "L 8.203125 64.59375 \n",
       "z\n",
       "\" id=\"DejaVuSans-55\"/>\n",
       "       </defs>\n",
       "       <use xlink:href=\"#DejaVuSans-48\"/>\n",
       "       <use x=\"63.623047\" xlink:href=\"#DejaVuSans-46\"/>\n",
       "       <use x=\"95.410156\" xlink:href=\"#DejaVuSans-55\"/>\n",
       "       <use x=\"159.033203\" xlink:href=\"#DejaVuSans-53\"/>\n",
       "      </g>\n",
       "     </g>\n",
       "    </g>\n",
       "    <g id=\"ytick_7\">\n",
       "     <g id=\"text_13\">\n",
       "      <!-- 1.00 -->\n",
       "      <g style=\"fill:#262626;\" transform=\"translate(32.031406 80.857266)scale(0.11 -0.11)\">\n",
       "       <use xlink:href=\"#DejaVuSans-49\"/>\n",
       "       <use x=\"63.623047\" xlink:href=\"#DejaVuSans-46\"/>\n",
       "       <use x=\"95.410156\" xlink:href=\"#DejaVuSans-48\"/>\n",
       "       <use x=\"159.033203\" xlink:href=\"#DejaVuSans-48\"/>\n",
       "      </g>\n",
       "     </g>\n",
       "    </g>\n",
       "    <g id=\"ytick_8\">\n",
       "     <g id=\"text_14\">\n",
       "      <!-- 1.25 -->\n",
       "      <g style=\"fill:#262626;\" transform=\"translate(32.031406 53.677266)scale(0.11 -0.11)\">\n",
       "       <use xlink:href=\"#DejaVuSans-49\"/>\n",
       "       <use x=\"63.623047\" xlink:href=\"#DejaVuSans-46\"/>\n",
       "       <use x=\"95.410156\" xlink:href=\"#DejaVuSans-50\"/>\n",
       "       <use x=\"159.033203\" xlink:href=\"#DejaVuSans-53\"/>\n",
       "      </g>\n",
       "     </g>\n",
       "    </g>\n",
       "    <g id=\"ytick_9\">\n",
       "     <g id=\"text_15\">\n",
       "      <!-- 1.50 -->\n",
       "      <g style=\"fill:#262626;\" transform=\"translate(32.031406 26.497266)scale(0.11 -0.11)\">\n",
       "       <use xlink:href=\"#DejaVuSans-49\"/>\n",
       "       <use x=\"63.623047\" xlink:href=\"#DejaVuSans-46\"/>\n",
       "       <use x=\"95.410156\" xlink:href=\"#DejaVuSans-53\"/>\n",
       "       <use x=\"159.033203\" xlink:href=\"#DejaVuSans-48\"/>\n",
       "      </g>\n",
       "     </g>\n",
       "    </g>\n",
       "    <g id=\"text_16\">\n",
       "     <!-- $x_2$ -->\n",
       "     <g style=\"fill:#262626;\" transform=\"translate(16.318125 137.458125)rotate(-90)scale(0.12 -0.12)\">\n",
       "      <use transform=\"translate(0 0.3125)\" xlink:href=\"#DejaVuSans-Oblique-120\"/>\n",
       "      <use transform=\"translate(59.179688 -16.09375)scale(0.7)\" xlink:href=\"#DejaVuSans-50\"/>\n",
       "     </g>\n",
       "    </g>\n",
       "   </g>\n",
       "   <g id=\"PathCollection_1\">\n",
       "    <defs>\n",
       "     <path d=\"M 0 3 \n",
       "C 0.795609 3 1.55874 2.683901 2.12132 2.12132 \n",
       "C 2.683901 1.55874 3 0.795609 3 0 \n",
       "C 3 -0.795609 2.683901 -1.55874 2.12132 -2.12132 \n",
       "C 1.55874 -2.683901 0.795609 -3 0 -3 \n",
       "C -0.795609 -3 -1.55874 -2.683901 -2.12132 -2.12132 \n",
       "C -2.683901 -1.55874 -3 -0.795609 -3 0 \n",
       "C -3 0.795609 -2.683901 1.55874 -2.12132 2.12132 \n",
       "C -1.55874 2.683901 -0.795609 3 0 3 \n",
       "z\n",
       "\" id=\"mf09729daca\" style=\"stroke:#333333;\"/>\n",
       "    </defs>\n",
       "    <g clip-path=\"url(#pe8982c0c32)\">\n",
       "     <use style=\"fill:#4c72b0;stroke:#333333;\" x=\"119.630631\" xlink:href=\"#mf09729daca\" y=\"183.02716\"/>\n",
       "     <use style=\"fill:#4c72b0;stroke:#333333;\" x=\"226.031964\" xlink:href=\"#mf09729daca\" y=\"79.706304\"/>\n",
       "     <use style=\"fill:#4c72b0;stroke:#333333;\" x=\"247.133981\" xlink:href=\"#mf09729daca\" y=\"80.994397\"/>\n",
       "     <use style=\"fill:#4c72b0;stroke:#333333;\" x=\"129.508171\" xlink:href=\"#mf09729daca\" y=\"191.757377\"/>\n",
       "     <use style=\"fill:#4c72b0;stroke:#333333;\" x=\"123.560838\" xlink:href=\"#mf09729daca\" y=\"192.256288\"/>\n",
       "     <use style=\"fill:#4c72b0;stroke:#333333;\" x=\"99.777688\" xlink:href=\"#mf09729daca\" y=\"180.061819\"/>\n",
       "     <use style=\"fill:#4c72b0;stroke:#333333;\" x=\"234.51915\" xlink:href=\"#mf09729daca\" y=\"76.887462\"/>\n",
       "     <use style=\"fill:#4c72b0;stroke:#333333;\" x=\"225.999868\" xlink:href=\"#mf09729daca\" y=\"71.275153\"/>\n",
       "     <use style=\"fill:#4c72b0;stroke:#333333;\" x=\"117.802169\" xlink:href=\"#mf09729daca\" y=\"191.868518\"/>\n",
       "     <use style=\"fill:#4c72b0;stroke:#333333;\" x=\"230.328368\" xlink:href=\"#mf09729daca\" y=\"72.953996\"/>\n",
       "     <use style=\"fill:#4c72b0;stroke:#333333;\" x=\"125.298818\" xlink:href=\"#mf09729daca\" y=\"188.528318\"/>\n",
       "     <use style=\"fill:#4c72b0;stroke:#333333;\" x=\"244.449888\" xlink:href=\"#mf09729daca\" y=\"56.122229\"/>\n",
       "     <use style=\"fill:#4c72b0;stroke:#333333;\" x=\"230.735196\" xlink:href=\"#mf09729daca\" y=\"80.056541\"/>\n",
       "     <use style=\"fill:#4c72b0;stroke:#333333;\" x=\"226.120069\" xlink:href=\"#mf09729daca\" y=\"76.248163\"/>\n",
       "     <use style=\"fill:#4c72b0;stroke:#333333;\" x=\"118.025743\" xlink:href=\"#mf09729daca\" y=\"198.228967\"/>\n",
       "     <use style=\"fill:#4c72b0;stroke:#333333;\" x=\"114.081258\" xlink:href=\"#mf09729daca\" y=\"176.499583\"/>\n",
       "     <use style=\"fill:#4c72b0;stroke:#333333;\" x=\"241.089092\" xlink:href=\"#mf09729daca\" y=\"102.286439\"/>\n",
       "     <use style=\"fill:#4c72b0;stroke:#333333;\" x=\"243.870155\" xlink:href=\"#mf09729daca\" y=\"96.725344\"/>\n",
       "     <use style=\"fill:#4c72b0;stroke:#333333;\" x=\"221.366377\" xlink:href=\"#mf09729daca\" y=\"77.338064\"/>\n",
       "     <use style=\"fill:#4c72b0;stroke:#333333;\" x=\"108.430696\" xlink:href=\"#mf09729daca\" y=\"195.532199\"/>\n",
       "     <use style=\"fill:#4c72b0;stroke:#333333;\" x=\"243.209899\" xlink:href=\"#mf09729daca\" y=\"56.455519\"/>\n",
       "     <use style=\"fill:#4c72b0;stroke:#333333;\" x=\"236.294807\" xlink:href=\"#mf09729daca\" y=\"77.981996\"/>\n",
       "     <use style=\"fill:#4c72b0;stroke:#333333;\" x=\"133.825974\" xlink:href=\"#mf09729daca\" y=\"169.253244\"/>\n",
       "     <use style=\"fill:#4c72b0;stroke:#333333;\" x=\"223.367053\" xlink:href=\"#mf09729daca\" y=\"56.228154\"/>\n",
       "     <use style=\"fill:#4c72b0;stroke:#333333;\" x=\"122.349988\" xlink:href=\"#mf09729daca\" y=\"184.170689\"/>\n",
       "     <use style=\"fill:#4c72b0;stroke:#333333;\" x=\"222.700323\" xlink:href=\"#mf09729daca\" y=\"71.325868\"/>\n",
       "     <use style=\"fill:#4c72b0;stroke:#333333;\" x=\"112.238888\" xlink:href=\"#mf09729daca\" y=\"172.132264\"/>\n",
       "     <use style=\"fill:#4c72b0;stroke:#333333;\" x=\"240.665545\" xlink:href=\"#mf09729daca\" y=\"69.175006\"/>\n",
       "     <use style=\"fill:#4c72b0;stroke:#333333;\" x=\"237.270961\" xlink:href=\"#mf09729daca\" y=\"79.208287\"/>\n",
       "     <use style=\"fill:#4c72b0;stroke:#333333;\" x=\"232.398097\" xlink:href=\"#mf09729daca\" y=\"65.173809\"/>\n",
       "     <use style=\"fill:#4c72b0;stroke:#333333;\" x=\"116.51829\" xlink:href=\"#mf09729daca\" y=\"175.976269\"/>\n",
       "     <use style=\"fill:#4c72b0;stroke:#333333;\" x=\"126.053648\" xlink:href=\"#mf09729daca\" y=\"195.931899\"/>\n",
       "     <use style=\"fill:#4c72b0;stroke:#333333;\" x=\"112.614408\" xlink:href=\"#mf09729daca\" y=\"164.360655\"/>\n",
       "     <use style=\"fill:#4c72b0;stroke:#333333;\" x=\"120.754486\" xlink:href=\"#mf09729daca\" y=\"189.323026\"/>\n",
       "     <use style=\"fill:#4c72b0;stroke:#333333;\" x=\"132.086248\" xlink:href=\"#mf09729daca\" y=\"188.967644\"/>\n",
       "     <use style=\"fill:#4c72b0;stroke:#333333;\" x=\"117.33798\" xlink:href=\"#mf09729daca\" y=\"184.898956\"/>\n",
       "     <use style=\"fill:#4c72b0;stroke:#333333;\" x=\"132.681917\" xlink:href=\"#mf09729daca\" y=\"197.902563\"/>\n",
       "     <use style=\"fill:#4c72b0;stroke:#333333;\" x=\"211.817945\" xlink:href=\"#mf09729daca\" y=\"61.965272\"/>\n",
       "     <use style=\"fill:#4c72b0;stroke:#333333;\" x=\"242.767676\" xlink:href=\"#mf09729daca\" y=\"81.643688\"/>\n",
       "     <use style=\"fill:#4c72b0;stroke:#333333;\" x=\"230.848535\" xlink:href=\"#mf09729daca\" y=\"80.978112\"/>\n",
       "     <use style=\"fill:#4c72b0;stroke:#333333;\" x=\"117.29724\" xlink:href=\"#mf09729daca\" y=\"192.545811\"/>\n",
       "     <use style=\"fill:#4c72b0;stroke:#333333;\" x=\"218.694842\" xlink:href=\"#mf09729daca\" y=\"100.930901\"/>\n",
       "     <use style=\"fill:#4c72b0;stroke:#333333;\" x=\"237.013269\" xlink:href=\"#mf09729daca\" y=\"75.481734\"/>\n",
       "     <use style=\"fill:#4c72b0;stroke:#333333;\" x=\"120.882148\" xlink:href=\"#mf09729daca\" y=\"197.835874\"/>\n",
       "     <use style=\"fill:#4c72b0;stroke:#333333;\" x=\"130.837184\" xlink:href=\"#mf09729daca\" y=\"202.207751\"/>\n",
       "     <use style=\"fill:#4c72b0;stroke:#333333;\" x=\"137.632723\" xlink:href=\"#mf09729daca\" y=\"170.190943\"/>\n",
       "     <use style=\"fill:#4c72b0;stroke:#333333;\" x=\"223.973336\" xlink:href=\"#mf09729daca\" y=\"87.364405\"/>\n",
       "     <use style=\"fill:#4c72b0;stroke:#333333;\" x=\"214.314041\" xlink:href=\"#mf09729daca\" y=\"65.697345\"/>\n",
       "     <use style=\"fill:#4c72b0;stroke:#333333;\" x=\"115.013359\" xlink:href=\"#mf09729daca\" y=\"192.863185\"/>\n",
       "     <use style=\"fill:#4c72b0;stroke:#333333;\" x=\"224.918896\" xlink:href=\"#mf09729daca\" y=\"84.700348\"/>\n",
       "     <use style=\"fill:#4c72b0;stroke:#333333;\" x=\"121.457606\" xlink:href=\"#mf09729daca\" y=\"189.098171\"/>\n",
       "     <use style=\"fill:#4c72b0;stroke:#333333;\" x=\"234.057486\" xlink:href=\"#mf09729daca\" y=\"57.230812\"/>\n",
       "     <use style=\"fill:#4c72b0;stroke:#333333;\" x=\"118.733434\" xlink:href=\"#mf09729daca\" y=\"179.431408\"/>\n",
       "     <use style=\"fill:#4c72b0;stroke:#333333;\" x=\"222.58491\" xlink:href=\"#mf09729daca\" y=\"91.072443\"/>\n",
       "     <use style=\"fill:#4c72b0;stroke:#333333;\" x=\"231.601005\" xlink:href=\"#mf09729daca\" y=\"68.121491\"/>\n",
       "     <use style=\"fill:#4c72b0;stroke:#333333;\" x=\"99.779319\" xlink:href=\"#mf09729daca\" y=\"180.887702\"/>\n",
       "     <use style=\"fill:#4c72b0;stroke:#333333;\" x=\"214.217362\" xlink:href=\"#mf09729daca\" y=\"67.932904\"/>\n",
       "     <use style=\"fill:#4c72b0;stroke:#333333;\" x=\"238.012583\" xlink:href=\"#mf09729daca\" y=\"82.439245\"/>\n",
       "     <use style=\"fill:#4c72b0;stroke:#333333;\" x=\"109.151519\" xlink:href=\"#mf09729daca\" y=\"185.78207\"/>\n",
       "     <use style=\"fill:#4c72b0;stroke:#333333;\" x=\"118.296971\" xlink:href=\"#mf09729daca\" y=\"211.814172\"/>\n",
       "     <use style=\"fill:#4c72b0;stroke:#333333;\" x=\"117.869736\" xlink:href=\"#mf09729daca\" y=\"188.183661\"/>\n",
       "     <use style=\"fill:#4c72b0;stroke:#333333;\" x=\"103.652181\" xlink:href=\"#mf09729daca\" y=\"188.29022\"/>\n",
       "     <use style=\"fill:#4c72b0;stroke:#333333;\" x=\"249.158362\" xlink:href=\"#mf09729daca\" y=\"82.547711\"/>\n",
       "     <use style=\"fill:#4c72b0;stroke:#333333;\" x=\"222.578268\" xlink:href=\"#mf09729daca\" y=\"88.854193\"/>\n",
       "     <use style=\"fill:#4c72b0;stroke:#333333;\" x=\"242.8908\" xlink:href=\"#mf09729daca\" y=\"62.012163\"/>\n",
       "     <use style=\"fill:#4c72b0;stroke:#333333;\" x=\"104.094434\" xlink:href=\"#mf09729daca\" y=\"176.722784\"/>\n",
       "     <use style=\"fill:#4c72b0;stroke:#333333;\" x=\"231.393236\" xlink:href=\"#mf09729daca\" y=\"95.68291\"/>\n",
       "     <use style=\"fill:#4c72b0;stroke:#333333;\" x=\"239.48669\" xlink:href=\"#mf09729daca\" y=\"101.379014\"/>\n",
       "     <use style=\"fill:#4c72b0;stroke:#333333;\" x=\"136.934591\" xlink:href=\"#mf09729daca\" y=\"202.700628\"/>\n",
       "     <use style=\"fill:#4c72b0;stroke:#333333;\" x=\"129.34932\" xlink:href=\"#mf09729daca\" y=\"193.853222\"/>\n",
       "     <use style=\"fill:#4c72b0;stroke:#333333;\" x=\"118.571429\" xlink:href=\"#mf09729daca\" y=\"180.426817\"/>\n",
       "     <use style=\"fill:#4c72b0;stroke:#333333;\" x=\"119.232936\" xlink:href=\"#mf09729daca\" y=\"178.6056\"/>\n",
       "     <use style=\"fill:#4c72b0;stroke:#333333;\" x=\"231.872798\" xlink:href=\"#mf09729daca\" y=\"73.188217\"/>\n",
       "     <use style=\"fill:#4c72b0;stroke:#333333;\" x=\"222.04492\" xlink:href=\"#mf09729daca\" y=\"100.191683\"/>\n",
       "     <use style=\"fill:#4c72b0;stroke:#333333;\" x=\"118.537332\" xlink:href=\"#mf09729daca\" y=\"184.756952\"/>\n",
       "     <use style=\"fill:#4c72b0;stroke:#333333;\" x=\"128.001579\" xlink:href=\"#mf09729daca\" y=\"177.927389\"/>\n",
       "     <use style=\"fill:#4c72b0;stroke:#333333;\" x=\"129.237429\" xlink:href=\"#mf09729daca\" y=\"183.651319\"/>\n",
       "     <use style=\"fill:#4c72b0;stroke:#333333;\" x=\"231.651809\" xlink:href=\"#mf09729daca\" y=\"60.366512\"/>\n",
       "     <use style=\"fill:#4c72b0;stroke:#333333;\" x=\"230.938506\" xlink:href=\"#mf09729daca\" y=\"58.920283\"/>\n",
       "     <use style=\"fill:#4c72b0;stroke:#333333;\" x=\"120.165842\" xlink:href=\"#mf09729daca\" y=\"194.670616\"/>\n",
       "     <use style=\"fill:#4c72b0;stroke:#333333;\" x=\"240.120766\" xlink:href=\"#mf09729daca\" y=\"60.454033\"/>\n",
       "     <use style=\"fill:#4c72b0;stroke:#333333;\" x=\"226.268479\" xlink:href=\"#mf09729daca\" y=\"87.76343\"/>\n",
       "     <use style=\"fill:#4c72b0;stroke:#333333;\" x=\"238.684543\" xlink:href=\"#mf09729daca\" y=\"57.202935\"/>\n",
       "     <use style=\"fill:#4c72b0;stroke:#333333;\" x=\"113.452012\" xlink:href=\"#mf09729daca\" y=\"182.733923\"/>\n",
       "     <use style=\"fill:#4c72b0;stroke:#333333;\" x=\"227.766505\" xlink:href=\"#mf09729daca\" y=\"68.561718\"/>\n",
       "     <use style=\"fill:#4c72b0;stroke:#333333;\" x=\"121.374115\" xlink:href=\"#mf09729daca\" y=\"198.141743\"/>\n",
       "     <use style=\"fill:#4c72b0;stroke:#333333;\" x=\"128.635568\" xlink:href=\"#mf09729daca\" y=\"191.679503\"/>\n",
       "     <use style=\"fill:#4c72b0;stroke:#333333;\" x=\"112.901568\" xlink:href=\"#mf09729daca\" y=\"181.366251\"/>\n",
       "     <use style=\"fill:#4c72b0;stroke:#333333;\" x=\"210.95062\" xlink:href=\"#mf09729daca\" y=\"73.166107\"/>\n",
       "     <use style=\"fill:#4c72b0;stroke:#333333;\" x=\"220.631799\" xlink:href=\"#mf09729daca\" y=\"68.440188\"/>\n",
       "     <use style=\"fill:#4c72b0;stroke:#333333;\" x=\"202.975767\" xlink:href=\"#mf09729daca\" y=\"65.960727\"/>\n",
       "     <use style=\"fill:#4c72b0;stroke:#333333;\" x=\"112.31741\" xlink:href=\"#mf09729daca\" y=\"181.616921\"/>\n",
       "     <use style=\"fill:#4c72b0;stroke:#333333;\" x=\"135.601683\" xlink:href=\"#mf09729daca\" y=\"193.778082\"/>\n",
       "     <use style=\"fill:#4c72b0;stroke:#333333;\" x=\"116.076055\" xlink:href=\"#mf09729daca\" y=\"196.017082\"/>\n",
       "     <use style=\"fill:#4c72b0;stroke:#333333;\" x=\"221.199232\" xlink:href=\"#mf09729daca\" y=\"102.201172\"/>\n",
       "     <use style=\"fill:#4c72b0;stroke:#333333;\" x=\"124.157667\" xlink:href=\"#mf09729daca\" y=\"184.585026\"/>\n",
       "     <use style=\"fill:#4c72b0;stroke:#333333;\" x=\"118.528228\" xlink:href=\"#mf09729daca\" y=\"179.737071\"/>\n",
       "     <use style=\"fill:#4c72b0;stroke:#333333;\" x=\"114.303985\" xlink:href=\"#mf09729daca\" y=\"188.460235\"/>\n",
       "     <use style=\"fill:#4c72b0;stroke:#333333;\" x=\"121.868835\" xlink:href=\"#mf09729daca\" y=\"194.747632\"/>\n",
       "     <use style=\"fill:#4c72b0;stroke:#333333;\" x=\"209.979417\" xlink:href=\"#mf09729daca\" y=\"76.337577\"/>\n",
       "     <use style=\"fill:#4c72b0;stroke:#333333;\" x=\"217.169827\" xlink:href=\"#mf09729daca\" y=\"63.421804\"/>\n",
       "     <use style=\"fill:#4c72b0;stroke:#333333;\" x=\"100.682479\" xlink:href=\"#mf09729daca\" y=\"199.661904\"/>\n",
       "     <use style=\"fill:#4c72b0;stroke:#333333;\" x=\"229.056521\" xlink:href=\"#mf09729daca\" y=\"94.135493\"/>\n",
       "    </g>\n",
       "   </g>\n",
       "   <g id=\"PathCollection_2\">\n",
       "    <defs>\n",
       "     <path d=\"M 0 3 \n",
       "C 0.795609 3 1.55874 2.683901 2.12132 2.12132 \n",
       "C 2.683901 1.55874 3 0.795609 3 0 \n",
       "C 3 -0.795609 2.683901 -1.55874 2.12132 -2.12132 \n",
       "C 1.55874 -2.683901 0.795609 -3 0 -3 \n",
       "C -0.795609 -3 -1.55874 -2.683901 -2.12132 -2.12132 \n",
       "C -2.683901 -1.55874 -3 -0.795609 -3 0 \n",
       "C -3 0.795609 -2.683901 1.55874 -2.12132 2.12132 \n",
       "C -1.55874 2.683901 -0.795609 3 0 3 \n",
       "z\n",
       "\" id=\"m1822ba53d3\" style=\"stroke:#333333;\"/>\n",
       "    </defs>\n",
       "    <g clip-path=\"url(#pe8982c0c32)\">\n",
       "     <use style=\"fill:#dd8452;stroke:#333333;\" x=\"225.106583\" xlink:href=\"#m1822ba53d3\" y=\"173.251328\"/>\n",
       "     <use style=\"fill:#dd8452;stroke:#333333;\" x=\"235.269183\" xlink:href=\"#m1822ba53d3\" y=\"173.464324\"/>\n",
       "     <use style=\"fill:#dd8452;stroke:#333333;\" x=\"226.000172\" xlink:href=\"#m1822ba53d3\" y=\"187.443356\"/>\n",
       "     <use style=\"fill:#dd8452;stroke:#333333;\" x=\"114.484569\" xlink:href=\"#m1822ba53d3\" y=\"66.511974\"/>\n",
       "     <use style=\"fill:#dd8452;stroke:#333333;\" x=\"240.633701\" xlink:href=\"#m1822ba53d3\" y=\"189.544269\"/>\n",
       "     <use style=\"fill:#dd8452;stroke:#333333;\" x=\"122.835483\" xlink:href=\"#m1822ba53d3\" y=\"80.815627\"/>\n",
       "     <use style=\"fill:#dd8452;stroke:#333333;\" x=\"216.472711\" xlink:href=\"#m1822ba53d3\" y=\"197.223837\"/>\n",
       "     <use style=\"fill:#dd8452;stroke:#333333;\" x=\"146.505684\" xlink:href=\"#m1822ba53d3\" y=\"77.700995\"/>\n",
       "     <use style=\"fill:#dd8452;stroke:#333333;\" x=\"238.16435\" xlink:href=\"#m1822ba53d3\" y=\"201.829041\"/>\n",
       "     <use style=\"fill:#dd8452;stroke:#333333;\" x=\"212.502729\" xlink:href=\"#m1822ba53d3\" y=\"176.909335\"/>\n",
       "     <use style=\"fill:#dd8452;stroke:#333333;\" x=\"224.346149\" xlink:href=\"#m1822ba53d3\" y=\"167.032503\"/>\n",
       "     <use style=\"fill:#dd8452;stroke:#333333;\" x=\"95.660785\" xlink:href=\"#m1822ba53d3\" y=\"65.861243\"/>\n",
       "     <use style=\"fill:#dd8452;stroke:#333333;\" x=\"135.521852\" xlink:href=\"#m1822ba53d3\" y=\"66.622254\"/>\n",
       "     <use style=\"fill:#dd8452;stroke:#333333;\" x=\"119.760605\" xlink:href=\"#m1822ba53d3\" y=\"91.009332\"/>\n",
       "     <use style=\"fill:#dd8452;stroke:#333333;\" x=\"120.004286\" xlink:href=\"#m1822ba53d3\" y=\"63.911605\"/>\n",
       "     <use style=\"fill:#dd8452;stroke:#333333;\" x=\"103.481343\" xlink:href=\"#m1822ba53d3\" y=\"61.50077\"/>\n",
       "     <use style=\"fill:#dd8452;stroke:#333333;\" x=\"227.493331\" xlink:href=\"#m1822ba53d3\" y=\"189.668312\"/>\n",
       "     <use style=\"fill:#dd8452;stroke:#333333;\" x=\"213.667186\" xlink:href=\"#m1822ba53d3\" y=\"173.135684\"/>\n",
       "     <use style=\"fill:#dd8452;stroke:#333333;\" x=\"221.241134\" xlink:href=\"#m1822ba53d3\" y=\"174.762918\"/>\n",
       "     <use style=\"fill:#dd8452;stroke:#333333;\" x=\"128.705121\" xlink:href=\"#m1822ba53d3\" y=\"77.433213\"/>\n",
       "     <use style=\"fill:#dd8452;stroke:#333333;\" x=\"210.518979\" xlink:href=\"#m1822ba53d3\" y=\"182.099388\"/>\n",
       "     <use style=\"fill:#dd8452;stroke:#333333;\" x=\"245.652526\" xlink:href=\"#m1822ba53d3\" y=\"188.7116\"/>\n",
       "     <use style=\"fill:#dd8452;stroke:#333333;\" x=\"238.941937\" xlink:href=\"#m1822ba53d3\" y=\"186.794029\"/>\n",
       "     <use style=\"fill:#dd8452;stroke:#333333;\" x=\"219.148399\" xlink:href=\"#m1822ba53d3\" y=\"189.950709\"/>\n",
       "     <use style=\"fill:#dd8452;stroke:#333333;\" x=\"243.720579\" xlink:href=\"#m1822ba53d3\" y=\"169.740566\"/>\n",
       "     <use style=\"fill:#dd8452;stroke:#333333;\" x=\"109.353919\" xlink:href=\"#m1822ba53d3\" y=\"86.031191\"/>\n",
       "     <use style=\"fill:#dd8452;stroke:#333333;\" x=\"241.447046\" xlink:href=\"#m1822ba53d3\" y=\"172.051387\"/>\n",
       "     <use style=\"fill:#dd8452;stroke:#333333;\" x=\"131.002081\" xlink:href=\"#m1822ba53d3\" y=\"74.175724\"/>\n",
       "     <use style=\"fill:#dd8452;stroke:#333333;\" x=\"226.085809\" xlink:href=\"#m1822ba53d3\" y=\"171.48351\"/>\n",
       "     <use style=\"fill:#dd8452;stroke:#333333;\" x=\"97.829446\" xlink:href=\"#m1822ba53d3\" y=\"75.633164\"/>\n",
       "     <use style=\"fill:#dd8452;stroke:#333333;\" x=\"118.780167\" xlink:href=\"#m1822ba53d3\" y=\"82.837267\"/>\n",
       "     <use style=\"fill:#dd8452;stroke:#333333;\" x=\"219.240354\" xlink:href=\"#m1822ba53d3\" y=\"195.115065\"/>\n",
       "     <use style=\"fill:#dd8452;stroke:#333333;\" x=\"212.61881\" xlink:href=\"#m1822ba53d3\" y=\"174.999985\"/>\n",
       "     <use style=\"fill:#dd8452;stroke:#333333;\" x=\"122.682803\" xlink:href=\"#m1822ba53d3\" y=\"78.537928\"/>\n",
       "     <use style=\"fill:#dd8452;stroke:#333333;\" x=\"235.492375\" xlink:href=\"#m1822ba53d3\" y=\"175.571697\"/>\n",
       "     <use style=\"fill:#dd8452;stroke:#333333;\" x=\"123.134665\" xlink:href=\"#m1822ba53d3\" y=\"84.738407\"/>\n",
       "     <use style=\"fill:#dd8452;stroke:#333333;\" x=\"120.707838\" xlink:href=\"#m1822ba53d3\" y=\"86.904679\"/>\n",
       "     <use style=\"fill:#dd8452;stroke:#333333;\" x=\"248.9068\" xlink:href=\"#m1822ba53d3\" y=\"195.654551\"/>\n",
       "     <use style=\"fill:#dd8452;stroke:#333333;\" x=\"225.623296\" xlink:href=\"#m1822ba53d3\" y=\"172.59052\"/>\n",
       "     <use style=\"fill:#dd8452;stroke:#333333;\" x=\"110.319052\" xlink:href=\"#m1822ba53d3\" y=\"74.729342\"/>\n",
       "     <use style=\"fill:#dd8452;stroke:#333333;\" x=\"134.047358\" xlink:href=\"#m1822ba53d3\" y=\"76.348126\"/>\n",
       "     <use style=\"fill:#dd8452;stroke:#333333;\" x=\"136.739925\" xlink:href=\"#m1822ba53d3\" y=\"62.486839\"/>\n",
       "     <use style=\"fill:#dd8452;stroke:#333333;\" x=\"235.652384\" xlink:href=\"#m1822ba53d3\" y=\"193.26863\"/>\n",
       "     <use style=\"fill:#dd8452;stroke:#333333;\" x=\"110.715208\" xlink:href=\"#m1822ba53d3\" y=\"78.005027\"/>\n",
       "     <use style=\"fill:#dd8452;stroke:#333333;\" x=\"223.722318\" xlink:href=\"#m1822ba53d3\" y=\"176.670472\"/>\n",
       "     <use style=\"fill:#dd8452;stroke:#333333;\" x=\"122.416481\" xlink:href=\"#m1822ba53d3\" y=\"88.653235\"/>\n",
       "     <use style=\"fill:#dd8452;stroke:#333333;\" x=\"128.615513\" xlink:href=\"#m1822ba53d3\" y=\"70.241533\"/>\n",
       "     <use style=\"fill:#dd8452;stroke:#333333;\" x=\"127.758799\" xlink:href=\"#m1822ba53d3\" y=\"72.957314\"/>\n",
       "     <use style=\"fill:#dd8452;stroke:#333333;\" x=\"216.816072\" xlink:href=\"#m1822ba53d3\" y=\"177.378942\"/>\n",
       "     <use style=\"fill:#dd8452;stroke:#333333;\" x=\"110.710258\" xlink:href=\"#m1822ba53d3\" y=\"91.806632\"/>\n",
       "     <use style=\"fill:#dd8452;stroke:#333333;\" x=\"126.826018\" xlink:href=\"#m1822ba53d3\" y=\"68.692592\"/>\n",
       "     <use style=\"fill:#dd8452;stroke:#333333;\" x=\"210.324249\" xlink:href=\"#m1822ba53d3\" y=\"174.268046\"/>\n",
       "     <use style=\"fill:#dd8452;stroke:#333333;\" x=\"231.301528\" xlink:href=\"#m1822ba53d3\" y=\"196.626833\"/>\n",
       "     <use style=\"fill:#dd8452;stroke:#333333;\" x=\"124.811149\" xlink:href=\"#m1822ba53d3\" y=\"69.094029\"/>\n",
       "     <use style=\"fill:#dd8452;stroke:#333333;\" x=\"129.754097\" xlink:href=\"#m1822ba53d3\" y=\"84.153386\"/>\n",
       "     <use style=\"fill:#dd8452;stroke:#333333;\" x=\"215.731582\" xlink:href=\"#m1822ba53d3\" y=\"184.433377\"/>\n",
       "     <use style=\"fill:#dd8452;stroke:#333333;\" x=\"209.065888\" xlink:href=\"#m1822ba53d3\" y=\"186.557453\"/>\n",
       "     <use style=\"fill:#dd8452;stroke:#333333;\" x=\"127.545364\" xlink:href=\"#m1822ba53d3\" y=\"79.883512\"/>\n",
       "     <use style=\"fill:#dd8452;stroke:#333333;\" x=\"92.976375\" xlink:href=\"#m1822ba53d3\" y=\"85.530225\"/>\n",
       "     <use style=\"fill:#dd8452;stroke:#333333;\" x=\"116.12126\" xlink:href=\"#m1822ba53d3\" y=\"91.775968\"/>\n",
       "     <use style=\"fill:#dd8452;stroke:#333333;\" x=\"129.954867\" xlink:href=\"#m1822ba53d3\" y=\"71.807464\"/>\n",
       "     <use style=\"fill:#dd8452;stroke:#333333;\" x=\"112.745245\" xlink:href=\"#m1822ba53d3\" y=\"80.555517\"/>\n",
       "     <use style=\"fill:#dd8452;stroke:#333333;\" x=\"117.845794\" xlink:href=\"#m1822ba53d3\" y=\"74.684201\"/>\n",
       "     <use style=\"fill:#dd8452;stroke:#333333;\" x=\"130.448762\" xlink:href=\"#m1822ba53d3\" y=\"84.523445\"/>\n",
       "     <use style=\"fill:#dd8452;stroke:#333333;\" x=\"245.831937\" xlink:href=\"#m1822ba53d3\" y=\"190.109778\"/>\n",
       "     <use style=\"fill:#dd8452;stroke:#333333;\" x=\"106.658638\" xlink:href=\"#m1822ba53d3\" y=\"62.144579\"/>\n",
       "     <use style=\"fill:#dd8452;stroke:#333333;\" x=\"246.404283\" xlink:href=\"#m1822ba53d3\" y=\"176.479967\"/>\n",
       "     <use style=\"fill:#dd8452;stroke:#333333;\" x=\"236.011259\" xlink:href=\"#m1822ba53d3\" y=\"166.124698\"/>\n",
       "     <use style=\"fill:#dd8452;stroke:#333333;\" x=\"212.249729\" xlink:href=\"#m1822ba53d3\" y=\"197.183933\"/>\n",
       "     <use style=\"fill:#dd8452;stroke:#333333;\" x=\"215.317191\" xlink:href=\"#m1822ba53d3\" y=\"209.749946\"/>\n",
       "     <use style=\"fill:#dd8452;stroke:#333333;\" x=\"121.147611\" xlink:href=\"#m1822ba53d3\" y=\"63.325534\"/>\n",
       "     <use style=\"fill:#dd8452;stroke:#333333;\" x=\"217.436177\" xlink:href=\"#m1822ba53d3\" y=\"171.712521\"/>\n",
       "     <use style=\"fill:#dd8452;stroke:#333333;\" x=\"207.005023\" xlink:href=\"#m1822ba53d3\" y=\"160.73698\"/>\n",
       "     <use style=\"fill:#dd8452;stroke:#333333;\" x=\"110.361651\" xlink:href=\"#m1822ba53d3\" y=\"67.872443\"/>\n",
       "     <use style=\"fill:#dd8452;stroke:#333333;\" x=\"129.043462\" xlink:href=\"#m1822ba53d3\" y=\"77.896386\"/>\n",
       "     <use style=\"fill:#dd8452;stroke:#333333;\" x=\"237.76373\" xlink:href=\"#m1822ba53d3\" y=\"175.913803\"/>\n",
       "     <use style=\"fill:#dd8452;stroke:#333333;\" x=\"116.269928\" xlink:href=\"#m1822ba53d3\" y=\"71.243232\"/>\n",
       "     <use style=\"fill:#dd8452;stroke:#333333;\" x=\"125.638155\" xlink:href=\"#m1822ba53d3\" y=\"79.260109\"/>\n",
       "     <use style=\"fill:#dd8452;stroke:#333333;\" x=\"124.383578\" xlink:href=\"#m1822ba53d3\" y=\"81.810632\"/>\n",
       "     <use style=\"fill:#dd8452;stroke:#333333;\" x=\"224.832211\" xlink:href=\"#m1822ba53d3\" y=\"170.303854\"/>\n",
       "     <use style=\"fill:#dd8452;stroke:#333333;\" x=\"231.06973\" xlink:href=\"#m1822ba53d3\" y=\"163.041048\"/>\n",
       "     <use style=\"fill:#dd8452;stroke:#333333;\" x=\"238.010678\" xlink:href=\"#m1822ba53d3\" y=\"176.611656\"/>\n",
       "     <use style=\"fill:#dd8452;stroke:#333333;\" x=\"149.805548\" xlink:href=\"#m1822ba53d3\" y=\"77.469185\"/>\n",
       "     <use style=\"fill:#dd8452;stroke:#333333;\" x=\"211.663632\" xlink:href=\"#m1822ba53d3\" y=\"198.978781\"/>\n",
       "     <use style=\"fill:#dd8452;stroke:#333333;\" x=\"252.021957\" xlink:href=\"#m1822ba53d3\" y=\"198.229188\"/>\n",
       "     <use style=\"fill:#dd8452;stroke:#333333;\" x=\"221.941788\" xlink:href=\"#m1822ba53d3\" y=\"195.840128\"/>\n",
       "     <use style=\"fill:#dd8452;stroke:#333333;\" x=\"113.472343\" xlink:href=\"#m1822ba53d3\" y=\"85.737332\"/>\n",
       "     <use style=\"fill:#dd8452;stroke:#333333;\" x=\"111.705327\" xlink:href=\"#m1822ba53d3\" y=\"77.466631\"/>\n",
       "     <use style=\"fill:#dd8452;stroke:#333333;\" x=\"239.867221\" xlink:href=\"#m1822ba53d3\" y=\"198.103735\"/>\n",
       "     <use style=\"fill:#dd8452;stroke:#333333;\" x=\"112.049484\" xlink:href=\"#m1822ba53d3\" y=\"83.321073\"/>\n",
       "     <use style=\"fill:#dd8452;stroke:#333333;\" x=\"101.004874\" xlink:href=\"#m1822ba53d3\" y=\"79.424966\"/>\n",
       "     <use style=\"fill:#dd8452;stroke:#333333;\" x=\"135.319358\" xlink:href=\"#m1822ba53d3\" y=\"69.050871\"/>\n",
       "     <use style=\"fill:#dd8452;stroke:#333333;\" x=\"114.389143\" xlink:href=\"#m1822ba53d3\" y=\"71.394117\"/>\n",
       "     <use style=\"fill:#dd8452;stroke:#333333;\" x=\"245.872438\" xlink:href=\"#m1822ba53d3\" y=\"196.147065\"/>\n",
       "     <use style=\"fill:#dd8452;stroke:#333333;\" x=\"208.220732\" xlink:href=\"#m1822ba53d3\" y=\"181.948403\"/>\n",
       "     <use style=\"fill:#dd8452;stroke:#333333;\" x=\"121.062741\" xlink:href=\"#m1822ba53d3\" y=\"65.860828\"/>\n",
       "     <use style=\"fill:#dd8452;stroke:#333333;\" x=\"243.716211\" xlink:href=\"#m1822ba53d3\" y=\"194.238972\"/>\n",
       "    </g>\n",
       "   </g>\n",
       "   <g id=\"patch_3\">\n",
       "    <path d=\"M 66.023594 239.758125 \n",
       "L 66.023594 22.318125 \n",
       "\" style=\"fill:none;stroke:#ffffff;stroke-linecap:square;stroke-linejoin:miter;stroke-width:1.25;\"/>\n",
       "   </g>\n",
       "   <g id=\"patch_4\">\n",
       "    <path d=\"M 283.463594 239.758125 \n",
       "L 283.463594 22.318125 \n",
       "\" style=\"fill:none;stroke:#ffffff;stroke-linecap:square;stroke-linejoin:miter;stroke-width:1.25;\"/>\n",
       "   </g>\n",
       "   <g id=\"patch_5\">\n",
       "    <path d=\"M 66.023594 239.758125 \n",
       "L 283.463594 239.758125 \n",
       "\" style=\"fill:none;stroke:#ffffff;stroke-linecap:square;stroke-linejoin:miter;stroke-width:1.25;\"/>\n",
       "   </g>\n",
       "   <g id=\"patch_6\">\n",
       "    <path d=\"M 66.023594 22.318125 \n",
       "L 283.463594 22.318125 \n",
       "\" style=\"fill:none;stroke:#ffffff;stroke-linecap:square;stroke-linejoin:miter;stroke-width:1.25;\"/>\n",
       "   </g>\n",
       "   <g id=\"text_17\">\n",
       "    <!-- Dataset samples -->\n",
       "    <g style=\"fill:#262626;\" transform=\"translate(124.400781 16.318125)scale(0.12 -0.12)\">\n",
       "     <defs>\n",
       "      <path d=\"M 19.671875 64.796875 \n",
       "L 19.671875 8.109375 \n",
       "L 31.59375 8.109375 \n",
       "Q 46.6875 8.109375 53.6875 14.9375 \n",
       "Q 60.6875 21.78125 60.6875 36.53125 \n",
       "Q 60.6875 51.171875 53.6875 57.984375 \n",
       "Q 46.6875 64.796875 31.59375 64.796875 \n",
       "z\n",
       "M 9.8125 72.90625 \n",
       "L 30.078125 72.90625 \n",
       "Q 51.265625 72.90625 61.171875 64.09375 \n",
       "Q 71.09375 55.28125 71.09375 36.53125 \n",
       "Q 71.09375 17.671875 61.125 8.828125 \n",
       "Q 51.171875 0 30.078125 0 \n",
       "L 9.8125 0 \n",
       "z\n",
       "\" id=\"DejaVuSans-68\"/>\n",
       "      <path d=\"M 34.28125 27.484375 \n",
       "Q 23.390625 27.484375 19.1875 25 \n",
       "Q 14.984375 22.515625 14.984375 16.5 \n",
       "Q 14.984375 11.71875 18.140625 8.90625 \n",
       "Q 21.296875 6.109375 26.703125 6.109375 \n",
       "Q 34.1875 6.109375 38.703125 11.40625 \n",
       "Q 43.21875 16.703125 43.21875 25.484375 \n",
       "L 43.21875 27.484375 \n",
       "z\n",
       "M 52.203125 31.203125 \n",
       "L 52.203125 0 \n",
       "L 43.21875 0 \n",
       "L 43.21875 8.296875 \n",
       "Q 40.140625 3.328125 35.546875 0.953125 \n",
       "Q 30.953125 -1.421875 24.3125 -1.421875 \n",
       "Q 15.921875 -1.421875 10.953125 3.296875 \n",
       "Q 6 8.015625 6 15.921875 \n",
       "Q 6 25.140625 12.171875 29.828125 \n",
       "Q 18.359375 34.515625 30.609375 34.515625 \n",
       "L 43.21875 34.515625 \n",
       "L 43.21875 35.40625 \n",
       "Q 43.21875 41.609375 39.140625 45 \n",
       "Q 35.0625 48.390625 27.6875 48.390625 \n",
       "Q 23 48.390625 18.546875 47.265625 \n",
       "Q 14.109375 46.140625 10.015625 43.890625 \n",
       "L 10.015625 52.203125 \n",
       "Q 14.9375 54.109375 19.578125 55.046875 \n",
       "Q 24.21875 56 28.609375 56 \n",
       "Q 40.484375 56 46.34375 49.84375 \n",
       "Q 52.203125 43.703125 52.203125 31.203125 \n",
       "z\n",
       "\" id=\"DejaVuSans-97\"/>\n",
       "      <path d=\"M 18.3125 70.21875 \n",
       "L 18.3125 54.6875 \n",
       "L 36.8125 54.6875 \n",
       "L 36.8125 47.703125 \n",
       "L 18.3125 47.703125 \n",
       "L 18.3125 18.015625 \n",
       "Q 18.3125 11.328125 20.140625 9.421875 \n",
       "Q 21.96875 7.515625 27.59375 7.515625 \n",
       "L 36.8125 7.515625 \n",
       "L 36.8125 0 \n",
       "L 27.59375 0 \n",
       "Q 17.1875 0 13.234375 3.875 \n",
       "Q 9.28125 7.765625 9.28125 18.015625 \n",
       "L 9.28125 47.703125 \n",
       "L 2.6875 47.703125 \n",
       "L 2.6875 54.6875 \n",
       "L 9.28125 54.6875 \n",
       "L 9.28125 70.21875 \n",
       "z\n",
       "\" id=\"DejaVuSans-116\"/>\n",
       "      <path d=\"M 44.28125 53.078125 \n",
       "L 44.28125 44.578125 \n",
       "Q 40.484375 46.53125 36.375 47.5 \n",
       "Q 32.28125 48.484375 27.875 48.484375 \n",
       "Q 21.1875 48.484375 17.84375 46.4375 \n",
       "Q 14.5 44.390625 14.5 40.28125 \n",
       "Q 14.5 37.15625 16.890625 35.375 \n",
       "Q 19.28125 33.59375 26.515625 31.984375 \n",
       "L 29.59375 31.296875 \n",
       "Q 39.15625 29.25 43.1875 25.515625 \n",
       "Q 47.21875 21.78125 47.21875 15.09375 \n",
       "Q 47.21875 7.46875 41.1875 3.015625 \n",
       "Q 35.15625 -1.421875 24.609375 -1.421875 \n",
       "Q 20.21875 -1.421875 15.453125 -0.5625 \n",
       "Q 10.6875 0.296875 5.421875 2 \n",
       "L 5.421875 11.28125 \n",
       "Q 10.40625 8.6875 15.234375 7.390625 \n",
       "Q 20.0625 6.109375 24.8125 6.109375 \n",
       "Q 31.15625 6.109375 34.5625 8.28125 \n",
       "Q 37.984375 10.453125 37.984375 14.40625 \n",
       "Q 37.984375 18.0625 35.515625 20.015625 \n",
       "Q 33.0625 21.96875 24.703125 23.78125 \n",
       "L 21.578125 24.515625 \n",
       "Q 13.234375 26.265625 9.515625 29.90625 \n",
       "Q 5.8125 33.546875 5.8125 39.890625 \n",
       "Q 5.8125 47.609375 11.28125 51.796875 \n",
       "Q 16.75 56 26.8125 56 \n",
       "Q 31.78125 56 36.171875 55.265625 \n",
       "Q 40.578125 54.546875 44.28125 53.078125 \n",
       "z\n",
       "\" id=\"DejaVuSans-115\"/>\n",
       "      <path d=\"M 56.203125 29.59375 \n",
       "L 56.203125 25.203125 \n",
       "L 14.890625 25.203125 \n",
       "Q 15.484375 15.921875 20.484375 11.0625 \n",
       "Q 25.484375 6.203125 34.421875 6.203125 \n",
       "Q 39.59375 6.203125 44.453125 7.46875 \n",
       "Q 49.3125 8.734375 54.109375 11.28125 \n",
       "L 54.109375 2.78125 \n",
       "Q 49.265625 0.734375 44.1875 -0.34375 \n",
       "Q 39.109375 -1.421875 33.890625 -1.421875 \n",
       "Q 20.796875 -1.421875 13.15625 6.1875 \n",
       "Q 5.515625 13.8125 5.515625 26.8125 \n",
       "Q 5.515625 40.234375 12.765625 48.109375 \n",
       "Q 20.015625 56 32.328125 56 \n",
       "Q 43.359375 56 49.78125 48.890625 \n",
       "Q 56.203125 41.796875 56.203125 29.59375 \n",
       "z\n",
       "M 47.21875 32.234375 \n",
       "Q 47.125 39.59375 43.09375 43.984375 \n",
       "Q 39.0625 48.390625 32.421875 48.390625 \n",
       "Q 24.90625 48.390625 20.390625 44.140625 \n",
       "Q 15.875 39.890625 15.1875 32.171875 \n",
       "z\n",
       "\" id=\"DejaVuSans-101\"/>\n",
       "      <path id=\"DejaVuSans-32\"/>\n",
       "      <path d=\"M 52 44.1875 \n",
       "Q 55.375 50.25 60.0625 53.125 \n",
       "Q 64.75 56 71.09375 56 \n",
       "Q 79.640625 56 84.28125 50.015625 \n",
       "Q 88.921875 44.046875 88.921875 33.015625 \n",
       "L 88.921875 0 \n",
       "L 79.890625 0 \n",
       "L 79.890625 32.71875 \n",
       "Q 79.890625 40.578125 77.09375 44.375 \n",
       "Q 74.3125 48.1875 68.609375 48.1875 \n",
       "Q 61.625 48.1875 57.5625 43.546875 \n",
       "Q 53.515625 38.921875 53.515625 30.90625 \n",
       "L 53.515625 0 \n",
       "L 44.484375 0 \n",
       "L 44.484375 32.71875 \n",
       "Q 44.484375 40.625 41.703125 44.40625 \n",
       "Q 38.921875 48.1875 33.109375 48.1875 \n",
       "Q 26.21875 48.1875 22.15625 43.53125 \n",
       "Q 18.109375 38.875 18.109375 30.90625 \n",
       "L 18.109375 0 \n",
       "L 9.078125 0 \n",
       "L 9.078125 54.6875 \n",
       "L 18.109375 54.6875 \n",
       "L 18.109375 46.1875 \n",
       "Q 21.1875 51.21875 25.484375 53.609375 \n",
       "Q 29.78125 56 35.6875 56 \n",
       "Q 41.65625 56 45.828125 52.96875 \n",
       "Q 50 49.953125 52 44.1875 \n",
       "z\n",
       "\" id=\"DejaVuSans-109\"/>\n",
       "      <path d=\"M 18.109375 8.203125 \n",
       "L 18.109375 -20.796875 \n",
       "L 9.078125 -20.796875 \n",
       "L 9.078125 54.6875 \n",
       "L 18.109375 54.6875 \n",
       "L 18.109375 46.390625 \n",
       "Q 20.953125 51.265625 25.265625 53.625 \n",
       "Q 29.59375 56 35.59375 56 \n",
       "Q 45.5625 56 51.78125 48.09375 \n",
       "Q 58.015625 40.1875 58.015625 27.296875 \n",
       "Q 58.015625 14.40625 51.78125 6.484375 \n",
       "Q 45.5625 -1.421875 35.59375 -1.421875 \n",
       "Q 29.59375 -1.421875 25.265625 0.953125 \n",
       "Q 20.953125 3.328125 18.109375 8.203125 \n",
       "z\n",
       "M 48.6875 27.296875 \n",
       "Q 48.6875 37.203125 44.609375 42.84375 \n",
       "Q 40.53125 48.484375 33.40625 48.484375 \n",
       "Q 26.265625 48.484375 22.1875 42.84375 \n",
       "Q 18.109375 37.203125 18.109375 27.296875 \n",
       "Q 18.109375 17.390625 22.1875 11.75 \n",
       "Q 26.265625 6.109375 33.40625 6.109375 \n",
       "Q 40.53125 6.109375 44.609375 11.75 \n",
       "Q 48.6875 17.390625 48.6875 27.296875 \n",
       "z\n",
       "\" id=\"DejaVuSans-112\"/>\n",
       "      <path d=\"M 9.421875 75.984375 \n",
       "L 18.40625 75.984375 \n",
       "L 18.40625 0 \n",
       "L 9.421875 0 \n",
       "z\n",
       "\" id=\"DejaVuSans-108\"/>\n",
       "     </defs>\n",
       "     <use xlink:href=\"#DejaVuSans-68\"/>\n",
       "     <use x=\"77.001953\" xlink:href=\"#DejaVuSans-97\"/>\n",
       "     <use x=\"138.28125\" xlink:href=\"#DejaVuSans-116\"/>\n",
       "     <use x=\"177.490234\" xlink:href=\"#DejaVuSans-97\"/>\n",
       "     <use x=\"238.769531\" xlink:href=\"#DejaVuSans-115\"/>\n",
       "     <use x=\"290.869141\" xlink:href=\"#DejaVuSans-101\"/>\n",
       "     <use x=\"352.392578\" xlink:href=\"#DejaVuSans-116\"/>\n",
       "     <use x=\"391.601562\" xlink:href=\"#DejaVuSans-32\"/>\n",
       "     <use x=\"423.388672\" xlink:href=\"#DejaVuSans-115\"/>\n",
       "     <use x=\"475.488281\" xlink:href=\"#DejaVuSans-97\"/>\n",
       "     <use x=\"536.767578\" xlink:href=\"#DejaVuSans-109\"/>\n",
       "     <use x=\"634.179688\" xlink:href=\"#DejaVuSans-112\"/>\n",
       "     <use x=\"697.65625\" xlink:href=\"#DejaVuSans-108\"/>\n",
       "     <use x=\"725.439453\" xlink:href=\"#DejaVuSans-101\"/>\n",
       "     <use x=\"786.962891\" xlink:href=\"#DejaVuSans-115\"/>\n",
       "    </g>\n",
       "   </g>\n",
       "   <g id=\"legend_1\">\n",
       "    <g id=\"patch_7\">\n",
       "     <path d=\"M 201.130312 148.834063 \n",
       "L 275.763594 148.834063 \n",
       "Q 277.963594 148.834063 277.963594 146.634063 \n",
       "L 277.963594 115.442187 \n",
       "Q 277.963594 113.242188 275.763594 113.242188 \n",
       "L 201.130312 113.242188 \n",
       "Q 198.930312 113.242188 198.930312 115.442187 \n",
       "L 198.930312 146.634063 \n",
       "Q 198.930312 148.834063 201.130312 148.834063 \n",
       "z\n",
       "\" style=\"fill:#eaeaf2;opacity:0.8;stroke:#cccccc;stroke-linejoin:miter;\"/>\n",
       "    </g>\n",
       "    <g id=\"PathCollection_3\">\n",
       "     <g>\n",
       "      <use style=\"fill:#4c72b0;stroke:#333333;\" x=\"214.330312\" xlink:href=\"#mf09729daca\" y=\"123.112969\"/>\n",
       "     </g>\n",
       "    </g>\n",
       "    <g id=\"text_18\">\n",
       "     <!-- Class 0 -->\n",
       "     <g style=\"fill:#262626;\" transform=\"translate(234.130312 126.000469)scale(0.11 -0.11)\">\n",
       "      <defs>\n",
       "       <path d=\"M 64.40625 67.28125 \n",
       "L 64.40625 56.890625 \n",
       "Q 59.421875 61.53125 53.78125 63.8125 \n",
       "Q 48.140625 66.109375 41.796875 66.109375 \n",
       "Q 29.296875 66.109375 22.65625 58.46875 \n",
       "Q 16.015625 50.828125 16.015625 36.375 \n",
       "Q 16.015625 21.96875 22.65625 14.328125 \n",
       "Q 29.296875 6.6875 41.796875 6.6875 \n",
       "Q 48.140625 6.6875 53.78125 8.984375 \n",
       "Q 59.421875 11.28125 64.40625 15.921875 \n",
       "L 64.40625 5.609375 \n",
       "Q 59.234375 2.09375 53.4375 0.328125 \n",
       "Q 47.65625 -1.421875 41.21875 -1.421875 \n",
       "Q 24.65625 -1.421875 15.125 8.703125 \n",
       "Q 5.609375 18.84375 5.609375 36.375 \n",
       "Q 5.609375 53.953125 15.125 64.078125 \n",
       "Q 24.65625 74.21875 41.21875 74.21875 \n",
       "Q 47.75 74.21875 53.53125 72.484375 \n",
       "Q 59.328125 70.75 64.40625 67.28125 \n",
       "z\n",
       "\" id=\"DejaVuSans-67\"/>\n",
       "      </defs>\n",
       "      <use xlink:href=\"#DejaVuSans-67\"/>\n",
       "      <use x=\"69.824219\" xlink:href=\"#DejaVuSans-108\"/>\n",
       "      <use x=\"97.607422\" xlink:href=\"#DejaVuSans-97\"/>\n",
       "      <use x=\"158.886719\" xlink:href=\"#DejaVuSans-115\"/>\n",
       "      <use x=\"210.986328\" xlink:href=\"#DejaVuSans-115\"/>\n",
       "      <use x=\"263.085938\" xlink:href=\"#DejaVuSans-32\"/>\n",
       "      <use x=\"294.873047\" xlink:href=\"#DejaVuSans-48\"/>\n",
       "     </g>\n",
       "    </g>\n",
       "    <g id=\"PathCollection_4\">\n",
       "     <g>\n",
       "      <use style=\"fill:#dd8452;stroke:#333333;\" x=\"214.330312\" xlink:href=\"#m1822ba53d3\" y=\"139.258906\"/>\n",
       "     </g>\n",
       "    </g>\n",
       "    <g id=\"text_19\">\n",
       "     <!-- Class 1 -->\n",
       "     <g style=\"fill:#262626;\" transform=\"translate(234.130312 142.146406)scale(0.11 -0.11)\">\n",
       "      <use xlink:href=\"#DejaVuSans-67\"/>\n",
       "      <use x=\"69.824219\" xlink:href=\"#DejaVuSans-108\"/>\n",
       "      <use x=\"97.607422\" xlink:href=\"#DejaVuSans-97\"/>\n",
       "      <use x=\"158.886719\" xlink:href=\"#DejaVuSans-115\"/>\n",
       "      <use x=\"210.986328\" xlink:href=\"#DejaVuSans-115\"/>\n",
       "      <use x=\"263.085938\" xlink:href=\"#DejaVuSans-32\"/>\n",
       "      <use x=\"294.873047\" xlink:href=\"#DejaVuSans-49\"/>\n",
       "     </g>\n",
       "    </g>\n",
       "   </g>\n",
       "  </g>\n",
       " </g>\n",
       " <defs>\n",
       "  <clipPath id=\"pe8982c0c32\">\n",
       "   <rect height=\"217.44\" width=\"217.44\" x=\"66.023594\" y=\"22.318125\"/>\n",
       "  </clipPath>\n",
       " </defs>\n",
       "</svg>\n"
      ],
      "text/plain": [
       "<Figure size 288x288 with 1 Axes>"
      ]
     },
     "metadata": {},
     "output_type": "display_data"
    }
   ],
   "source": [
    "@torch.no_grad() # Decorator, same effect as \"with torch.no_grad(): ...\" over the whole function.\n",
    "def visualize_classification(model, data, label):\n",
    "    if isinstance(data, torch.Tensor):\n",
    "        data = data.cpu().numpy()\n",
    "    if isinstance(label, torch.Tensor):\n",
    "        label = label.cpu().numpy()\n",
    "    data_0 = data[label == 0]\n",
    "    data_1 = data[label == 1]\n",
    "    \n",
    "    fig = plt.figure(figsize=(4,4), dpi=500)\n",
    "    plt.scatter(data_0[:,0], data_0[:,1], edgecolor=\"#333\", label=\"Class 0\")\n",
    "    plt.scatter(data_1[:,0], data_1[:,1], edgecolor=\"#333\", label=\"Class 1\")\n",
    "    plt.title(\"Dataset samples\")\n",
    "    plt.ylabel(r\"$x_2$\")\n",
    "    plt.xlabel(r\"$x_1$\")\n",
    "    plt.legend()\n",
    "    \n",
    "    # Let's make use of a lot of operations we have learned above\n",
    "    model.to(device)\n",
    "    c0 = torch.Tensor(to_rgba(\"C0\")).to(device)\n",
    "    c1 = torch.Tensor(to_rgba(\"C1\")).to(device)\n",
    "    x1 = torch.arange(-0.5, 1.5, step=0.01, device=device)\n",
    "    x2 = torch.arange(-0.5, 1.5, step=0.01, device=device)\n",
    "    xx1, xx2 = torch.meshgrid(x1, x2)  # Meshgrid function as in numpy\n",
    "    model_inputs = torch.stack([xx1, xx2], dim=-1)\n",
    "    preds = model(model_inputs)\n",
    "    preds = torch.sigmoid(preds)\n",
    "    output_image = (1 - preds) * c0[None,None] + preds * c1[None,None]  # Specifying \"None\" in a dimension creates a new one\n",
    "    output_image = output_image.cpu().numpy()  # Convert to numpy array. This only works for tensors on CPU, hence first push to CPU\n",
    "    plt.imshow(output_image, origin='lower', extent=(-0.5, 1.5, -0.5, 1.5))\n",
    "    plt.grid(False)\n",
    "    return fig\n",
    "\n",
    "_ = visualize_classification(model, dataset.data, dataset.label)\n",
    "plt.show()"
   ]
  },
  {
   "cell_type": "markdown",
   "metadata": {},
   "source": [
    "The decision boundaries might not look exactly as in the figure in the preamble of this section which can be caused by running it on CPU or a different GPU architecture. Nevertheless, the result on the accuracy metric should be the approximately the same. "
   ]
  },
  {
   "cell_type": "markdown",
   "metadata": {},
   "source": [
    "## Additional features we didn't get to discuss yet\n",
    "\n",
    "Finally, you are all set to start with your own PyTorch project! In summary, we have looked at how we can build neural networks in PyTorch, and train and test them on data. However, there is still much more to PyTorch we haven't discussed yet. In the coming series of Jupyter notebooks, we will discover more and more functionalities of PyTorch, so that you also get familiar to PyTorch concepts beyond the basics. If you are already interested in learning more of PyTorch, we recommend the official [tutorial website](https://pytorch.org/tutorials/) that contains many tutorials on various topics. Especially logging with Tensorboard ([official tutorial here](https://pytorch.org/tutorials/intermediate/tensorboard_tutorial.html)) is a good practice that we will explore further from Tutorial 5 on in combination with PyTorch Lightning.\n",
    "Nonetheless, let's check it shortly out how we could use TensorBoard in our small example."
   ]
  },
  {
   "cell_type": "markdown",
   "metadata": {},
   "source": [
    "### TensorBoard logging\n",
    "\n",
    "TensorBoard is a logging and visualization tool that is a popular choice for training deep learning models. Although initially published for TensorFlow, TensorBoard is also integrated in PyTorch allowing us to easily use it. First, let's import it below."
   ]
  },
  {
   "cell_type": "code",
   "execution_count": 60,
   "metadata": {},
   "outputs": [],
   "source": [
    "# Import tensorboard logger from PyTorch\n",
    "from torch.utils.tensorboard import SummaryWriter\n",
    "\n",
    "# Load tensorboard extension for Jupyter Notebook, only need to start TB in the notebook\n",
    "%load_ext tensorboard"
   ]
  },
  {
   "cell_type": "markdown",
   "metadata": {},
   "source": [
    "The last line is required if you want to run TensorBoard directly in the Jupyter Notebook. Otherwise, you can start TensorBoard from the terminal.\n",
    "\n",
    "PyTorch's TensorBoard API is simple to use. We start the logging process by creating a new object, `writer = SummaryWriter(...)`, where we specify the directory in which the logging file should be saved. With this object, we can log different aspects of our model by calling functions of the style `writer.add_...`. For example, we can visualize the computation graph with the function `writer.add_graph`, or add a scalar value like the loss with `writer.add_scalar`. Let's adapt our initial training function with adding a TensorBoard logger below."
   ]
  },
  {
   "cell_type": "code",
   "execution_count": 61,
   "metadata": {},
   "outputs": [],
   "source": [
    "def train_model_with_logger(model, optimizer, data_loader, loss_module, val_dataset, num_epochs=100, logging_dir='runs/our_experiment'):\n",
    "    # Create TensorBoard logger\n",
    "    writer = SummaryWriter(logging_dir)\n",
    "    model_plotted = False\n",
    "    \n",
    "    # Set model to train mode\n",
    "    model.train() \n",
    "    \n",
    "    # Training loop\n",
    "    for epoch in tqdm(range(num_epochs)):\n",
    "        epoch_loss = 0.0\n",
    "        for data_inputs, data_labels in data_loader:\n",
    "            \n",
    "            ## Step 1: Move input data to device (only strictly necessary if we use GPU)\n",
    "            data_inputs = data_inputs.to(device)\n",
    "            data_labels = data_labels.to(device)\n",
    "            \n",
    "            # For the very first batch, we visualize the computation graph in TensorBoard\n",
    "            if not model_plotted:\n",
    "                writer.add_graph(model, data_inputs)\n",
    "                model_plotted = True\n",
    "            \n",
    "            ## Step 2: Run the model on the input data\n",
    "            preds = model(data_inputs)\n",
    "            preds = preds.squeeze(dim=1) # Output is [Batch size, 1], but we want [Batch size]\n",
    "            \n",
    "            ## Step 3: Calculate the loss\n",
    "            loss = loss_module(preds, data_labels.float())\n",
    "            \n",
    "            ## Step 4: Perform backpropagation\n",
    "            # Before calculating the gradients, we need to ensure that they are all zero. \n",
    "            # The gradients would not be overwritten, but actually added to the existing ones.\n",
    "            optimizer.zero_grad() \n",
    "            # Perform backpropagation\n",
    "            loss.backward()\n",
    "            \n",
    "            ## Step 5: Update the parameters\n",
    "            optimizer.step()\n",
    "            \n",
    "            ## Step 6: Take the running average of the loss\n",
    "            epoch_loss += loss.item()\n",
    "            \n",
    "        # Add average loss to TensorBoard\n",
    "        epoch_loss /= len(data_loader)\n",
    "        writer.add_scalar('training_loss',\n",
    "                          epoch_loss,\n",
    "                          global_step = epoch + 1)\n",
    "        \n",
    "        # Visualize prediction and add figure to TensorBoard\n",
    "        # Since matplotlib figures can be slow in rendering, we only do it every 10th epoch\n",
    "        if (epoch + 1) % 10 == 0:\n",
    "            fig = visualize_classification(model, val_dataset.data, val_dataset.label)\n",
    "            writer.add_figure('predictions',\n",
    "                              fig,\n",
    "                              global_step = epoch + 1)\n",
    "    \n",
    "    writer.close()"
   ]
  },
  {
   "cell_type": "markdown",
   "metadata": {},
   "source": [
    "Let's use this method to train a model as before, with a new model and optimizer."
   ]
  },
  {
   "cell_type": "code",
   "execution_count": 62,
   "metadata": {},
   "outputs": [
    {
     "data": {
      "application/vnd.jupyter.widget-view+json": {
       "model_id": "bf402fee4c7943c2835cc9dfa65944a4",
       "version_major": 2,
       "version_minor": 0
      },
      "text/plain": [
       "  0%|          | 0/100 [00:00<?, ?it/s]"
      ]
     },
     "metadata": {},
     "output_type": "display_data"
    }
   ],
   "source": [
    "model = SimpleClassifier(num_inputs=2, num_hidden=4, num_outputs=1).to(device)\n",
    "optimizer = torch.optim.SGD(model.parameters(), lr=0.1)\n",
    "train_model_with_logger(model, optimizer, train_data_loader, loss_module, val_dataset=dataset)"
   ]
  },
  {
   "cell_type": "markdown",
   "metadata": {},
   "source": [
    "The TensorBoard file in the folder `runs/our_experiment` now contains a loss curve, the computation graph of our network, and a visualization of the learned predictions over number of epochs. To start the TensorBoard visualizer, simply run the following statement:"
   ]
  },
  {
   "cell_type": "code",
   "execution_count": 63,
   "metadata": {},
   "outputs": [],
   "source": [
    "%tensorboard --logdir runs/our_experiment"
   ]
  },
  {
   "cell_type": "markdown",
   "metadata": {},
   "source": [
    "<center><img src=\"tensorboard_screenshot.png\" width=\"1100px\"></center>\n",
    "\n",
    "TensorBoard visualizations can help to identify possible issues with your model, and identify situations such as overfitting. You can also track the training progress while a model is training, since the logger automatically writes everything added to it to the logging file. Feel free to explore the TensorBoard functionalities, and we will make use of TensorBoards a couple of times from Tutorial 5 on."
   ]
  },
  {
   "cell_type": "markdown",
   "metadata": {},
   "source": [
    "---\n",
    "\n",
    "[![Star our repository](https://img.shields.io/static/v1.svg?logo=star&label=⭐&message=Star%20Our%20Repository&color=yellow)](https://github.com/phlippe/uvadlc_notebooks/)  If you found this tutorial helpful, consider ⭐-ing our repository.    \n",
    "[![Ask questions](https://img.shields.io/static/v1.svg?logo=star&label=❔&message=Ask%20Questions&color=9cf)](https://github.com/phlippe/uvadlc_notebooks/issues)  For any questions, typos, or bugs that you found, please raise an issue on GitHub. \n",
    "\n",
    "---"
   ]
  }
 ],
 "metadata": {
  "kernelspec": {
   "display_name": "Python 3 (ipykernel)",
   "language": "python",
   "name": "python3"
  },
  "language_info": {
   "codemirror_mode": {
    "name": "ipython",
    "version": 3
   },
   "file_extension": ".py",
   "mimetype": "text/x-python",
   "name": "python",
   "nbconvert_exporter": "python",
   "pygments_lexer": "ipython3",
   "version": "3.8.2"
  }
 },
 "nbformat": 4,
 "nbformat_minor": 4
}
