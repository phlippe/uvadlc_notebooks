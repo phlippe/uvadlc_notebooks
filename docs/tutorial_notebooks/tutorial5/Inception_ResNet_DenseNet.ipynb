{
 "cells": [
  {
   "cell_type": "markdown",
   "metadata": {},
   "source": [
    "# Tutorial 5: Inception, ResNet and DenseNet\n",
    "\n",
    "![Status](https://img.shields.io/static/v1.svg?label=Status&message=Finished&color=green)\n",
    "\n",
    "\n",
    "**Filled notebook:** \n",
    "[![View on Github](https://img.shields.io/static/v1.svg?logo=github&label=Repo&message=View%20On%20Github&color=lightgrey)](https://github.com/phlippe/uvadlc_notebooks/blob/master/docs/tutorial_notebooks/tutorial5/Inception_ResNet_DenseNet.ipynb)\n",
    "[![Open In Collab](https://colab.research.google.com/assets/colab-badge.svg)](https://colab.research.google.com/github/phlippe/uvadlc_notebooks/blob/master/docs/tutorial_notebooks/tutorial5/Inception_ResNet_DenseNet.ipynb)   \n",
    "**Pre-trained models:** \n",
    "[![View files on Github](https://img.shields.io/static/v1.svg?logo=github&label=Repo&message=View%20On%20Github&color=lightgrey)](https://github.com/phlippe/saved_models/tree/main/tutorial5)\n",
    "[![GoogleDrive](https://img.shields.io/static/v1.svg?logo=google-drive&logoColor=yellow&label=GDrive&message=Download&color=yellow)](https://drive.google.com/drive/folders/1zOgLKmYJ2V3uHz57nPUMY6tq15RmEtNg?usp=sharing)   \n",
    "**Recordings:** \n",
    "[![YouTube - Part 1](https://img.shields.io/static/v1.svg?logo=youtube&label=YouTube&message=Part%201&color=red)](https://youtu.be/vjSSyGxlczs)\n",
    "[![YouTube - Part 2](https://img.shields.io/static/v1.svg?logo=youtube&label=YouTube&message=Part%202&color=red)](https://youtu.be/9yRXqYJDHr4)\n",
    "[![YouTube - Part 3](https://img.shields.io/static/v1.svg?logo=youtube&label=YouTube&message=Part%203&color=red)](https://youtu.be/ELEqNwv9vkE)   \n",
    "**JAX+Flax version:**\n",
    "[![View on RTD](https://img.shields.io/static/v1.svg?logo=readthedocs&label=RTD&message=View%20On%20RTD&color=8CA1AF)](https://uvadlc-notebooks.readthedocs.io/en/latest/tutorial_notebooks/JAX/tutorial5/Inception_ResNet_DenseNet.html)   \n",
    "**Author:** Phillip Lippe"
   ]
  },
  {
   "cell_type": "markdown",
   "metadata": {},
   "source": [
    "<div class=\"alert alert-info\">\n",
    "\n",
    "**Note:** Interested in JAX? Check out our [JAX+Flax version](https://uvadlc-notebooks.readthedocs.io/en/latest/tutorial_notebooks/JAX/tutorial5/Inception_ResNet_DenseNet.html) of this tutorial!\n",
    "</div>"
   ]
  },
  {
   "cell_type": "markdown",
   "metadata": {},
   "source": [
    "In this tutorial, we will implement and discuss variants of modern CNN architectures. There have been many different architectures been proposed over the past few years. Some of the most impactful ones, and still relevant today, are the following: [GoogleNet](https://arxiv.org/abs/1409.4842)/Inception architecture (winner of ILSVRC 2014), [ResNet](https://arxiv.org/abs/1512.03385) (winner of ILSVRC 2015), and [DenseNet](https://arxiv.org/abs/1608.06993) (best paper award CVPR 2017). All of them were state-of-the-art models when being proposed, and the core ideas of these networks are the foundations for most current state-of-the-art architectures. Thus, it is important to understand these architectures in detail and learn how to implement them. \n",
    "\n",
    "Let's start with importing our standard libraries here."
   ]
  },
  {
   "cell_type": "code",
   "execution_count": 1,
   "metadata": {},
   "outputs": [],
   "source": [
    "## Standard libraries\n",
    "import os\n",
    "import numpy as np \n",
    "import random\n",
    "from PIL import Image\n",
    "from types import SimpleNamespace\n",
    "\n",
    "## Imports for plotting\n",
    "import matplotlib.pyplot as plt\n",
    "%matplotlib inline \n",
    "from IPython.display import set_matplotlib_formats\n",
    "set_matplotlib_formats('svg', 'pdf') # For export\n",
    "import matplotlib\n",
    "matplotlib.rcParams['lines.linewidth'] = 2.0\n",
    "import seaborn as sns\n",
    "sns.reset_orig()\n",
    "\n",
    "## PyTorch\n",
    "import torch\n",
    "import torch.nn as nn\n",
    "import torch.utils.data as data\n",
    "import torch.optim as optim\n",
    "# Torchvision\n",
    "import torchvision\n",
    "from torchvision.datasets import CIFAR10\n",
    "from torchvision import transforms"
   ]
  },
  {
   "cell_type": "markdown",
   "metadata": {},
   "source": [
    "We will use the same `set_seed` function as in the previous tutorials, as well as the path variables `DATASET_PATH` and `CHECKPOINT_PATH`. Adjust the paths if necessary."
   ]
  },
  {
   "cell_type": "code",
   "execution_count": 2,
   "metadata": {},
   "outputs": [],
   "source": [
    "# Path to the folder where the datasets are/should be downloaded (e.g. CIFAR10)\n",
    "DATASET_PATH = \"../data\"\n",
    "# Path to the folder where the pretrained models are saved\n",
    "CHECKPOINT_PATH = \"../saved_models/tutorial5\"\n",
    "\n",
    "# Function for setting the seed\n",
    "def set_seed(seed):\n",
    "    random.seed(seed)\n",
    "    np.random.seed(seed)\n",
    "    torch.manual_seed(seed)\n",
    "    if torch.cuda.is_available():\n",
    "        torch.cuda.manual_seed(seed)\n",
    "        torch.cuda.manual_seed_all(seed)\n",
    "set_seed(42)\n",
    "\n",
    "# Ensure that all operations are deterministic on GPU (if used) for reproducibility\n",
    "torch.backends.cudnn.deterministic = True\n",
    "torch.backends.cudnn.benchmark = False\n",
    "\n",
    "device = torch.device(\"cuda:0\") if torch.cuda.is_available() else torch.device(\"cpu\")"
   ]
  },
  {
   "cell_type": "markdown",
   "metadata": {},
   "source": [
    "We also have pretrained models and Tensorboards (more on this later) for this tutorial, and download them below."
   ]
  },
  {
   "cell_type": "code",
   "execution_count": 3,
   "metadata": {},
   "outputs": [],
   "source": [
    "import urllib.request\n",
    "from urllib.error import HTTPError\n",
    "# Github URL where saved models are stored for this tutorial\n",
    "base_url = \"https://raw.githubusercontent.com/phlippe/saved_models/main/tutorial5/\"\n",
    "# Files to download\n",
    "pretrained_files = [\"GoogleNet.ckpt\", \"ResNet.ckpt\", \"ResNetPreAct.ckpt\", \"DenseNet.ckpt\",\n",
    "                    \"tensorboards/GoogleNet/events.out.tfevents.googlenet\",\n",
    "                    \"tensorboards/ResNet/events.out.tfevents.resnet\",\n",
    "                    \"tensorboards/ResNetPreAct/events.out.tfevents.resnetpreact\",\n",
    "                    \"tensorboards/DenseNet/events.out.tfevents.densenet\"]\n",
    "# Create checkpoint path if it doesn't exist yet\n",
    "os.makedirs(CHECKPOINT_PATH, exist_ok=True)\n",
    "\n",
    "# For each file, check whether it already exists. If not, try downloading it.\n",
    "for file_name in pretrained_files:\n",
    "    file_path = os.path.join(CHECKPOINT_PATH, file_name)\n",
    "    if \"/\" in file_name:\n",
    "        os.makedirs(file_path.rsplit(\"/\",1)[0], exist_ok=True)\n",
    "    if not os.path.isfile(file_path):\n",
    "        file_url = base_url + file_name\n",
    "        print(f\"Downloading {file_url}...\")\n",
    "        try:\n",
    "            urllib.request.urlretrieve(file_url, file_path)\n",
    "        except HTTPError as e:\n",
    "            print(\"Something went wrong. Please try to download the file from the GDrive folder, or contact the author with the full output including the following error:\\n\", e)"
   ]
  },
  {
   "cell_type": "markdown",
   "metadata": {},
   "source": [
    "Throughout this tutorial, we will train and evaluate the models on the CIFAR10 dataset. This allows you to compare the results obtained here with the model you have implemented in the first assignment. As we have learned from the previous tutorial about initialization, it is important to have the data preprocessed with a zero mean. Therefore, as a first step, we will calculate the mean and standard deviation of the CIFAR dataset:"
   ]
  },
  {
   "cell_type": "code",
   "execution_count": 4,
   "metadata": {},
   "outputs": [
    {
     "name": "stdout",
     "output_type": "stream",
     "text": [
      "Files already downloaded and verified\n",
      "Data mean [0.49139968 0.48215841 0.44653091]\n",
      "Data std [0.24703223 0.24348513 0.26158784]\n"
     ]
    }
   ],
   "source": [
    "train_dataset = CIFAR10(root=DATASET_PATH, train=True, download=True)\n",
    "DATA_MEANS = (train_dataset.data / 255.0).mean(axis=(0,1,2))\n",
    "DATA_STD = (train_dataset.data / 255.0).std(axis=(0,1,2))\n",
    "print(\"Data mean\", DATA_MEANS)\n",
    "print(\"Data std\", DATA_STD)"
   ]
  },
  {
   "cell_type": "markdown",
   "metadata": {},
   "source": [
    "We will use this information to define a `transforms.Normalize` module which will normalize our data accordingly. Additionally, we will use data augmentation during training. This reduces the risk of overfitting and helps CNNs to generalize better. Specifically, we will apply two random augmentations. \n",
    "\n",
    "First, we will flip each image horizontally by a chance of 50% (`transforms.RandomHorizontalFlip`). The object class usually does not change when flipping an image, and we don't expect any image information to be dependent on the horizontal orientation. This would be however different if we would try to detect digits or letters in an image, as those have a certain orientation.\n",
    "\n",
    "The second augmentation we use is called `transforms.RandomResizedCrop`. This transformation scales the image in a small range, while eventually changing the aspect ratio, and crops it afterward in the previous size. Therefore, the actual pixel values change while the content or overall semantics of the image stays the same. \n",
    "\n",
    "We will randomly split the training dataset into a training and a validation set. The validation set will be used for determining early stopping. After finishing the training, we test the models on the CIFAR test set."
   ]
  },
  {
   "cell_type": "code",
   "execution_count": 5,
   "metadata": {},
   "outputs": [
    {
     "name": "stdout",
     "output_type": "stream",
     "text": [
      "Files already downloaded and verified\n",
      "Files already downloaded and verified\n",
      "Files already downloaded and verified\n"
     ]
    }
   ],
   "source": [
    "test_transform = transforms.Compose([transforms.ToTensor(),\n",
    "                                     transforms.Normalize(DATA_MEANS, DATA_STD)\n",
    "                                     ])\n",
    "# For training, we add some augmentation. Networks are too powerful and would overfit.\n",
    "train_transform = transforms.Compose([transforms.RandomHorizontalFlip(),\n",
    "                                      transforms.RandomResizedCrop((32,32),scale=(0.8,1.0),ratio=(0.9,1.1)),\n",
    "                                      transforms.ToTensor(),\n",
    "                                      transforms.Normalize(DATA_MEANS, DATA_STD)\n",
    "                                     ])\n",
    "# Loading the training dataset. We need to split it into a training and validation part\n",
    "# We need to do a little trick because the validation set should not use the augmentation.\n",
    "train_dataset = CIFAR10(root=DATASET_PATH, train=True, transform=train_transform, download=True)\n",
    "val_dataset = CIFAR10(root=DATASET_PATH, train=True, transform=test_transform, download=True)\n",
    "set_seed(42)\n",
    "train_set, _ = torch.utils.data.random_split(train_dataset, [45000, 5000])\n",
    "set_seed(42)\n",
    "_, val_set = torch.utils.data.random_split(val_dataset, [45000, 5000])\n",
    "\n",
    "# Loading the test set\n",
    "test_set = CIFAR10(root=DATASET_PATH, train=False, transform=test_transform, download=True)\n",
    "\n",
    "# We define a set of data loaders that we can use for various purposes later.\n",
    "train_loader = data.DataLoader(train_set, batch_size=128, shuffle=True, drop_last=True, pin_memory=True, num_workers=4)\n",
    "val_loader = data.DataLoader(val_set, batch_size=128, shuffle=False, drop_last=False, num_workers=4)\n",
    "test_loader = data.DataLoader(test_set, batch_size=128, shuffle=False, drop_last=False, num_workers=4)"
   ]
  },
  {
   "cell_type": "markdown",
   "metadata": {},
   "source": [
    "To verify that our normalization works, we can print out the mean and standard deviation of the single batch. The mean should be close to 0 and the standard deviation close to 1 for each channel:"
   ]
  },
  {
   "cell_type": "code",
   "execution_count": 6,
   "metadata": {},
   "outputs": [
    {
     "name": "stdout",
     "output_type": "stream",
     "text": [
      "Batch mean tensor([-0.0143, -0.0204, -0.0017])\n",
      "Batch std tensor([0.9772, 0.9650, 0.9809])\n"
     ]
    }
   ],
   "source": [
    "imgs, _ = next(iter(train_loader))\n",
    "print(\"Batch mean\", imgs.mean(dim=[0,2,3]))\n",
    "print(\"Batch std\", imgs.std(dim=[0,2,3]))"
   ]
  },
  {
   "cell_type": "markdown",
   "metadata": {},
   "source": [
    "Finally, let's visualize a few images from the training set, and how they look like after random data augmentation: "
   ]
  },
  {
   "cell_type": "code",
   "execution_count": 7,
   "metadata": {},
   "outputs": [
    {
     "data": {
      "application/pdf": "[encoded data removed]",
      "image/svg+xml": [
       "<?xml version=\"1.0\" encoding=\"utf-8\" standalone=\"no\"?>\n",
       "<!DOCTYPE svg PUBLIC \"-//W3C//DTD SVG 1.1//EN\"\n",
       "  \"http://www.w3.org/Graphics/SVG/1.1/DTD/svg11.dtd\">\n",
       "<!-- Created with matplotlib (https://matplotlib.org/) -->\n",
       "<svg height=\"255.952908pt\" version=\"1.1\" viewBox=\"0 0 460.8 255.952908\" width=\"460.8pt\" xmlns=\"http://www.w3.org/2000/svg\" xmlns:xlink=\"http://www.w3.org/1999/xlink\">\n",
       " <metadata>\n",
       "  <rdf:RDF xmlns:cc=\"http://creativecommons.org/ns#\" xmlns:dc=\"http://purl.org/dc/elements/1.1/\" xmlns:rdf=\"http://www.w3.org/1999/02/22-rdf-syntax-ns#\">\n",
       "   <cc:Work>\n",
       "    <dc:type rdf:resource=\"http://purl.org/dc/dcmitype/StillImage\"/>\n",
       "    <dc:date>2020-11-09T15:32:56.334528</dc:date>\n",
       "    <dc:format>image/svg+xml</dc:format>\n",
       "    <dc:creator>\n",
       "     <cc:Agent>\n",
       "      <dc:title>Matplotlib v3.3.2, https://matplotlib.org/</dc:title>\n",
       "     </cc:Agent>\n",
       "    </dc:creator>\n",
       "   </cc:Work>\n",
       "  </rdf:RDF>\n",
       " </metadata>\n",
       " <defs>\n",
       "  <style type=\"text/css\">*{stroke-linecap:butt;stroke-linejoin:round;}</style>\n",
       " </defs>\n",
       " <g id=\"figure_1\">\n",
       "  <g id=\"patch_1\">\n",
       "   <path d=\"M 0 255.952908 \n",
       "L 460.8 255.952908 \n",
       "L 460.8 0 \n",
       "L 0 0 \n",
       "z\n",
       "\" style=\"fill:none;\"/>\n",
       "  </g>\n",
       "  <g id=\"axes_1\">\n",
       "   <g clip-path=\"url(#p89d2bcb016)\">\n",
       "    <image height=\"227\" id=\"imageaed858460c\" transform=\"scale(1 -1)translate(0 -227)\" width=\"447\" x=\"7.2\" xlink:href=\"data:image/png;base64,\n",
       "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\" y=\"-21.752908\"/>\n",
       "   </g>\n",
       "   <g id=\"text_1\">\n",
       "    <!-- Augmentation examples on CIFAR10 -->\n",
       "    <g transform=\"translate(120.904687 16.318125)scale(0.12 -0.12)\">\n",
       "     <defs>\n",
       "      <path d=\"M 34.1875 63.1875 \n",
       "L 20.796875 26.90625 \n",
       "L 47.609375 26.90625 \n",
       "z\n",
       "M 28.609375 72.90625 \n",
       "L 39.796875 72.90625 \n",
       "L 67.578125 0 \n",
       "L 57.328125 0 \n",
       "L 50.6875 18.703125 \n",
       "L 17.828125 18.703125 \n",
       "L 11.1875 0 \n",
       "L 0.78125 0 \n",
       "z\n",
       "\" id=\"DejaVuSans-65\"/>\n",
       "      <path d=\"M 8.5 21.578125 \n",
       "L 8.5 54.6875 \n",
       "L 17.484375 54.6875 \n",
       "L 17.484375 21.921875 \n",
       "Q 17.484375 14.15625 20.5 10.265625 \n",
       "Q 23.53125 6.390625 29.59375 6.390625 \n",
       "Q 36.859375 6.390625 41.078125 11.03125 \n",
       "Q 45.3125 15.671875 45.3125 23.6875 \n",
       "L 45.3125 54.6875 \n",
       "L 54.296875 54.6875 \n",
       "L 54.296875 0 \n",
       "L 45.3125 0 \n",
       "L 45.3125 8.40625 \n",
       "Q 42.046875 3.421875 37.71875 1 \n",
       "Q 33.40625 -1.421875 27.6875 -1.421875 \n",
       "Q 18.265625 -1.421875 13.375 4.4375 \n",
       "Q 8.5 10.296875 8.5 21.578125 \n",
       "z\n",
       "M 31.109375 56 \n",
       "z\n",
       "\" id=\"DejaVuSans-117\"/>\n",
       "      <path d=\"M 45.40625 27.984375 \n",
       "Q 45.40625 37.75 41.375 43.109375 \n",
       "Q 37.359375 48.484375 30.078125 48.484375 \n",
       "Q 22.859375 48.484375 18.828125 43.109375 \n",
       "Q 14.796875 37.75 14.796875 27.984375 \n",
       "Q 14.796875 18.265625 18.828125 12.890625 \n",
       "Q 22.859375 7.515625 30.078125 7.515625 \n",
       "Q 37.359375 7.515625 41.375 12.890625 \n",
       "Q 45.40625 18.265625 45.40625 27.984375 \n",
       "z\n",
       "M 54.390625 6.78125 \n",
       "Q 54.390625 -7.171875 48.1875 -13.984375 \n",
       "Q 42 -20.796875 29.203125 -20.796875 \n",
       "Q 24.46875 -20.796875 20.265625 -20.09375 \n",
       "Q 16.0625 -19.390625 12.109375 -17.921875 \n",
       "L 12.109375 -9.1875 \n",
       "Q 16.0625 -11.328125 19.921875 -12.34375 \n",
       "Q 23.78125 -13.375 27.78125 -13.375 \n",
       "Q 36.625 -13.375 41.015625 -8.765625 \n",
       "Q 45.40625 -4.15625 45.40625 5.171875 \n",
       "L 45.40625 9.625 \n",
       "Q 42.625 4.78125 38.28125 2.390625 \n",
       "Q 33.9375 0 27.875 0 \n",
       "Q 17.828125 0 11.671875 7.65625 \n",
       "Q 5.515625 15.328125 5.515625 27.984375 \n",
       "Q 5.515625 40.671875 11.671875 48.328125 \n",
       "Q 17.828125 56 27.875 56 \n",
       "Q 33.9375 56 38.28125 53.609375 \n",
       "Q 42.625 51.21875 45.40625 46.390625 \n",
       "L 45.40625 54.6875 \n",
       "L 54.390625 54.6875 \n",
       "z\n",
       "\" id=\"DejaVuSans-103\"/>\n",
       "      <path d=\"M 52 44.1875 \n",
       "Q 55.375 50.25 60.0625 53.125 \n",
       "Q 64.75 56 71.09375 56 \n",
       "Q 79.640625 56 84.28125 50.015625 \n",
       "Q 88.921875 44.046875 88.921875 33.015625 \n",
       "L 88.921875 0 \n",
       "L 79.890625 0 \n",
       "L 79.890625 32.71875 \n",
       "Q 79.890625 40.578125 77.09375 44.375 \n",
       "Q 74.3125 48.1875 68.609375 48.1875 \n",
       "Q 61.625 48.1875 57.5625 43.546875 \n",
       "Q 53.515625 38.921875 53.515625 30.90625 \n",
       "L 53.515625 0 \n",
       "L 44.484375 0 \n",
       "L 44.484375 32.71875 \n",
       "Q 44.484375 40.625 41.703125 44.40625 \n",
       "Q 38.921875 48.1875 33.109375 48.1875 \n",
       "Q 26.21875 48.1875 22.15625 43.53125 \n",
       "Q 18.109375 38.875 18.109375 30.90625 \n",
       "L 18.109375 0 \n",
       "L 9.078125 0 \n",
       "L 9.078125 54.6875 \n",
       "L 18.109375 54.6875 \n",
       "L 18.109375 46.1875 \n",
       "Q 21.1875 51.21875 25.484375 53.609375 \n",
       "Q 29.78125 56 35.6875 56 \n",
       "Q 41.65625 56 45.828125 52.96875 \n",
       "Q 50 49.953125 52 44.1875 \n",
       "z\n",
       "\" id=\"DejaVuSans-109\"/>\n",
       "      <path d=\"M 56.203125 29.59375 \n",
       "L 56.203125 25.203125 \n",
       "L 14.890625 25.203125 \n",
       "Q 15.484375 15.921875 20.484375 11.0625 \n",
       "Q 25.484375 6.203125 34.421875 6.203125 \n",
       "Q 39.59375 6.203125 44.453125 7.46875 \n",
       "Q 49.3125 8.734375 54.109375 11.28125 \n",
       "L 54.109375 2.78125 \n",
       "Q 49.265625 0.734375 44.1875 -0.34375 \n",
       "Q 39.109375 -1.421875 33.890625 -1.421875 \n",
       "Q 20.796875 -1.421875 13.15625 6.1875 \n",
       "Q 5.515625 13.8125 5.515625 26.8125 \n",
       "Q 5.515625 40.234375 12.765625 48.109375 \n",
       "Q 20.015625 56 32.328125 56 \n",
       "Q 43.359375 56 49.78125 48.890625 \n",
       "Q 56.203125 41.796875 56.203125 29.59375 \n",
       "z\n",
       "M 47.21875 32.234375 \n",
       "Q 47.125 39.59375 43.09375 43.984375 \n",
       "Q 39.0625 48.390625 32.421875 48.390625 \n",
       "Q 24.90625 48.390625 20.390625 44.140625 \n",
       "Q 15.875 39.890625 15.1875 32.171875 \n",
       "z\n",
       "\" id=\"DejaVuSans-101\"/>\n",
       "      <path d=\"M 54.890625 33.015625 \n",
       "L 54.890625 0 \n",
       "L 45.90625 0 \n",
       "L 45.90625 32.71875 \n",
       "Q 45.90625 40.484375 42.875 44.328125 \n",
       "Q 39.84375 48.1875 33.796875 48.1875 \n",
       "Q 26.515625 48.1875 22.3125 43.546875 \n",
       "Q 18.109375 38.921875 18.109375 30.90625 \n",
       "L 18.109375 0 \n",
       "L 9.078125 0 \n",
       "L 9.078125 54.6875 \n",
       "L 18.109375 54.6875 \n",
       "L 18.109375 46.1875 \n",
       "Q 21.34375 51.125 25.703125 53.5625 \n",
       "Q 30.078125 56 35.796875 56 \n",
       "Q 45.21875 56 50.046875 50.171875 \n",
       "Q 54.890625 44.34375 54.890625 33.015625 \n",
       "z\n",
       "\" id=\"DejaVuSans-110\"/>\n",
       "      <path d=\"M 18.3125 70.21875 \n",
       "L 18.3125 54.6875 \n",
       "L 36.8125 54.6875 \n",
       "L 36.8125 47.703125 \n",
       "L 18.3125 47.703125 \n",
       "L 18.3125 18.015625 \n",
       "Q 18.3125 11.328125 20.140625 9.421875 \n",
       "Q 21.96875 7.515625 27.59375 7.515625 \n",
       "L 36.8125 7.515625 \n",
       "L 36.8125 0 \n",
       "L 27.59375 0 \n",
       "Q 17.1875 0 13.234375 3.875 \n",
       "Q 9.28125 7.765625 9.28125 18.015625 \n",
       "L 9.28125 47.703125 \n",
       "L 2.6875 47.703125 \n",
       "L 2.6875 54.6875 \n",
       "L 9.28125 54.6875 \n",
       "L 9.28125 70.21875 \n",
       "z\n",
       "\" id=\"DejaVuSans-116\"/>\n",
       "      <path d=\"M 34.28125 27.484375 \n",
       "Q 23.390625 27.484375 19.1875 25 \n",
       "Q 14.984375 22.515625 14.984375 16.5 \n",
       "Q 14.984375 11.71875 18.140625 8.90625 \n",
       "Q 21.296875 6.109375 26.703125 6.109375 \n",
       "Q 34.1875 6.109375 38.703125 11.40625 \n",
       "Q 43.21875 16.703125 43.21875 25.484375 \n",
       "L 43.21875 27.484375 \n",
       "z\n",
       "M 52.203125 31.203125 \n",
       "L 52.203125 0 \n",
       "L 43.21875 0 \n",
       "L 43.21875 8.296875 \n",
       "Q 40.140625 3.328125 35.546875 0.953125 \n",
       "Q 30.953125 -1.421875 24.3125 -1.421875 \n",
       "Q 15.921875 -1.421875 10.953125 3.296875 \n",
       "Q 6 8.015625 6 15.921875 \n",
       "Q 6 25.140625 12.171875 29.828125 \n",
       "Q 18.359375 34.515625 30.609375 34.515625 \n",
       "L 43.21875 34.515625 \n",
       "L 43.21875 35.40625 \n",
       "Q 43.21875 41.609375 39.140625 45 \n",
       "Q 35.0625 48.390625 27.6875 48.390625 \n",
       "Q 23 48.390625 18.546875 47.265625 \n",
       "Q 14.109375 46.140625 10.015625 43.890625 \n",
       "L 10.015625 52.203125 \n",
       "Q 14.9375 54.109375 19.578125 55.046875 \n",
       "Q 24.21875 56 28.609375 56 \n",
       "Q 40.484375 56 46.34375 49.84375 \n",
       "Q 52.203125 43.703125 52.203125 31.203125 \n",
       "z\n",
       "\" id=\"DejaVuSans-97\"/>\n",
       "      <path d=\"M 9.421875 54.6875 \n",
       "L 18.40625 54.6875 \n",
       "L 18.40625 0 \n",
       "L 9.421875 0 \n",
       "z\n",
       "M 9.421875 75.984375 \n",
       "L 18.40625 75.984375 \n",
       "L 18.40625 64.59375 \n",
       "L 9.421875 64.59375 \n",
       "z\n",
       "\" id=\"DejaVuSans-105\"/>\n",
       "      <path d=\"M 30.609375 48.390625 \n",
       "Q 23.390625 48.390625 19.1875 42.75 \n",
       "Q 14.984375 37.109375 14.984375 27.296875 \n",
       "Q 14.984375 17.484375 19.15625 11.84375 \n",
       "Q 23.34375 6.203125 30.609375 6.203125 \n",
       "Q 37.796875 6.203125 41.984375 11.859375 \n",
       "Q 46.1875 17.53125 46.1875 27.296875 \n",
       "Q 46.1875 37.015625 41.984375 42.703125 \n",
       "Q 37.796875 48.390625 30.609375 48.390625 \n",
       "z\n",
       "M 30.609375 56 \n",
       "Q 42.328125 56 49.015625 48.375 \n",
       "Q 55.71875 40.765625 55.71875 27.296875 \n",
       "Q 55.71875 13.875 49.015625 6.21875 \n",
       "Q 42.328125 -1.421875 30.609375 -1.421875 \n",
       "Q 18.84375 -1.421875 12.171875 6.21875 \n",
       "Q 5.515625 13.875 5.515625 27.296875 \n",
       "Q 5.515625 40.765625 12.171875 48.375 \n",
       "Q 18.84375 56 30.609375 56 \n",
       "z\n",
       "\" id=\"DejaVuSans-111\"/>\n",
       "      <path id=\"DejaVuSans-32\"/>\n",
       "      <path d=\"M 54.890625 54.6875 \n",
       "L 35.109375 28.078125 \n",
       "L 55.90625 0 \n",
       "L 45.3125 0 \n",
       "L 29.390625 21.484375 \n",
       "L 13.484375 0 \n",
       "L 2.875 0 \n",
       "L 24.125 28.609375 \n",
       "L 4.6875 54.6875 \n",
       "L 15.28125 54.6875 \n",
       "L 29.78125 35.203125 \n",
       "L 44.28125 54.6875 \n",
       "z\n",
       "\" id=\"DejaVuSans-120\"/>\n",
       "      <path d=\"M 18.109375 8.203125 \n",
       "L 18.109375 -20.796875 \n",
       "L 9.078125 -20.796875 \n",
       "L 9.078125 54.6875 \n",
       "L 18.109375 54.6875 \n",
       "L 18.109375 46.390625 \n",
       "Q 20.953125 51.265625 25.265625 53.625 \n",
       "Q 29.59375 56 35.59375 56 \n",
       "Q 45.5625 56 51.78125 48.09375 \n",
       "Q 58.015625 40.1875 58.015625 27.296875 \n",
       "Q 58.015625 14.40625 51.78125 6.484375 \n",
       "Q 45.5625 -1.421875 35.59375 -1.421875 \n",
       "Q 29.59375 -1.421875 25.265625 0.953125 \n",
       "Q 20.953125 3.328125 18.109375 8.203125 \n",
       "z\n",
       "M 48.6875 27.296875 \n",
       "Q 48.6875 37.203125 44.609375 42.84375 \n",
       "Q 40.53125 48.484375 33.40625 48.484375 \n",
       "Q 26.265625 48.484375 22.1875 42.84375 \n",
       "Q 18.109375 37.203125 18.109375 27.296875 \n",
       "Q 18.109375 17.390625 22.1875 11.75 \n",
       "Q 26.265625 6.109375 33.40625 6.109375 \n",
       "Q 40.53125 6.109375 44.609375 11.75 \n",
       "Q 48.6875 17.390625 48.6875 27.296875 \n",
       "z\n",
       "\" id=\"DejaVuSans-112\"/>\n",
       "      <path d=\"M 9.421875 75.984375 \n",
       "L 18.40625 75.984375 \n",
       "L 18.40625 0 \n",
       "L 9.421875 0 \n",
       "z\n",
       "\" id=\"DejaVuSans-108\"/>\n",
       "      <path d=\"M 44.28125 53.078125 \n",
       "L 44.28125 44.578125 \n",
       "Q 40.484375 46.53125 36.375 47.5 \n",
       "Q 32.28125 48.484375 27.875 48.484375 \n",
       "Q 21.1875 48.484375 17.84375 46.4375 \n",
       "Q 14.5 44.390625 14.5 40.28125 \n",
       "Q 14.5 37.15625 16.890625 35.375 \n",
       "Q 19.28125 33.59375 26.515625 31.984375 \n",
       "L 29.59375 31.296875 \n",
       "Q 39.15625 29.25 43.1875 25.515625 \n",
       "Q 47.21875 21.78125 47.21875 15.09375 \n",
       "Q 47.21875 7.46875 41.1875 3.015625 \n",
       "Q 35.15625 -1.421875 24.609375 -1.421875 \n",
       "Q 20.21875 -1.421875 15.453125 -0.5625 \n",
       "Q 10.6875 0.296875 5.421875 2 \n",
       "L 5.421875 11.28125 \n",
       "Q 10.40625 8.6875 15.234375 7.390625 \n",
       "Q 20.0625 6.109375 24.8125 6.109375 \n",
       "Q 31.15625 6.109375 34.5625 8.28125 \n",
       "Q 37.984375 10.453125 37.984375 14.40625 \n",
       "Q 37.984375 18.0625 35.515625 20.015625 \n",
       "Q 33.0625 21.96875 24.703125 23.78125 \n",
       "L 21.578125 24.515625 \n",
       "Q 13.234375 26.265625 9.515625 29.90625 \n",
       "Q 5.8125 33.546875 5.8125 39.890625 \n",
       "Q 5.8125 47.609375 11.28125 51.796875 \n",
       "Q 16.75 56 26.8125 56 \n",
       "Q 31.78125 56 36.171875 55.265625 \n",
       "Q 40.578125 54.546875 44.28125 53.078125 \n",
       "z\n",
       "\" id=\"DejaVuSans-115\"/>\n",
       "      <path d=\"M 64.40625 67.28125 \n",
       "L 64.40625 56.890625 \n",
       "Q 59.421875 61.53125 53.78125 63.8125 \n",
       "Q 48.140625 66.109375 41.796875 66.109375 \n",
       "Q 29.296875 66.109375 22.65625 58.46875 \n",
       "Q 16.015625 50.828125 16.015625 36.375 \n",
       "Q 16.015625 21.96875 22.65625 14.328125 \n",
       "Q 29.296875 6.6875 41.796875 6.6875 \n",
       "Q 48.140625 6.6875 53.78125 8.984375 \n",
       "Q 59.421875 11.28125 64.40625 15.921875 \n",
       "L 64.40625 5.609375 \n",
       "Q 59.234375 2.09375 53.4375 0.328125 \n",
       "Q 47.65625 -1.421875 41.21875 -1.421875 \n",
       "Q 24.65625 -1.421875 15.125 8.703125 \n",
       "Q 5.609375 18.84375 5.609375 36.375 \n",
       "Q 5.609375 53.953125 15.125 64.078125 \n",
       "Q 24.65625 74.21875 41.21875 74.21875 \n",
       "Q 47.75 74.21875 53.53125 72.484375 \n",
       "Q 59.328125 70.75 64.40625 67.28125 \n",
       "z\n",
       "\" id=\"DejaVuSans-67\"/>\n",
       "      <path d=\"M 9.8125 72.90625 \n",
       "L 19.671875 72.90625 \n",
       "L 19.671875 0 \n",
       "L 9.8125 0 \n",
       "z\n",
       "\" id=\"DejaVuSans-73\"/>\n",
       "      <path d=\"M 9.8125 72.90625 \n",
       "L 51.703125 72.90625 \n",
       "L 51.703125 64.59375 \n",
       "L 19.671875 64.59375 \n",
       "L 19.671875 43.109375 \n",
       "L 48.578125 43.109375 \n",
       "L 48.578125 34.8125 \n",
       "L 19.671875 34.8125 \n",
       "L 19.671875 0 \n",
       "L 9.8125 0 \n",
       "z\n",
       "\" id=\"DejaVuSans-70\"/>\n",
       "      <path d=\"M 44.390625 34.1875 \n",
       "Q 47.5625 33.109375 50.5625 29.59375 \n",
       "Q 53.5625 26.078125 56.59375 19.921875 \n",
       "L 66.609375 0 \n",
       "L 56 0 \n",
       "L 46.6875 18.703125 \n",
       "Q 43.0625 26.03125 39.671875 28.421875 \n",
       "Q 36.28125 30.8125 30.421875 30.8125 \n",
       "L 19.671875 30.8125 \n",
       "L 19.671875 0 \n",
       "L 9.8125 0 \n",
       "L 9.8125 72.90625 \n",
       "L 32.078125 72.90625 \n",
       "Q 44.578125 72.90625 50.734375 67.671875 \n",
       "Q 56.890625 62.453125 56.890625 51.90625 \n",
       "Q 56.890625 45.015625 53.6875 40.46875 \n",
       "Q 50.484375 35.9375 44.390625 34.1875 \n",
       "z\n",
       "M 19.671875 64.796875 \n",
       "L 19.671875 38.921875 \n",
       "L 32.078125 38.921875 \n",
       "Q 39.203125 38.921875 42.84375 42.21875 \n",
       "Q 46.484375 45.515625 46.484375 51.90625 \n",
       "Q 46.484375 58.296875 42.84375 61.546875 \n",
       "Q 39.203125 64.796875 32.078125 64.796875 \n",
       "z\n",
       "\" id=\"DejaVuSans-82\"/>\n",
       "      <path d=\"M 12.40625 8.296875 \n",
       "L 28.515625 8.296875 \n",
       "L 28.515625 63.921875 \n",
       "L 10.984375 60.40625 \n",
       "L 10.984375 69.390625 \n",
       "L 28.421875 72.90625 \n",
       "L 38.28125 72.90625 \n",
       "L 38.28125 8.296875 \n",
       "L 54.390625 8.296875 \n",
       "L 54.390625 0 \n",
       "L 12.40625 0 \n",
       "z\n",
       "\" id=\"DejaVuSans-49\"/>\n",
       "      <path d=\"M 31.78125 66.40625 \n",
       "Q 24.171875 66.40625 20.328125 58.90625 \n",
       "Q 16.5 51.421875 16.5 36.375 \n",
       "Q 16.5 21.390625 20.328125 13.890625 \n",
       "Q 24.171875 6.390625 31.78125 6.390625 \n",
       "Q 39.453125 6.390625 43.28125 13.890625 \n",
       "Q 47.125 21.390625 47.125 36.375 \n",
       "Q 47.125 51.421875 43.28125 58.90625 \n",
       "Q 39.453125 66.40625 31.78125 66.40625 \n",
       "z\n",
       "M 31.78125 74.21875 \n",
       "Q 44.046875 74.21875 50.515625 64.515625 \n",
       "Q 56.984375 54.828125 56.984375 36.375 \n",
       "Q 56.984375 17.96875 50.515625 8.265625 \n",
       "Q 44.046875 -1.421875 31.78125 -1.421875 \n",
       "Q 19.53125 -1.421875 13.0625 8.265625 \n",
       "Q 6.59375 17.96875 6.59375 36.375 \n",
       "Q 6.59375 54.828125 13.0625 64.515625 \n",
       "Q 19.53125 74.21875 31.78125 74.21875 \n",
       "z\n",
       "\" id=\"DejaVuSans-48\"/>\n",
       "     </defs>\n",
       "     <use xlink:href=\"#DejaVuSans-65\"/>\n",
       "     <use x=\"68.408203\" xlink:href=\"#DejaVuSans-117\"/>\n",
       "     <use x=\"131.787109\" xlink:href=\"#DejaVuSans-103\"/>\n",
       "     <use x=\"195.263672\" xlink:href=\"#DejaVuSans-109\"/>\n",
       "     <use x=\"292.675781\" xlink:href=\"#DejaVuSans-101\"/>\n",
       "     <use x=\"354.199219\" xlink:href=\"#DejaVuSans-110\"/>\n",
       "     <use x=\"417.578125\" xlink:href=\"#DejaVuSans-116\"/>\n",
       "     <use x=\"456.787109\" xlink:href=\"#DejaVuSans-97\"/>\n",
       "     <use x=\"518.066406\" xlink:href=\"#DejaVuSans-116\"/>\n",
       "     <use x=\"557.275391\" xlink:href=\"#DejaVuSans-105\"/>\n",
       "     <use x=\"585.058594\" xlink:href=\"#DejaVuSans-111\"/>\n",
       "     <use x=\"646.240234\" xlink:href=\"#DejaVuSans-110\"/>\n",
       "     <use x=\"709.619141\" xlink:href=\"#DejaVuSans-32\"/>\n",
       "     <use x=\"741.40625\" xlink:href=\"#DejaVuSans-101\"/>\n",
       "     <use x=\"801.179688\" xlink:href=\"#DejaVuSans-120\"/>\n",
       "     <use x=\"860.359375\" xlink:href=\"#DejaVuSans-97\"/>\n",
       "     <use x=\"921.638672\" xlink:href=\"#DejaVuSans-109\"/>\n",
       "     <use x=\"1019.050781\" xlink:href=\"#DejaVuSans-112\"/>\n",
       "     <use x=\"1082.527344\" xlink:href=\"#DejaVuSans-108\"/>\n",
       "     <use x=\"1110.310547\" xlink:href=\"#DejaVuSans-101\"/>\n",
       "     <use x=\"1171.833984\" xlink:href=\"#DejaVuSans-115\"/>\n",
       "     <use x=\"1223.933594\" xlink:href=\"#DejaVuSans-32\"/>\n",
       "     <use x=\"1255.720703\" xlink:href=\"#DejaVuSans-111\"/>\n",
       "     <use x=\"1316.902344\" xlink:href=\"#DejaVuSans-110\"/>\n",
       "     <use x=\"1380.28125\" xlink:href=\"#DejaVuSans-32\"/>\n",
       "     <use x=\"1412.068359\" xlink:href=\"#DejaVuSans-67\"/>\n",
       "     <use x=\"1481.892578\" xlink:href=\"#DejaVuSans-73\"/>\n",
       "     <use x=\"1511.384766\" xlink:href=\"#DejaVuSans-70\"/>\n",
       "     <use x=\"1559.779297\" xlink:href=\"#DejaVuSans-65\"/>\n",
       "     <use x=\"1628.1875\" xlink:href=\"#DejaVuSans-82\"/>\n",
       "     <use x=\"1697.669922\" xlink:href=\"#DejaVuSans-49\"/>\n",
       "     <use x=\"1761.292969\" xlink:href=\"#DejaVuSans-48\"/>\n",
       "    </g>\n",
       "   </g>\n",
       "  </g>\n",
       " </g>\n",
       " <defs>\n",
       "  <clipPath id=\"p89d2bcb016\">\n",
       "   <rect height=\"226.434783\" width=\"446.4\" x=\"7.2\" y=\"22.318125\"/>\n",
       "  </clipPath>\n",
       " </defs>\n",
       "</svg>\n"
      ],
      "text/plain": [
       "<Figure size 576x576 with 1 Axes>"
      ]
     },
     "metadata": {
      "needs_background": "light"
     },
     "output_type": "display_data"
    }
   ],
   "source": [
    "NUM_IMAGES = 4\n",
    "images = [train_dataset[idx][0] for idx in range(NUM_IMAGES)]\n",
    "orig_images = [Image.fromarray(train_dataset.data[idx]) for idx in range(NUM_IMAGES)]\n",
    "orig_images = [test_transform(img) for img in orig_images]\n",
    "\n",
    "img_grid = torchvision.utils.make_grid(torch.stack(images + orig_images, dim=0), nrow=4, normalize=True, pad_value=0.5)\n",
    "img_grid = img_grid.permute(1, 2, 0)\n",
    "\n",
    "plt.figure(figsize=(8,8))\n",
    "plt.title(\"Augmentation examples on CIFAR10\")\n",
    "plt.imshow(img_grid)\n",
    "plt.axis('off')\n",
    "plt.show()\n",
    "plt.close()"
   ]
  },
  {
   "cell_type": "markdown",
   "metadata": {},
   "source": [
    "## PyTorch Lightning\n",
    "\n",
    "In this notebook and in many following ones, we will make use of the library [PyTorch Lightning](https://www.pytorchlightning.ai/). PyTorch Lightning is a framework that simplifies your code needed to train, evaluate, and test a model in PyTorch. It also handles logging into [TensorBoard](https://pytorch.org/tutorials/intermediate/tensorboard_tutorial.html), a visualization toolkit for ML experiments, and saving model checkpoints automatically with minimal code overhead from our side. This is extremely helpful for us as we want to focus on implementing different model architectures and spend little time on other code overhead. Note that at the time of writing/teaching, the framework has been released in version 1.8. Future versions might have a slightly changed interface and thus might not work perfectly with the code (we will try to keep it up-to-date as much as possible). \n",
    "\n",
    "Now, we will take the first step in PyTorch Lightning, and continue to explore the framework in our other tutorials. First, we import the library:"
   ]
  },
  {
   "cell_type": "code",
   "execution_count": 8,
   "metadata": {},
   "outputs": [],
   "source": [
    "# PyTorch Lightning\n",
    "try:\n",
    "    import pytorch_lightning as pl\n",
    "except ModuleNotFoundError: # Google Colab does not have PyTorch Lightning installed by default. Hence, we do it here if necessary\n",
    "    !pip install --quiet pytorch-lightning>=1.5\n",
    "    import pytorch_lightning as pl"
   ]
  },
  {
   "cell_type": "markdown",
   "metadata": {},
   "source": [
    "PyTorch Lightning comes with a lot of useful functions, such as one for setting the seed:"
   ]
  },
  {
   "cell_type": "code",
   "execution_count": 9,
   "metadata": {},
   "outputs": [
    {
     "data": {
      "text/plain": [
       "42"
      ]
     },
     "execution_count": 9,
     "metadata": {},
     "output_type": "execute_result"
    }
   ],
   "source": [
    "# Setting the seed\n",
    "pl.seed_everything(42)"
   ]
  },
  {
   "cell_type": "markdown",
   "metadata": {},
   "source": [
    "Thus, in the future, we don't have to define our own `set_seed` function anymore. \n",
    "\n",
    "In PyTorch Lightning, we define `pl.LightningModule`'s (inheriting from `torch.nn.Module`) that organize our code into 5 main sections: \n",
    "\n",
    "1. Initialization (`__init__`), where we create all necessary parameters/models\n",
    "2. Optimizers (`configure_optimizers`) where we create the optimizers, learning rate scheduler, etc. \n",
    "3. Training loop (`training_step`) where we only have to define the loss calculation for a single batch (the loop of optimizer.zero_grad(), loss.backward() and optimizer.step(), as well as any logging/saving operation, is done in the background)\n",
    "4. Validation loop (`validation_step`) where similarly to the training, we only have to define what should happen per step\n",
    "5. Test loop (`test_step`) which is the same as validation, only on a test set.\n",
    "\n",
    "Therefore, we don't abstract the PyTorch code, but rather organize it and define some default operations that are commonly used. If you need to change something else in your training/validation/test loop, there are many possible functions you can overwrite (see the [docs](https://pytorch-lightning.readthedocs.io/en/latest/common/lightning_module.html) for details).\n",
    "\n",
    "Now we can look at an example of how a Lightning Module for training a CNN looks like:"
   ]
  },
  {
   "cell_type": "code",
   "execution_count": 10,
   "metadata": {},
   "outputs": [],
   "source": [
    "class CIFARModule(pl.LightningModule):\n",
    "\n",
    "    def __init__(self, model_name, model_hparams, optimizer_name, optimizer_hparams):\n",
    "        \"\"\"\n",
    "        Inputs:\n",
    "            model_name - Name of the model/CNN to run. Used for creating the model (see function below)\n",
    "            model_hparams - Hyperparameters for the model, as dictionary.\n",
    "            optimizer_name - Name of the optimizer to use. Currently supported: Adam, SGD\n",
    "            optimizer_hparams - Hyperparameters for the optimizer, as dictionary. This includes learning rate, weight decay, etc.\n",
    "        \"\"\"\n",
    "        super().__init__()\n",
    "        # Exports the hyperparameters to a YAML file, and create \"self.hparams\" namespace\n",
    "        self.save_hyperparameters()\n",
    "        # Create model\n",
    "        self.model = create_model(model_name, model_hparams)\n",
    "        # Create loss module\n",
    "        self.loss_module = nn.CrossEntropyLoss()\n",
    "        # Example input for visualizing the graph in Tensorboard\n",
    "        self.example_input_array = torch.zeros((1, 3, 32, 32), dtype=torch.float32)\n",
    "\n",
    "    def forward(self, imgs):\n",
    "        # Forward function that is run when visualizing the graph\n",
    "        return self.model(imgs)\n",
    "\n",
    "    def configure_optimizers(self):\n",
    "        # We will support Adam or SGD as optimizers.\n",
    "        if self.hparams.optimizer_name == \"Adam\":\n",
    "            # AdamW is Adam with a correct implementation of weight decay (see here for details: https://arxiv.org/pdf/1711.05101.pdf)\n",
    "            optimizer = optim.AdamW(\n",
    "                self.parameters(), **self.hparams.optimizer_hparams)\n",
    "        elif self.hparams.optimizer_name == \"SGD\":\n",
    "            optimizer = optim.SGD(self.parameters(), **self.hparams.optimizer_hparams)\n",
    "        else:\n",
    "            assert False, f\"Unknown optimizer: \\\"{self.hparams.optimizer_name}\\\"\"\n",
    "\n",
    "        # We will reduce the learning rate by 0.1 after 100 and 150 epochs\n",
    "        scheduler = optim.lr_scheduler.MultiStepLR(\n",
    "            optimizer, milestones=[100, 150], gamma=0.1)\n",
    "        return [optimizer], [scheduler]\n",
    "\n",
    "    def training_step(self, batch, batch_idx):\n",
    "        # \"batch\" is the output of the training data loader.\n",
    "        imgs, labels = batch\n",
    "        preds = self.model(imgs)\n",
    "        loss = self.loss_module(preds, labels)\n",
    "        acc = (preds.argmax(dim=-1) == labels).float().mean()\n",
    "\n",
    "        # Logs the accuracy per epoch to tensorboard (weighted average over batches)\n",
    "        self.log('train_acc', acc, on_step=False, on_epoch=True)\n",
    "        self.log('train_loss', loss)\n",
    "        return loss  # Return tensor to call \".backward\" on\n",
    "\n",
    "    def validation_step(self, batch, batch_idx):\n",
    "        imgs, labels = batch\n",
    "        preds = self.model(imgs).argmax(dim=-1)\n",
    "        acc = (labels == preds).float().mean()\n",
    "        # By default logs it per epoch (weighted average over batches)\n",
    "        self.log('val_acc', acc)\n",
    "\n",
    "    def test_step(self, batch, batch_idx):\n",
    "        imgs, labels = batch\n",
    "        preds = self.model(imgs).argmax(dim=-1)\n",
    "        acc = (labels == preds).float().mean()\n",
    "        # By default logs it per epoch (weighted average over batches), and returns it afterwards\n",
    "        self.log('test_acc', acc)"
   ]
  },
  {
   "cell_type": "markdown",
   "metadata": {},
   "source": [
    "We see that the code is organized and clear, which helps if someone else tries to understand your code. \n",
    "\n",
    "Another important part of PyTorch Lightning is the concept of callbacks. Callbacks are self-contained functions that contain the non-essential logic of your Lightning Module. They are usually called after finishing a training epoch, but can also influence other parts of your training loop. For instance, we will use the following two pre-defined callbacks: `LearningRateMonitor` and `ModelCheckpoint`. The learning rate monitor adds the current learning rate to our TensorBoard, which helps to verify that our learning rate scheduler works correctly. The model checkpoint callback allows you to customize the saving routine of your checkpoints. For instance, how many checkpoints to keep, when to save, which metric to look out for, etc. We import them below:"
   ]
  },
  {
   "cell_type": "code",
   "execution_count": 11,
   "metadata": {},
   "outputs": [],
   "source": [
    "# Callbacks \n",
    "from pytorch_lightning.callbacks import LearningRateMonitor, ModelCheckpoint"
   ]
  },
  {
   "cell_type": "markdown",
   "metadata": {},
   "source": [
    "To allow running multiple different models with the same Lightning module, we define a function below that maps a model name to the model class. At this stage, the dictionary `model_dict` is empty, but we will fill it throughout the notebook with our new models."
   ]
  },
  {
   "cell_type": "code",
   "execution_count": 12,
   "metadata": {},
   "outputs": [],
   "source": [
    "model_dict = {}\n",
    "\n",
    "def create_model(model_name, model_hparams):\n",
    "    if model_name in model_dict:\n",
    "        return model_dict[model_name](**model_hparams)\n",
    "    else:\n",
    "        assert False, f\"Unknown model name \\\"{model_name}\\\". Available models are: {str(model_dict.keys())}\""
   ]
  },
  {
   "cell_type": "markdown",
   "metadata": {},
   "source": [
    "Similarly, to use the activation function as another hyperparameter in our model, we define a \"name to function\" dict below:"
   ]
  },
  {
   "cell_type": "code",
   "execution_count": 13,
   "metadata": {},
   "outputs": [],
   "source": [
    "act_fn_by_name = {\n",
    "    \"tanh\": nn.Tanh,\n",
    "    \"relu\": nn.ReLU,\n",
    "    \"leakyrelu\": nn.LeakyReLU,\n",
    "    \"gelu\": nn.GELU\n",
    "}"
   ]
  },
  {
   "cell_type": "markdown",
   "metadata": {},
   "source": [
    "If we pass the classes or objects directly as an argument to the Lightning module, we couldn't take advantage of PyTorch Lightning's automatically hyperparameter saving and loading.\n",
    "\n",
    "Besides the Lightning module, the second most important module in PyTorch Lightning is the `Trainer`. The trainer is responsible to execute the training steps defined in the Lightning module and completes the framework. Similar to the Lightning module, you can override any key part that you don't want to be automated, but the default settings are often the best practice to do. For a full overview, see the [documentation](https://pytorch-lightning.readthedocs.io/en/latest/common/trainer.html). The most important functions we use below are:\n",
    "\n",
    "* `trainer.fit`: Takes as input a lightning module, a training dataset, and an (optional) validation dataset. This function trains the given module on the training dataset with occasional validation (default once per epoch, can be changed)\n",
    "* `trainer.test`: Takes as input a model and a dataset on which we want to test. It returns the test metric on the dataset.\n",
    "\n",
    "For training and testing, we don't have to worry about things like setting the model to eval mode (`model.eval()`) as this is all done automatically. See below how we define a training function for our models:"
   ]
  },
  {
   "cell_type": "code",
   "execution_count": 14,
   "metadata": {},
   "outputs": [],
   "source": [
    "def train_model(model_name, save_name=None, **kwargs):\n",
    "    \"\"\"\n",
    "    Inputs:\n",
    "        model_name - Name of the model you want to run. Is used to look up the class in \"model_dict\"\n",
    "        save_name (optional) - If specified, this name will be used for creating the checkpoint and logging directory.\n",
    "    \"\"\"\n",
    "    if save_name is None:\n",
    "        save_name = model_name\n",
    "        \n",
    "    # Create a PyTorch Lightning trainer with the generation callback\n",
    "    trainer = pl.Trainer(default_root_dir=os.path.join(CHECKPOINT_PATH, save_name),                          # Where to save models\n",
    "                         accelerator=\"gpu\" if str(device).startswith(\"cuda\") else \"cpu\",                     # We run on a GPU (if possible)\n",
    "                         devices=1,                                                                          # How many GPUs/CPUs we want to use (1 is enough for the notebooks)\n",
    "                         max_epochs=180,                                                                     # How many epochs to train for if no patience is set\n",
    "                         callbacks=[ModelCheckpoint(save_weights_only=True, mode=\"max\", monitor=\"val_acc\"),  # Save the best checkpoint based on the maximum val_acc recorded. Saves only weights and not optimizer\n",
    "                                    LearningRateMonitor(\"epoch\")],                                           # Log learning rate every epoch\n",
    "                         enable_progress_bar=True)                                                           # Set to False if you do not want a progress bar\n",
    "    trainer.logger._log_graph = True         # If True, we plot the computation graph in tensorboard\n",
    "    trainer.logger._default_hp_metric = None # Optional logging argument that we don't need\n",
    "    \n",
    "    # Check whether pretrained model exists. If yes, load it and skip training\n",
    "    pretrained_filename = os.path.join(CHECKPOINT_PATH, save_name + \".ckpt\")\n",
    "    if os.path.isfile(pretrained_filename):\n",
    "        print(f\"Found pretrained model at {pretrained_filename}, loading...\")\n",
    "        model = CIFARModule.load_from_checkpoint(pretrained_filename) # Automatically loads the model with the saved hyperparameters\n",
    "    else:\n",
    "        pl.seed_everything(42) # To be reproducable\n",
    "        model = CIFARModule(model_name=model_name, **kwargs)\n",
    "        trainer.fit(model, train_loader, val_loader)\n",
    "        model = CIFARModule.load_from_checkpoint(trainer.checkpoint_callback.best_model_path) # Load best checkpoint after training\n",
    "        \n",
    "    # Test best model on validation and test set\n",
    "    val_result = trainer.test(model, val_loader, verbose=False)\n",
    "    test_result = trainer.test(model, test_loader, verbose=False)\n",
    "    result = {\"test\": test_result[0][\"test_acc\"], \"val\": val_result[0][\"test_acc\"]}\n",
    "    \n",
    "    return model, result"
   ]
  },
  {
   "cell_type": "markdown",
   "metadata": {},
   "source": [
    "Finally, we can focus on the Convolutional Neural Networks we want to implement today: GoogleNet, ResNet, and DenseNet."
   ]
  },
  {
   "cell_type": "markdown",
   "metadata": {},
   "source": [
    "## Inception\n",
    "\n",
    "The [GoogleNet](https://arxiv.org/abs/1409.4842), proposed in 2014, won the ImageNet Challenge because of its usage of the Inception modules. In general, we will mainly focus on the concept of Inception in this tutorial instead of the specifics of the GoogleNet, as based on Inception, there have been many follow-up works ([Inception-v2](https://arxiv.org/abs/1512.00567), [Inception-v3](https://arxiv.org/abs/1512.00567), [Inception-v4](https://arxiv.org/abs/1602.07261), [Inception-ResNet](https://arxiv.org/abs/1602.07261),...). The follow-up works mainly focus on increasing efficiency and enabling very deep Inception networks. However, for a fundamental understanding, it is sufficient to look at the original Inception block. \n",
    "\n",
    "An Inception block applies four convolution blocks separately on the same feature map: a 1x1, 3x3, and 5x5 convolution, and a max pool operation. This allows the network to look at the same data with different receptive fields. Of course, learning only 5x5 convolution would be theoretically more powerful. However, this is not only more computation and memory heavy but also tends to overfit much easier. The overall inception block looks like below (figure credit - [Szegedy et al.](https://arxiv.org/abs/1409.4842)):\n",
    "\n",
    "<center width=\"100%\"><img src=\"inception_block.svg\" style=\"display: block; margin-left: auto; margin-right: auto;\" width=\"500px\"/></center>\n",
    "\n",
    "The additional 1x1 convolutions before the 3x3 and 5x5 convolutions are used for dimensionality reduction. This is especially crucial as the feature maps of all branches are merged afterward, and we don't want any explosion of feature size. As 5x5 convolutions are 25 times more expensive than 1x1 convolutions, we can save a lot of computation and parameters by reducing the dimensionality before the large convolutions.\n",
    "\n",
    "We can now try to implement the Inception Block ourselves:"
   ]
  },
  {
   "cell_type": "code",
   "execution_count": 15,
   "metadata": {},
   "outputs": [],
   "source": [
    "class InceptionBlock(nn.Module):\n",
    "    \n",
    "    def __init__(self, c_in, c_red : dict, c_out : dict, act_fn):\n",
    "        \"\"\"\n",
    "        Inputs:\n",
    "            c_in - Number of input feature maps from the previous layers\n",
    "            c_red - Dictionary with keys \"3x3\" and \"5x5\" specifying the output of the dimensionality reducing 1x1 convolutions\n",
    "            c_out - Dictionary with keys \"1x1\", \"3x3\", \"5x5\", and \"max\"\n",
    "            act_fn - Activation class constructor (e.g. nn.ReLU)\n",
    "        \"\"\"\n",
    "        super().__init__()\n",
    "        \n",
    "        # 1x1 convolution branch\n",
    "        self.conv_1x1 = nn.Sequential(\n",
    "            nn.Conv2d(c_in, c_out[\"1x1\"], kernel_size=1),\n",
    "            nn.BatchNorm2d(c_out[\"1x1\"]),\n",
    "            act_fn()\n",
    "        )\n",
    "        \n",
    "        # 3x3 convolution branch\n",
    "        self.conv_3x3 = nn.Sequential(\n",
    "            nn.Conv2d(c_in, c_red[\"3x3\"], kernel_size=1),\n",
    "            nn.BatchNorm2d(c_red[\"3x3\"]),\n",
    "            act_fn(),\n",
    "            nn.Conv2d(c_red[\"3x3\"], c_out[\"3x3\"], kernel_size=3, padding=1),\n",
    "            nn.BatchNorm2d(c_out[\"3x3\"]),\n",
    "            act_fn()\n",
    "        )\n",
    "        \n",
    "        # 5x5 convolution branch\n",
    "        self.conv_5x5 = nn.Sequential(\n",
    "            nn.Conv2d(c_in, c_red[\"5x5\"], kernel_size=1),\n",
    "            nn.BatchNorm2d(c_red[\"5x5\"]),\n",
    "            act_fn(),\n",
    "            nn.Conv2d(c_red[\"5x5\"], c_out[\"5x5\"], kernel_size=5, padding=2),\n",
    "            nn.BatchNorm2d(c_out[\"5x5\"]),\n",
    "            act_fn()\n",
    "        )\n",
    "        \n",
    "        # Max-pool branch\n",
    "        self.max_pool = nn.Sequential(\n",
    "            nn.MaxPool2d(kernel_size=3, padding=1, stride=1),\n",
    "            nn.Conv2d(c_in, c_out[\"max\"], kernel_size=1),\n",
    "            nn.BatchNorm2d(c_out[\"max\"]),\n",
    "            act_fn()\n",
    "        )\n",
    "\n",
    "    def forward(self, x):\n",
    "        x_1x1 = self.conv_1x1(x)\n",
    "        x_3x3 = self.conv_3x3(x)\n",
    "        x_5x5 = self.conv_5x5(x)\n",
    "        x_max = self.max_pool(x)\n",
    "        x_out = torch.cat([x_1x1, x_3x3, x_5x5, x_max], dim=1)\n",
    "        return x_out"
   ]
  },
  {
   "cell_type": "markdown",
   "metadata": {},
   "source": [
    "The GoogleNet architecture consists of stacking multiple Inception blocks with occasional max pooling to reduce the height and width of the feature maps. The original GoogleNet was designed for image sizes of ImageNet (224x224 pixels) and had almost 7 million parameters. As we train on CIFAR10 with image sizes of 32x32, we don't require such a heavy architecture, and instead, apply a reduced version. The number of channels for dimensionality reduction and output per filter (1x1, 3x3, 5x5, and max pooling) need to be manually specified and can be changed if interested. The general intuition is to have the most filters for the 3x3 convolutions, as they are powerful enough to take the context into account while requiring almost a third of the parameters of the 5x5 convolution. "
   ]
  },
  {
   "cell_type": "code",
   "execution_count": 16,
   "metadata": {},
   "outputs": [],
   "source": [
    "class GoogleNet(nn.Module):\n",
    "\n",
    "    def __init__(self, num_classes=10, act_fn_name=\"relu\", **kwargs):\n",
    "        super().__init__()\n",
    "        self.hparams = SimpleNamespace(num_classes=num_classes,\n",
    "                                       act_fn_name=act_fn_name,\n",
    "                                       act_fn=act_fn_by_name[act_fn_name])\n",
    "        self._create_network()\n",
    "        self._init_params()\n",
    "\n",
    "    def _create_network(self):\n",
    "        # A first convolution on the original image to scale up the channel size\n",
    "        self.input_net = nn.Sequential(\n",
    "            nn.Conv2d(3, 64, kernel_size=3, padding=1),\n",
    "            nn.BatchNorm2d(64),\n",
    "            self.hparams.act_fn()\n",
    "        )\n",
    "        # Stacking inception blocks\n",
    "        self.inception_blocks = nn.Sequential(\n",
    "            InceptionBlock(64, c_red={\"3x3\": 32, \"5x5\": 16}, c_out={\"1x1\": 16, \"3x3\": 32, \"5x5\": 8, \"max\": 8}, act_fn=self.hparams.act_fn),\n",
    "            InceptionBlock(64, c_red={\"3x3\": 32, \"5x5\": 16}, c_out={\"1x1\": 24, \"3x3\": 48, \"5x5\": 12, \"max\": 12}, act_fn=self.hparams.act_fn),\n",
    "            nn.MaxPool2d(3, stride=2, padding=1),  # 32x32 => 16x16\n",
    "            InceptionBlock(96, c_red={\"3x3\": 32, \"5x5\": 16}, c_out={\"1x1\": 24, \"3x3\": 48, \"5x5\": 12, \"max\": 12}, act_fn=self.hparams.act_fn),\n",
    "            InceptionBlock(96, c_red={\"3x3\": 32, \"5x5\": 16}, c_out={\"1x1\": 16, \"3x3\": 48, \"5x5\": 16, \"max\": 16}, act_fn=self.hparams.act_fn),\n",
    "            InceptionBlock(96, c_red={\"3x3\": 32, \"5x5\": 16}, c_out={\"1x1\": 16, \"3x3\": 48, \"5x5\": 16, \"max\": 16}, act_fn=self.hparams.act_fn),\n",
    "            InceptionBlock(96, c_red={\"3x3\": 32, \"5x5\": 16}, c_out={\"1x1\": 32, \"3x3\": 48, \"5x5\": 24, \"max\": 24}, act_fn=self.hparams.act_fn),\n",
    "            nn.MaxPool2d(3, stride=2, padding=1),  # 16x16 => 8x8\n",
    "            InceptionBlock(128, c_red={\"3x3\": 48, \"5x5\": 16}, c_out={\"1x1\": 32, \"3x3\": 64, \"5x5\": 16, \"max\": 16}, act_fn=self.hparams.act_fn),\n",
    "            InceptionBlock(128, c_red={\"3x3\": 48, \"5x5\": 16}, c_out={\"1x1\": 32, \"3x3\": 64, \"5x5\": 16, \"max\": 16}, act_fn=self.hparams.act_fn)\n",
    "        )\n",
    "        # Mapping to classification output\n",
    "        self.output_net = nn.Sequential(\n",
    "            nn.AdaptiveAvgPool2d((1, 1)),\n",
    "            nn.Flatten(),\n",
    "            nn.Linear(128, self.hparams.num_classes)\n",
    "        )\n",
    "\n",
    "    def _init_params(self):\n",
    "        # Based on our discussion in Tutorial 4, we should initialize the convolutions according to the activation function\n",
    "        for m in self.modules():\n",
    "            if isinstance(m, nn.Conv2d):\n",
    "                nn.init.kaiming_normal_(\n",
    "                    m.weight, nonlinearity=self.hparams.act_fn_name)\n",
    "            elif isinstance(m, nn.BatchNorm2d):\n",
    "                nn.init.constant_(m.weight, 1)\n",
    "                nn.init.constant_(m.bias, 0)\n",
    "\n",
    "    def forward(self, x):\n",
    "        x = self.input_net(x)\n",
    "        x = self.inception_blocks(x)\n",
    "        x = self.output_net(x)\n",
    "        return x"
   ]
  },
  {
   "cell_type": "markdown",
   "metadata": {},
   "source": [
    "Now, we can integrate our model to the model dictionary we defined above:"
   ]
  },
  {
   "cell_type": "code",
   "execution_count": 17,
   "metadata": {},
   "outputs": [],
   "source": [
    "model_dict[\"GoogleNet\"] = GoogleNet"
   ]
  },
  {
   "cell_type": "markdown",
   "metadata": {},
   "source": [
    "The training of the model is handled by PyTorch Lightning, and we just have to define the command to start. Note that we train for almost 200 epochs, which takes about an hour on Lisa's default GPUs (GTX1080Ti). We would recommend using the saved models and train your own model if you are interested. "
   ]
  },
  {
   "cell_type": "code",
   "execution_count": 18,
   "metadata": {},
   "outputs": [
    {
     "name": "stderr",
     "output_type": "stream",
     "text": [
      "GPU available: True, used: True\n",
      "TPU available: False, using: 0 TPU cores\n",
      "LOCAL_RANK: 0 - CUDA_VISIBLE_DEVICES: [0]\n"
     ]
    },
    {
     "name": "stdout",
     "output_type": "stream",
     "text": [
      "Found pretrained model at ../saved_models/tutorial5/GoogleNet.ckpt, loading...\n"
     ]
    },
    {
     "data": {
      "application/vnd.jupyter.widget-view+json": {
       "model_id": "183cfd92f6ff455994c43aa7d8e5ddca",
       "version_major": 2,
       "version_minor": 0
      },
      "text/plain": [
       "HBox(children=(FloatProgress(value=1.0, bar_style='info', description='Testing', layout=Layout(flex='2'), max=…"
      ]
     },
     "metadata": {},
     "output_type": "display_data"
    },
    {
     "name": "stdout",
     "output_type": "stream",
     "text": [
      "\n"
     ]
    },
    {
     "data": {
      "application/vnd.jupyter.widget-view+json": {
       "model_id": "80d26e9062754986ba44e2d5abd077c4",
       "version_major": 2,
       "version_minor": 0
      },
      "text/plain": [
       "HBox(children=(FloatProgress(value=1.0, bar_style='info', description='Testing', layout=Layout(flex='2'), max=…"
      ]
     },
     "metadata": {},
     "output_type": "display_data"
    },
    {
     "name": "stdout",
     "output_type": "stream",
     "text": [
      "\n"
     ]
    }
   ],
   "source": [
    "googlenet_model, googlenet_results = train_model(model_name=\"GoogleNet\", \n",
    "                                                 model_hparams={\"num_classes\": 10, \n",
    "                                                                \"act_fn_name\": \"relu\"}, \n",
    "                                                 optimizer_name=\"Adam\",\n",
    "                                                 optimizer_hparams={\"lr\": 1e-3,\n",
    "                                                                    \"weight_decay\": 1e-4})"
   ]
  },
  {
   "cell_type": "markdown",
   "metadata": {},
   "source": [
    "We will compare the results later in the notebooks, but we can already print them here for a first glance:"
   ]
  },
  {
   "cell_type": "code",
   "execution_count": 19,
   "metadata": {},
   "outputs": [
    {
     "name": "stdout",
     "output_type": "stream",
     "text": [
      "GoogleNet Results {'test': 0.8970000147819519, 'val': 0.9039999842643738}\n"
     ]
    }
   ],
   "source": [
    "print(\"GoogleNet Results\", googlenet_results)"
   ]
  },
  {
   "cell_type": "markdown",
   "metadata": {},
   "source": [
    "### Tensorboard log\n",
    "\n",
    "A nice extra of PyTorch Lightning is the automatic logging into TensorBoard. To give you a better intuition of what TensorBoard can be used, we can look at the board that PyTorch Lightning has been generated when training the GoogleNet. TensorBoard provides an inline functionality for Jupyter notebooks, and we use it here:"
   ]
  },
  {
   "cell_type": "code",
   "execution_count": 20,
   "metadata": {},
   "outputs": [],
   "source": [
    "# Load tensorboard extension\n",
    "%load_ext tensorboard"
   ]
  },
  {
   "cell_type": "code",
   "execution_count": 21,
   "metadata": {},
   "outputs": [],
   "source": [
    "# Opens tensorboard in notebook. Adjust the path to your CHECKPOINT_PATH!\n",
    "%tensorboard --logdir ../saved_models/tutorial5/tensorboards/GoogleNet/"
   ]
  },
  {
   "cell_type": "markdown",
   "metadata": {},
   "source": [
    "<center width=\"100%\"><img src=\"tensorboard_screenshot_GoogleNet.png\" width=\"1000px\"></center>\n",
    "\n",
    "TensorBoard is organized in multiple tabs. The main tab is the scalar tab where we can log the development of single numbers. For example, we have plotted the training loss, accuracy, learning rate, etc. If we look at the training or validation accuracy, we can really see the impact of using a learning rate scheduler. Reducing the learning rate gives our model a nice increase in training performance. Similarly, when looking at the training loss, we see a sudden decrease at this point. However, the high numbers on the training set compared to validation indicate that our model was overfitting which is inevitable for such large networks.\n",
    "\n",
    "Another interesting tab in TensorBoard is the graph tab. It shows us the network architecture organized by building blocks from the input to the output. It basically shows the operations taken in the forward step of `CIFARModule`. Double-click on a module to open it. Feel free to explore the architecture from a different perspective. The graph visualization can often help you to validate that your model is actually doing what it is supposed to do, and you don't miss any layers in the computation graph."
   ]
  },
  {
   "cell_type": "markdown",
   "metadata": {},
   "source": [
    "## ResNet\n",
    "\n",
    "The [ResNet](https://arxiv.org/abs/1512.03385) paper is one of the  [most cited AI papers](https://www.natureindex.com/news-blog/google-scholar-reveals-most-influential-papers-research-citations-twenty-twenty), and has been the foundation for neural networks with more than 1,000 layers. Despite its simplicity, the idea of residual connections is highly effective as it supports stable gradient propagation through the network. Instead of modeling $x_{l+1}=F(x_{l})$, we model $x_{l+1}=x_{l}+F(x_{l})$ where $F$ is a non-linear mapping (usually a sequence of NN modules likes convolutions, activation functions, and normalizations). If we do backpropagation on such residual connections, we obtain:\n",
    "\n",
    "$$\\frac{\\partial x_{l+1}}{\\partial x_{l}} = \\mathbf{I} + \\frac{\\partial F(x_{l})}{\\partial x_{l}}$$\n",
    "\n",
    "The bias towards the identity matrix guarantees a stable gradient propagation being less effected by $F$ itself. There have been many variants of ResNet proposed, which mostly concern the function $F$, or operations applied on the sum. In this tutorial, we look at two of them: the original ResNet block, and the [Pre-Activation ResNet block](https://arxiv.org/abs/1603.05027). We visually compare the blocks below (figure credit - [He et al.](https://arxiv.org/abs/1603.05027)):\n",
    "\n",
    "<center width=\"100%\"><img src=\"resnet_block.svg\" style=\"display: block; margin-left: auto; margin-right: auto;\" width=\"300px\"/></center>\n",
    "\n",
    "The original ResNet block applies a non-linear activation function, usually ReLU, after the skip connection. In contrast, the pre-activation ResNet block applies the non-linearity at the beginning of $F$. Both have their advantages and disadvantages. For very deep network, however, the pre-activation ResNet has shown to perform better as the gradient flow is guaranteed to have the identity matrix as calculated above, and is not harmed by any non-linear activation applied to it. For comparison, in this notebook, we implement both ResNet types as shallow networks.\n",
    "\n",
    "Let's start with the original ResNet block. The visualization above already shows what layers are included in $F$. One special case we have to handle is when we want to reduce the image dimensions in terms of width and height. The basic ResNet block requires $F(x_{l})$ to be of the same shape as $x_{l}$. Thus, we need to change the dimensionality of $x_{l}$ as well before adding to $F(x_{l})$. The original implementation used an identity mapping with stride 2 and padded additional feature dimensions with 0. However, the more common implementation is to use a 1x1 convolution with stride 2 as it allows us to change the feature dimensionality while being efficient in parameter and computation cost. The code for the ResNet block is relatively simple, and shown below:"
   ]
  },
  {
   "cell_type": "code",
   "execution_count": 22,
   "metadata": {},
   "outputs": [],
   "source": [
    "class ResNetBlock(nn.Module):\n",
    "\n",
    "    def __init__(self, c_in, act_fn, subsample=False, c_out=-1):\n",
    "        \"\"\"\n",
    "        Inputs:\n",
    "            c_in - Number of input features\n",
    "            act_fn - Activation class constructor (e.g. nn.ReLU)\n",
    "            subsample - If True, we want to apply a stride inside the block and reduce the output shape by 2 in height and width\n",
    "            c_out - Number of output features. Note that this is only relevant if subsample is True, as otherwise, c_out = c_in\n",
    "        \"\"\"\n",
    "        super().__init__()\n",
    "        if not subsample:\n",
    "            c_out = c_in\n",
    "            \n",
    "        # Network representing F\n",
    "        self.net = nn.Sequential(\n",
    "            nn.Conv2d(c_in, c_out, kernel_size=3, padding=1, stride=1 if not subsample else 2, bias=False),  # No bias needed as the Batch Norm handles it\n",
    "            nn.BatchNorm2d(c_out),\n",
    "            act_fn(),\n",
    "            nn.Conv2d(c_out, c_out, kernel_size=3, padding=1, bias=False),\n",
    "            nn.BatchNorm2d(c_out)\n",
    "        )\n",
    "        \n",
    "        # 1x1 convolution with stride 2 means we take the upper left value, and transform it to new output size\n",
    "        self.downsample = nn.Conv2d(c_in, c_out, kernel_size=1, stride=2) if subsample else None\n",
    "        self.act_fn = act_fn()\n",
    "\n",
    "    def forward(self, x):\n",
    "        z = self.net(x)\n",
    "        if self.downsample is not None:\n",
    "            x = self.downsample(x)\n",
    "        out = z + x\n",
    "        out = self.act_fn(out)\n",
    "        return out"
   ]
  },
  {
   "cell_type": "markdown",
   "metadata": {},
   "source": [
    "The second block we implement is the pre-activation ResNet block. For this, we have to change the order of layer in `self.net`, and do not apply an activation function on the output. Additionally, the downsampling operation has to apply a non-linearity as well as the input, $x_l$, has not been processed by a non-linearity yet. Hence, the block looks as follows:"
   ]
  },
  {
   "cell_type": "code",
   "execution_count": 23,
   "metadata": {},
   "outputs": [],
   "source": [
    "class PreActResNetBlock(nn.Module):\n",
    "\n",
    "    def __init__(self, c_in, act_fn, subsample=False, c_out=-1):\n",
    "        \"\"\"\n",
    "        Inputs:\n",
    "            c_in - Number of input features\n",
    "            act_fn - Activation class constructor (e.g. nn.ReLU)\n",
    "            subsample - If True, we want to apply a stride inside the block and reduce the output shape by 2 in height and width\n",
    "            c_out - Number of output features. Note that this is only relevant if subsample is True, as otherwise, c_out = c_in\n",
    "        \"\"\"\n",
    "        super().__init__()\n",
    "        if not subsample:\n",
    "            c_out = c_in\n",
    "            \n",
    "        # Network representing F\n",
    "        self.net = nn.Sequential(\n",
    "            nn.BatchNorm2d(c_in),\n",
    "            act_fn(),\n",
    "            nn.Conv2d(c_in, c_out, kernel_size=3, padding=1, stride=1 if not subsample else 2, bias=False),\n",
    "            nn.BatchNorm2d(c_out),\n",
    "            act_fn(),\n",
    "            nn.Conv2d(c_out, c_out, kernel_size=3, padding=1, bias=False)\n",
    "        )\n",
    "        \n",
    "        # 1x1 convolution can apply non-linearity as well, but not strictly necessary\n",
    "        self.downsample = nn.Sequential(\n",
    "            nn.BatchNorm2d(c_in),\n",
    "            act_fn(),\n",
    "            nn.Conv2d(c_in, c_out, kernel_size=1, stride=2, bias=False)\n",
    "        ) if subsample else None\n",
    "\n",
    "    def forward(self, x):\n",
    "        z = self.net(x)\n",
    "        if self.downsample is not None:\n",
    "            x = self.downsample(x)\n",
    "        out = z + x\n",
    "        return out"
   ]
  },
  {
   "cell_type": "markdown",
   "metadata": {},
   "source": [
    "Similarly to the model selection, we define a dictionary to create a mapping from string to block class. We will use the string name as hyperparameter value in our model to choose between the ResNet blocks. Feel free to implement any other ResNet block type and add it here as well."
   ]
  },
  {
   "cell_type": "code",
   "execution_count": 24,
   "metadata": {},
   "outputs": [],
   "source": [
    "resnet_blocks_by_name = {\n",
    "    \"ResNetBlock\": ResNetBlock,\n",
    "    \"PreActResNetBlock\": PreActResNetBlock\n",
    "}"
   ]
  },
  {
   "cell_type": "markdown",
   "metadata": {},
   "source": [
    "The overall ResNet architecture consists of stacking multiple ResNet blocks, of which some are downsampling the input. When talking about ResNet blocks in the whole network, we usually group them by the same output shape. Hence, if we say the ResNet has `[3,3,3]` blocks, it means that we have 3 times a group of 3 ResNet blocks, where a subsampling is taking place in the fourth and seventh block. The ResNet with `[3,3,3]` blocks on CIFAR10 is visualized below.\n",
    "\n",
    "<center width=\"100%\"><img src=\"resnet_notation.svg\" width=\"500px\"></center>\n",
    "\n",
    "The three groups operate on the resolutions $32\\times32$, $16\\times16$ and $8\\times8$ respectively. The blocks in orange denote ResNet blocks with downsampling. The same notation is used by many other implementations such as in the [torchvision library](https://pytorch.org/docs/stable/_modules/torchvision/models/resnet.html#resnet18) from PyTorch. Thus, our code looks as follows:"
   ]
  },
  {
   "cell_type": "code",
   "execution_count": 25,
   "metadata": {},
   "outputs": [],
   "source": [
    "class ResNet(nn.Module):\n",
    "\n",
    "    def __init__(self, num_classes=10, num_blocks=[3,3,3], c_hidden=[16,32,64], act_fn_name=\"relu\", block_name=\"ResNetBlock\", **kwargs):\n",
    "        \"\"\"\n",
    "        Inputs: \n",
    "            num_classes - Number of classification outputs (10 for CIFAR10)\n",
    "            num_blocks - List with the number of ResNet blocks to use. The first block of each group uses downsampling, except the first.\n",
    "            c_hidden - List with the hidden dimensionalities in the different blocks. Usually multiplied by 2 the deeper we go.\n",
    "            act_fn_name - Name of the activation function to use, looked up in \"act_fn_by_name\"\n",
    "            block_name - Name of the ResNet block, looked up in \"resnet_blocks_by_name\"\n",
    "        \"\"\"\n",
    "        super().__init__()\n",
    "        assert block_name in resnet_blocks_by_name\n",
    "        self.hparams = SimpleNamespace(num_classes=num_classes, \n",
    "                                       c_hidden=c_hidden, \n",
    "                                       num_blocks=num_blocks, \n",
    "                                       act_fn_name=act_fn_name,\n",
    "                                       act_fn=act_fn_by_name[act_fn_name],\n",
    "                                       block_class=resnet_blocks_by_name[block_name])\n",
    "        self._create_network()\n",
    "        self._init_params()\n",
    "\n",
    "    def _create_network(self):\n",
    "        c_hidden = self.hparams.c_hidden\n",
    "        \n",
    "        # A first convolution on the original image to scale up the channel size\n",
    "        if self.hparams.block_class == PreActResNetBlock: # => Don't apply non-linearity on output\n",
    "            self.input_net = nn.Sequential(\n",
    "                nn.Conv2d(3, c_hidden[0], kernel_size=3, padding=1, bias=False)\n",
    "            )\n",
    "        else:\n",
    "            self.input_net = nn.Sequential(\n",
    "                nn.Conv2d(3, c_hidden[0], kernel_size=3, padding=1, bias=False),\n",
    "                nn.BatchNorm2d(c_hidden[0]),\n",
    "                self.hparams.act_fn()\n",
    "            )\n",
    "        \n",
    "        # Creating the ResNet blocks\n",
    "        blocks = []\n",
    "        for block_idx, block_count in enumerate(self.hparams.num_blocks):\n",
    "            for bc in range(block_count):\n",
    "                subsample = (bc == 0 and block_idx > 0) # Subsample the first block of each group, except the very first one.\n",
    "                blocks.append(\n",
    "                    self.hparams.block_class(c_in=c_hidden[block_idx if not subsample else (block_idx-1)],\n",
    "                                             act_fn=self.hparams.act_fn,\n",
    "                                             subsample=subsample,\n",
    "                                             c_out=c_hidden[block_idx])\n",
    "                )\n",
    "        self.blocks = nn.Sequential(*blocks)\n",
    "        \n",
    "        # Mapping to classification output\n",
    "        self.output_net = nn.Sequential(\n",
    "            nn.AdaptiveAvgPool2d((1,1)),\n",
    "            nn.Flatten(),\n",
    "            nn.Linear(c_hidden[-1], self.hparams.num_classes)\n",
    "        )\n",
    "\n",
    "    def _init_params(self):\n",
    "        # Based on our discussion in Tutorial 4, we should initialize the convolutions according to the activation function\n",
    "        # Fan-out focuses on the gradient distribution, and is commonly used in ResNets\n",
    "        for m in self.modules():\n",
    "            if isinstance(m, nn.Conv2d):\n",
    "                nn.init.kaiming_normal_(m.weight, mode='fan_out', nonlinearity=self.hparams.act_fn_name)\n",
    "            elif isinstance(m, nn.BatchNorm2d):\n",
    "                nn.init.constant_(m.weight, 1)\n",
    "                nn.init.constant_(m.bias, 0)\n",
    "\n",
    "    def forward(self, x):\n",
    "        x = self.input_net(x)\n",
    "        x = self.blocks(x)\n",
    "        x = self.output_net(x)\n",
    "        return x"
   ]
  },
  {
   "cell_type": "markdown",
   "metadata": {},
   "source": [
    "We also need to add the new ResNet class to our model dictionary:"
   ]
  },
  {
   "cell_type": "code",
   "execution_count": 26,
   "metadata": {},
   "outputs": [],
   "source": [
    "model_dict[\"ResNet\"] = ResNet"
   ]
  },
  {
   "cell_type": "markdown",
   "metadata": {},
   "source": [
    "Finally, we can train our ResNet models. One difference to the GoogleNet training is that we explicitly use SGD with Momentum as optimizer instead of Adam. Adam often leads to a slightly worse accuracy on plain, shallow ResNets. It is not 100% clear why Adam performs worse in this context, but one possible explanation is related to ResNet's loss surface. ResNet has been shown to produce smoother loss surfaces than networks without skip connection (see [Li et al., 2018](https://arxiv.org/pdf/1712.09913.pdf) for details). A possible visualization of the loss surface with/out skip connections is below (figure credit - [Li et al.](https://arxiv.org/pdf/1712.09913.pdf)):\n",
    "\n",
    "<center width=\"100%\"><img src=\"resnet_loss_surface.svg\" style=\"display: block; margin-left: auto; margin-right: auto;\" width=\"600px\"/></center>\n",
    "\n",
    "The $x$ and $y$ axis shows a projection of the parameter space, and the $z$ axis shows the loss values achieved by different parameter values. On smooth surfaces like the one on the right, we might not require an adaptive learning rate as Adam provides. Instead, Adam can get stuck in local optima while SGD finds the wider minima that tend to generalize better.\n",
    "However, to answer this question in detail, we would need an extra tutorial because it is not easy to answer. For now, we conclude: for ResNet architectures, consider the optimizer to be an important hyperparameter, and try training with both Adam and SGD. Let's train the model below with SGD:"
   ]
  },
  {
   "cell_type": "code",
   "execution_count": 27,
   "metadata": {},
   "outputs": [
    {
     "name": "stderr",
     "output_type": "stream",
     "text": [
      "GPU available: True, used: True\n",
      "WARNING: Logging before flag parsing goes to stderr.\n",
      "I1109 15:33:03.301807 139927971620672 distributed.py:49] GPU available: True, used: True\n",
      "TPU available: False, using: 0 TPU cores\n",
      "I1109 15:33:03.303210 139927971620672 distributed.py:49] TPU available: False, using: 0 TPU cores\n",
      "LOCAL_RANK: 0 - CUDA_VISIBLE_DEVICES: [0]\n",
      "I1109 15:33:03.304439 139927971620672 accelerator_connector.py:385] LOCAL_RANK: 0 - CUDA_VISIBLE_DEVICES: [0]\n"
     ]
    },
    {
     "name": "stdout",
     "output_type": "stream",
     "text": [
      "Found pretrained model at ../saved_models/tutorial5/ResNet.ckpt, loading...\n"
     ]
    },
    {
     "data": {
      "application/vnd.jupyter.widget-view+json": {
       "model_id": "6b8d58c74e1e44fa92d5373642aa0bc4",
       "version_major": 2,
       "version_minor": 0
      },
      "text/plain": [
       "HBox(children=(FloatProgress(value=1.0, bar_style='info', description='Testing', layout=Layout(flex='2'), max=…"
      ]
     },
     "metadata": {},
     "output_type": "display_data"
    },
    {
     "name": "stdout",
     "output_type": "stream",
     "text": [
      "\n"
     ]
    },
    {
     "data": {
      "application/vnd.jupyter.widget-view+json": {
       "model_id": "c94d4d46e7e34ed39b9f27598dd4eceb",
       "version_major": 2,
       "version_minor": 0
      },
      "text/plain": [
       "HBox(children=(FloatProgress(value=1.0, bar_style='info', description='Testing', layout=Layout(flex='2'), max=…"
      ]
     },
     "metadata": {},
     "output_type": "display_data"
    },
    {
     "name": "stdout",
     "output_type": "stream",
     "text": [
      "\n"
     ]
    }
   ],
   "source": [
    "resnet_model, resnet_results = train_model(model_name=\"ResNet\", \n",
    "                                           model_hparams={\"num_classes\": 10,\n",
    "                                                          \"c_hidden\": [16,32,64],\n",
    "                                                          \"num_blocks\": [3,3,3],\n",
    "                                                          \"act_fn_name\": \"relu\"}, \n",
    "                                           optimizer_name=\"SGD\",\n",
    "                                           optimizer_hparams={\"lr\": 0.1,\n",
    "                                                              \"momentum\": 0.9,\n",
    "                                                              \"weight_decay\": 1e-4})"
   ]
  },
  {
   "cell_type": "markdown",
   "metadata": {},
   "source": [
    "Let's also train the pre-activation ResNet as comparison:"
   ]
  },
  {
   "cell_type": "code",
   "execution_count": 28,
   "metadata": {},
   "outputs": [
    {
     "name": "stderr",
     "output_type": "stream",
     "text": [
      "GPU available: True, used: True\n",
      "I1109 15:33:06.813361 139927971620672 distributed.py:49] GPU available: True, used: True\n",
      "TPU available: False, using: 0 TPU cores\n",
      "I1109 15:33:06.815118 139927971620672 distributed.py:49] TPU available: False, using: 0 TPU cores\n",
      "LOCAL_RANK: 0 - CUDA_VISIBLE_DEVICES: [0]\n",
      "I1109 15:33:06.816660 139927971620672 accelerator_connector.py:385] LOCAL_RANK: 0 - CUDA_VISIBLE_DEVICES: [0]\n"
     ]
    },
    {
     "name": "stdout",
     "output_type": "stream",
     "text": [
      "Found pretrained model at ../saved_models/tutorial5/ResNetPreAct.ckpt, loading...\n"
     ]
    },
    {
     "data": {
      "application/vnd.jupyter.widget-view+json": {
       "model_id": "e10ef50b63a642c697df95a6b886a445",
       "version_major": 2,
       "version_minor": 0
      },
      "text/plain": [
       "HBox(children=(FloatProgress(value=1.0, bar_style='info', description='Testing', layout=Layout(flex='2'), max=…"
      ]
     },
     "metadata": {},
     "output_type": "display_data"
    },
    {
     "name": "stdout",
     "output_type": "stream",
     "text": [
      "\n"
     ]
    },
    {
     "data": {
      "application/vnd.jupyter.widget-view+json": {
       "model_id": "ed6a682303d144108f45c3c851f40644",
       "version_major": 2,
       "version_minor": 0
      },
      "text/plain": [
       "HBox(children=(FloatProgress(value=1.0, bar_style='info', description='Testing', layout=Layout(flex='2'), max=…"
      ]
     },
     "metadata": {},
     "output_type": "display_data"
    },
    {
     "name": "stdout",
     "output_type": "stream",
     "text": [
      "\n"
     ]
    }
   ],
   "source": [
    "resnetpreact_model, resnetpreact_results = train_model(model_name=\"ResNet\", \n",
    "                                                       model_hparams={\"num_classes\": 10,\n",
    "                                                                      \"c_hidden\": [16,32,64],\n",
    "                                                                      \"num_blocks\": [3,3,3],\n",
    "                                                                      \"act_fn_name\": \"relu\",\n",
    "                                                                      \"block_name\": \"PreActResNetBlock\"}, \n",
    "                                                       optimizer_name=\"SGD\",\n",
    "                                                       optimizer_hparams={\"lr\": 0.1,\n",
    "                                                                          \"momentum\": 0.9,\n",
    "                                                                          \"weight_decay\": 1e-4},\n",
    "                                                       save_name=\"ResNetPreAct\")"
   ]
  },
  {
   "cell_type": "markdown",
   "metadata": {},
   "source": [
    "### Tensorboard log\n",
    "\n",
    "Similarly to our GoogleNet model, we also have a TensorBoard log for the ResNet model. We can open it below."
   ]
  },
  {
   "cell_type": "code",
   "execution_count": 29,
   "metadata": {},
   "outputs": [],
   "source": [
    "# Opens tensorboard in notebook. Adjust the path to your CHECKPOINT_PATH! Feel free to change \"ResNet\" to \"ResNetPreAct\"\n",
    "%tensorboard --logdir ../saved_models/tutorial5/tensorboards/ResNet/"
   ]
  },
  {
   "cell_type": "markdown",
   "metadata": {},
   "source": [
    "<center width=\"100%\"><img src=\"tensorboard_screenshot_ResNet.png\" width=\"1000px\"></center>\n",
    "\n",
    "Feel free to explore the TensorBoard yourself, including the computation graph. In general, we can see that with SGD, the ResNet has a higher training loss than the GoogleNet in the first stage of the training. After reducing the learning rate however, the model achieves even higher validation accuracies. We compare the precise scores at the end of the notebook."
   ]
  },
  {
   "cell_type": "markdown",
   "metadata": {},
   "source": [
    "## DenseNet\n",
    "\n",
    "[DenseNet](https://arxiv.org/abs/1608.06993) is another architecture for enabling very deep neural networks and takes a slightly different perspective on residual connections. Instead of modeling the difference between layers, DenseNet considers residual connections as a possible way to reuse features across layers, removing any necessity to learn redundant feature maps. If we go deeper into the network, the model learns abstract features to recognize patterns. However, some complex patterns consist of a combination of abstract features (e.g. hand, face, etc.), and low-level features (e.g. edges, basic color, etc.). To find these low-level features in the deep layers, standard CNNs have to learn copy such feature maps, which wastes a lot of parameter complexity. DenseNet provides an efficient way of reusing features by having each convolution depends on all previous input features, but add only a small amount of filters to it. See the figure below for an illustration (figure credit - [Hu et al.](https://arxiv.org/abs/1608.06993)):\n",
    "\n",
    "<center width=\"100%\"><img src=\"densenet_block.svg\" style=\"display: block; margin-left: auto; margin-right: auto;\" width=\"500px\"/></center>\n",
    "\n",
    "The last layer, called the transition layer, is responsible for reducing the dimensionality of the feature maps in height, width, and channel size. Although those technically break the identity backpropagation, there are only a few in a network so that it doesn't affect the gradient flow much. \n",
    "\n",
    "We split the implementation of the layers in DenseNet into three parts: a `DenseLayer`, and a `DenseBlock`, and a `TransitionLayer`. The module `DenseLayer` implements a single layer inside a dense block. It applies a 1x1 convolution for dimensionality reduction with a subsequential 3x3 convolution. The output channels are concatenated to the originals and returned. Note that we apply the Batch Normalization as the first layer of each block. This allows slightly different activations for the same features to different layers, depending on what is needed. Overall, we can implement it as follows:"
   ]
  },
  {
   "cell_type": "code",
   "execution_count": 30,
   "metadata": {},
   "outputs": [],
   "source": [
    "class DenseLayer(nn.Module):\n",
    "    \n",
    "    def __init__(self, c_in, bn_size, growth_rate, act_fn):\n",
    "        \"\"\"\n",
    "        Inputs:\n",
    "            c_in - Number of input channels\n",
    "            bn_size - Bottleneck size (factor of growth rate) for the output of the 1x1 convolution. Typically between 2 and 4.\n",
    "            growth_rate - Number of output channels of the 3x3 convolution\n",
    "            act_fn - Activation class constructor (e.g. nn.ReLU)\n",
    "        \"\"\"\n",
    "        super().__init__()\n",
    "        self.net = nn.Sequential(\n",
    "            nn.BatchNorm2d(c_in),\n",
    "            act_fn(),\n",
    "            nn.Conv2d(c_in, bn_size * growth_rate, kernel_size=1, bias=False),\n",
    "            nn.BatchNorm2d(bn_size * growth_rate),\n",
    "            act_fn(),\n",
    "            nn.Conv2d(bn_size * growth_rate, growth_rate, kernel_size=3, padding=1, bias=False)\n",
    "        )\n",
    "        \n",
    "    def forward(self, x):\n",
    "        out = self.net(x)\n",
    "        out = torch.cat([out, x], dim=1)\n",
    "        return out"
   ]
  },
  {
   "cell_type": "markdown",
   "metadata": {},
   "source": [
    "The module `DenseBlock` summarizes multiple dense layers applied in sequence. Each dense layer takes as input the original input concatenated with all previous layers' feature maps:"
   ]
  },
  {
   "cell_type": "code",
   "execution_count": 31,
   "metadata": {},
   "outputs": [],
   "source": [
    "class DenseBlock(nn.Module):\n",
    "    \n",
    "    def __init__(self, c_in, num_layers, bn_size, growth_rate, act_fn):\n",
    "        \"\"\"\n",
    "        Inputs:\n",
    "            c_in - Number of input channels\n",
    "            num_layers - Number of dense layers to apply in the block\n",
    "            bn_size - Bottleneck size to use in the dense layers\n",
    "            growth_rate - Growth rate to use in the dense layers\n",
    "            act_fn - Activation function to use in the dense layers\n",
    "        \"\"\"\n",
    "        super().__init__()\n",
    "        layers = []\n",
    "        for layer_idx in range(num_layers):\n",
    "            layers.append(\n",
    "                DenseLayer(c_in=c_in + layer_idx * growth_rate, # Input channels are original plus the feature maps from previous layers\n",
    "                           bn_size=bn_size,\n",
    "                           growth_rate=growth_rate,\n",
    "                           act_fn=act_fn)\n",
    "            )\n",
    "        self.block = nn.Sequential(*layers)\n",
    "        \n",
    "    def forward(self, x):\n",
    "        out = self.block(x)\n",
    "        return out"
   ]
  },
  {
   "cell_type": "markdown",
   "metadata": {},
   "source": [
    "Finally, the `TransitionLayer` takes as input the final output of a dense block and reduces its channel dimensionality using a 1x1 convolution. To reduce the height and width dimension, we take a slightly different approach than in ResNet and apply an average pooling with kernel size 2 and stride 2. This is because we don't have an additional connection to the output that would consider the full 2x2 patch instead of a single value. Besides, it is more parameter efficient than using a 3x3 convolution with stride 2. Thus, the layer is implemented as follows:"
   ]
  },
  {
   "cell_type": "code",
   "execution_count": 32,
   "metadata": {},
   "outputs": [],
   "source": [
    "class TransitionLayer(nn.Module):\n",
    "    \n",
    "    def __init__(self, c_in, c_out, act_fn):\n",
    "        super().__init__()\n",
    "        self.transition = nn.Sequential(\n",
    "            nn.BatchNorm2d(c_in),\n",
    "            act_fn(),\n",
    "            nn.Conv2d(c_in, c_out, kernel_size=1, bias=False),\n",
    "            nn.AvgPool2d(kernel_size=2, stride=2) # Average the output for each 2x2 pixel group\n",
    "        )\n",
    "        \n",
    "    def forward(self, x):\n",
    "        return self.transition(x)"
   ]
  },
  {
   "cell_type": "markdown",
   "metadata": {},
   "source": [
    "Now we can put everything together and create our DenseNet. To specify the number of layers, we use a similar notation as in ResNets and pass on a list of ints representing the number of layers per block. After each dense block except the last one, we apply a transition layer to reduce the dimensionality by 2. "
   ]
  },
  {
   "cell_type": "code",
   "execution_count": 33,
   "metadata": {},
   "outputs": [],
   "source": [
    "class DenseNet(nn.Module):\n",
    "    \n",
    "    def __init__(self, num_classes=10, num_layers=[6,6,6,6], bn_size=2, growth_rate=16, act_fn_name=\"relu\", **kwargs):\n",
    "        super().__init__()\n",
    "        self.hparams = SimpleNamespace(num_classes=num_classes,\n",
    "                                       num_layers=num_layers,\n",
    "                                       bn_size=bn_size,\n",
    "                                       growth_rate=growth_rate,\n",
    "                                       act_fn_name=act_fn_name,\n",
    "                                       act_fn=act_fn_by_name[act_fn_name])\n",
    "        self._create_network()\n",
    "        self._init_params()\n",
    "        \n",
    "    def _create_network(self):\n",
    "        c_hidden = self.hparams.growth_rate * self.hparams.bn_size # The start number of hidden channels\n",
    "        \n",
    "        # A first convolution on the original image to scale up the channel size\n",
    "        self.input_net = nn.Sequential(\n",
    "            nn.Conv2d(3, c_hidden, kernel_size=3, padding=1) # No batch norm or activation function as done inside the Dense layers\n",
    "        )\n",
    "        \n",
    "        # Creating the dense blocks, eventually including transition layers\n",
    "        blocks = []\n",
    "        for block_idx, num_layers in enumerate(self.hparams.num_layers):\n",
    "            blocks.append( \n",
    "                DenseBlock(c_in=c_hidden, \n",
    "                           num_layers=num_layers, \n",
    "                           bn_size=self.hparams.bn_size,\n",
    "                           growth_rate=self.hparams.growth_rate,\n",
    "                           act_fn=self.hparams.act_fn)\n",
    "            )\n",
    "            c_hidden = c_hidden + num_layers * self.hparams.growth_rate # Overall output of the dense block\n",
    "            if block_idx < len(self.hparams.num_layers)-1: # Don't apply transition layer on last block\n",
    "                blocks.append(\n",
    "                    TransitionLayer(c_in=c_hidden,\n",
    "                                    c_out=c_hidden // 2,\n",
    "                                    act_fn=self.hparams.act_fn))\n",
    "                c_hidden = c_hidden // 2\n",
    "                \n",
    "        self.blocks = nn.Sequential(*blocks)\n",
    "        \n",
    "        # Mapping to classification output\n",
    "        self.output_net = nn.Sequential(\n",
    "            nn.BatchNorm2d(c_hidden), # The features have not passed a non-linearity until here.\n",
    "            self.hparams.act_fn(),\n",
    "            nn.AdaptiveAvgPool2d((1,1)),\n",
    "            nn.Flatten(),\n",
    "            nn.Linear(c_hidden, self.hparams.num_classes)\n",
    "        )\n",
    "\n",
    "    def _init_params(self):\n",
    "        # Based on our discussion in Tutorial 4, we should initialize the convolutions according to the activation function\n",
    "        for m in self.modules():\n",
    "            if isinstance(m, nn.Conv2d):\n",
    "                nn.init.kaiming_normal_(m.weight, nonlinearity=self.hparams.act_fn_name)\n",
    "            elif isinstance(m, nn.BatchNorm2d):\n",
    "                nn.init.constant_(m.weight, 1)\n",
    "                nn.init.constant_(m.bias, 0)\n",
    "\n",
    "    def forward(self, x):\n",
    "        x = self.input_net(x)\n",
    "        x = self.blocks(x)\n",
    "        x = self.output_net(x)\n",
    "        return x"
   ]
  },
  {
   "cell_type": "markdown",
   "metadata": {},
   "source": [
    "Let's also add the DenseNet to our model dictionary:"
   ]
  },
  {
   "cell_type": "code",
   "execution_count": 34,
   "metadata": {},
   "outputs": [],
   "source": [
    "model_dict[\"DenseNet\"] = DenseNet"
   ]
  },
  {
   "cell_type": "markdown",
   "metadata": {},
   "source": [
    "Lastly, we train our network. In contrast to ResNet, DenseNet does not show any issues with Adam, and hence we train it with this optimizer. The other hyperparameters are chosen to result in a network with a similar parameter size as the ResNet and GoogleNet. Commonly, when designing very deep networks, DenseNet is more parameter efficient than ResNet while achieving a similar or even better performance."
   ]
  },
  {
   "cell_type": "code",
   "execution_count": 35,
   "metadata": {},
   "outputs": [
    {
     "name": "stderr",
     "output_type": "stream",
     "text": [
      "GPU available: True, used: True\n",
      "I1109 15:33:10.534986 139927971620672 distributed.py:49] GPU available: True, used: True\n",
      "TPU available: False, using: 0 TPU cores\n",
      "I1109 15:33:10.536422 139927971620672 distributed.py:49] TPU available: False, using: 0 TPU cores\n",
      "LOCAL_RANK: 0 - CUDA_VISIBLE_DEVICES: [0]\n",
      "I1109 15:33:10.538130 139927971620672 accelerator_connector.py:385] LOCAL_RANK: 0 - CUDA_VISIBLE_DEVICES: [0]\n"
     ]
    },
    {
     "name": "stdout",
     "output_type": "stream",
     "text": [
      "Found pretrained model at ../saved_models/tutorial5/DenseNet.ckpt, loading...\n"
     ]
    },
    {
     "data": {
      "application/vnd.jupyter.widget-view+json": {
       "model_id": "c3344ac0dc95442090091a0c35b12e44",
       "version_major": 2,
       "version_minor": 0
      },
      "text/plain": [
       "HBox(children=(FloatProgress(value=1.0, bar_style='info', description='Testing', layout=Layout(flex='2'), max=…"
      ]
     },
     "metadata": {},
     "output_type": "display_data"
    },
    {
     "name": "stdout",
     "output_type": "stream",
     "text": [
      "\n"
     ]
    },
    {
     "data": {
      "application/vnd.jupyter.widget-view+json": {
       "model_id": "c2be2ba348dc407a8bbfaa33b030cabf",
       "version_major": 2,
       "version_minor": 0
      },
      "text/plain": [
       "HBox(children=(FloatProgress(value=1.0, bar_style='info', description='Testing', layout=Layout(flex='2'), max=…"
      ]
     },
     "metadata": {},
     "output_type": "display_data"
    },
    {
     "name": "stdout",
     "output_type": "stream",
     "text": [
      "\n"
     ]
    }
   ],
   "source": [
    "densenet_model, densenet_results = train_model(model_name=\"DenseNet\", \n",
    "                                               model_hparams={\"num_classes\": 10,\n",
    "                                                              \"num_layers\": [6,6,6,6],\n",
    "                                                              \"bn_size\": 2,\n",
    "                                                              \"growth_rate\": 16,\n",
    "                                                              \"act_fn_name\": \"relu\"}, \n",
    "                                               optimizer_name=\"Adam\",\n",
    "                                               optimizer_hparams={\"lr\": 1e-3,\n",
    "                                                                  \"weight_decay\": 1e-4})"
   ]
  },
  {
   "cell_type": "markdown",
   "metadata": {},
   "source": [
    "### Tensorboard log\n",
    "\n",
    "Finally, we also have another TensorBoard for the DenseNet training. We take a look at it below:"
   ]
  },
  {
   "cell_type": "code",
   "execution_count": 36,
   "metadata": {
    "scrolled": false
   },
   "outputs": [],
   "source": [
    "# Opens tensorboard in notebook. Adjust the path to your CHECKPOINT_PATH!\n",
    "%tensorboard --logdir ../saved_models/tutorial5/tensorboards/DenseNet/"
   ]
  },
  {
   "cell_type": "markdown",
   "metadata": {},
   "source": [
    "<center width=\"100%\"><img src=\"tensorboard_screenshot_DenseNet.png\" width=\"1000px\"></center>\n",
    "\n",
    "The overall course of the validation accuracy and training loss resemble the training of GoogleNet, which is also related to training the network with Adam. Feel free to explore the training metrics yourself."
   ]
  },
  {
   "cell_type": "markdown",
   "metadata": {},
   "source": [
    "## Conclusion and Comparison\n",
    "\n",
    "After discussing each model separately, and training all of them, we can finally compare them. First, let's organize the results of all models in a table:"
   ]
  },
  {
   "cell_type": "code",
   "execution_count": 37,
   "metadata": {},
   "outputs": [
    {
     "data": {
      "text/html": [
       "<!-- Some HTML code to increase font size in the following table -->\n",
       "<style>\n",
       "th {font-size: 120%;}\n",
       "td {font-size: 120%;}\n",
       "</style>\n"
      ],
      "text/plain": [
       "<IPython.core.display.HTML object>"
      ]
     },
     "metadata": {},
     "output_type": "display_data"
    }
   ],
   "source": [
    "%%html\n",
    "<!-- Some HTML code to increase font size in the following table -->\n",
    "<style>\n",
    "th {font-size: 120%;}\n",
    "td {font-size: 120%;}\n",
    "</style>"
   ]
  },
  {
   "cell_type": "code",
   "execution_count": 38,
   "metadata": {},
   "outputs": [
    {
     "data": {
      "text/html": [
       "<table>\n",
       "<thead>\n",
       "<tr><th>Model       </th><th>Val Accuracy  </th><th>Test Accuracy  </th><th>Num Parameters  </th></tr>\n",
       "</thead>\n",
       "<tbody>\n",
       "<tr><td>GoogleNet   </td><td>90.40%        </td><td>89.70%         </td><td>260,650         </td></tr>\n",
       "<tr><td>ResNet      </td><td>91.84%        </td><td>91.06%         </td><td>272,378         </td></tr>\n",
       "<tr><td>ResNetPreAct</td><td>91.80%        </td><td>91.07%         </td><td>272,250         </td></tr>\n",
       "<tr><td>DenseNet    </td><td>90.72%        </td><td>90.23%         </td><td>239,146         </td></tr>\n",
       "</tbody>\n",
       "</table>"
      ],
      "text/plain": [
       "<IPython.core.display.HTML object>"
      ]
     },
     "metadata": {},
     "output_type": "display_data"
    }
   ],
   "source": [
    "import tabulate\n",
    "from IPython.display import display, HTML\n",
    "all_models = [\n",
    "    (\"GoogleNet\", googlenet_results, googlenet_model),\n",
    "    (\"ResNet\", resnet_results, resnet_model),\n",
    "    (\"ResNetPreAct\", resnetpreact_results, resnetpreact_model),\n",
    "    (\"DenseNet\", densenet_results, densenet_model)\n",
    "]\n",
    "table = [[model_name,\n",
    "          f\"{100.0*model_results['val']:4.2f}%\",\n",
    "          f\"{100.0*model_results['test']:4.2f}%\",\n",
    "          \"{:,}\".format(sum([np.prod(p.shape) for p in model.parameters()]))]\n",
    "         for model_name, model_results, model in all_models]\n",
    "display(HTML(tabulate.tabulate(table, tablefmt='html', headers=[\"Model\", \"Val Accuracy\", \"Test Accuracy\", \"Num Parameters\"])))"
   ]
  },
  {
   "cell_type": "markdown",
   "metadata": {},
   "source": [
    "First of all, we see that all models are performing reasonably well. Simple models as you have implemented them in the practical achieve considerably lower performance, which is beside the lower number of parameters also attributed to the architecture design choice. GoogleNet is the model to obtain the lowest performance on the validation and test set, although it is very close to DenseNet. A proper hyperparameter search over all the channel sizes in GoogleNet would likely improve the accuracy of the model to a similar level, but this is also expensive given a large number of hyperparameters. ResNet outperforms both DenseNet and GoogleNet by more than 1% on the validation set, while there is a minor difference between both versions, original and pre-activation. We can conclude that for shallow networks, the place of the activation function does not seem to be crucial, although papers have reported the contrary for very deep networks (e.g. [He et al.](https://arxiv.org/abs/1603.05027)). \n",
    "\n",
    "In general, we can conclude that ResNet is a simple, but powerful architecture. If we would apply the models on more complex tasks with larger images and more layers inside the networks, we would likely see a bigger gap between GoogleNet and skip-connection architectures like ResNet and DenseNet. A comparison with deeper models on CIFAR10 can be for example found [here](https://github.com/kuangliu/pytorch-cifar). Interestingly, DenseNet outperforms the original ResNet on their setup but comes closely behind the Pre-Activation ResNet. The best model, a Dual Path Network ([Chen et. al](https://arxiv.org/abs/1707.01629)), is actually a combination of ResNet and DenseNet showing that both offer different advantages."
   ]
  },
  {
   "cell_type": "markdown",
   "metadata": {},
   "source": [
    "### Which model should I choose for my task?\n",
    "\n",
    "We have reviewed four different models. So, which one should we choose if have given a new task? Usually, starting with a ResNet is a good idea given the superior performance of the CIFAR dataset and its simple implementation. Besides, for the parameter number we have chosen here, ResNet is the fastest as DenseNet and GoogleNet have many more layers that are applied in sequence in our primitive implementation. However, if you have a really difficult task, such as semantic segmentation on HD images, more complex variants of ResNet and DenseNet are recommended.  "
   ]
  },
  {
   "cell_type": "markdown",
   "metadata": {},
   "source": [
    "---\n",
    "\n",
    "[![Star our repository](https://img.shields.io/static/v1.svg?logo=star&label=⭐&message=Star%20Our%20Repository&color=yellow)](https://github.com/phlippe/uvadlc_notebooks/)  If you found this tutorial helpful, consider ⭐-ing our repository.    \n",
    "[![Ask questions](https://img.shields.io/static/v1.svg?logo=star&label=❔&message=Ask%20Questions&color=9cf)](https://github.com/phlippe/uvadlc_notebooks/issues)  For any questions, typos, or bugs that you found, please raise an issue on GitHub. \n",
    "\n",
    "---"
   ]
  }
 ],
 "metadata": {
  "kernelspec": {
   "display_name": "Python 3",
   "language": "python",
   "name": "python3"
  },
  "language_info": {
   "codemirror_mode": {
    "name": "ipython",
    "version": 3
   },
   "file_extension": ".py",
   "mimetype": "text/x-python",
   "name": "python",
   "nbconvert_exporter": "python",
   "pygments_lexer": "ipython3",
   "version": "3.7.9"
  }
 },
 "nbformat": 4,
 "nbformat_minor": 4
}
